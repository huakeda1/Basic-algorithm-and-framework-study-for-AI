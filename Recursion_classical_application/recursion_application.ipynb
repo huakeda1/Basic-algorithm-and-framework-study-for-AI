{
 "cells": [
  {
   "cell_type": "code",
   "execution_count": 1,
   "metadata": {},
   "outputs": [],
   "source": [
    "import copy\n",
    "import networkx as nx\n",
    "from collections import defaultdict\n",
    "from functools import lru_cache"
   ]
  },
  {
   "cell_type": "code",
   "execution_count": 2,
   "metadata": {},
   "outputs": [],
   "source": [
    "def permutation(elements:list):\n",
    "    if not elements: return [[]]\n",
    "    head=elements[0]\n",
    "    remain=permutation(elements[1:])\n",
    "    return [r[:i]+[head]+r[i:] for i in range(len(elements)) for r in remain]"
   ]
  },
  {
   "cell_type": "code",
   "execution_count": 3,
   "metadata": {},
   "outputs": [],
   "source": [
    "def merge_sort(elements:list):\n",
    "    if len(elements)==1:return elements\n",
    "    mid_index=len(elements)//2\n",
    "    left=merge_sort(elements[:mid_index])\n",
    "    right=merge_sort(elements[mid_index:])\n",
    "    sorted_value=[]\n",
    "    while(left and right):\n",
    "        left_value=left[0]\n",
    "        right_value=right[0]\n",
    "        if(left_value<=right_value):\n",
    "            sorted_value.append(left_value)\n",
    "            left.pop(0)\n",
    "        else:\n",
    "            sorted_value.append(right_value)\n",
    "            right.pop(0)\n",
    "    sorted_value+=(left or right)\n",
    "    return sorted_value"
   ]
  },
  {
   "cell_type": "code",
   "execution_count": 4,
   "metadata": {},
   "outputs": [],
   "source": [
    "def quick_sort(elements:list):\n",
    "    if not elements:return elements\n",
    "    head=elements[0]\n",
    "    return quick_sort([item for item in elements[1:] if item<=head])+[head]+quick_sort([item for item in elements[1:] if item>head])"
   ]
  },
  {
   "cell_type": "code",
   "execution_count": 5,
   "metadata": {},
   "outputs": [],
   "source": [
    "simple_graph={\n",
    "    'A':'B C D'.split(),\n",
    "    'B':'A'.split(),\n",
    "    'C':'A E'.split(),\n",
    "    'D':'A'.split(),\n",
    "    'E':'F C G W'.split(),\n",
    "    'W':'E'.split(),\n",
    "    'F':'H I E'.split(),\n",
    "    'G':'H E'.split(),\n",
    "    'H':'I F G'.split()\n",
    "}\n",
    "\n",
    "def get_mapping_graph(graph):\n",
    "    mapping_graph=defaultdict(set)\n",
    "    for key,nodes in graph.items():\n",
    "        mapping_graph[key].update(nodes)\n",
    "        for node in nodes:\n",
    "            mapping_graph[node].add(key)\n",
    "    mapping_graph={key:list(nodes) for key,nodes in mapping_graph.items()}\n",
    "    return mapping_graph"
   ]
  },
  {
   "cell_type": "code",
   "execution_count": 6,
   "metadata": {},
   "outputs": [
    {
     "data": {
      "text/plain": [
       "{'A': ['B', 'D', 'C'],\n",
       " 'B': ['A'],\n",
       " 'C': ['A', 'E'],\n",
       " 'D': ['A'],\n",
       " 'E': ['W', 'G', 'F', 'C'],\n",
       " 'F': ['H', 'I', 'E'],\n",
       " 'G': ['H', 'E'],\n",
       " 'W': ['E'],\n",
       " 'H': ['G', 'I', 'F'],\n",
       " 'I': ['H', 'F']}"
      ]
     },
     "execution_count": 6,
     "metadata": {},
     "output_type": "execute_result"
    }
   ],
   "source": [
    "get_mapping_graph(simple_graph)"
   ]
  },
  {
   "cell_type": "code",
   "execution_count": 7,
   "metadata": {},
   "outputs": [],
   "source": [
    "import networkx as nx\n",
    "import copy"
   ]
  },
  {
   "cell_type": "code",
   "execution_count": 8,
   "metadata": {},
   "outputs": [
    {
     "name": "stderr",
     "output_type": "stream",
     "text": [
      "/opt/conda/lib/python3.7/site-packages/networkx/drawing/nx_pylab.py:563: MatplotlibDeprecationWarning: \n",
      "The iterable function was deprecated in Matplotlib 3.1 and will be removed in 3.3. Use np.iterable instead.\n",
      "  if not cb.iterable(width):\n",
      "/opt/conda/lib/python3.7/site-packages/networkx/drawing/nx_pylab.py:611: MatplotlibDeprecationWarning: \n",
      "The is_numlike function was deprecated in Matplotlib 3.0 and will be removed in 3.2. Use isinstance(..., numbers.Number) instead.\n",
      "  if cb.is_numlike(alpha):\n",
      "findfont: Font family ['sans-serif'] not found. Falling back to DejaVu Sans.\n"
     ]
    },
    {
     "data": {
      "image/png": "[encoded data removed]",
      "text/plain": [
       "<Figure size 432x288 with 1 Axes>"
      ]
     },
     "metadata": {},
     "output_type": "display_data"
    }
   ],
   "source": [
    "nx.draw(nx.Graph(get_mapping_graph(simple_graph)),with_labels=True)"
   ]
  },
  {
   "cell_type": "code",
   "execution_count": 9,
   "metadata": {},
   "outputs": [],
   "source": [
    "def traverse_graph(start,connections,path):\n",
    "    # if not connections:return [start]\n",
    "    if start not in connections:\n",
    "        path.append(start)\n",
    "        return\n",
    "    subgraph=connections[start]\n",
    "    path.append(start)\n",
    "    for node in subgraph:\n",
    "        #if node not in connections:continue\n",
    "        if node in path:continue\n",
    "        traverse_graph(node,connections,path)"
   ]
  },
  {
   "cell_type": "code",
   "execution_count": 10,
   "metadata": {},
   "outputs": [
    {
     "name": "stdout",
     "output_type": "stream",
     "text": [
      "['B', 'A', 'C', 'E', 'F', 'H', 'I', 'G', 'W', 'D']\n"
     ]
    }
   ],
   "source": [
    "path=[]\n",
    "traverse_graph(\"B\",simple_graph,path)\n",
    "print(path)"
   ]
  },
  {
   "cell_type": "code",
   "execution_count": 11,
   "metadata": {},
   "outputs": [],
   "source": [
    "solution={}\n",
    "@lru_cache(maxsize=2**10)\n",
    "def edit_distance(string1,string2):\n",
    "    if len(string1)==0 and len(string2)!=0:\n",
    "        string1_increase=(edit_distance(string1,string2[:-1])+1,'insert {}'.format(string2[-1]))\n",
    "        candidates=[string1_increase]\n",
    "    elif len(string1)!=0 and len(string2)==0:\n",
    "        string1_decrease=(edit_distance(string1[:-1],string2)+1,'del {}'.format(string1[-1]))\n",
    "        candidates=[string1_decrease]\n",
    "    elif len(string1)==0 and len(string2)==0:\n",
    "        return 0\n",
    "    else:\n",
    "        if(string1[-1]==string2[-1]):\n",
    "            string12_decrease=(edit_distance(string1[:-1],string2[:-1])+0,'go_ahead')\n",
    "        else:\n",
    "            string12_decrease=(edit_distance(string1[:-1],string2[:-1])+1,'replace {}=>{}'.format(string1[-1],string2[-1]))\n",
    "        string1_increase=(edit_distance(string1,string2[:-1])+1,'insert {}'.format(string2[-1]))\n",
    "        string1_decrease=(edit_distance(string1[:-1],string2)+1,'del {}'.format(string1[-1]))\n",
    "        candidates=[string12_decrease,string1_increase,string1_decrease]\n",
    "    min_distance,operation=min(candidates,key=lambda x:x[0])\n",
    "    solution[(string1,string2)]=operation\n",
    "    return min_distance\n",
    "\n",
    "def parse_solution(solution,string1,string2):\n",
    "    if not string1 and not string2:\n",
    "        return []\n",
    "    current_operation=solution[(string1,string2)]\n",
    "    action=current_operation.split()[0]\n",
    "    mapping_dict={'go_ahead':[-1,-1],'del':[-1,None],\n",
    "                  'insert':[None,-1],'replace':[-1,-1]}\n",
    "    left,right=mapping_dict[action]\n",
    "    if action=='go_ahead':\n",
    "        result=[]\n",
    "    else:\n",
    "        result=[current_operation]\n",
    "    return result+parse_solution(solution,string1[:left],string2[:right])"
   ]
  },
  {
   "cell_type": "code",
   "execution_count": 12,
   "metadata": {},
   "outputs": [
    {
     "name": "stdout",
     "output_type": "stream",
     "text": [
      "edit_distance: 4\n",
      "{('', '确'): 'insert 确', ('你', ''): 'del 你', ('你', '确'): 'replace 你=>确', ('', '确定'): 'insert 定', ('你', '确定'): 'replace 你=>定', ('你好', ''): 'del 好', ('你好', '确'): 'replace 好=>确', ('你好', '确定'): 'replace 好=>定', ('', '确定你'): 'insert 你', ('你', '确定你'): 'go_ahead', ('你好', '确定你'): 'replace 好=>你', ('你好啊', ''): 'del 啊', ('你好啊', '确'): 'replace 啊=>确', ('你好啊', '确定'): 'replace 啊=>定', ('你好啊', '确定你'): 'replace 啊=>你', ('', '确定你好'): 'insert 好', ('你', '确定你好'): 'insert 好', ('你好', '确定你好'): 'go_ahead', ('你好啊', '确定你好'): 'del 啊', ('你好啊？', ''): 'del ？', ('你好啊？', '确'): 'replace ？=>确', ('你好啊？', '确定'): 'replace ？=>定', ('你好啊？', '确定你'): 'replace ？=>你', ('你好啊？', '确定你好'): 'replace ？=>好', ('', '确定你好吗'): 'insert 吗', ('你', '确定你好吗'): 'insert 吗', ('你好', '确定你好吗'): 'insert 吗', ('你好啊', '确定你好吗'): 'replace 啊=>吗', ('你好啊？', '确定你好吗'): 'replace ？=>吗'}\n",
      "transformation process: ['replace ？=>吗', 'del 啊', 'insert 定', 'insert 确']\n"
     ]
    }
   ],
   "source": [
    "string1='你好啊？'\n",
    "string2='确定你好吗'\n",
    "solution={}\n",
    "distance=edit_distance(string1,string2)\n",
    "edit_distance.cache_clear()\n",
    "print('edit_distance:',distance)\n",
    "print(solution)\n",
    "print('transformation process:',parse_solution(solution,string1,string2))"
   ]
  },
  {
   "cell_type": "code",
   "execution_count": 13,
   "metadata": {},
   "outputs": [],
   "source": [
    "def remove_duplicate(elements):\n",
    "    if not elements:return []\n",
    "    for i in range(len(elements)//2,0,-1):\n",
    "        remain=elements[i:]\n",
    "        if elements[:i]==remain[:i]:\n",
    "            return remove_duplicate(remain)\n",
    "    return [elements[0]]+remove_duplicate(elements[1:])"
   ]
  },
  {
   "cell_type": "code",
   "execution_count": 14,
   "metadata": {},
   "outputs": [
    {
     "name": "stdout",
     "output_type": "stream",
     "text": [
      "['我', '今', '天', '真', '的', '很', '想', '去', '看', '电', '影']\n"
     ]
    }
   ],
   "source": [
    "elements='我今天真的真的很想去看去看电影'\n",
    "print(remove_duplicate(elements))"
   ]
  },
  {
   "cell_type": "code",
   "execution_count": 15,
   "metadata": {},
   "outputs": [],
   "source": [
    "def flatten(expression:tuple):\n",
    "    if not expression:return []\n",
    "    if not isinstance(expression,tuple):\n",
    "        return [expression]\n",
    "    return flatten(expression[0])+flatten(expression[1:])"
   ]
  },
  {
   "cell_type": "code",
   "execution_count": 16,
   "metadata": {},
   "outputs": [
    {
     "name": "stdout",
     "output_type": "stream",
     "text": [
      "[1, 2, 3, 4, 5, 6, 7, 8, 9]\n"
     ]
    }
   ],
   "source": [
    "expression=(((1,2),3),((4,5),(6,7)),(((8,9))))\n",
    "print(flatten(expression))"
   ]
  },
  {
   "cell_type": "code",
   "execution_count": null,
   "metadata": {},
   "outputs": [],
   "source": []
  }
 ],
 "metadata": {
  "kernelspec": {
   "display_name": "Python 3",
   "language": "python",
   "name": "python3"
  },
  "language_info": {
   "codemirror_mode": {
    "name": "ipython",
    "version": 3
   },
   "file_extension": ".py",
   "mimetype": "text/x-python",
   "name": "python",
   "nbconvert_exporter": "python",
   "pygments_lexer": "ipython3",
   "version": "3.7.6"
  }
 },
 "nbformat": 4,
 "nbformat_minor": 4
}
