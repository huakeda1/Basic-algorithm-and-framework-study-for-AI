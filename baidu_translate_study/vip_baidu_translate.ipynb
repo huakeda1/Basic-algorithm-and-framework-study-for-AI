{
 "cells": [
  {
   "cell_type": "code",
   "execution_count": 1,
   "metadata": {},
   "outputs": [],
   "source": [
    "import http.client\n",
    "import hashlib\n",
    "import urllib\n",
    "import random\n",
    "import json"
   ]
  },
  {
   "cell_type": "code",
   "execution_count": 2,
   "metadata": {},
   "outputs": [],
   "source": [
    "class Baidu_Tans(object):\n",
    "    def __init__(self,fromLang,toLang,appid,secretKey):\n",
    "        self.fromLang=fromLang\n",
    "        self.toLang=toLang\n",
    "        self.appid=appid\n",
    "        self.secretKey=secretKey\n",
    "        self.base_url='api.fanyi.baidu.com'\n",
    "        self.back_url='/api/trans/vip/translate'\n",
    "    def get_result(self,q):\n",
    "        httpClient=None\n",
    "        salt=random.randint(327688,655368)\n",
    "        sign=self.appid+q+str(salt)+self.secretKey\n",
    "        sign=hashlib.md5(sign.encode()).hexdigest()\n",
    "        current_url=self.back_url+'?appid='+self.appid+'&q='+urllib.parse.quote(q)+'&from='+self.fromLang+'&to='+self.toLang+'&salt='+str(salt)+'&sign='+sign\n",
    "        try:\n",
    "            httpClient=http.client.HTTPConnection(self.base_url)\n",
    "            httpClient.request('GET',current_url)\n",
    "            response=httpClient.getresponse()\n",
    "            result_all=response.read().decode('utf-8')\n",
    "            result=json.loads(result_all)['trans_result'][0]['dst']\n",
    "        except Exception as e:\n",
    "            print(e)\n",
    "            result=''\n",
    "        finally:\n",
    "            if httpClient:\n",
    "                httpClient.close()\n",
    "        return result"
   ]
  },
  {
   "cell_type": "code",
   "execution_count": 3,
   "metadata": {},
   "outputs": [
    {
     "name": "stdout",
     "output_type": "stream",
     "text": [
      "please input what you want to translate:If one day, you will no longer remember, I will no longer remember, time will replace we remember.\n",
      "If one day, you will no longer remember, I will no longer remember, time will replace we remember.\n",
      "please input what you want to translate:如果有那么一天，你不再记得，我也不再记得，时光一定会代替我们记得。\n",
      "If one day, you no longer remember, I no longer remember, time will replace us to remember.\n",
      "please input what you want to translate:如果某人走进你的生活，使你成为一个更好的人，并能够忘掉你的过去，那么你永远不要让他离开。\n",
      "If someone comes into your life, makes you a better person and can forget your past, then you should never let him go.\n",
      "please input what you want to translate:我希望有一个人会懂我，即使我什么都没说。\n",
      "I hope someone will understand me, even if I don't say anything.\n",
      "please input what you want to translate:exit\n"
     ]
    }
   ],
   "source": [
    "if __name__ == '__main__':\n",
    "    fromLang='auto'\n",
    "    toLang='en'\n",
    "    appid='20201230000659488'\n",
    "    secretKey='LEd0qCPRWkP8ovRlolih'\n",
    "    trans=Baidu_Tans(fromLang,toLang,appid,secretKey)\n",
    "    while(1):\n",
    "        q=input('please input what you want to translate:')\n",
    "        if q=='exit':break\n",
    "        result = trans.get_result(q)\n",
    "        print(result)"
   ]
  },
  {
   "cell_type": "code",
   "execution_count": 4,
   "metadata": {},
   "outputs": [
    {
     "name": "stdout",
     "output_type": "stream",
     "text": [
      "please input what you want to translate:If one day, you will no longer remember, I will no longer remember, time will replace we remember.\n",
      "如果有一天，你将不再记得，我将不再记得，时间将取代我们的记忆。\n",
      "please input what you want to translate:When someone walks in your life could make you a better person and forget about your past, never let them go.\n",
      "当有人走进你的生活，可以让你成为一个更好的人，忘记你的过去，永远不要让他们走。\n",
      "please input what you want to translate:I just want someone who will understand me even when no words are spoken.\n",
      "我只是希望找一个无需语言就能理解我的人。\n",
      "please input what you want to translate:exit\n"
     ]
    }
   ],
   "source": [
    "if __name__ == '__main__':\n",
    "    fromLang='auto'\n",
    "    toLang='zh'\n",
    "    appid='20201230000659488'\n",
    "    secretKey='LEd0qCPRWkP8ovRlolih'\n",
    "    trans=Baidu_Tans(fromLang,toLang,appid,secretKey)\n",
    "    while(1):\n",
    "        q=input('please input what you want to translate:')\n",
    "        if q=='exit':break\n",
    "        result = trans.get_result(q)\n",
    "        print(result)"
   ]
  },
  {
   "cell_type": "code",
   "execution_count": 5,
   "metadata": {},
   "outputs": [
    {
     "name": "stdout",
     "output_type": "stream",
     "text": [
      "please input what you want to translate:If one day, you will no longer remember, I will no longer remember, time will replace we remember.\n",
      "如果有一天，你将不再记得，我将不再记得，时间将取代我们的记忆。\n",
      "please input what you want to translate:When someone walks in your life could make you a better person and forget about your past, never let them go.\n",
      "当有人走进你的生活，可以让你成为一个更好的人，忘记你的过去，永远不要让他们走。\n",
      "please input what you want to translate:I just want someone who will understand me even when no words are spoken.\n",
      "我只是希望找一个无需语言就能理解我的人。\n",
      "please input what you want to translate:exit\n"
     ]
    }
   ],
   "source": [
    "#百度通用翻译API,不包含词典、tts语音合成等资源，如有相关需求请联系translate_api@baidu.com\n",
    "# coding=utf-8\n",
    "\n",
    "import http.client\n",
    "import hashlib\n",
    "import urllib\n",
    "import random\n",
    "import json\n",
    "\n",
    "appid = '20201230000659488'  # 填写你的appid\n",
    "secretKey = 'LEd0qCPRWkP8ovRlolih'  # 填写你的密钥\n",
    "\n",
    "httpClient = None\n",
    "myurl = '/api/trans/vip/translate'\n",
    "\n",
    "fromLang = 'auto'   #原文语种\n",
    "toLang = 'zh'   #译文语种 zh or en\n",
    "while(1):\n",
    "    salt = random.randint(327688, 655368)\n",
    "    q=input('please input what you want to translate:')\n",
    "    if q=='exit':break\n",
    "    sign = appid + q + str(salt) + secretKey\n",
    "    sign = hashlib.md5(sign.encode()).hexdigest()\n",
    "    myurl = myurl + '?appid=' + appid + '&q=' + urllib.parse.quote(q) + '&from=' + fromLang + '&to=' + toLang + '&salt=' + str(\n",
    "    salt) + '&sign=' + sign\n",
    "\n",
    "    try:\n",
    "        httpClient = http.client.HTTPConnection('api.fanyi.baidu.com')\n",
    "        httpClient.request('GET', myurl)\n",
    "\n",
    "        # response是HTTPResponse对象\n",
    "        response = httpClient.getresponse()\n",
    "        result_all = response.read().decode(\"utf-8\")\n",
    "        result = json.loads(result_all)\n",
    "        print(result['trans_result'][0]['dst'])\n",
    "\n",
    "    except Exception as e:\n",
    "        print(e)\n",
    "    finally:\n",
    "        if httpClient:\n",
    "            httpClient.close()"
   ]
  },
  {
   "cell_type": "markdown",
   "metadata": {},
   "source": [
    "## Baidu_translate_study\n",
    "You can create your account at [link](http://api.fanyi.baidu.com/) to get vip translate service, Baidu will provide a **appid** and **secretKey** for you to build your own translate service in your program, this template interface program can be used in your customized application.\n",
    "\n",
    "### Main Process\n",
    "- build connection\n",
    "- get response\n",
    "- parse data\n",
    "\n",
    "### Important functions\n",
    "- http.client.HTTPConnection('api.fanyi.baidu.com')\n",
    "- httpClient.request('GET', myurl)\n",
    "- response = httpClient.getresponse()\n",
    "- result_all = response.read().decode(\"utf-8\")\n",
    "- result = json.loads(result_all)\n",
    "\n",
    "### Special code\n",
    "```python\n",
    "class Baidu_Tans(object):\n",
    "    def __init__(self,fromLang,toLang,appid,secretKey):\n",
    "        self.fromLang=fromLang\n",
    "        self.toLang=toLang\n",
    "        self.appid=appid\n",
    "        self.secretKey=secretKey\n",
    "        self.base_url='api.fanyi.baidu.com'\n",
    "        self.back_url='/api/trans/vip/translate'\n",
    "    def get_result(self,q):\n",
    "        httpClient=None\n",
    "        salt=random.randint(327688,655368)\n",
    "        sign=self.appid+q+str(salt)+self.secretKey\n",
    "        sign=hashlib.md5(sign.encode()).hexdigest()\n",
    "        current_url=self.back_url+'?appid='+self.appid+'&q='+urllib.parse.quote(q)+'&from='+self.fromLang+'&to='+self.toLang+'&salt='+str(salt)+'&sign='+sign\n",
    "        try:\n",
    "            httpClient=http.client.HTTPConnection(self.base_url)\n",
    "            httpClient.request('GET',current_url)\n",
    "            response=httpClient.getresponse()\n",
    "            result_all=response.read().decode('utf-8')\n",
    "            result=json.loads(result_all)['trans_result'][0]['dst']\n",
    "        except Exception as e:\n",
    "            print(e)\n",
    "            result=''\n",
    "        finally:\n",
    "            if httpClient:\n",
    "                httpClient.close()\n",
    "        return result\n",
    "```"
   ]
  },
  {
   "cell_type": "code",
   "execution_count": null,
   "metadata": {},
   "outputs": [],
   "source": []
  }
 ],
 "metadata": {
  "kernelspec": {
   "display_name": "Python 3",
   "language": "python",
   "name": "python3"
  },
  "language_info": {
   "codemirror_mode": {
    "name": "ipython",
    "version": 3
   },
   "file_extension": ".py",
   "mimetype": "text/x-python",
   "name": "python",
   "nbconvert_exporter": "python",
   "pygments_lexer": "ipython3",
   "version": "3.7.6"
  }
 },
 "nbformat": 4,
 "nbformat_minor": 4
}
