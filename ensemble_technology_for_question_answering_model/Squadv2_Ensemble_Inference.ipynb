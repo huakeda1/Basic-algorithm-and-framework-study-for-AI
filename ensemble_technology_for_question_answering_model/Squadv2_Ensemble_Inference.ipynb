{
 "cells": [
  {
   "cell_type": "markdown",
   "metadata": {},
   "source": [
    "# ensembling model for prediction"
   ]
  },
  {
   "cell_type": "code",
   "execution_count": 1,
   "metadata": {},
   "outputs": [],
   "source": [
    "from transformers import AutoModelForQuestionAnswering,AutoTokenizer\n",
    "from transformers import squad_convert_examples_to_features\n",
    "from transformers.data.processors.squad import SquadV2Processor\n",
    "import torch\n",
    "import torch.nn.functional as F\n",
    "import time\n",
    "from tqdm import tqdm\n",
    "import numpy as np"
   ]
  },
  {
   "cell_type": "code",
   "execution_count": 2,
   "metadata": {},
   "outputs": [
    {
     "name": "stderr",
     "output_type": "stream",
     "text": [
      "100%|██████████| 35/35 [00:13<00:00,  2.58it/s]\n",
      "100%|██████████| 442/442 [03:02<00:00,  2.43it/s]\n"
     ]
    },
    {
     "name": "stdout",
     "output_type": "stream",
     "text": [
      "56be85543aeaaa14008c9063 When did Beyonce start becoming popular?\n",
      "in the late 1990s\n",
      "Beyoncé Giselle Knowles-Carter (/biːˈjɒnseɪ/ bee-YON-say) (born September 4, 1981) is an American singer, songwriter, record producer and actress. Born and raised in Houston, Texas, she performed in various singing and dancing competitions as a child, and rose to fame in the late 1990s as lead singer of R&B girl-group Destiny's Child. Managed by her father, Mathew Knowles, the group became one of the world's best-selling girl groups of all time. Their hiatus saw the release of Beyoncé's debut album, Dangerously in Love (2003), which established her as a solo artist worldwide, earned five Grammy Awards and featured the Billboard Hot 100 number-one singles \"Crazy in Love\" and \"Baby Boy\".\n",
      "56be85543aeaaa14008c9065 What areas did Beyonce compete in when she was growing up?\n",
      "singing and dancing\n",
      "Beyoncé Giselle Knowles-Carter (/biːˈjɒnseɪ/ bee-YON-say) (born September 4, 1981) is an American singer, songwriter, record producer and actress. Born and raised in Houston, Texas, she performed in various singing and dancing competitions as a child, and rose to fame in the late 1990s as lead singer of R&B girl-group Destiny's Child. Managed by her father, Mathew Knowles, the group became one of the world's best-selling girl groups of all time. Their hiatus saw the release of Beyoncé's debut album, Dangerously in Love (2003), which established her as a solo artist worldwide, earned five Grammy Awards and featured the Billboard Hot 100 number-one singles \"Crazy in Love\" and \"Baby Boy\".\n",
      "56be85543aeaaa14008c9066 When did Beyonce leave Destiny's Child and become a solo singer?\n",
      "2003\n",
      "Beyoncé Giselle Knowles-Carter (/biːˈjɒnseɪ/ bee-YON-say) (born September 4, 1981) is an American singer, songwriter, record producer and actress. Born and raised in Houston, Texas, she performed in various singing and dancing competitions as a child, and rose to fame in the late 1990s as lead singer of R&B girl-group Destiny's Child. Managed by her father, Mathew Knowles, the group became one of the world's best-selling girl groups of all time. Their hiatus saw the release of Beyoncé's debut album, Dangerously in Love (2003), which established her as a solo artist worldwide, earned five Grammy Awards and featured the Billboard Hot 100 number-one singles \"Crazy in Love\" and \"Baby Boy\".\n"
     ]
    }
   ],
   "source": [
    "squad_data_dir='./SQUAD_V2'\n",
    "# dev-v2.0.json\n",
    "processor=SquadV2Processor()\n",
    "eval_examples=processor.get_dev_examples(squad_data_dir,filename='dev-v2.0.json')\n",
    "train_examples=processor.get_train_examples(squad_data_dir,filename='train-v2.0.json')\n",
    "for i,example in enumerate(train_examples):\n",
    "    print(example.qas_id,example.question_text)\n",
    "    print(example.answer_text)\n",
    "    print(example.context_text)\n",
    "    if i==2:break"
   ]
  },
  {
   "cell_type": "code",
   "execution_count": 3,
   "metadata": {},
   "outputs": [],
   "source": [
    "model_dirs=['./mrm8488/bert-medium-finetuned-squadv2','./mrm8488/bert-small-finetuned-squadv2','./mrm8488/bert-mini-5-finetuned-squadv2']\n",
    "pretrained_model_path1='/home/stu_18701958249/hub_dir/2020-ai-for-nlp-summer/All_tasks_solved_by_transformers/Extractive_Question_Answering/pretrained_model'\n",
    "models=[AutoModelForQuestionAnswering.from_pretrained(model_dir,return_dict=True) for model_dir in model_dirs]\n",
    "tokenizers=[AutoTokenizer.from_pretrained(model_dir) for model_dir in model_dirs]"
   ]
  },
  {
   "cell_type": "code",
   "execution_count": 4,
   "metadata": {},
   "outputs": [],
   "source": [
    "def get_ensembled_result(many_start_probs,many_end_probs,mode='equal'):\n",
    "    model_nums=len(many_start_probs)\n",
    "    if mode=='equal':\n",
    "        ranks=[1.0/model_nums]*model_nums\n",
    "    elif mode=='ranks':\n",
    "        ranks=[index/(model_nums*(model_nums+1)*0.5) for index in range(1,model_nums+1)]\n",
    "    # get the average combined prob from several models\n",
    "    avg_start_probs,avg_end_probs=0,0\n",
    "    reference_combined_prob=0.0\n",
    "    for i in range(model_nums):\n",
    "        avg_start_probs+=many_start_probs[i]*ranks[i]\n",
    "        avg_end_probs+=many_end_probs[i]*ranks[i]\n",
    "        \n",
    "        combined_matrix=np.matmul(many_start_probs[i][:,np.newaxis],many_end_probs[i][np.newaxis,:])*ranks[i]**2\n",
    "        max_combined_prob=np.max(combined_matrix)\n",
    "        if max_combined_prob>reference_combined_prob:\n",
    "            reference_combined_prob=max_combined_prob\n",
    "            start,end=np.argwhere(combined_matrix==max_combined_prob)[0]\n",
    "            model_index,max_answer_start,max_answer_end,max_combined_prob=i,start,end,max_combined_prob       \n",
    "    # get the average combined prob from several models\n",
    "    total_combined_avg_result=np.matmul(avg_start_probs[:,np.newaxis],avg_end_probs[np.newaxis,:])\n",
    "    avg_combined_prob=np.max(total_combined_avg_result)\n",
    "    answer_start,answer_end=np.argwhere(total_combined_avg_result==avg_combined_prob)[0]\n",
    "    return model_index,answer_start,answer_end"
   ]
  },
  {
   "cell_type": "code",
   "execution_count": 5,
   "metadata": {},
   "outputs": [
    {
     "data": {
      "text/plain": [
       "['i', 'love', 'you']"
      ]
     },
     "execution_count": 5,
     "metadata": {},
     "output_type": "execute_result"
    }
   ],
   "source": [
    "tokenizers[0].tokenize('I love you')"
   ]
  },
  {
   "cell_type": "code",
   "execution_count": 6,
   "metadata": {},
   "outputs": [],
   "source": [
    "def get_ensembled_answer(models,tokenizers,question,context,max_sequence_len=384,verbose=False,device='cpu'):\n",
    "    all_inputs=[tokenizer.encode_plus(question, context, max_length=max_sequence_len, truncation=True, padding='max_length', return_tensors='pt') for tokenizer in tokenizers]\n",
    "    all_start_probs,all_end_probs=[],[]\n",
    "    with torch.no_grad():\n",
    "        for index,model in enumerate(models):\n",
    "            all_inputs[index].to(device)\n",
    "            result=model(**all_inputs[index])\n",
    "            all_start_probs.append(torch.nn.functional.softmax(result.start_logits,dim=1).detach().cpu().numpy()[0])\n",
    "            all_end_probs.append(torch.nn.functional.softmax(result.end_logits,dim=1).detach().cpu().numpy()[0])\n",
    "    model_index,answer_start,answer_end=get_ensembled_result(all_start_probs,all_end_probs,mode='equal')\n",
    "    answer=tokenizers[model_index].decode(all_inputs[model_index]['input_ids'][0,answer_start:answer_end+1],skip_special_tokens=True)\n",
    "    if verbose:\n",
    "        print('question:',question)\n",
    "        print('context:',context)\n",
    "        print('answer:',answer)\n",
    "    return answer"
   ]
  },
  {
   "cell_type": "code",
   "execution_count": 7,
   "metadata": {},
   "outputs": [
    {
     "name": "stderr",
     "output_type": "stream",
     "text": [
      " 10%|█         | 1/10 [00:17<02:41, 17.96s/it]"
     ]
    },
    {
     "name": "stdout",
     "output_type": "stream",
     "text": [
      "it takes 17.958550453186035 to predict one example.\n"
     ]
    },
    {
     "name": "stderr",
     "output_type": "stream",
     "text": [
      " 20%|██        | 2/10 [00:35<02:22, 17.83s/it]"
     ]
    },
    {
     "name": "stdout",
     "output_type": "stream",
     "text": [
      "it takes 17.537368774414062 to predict one example.\n"
     ]
    },
    {
     "name": "stderr",
     "output_type": "stream",
     "text": [
      " 30%|███       | 3/10 [00:54<02:07, 18.19s/it]"
     ]
    },
    {
     "name": "stdout",
     "output_type": "stream",
     "text": [
      "it takes 19.011814832687378 to predict one example.\n"
     ]
    },
    {
     "name": "stderr",
     "output_type": "stream",
     "text": [
      " 40%|████      | 4/10 [01:14<01:52, 18.70s/it]"
     ]
    },
    {
     "name": "stdout",
     "output_type": "stream",
     "text": [
      "it takes 19.892311334609985 to predict one example.\n"
     ]
    },
    {
     "name": "stderr",
     "output_type": "stream",
     "text": [
      " 50%|█████     | 5/10 [01:36<01:38, 19.75s/it]"
     ]
    },
    {
     "name": "stdout",
     "output_type": "stream",
     "text": [
      "it takes 22.203704357147217 to predict one example.\n"
     ]
    },
    {
     "name": "stderr",
     "output_type": "stream",
     "text": [
      " 60%|██████    | 6/10 [01:55<01:17, 19.45s/it]"
     ]
    },
    {
     "name": "stdout",
     "output_type": "stream",
     "text": [
      "it takes 18.738569974899292 to predict one example.\n"
     ]
    },
    {
     "name": "stderr",
     "output_type": "stream",
     "text": [
      " 70%|███████   | 7/10 [02:16<01:00, 20.01s/it]"
     ]
    },
    {
     "name": "stdout",
     "output_type": "stream",
     "text": [
      "it takes 21.329211711883545 to predict one example.\n"
     ]
    },
    {
     "name": "stderr",
     "output_type": "stream",
     "text": [
      " 80%|████████  | 8/10 [02:37<00:40, 20.15s/it]"
     ]
    },
    {
     "name": "stdout",
     "output_type": "stream",
     "text": [
      "it takes 20.48137331008911 to predict one example.\n"
     ]
    },
    {
     "name": "stderr",
     "output_type": "stream",
     "text": [
      " 90%|█████████ | 9/10 [02:58<00:20, 20.51s/it]"
     ]
    },
    {
     "name": "stdout",
     "output_type": "stream",
     "text": [
      "it takes 21.33862590789795 to predict one example.\n"
     ]
    },
    {
     "name": "stderr",
     "output_type": "stream",
     "text": [
      "100%|██████████| 10/10 [03:28<00:00, 20.82s/it]"
     ]
    },
    {
     "name": "stdout",
     "output_type": "stream",
     "text": [
      "it takes 29.713159799575806 to predict one example.\n",
      "it takes 208.26357555389404 to predict 10 examples.\n",
      "{'56be85543aeaaa14008c9063': 'late 1990s', '56be85543aeaaa14008c9065': 'singing and dancing', '56be85543aeaaa14008c9066': '2003', '56bf6b0f3aeaaa14008c9601': 'houston, texas', '56bf6b0f3aeaaa14008c9602': '1990s', '56bf6b0f3aeaaa14008c9603': \"destiny's child\", '56bf6b0f3aeaaa14008c9604': 'dangerously in love', '56bf6b0f3aeaaa14008c9605': 'mathew knowles', '56d43c5f2ccc5a1400d830a9': 'late 1990s', '56d43c5f2ccc5a1400d830aa': 'lead singer'}\n",
      "correct rate: 1.0\n",
      "{'56be85543aeaaa14008c9063': 'in the late 1990s', '56be85543aeaaa14008c9065': 'singing and dancing', '56be85543aeaaa14008c9066': '2003', '56bf6b0f3aeaaa14008c9601': 'houston, texas', '56bf6b0f3aeaaa14008c9602': 'late 1990s', '56bf6b0f3aeaaa14008c9603': \"destiny's child\", '56bf6b0f3aeaaa14008c9604': 'dangerously in love', '56bf6b0f3aeaaa14008c9605': 'mathew knowles', '56d43c5f2ccc5a1400d830a9': 'late 1990s', '56d43c5f2ccc5a1400d830aa': 'lead singer'}\n"
     ]
    },
    {
     "name": "stderr",
     "output_type": "stream",
     "text": [
      "\n"
     ]
    }
   ],
   "source": [
    "predictions={}\n",
    "trues={}\n",
    "start_time=time.time()\n",
    "total_examples=0\n",
    "correct_examples=0\n",
    "device='cuda:0' if torch.cuda.is_available() else 'cpu'\n",
    "for model in models:\n",
    "    model.to(device)\n",
    "    model.eval()\n",
    "for i,example in enumerate(tqdm(train_examples[:10])):\n",
    "    one_example_start_time=time.time()\n",
    "    answer=get_ensembled_answer(models,tokenizers,example.question_text,example.context_text,max_sequence_len=384,verbose=False,device=device)\n",
    "    predictions[example.qas_id]=answer\n",
    "    trues[example.qas_id]=example.answer_text.lower()\n",
    "    correct_examples+=int(answer==example.answer_text.lower() or answer in example.answer_text.lower() or example.answer_text.lower() in answer)\n",
    "    total_examples+=1\n",
    "    print('it takes {} to predict one example.'.format(time.time()-one_example_start_time))\n",
    "print('it takes {} to predict 10 examples.'.format(time.time()-start_time))\n",
    "print(predictions)\n",
    "print('correct rate:',correct_examples/total_examples)\n",
    "print(trues)"
   ]
  },
  {
   "cell_type": "code",
   "execution_count": null,
   "metadata": {},
   "outputs": [],
   "source": []
  }
 ],
 "metadata": {
  "kernelspec": {
   "display_name": "Python 3",
   "language": "python",
   "name": "python3"
  },
  "language_info": {
   "codemirror_mode": {
    "name": "ipython",
    "version": 3
   },
   "file_extension": ".py",
   "mimetype": "text/x-python",
   "name": "python",
   "nbconvert_exporter": "python",
   "pygments_lexer": "ipython3",
   "version": "3.7.6"
  }
 },
 "nbformat": 4,
 "nbformat_minor": 4
}
