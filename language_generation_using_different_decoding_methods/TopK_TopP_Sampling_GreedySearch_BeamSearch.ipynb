{
 "cells": [
  {
   "cell_type": "code",
   "execution_count": 1,
   "metadata": {},
   "outputs": [],
   "source": [
    "import numpy as np\n",
    "from collections import defaultdict\n",
    "import copy\n",
    "np.random.seed=2021"
   ]
  },
  {
   "cell_type": "code",
   "execution_count": 2,
   "metadata": {},
   "outputs": [],
   "source": [
    "def temp_scaled_softmax(data,temp=1.0):\n",
    "    prob=np.exp(data/temp)/np.sum(np.exp(data/temp),axis=-1)\n",
    "    return prob\n",
    "def greedy_search(prob):\n",
    "    return np.argmax(prob)\n",
    "    \n",
    "def topk_sampling(prob,k=10,verbose=True):\n",
    "    # this function is only used to process one single example\n",
    "    if prob.ndim>1:\n",
    "        prob=prob[0]\n",
    "    topk_label=np.argsort(prob)[-k:]\n",
    "    topk_prob=prob[topk_label]/np.sum(prob[topk_label])\n",
    "    label=np.random.choice(topk_label,p=topk_prob)\n",
    "    if verbose:\n",
    "        print('orig_all_prob:{}'.format(prob))\n",
    "        print('**********************')\n",
    "        print('topk_sorted_label:{}'.format(topk_label))\n",
    "        print('topk_sorted_prob:{}'.format(prob[topk_label]))\n",
    "        print('**********************')\n",
    "        print('topk_new_prob:{}'.format(topk_prob))\n",
    "        print('finally sampled label:{}'.format(label))\n",
    "    return label\n",
    "def topp_sampling(prob,p=0.9,verbose=True):\n",
    "    # this function is only used to process one single example\n",
    "    if prob.ndim>1:\n",
    "        prob=prob[0]\n",
    "    sorted_htol_label=np.argsort(prob)[::-1]\n",
    "    sorted_htol_prob=prob[sorted_htol_label]\n",
    "    for i in range(prob.shape[0]):\n",
    "        if np.sum(sorted_htol_prob[:i+1])>=p:\n",
    "            break\n",
    "    topp_htol_label=sorted_htol_label[:i+1]\n",
    "    topp_htol_prob=sorted_htol_prob[topp_htol_label]/np.sum(sorted_htol_prob[topp_htol_label])\n",
    "    label=np.random.choice(topp_htol_label,p=topp_htol_prob)\n",
    "    if verbose:\n",
    "        print('orig_all_prob:{}'.format(prob))\n",
    "        print('**********************')\n",
    "        print('topp_sorted_label:{}'.format(topp_htol_label))\n",
    "        print('topp_sorted_prob:{}'.format(sorted_htol_prob[topp_htol_label]))\n",
    "        print('**********************')\n",
    "        print('topp_new_prob:{}'.format(topp_htol_prob))\n",
    "        print('finally sampled label:{}'.format(label))"
   ]
  },
  {
   "cell_type": "code",
   "execution_count": 3,
   "metadata": {},
   "outputs": [
    {
     "name": "stdout",
     "output_type": "stream",
     "text": [
      "[[0.23688282 0.08714432 0.64391426 0.0320586 ]]\n",
      "[[0.20580651 0.05896455 0.71833531 0.01689363]]\n",
      "[[0.15339683 0.02897292 0.81215798 0.00547228]]\n",
      "[[7.53504725e-02 6.18514343e-03 9.17956677e-01 5.07707490e-04]]\n",
      "[[6.69254708e-03 4.50940275e-05 9.93262055e-01 3.03841168e-07]]\n",
      "[[4.53978686e-05 2.06106005e-09 9.99954600e-01 9.35719813e-14]]\n",
      "[[3.72007598e-044 1.38389653e-087 1.00000000e+000 5.14820022e-131]]\n"
     ]
    }
   ],
   "source": [
    "test_data=np.array([[3,2,4,1]]).astype(float)\n",
    "print(temp_scaled_softmax(test_data,temp=1.0))\n",
    "print(temp_scaled_softmax(test_data,temp=0.8))\n",
    "print(temp_scaled_softmax(test_data,temp=0.6))\n",
    "print(temp_scaled_softmax(test_data,temp=0.4))\n",
    "print(temp_scaled_softmax(test_data,temp=0.2))\n",
    "print(temp_scaled_softmax(test_data,temp=0.1))\n",
    "print(temp_scaled_softmax(test_data,temp=0.01))"
   ]
  },
  {
   "cell_type": "code",
   "execution_count": 4,
   "metadata": {},
   "outputs": [
    {
     "name": "stdout",
     "output_type": "stream",
     "text": [
      "orig_all_prob:[0.23688282 0.08714432 0.64391426 0.0320586 ]\n",
      "**********************\n",
      "topk_sorted_label:[1 0 2]\n",
      "topk_sorted_prob:[0.08714432 0.23688282 0.64391426]\n",
      "**********************\n",
      "topk_new_prob:[0.09003057 0.24472847 0.66524096]\n",
      "finally sampled label:2\n",
      "**********************\n",
      "orig_all_prob:[0.23688282 0.08714432 0.64391426 0.0320586 ]\n",
      "**********************\n",
      "topp_sorted_label:[2 0 1]\n",
      "topp_sorted_prob:[0.08714432 0.64391426 0.23688282]\n",
      "**********************\n",
      "topp_new_prob:[0.09003057 0.66524096 0.24472847]\n",
      "finally sampled label:1\n"
     ]
    }
   ],
   "source": [
    "test_data=np.array([[3,2,4,1]]).astype(float)\n",
    "prob=temp_scaled_softmax(test_data)\n",
    "topk_label=topk_sampling(prob,k=3)\n",
    "print('**********************')\n",
    "topp_label=topp_sampling(prob,p=0.9)"
   ]
  },
  {
   "cell_type": "code",
   "execution_count": 5,
   "metadata": {},
   "outputs": [],
   "source": [
    "class beam_structure(object):\n",
    "    def __init__(self,decode_start_input=0):\n",
    "        self.storage=[(decode_start_input,1.0)]\n",
    "    def add_item(self,label,prob):\n",
    "        self.storage.append((label,prob))\n",
    "    def get_total_prob(self,):\n",
    "        labels,probs=zip(*self.storage)\n",
    "        return np.exp(np.sum(np.log(probs)))\n",
    "    def get_all_labels(self,):\n",
    "        labels,probs=zip(*self.storage)\n",
    "        return labels\n",
    "    def get_all_probs(self,):\n",
    "        labels,probs=zip(*self.storage)\n",
    "        return probs\n",
    "class assume_model(object):\n",
    "    def __init__(self,label_dim=5):\n",
    "        self.label_dim=label_dim\n",
    "    def __call__(self,inputs):\n",
    "        return np.random.randn(self.label_dim)\n",
    "def beam_search(model,beam_num=3,max_num=10,softmax_temp=1.0):\n",
    "    index=0\n",
    "    total_beams=[beam_structure() for _ in range(beam_num)]\n",
    "    while index<max_num:\n",
    "        all_current_beams=[]\n",
    "        for i in range(beam_num):\n",
    "            inputs=total_beams[i].get_all_labels()\n",
    "            outputs=model(inputs)\n",
    "            prob=temp_scaled_softmax(outputs,softmax_temp)\n",
    "            topk_labels=np.argsort(prob)[-beam_num:]\n",
    "            topk_probs=prob[topk_labels]\n",
    "            for label,prob in zip(topk_labels,topk_probs):\n",
    "                new_beam=copy.deepcopy(total_beams[0])\n",
    "                new_beam.add_item(label,prob)\n",
    "                all_current_beams.append(new_beam)\n",
    "            if index==0:\n",
    "                break\n",
    "        exist_data=defaultdict(list)\n",
    "        filtered_beams=[]\n",
    "        for current_beam in all_current_beams:\n",
    "            label,prob=current_beam.storage[-1]\n",
    "            if label not in exist_data:\n",
    "                exist_data[label].append(current_beam)\n",
    "        all_current_beams=[]\n",
    "        for label,current_beams in exist_data.items():\n",
    "            all_current_beams.append(sorted(current_beams,key=lambda x:x.storage[-1][-1],reverse=True)[0])         \n",
    "        total_beams=sorted(all_current_beams,key=lambda x:x.get_total_prob(),reverse=True)[:beam_num]\n",
    "        for i in range(beam_num):\n",
    "            print('step:{},label_prob:{},accumulate_prob:{}'.format(index+1,total_beams[i].storage,total_beams[i].get_total_prob()))\n",
    "        index+=1\n",
    "    optimized_beam=sorted(total_beams,key=lambda x:x.get_total_prob(),reverse=True)[0]\n",
    "    return optimized_beam.get_all_labels()   "
   ]
  },
  {
   "cell_type": "code",
   "execution_count": 6,
   "metadata": {},
   "outputs": [
    {
     "name": "stdout",
     "output_type": "stream",
     "text": [
      "step:1,label_prob:[(0, 1.0), (4, 0.8689966256413102)],accumulate_prob:0.8689966256413102\n",
      "step:1,label_prob:[(0, 1.0), (2, 0.05894956921520326)],accumulate_prob:0.05894956921520325\n",
      "step:1,label_prob:[(0, 1.0), (0, 0.04397906199868869)],accumulate_prob:0.043979061998688694\n",
      "step:2,label_prob:[(0, 1.0), (4, 0.8689966256413102), (4, 0.555428782677956)],accumulate_prob:0.48266573793120443\n",
      "step:2,label_prob:[(0, 1.0), (4, 0.8689966256413102), (0, 0.4347996574747333)],accumulate_prob:0.37783943517554075\n",
      "step:2,label_prob:[(0, 1.0), (4, 0.8689966256413102), (3, 0.1929366105828902)],accumulate_prob:0.16766126355920305\n",
      "step:3,label_prob:[(0, 1.0), (4, 0.8689966256413102), (4, 0.555428782677956), (2, 0.6982224192211296)],accumulate_prob:0.3370080392134773\n",
      "step:3,label_prob:[(0, 1.0), (4, 0.8689966256413102), (4, 0.555428782677956), (1, 0.4004969512456286)],accumulate_prob:0.19330615651216893\n",
      "step:3,label_prob:[(0, 1.0), (4, 0.8689966256413102), (4, 0.555428782677956), (0, 0.2853610473005622)],accumulate_prob:0.13773400047214718\n",
      "step:4,label_prob:[(0, 1.0), (4, 0.8689966256413102), (4, 0.555428782677956), (2, 0.6982224192211296), (4, 0.5860261121352144)],accumulate_prob:0.19749551097858598\n",
      "step:4,label_prob:[(0, 1.0), (4, 0.8689966256413102), (4, 0.555428782677956), (2, 0.6982224192211296), (2, 0.46870786014412785)],accumulate_prob:0.15795831691111728\n",
      "step:4,label_prob:[(0, 1.0), (4, 0.8689966256413102), (4, 0.555428782677956), (2, 0.6982224192211296), (3, 0.233542366209252)],accumulate_prob:0.0787056549094559\n",
      "step:5,label_prob:[(0, 1.0), (4, 0.8689966256413102), (4, 0.555428782677956), (2, 0.6982224192211296), (4, 0.5860261121352144), (0, 0.7969331434146142)],accumulate_prob:0.15739071837443996\n",
      "step:5,label_prob:[(0, 1.0), (4, 0.8689966256413102), (4, 0.555428782677956), (2, 0.6982224192211296), (4, 0.5860261121352144), (3, 0.38236917081700733)],accumulate_prob:0.07551619477296306\n",
      "step:5,label_prob:[(0, 1.0), (4, 0.8689966256413102), (4, 0.555428782677956), (2, 0.6982224192211296), (4, 0.5860261121352144), (1, 0.33346667713330314)],accumulate_prob:0.06585817179477284\n"
     ]
    },
    {
     "data": {
      "text/plain": [
       "(0, 4, 4, 2, 4, 0)"
      ]
     },
     "execution_count": 6,
     "metadata": {},
     "output_type": "execute_result"
    }
   ],
   "source": [
    "model=assume_model(label_dim=5)\n",
    "beam_search(model,beam_num=3,max_num=5,softmax_temp=0.7)"
   ]
  },
  {
   "cell_type": "code",
   "execution_count": null,
   "metadata": {},
   "outputs": [],
   "source": []
  }
 ],
 "metadata": {
  "kernelspec": {
   "display_name": "Python 3",
   "language": "python",
   "name": "python3"
  },
  "language_info": {
   "codemirror_mode": {
    "name": "ipython",
    "version": 3
   },
   "file_extension": ".py",
   "mimetype": "text/x-python",
   "name": "python",
   "nbconvert_exporter": "python",
   "pygments_lexer": "ipython3",
   "version": "3.7.6"
  }
 },
 "nbformat": 4,
 "nbformat_minor": 4
}
