{
 "cells": [
  {
   "cell_type": "code",
   "execution_count": null,
   "metadata": {},
   "outputs": [],
   "source": [
    "import numpy as np\n",
    "import pickle\n",
    "import tqdm\n",
    "import os\n",
    "import time\n",
    "import warnings\n",
    "warnings.filterwarnings('ignore')"
   ]
  },
  {
   "cell_type": "code",
   "execution_count": null,
   "metadata": {},
   "outputs": [],
   "source": [
    "def create_data(file,c_len=150,q_len=50,embedding_size=768):\n",
    "    total_samples = 0\n",
    "    if os.path.exists(file):\n",
    "        print('data already stored in file')\n",
    "        with open(file,'rb') as f:\n",
    "            for index in range(1000000):\n",
    "                try:\n",
    "                    data=pickle.load(f)\n",
    "                except EOFError:\n",
    "                    break\n",
    "                else:\n",
    "                    total_samples += 1\n",
    "        return total_samples\n",
    "    with open(file,'wb') as f:\n",
    "        for index in tqdm.tqdm_notebook(range(5000)):\n",
    "            c_embed=np.random.randn(c_len,embedding_size)\n",
    "            q_embed=np.random.randn(q_len,embedding_size)\n",
    "            b=np.random.randint(c_len)\n",
    "            e=np.random.randint(b,c_len)\n",
    "            be=np.array([b,e],dtype=np.int32)\n",
    "            output=(c_embed,q_embed,be)\n",
    "            pickle.dump(output,f)\n",
    "            total_samples += 1\n",
    "    return total_samples\n",
    "\n",
    "def get_loader(file,batch_size):\n",
    "    inputs = []\n",
    "    with open(file,'rb') as f:\n",
    "        for index in range(1000000):\n",
    "            try:\n",
    "                data=pickle.load(f)\n",
    "            except EOFError:\n",
    "                break\n",
    "            else:\n",
    "                inputs.append(data)\n",
    "                if len(inputs)==batch_size:\n",
    "                    c_embeds,q_embeds,be=zip(*inputs)\n",
    "                    output_c_embeds=np.stack(c_embeds,axis=0)\n",
    "                    output_q_embeds=np.stack(q_embeds,axis=0)\n",
    "                    output_be=np.stack(be,axis=0)\n",
    "                    inputs=[]\n",
    "                    yield ((output_c_embeds,output_q_embeds),output_be)\n",
    "        if len(inputs)!=0:\n",
    "            c_embeds,q_embeds,be=zip(*inputs)\n",
    "            output_c_embeds=np.stack(c_embeds,axis=0)\n",
    "            output_q_embeds=np.stack(q_embeds,axis=0)\n",
    "            output_be=np.stack(be,axis=0)\n",
    "            inputs=[]\n",
    "            yield ((output_c_embeds,output_q_embeds),output_be)"
   ]
  },
  {
   "cell_type": "code",
   "execution_count": null,
   "metadata": {},
   "outputs": [],
   "source": [
    "# create and store data\n",
    "file='large_context_question_data.pkl'\n",
    "start_time=time.time()\n",
    "total_samples=create_data(file,c_len=150,q_len=50,embedding_size=768)\n",
    "print('total_samples:',total_samples)\n",
    "print('It cost {} s to create and store data'.format(time.time()-start_time))"
   ]
  },
  {
   "cell_type": "code",
   "execution_count": null,
   "metadata": {},
   "outputs": [],
   "source": [
    "# load and show data\n",
    "file='large_context_question_data.pkl'\n",
    "batch_size=32\n",
    "total_batches = 0\n",
    "second_time=time.time()\n",
    "for (output_c_embeds,output_q_embeds),output_be in tqdm.tqdm_notebook(get_loader(file,batch_size)):\n",
    "    total_batches += 1\n",
    "    print(output_c_embeds.shape,output_q_embeds.shape,output_be.shape)\n",
    "print('It cost {} s to show the data from file'.format(time.time()-second_time))\n",
    "print('total_batches:',total_batches)"
   ]
  },
  {
   "cell_type": "code",
   "execution_count": null,
   "metadata": {},
   "outputs": [],
   "source": []
  }
 ],
 "metadata": {
  "kernelspec": {
   "display_name": "Python 3",
   "language": "python",
   "name": "python3"
  },
  "language_info": {
   "codemirror_mode": {
    "name": "ipython",
    "version": 3
   },
   "file_extension": ".py",
   "mimetype": "text/x-python",
   "name": "python",
   "nbconvert_exporter": "python",
   "pygments_lexer": "ipython3",
   "version": "3.7.6"
  }
 },
 "nbformat": 4,
 "nbformat_minor": 4
}
