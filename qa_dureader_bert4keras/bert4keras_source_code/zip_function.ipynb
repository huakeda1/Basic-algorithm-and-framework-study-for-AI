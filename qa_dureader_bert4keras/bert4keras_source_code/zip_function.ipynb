{
 "cells": [
  {
   "cell_type": "code",
   "execution_count": 1,
   "metadata": {},
   "outputs": [],
   "source": [
    "import os, zipfile\n",
    "# def make_zip(source_dir, output_filename):\n",
    "#   zipf = zipfile.ZipFile(output_filename, 'w')\n",
    "#   pre_len = len(os.path.dirname(source_dir))\n",
    "#   for parent, dirnames, filenames in os.walk(source_dir):\n",
    "#     for filename in filenames:\n",
    "#       pathfile = os.path.join(parent, filename)\n",
    "#       arcname = pathfile[pre_len:].strip(os.path.sep)   #相对路径\n",
    "#       zipf.write(pathfile, arcname)\n",
    "#   zipf.close()"
   ]
  },
  {
   "cell_type": "code",
   "execution_count": null,
   "metadata": {},
   "outputs": [
    {
     "name": "stdout",
     "output_type": "stream",
     "text": [
      "./\n",
      "*******\n",
      "['.idea', 'examples', 'models', 'data', 'pretraining', '.ipynb_checkpoints', 'bert4keras']\n",
      "*******\n",
      "['setup.py', 'zip_function.ipynb', 'README.md', 'bert4keras_source_code.zip', 'LICENSE']\n",
      "-------\n"
     ]
    }
   ],
   "source": [
    "source_dir, output_filename='./','new.zip'\n",
    "zipf = zipfile.ZipFile(output_filename, 'w')\n",
    "pre_len = len(os.path.dirname(source_dir))\n",
    "for parent, dirnames, filenames in os.walk(source_dir):\n",
    "    print(parent)\n",
    "    print('*******')\n",
    "    print(dirnames)\n",
    "    print('*******')\n",
    "    print(filenames)\n",
    "    print('-------')\n",
    "    for filename in filenames:\n",
    "        pathfile = os.path.join(parent, filename)\n",
    "        arcname = pathfile[pre_len:].strip(os.path.sep)   #相对路径\n",
    "        zipf.write(pathfile, arcname)\n",
    "zipf.close()"
   ]
  },
  {
   "cell_type": "code",
   "execution_count": null,
   "metadata": {},
   "outputs": [],
   "source": []
  }
 ],
 "metadata": {
  "kernelspec": {
   "display_name": "Python 3",
   "language": "python",
   "name": "python3"
  },
  "language_info": {
   "codemirror_mode": {
    "name": "ipython",
    "version": 3
   },
   "file_extension": ".py",
   "mimetype": "text/x-python",
   "name": "python",
   "nbconvert_exporter": "python",
   "pygments_lexer": "ipython3",
   "version": "3.7.6"
  }
 },
 "nbformat": 4,
 "nbformat_minor": 4
}
