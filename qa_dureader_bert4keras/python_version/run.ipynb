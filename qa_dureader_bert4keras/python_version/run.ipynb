{
 "cells": [
  {
   "cell_type": "code",
   "execution_count": 1,
   "metadata": {},
   "outputs": [
    {
     "name": "stdout",
     "output_type": "stream",
     "text": [
      "Using TensorFlow backend.\n",
      "2020-12-07 14:34:35.724471: I tensorflow/core/platform/cpu_feature_guard.cc:143] Your CPU supports instructions that this TensorFlow binary was not compiled to use: SSE4.1 SSE4.2 AVX AVX2 AVX512F FMA\n",
      "2020-12-07 14:34:35.736385: I tensorflow/core/platform/profile_utils/cpu_utils.cc:102] CPU Frequency: 2500015000 Hz\n",
      "2020-12-07 14:34:35.740178: I tensorflow/compiler/xla/service/service.cc:168] XLA service 0x557967520090 initialized for platform Host (this does not guarantee that XLA will be used). Devices:\n",
      "2020-12-07 14:34:35.740212: I tensorflow/compiler/xla/service/service.cc:176]   StreamExecutor device (0): Host, Default Version\n",
      "2020-12-07 14:34:35.740412: I tensorflow/core/common_runtime/process_util.cc:147] Creating new thread pool with default inter op setting: 2. Tune using inter_op_parallelism_threads for best performance.\n",
      "/opt/conda/lib/python3.7/site-packages/tensorflow/python/framework/indexed_slices.py:434: UserWarning: Converting sparse IndexedSlices to a dense Tensor of unknown shape. This may consume a large amount of memory.\n",
      "  \"Converting sparse IndexedSlices to a dense Tensor of unknown shape. \"\n",
      "100%|███████████████████████████████████████| 1417/1417 [27:49<00:00,  1.18s/it]\n",
      "OrderedDict([('F1', '82.282'), ('EM', '70.642'), ('TOTAL', 1417), ('SKIP', 0)])\n",
      "100%|███████████████████████████████████████| 1417/1417 [27:36<00:00,  1.17s/it]\n"
     ]
    }
   ],
   "source": [
    "!python test.py"
   ]
  },
  {
   "cell_type": "code",
   "execution_count": null,
   "metadata": {},
   "outputs": [],
   "source": []
  }
 ],
 "metadata": {
  "kernelspec": {
   "display_name": "Python 3",
   "language": "python",
   "name": "python3"
  },
  "language_info": {
   "codemirror_mode": {
    "name": "ipython",
    "version": 3
   },
   "file_extension": ".py",
   "mimetype": "text/x-python",
   "name": "python",
   "nbconvert_exporter": "python",
   "pygments_lexer": "ipython3",
   "version": "3.7.6"
  }
 },
 "nbformat": 4,
 "nbformat_minor": 4
}
