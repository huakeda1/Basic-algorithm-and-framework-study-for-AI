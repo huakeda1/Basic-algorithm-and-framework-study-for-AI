{
 "cells": [
  {
   "cell_type": "code",
   "execution_count": 1,
   "metadata": {},
   "outputs": [],
   "source": [
    "import pandas as pd\n",
    "from collections import Counter,defaultdict\n",
    "import re\n",
    "import jieba\n",
    "import numpy as np"
   ]
  },
  {
   "cell_type": "code",
   "execution_count": 2,
   "metadata": {},
   "outputs": [],
   "source": [
    "def get_ngram_model_dict(file_dir='movie_comments.csv'):\n",
    "    sourcedata=pd.read_csv(file_dir,encoding='utf-8')\n",
    "    two_gram_dict=defaultdict(int)\n",
    "    one_gram_dict=defaultdict(int)\n",
    "    for comment in sourcedata['comment'].dropna():\n",
    "        comment=str(comment)\n",
    "        if not comment.strip():continue\n",
    "        tokened_comment=''.join(re.findall(r'\\w+',comment))\n",
    "        words=list(jieba.cut(tokened_comment))\n",
    "        if not words:continue\n",
    "        for index,word in enumerate(words[:-1]):\n",
    "            one_gram_dict[word]+=1\n",
    "            two_gram_dict[words[index]+words[index+1]]+=1\n",
    "        one_gram_dict[words[-1]]+=1\n",
    "    return one_gram_dict,two_gram_dict        "
   ]
  },
  {
   "cell_type": "code",
   "execution_count": 3,
   "metadata": {},
   "outputs": [
    {
     "name": "stderr",
     "output_type": "stream",
     "text": [
      "/opt/conda/lib/python3.7/site-packages/IPython/core/interactiveshell.py:3254: DtypeWarning: Columns (0,4) have mixed types.Specify dtype option on import or set low_memory=False.\n",
      "  if (await self.run_code(code, result,  async_=asy)):\n",
      "Building prefix dict from the default dictionary ...\n",
      "Loading model from cache /tmp/jieba.cache\n",
      "Dumping model to file cache /tmp/jieba.cache\n",
      "Dump cache file failed.\n",
      "Traceback (most recent call last):\n",
      "  File \"/home/stu_18701958249/.local/lib/python3.7/site-packages/jieba/__init__.py\", line 154, in initialize\n",
      "    _replace_file(fpath, cache_file)\n",
      "PermissionError: [Errno 1] Operation not permitted: '/tmp/tmpcaitim78' -> '/tmp/jieba.cache'\n",
      "Loading model cost 0.896 seconds.\n",
      "Prefix dict has been built successfully.\n"
     ]
    }
   ],
   "source": [
    "one_gram_dict,two_gram_dict=get_ngram_model_dict(file_dir='movie_comments.csv')"
   ]
  },
  {
   "cell_type": "markdown",
   "metadata": {},
   "source": [
    "![ngram_formula1](./ngram_formula1.jpg)\n",
    "\n",
    "![ngram_formula2](./ngram_formula2.jpg)"
   ]
  },
  {
   "cell_type": "code",
   "execution_count": 4,
   "metadata": {},
   "outputs": [],
   "source": [
    "def get_sentence_probability(sentence:str,one_gram_dict:dict,two_gram_dict:dict):\n",
    "    new_sentence=''.join(re.findall(r'\\w+',sentence))\n",
    "    words=list(jieba.cut(new_sentence))\n",
    "    final_prob=1.0\n",
    "    for index,word in enumerate(words[1:]):\n",
    "        final_prob*=two_gram_dict.get(words[index-1]+words[index],1.0)*1.0/one_gram_dict.get(words[index-1],len(one_gram_dict))\n",
    "    final_prob*=one_gram_dict.get(words[0],1.0)/sum(one_gram_dict.values())\n",
    "    return final_prob    "
   ]
  },
  {
   "cell_type": "code",
   "execution_count": 5,
   "metadata": {},
   "outputs": [
    {
     "name": "stdout",
     "output_type": "stream",
     "text": [
      "1.4531058008952092e-20\n",
      "1.898952810001505e-16\n",
      "5.951564476572636e-11\n"
     ]
    }
   ],
   "source": [
    "sentence1='今天不好天气，我打算不出去'\n",
    "print(get_sentence_probability(sentence1,one_gram_dict,two_gram_dict))\n",
    "sentence2='今天天气不好，我不打算出去'\n",
    "print(get_sentence_probability(sentence2,one_gram_dict,two_gram_dict))\n",
    "sentence3='今天是个好天气'\n",
    "print(get_sentence_probability(sentence3,one_gram_dict,two_gram_dict))"
   ]
  },
  {
   "cell_type": "code",
   "execution_count": null,
   "metadata": {},
   "outputs": [],
   "source": []
  }
 ],
 "metadata": {
  "kernelspec": {
   "display_name": "Python 3",
   "language": "python",
   "name": "python3"
  },
  "language_info": {
   "codemirror_mode": {
    "name": "ipython",
    "version": 3
   },
   "file_extension": ".py",
   "mimetype": "text/x-python",
   "name": "python",
   "nbconvert_exporter": "python",
   "pygments_lexer": "ipython3",
   "version": "3.7.6"
  }
 },
 "nbformat": 4,
 "nbformat_minor": 4
}
