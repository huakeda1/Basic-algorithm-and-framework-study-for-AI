{
 "cells": [
  {
   "cell_type": "code",
   "execution_count": 1,
   "metadata": {},
   "outputs": [],
   "source": [
    "import random\n",
    "def get_grammar_dict(raw_dict:str,split_sign:str):\n",
    "    grammar_dict={}\n",
    "    for line in raw_dict.split('\\n'):\n",
    "        if not line.strip():continue\n",
    "        parent_text,child_texts=line.split(split_sign)\n",
    "        grammar_dict[parent_text.strip()]=[elements.split() for elements in child_texts.split('|')]\n",
    "    return grammar_dict\n",
    "def generate_sentence_from_grammar(grammar_dict:dict,target_text:str):\n",
    "    if target_text not in grammar_dict:return target_text\n",
    "    targets=random.choice(grammar_dict[target_text])\n",
    "    return ''.join([generate_sentence_from_grammar(grammar_dict,target) for target in targets])"
   ]
  },
  {
   "cell_type": "code",
   "execution_count": 2,
   "metadata": {},
   "outputs": [],
   "source": [
    "host = \"\"\"\n",
    "host = 寒暄 报数 询问 业务相关 结尾 \n",
    "报数 = 我是 数字 号 ,\n",
    "数字 = 单个数字 | 数字 单个数字 \n",
    "单个数字 = 1 | 2 | 3 | 4 | 5 | 6 | 7 | 8 | 9 \n",
    "寒暄 = 称谓 打招呼 | 打招呼\n",
    "称谓 = 人称 ,\n",
    "人称 = 先生 | 女士 | 小朋友\n",
    "打招呼 = 你好 | 您好 \n",
    "询问 = 请问你要 | 您需要\n",
    "业务相关 = 玩玩 具体业务\n",
    "玩玩 = 耍一耍 | 玩一玩\n",
    "具体业务 = 喝酒 | 打牌 | 打猎 | 赌博\n",
    "结尾 = 吗？\"\"\"\n",
    "\n",
    "math_expression = \"\"\"\n",
    "expression = ( expression ) | expression op num_op_num | num_op_num\n",
    "num_op_num = num op num\n",
    "op = + | - | * | /\n",
    "num = int_num | float_num\n",
    "int_num = int_num digit| digit\n",
    "float_num = int_num . int_num\n",
    "digit = 0 | 1 | 2 | 3 | 4 | 5 | 6 | 7 | 8 | 9\n",
    "\"\"\""
   ]
  },
  {
   "cell_type": "code",
   "execution_count": 3,
   "metadata": {},
   "outputs": [
    {
     "name": "stdout",
     "output_type": "stream",
     "text": [
      "{'host': [['寒暄', '报数', '询问', '业务相关', '结尾']], '报数': [['我是', '数字', '号', ',']], '数字': [['单个数字'], ['数字', '单个数字']], '单个数字': [['1'], ['2'], ['3'], ['4'], ['5'], ['6'], ['7'], ['8'], ['9']], '寒暄': [['称谓', '打招呼'], ['打招呼']], '称谓': [['人称', ',']], '人称': [['先生'], ['女士'], ['小朋友']], '打招呼': [['你好'], ['您好']], '询问': [['请问你要'], ['您需要']], '业务相关': [['玩玩', '具体业务']], '玩玩': [['耍一耍'], ['玩一玩']], '具体业务': [['喝酒'], ['打牌'], ['打猎'], ['赌博']], '结尾': [['吗？']]}\n",
      "女士,你好我是52号,您需要玩一玩打猎吗？\n",
      "您好我是453号,请问你要玩一玩打牌吗？\n",
      "你好我是93号,请问你要玩一玩打牌吗？\n",
      "女士,您好我是71号,请问你要耍一耍打猎吗？\n",
      "女士,您好我是296号,请问你要耍一耍喝酒吗？\n"
     ]
    }
   ],
   "source": [
    "grammar_dict=get_grammar_dict(raw_dict=host,split_sign='=')\n",
    "print(grammar_dict)\n",
    "for _ in range(5):\n",
    "    new_sentence=generate_sentence_from_grammar(grammar_dict,target_text='host')\n",
    "    print(new_sentence)"
   ]
  },
  {
   "cell_type": "code",
   "execution_count": 4,
   "metadata": {},
   "outputs": [
    {
     "name": "stdout",
     "output_type": "stream",
     "text": [
      "{'expression': [['(', 'expression', ')'], ['expression', 'op', 'num_op_num'], ['num_op_num']], 'num_op_num': [['num', 'op', 'num']], 'op': [['+'], ['-'], ['*'], ['/']], 'num': [['int_num'], ['float_num']], 'int_num': [['int_num', 'digit'], ['digit']], 'float_num': [['int_num', '.', 'int_num']], 'digit': [['0'], ['1'], ['2'], ['3'], ['4'], ['5'], ['6'], ['7'], ['8'], ['9']]}\n",
      "['446-2']\n",
      "**********\n",
      "446-2\n",
      "['4468', '50.97']\n",
      "**********\n",
      "4468+50.97\n",
      "['', '5', '79.7', '1', '3.9', '']\n",
      "**********\n",
      "(5*79.7/1*3.9)\n",
      "['', '', '', '', '', '7.66-91.3', '', '7.95-575.71240', '', '', '', '26', '2.7', '98.208', '79', '', '8', '3.44-046', '43', '1.5', '4.4']\n",
      "**********\n",
      "(((((7.66-91.3)/7.95-575.71240)))/26/2.7+98.208/79)+8*3.44-046/43+1.5+4.4\n",
      "['', '', '', '51-6', '', '', '68', '081', '39502', '541.94-8.58', '893', '']\n",
      "**********\n",
      "unnormal expression: (((51-6))+68/081/39502+541.94-8.58*893)\n"
     ]
    }
   ],
   "source": [
    "import re\n",
    "grammar_dict=get_grammar_dict(raw_dict=math_expression,split_sign='=')\n",
    "print(grammar_dict)\n",
    "for _ in range(5):\n",
    "    new_sentence=generate_sentence_from_grammar(grammar_dict,target_text='expression')\n",
    "    results=re.split('[+ - * / ( )]',new_sentence)\n",
    "    print(results)\n",
    "    print('**********')\n",
    "    unnormal_sign=0\n",
    "    for result in results:\n",
    "        if not result.strip():continue\n",
    "        if len(result)>=2:\n",
    "            if result.startswith('0') and result[1]!='.':\n",
    "                unnormal_sign=1\n",
    "                print('unnormal expression:',new_sentence)\n",
    "                break\n",
    "    if not unnormal_sign:\n",
    "        print(new_sentence)"
   ]
  },
  {
   "cell_type": "code",
   "execution_count": null,
   "metadata": {},
   "outputs": [],
   "source": []
  }
 ],
 "metadata": {
  "kernelspec": {
   "display_name": "Python 3",
   "language": "python",
   "name": "python3"
  },
  "language_info": {
   "codemirror_mode": {
    "name": "ipython",
    "version": 3
   },
   "file_extension": ".py",
   "mimetype": "text/x-python",
   "name": "python",
   "nbconvert_exporter": "python",
   "pygments_lexer": "ipython3",
   "version": "3.7.6"
  }
 },
 "nbformat": 4,
 "nbformat_minor": 4
}
