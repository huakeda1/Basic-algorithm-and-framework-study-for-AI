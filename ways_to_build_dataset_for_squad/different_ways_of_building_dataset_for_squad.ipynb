{
 "cells": [
  {
   "cell_type": "markdown",
   "metadata": {},
   "source": [
    "# Using built-in function from transformers to create the dataloader for squad"
   ]
  },
  {
   "cell_type": "code",
   "execution_count": 1,
   "metadata": {},
   "outputs": [],
   "source": [
    "from transformers.data.processors.squad import SquadV2Processor\n",
    "from transformers import squad_convert_examples_to_features\n",
    "from transformers import BertTokenizer\n",
    "import numpy as np\n",
    "import torch\n",
    "from torch.utils.data import DataLoader, RandomSampler, SequentialSampler\n",
    "import multiprocessing\n",
    "import time"
   ]
  },
  {
   "cell_type": "code",
   "execution_count": 2,
   "metadata": {},
   "outputs": [
    {
     "name": "stderr",
     "output_type": "stream",
     "text": [
      "100%|██████████| 442/442 [01:36<00:00,  4.57it/s]\n"
     ]
    }
   ],
   "source": [
    "# Loading a V2 processor\n",
    "squad_v2_data_dir='./squad_v2'\n",
    "bert_dir=\"./pretrained_model/bert-base-uncased\"\n",
    "tokenizer = BertTokenizer.from_pretrained(bert_dir)\n",
    "processor = SquadV2Processor()\n",
    "train_examples = processor.get_train_examples(squad_v2_data_dir,'train-v2.0.json')\n",
    "\n",
    "# Loading a V1 processor\n",
    "# processor = SquadV1Processor()\n",
    "# examples = processor.get_dev_examples(squad_v1_data_dir)"
   ]
  },
  {
   "cell_type": "code",
   "execution_count": 3,
   "metadata": {},
   "outputs": [
    {
     "data": {
      "text/plain": [
       "['__class__',\n",
       " '__delattr__',\n",
       " '__dict__',\n",
       " '__dir__',\n",
       " '__doc__',\n",
       " '__eq__',\n",
       " '__format__',\n",
       " '__ge__',\n",
       " '__getattribute__',\n",
       " '__gt__',\n",
       " '__hash__',\n",
       " '__init__',\n",
       " '__init_subclass__',\n",
       " '__le__',\n",
       " '__lt__',\n",
       " '__module__',\n",
       " '__ne__',\n",
       " '__new__',\n",
       " '__reduce__',\n",
       " '__reduce_ex__',\n",
       " '__repr__',\n",
       " '__setattr__',\n",
       " '__sizeof__',\n",
       " '__str__',\n",
       " '__subclasshook__',\n",
       " '__weakref__',\n",
       " 'answer_text',\n",
       " 'answers',\n",
       " 'char_to_word_offset',\n",
       " 'context_text',\n",
       " 'doc_tokens',\n",
       " 'end_position',\n",
       " 'is_impossible',\n",
       " 'qas_id',\n",
       " 'question_text',\n",
       " 'start_position',\n",
       " 'title']"
      ]
     },
     "execution_count": 3,
     "metadata": {},
     "output_type": "execute_result"
    }
   ],
   "source": [
    "# the following code can be used to query the internal element of one class\n",
    "dir(train_examples[0])"
   ]
  },
  {
   "cell_type": "code",
   "execution_count": 4,
   "metadata": {},
   "outputs": [
    {
     "data": {
      "text/plain": [
       "130319"
      ]
     },
     "execution_count": 4,
     "metadata": {},
     "output_type": "execute_result"
    }
   ],
   "source": [
    "len(train_examples)"
   ]
  },
  {
   "cell_type": "code",
   "execution_count": 5,
   "metadata": {},
   "outputs": [
    {
     "name": "stderr",
     "output_type": "stream",
     "text": [
      "  0%|          | 0/130319 [00:00<?, ?it/s]"
     ]
    },
    {
     "name": "stdout",
     "output_type": "stream",
     "text": [
      "56be85543aeaaa14008c9063\n",
      "When did Beyonce start becoming popular?\n",
      "Beyoncé Giselle Knowles-Carter (/biːˈjɒnseɪ/ bee-YON-say) (born September 4, 1981) is an American singer, songwriter, record producer and actress. Born and raised in Houston, Texas, she performed in various singing and dancing competitions as a child, and rose to fame in the late 1990s as lead singer of R&B girl-group Destiny's Child. Managed by her father, Mathew Knowles, the group became one of the world's best-selling girl groups of all time. Their hiatus saw the release of Beyoncé's debut album, Dangerously in Love (2003), which established her as a solo artist worldwide, earned five Grammy Awards and featured the Billboard Hot 100 number-one singles \"Crazy in Love\" and \"Baby Boy\".\n",
      "in the late 1990s\n",
      "Beyoncé\n",
      "False\n",
      "[]\n",
      "39\n",
      "42\n",
      "5a8d7bf7df8bba001a0f9ab1\n",
      "What category of game is Legend of Zelda: Australia Twilight?\n",
      "The Legend of Zelda: Twilight Princess (Japanese: ゼルダの伝説 トワイライトプリンセス, Hepburn: Zeruda no Densetsu: Towairaito Purinsesu?) is an action-adventure game developed and published by Nintendo for the GameCube and Wii home video game consoles. It is the thirteenth installment in the The Legend of Zelda series. Originally planned for release on the GameCube in November 2005, Twilight Princess was delayed by Nintendo to allow its developers to refine the game, add more content, and port it to the Wii. The Wii version was released alongside the console in North America in November 2006, and in Japan, Europe, and Australia the following month. The GameCube version was released worldwide in December 2006.[b]\n",
      "None\n",
      "The_Legend_of_Zelda:_Twilight_Princess\n",
      "True\n",
      "[]\n",
      "0\n",
      "0\n"
     ]
    },
    {
     "name": "stderr",
     "output_type": "stream",
     "text": [
      "\n"
     ]
    }
   ],
   "source": [
    "from tqdm import tqdm\n",
    "impossible_counts=0\n",
    "display=False\n",
    "for i,example in enumerate(tqdm(train_examples)):\n",
    "    if train_examples[i].is_impossible:\n",
    "        print(train_examples[i].qas_id)\n",
    "        print(train_examples[i].question_text)\n",
    "        print(train_examples[i].context_text)\n",
    "        print(train_examples[i].answer_text)\n",
    "        print(train_examples[i].title)\n",
    "        print(train_examples[i].is_impossible)\n",
    "        print(train_examples[i].answers)\n",
    "        print(train_examples[i].start_position)\n",
    "        print(train_examples[i].end_position)\n",
    "        impossible_counts+=1\n",
    "    else:\n",
    "        if display==False:\n",
    "            print(train_examples[i].qas_id)\n",
    "            print(train_examples[i].question_text)\n",
    "            print(train_examples[i].context_text)\n",
    "            print(train_examples[i].answer_text)\n",
    "            print(train_examples[i].title)\n",
    "            print(train_examples[i].is_impossible)\n",
    "            print(train_examples[i].answers)\n",
    "            print(train_examples[i].start_position)\n",
    "            print(train_examples[i].end_position)\n",
    "        display=True\n",
    "    if impossible_counts==1:break"
   ]
  },
  {
   "cell_type": "code",
   "execution_count": 6,
   "metadata": {},
   "outputs": [
    {
     "name": "stderr",
     "output_type": "stream",
     "text": [
      "convert squad examples to features:   0%|          | 0/130319 [00:00<?, ?it/s]/home/stu_18701958249/.local/lib/python3.7/site-packages/transformers/tokenization_utils_base.py:1423: FutureWarning: The `max_len` attribute has been deprecated and will be removed in a future version, use `model_max_length` instead.\n",
      "  FutureWarning,\n",
      "/home/stu_18701958249/.local/lib/python3.7/site-packages/transformers/tokenization_utils_base.py:1423: FutureWarning: The `max_len` attribute has been deprecated and will be removed in a future version, use `model_max_length` instead.\n",
      "  FutureWarning,\n",
      "/home/stu_18701958249/.local/lib/python3.7/site-packages/transformers/tokenization_utils_base.py:1423: FutureWarning: The `max_len` attribute has been deprecated and will be removed in a future version, use `model_max_length` instead.\n",
      "  FutureWarning,\n",
      "/home/stu_18701958249/.local/lib/python3.7/site-packages/transformers/tokenization_utils_base.py:1423: FutureWarning: The `max_len` attribute has been deprecated and will be removed in a future version, use `model_max_length` instead.\n",
      "  FutureWarning,\n",
      "/home/stu_18701958249/.local/lib/python3.7/site-packages/transformers/tokenization_utils_base.py:1423: FutureWarning: The `max_len` attribute has been deprecated and will be removed in a future version, use `model_max_length` instead.\n",
      "  FutureWarning,\n",
      "/home/stu_18701958249/.local/lib/python3.7/site-packages/transformers/tokenization_utils_base.py:1423: FutureWarning: The `max_len` attribute has been deprecated and will be removed in a future version, use `model_max_length` instead.\n",
      "  FutureWarning,\n",
      "/home/stu_18701958249/.local/lib/python3.7/site-packages/transformers/tokenization_utils_base.py:1423: FutureWarning: The `max_len` attribute has been deprecated and will be removed in a future version, use `model_max_length` instead.\n",
      "  FutureWarning,\n",
      "/home/stu_18701958249/.local/lib/python3.7/site-packages/transformers/tokenization_utils_base.py:1423: FutureWarning: The `max_len` attribute has been deprecated and will be removed in a future version, use `model_max_length` instead.\n",
      "  FutureWarning,\n",
      "/home/stu_18701958249/.local/lib/python3.7/site-packages/transformers/tokenization_utils_base.py:1423: FutureWarning: The `max_len` attribute has been deprecated and will be removed in a future version, use `model_max_length` instead.\n",
      "  FutureWarning,\n",
      "/home/stu_18701958249/.local/lib/python3.7/site-packages/transformers/tokenization_utils_base.py:1423: FutureWarning: The `max_len` attribute has been deprecated and will be removed in a future version, use `model_max_length` instead.\n",
      "  FutureWarning,\n",
      "/home/stu_18701958249/.local/lib/python3.7/site-packages/transformers/tokenization_utils_base.py:1423: FutureWarning: The `max_len` attribute has been deprecated and will be removed in a future version, use `model_max_length` instead.\n",
      "  FutureWarning,\n",
      "/home/stu_18701958249/.local/lib/python3.7/site-packages/transformers/tokenization_utils_base.py:1423: FutureWarning: The `max_len` attribute has been deprecated and will be removed in a future version, use `model_max_length` instead.\n",
      "  FutureWarning,\n",
      "/home/stu_18701958249/.local/lib/python3.7/site-packages/transformers/tokenization_utils_base.py:1423: FutureWarning: The `max_len` attribute has been deprecated and will be removed in a future version, use `model_max_length` instead.\n",
      "  FutureWarning,\n",
      "/home/stu_18701958249/.local/lib/python3.7/site-packages/transformers/tokenization_utils_base.py:1423: FutureWarning: The `max_len` attribute has been deprecated and will be removed in a future version, use `model_max_length` instead.\n",
      "  FutureWarning,\n",
      "/home/stu_18701958249/.local/lib/python3.7/site-packages/transformers/tokenization_utils_base.py:1423: FutureWarning: The `max_len` attribute has been deprecated and will be removed in a future version, use `model_max_length` instead.\n",
      "  FutureWarning,\n",
      "/home/stu_18701958249/.local/lib/python3.7/site-packages/transformers/tokenization_utils_base.py:1423: FutureWarning: The `max_len` attribute has been deprecated and will be removed in a future version, use `model_max_length` instead.\n",
      "  FutureWarning,\n",
      "/home/stu_18701958249/.local/lib/python3.7/site-packages/transformers/tokenization_utils_base.py:1423: FutureWarning: The `max_len` attribute has been deprecated and will be removed in a future version, use `model_max_length` instead.\n",
      "  FutureWarning,\n",
      "/home/stu_18701958249/.local/lib/python3.7/site-packages/transformers/tokenization_utils_base.py:1423: FutureWarning: The `max_len` attribute has been deprecated and will be removed in a future version, use `model_max_length` instead.\n",
      "  FutureWarning,\n",
      "/home/stu_18701958249/.local/lib/python3.7/site-packages/transformers/tokenization_utils_base.py:1423: FutureWarning: The `max_len` attribute has been deprecated and will be removed in a future version, use `model_max_length` instead.\n",
      "  FutureWarning,\n",
      "/home/stu_18701958249/.local/lib/python3.7/site-packages/transformers/tokenization_utils_base.py:1423: FutureWarning: The `max_len` attribute has been deprecated and will be removed in a future version, use `model_max_length` instead.\n",
      "  FutureWarning,\n",
      "/home/stu_18701958249/.local/lib/python3.7/site-packages/transformers/tokenization_utils_base.py:1423: FutureWarning: The `max_len` attribute has been deprecated and will be removed in a future version, use `model_max_length` instead.\n",
      "  FutureWarning,\n",
      "/home/stu_18701958249/.local/lib/python3.7/site-packages/transformers/tokenization_utils_base.py:1423: FutureWarning: The `max_len` attribute has been deprecated and will be removed in a future version, use `model_max_length` instead.\n",
      "  FutureWarning,\n",
      "/home/stu_18701958249/.local/lib/python3.7/site-packages/transformers/tokenization_utils_base.py:1423: FutureWarning: The `max_len` attribute has been deprecated and will be removed in a future version, use `model_max_length` instead.\n",
      "  FutureWarning,\n",
      "/home/stu_18701958249/.local/lib/python3.7/site-packages/transformers/tokenization_utils_base.py:1423: FutureWarning: The `max_len` attribute has been deprecated and will be removed in a future version, use `model_max_length` instead.\n",
      "  FutureWarning,\n",
      "/home/stu_18701958249/.local/lib/python3.7/site-packages/transformers/tokenization_utils_base.py:1423: FutureWarning: The `max_len` attribute has been deprecated and will be removed in a future version, use `model_max_length` instead.\n",
      "  FutureWarning,\n",
      "/home/stu_18701958249/.local/lib/python3.7/site-packages/transformers/tokenization_utils_base.py:1423: FutureWarning: The `max_len` attribute has been deprecated and will be removed in a future version, use `model_max_length` instead.\n",
      "  FutureWarning,\n",
      "/home/stu_18701958249/.local/lib/python3.7/site-packages/transformers/tokenization_utils_base.py:1423: FutureWarning: The `max_len` attribute has been deprecated and will be removed in a future version, use `model_max_length` instead.\n",
      "  FutureWarning,\n",
      "/home/stu_18701958249/.local/lib/python3.7/site-packages/transformers/tokenization_utils_base.py:1423: FutureWarning: The `max_len` attribute has been deprecated and will be removed in a future version, use `model_max_length` instead.\n",
      "  FutureWarning,\n",
      "/home/stu_18701958249/.local/lib/python3.7/site-packages/transformers/tokenization_utils_base.py:1423: FutureWarning: The `max_len` attribute has been deprecated and will be removed in a future version, use `model_max_length` instead.\n",
      "  FutureWarning,\n",
      "/home/stu_18701958249/.local/lib/python3.7/site-packages/transformers/tokenization_utils_base.py:1423: FutureWarning: The `max_len` attribute has been deprecated and will be removed in a future version, use `model_max_length` instead.\n",
      "  FutureWarning,\n",
      "/home/stu_18701958249/.local/lib/python3.7/site-packages/transformers/tokenization_utils_base.py:1423: FutureWarning: The `max_len` attribute has been deprecated and will be removed in a future version, use `model_max_length` instead.\n",
      "  FutureWarning,\n",
      "/home/stu_18701958249/.local/lib/python3.7/site-packages/transformers/tokenization_utils_base.py:1423: FutureWarning: The `max_len` attribute has been deprecated and will be removed in a future version, use `model_max_length` instead.\n",
      "  FutureWarning,\n",
      "/home/stu_18701958249/.local/lib/python3.7/site-packages/transformers/tokenization_utils_base.py:1423: FutureWarning: The `max_len` attribute has been deprecated and will be removed in a future version, use `model_max_length` instead.\n",
      "  FutureWarning,\n",
      "/home/stu_18701958249/.local/lib/python3.7/site-packages/transformers/tokenization_utils_base.py:1423: FutureWarning: The `max_len` attribute has been deprecated and will be removed in a future version, use `model_max_length` instead.\n",
      "  FutureWarning,\n",
      "/home/stu_18701958249/.local/lib/python3.7/site-packages/transformers/tokenization_utils_base.py:1423: FutureWarning: The `max_len` attribute has been deprecated and will be removed in a future version, use `model_max_length` instead.\n",
      "  FutureWarning,\n",
      "/home/stu_18701958249/.local/lib/python3.7/site-packages/transformers/tokenization_utils_base.py:1423: FutureWarning: The `max_len` attribute has been deprecated and will be removed in a future version, use `model_max_length` instead.\n",
      "  FutureWarning,\n",
      "/home/stu_18701958249/.local/lib/python3.7/site-packages/transformers/tokenization_utils_base.py:1423: FutureWarning: The `max_len` attribute has been deprecated and will be removed in a future version, use `model_max_length` instead.\n",
      "  FutureWarning,\n",
      "/home/stu_18701958249/.local/lib/python3.7/site-packages/transformers/tokenization_utils_base.py:1423: FutureWarning: The `max_len` attribute has been deprecated and will be removed in a future version, use `model_max_length` instead.\n",
      "  FutureWarning,\n",
      "/home/stu_18701958249/.local/lib/python3.7/site-packages/transformers/tokenization_utils_base.py:1423: FutureWarning: The `max_len` attribute has been deprecated and will be removed in a future version, use `model_max_length` instead.\n",
      "  FutureWarning,\n",
      "/home/stu_18701958249/.local/lib/python3.7/site-packages/transformers/tokenization_utils_base.py:1423: FutureWarning: The `max_len` attribute has been deprecated and will be removed in a future version, use `model_max_length` instead.\n",
      "  FutureWarning,\n",
      "/home/stu_18701958249/.local/lib/python3.7/site-packages/transformers/tokenization_utils_base.py:1423: FutureWarning: The `max_len` attribute has been deprecated and will be removed in a future version, use `model_max_length` instead.\n",
      "  FutureWarning,\n",
      "/home/stu_18701958249/.local/lib/python3.7/site-packages/transformers/tokenization_utils_base.py:1423: FutureWarning: The `max_len` attribute has been deprecated and will be removed in a future version, use `model_max_length` instead.\n",
      "  FutureWarning,\n",
      "/home/stu_18701958249/.local/lib/python3.7/site-packages/transformers/tokenization_utils_base.py:1423: FutureWarning: The `max_len` attribute has been deprecated and will be removed in a future version, use `model_max_length` instead.\n",
      "  FutureWarning,\n",
      "/home/stu_18701958249/.local/lib/python3.7/site-packages/transformers/tokenization_utils_base.py:1423: FutureWarning: The `max_len` attribute has been deprecated and will be removed in a future version, use `model_max_length` instead.\n",
      "  FutureWarning,\n",
      "/home/stu_18701958249/.local/lib/python3.7/site-packages/transformers/tokenization_utils_base.py:1423: FutureWarning: The `max_len` attribute has been deprecated and will be removed in a future version, use `model_max_length` instead.\n",
      "  FutureWarning,\n",
      "/home/stu_18701958249/.local/lib/python3.7/site-packages/transformers/tokenization_utils_base.py:1423: FutureWarning: The `max_len` attribute has been deprecated and will be removed in a future version, use `model_max_length` instead.\n",
      "  FutureWarning,\n",
      "/home/stu_18701958249/.local/lib/python3.7/site-packages/transformers/tokenization_utils_base.py:1423: FutureWarning: The `max_len` attribute has been deprecated and will be removed in a future version, use `model_max_length` instead.\n",
      "  FutureWarning,\n",
      "/home/stu_18701958249/.local/lib/python3.7/site-packages/transformers/tokenization_utils_base.py:1423: FutureWarning: The `max_len` attribute has been deprecated and will be removed in a future version, use `model_max_length` instead.\n",
      "  FutureWarning,\n",
      "/home/stu_18701958249/.local/lib/python3.7/site-packages/transformers/tokenization_utils_base.py:1423: FutureWarning: The `max_len` attribute has been deprecated and will be removed in a future version, use `model_max_length` instead.\n",
      "  FutureWarning,\n",
      "/home/stu_18701958249/.local/lib/python3.7/site-packages/transformers/tokenization_utils_base.py:1423: FutureWarning: The `max_len` attribute has been deprecated and will be removed in a future version, use `model_max_length` instead.\n",
      "  FutureWarning,\n",
      "/home/stu_18701958249/.local/lib/python3.7/site-packages/transformers/tokenization_utils_base.py:1423: FutureWarning: The `max_len` attribute has been deprecated and will be removed in a future version, use `model_max_length` instead.\n",
      "  FutureWarning,\n",
      "/home/stu_18701958249/.local/lib/python3.7/site-packages/transformers/tokenization_utils_base.py:1423: FutureWarning: The `max_len` attribute has been deprecated and will be removed in a future version, use `model_max_length` instead.\n",
      "  FutureWarning,\n",
      "/home/stu_18701958249/.local/lib/python3.7/site-packages/transformers/tokenization_utils_base.py:1423: FutureWarning: The `max_len` attribute has been deprecated and will be removed in a future version, use `model_max_length` instead.\n",
      "  FutureWarning,\n",
      "/home/stu_18701958249/.local/lib/python3.7/site-packages/transformers/tokenization_utils_base.py:1423: FutureWarning: The `max_len` attribute has been deprecated and will be removed in a future version, use `model_max_length` instead.\n",
      "  FutureWarning,\n",
      "/home/stu_18701958249/.local/lib/python3.7/site-packages/transformers/tokenization_utils_base.py:1423: FutureWarning: The `max_len` attribute has been deprecated and will be removed in a future version, use `model_max_length` instead.\n",
      "  FutureWarning,\n",
      "/home/stu_18701958249/.local/lib/python3.7/site-packages/transformers/tokenization_utils_base.py:1423: FutureWarning: The `max_len` attribute has been deprecated and will be removed in a future version, use `model_max_length` instead.\n",
      "  FutureWarning,\n",
      "/home/stu_18701958249/.local/lib/python3.7/site-packages/transformers/tokenization_utils_base.py:1423: FutureWarning: The `max_len` attribute has been deprecated and will be removed in a future version, use `model_max_length` instead.\n",
      "  FutureWarning,\n",
      "/home/stu_18701958249/.local/lib/python3.7/site-packages/transformers/tokenization_utils_base.py:1423: FutureWarning: The `max_len` attribute has been deprecated and will be removed in a future version, use `model_max_length` instead.\n",
      "  FutureWarning,\n",
      "/home/stu_18701958249/.local/lib/python3.7/site-packages/transformers/tokenization_utils_base.py:1423: FutureWarning: The `max_len` attribute has been deprecated and will be removed in a future version, use `model_max_length` instead.\n",
      "  FutureWarning,\n",
      "/home/stu_18701958249/.local/lib/python3.7/site-packages/transformers/tokenization_utils_base.py:1423: FutureWarning: The `max_len` attribute has been deprecated and will be removed in a future version, use `model_max_length` instead.\n",
      "  FutureWarning,\n",
      "/home/stu_18701958249/.local/lib/python3.7/site-packages/transformers/tokenization_utils_base.py:1423: FutureWarning: The `max_len` attribute has been deprecated and will be removed in a future version, use `model_max_length` instead.\n",
      "  FutureWarning,\n",
      "/home/stu_18701958249/.local/lib/python3.7/site-packages/transformers/tokenization_utils_base.py:1423: FutureWarning: The `max_len` attribute has been deprecated and will be removed in a future version, use `model_max_length` instead.\n",
      "  FutureWarning,\n",
      "/home/stu_18701958249/.local/lib/python3.7/site-packages/transformers/tokenization_utils_base.py:1423: FutureWarning: The `max_len` attribute has been deprecated and will be removed in a future version, use `model_max_length` instead.\n",
      "  FutureWarning,\n",
      "/home/stu_18701958249/.local/lib/python3.7/site-packages/transformers/tokenization_utils_base.py:1423: FutureWarning: The `max_len` attribute has been deprecated and will be removed in a future version, use `model_max_length` instead.\n",
      "  FutureWarning,\n",
      "convert squad examples to features: 100%|██████████| 130319/130319 [01:53<00:00, 1148.26it/s]\n",
      "add example index and unique id: 100%|██████████| 130319/130319 [00:00<00:00, 342519.77it/s]\n"
     ]
    }
   ],
   "source": [
    "train_features, train_dataset = squad_convert_examples_to_features(\n",
    "            examples=train_examples,\n",
    "            tokenizer=tokenizer,\n",
    "            max_seq_length=384,\n",
    "            doc_stride=128,\n",
    "            max_query_length=64,\n",
    "            is_training=True,\n",
    "            return_dataset=\"pt\",\n",
    "            threads=multiprocessing.cpu_count(),\n",
    "        )"
   ]
  },
  {
   "cell_type": "code",
   "execution_count": 7,
   "metadata": {},
   "outputs": [],
   "source": [
    "# the following code can be used to query the internal element of one class\n",
    "# dir(train_features[0])"
   ]
  },
  {
   "cell_type": "code",
   "execution_count": 8,
   "metadata": {},
   "outputs": [],
   "source": [
    "train_sampler = RandomSampler(train_dataset)\n",
    "train_dataloader = DataLoader(train_dataset, sampler=train_sampler, batch_size=16)"
   ]
  },
  {
   "cell_type": "code",
   "execution_count": 9,
   "metadata": {},
   "outputs": [
    {
     "name": "stderr",
     "output_type": "stream",
     "text": [
      "100%|██████████| 8247/8247 [00:08<00:00, 981.81it/s] "
     ]
    },
    {
     "name": "stdout",
     "output_type": "stream",
     "text": [
      "Time cost for getting all batches: 8.403175354003906\n"
     ]
    },
    {
     "name": "stderr",
     "output_type": "stream",
     "text": [
      "\n"
     ]
    }
   ],
   "source": [
    "start_time=time.time()\n",
    "device='cuda:0' if torch.cuda.is_available() else 'cpu'\n",
    "for step, batch in enumerate(tqdm(train_dataloader)):\n",
    "    batch = tuple(t.to(device) for t in batch)\n",
    "#     inputs = {\n",
    "#         \"input_ids\": batch[0],\n",
    "#         \"attention_mask\": batch[1],\n",
    "#         \"token_type_ids\": batch[2],\n",
    "#         \"start_positions\": batch[3],\n",
    "#         \"end_positions\": batch[4],\n",
    "#     }\n",
    "#     print('start_positions:',batch[3])\n",
    "#     print('end_positions:',batch[4])\n",
    "print('Time cost for getting all batches:',time.time()-start_time)"
   ]
  },
  {
   "cell_type": "markdown",
   "metadata": {},
   "source": [
    "# Building a new dataset inherited from torch.utils.data.Dataset"
   ]
  },
  {
   "cell_type": "code",
   "execution_count": 10,
   "metadata": {},
   "outputs": [],
   "source": [
    "import torch\n",
    "from torch.utils.data import DataLoader,Dataset\n",
    "from transformers import AutoTokenizer,AutoModelForQuestionAnswering\n",
    "import json\n",
    "from tqdm import tqdm_notebook\n",
    "import multiprocessing\n",
    "from tqdm import tqdm"
   ]
  },
  {
   "cell_type": "code",
   "execution_count": 11,
   "metadata": {},
   "outputs": [],
   "source": [
    "class SquadDataset(Dataset):\n",
    "    def __init__(self,data_path,vocab_path,max_length=384):\n",
    "        super(SquadDataset,self).__init__()\n",
    "        self.data_path=data_path\n",
    "        self.data_samples,(self.data_questionids,self.data_questions,self.data_contexts,self.data_answers)=self.get_samples(data_path)\n",
    "        self.tokenizer=AutoTokenizer.from_pretrained(vocab_path)\n",
    "        self.max_length=max_length\n",
    "    def get_samples(self,data_path):\n",
    "        data_contexts,data_questions,data_questionids,data_answers=[],[],[],[]\n",
    "        data_samples=[]\n",
    "        with open(self.data_path,'r',encoding='utf-8') as f:\n",
    "            dataset=json.load(f)\n",
    "        for _,data in tqdm_notebook(enumerate(dataset['data'])):\n",
    "            for _,paragraph in tqdm_notebook(enumerate(data['paragraphs'])):\n",
    "                context=paragraph['context']\n",
    "                if context not in data_contexts:\n",
    "                    data_contexts.append(context)\n",
    "                for qa in paragraph['qas']:\n",
    "                    qid=qa['id']\n",
    "                    if qid not in data_questionids:\n",
    "                        data_questionids.append(qid)\n",
    "                    question=qa['question']\n",
    "                    if question not in data_questions:\n",
    "                        data_questions.append(question)\n",
    "                    current_answer=[]\n",
    "                    for answer in qa['answers']:\n",
    "                        text=answer['text']\n",
    "                        if (len(text)==0) or (text in current_answer):\n",
    "                            continue\n",
    "                        else:\n",
    "                            current_answer.append(text)\n",
    "                        answer=answer['answer_start'] \n",
    "                        if text not in data_answers:\n",
    "                            data_answers.append(text)\n",
    "                        data_samples.append((data_questionids.index(qid),data_questions.index(question),data_contexts.index(context),data_answers.index(text)))\n",
    "        return data_samples,(data_questionids,data_questions,data_contexts,data_answers)\n",
    "    def get_answer_start(self,answer_ids,sequence_ids):\n",
    "        for i in range(len(sequence_ids)):\n",
    "            if sequence_ids[i:i+len(answer_ids)]==answer_ids:\n",
    "                return i\n",
    "        return -1\n",
    "    def __getitem__(self,i):\n",
    "        qid_index,question_index,context_index,answer_idnex=self.data_samples[i]\n",
    "        qid,question,context,answer=self.data_questionids[qid_index],self.data_questions[question_index],self.data_contexts[context_index],self.data_answers[answer_idnex]\n",
    "        output=self.tokenizer.encode_plus(question,context,add_special_tokens=True,max_length=self.max_length,truncation=True)\n",
    "        pure_answer_ids=self.tokenizer.encode(answer)[1:-1]\n",
    "        start=self.get_answer_start(pure_answer_ids,output['input_ids'])\n",
    "        if start!=-1:\n",
    "            label=(start,start+len(pure_answer_ids)-1)\n",
    "        else:\n",
    "            label=(0,0)\n",
    "        return output,label\n",
    "    def __len__(self):\n",
    "        return len(self.data_samples)\n",
    "def collate_func(batch):\n",
    "    def padding(indices,max_length,pad_idx=0):\n",
    "        pad_indices=[item+[pad_idx]*max(0,max_length-len(item)) for item in indices]\n",
    "        return torch.tensor(pad_indices)\n",
    "#     input_ids=[output['input_ids'] for output,label in batch]\n",
    "#     max_length=max([len(t) for t in input_ids])\n",
    "#     labels=torch.tensor([label for output,label in batch])\n",
    "#     token_type_ids=[output['token_type_ids'] for output,label in batch]\n",
    "#     attention_mask=[output['attention_mask'] for output,label in batch]\n",
    "    \n",
    "    result=[(output['input_ids'],output['token_type_ids'],output['attention_mask'],label) for output,label in batch]\n",
    "    input_ids,token_type_ids,attention_mask,labels=zip(*result)\n",
    "    labels=torch.tensor(labels)\n",
    "    max_length=max([len(t) for t in input_ids])\n",
    "    \n",
    "    input_ids_padded=padding(input_ids,max_length)\n",
    "    token_type_ids_padded=padding(token_type_ids,max_length)\n",
    "    attention_mask_padded=padding(attention_mask,max_length)\n",
    "    return input_ids_padded,token_type_ids_padded,attention_mask_padded,labels"
   ]
  },
  {
   "cell_type": "code",
   "execution_count": 12,
   "metadata": {},
   "outputs": [
    {
     "name": "stderr",
     "output_type": "stream",
     "text": [
      "/opt/conda/lib/python3.7/site-packages/ipykernel_launcher.py:13: TqdmDeprecationWarning: This function will be removed in tqdm==5.0.0\n",
      "Please use `tqdm.notebook.tqdm` instead of `tqdm.tqdm_notebook`\n",
      "  del sys.path[0]\n"
     ]
    },
    {
     "data": {
      "application/vnd.jupyter.widget-view+json": {
       "model_id": "682c7c59693f4b5a95d695aa3b196303",
       "version_major": 2,
       "version_minor": 0
      },
      "text/plain": [
       "HBox(children=(FloatProgress(value=1.0, bar_style='info', max=1.0), HTML(value='')))"
      ]
     },
     "metadata": {},
     "output_type": "display_data"
    },
    {
     "name": "stderr",
     "output_type": "stream",
     "text": [
      "/opt/conda/lib/python3.7/site-packages/ipykernel_launcher.py:14: TqdmDeprecationWarning: This function will be removed in tqdm==5.0.0\n",
      "Please use `tqdm.notebook.tqdm` instead of `tqdm.tqdm_notebook`\n",
      "  \n"
     ]
    },
    {
     "data": {
      "application/vnd.jupyter.widget-view+json": {
       "model_id": "daac319b6c9442d083e7363c76afc2ca",
       "version_major": 2,
       "version_minor": 0
      },
      "text/plain": [
       "HBox(children=(FloatProgress(value=1.0, bar_style='info', max=1.0), HTML(value='')))"
      ]
     },
     "metadata": {},
     "output_type": "display_data"
    },
    {
     "name": "stdout",
     "output_type": "stream",
     "text": [
      "\n"
     ]
    },
    {
     "data": {
      "application/vnd.jupyter.widget-view+json": {
       "model_id": "7f8ea429e5ed40f886654a637045730a",
       "version_major": 2,
       "version_minor": 0
      },
      "text/plain": [
       "HBox(children=(FloatProgress(value=1.0, bar_style='info', max=1.0), HTML(value='')))"
      ]
     },
     "metadata": {},
     "output_type": "display_data"
    },
    {
     "name": "stdout",
     "output_type": "stream",
     "text": [
      "\n"
     ]
    },
    {
     "data": {
      "application/vnd.jupyter.widget-view+json": {
       "model_id": "f58efed8fe67499cad28242544ad0ec8",
       "version_major": 2,
       "version_minor": 0
      },
      "text/plain": [
       "HBox(children=(FloatProgress(value=1.0, bar_style='info', max=1.0), HTML(value='')))"
      ]
     },
     "metadata": {},
     "output_type": "display_data"
    },
    {
     "name": "stdout",
     "output_type": "stream",
     "text": [
      "\n"
     ]
    },
    {
     "data": {
      "application/vnd.jupyter.widget-view+json": {
       "model_id": "c7d18c85585645258ba244de694846e0",
       "version_major": 2,
       "version_minor": 0
      },
      "text/plain": [
       "HBox(children=(FloatProgress(value=1.0, bar_style='info', max=1.0), HTML(value='')))"
      ]
     },
     "metadata": {},
     "output_type": "display_data"
    },
    {
     "name": "stdout",
     "output_type": "stream",
     "text": [
      "\n"
     ]
    },
    {
     "data": {
      "application/vnd.jupyter.widget-view+json": {
       "model_id": "74d36d653e5d4eb686d7f3154829fb52",
       "version_major": 2,
       "version_minor": 0
      },
      "text/plain": [
       "HBox(children=(FloatProgress(value=1.0, bar_style='info', max=1.0), HTML(value='')))"
      ]
     },
     "metadata": {},
     "output_type": "display_data"
    },
    {
     "name": "stdout",
     "output_type": "stream",
     "text": [
      "\n"
     ]
    },
    {
     "data": {
      "application/vnd.jupyter.widget-view+json": {
       "model_id": "f2fdf8e5c80f452a990ac793d36197e5",
       "version_major": 2,
       "version_minor": 0
      },
      "text/plain": [
       "HBox(children=(FloatProgress(value=1.0, bar_style='info', max=1.0), HTML(value='')))"
      ]
     },
     "metadata": {},
     "output_type": "display_data"
    },
    {
     "name": "stdout",
     "output_type": "stream",
     "text": [
      "\n"
     ]
    },
    {
     "data": {
      "application/vnd.jupyter.widget-view+json": {
       "model_id": "3b5914b16caa47d097019a6b11c37df8",
       "version_major": 2,
       "version_minor": 0
      },
      "text/plain": [
       "HBox(children=(FloatProgress(value=1.0, bar_style='info', max=1.0), HTML(value='')))"
      ]
     },
     "metadata": {},
     "output_type": "display_data"
    },
    {
     "name": "stdout",
     "output_type": "stream",
     "text": [
      "\n"
     ]
    },
    {
     "data": {
      "application/vnd.jupyter.widget-view+json": {
       "model_id": "af1693d8063d4bd0aa3f072abb06c3d4",
       "version_major": 2,
       "version_minor": 0
      },
      "text/plain": [
       "HBox(children=(FloatProgress(value=1.0, bar_style='info', max=1.0), HTML(value='')))"
      ]
     },
     "metadata": {},
     "output_type": "display_data"
    },
    {
     "name": "stdout",
     "output_type": "stream",
     "text": [
      "\n"
     ]
    },
    {
     "data": {
      "application/vnd.jupyter.widget-view+json": {
       "model_id": "7ce267fee7484c5aab697c3b2e07592e",
       "version_major": 2,
       "version_minor": 0
      },
      "text/plain": [
       "HBox(children=(FloatProgress(value=1.0, bar_style='info', max=1.0), HTML(value='')))"
      ]
     },
     "metadata": {},
     "output_type": "display_data"
    },
    {
     "name": "stdout",
     "output_type": "stream",
     "text": [
      "\n"
     ]
    },
    {
     "data": {
      "application/vnd.jupyter.widget-view+json": {
       "model_id": "4b21577bec77424db86c2ee68bc97f89",
       "version_major": 2,
       "version_minor": 0
      },
      "text/plain": [
       "HBox(children=(FloatProgress(value=1.0, bar_style='info', max=1.0), HTML(value='')))"
      ]
     },
     "metadata": {},
     "output_type": "display_data"
    },
    {
     "name": "stdout",
     "output_type": "stream",
     "text": [
      "\n"
     ]
    },
    {
     "data": {
      "application/vnd.jupyter.widget-view+json": {
       "model_id": "8840ce5c63fe4a99a510cc31e25156fc",
       "version_major": 2,
       "version_minor": 0
      },
      "text/plain": [
       "HBox(children=(FloatProgress(value=1.0, bar_style='info', max=1.0), HTML(value='')))"
      ]
     },
     "metadata": {},
     "output_type": "display_data"
    },
    {
     "name": "stdout",
     "output_type": "stream",
     "text": [
      "\n"
     ]
    },
    {
     "data": {
      "application/vnd.jupyter.widget-view+json": {
       "model_id": "849409cfcd104fbbb2c02491ceacc3f1",
       "version_major": 2,
       "version_minor": 0
      },
      "text/plain": [
       "HBox(children=(FloatProgress(value=1.0, bar_style='info', max=1.0), HTML(value='')))"
      ]
     },
     "metadata": {},
     "output_type": "display_data"
    },
    {
     "name": "stdout",
     "output_type": "stream",
     "text": [
      "\n"
     ]
    },
    {
     "data": {
      "application/vnd.jupyter.widget-view+json": {
       "model_id": "338d1eed7bfc43f98ff4e4ccebea883f",
       "version_major": 2,
       "version_minor": 0
      },
      "text/plain": [
       "HBox(children=(FloatProgress(value=1.0, bar_style='info', max=1.0), HTML(value='')))"
      ]
     },
     "metadata": {},
     "output_type": "display_data"
    },
    {
     "name": "stdout",
     "output_type": "stream",
     "text": [
      "\n"
     ]
    },
    {
     "data": {
      "application/vnd.jupyter.widget-view+json": {
       "model_id": "3a502924d5674a71abee7f289a861b49",
       "version_major": 2,
       "version_minor": 0
      },
      "text/plain": [
       "HBox(children=(FloatProgress(value=1.0, bar_style='info', max=1.0), HTML(value='')))"
      ]
     },
     "metadata": {},
     "output_type": "display_data"
    },
    {
     "name": "stdout",
     "output_type": "stream",
     "text": [
      "\n"
     ]
    },
    {
     "data": {
      "application/vnd.jupyter.widget-view+json": {
       "model_id": "b6118d10eabd4d838ae84bcc254983f1",
       "version_major": 2,
       "version_minor": 0
      },
      "text/plain": [
       "HBox(children=(FloatProgress(value=1.0, bar_style='info', max=1.0), HTML(value='')))"
      ]
     },
     "metadata": {},
     "output_type": "display_data"
    },
    {
     "name": "stdout",
     "output_type": "stream",
     "text": [
      "\n"
     ]
    },
    {
     "data": {
      "application/vnd.jupyter.widget-view+json": {
       "model_id": "8ffdddffc9c24706b12cf6260fb4c386",
       "version_major": 2,
       "version_minor": 0
      },
      "text/plain": [
       "HBox(children=(FloatProgress(value=1.0, bar_style='info', max=1.0), HTML(value='')))"
      ]
     },
     "metadata": {},
     "output_type": "display_data"
    },
    {
     "name": "stdout",
     "output_type": "stream",
     "text": [
      "\n"
     ]
    },
    {
     "data": {
      "application/vnd.jupyter.widget-view+json": {
       "model_id": "19c59994b45f4f3a9f2f5bba4c719b9c",
       "version_major": 2,
       "version_minor": 0
      },
      "text/plain": [
       "HBox(children=(FloatProgress(value=1.0, bar_style='info', max=1.0), HTML(value='')))"
      ]
     },
     "metadata": {},
     "output_type": "display_data"
    },
    {
     "name": "stdout",
     "output_type": "stream",
     "text": [
      "\n"
     ]
    },
    {
     "data": {
      "application/vnd.jupyter.widget-view+json": {
       "model_id": "ea3c2e88e5b8463e9b4e995bb21a1185",
       "version_major": 2,
       "version_minor": 0
      },
      "text/plain": [
       "HBox(children=(FloatProgress(value=1.0, bar_style='info', max=1.0), HTML(value='')))"
      ]
     },
     "metadata": {},
     "output_type": "display_data"
    },
    {
     "name": "stdout",
     "output_type": "stream",
     "text": [
      "\n"
     ]
    },
    {
     "data": {
      "application/vnd.jupyter.widget-view+json": {
       "model_id": "7b1fc281c92a4b678090614fd5e20523",
       "version_major": 2,
       "version_minor": 0
      },
      "text/plain": [
       "HBox(children=(FloatProgress(value=1.0, bar_style='info', max=1.0), HTML(value='')))"
      ]
     },
     "metadata": {},
     "output_type": "display_data"
    },
    {
     "name": "stdout",
     "output_type": "stream",
     "text": [
      "\n"
     ]
    },
    {
     "data": {
      "application/vnd.jupyter.widget-view+json": {
       "model_id": "1c38685a65834667830f48079b68455b",
       "version_major": 2,
       "version_minor": 0
      },
      "text/plain": [
       "HBox(children=(FloatProgress(value=1.0, bar_style='info', max=1.0), HTML(value='')))"
      ]
     },
     "metadata": {},
     "output_type": "display_data"
    },
    {
     "name": "stdout",
     "output_type": "stream",
     "text": [
      "\n"
     ]
    },
    {
     "data": {
      "application/vnd.jupyter.widget-view+json": {
       "model_id": "fa6f36938c7d47e5873a8395689796f7",
       "version_major": 2,
       "version_minor": 0
      },
      "text/plain": [
       "HBox(children=(FloatProgress(value=1.0, bar_style='info', max=1.0), HTML(value='')))"
      ]
     },
     "metadata": {},
     "output_type": "display_data"
    },
    {
     "name": "stdout",
     "output_type": "stream",
     "text": [
      "\n"
     ]
    },
    {
     "data": {
      "application/vnd.jupyter.widget-view+json": {
       "model_id": "508d0495d2414f3f8409155418aa5f15",
       "version_major": 2,
       "version_minor": 0
      },
      "text/plain": [
       "HBox(children=(FloatProgress(value=1.0, bar_style='info', max=1.0), HTML(value='')))"
      ]
     },
     "metadata": {},
     "output_type": "display_data"
    },
    {
     "name": "stdout",
     "output_type": "stream",
     "text": [
      "\n"
     ]
    },
    {
     "data": {
      "application/vnd.jupyter.widget-view+json": {
       "model_id": "2061167ead6447d69ce44620290253c8",
       "version_major": 2,
       "version_minor": 0
      },
      "text/plain": [
       "HBox(children=(FloatProgress(value=1.0, bar_style='info', max=1.0), HTML(value='')))"
      ]
     },
     "metadata": {},
     "output_type": "display_data"
    },
    {
     "name": "stdout",
     "output_type": "stream",
     "text": [
      "\n"
     ]
    },
    {
     "data": {
      "application/vnd.jupyter.widget-view+json": {
       "model_id": "389fff77544a4d73bc1cac2c9f0e4328",
       "version_major": 2,
       "version_minor": 0
      },
      "text/plain": [
       "HBox(children=(FloatProgress(value=1.0, bar_style='info', max=1.0), HTML(value='')))"
      ]
     },
     "metadata": {},
     "output_type": "display_data"
    },
    {
     "name": "stdout",
     "output_type": "stream",
     "text": [
      "\n"
     ]
    },
    {
     "data": {
      "application/vnd.jupyter.widget-view+json": {
       "model_id": "35e6950830a7494f9c291800e8ba09fb",
       "version_major": 2,
       "version_minor": 0
      },
      "text/plain": [
       "HBox(children=(FloatProgress(value=1.0, bar_style='info', max=1.0), HTML(value='')))"
      ]
     },
     "metadata": {},
     "output_type": "display_data"
    },
    {
     "name": "stdout",
     "output_type": "stream",
     "text": [
      "\n"
     ]
    },
    {
     "data": {
      "application/vnd.jupyter.widget-view+json": {
       "model_id": "9c91870fe5ff4bc68ba77b1ff39dab2f",
       "version_major": 2,
       "version_minor": 0
      },
      "text/plain": [
       "HBox(children=(FloatProgress(value=1.0, bar_style='info', max=1.0), HTML(value='')))"
      ]
     },
     "metadata": {},
     "output_type": "display_data"
    },
    {
     "name": "stdout",
     "output_type": "stream",
     "text": [
      "\n"
     ]
    },
    {
     "data": {
      "application/vnd.jupyter.widget-view+json": {
       "model_id": "b2a9f21d1ce34f7280d25571a23e47d1",
       "version_major": 2,
       "version_minor": 0
      },
      "text/plain": [
       "HBox(children=(FloatProgress(value=1.0, bar_style='info', max=1.0), HTML(value='')))"
      ]
     },
     "metadata": {},
     "output_type": "display_data"
    },
    {
     "name": "stdout",
     "output_type": "stream",
     "text": [
      "\n"
     ]
    },
    {
     "data": {
      "application/vnd.jupyter.widget-view+json": {
       "model_id": "7f925ac0ea9044b189111eb514bfca1b",
       "version_major": 2,
       "version_minor": 0
      },
      "text/plain": [
       "HBox(children=(FloatProgress(value=1.0, bar_style='info', max=1.0), HTML(value='')))"
      ]
     },
     "metadata": {},
     "output_type": "display_data"
    },
    {
     "name": "stdout",
     "output_type": "stream",
     "text": [
      "\n"
     ]
    },
    {
     "data": {
      "application/vnd.jupyter.widget-view+json": {
       "model_id": "b4ec32d36ffd4d45ac23f580b64883dd",
       "version_major": 2,
       "version_minor": 0
      },
      "text/plain": [
       "HBox(children=(FloatProgress(value=1.0, bar_style='info', max=1.0), HTML(value='')))"
      ]
     },
     "metadata": {},
     "output_type": "display_data"
    },
    {
     "name": "stdout",
     "output_type": "stream",
     "text": [
      "\n"
     ]
    },
    {
     "data": {
      "application/vnd.jupyter.widget-view+json": {
       "model_id": "d251d57174f443738e519c8877f100d8",
       "version_major": 2,
       "version_minor": 0
      },
      "text/plain": [
       "HBox(children=(FloatProgress(value=1.0, bar_style='info', max=1.0), HTML(value='')))"
      ]
     },
     "metadata": {},
     "output_type": "display_data"
    },
    {
     "name": "stdout",
     "output_type": "stream",
     "text": [
      "\n"
     ]
    },
    {
     "data": {
      "application/vnd.jupyter.widget-view+json": {
       "model_id": "3f947a1050d240c2a9441f95b38cfc29",
       "version_major": 2,
       "version_minor": 0
      },
      "text/plain": [
       "HBox(children=(FloatProgress(value=1.0, bar_style='info', max=1.0), HTML(value='')))"
      ]
     },
     "metadata": {},
     "output_type": "display_data"
    },
    {
     "name": "stdout",
     "output_type": "stream",
     "text": [
      "\n"
     ]
    },
    {
     "data": {
      "application/vnd.jupyter.widget-view+json": {
       "model_id": "d008f04cb4924ad19b2d0652beaeeace",
       "version_major": 2,
       "version_minor": 0
      },
      "text/plain": [
       "HBox(children=(FloatProgress(value=1.0, bar_style='info', max=1.0), HTML(value='')))"
      ]
     },
     "metadata": {},
     "output_type": "display_data"
    },
    {
     "name": "stdout",
     "output_type": "stream",
     "text": [
      "\n"
     ]
    },
    {
     "data": {
      "application/vnd.jupyter.widget-view+json": {
       "model_id": "10746bf115f1439eac7239d3c6d2c547",
       "version_major": 2,
       "version_minor": 0
      },
      "text/plain": [
       "HBox(children=(FloatProgress(value=1.0, bar_style='info', max=1.0), HTML(value='')))"
      ]
     },
     "metadata": {},
     "output_type": "display_data"
    },
    {
     "name": "stdout",
     "output_type": "stream",
     "text": [
      "\n"
     ]
    },
    {
     "data": {
      "application/vnd.jupyter.widget-view+json": {
       "model_id": "dde0b804b2264a0a989010c0be0a8cdd",
       "version_major": 2,
       "version_minor": 0
      },
      "text/plain": [
       "HBox(children=(FloatProgress(value=1.0, bar_style='info', max=1.0), HTML(value='')))"
      ]
     },
     "metadata": {},
     "output_type": "display_data"
    },
    {
     "name": "stdout",
     "output_type": "stream",
     "text": [
      "\n"
     ]
    },
    {
     "data": {
      "application/vnd.jupyter.widget-view+json": {
       "model_id": "11d8e93ededf45ffb66a68d858eea0f3",
       "version_major": 2,
       "version_minor": 0
      },
      "text/plain": [
       "HBox(children=(FloatProgress(value=1.0, bar_style='info', max=1.0), HTML(value='')))"
      ]
     },
     "metadata": {},
     "output_type": "display_data"
    },
    {
     "name": "stdout",
     "output_type": "stream",
     "text": [
      "\n"
     ]
    },
    {
     "data": {
      "application/vnd.jupyter.widget-view+json": {
       "model_id": "d9ce0fbaf1bc4d48a4dc2dc4e9e78a6f",
       "version_major": 2,
       "version_minor": 0
      },
      "text/plain": [
       "HBox(children=(FloatProgress(value=1.0, bar_style='info', max=1.0), HTML(value='')))"
      ]
     },
     "metadata": {},
     "output_type": "display_data"
    },
    {
     "name": "stdout",
     "output_type": "stream",
     "text": [
      "\n"
     ]
    },
    {
     "data": {
      "application/vnd.jupyter.widget-view+json": {
       "model_id": "f67e62c6651b485a96a76b7100b84674",
       "version_major": 2,
       "version_minor": 0
      },
      "text/plain": [
       "HBox(children=(FloatProgress(value=1.0, bar_style='info', max=1.0), HTML(value='')))"
      ]
     },
     "metadata": {},
     "output_type": "display_data"
    },
    {
     "name": "stdout",
     "output_type": "stream",
     "text": [
      "\n"
     ]
    },
    {
     "data": {
      "application/vnd.jupyter.widget-view+json": {
       "model_id": "67c9c1d73eea4d89b690e33575bb03a4",
       "version_major": 2,
       "version_minor": 0
      },
      "text/plain": [
       "HBox(children=(FloatProgress(value=1.0, bar_style='info', max=1.0), HTML(value='')))"
      ]
     },
     "metadata": {},
     "output_type": "display_data"
    },
    {
     "name": "stdout",
     "output_type": "stream",
     "text": [
      "\n"
     ]
    },
    {
     "data": {
      "application/vnd.jupyter.widget-view+json": {
       "model_id": "3fc2b260e19848339df5b05dac80e97b",
       "version_major": 2,
       "version_minor": 0
      },
      "text/plain": [
       "HBox(children=(FloatProgress(value=1.0, bar_style='info', max=1.0), HTML(value='')))"
      ]
     },
     "metadata": {},
     "output_type": "display_data"
    },
    {
     "name": "stdout",
     "output_type": "stream",
     "text": [
      "\n"
     ]
    },
    {
     "data": {
      "application/vnd.jupyter.widget-view+json": {
       "model_id": "10c433334d064f4381cef6e21920c2f1",
       "version_major": 2,
       "version_minor": 0
      },
      "text/plain": [
       "HBox(children=(FloatProgress(value=1.0, bar_style='info', max=1.0), HTML(value='')))"
      ]
     },
     "metadata": {},
     "output_type": "display_data"
    },
    {
     "name": "stdout",
     "output_type": "stream",
     "text": [
      "\n"
     ]
    },
    {
     "data": {
      "application/vnd.jupyter.widget-view+json": {
       "model_id": "54e3565766264a92a198a2ea15eebbde",
       "version_major": 2,
       "version_minor": 0
      },
      "text/plain": [
       "HBox(children=(FloatProgress(value=1.0, bar_style='info', max=1.0), HTML(value='')))"
      ]
     },
     "metadata": {},
     "output_type": "display_data"
    },
    {
     "name": "stdout",
     "output_type": "stream",
     "text": [
      "\n"
     ]
    },
    {
     "data": {
      "application/vnd.jupyter.widget-view+json": {
       "model_id": "f680337125d14d02a6a49f5cd856eeb0",
       "version_major": 2,
       "version_minor": 0
      },
      "text/plain": [
       "HBox(children=(FloatProgress(value=1.0, bar_style='info', max=1.0), HTML(value='')))"
      ]
     },
     "metadata": {},
     "output_type": "display_data"
    },
    {
     "name": "stdout",
     "output_type": "stream",
     "text": [
      "\n"
     ]
    },
    {
     "data": {
      "application/vnd.jupyter.widget-view+json": {
       "model_id": "5a0c540955834694bd8b04559c75617b",
       "version_major": 2,
       "version_minor": 0
      },
      "text/plain": [
       "HBox(children=(FloatProgress(value=1.0, bar_style='info', max=1.0), HTML(value='')))"
      ]
     },
     "metadata": {},
     "output_type": "display_data"
    },
    {
     "name": "stdout",
     "output_type": "stream",
     "text": [
      "\n"
     ]
    },
    {
     "data": {
      "application/vnd.jupyter.widget-view+json": {
       "model_id": "03dbf11149324e0ab7438538a06b2d8c",
       "version_major": 2,
       "version_minor": 0
      },
      "text/plain": [
       "HBox(children=(FloatProgress(value=1.0, bar_style='info', max=1.0), HTML(value='')))"
      ]
     },
     "metadata": {},
     "output_type": "display_data"
    },
    {
     "name": "stdout",
     "output_type": "stream",
     "text": [
      "\n"
     ]
    },
    {
     "data": {
      "application/vnd.jupyter.widget-view+json": {
       "model_id": "b5836115f99548e0a26072c86e95c0a0",
       "version_major": 2,
       "version_minor": 0
      },
      "text/plain": [
       "HBox(children=(FloatProgress(value=1.0, bar_style='info', max=1.0), HTML(value='')))"
      ]
     },
     "metadata": {},
     "output_type": "display_data"
    },
    {
     "name": "stdout",
     "output_type": "stream",
     "text": [
      "\n"
     ]
    },
    {
     "data": {
      "application/vnd.jupyter.widget-view+json": {
       "model_id": "d18482eaea174a55bb94112bfc67b1d0",
       "version_major": 2,
       "version_minor": 0
      },
      "text/plain": [
       "HBox(children=(FloatProgress(value=1.0, bar_style='info', max=1.0), HTML(value='')))"
      ]
     },
     "metadata": {},
     "output_type": "display_data"
    },
    {
     "name": "stdout",
     "output_type": "stream",
     "text": [
      "\n"
     ]
    },
    {
     "data": {
      "application/vnd.jupyter.widget-view+json": {
       "model_id": "01f334bea3e34b45b46ff70100b98fd9",
       "version_major": 2,
       "version_minor": 0
      },
      "text/plain": [
       "HBox(children=(FloatProgress(value=1.0, bar_style='info', max=1.0), HTML(value='')))"
      ]
     },
     "metadata": {},
     "output_type": "display_data"
    },
    {
     "name": "stdout",
     "output_type": "stream",
     "text": [
      "\n"
     ]
    },
    {
     "data": {
      "application/vnd.jupyter.widget-view+json": {
       "model_id": "52330eb7e638423fa8e13e984b556ffb",
       "version_major": 2,
       "version_minor": 0
      },
      "text/plain": [
       "HBox(children=(FloatProgress(value=1.0, bar_style='info', max=1.0), HTML(value='')))"
      ]
     },
     "metadata": {},
     "output_type": "display_data"
    },
    {
     "name": "stdout",
     "output_type": "stream",
     "text": [
      "\n"
     ]
    },
    {
     "data": {
      "application/vnd.jupyter.widget-view+json": {
       "model_id": "f872ecb12e44475c8e0623414acf10f0",
       "version_major": 2,
       "version_minor": 0
      },
      "text/plain": [
       "HBox(children=(FloatProgress(value=1.0, bar_style='info', max=1.0), HTML(value='')))"
      ]
     },
     "metadata": {},
     "output_type": "display_data"
    },
    {
     "name": "stdout",
     "output_type": "stream",
     "text": [
      "\n"
     ]
    },
    {
     "data": {
      "application/vnd.jupyter.widget-view+json": {
       "model_id": "8060cf37ceaa479ebcbed8f7d2e42e0c",
       "version_major": 2,
       "version_minor": 0
      },
      "text/plain": [
       "HBox(children=(FloatProgress(value=1.0, bar_style='info', max=1.0), HTML(value='')))"
      ]
     },
     "metadata": {},
     "output_type": "display_data"
    },
    {
     "name": "stdout",
     "output_type": "stream",
     "text": [
      "\n"
     ]
    },
    {
     "data": {
      "application/vnd.jupyter.widget-view+json": {
       "model_id": "0714a938db8440e9bd2115971870b8ea",
       "version_major": 2,
       "version_minor": 0
      },
      "text/plain": [
       "HBox(children=(FloatProgress(value=1.0, bar_style='info', max=1.0), HTML(value='')))"
      ]
     },
     "metadata": {},
     "output_type": "display_data"
    },
    {
     "name": "stdout",
     "output_type": "stream",
     "text": [
      "\n"
     ]
    },
    {
     "data": {
      "application/vnd.jupyter.widget-view+json": {
       "model_id": "86526c3b1f4b43539f19c9c4530119f3",
       "version_major": 2,
       "version_minor": 0
      },
      "text/plain": [
       "HBox(children=(FloatProgress(value=1.0, bar_style='info', max=1.0), HTML(value='')))"
      ]
     },
     "metadata": {},
     "output_type": "display_data"
    },
    {
     "name": "stdout",
     "output_type": "stream",
     "text": [
      "\n"
     ]
    },
    {
     "data": {
      "application/vnd.jupyter.widget-view+json": {
       "model_id": "d7f5559b16324ea790103426b11ee195",
       "version_major": 2,
       "version_minor": 0
      },
      "text/plain": [
       "HBox(children=(FloatProgress(value=1.0, bar_style='info', max=1.0), HTML(value='')))"
      ]
     },
     "metadata": {},
     "output_type": "display_data"
    },
    {
     "name": "stdout",
     "output_type": "stream",
     "text": [
      "\n"
     ]
    },
    {
     "data": {
      "application/vnd.jupyter.widget-view+json": {
       "model_id": "ab71bf38f8224fe6810473ece994fee2",
       "version_major": 2,
       "version_minor": 0
      },
      "text/plain": [
       "HBox(children=(FloatProgress(value=1.0, bar_style='info', max=1.0), HTML(value='')))"
      ]
     },
     "metadata": {},
     "output_type": "display_data"
    },
    {
     "name": "stdout",
     "output_type": "stream",
     "text": [
      "\n"
     ]
    },
    {
     "data": {
      "application/vnd.jupyter.widget-view+json": {
       "model_id": "e00046aeede84092af25440645daaaa3",
       "version_major": 2,
       "version_minor": 0
      },
      "text/plain": [
       "HBox(children=(FloatProgress(value=1.0, bar_style='info', max=1.0), HTML(value='')))"
      ]
     },
     "metadata": {},
     "output_type": "display_data"
    },
    {
     "name": "stdout",
     "output_type": "stream",
     "text": [
      "\n"
     ]
    },
    {
     "data": {
      "application/vnd.jupyter.widget-view+json": {
       "model_id": "264cffe307a047f596a6bdd7ba58d133",
       "version_major": 2,
       "version_minor": 0
      },
      "text/plain": [
       "HBox(children=(FloatProgress(value=1.0, bar_style='info', max=1.0), HTML(value='')))"
      ]
     },
     "metadata": {},
     "output_type": "display_data"
    },
    {
     "name": "stdout",
     "output_type": "stream",
     "text": [
      "\n"
     ]
    },
    {
     "data": {
      "application/vnd.jupyter.widget-view+json": {
       "model_id": "5177c14ba83d4c50a0e1b966640874d0",
       "version_major": 2,
       "version_minor": 0
      },
      "text/plain": [
       "HBox(children=(FloatProgress(value=1.0, bar_style='info', max=1.0), HTML(value='')))"
      ]
     },
     "metadata": {},
     "output_type": "display_data"
    },
    {
     "name": "stdout",
     "output_type": "stream",
     "text": [
      "\n"
     ]
    },
    {
     "data": {
      "application/vnd.jupyter.widget-view+json": {
       "model_id": "914450a566684201957e9c9e4ab28ec1",
       "version_major": 2,
       "version_minor": 0
      },
      "text/plain": [
       "HBox(children=(FloatProgress(value=1.0, bar_style='info', max=1.0), HTML(value='')))"
      ]
     },
     "metadata": {},
     "output_type": "display_data"
    },
    {
     "name": "stdout",
     "output_type": "stream",
     "text": [
      "\n"
     ]
    },
    {
     "data": {
      "application/vnd.jupyter.widget-view+json": {
       "model_id": "484db9208034456ba861cc7c49bd4add",
       "version_major": 2,
       "version_minor": 0
      },
      "text/plain": [
       "HBox(children=(FloatProgress(value=1.0, bar_style='info', max=1.0), HTML(value='')))"
      ]
     },
     "metadata": {},
     "output_type": "display_data"
    },
    {
     "name": "stdout",
     "output_type": "stream",
     "text": [
      "\n"
     ]
    },
    {
     "data": {
      "application/vnd.jupyter.widget-view+json": {
       "model_id": "f87f0af91bfe404eae20a424ed540a23",
       "version_major": 2,
       "version_minor": 0
      },
      "text/plain": [
       "HBox(children=(FloatProgress(value=1.0, bar_style='info', max=1.0), HTML(value='')))"
      ]
     },
     "metadata": {},
     "output_type": "display_data"
    },
    {
     "name": "stdout",
     "output_type": "stream",
     "text": [
      "\n"
     ]
    },
    {
     "data": {
      "application/vnd.jupyter.widget-view+json": {
       "model_id": "a06e0066638c4e799908037d89550a1e",
       "version_major": 2,
       "version_minor": 0
      },
      "text/plain": [
       "HBox(children=(FloatProgress(value=1.0, bar_style='info', max=1.0), HTML(value='')))"
      ]
     },
     "metadata": {},
     "output_type": "display_data"
    },
    {
     "name": "stdout",
     "output_type": "stream",
     "text": [
      "\n"
     ]
    },
    {
     "data": {
      "application/vnd.jupyter.widget-view+json": {
       "model_id": "7bf4f508c37344a4843c2ef946cb7ad1",
       "version_major": 2,
       "version_minor": 0
      },
      "text/plain": [
       "HBox(children=(FloatProgress(value=1.0, bar_style='info', max=1.0), HTML(value='')))"
      ]
     },
     "metadata": {},
     "output_type": "display_data"
    },
    {
     "name": "stdout",
     "output_type": "stream",
     "text": [
      "\n"
     ]
    },
    {
     "data": {
      "application/vnd.jupyter.widget-view+json": {
       "model_id": "34033039420d45f5b15a67e550554016",
       "version_major": 2,
       "version_minor": 0
      },
      "text/plain": [
       "HBox(children=(FloatProgress(value=1.0, bar_style='info', max=1.0), HTML(value='')))"
      ]
     },
     "metadata": {},
     "output_type": "display_data"
    },
    {
     "name": "stdout",
     "output_type": "stream",
     "text": [
      "\n"
     ]
    },
    {
     "data": {
      "application/vnd.jupyter.widget-view+json": {
       "model_id": "2681e73028364a7d92914df32a95355d",
       "version_major": 2,
       "version_minor": 0
      },
      "text/plain": [
       "HBox(children=(FloatProgress(value=1.0, bar_style='info', max=1.0), HTML(value='')))"
      ]
     },
     "metadata": {},
     "output_type": "display_data"
    },
    {
     "name": "stdout",
     "output_type": "stream",
     "text": [
      "\n"
     ]
    },
    {
     "data": {
      "application/vnd.jupyter.widget-view+json": {
       "model_id": "ee05ce1b599d4440adce7dcadc814ea6",
       "version_major": 2,
       "version_minor": 0
      },
      "text/plain": [
       "HBox(children=(FloatProgress(value=1.0, bar_style='info', max=1.0), HTML(value='')))"
      ]
     },
     "metadata": {},
     "output_type": "display_data"
    },
    {
     "name": "stdout",
     "output_type": "stream",
     "text": [
      "\n"
     ]
    },
    {
     "data": {
      "application/vnd.jupyter.widget-view+json": {
       "model_id": "39690c02cd704cc6af269fc92b8e2b62",
       "version_major": 2,
       "version_minor": 0
      },
      "text/plain": [
       "HBox(children=(FloatProgress(value=1.0, bar_style='info', max=1.0), HTML(value='')))"
      ]
     },
     "metadata": {},
     "output_type": "display_data"
    },
    {
     "name": "stdout",
     "output_type": "stream",
     "text": [
      "\n"
     ]
    },
    {
     "data": {
      "application/vnd.jupyter.widget-view+json": {
       "model_id": "2e18504e801045c7a51ac25586f71657",
       "version_major": 2,
       "version_minor": 0
      },
      "text/plain": [
       "HBox(children=(FloatProgress(value=1.0, bar_style='info', max=1.0), HTML(value='')))"
      ]
     },
     "metadata": {},
     "output_type": "display_data"
    },
    {
     "name": "stdout",
     "output_type": "stream",
     "text": [
      "\n"
     ]
    },
    {
     "data": {
      "application/vnd.jupyter.widget-view+json": {
       "model_id": "12acd3d884cf4d03b28da1ee0e79dfa4",
       "version_major": 2,
       "version_minor": 0
      },
      "text/plain": [
       "HBox(children=(FloatProgress(value=1.0, bar_style='info', max=1.0), HTML(value='')))"
      ]
     },
     "metadata": {},
     "output_type": "display_data"
    },
    {
     "name": "stdout",
     "output_type": "stream",
     "text": [
      "\n"
     ]
    },
    {
     "data": {
      "application/vnd.jupyter.widget-view+json": {
       "model_id": "0d9344a5047c4ae5bc382e543cfd922a",
       "version_major": 2,
       "version_minor": 0
      },
      "text/plain": [
       "HBox(children=(FloatProgress(value=1.0, bar_style='info', max=1.0), HTML(value='')))"
      ]
     },
     "metadata": {},
     "output_type": "display_data"
    },
    {
     "name": "stdout",
     "output_type": "stream",
     "text": [
      "\n"
     ]
    },
    {
     "data": {
      "application/vnd.jupyter.widget-view+json": {
       "model_id": "d5aebe34ef724c23afb0efe815e49c03",
       "version_major": 2,
       "version_minor": 0
      },
      "text/plain": [
       "HBox(children=(FloatProgress(value=1.0, bar_style='info', max=1.0), HTML(value='')))"
      ]
     },
     "metadata": {},
     "output_type": "display_data"
    },
    {
     "name": "stdout",
     "output_type": "stream",
     "text": [
      "\n"
     ]
    },
    {
     "data": {
      "application/vnd.jupyter.widget-view+json": {
       "model_id": "44ac3313e6fa40ac84e250e1bb3fa0a3",
       "version_major": 2,
       "version_minor": 0
      },
      "text/plain": [
       "HBox(children=(FloatProgress(value=1.0, bar_style='info', max=1.0), HTML(value='')))"
      ]
     },
     "metadata": {},
     "output_type": "display_data"
    },
    {
     "name": "stdout",
     "output_type": "stream",
     "text": [
      "\n"
     ]
    },
    {
     "data": {
      "application/vnd.jupyter.widget-view+json": {
       "model_id": "dc86c43eb0b74c4da69c0425d0bb437a",
       "version_major": 2,
       "version_minor": 0
      },
      "text/plain": [
       "HBox(children=(FloatProgress(value=1.0, bar_style='info', max=1.0), HTML(value='')))"
      ]
     },
     "metadata": {},
     "output_type": "display_data"
    },
    {
     "name": "stdout",
     "output_type": "stream",
     "text": [
      "\n"
     ]
    },
    {
     "data": {
      "application/vnd.jupyter.widget-view+json": {
       "model_id": "7706e817f16c461f94aefb48a202c748",
       "version_major": 2,
       "version_minor": 0
      },
      "text/plain": [
       "HBox(children=(FloatProgress(value=1.0, bar_style='info', max=1.0), HTML(value='')))"
      ]
     },
     "metadata": {},
     "output_type": "display_data"
    },
    {
     "name": "stdout",
     "output_type": "stream",
     "text": [
      "\n"
     ]
    },
    {
     "data": {
      "application/vnd.jupyter.widget-view+json": {
       "model_id": "3e8684a27fe2409392c87100d9a34973",
       "version_major": 2,
       "version_minor": 0
      },
      "text/plain": [
       "HBox(children=(FloatProgress(value=1.0, bar_style='info', max=1.0), HTML(value='')))"
      ]
     },
     "metadata": {},
     "output_type": "display_data"
    },
    {
     "name": "stdout",
     "output_type": "stream",
     "text": [
      "\n"
     ]
    },
    {
     "data": {
      "application/vnd.jupyter.widget-view+json": {
       "model_id": "40fb24d477bb4a67944bcbfd8e12dcf1",
       "version_major": 2,
       "version_minor": 0
      },
      "text/plain": [
       "HBox(children=(FloatProgress(value=1.0, bar_style='info', max=1.0), HTML(value='')))"
      ]
     },
     "metadata": {},
     "output_type": "display_data"
    },
    {
     "name": "stdout",
     "output_type": "stream",
     "text": [
      "\n"
     ]
    },
    {
     "data": {
      "application/vnd.jupyter.widget-view+json": {
       "model_id": "8bf9a716cbc84f4eb79556c094161d41",
       "version_major": 2,
       "version_minor": 0
      },
      "text/plain": [
       "HBox(children=(FloatProgress(value=1.0, bar_style='info', max=1.0), HTML(value='')))"
      ]
     },
     "metadata": {},
     "output_type": "display_data"
    },
    {
     "name": "stdout",
     "output_type": "stream",
     "text": [
      "\n"
     ]
    },
    {
     "data": {
      "application/vnd.jupyter.widget-view+json": {
       "model_id": "f87d142987a949a78b5456bb2303b635",
       "version_major": 2,
       "version_minor": 0
      },
      "text/plain": [
       "HBox(children=(FloatProgress(value=1.0, bar_style='info', max=1.0), HTML(value='')))"
      ]
     },
     "metadata": {},
     "output_type": "display_data"
    },
    {
     "name": "stdout",
     "output_type": "stream",
     "text": [
      "\n"
     ]
    },
    {
     "data": {
      "application/vnd.jupyter.widget-view+json": {
       "model_id": "f752c11a10ea4961b3872ac48e7205df",
       "version_major": 2,
       "version_minor": 0
      },
      "text/plain": [
       "HBox(children=(FloatProgress(value=1.0, bar_style='info', max=1.0), HTML(value='')))"
      ]
     },
     "metadata": {},
     "output_type": "display_data"
    },
    {
     "name": "stdout",
     "output_type": "stream",
     "text": [
      "\n"
     ]
    },
    {
     "data": {
      "application/vnd.jupyter.widget-view+json": {
       "model_id": "115d47cb22204ad8ba8271116fcb2744",
       "version_major": 2,
       "version_minor": 0
      },
      "text/plain": [
       "HBox(children=(FloatProgress(value=1.0, bar_style='info', max=1.0), HTML(value='')))"
      ]
     },
     "metadata": {},
     "output_type": "display_data"
    },
    {
     "name": "stdout",
     "output_type": "stream",
     "text": [
      "\n"
     ]
    },
    {
     "data": {
      "application/vnd.jupyter.widget-view+json": {
       "model_id": "21cfa368b6fa4a4e9fb84f275a8394cb",
       "version_major": 2,
       "version_minor": 0
      },
      "text/plain": [
       "HBox(children=(FloatProgress(value=1.0, bar_style='info', max=1.0), HTML(value='')))"
      ]
     },
     "metadata": {},
     "output_type": "display_data"
    },
    {
     "name": "stdout",
     "output_type": "stream",
     "text": [
      "\n"
     ]
    },
    {
     "data": {
      "application/vnd.jupyter.widget-view+json": {
       "model_id": "1e887be891b44bf4addabd62a4f55faf",
       "version_major": 2,
       "version_minor": 0
      },
      "text/plain": [
       "HBox(children=(FloatProgress(value=1.0, bar_style='info', max=1.0), HTML(value='')))"
      ]
     },
     "metadata": {},
     "output_type": "display_data"
    },
    {
     "name": "stdout",
     "output_type": "stream",
     "text": [
      "\n"
     ]
    },
    {
     "data": {
      "application/vnd.jupyter.widget-view+json": {
       "model_id": "9f46338ec3e74aa6abcb4fee32e62a9b",
       "version_major": 2,
       "version_minor": 0
      },
      "text/plain": [
       "HBox(children=(FloatProgress(value=1.0, bar_style='info', max=1.0), HTML(value='')))"
      ]
     },
     "metadata": {},
     "output_type": "display_data"
    },
    {
     "name": "stdout",
     "output_type": "stream",
     "text": [
      "\n"
     ]
    },
    {
     "data": {
      "application/vnd.jupyter.widget-view+json": {
       "model_id": "539a4c3cf64e4b2aa47864f41c4b437e",
       "version_major": 2,
       "version_minor": 0
      },
      "text/plain": [
       "HBox(children=(FloatProgress(value=1.0, bar_style='info', max=1.0), HTML(value='')))"
      ]
     },
     "metadata": {},
     "output_type": "display_data"
    },
    {
     "name": "stdout",
     "output_type": "stream",
     "text": [
      "\n"
     ]
    },
    {
     "data": {
      "application/vnd.jupyter.widget-view+json": {
       "model_id": "575d372d4aa34e069f322bb7678c023d",
       "version_major": 2,
       "version_minor": 0
      },
      "text/plain": [
       "HBox(children=(FloatProgress(value=1.0, bar_style='info', max=1.0), HTML(value='')))"
      ]
     },
     "metadata": {},
     "output_type": "display_data"
    },
    {
     "name": "stdout",
     "output_type": "stream",
     "text": [
      "\n"
     ]
    },
    {
     "data": {
      "application/vnd.jupyter.widget-view+json": {
       "model_id": "153f5088024446d7babf3df4bb140d0e",
       "version_major": 2,
       "version_minor": 0
      },
      "text/plain": [
       "HBox(children=(FloatProgress(value=1.0, bar_style='info', max=1.0), HTML(value='')))"
      ]
     },
     "metadata": {},
     "output_type": "display_data"
    },
    {
     "name": "stdout",
     "output_type": "stream",
     "text": [
      "\n"
     ]
    },
    {
     "data": {
      "application/vnd.jupyter.widget-view+json": {
       "model_id": "082fb709e47d4e969506e2c6374ebe9a",
       "version_major": 2,
       "version_minor": 0
      },
      "text/plain": [
       "HBox(children=(FloatProgress(value=1.0, bar_style='info', max=1.0), HTML(value='')))"
      ]
     },
     "metadata": {},
     "output_type": "display_data"
    },
    {
     "name": "stdout",
     "output_type": "stream",
     "text": [
      "\n"
     ]
    },
    {
     "data": {
      "application/vnd.jupyter.widget-view+json": {
       "model_id": "433fa0774c744c78a267ae788eab4431",
       "version_major": 2,
       "version_minor": 0
      },
      "text/plain": [
       "HBox(children=(FloatProgress(value=1.0, bar_style='info', max=1.0), HTML(value='')))"
      ]
     },
     "metadata": {},
     "output_type": "display_data"
    },
    {
     "name": "stdout",
     "output_type": "stream",
     "text": [
      "\n"
     ]
    },
    {
     "data": {
      "application/vnd.jupyter.widget-view+json": {
       "model_id": "0a77f65a258446a9aeada2afaa4a5c2f",
       "version_major": 2,
       "version_minor": 0
      },
      "text/plain": [
       "HBox(children=(FloatProgress(value=1.0, bar_style='info', max=1.0), HTML(value='')))"
      ]
     },
     "metadata": {},
     "output_type": "display_data"
    },
    {
     "name": "stdout",
     "output_type": "stream",
     "text": [
      "\n"
     ]
    },
    {
     "data": {
      "application/vnd.jupyter.widget-view+json": {
       "model_id": "1e83d8073c534f5194aaff163327832d",
       "version_major": 2,
       "version_minor": 0
      },
      "text/plain": [
       "HBox(children=(FloatProgress(value=1.0, bar_style='info', max=1.0), HTML(value='')))"
      ]
     },
     "metadata": {},
     "output_type": "display_data"
    },
    {
     "name": "stdout",
     "output_type": "stream",
     "text": [
      "\n"
     ]
    },
    {
     "data": {
      "application/vnd.jupyter.widget-view+json": {
       "model_id": "63a12f88af8c4443a7c949c501c61f2b",
       "version_major": 2,
       "version_minor": 0
      },
      "text/plain": [
       "HBox(children=(FloatProgress(value=1.0, bar_style='info', max=1.0), HTML(value='')))"
      ]
     },
     "metadata": {},
     "output_type": "display_data"
    },
    {
     "name": "stdout",
     "output_type": "stream",
     "text": [
      "\n"
     ]
    },
    {
     "data": {
      "application/vnd.jupyter.widget-view+json": {
       "model_id": "12c628ea85b3494aa01ae1c6cd51ba58",
       "version_major": 2,
       "version_minor": 0
      },
      "text/plain": [
       "HBox(children=(FloatProgress(value=1.0, bar_style='info', max=1.0), HTML(value='')))"
      ]
     },
     "metadata": {},
     "output_type": "display_data"
    },
    {
     "name": "stdout",
     "output_type": "stream",
     "text": [
      "\n"
     ]
    },
    {
     "data": {
      "application/vnd.jupyter.widget-view+json": {
       "model_id": "37a711c7df024095b4b918f5fc08095d",
       "version_major": 2,
       "version_minor": 0
      },
      "text/plain": [
       "HBox(children=(FloatProgress(value=1.0, bar_style='info', max=1.0), HTML(value='')))"
      ]
     },
     "metadata": {},
     "output_type": "display_data"
    },
    {
     "name": "stdout",
     "output_type": "stream",
     "text": [
      "\n"
     ]
    },
    {
     "data": {
      "application/vnd.jupyter.widget-view+json": {
       "model_id": "244c5ea3348149249e821add8cae501b",
       "version_major": 2,
       "version_minor": 0
      },
      "text/plain": [
       "HBox(children=(FloatProgress(value=1.0, bar_style='info', max=1.0), HTML(value='')))"
      ]
     },
     "metadata": {},
     "output_type": "display_data"
    },
    {
     "name": "stdout",
     "output_type": "stream",
     "text": [
      "\n"
     ]
    },
    {
     "data": {
      "application/vnd.jupyter.widget-view+json": {
       "model_id": "29ed8b65717a4d51a47e4c5091bee507",
       "version_major": 2,
       "version_minor": 0
      },
      "text/plain": [
       "HBox(children=(FloatProgress(value=1.0, bar_style='info', max=1.0), HTML(value='')))"
      ]
     },
     "metadata": {},
     "output_type": "display_data"
    },
    {
     "name": "stdout",
     "output_type": "stream",
     "text": [
      "\n"
     ]
    },
    {
     "data": {
      "application/vnd.jupyter.widget-view+json": {
       "model_id": "467c80d7a1104297b9380beda6272cf0",
       "version_major": 2,
       "version_minor": 0
      },
      "text/plain": [
       "HBox(children=(FloatProgress(value=1.0, bar_style='info', max=1.0), HTML(value='')))"
      ]
     },
     "metadata": {},
     "output_type": "display_data"
    },
    {
     "name": "stdout",
     "output_type": "stream",
     "text": [
      "\n"
     ]
    },
    {
     "data": {
      "application/vnd.jupyter.widget-view+json": {
       "model_id": "ca98fb1341b241549f7ed4b65c87884b",
       "version_major": 2,
       "version_minor": 0
      },
      "text/plain": [
       "HBox(children=(FloatProgress(value=1.0, bar_style='info', max=1.0), HTML(value='')))"
      ]
     },
     "metadata": {},
     "output_type": "display_data"
    },
    {
     "name": "stdout",
     "output_type": "stream",
     "text": [
      "\n"
     ]
    },
    {
     "data": {
      "application/vnd.jupyter.widget-view+json": {
       "model_id": "f7a6fd5d56614ec7955ab83a744fefc6",
       "version_major": 2,
       "version_minor": 0
      },
      "text/plain": [
       "HBox(children=(FloatProgress(value=1.0, bar_style='info', max=1.0), HTML(value='')))"
      ]
     },
     "metadata": {},
     "output_type": "display_data"
    },
    {
     "name": "stdout",
     "output_type": "stream",
     "text": [
      "\n"
     ]
    },
    {
     "data": {
      "application/vnd.jupyter.widget-view+json": {
       "model_id": "b1814a9384884114879d660bd418c7b4",
       "version_major": 2,
       "version_minor": 0
      },
      "text/plain": [
       "HBox(children=(FloatProgress(value=1.0, bar_style='info', max=1.0), HTML(value='')))"
      ]
     },
     "metadata": {},
     "output_type": "display_data"
    },
    {
     "name": "stdout",
     "output_type": "stream",
     "text": [
      "\n"
     ]
    },
    {
     "data": {
      "application/vnd.jupyter.widget-view+json": {
       "model_id": "976a74f1074245908254441ccb71da9d",
       "version_major": 2,
       "version_minor": 0
      },
      "text/plain": [
       "HBox(children=(FloatProgress(value=1.0, bar_style='info', max=1.0), HTML(value='')))"
      ]
     },
     "metadata": {},
     "output_type": "display_data"
    },
    {
     "name": "stdout",
     "output_type": "stream",
     "text": [
      "\n"
     ]
    },
    {
     "data": {
      "application/vnd.jupyter.widget-view+json": {
       "model_id": "a8977dd4d86b42ccb5a54fac3d451c3d",
       "version_major": 2,
       "version_minor": 0
      },
      "text/plain": [
       "HBox(children=(FloatProgress(value=1.0, bar_style='info', max=1.0), HTML(value='')))"
      ]
     },
     "metadata": {},
     "output_type": "display_data"
    },
    {
     "name": "stdout",
     "output_type": "stream",
     "text": [
      "\n"
     ]
    },
    {
     "data": {
      "application/vnd.jupyter.widget-view+json": {
       "model_id": "6a99567593594a799b0da496563b1dff",
       "version_major": 2,
       "version_minor": 0
      },
      "text/plain": [
       "HBox(children=(FloatProgress(value=1.0, bar_style='info', max=1.0), HTML(value='')))"
      ]
     },
     "metadata": {},
     "output_type": "display_data"
    },
    {
     "name": "stdout",
     "output_type": "stream",
     "text": [
      "\n"
     ]
    },
    {
     "data": {
      "application/vnd.jupyter.widget-view+json": {
       "model_id": "fa753f476b914b959b9cdf76ef3dfa03",
       "version_major": 2,
       "version_minor": 0
      },
      "text/plain": [
       "HBox(children=(FloatProgress(value=1.0, bar_style='info', max=1.0), HTML(value='')))"
      ]
     },
     "metadata": {},
     "output_type": "display_data"
    },
    {
     "name": "stdout",
     "output_type": "stream",
     "text": [
      "\n"
     ]
    },
    {
     "data": {
      "application/vnd.jupyter.widget-view+json": {
       "model_id": "8571eceea8544681b7ef0ffd47fde7df",
       "version_major": 2,
       "version_minor": 0
      },
      "text/plain": [
       "HBox(children=(FloatProgress(value=1.0, bar_style='info', max=1.0), HTML(value='')))"
      ]
     },
     "metadata": {},
     "output_type": "display_data"
    },
    {
     "name": "stdout",
     "output_type": "stream",
     "text": [
      "\n"
     ]
    },
    {
     "data": {
      "application/vnd.jupyter.widget-view+json": {
       "model_id": "7ee166306ea94bb192bed4cb7a061b8f",
       "version_major": 2,
       "version_minor": 0
      },
      "text/plain": [
       "HBox(children=(FloatProgress(value=1.0, bar_style='info', max=1.0), HTML(value='')))"
      ]
     },
     "metadata": {},
     "output_type": "display_data"
    },
    {
     "name": "stdout",
     "output_type": "stream",
     "text": [
      "\n"
     ]
    },
    {
     "data": {
      "application/vnd.jupyter.widget-view+json": {
       "model_id": "3d8fe4741f194af29a8b36cc0c757e30",
       "version_major": 2,
       "version_minor": 0
      },
      "text/plain": [
       "HBox(children=(FloatProgress(value=1.0, bar_style='info', max=1.0), HTML(value='')))"
      ]
     },
     "metadata": {},
     "output_type": "display_data"
    },
    {
     "name": "stdout",
     "output_type": "stream",
     "text": [
      "\n"
     ]
    },
    {
     "data": {
      "application/vnd.jupyter.widget-view+json": {
       "model_id": "0ee51874e9f74f70a323eecf01c000c3",
       "version_major": 2,
       "version_minor": 0
      },
      "text/plain": [
       "HBox(children=(FloatProgress(value=1.0, bar_style='info', max=1.0), HTML(value='')))"
      ]
     },
     "metadata": {},
     "output_type": "display_data"
    },
    {
     "name": "stdout",
     "output_type": "stream",
     "text": [
      "\n"
     ]
    },
    {
     "data": {
      "application/vnd.jupyter.widget-view+json": {
       "model_id": "b649431109f940c7833aa24165f752a7",
       "version_major": 2,
       "version_minor": 0
      },
      "text/plain": [
       "HBox(children=(FloatProgress(value=1.0, bar_style='info', max=1.0), HTML(value='')))"
      ]
     },
     "metadata": {},
     "output_type": "display_data"
    },
    {
     "name": "stdout",
     "output_type": "stream",
     "text": [
      "\n"
     ]
    },
    {
     "data": {
      "application/vnd.jupyter.widget-view+json": {
       "model_id": "cb8923fd26da431ea0b52d90450bff61",
       "version_major": 2,
       "version_minor": 0
      },
      "text/plain": [
       "HBox(children=(FloatProgress(value=1.0, bar_style='info', max=1.0), HTML(value='')))"
      ]
     },
     "metadata": {},
     "output_type": "display_data"
    },
    {
     "name": "stdout",
     "output_type": "stream",
     "text": [
      "\n"
     ]
    },
    {
     "data": {
      "application/vnd.jupyter.widget-view+json": {
       "model_id": "feded021569048d88c9bc73111e2816f",
       "version_major": 2,
       "version_minor": 0
      },
      "text/plain": [
       "HBox(children=(FloatProgress(value=1.0, bar_style='info', max=1.0), HTML(value='')))"
      ]
     },
     "metadata": {},
     "output_type": "display_data"
    },
    {
     "name": "stdout",
     "output_type": "stream",
     "text": [
      "\n"
     ]
    },
    {
     "data": {
      "application/vnd.jupyter.widget-view+json": {
       "model_id": "e9934f7dab6c4257a68af16419421f08",
       "version_major": 2,
       "version_minor": 0
      },
      "text/plain": [
       "HBox(children=(FloatProgress(value=1.0, bar_style='info', max=1.0), HTML(value='')))"
      ]
     },
     "metadata": {},
     "output_type": "display_data"
    },
    {
     "name": "stdout",
     "output_type": "stream",
     "text": [
      "\n"
     ]
    },
    {
     "data": {
      "application/vnd.jupyter.widget-view+json": {
       "model_id": "e3062fd9272748fda9b4d73508d909fd",
       "version_major": 2,
       "version_minor": 0
      },
      "text/plain": [
       "HBox(children=(FloatProgress(value=1.0, bar_style='info', max=1.0), HTML(value='')))"
      ]
     },
     "metadata": {},
     "output_type": "display_data"
    },
    {
     "name": "stdout",
     "output_type": "stream",
     "text": [
      "\n"
     ]
    },
    {
     "data": {
      "application/vnd.jupyter.widget-view+json": {
       "model_id": "9b6ea9ff63c6457e9e1d72145d723050",
       "version_major": 2,
       "version_minor": 0
      },
      "text/plain": [
       "HBox(children=(FloatProgress(value=1.0, bar_style='info', max=1.0), HTML(value='')))"
      ]
     },
     "metadata": {},
     "output_type": "display_data"
    },
    {
     "name": "stdout",
     "output_type": "stream",
     "text": [
      "\n"
     ]
    },
    {
     "data": {
      "application/vnd.jupyter.widget-view+json": {
       "model_id": "b02394f19c614441a5c7e914d4f32df7",
       "version_major": 2,
       "version_minor": 0
      },
      "text/plain": [
       "HBox(children=(FloatProgress(value=1.0, bar_style='info', max=1.0), HTML(value='')))"
      ]
     },
     "metadata": {},
     "output_type": "display_data"
    },
    {
     "name": "stdout",
     "output_type": "stream",
     "text": [
      "\n"
     ]
    },
    {
     "data": {
      "application/vnd.jupyter.widget-view+json": {
       "model_id": "817a80e1bc5947dc8404aaa9a4d904bc",
       "version_major": 2,
       "version_minor": 0
      },
      "text/plain": [
       "HBox(children=(FloatProgress(value=1.0, bar_style='info', max=1.0), HTML(value='')))"
      ]
     },
     "metadata": {},
     "output_type": "display_data"
    },
    {
     "name": "stdout",
     "output_type": "stream",
     "text": [
      "\n"
     ]
    },
    {
     "data": {
      "application/vnd.jupyter.widget-view+json": {
       "model_id": "8acdd0371cc645cda52dc0bcdf3d0be4",
       "version_major": 2,
       "version_minor": 0
      },
      "text/plain": [
       "HBox(children=(FloatProgress(value=1.0, bar_style='info', max=1.0), HTML(value='')))"
      ]
     },
     "metadata": {},
     "output_type": "display_data"
    },
    {
     "name": "stdout",
     "output_type": "stream",
     "text": [
      "\n"
     ]
    },
    {
     "data": {
      "application/vnd.jupyter.widget-view+json": {
       "model_id": "fb60d6ca2f164ebf85b16e124b2530bf",
       "version_major": 2,
       "version_minor": 0
      },
      "text/plain": [
       "HBox(children=(FloatProgress(value=1.0, bar_style='info', max=1.0), HTML(value='')))"
      ]
     },
     "metadata": {},
     "output_type": "display_data"
    },
    {
     "name": "stdout",
     "output_type": "stream",
     "text": [
      "\n"
     ]
    },
    {
     "data": {
      "application/vnd.jupyter.widget-view+json": {
       "model_id": "272e8b4bddc44dd5b2cdb056eb736566",
       "version_major": 2,
       "version_minor": 0
      },
      "text/plain": [
       "HBox(children=(FloatProgress(value=1.0, bar_style='info', max=1.0), HTML(value='')))"
      ]
     },
     "metadata": {},
     "output_type": "display_data"
    },
    {
     "name": "stdout",
     "output_type": "stream",
     "text": [
      "\n"
     ]
    },
    {
     "data": {
      "application/vnd.jupyter.widget-view+json": {
       "model_id": "e7f63d00f9ef4199a1c50d031340d560",
       "version_major": 2,
       "version_minor": 0
      },
      "text/plain": [
       "HBox(children=(FloatProgress(value=1.0, bar_style='info', max=1.0), HTML(value='')))"
      ]
     },
     "metadata": {},
     "output_type": "display_data"
    },
    {
     "name": "stdout",
     "output_type": "stream",
     "text": [
      "\n"
     ]
    },
    {
     "data": {
      "application/vnd.jupyter.widget-view+json": {
       "model_id": "d9625418ae3f4348bc9d3ffcf027dd8a",
       "version_major": 2,
       "version_minor": 0
      },
      "text/plain": [
       "HBox(children=(FloatProgress(value=1.0, bar_style='info', max=1.0), HTML(value='')))"
      ]
     },
     "metadata": {},
     "output_type": "display_data"
    },
    {
     "name": "stdout",
     "output_type": "stream",
     "text": [
      "\n"
     ]
    },
    {
     "data": {
      "application/vnd.jupyter.widget-view+json": {
       "model_id": "882067ffd1e547e28a6ba3070a2080b3",
       "version_major": 2,
       "version_minor": 0
      },
      "text/plain": [
       "HBox(children=(FloatProgress(value=1.0, bar_style='info', max=1.0), HTML(value='')))"
      ]
     },
     "metadata": {},
     "output_type": "display_data"
    },
    {
     "name": "stdout",
     "output_type": "stream",
     "text": [
      "\n"
     ]
    },
    {
     "data": {
      "application/vnd.jupyter.widget-view+json": {
       "model_id": "d8523dcec5124f3982dcf9cb953327d6",
       "version_major": 2,
       "version_minor": 0
      },
      "text/plain": [
       "HBox(children=(FloatProgress(value=1.0, bar_style='info', max=1.0), HTML(value='')))"
      ]
     },
     "metadata": {},
     "output_type": "display_data"
    },
    {
     "name": "stdout",
     "output_type": "stream",
     "text": [
      "\n"
     ]
    },
    {
     "data": {
      "application/vnd.jupyter.widget-view+json": {
       "model_id": "3fd19eb70d1c485eb8a329f2103be6f9",
       "version_major": 2,
       "version_minor": 0
      },
      "text/plain": [
       "HBox(children=(FloatProgress(value=1.0, bar_style='info', max=1.0), HTML(value='')))"
      ]
     },
     "metadata": {},
     "output_type": "display_data"
    },
    {
     "name": "stdout",
     "output_type": "stream",
     "text": [
      "\n"
     ]
    },
    {
     "data": {
      "application/vnd.jupyter.widget-view+json": {
       "model_id": "65b940759c88452c9b595b0556515bb4",
       "version_major": 2,
       "version_minor": 0
      },
      "text/plain": [
       "HBox(children=(FloatProgress(value=1.0, bar_style='info', max=1.0), HTML(value='')))"
      ]
     },
     "metadata": {},
     "output_type": "display_data"
    },
    {
     "name": "stdout",
     "output_type": "stream",
     "text": [
      "\n"
     ]
    },
    {
     "data": {
      "application/vnd.jupyter.widget-view+json": {
       "model_id": "a18dd869b87449d0b7a605abd932a3b3",
       "version_major": 2,
       "version_minor": 0
      },
      "text/plain": [
       "HBox(children=(FloatProgress(value=1.0, bar_style='info', max=1.0), HTML(value='')))"
      ]
     },
     "metadata": {},
     "output_type": "display_data"
    },
    {
     "name": "stdout",
     "output_type": "stream",
     "text": [
      "\n"
     ]
    },
    {
     "data": {
      "application/vnd.jupyter.widget-view+json": {
       "model_id": "a1751b6d1c694bbca0685b068d3a1959",
       "version_major": 2,
       "version_minor": 0
      },
      "text/plain": [
       "HBox(children=(FloatProgress(value=1.0, bar_style='info', max=1.0), HTML(value='')))"
      ]
     },
     "metadata": {},
     "output_type": "display_data"
    },
    {
     "name": "stdout",
     "output_type": "stream",
     "text": [
      "\n"
     ]
    },
    {
     "data": {
      "application/vnd.jupyter.widget-view+json": {
       "model_id": "84349f4765554dd1be1a51f8213857bd",
       "version_major": 2,
       "version_minor": 0
      },
      "text/plain": [
       "HBox(children=(FloatProgress(value=1.0, bar_style='info', max=1.0), HTML(value='')))"
      ]
     },
     "metadata": {},
     "output_type": "display_data"
    },
    {
     "name": "stdout",
     "output_type": "stream",
     "text": [
      "\n"
     ]
    },
    {
     "data": {
      "application/vnd.jupyter.widget-view+json": {
       "model_id": "6ea04fd0780948b6b56bb2ee20705e18",
       "version_major": 2,
       "version_minor": 0
      },
      "text/plain": [
       "HBox(children=(FloatProgress(value=1.0, bar_style='info', max=1.0), HTML(value='')))"
      ]
     },
     "metadata": {},
     "output_type": "display_data"
    },
    {
     "name": "stdout",
     "output_type": "stream",
     "text": [
      "\n"
     ]
    },
    {
     "data": {
      "application/vnd.jupyter.widget-view+json": {
       "model_id": "b959c3b044a449bfbeba942919429196",
       "version_major": 2,
       "version_minor": 0
      },
      "text/plain": [
       "HBox(children=(FloatProgress(value=1.0, bar_style='info', max=1.0), HTML(value='')))"
      ]
     },
     "metadata": {},
     "output_type": "display_data"
    },
    {
     "name": "stdout",
     "output_type": "stream",
     "text": [
      "\n"
     ]
    },
    {
     "data": {
      "application/vnd.jupyter.widget-view+json": {
       "model_id": "cfeaa03198c745fa8aec5486e1554930",
       "version_major": 2,
       "version_minor": 0
      },
      "text/plain": [
       "HBox(children=(FloatProgress(value=1.0, bar_style='info', max=1.0), HTML(value='')))"
      ]
     },
     "metadata": {},
     "output_type": "display_data"
    },
    {
     "name": "stdout",
     "output_type": "stream",
     "text": [
      "\n"
     ]
    },
    {
     "data": {
      "application/vnd.jupyter.widget-view+json": {
       "model_id": "951357bc1f6e4e949ca0863d53edc7ba",
       "version_major": 2,
       "version_minor": 0
      },
      "text/plain": [
       "HBox(children=(FloatProgress(value=1.0, bar_style='info', max=1.0), HTML(value='')))"
      ]
     },
     "metadata": {},
     "output_type": "display_data"
    },
    {
     "name": "stdout",
     "output_type": "stream",
     "text": [
      "\n"
     ]
    },
    {
     "data": {
      "application/vnd.jupyter.widget-view+json": {
       "model_id": "31869eebb4e74c198bc9dc871e6faa66",
       "version_major": 2,
       "version_minor": 0
      },
      "text/plain": [
       "HBox(children=(FloatProgress(value=1.0, bar_style='info', max=1.0), HTML(value='')))"
      ]
     },
     "metadata": {},
     "output_type": "display_data"
    },
    {
     "name": "stdout",
     "output_type": "stream",
     "text": [
      "\n"
     ]
    },
    {
     "data": {
      "application/vnd.jupyter.widget-view+json": {
       "model_id": "332cb8d56afe482283fc7462fc813cde",
       "version_major": 2,
       "version_minor": 0
      },
      "text/plain": [
       "HBox(children=(FloatProgress(value=1.0, bar_style='info', max=1.0), HTML(value='')))"
      ]
     },
     "metadata": {},
     "output_type": "display_data"
    },
    {
     "name": "stdout",
     "output_type": "stream",
     "text": [
      "\n"
     ]
    },
    {
     "data": {
      "application/vnd.jupyter.widget-view+json": {
       "model_id": "87779dc012dd416aab97997bfff67306",
       "version_major": 2,
       "version_minor": 0
      },
      "text/plain": [
       "HBox(children=(FloatProgress(value=1.0, bar_style='info', max=1.0), HTML(value='')))"
      ]
     },
     "metadata": {},
     "output_type": "display_data"
    },
    {
     "name": "stdout",
     "output_type": "stream",
     "text": [
      "\n"
     ]
    },
    {
     "data": {
      "application/vnd.jupyter.widget-view+json": {
       "model_id": "1e419f8b72e8455e8173fde34a8be8a9",
       "version_major": 2,
       "version_minor": 0
      },
      "text/plain": [
       "HBox(children=(FloatProgress(value=1.0, bar_style='info', max=1.0), HTML(value='')))"
      ]
     },
     "metadata": {},
     "output_type": "display_data"
    },
    {
     "name": "stdout",
     "output_type": "stream",
     "text": [
      "\n"
     ]
    },
    {
     "data": {
      "application/vnd.jupyter.widget-view+json": {
       "model_id": "5425709cd9df427a97e733084bdb4c84",
       "version_major": 2,
       "version_minor": 0
      },
      "text/plain": [
       "HBox(children=(FloatProgress(value=1.0, bar_style='info', max=1.0), HTML(value='')))"
      ]
     },
     "metadata": {},
     "output_type": "display_data"
    },
    {
     "name": "stdout",
     "output_type": "stream",
     "text": [
      "\n"
     ]
    },
    {
     "data": {
      "application/vnd.jupyter.widget-view+json": {
       "model_id": "544a6dae7d3a4bc0aad7c43d2242e75f",
       "version_major": 2,
       "version_minor": 0
      },
      "text/plain": [
       "HBox(children=(FloatProgress(value=1.0, bar_style='info', max=1.0), HTML(value='')))"
      ]
     },
     "metadata": {},
     "output_type": "display_data"
    },
    {
     "name": "stdout",
     "output_type": "stream",
     "text": [
      "\n"
     ]
    },
    {
     "data": {
      "application/vnd.jupyter.widget-view+json": {
       "model_id": "00c45bd1955340248689484c19ede7fd",
       "version_major": 2,
       "version_minor": 0
      },
      "text/plain": [
       "HBox(children=(FloatProgress(value=1.0, bar_style='info', max=1.0), HTML(value='')))"
      ]
     },
     "metadata": {},
     "output_type": "display_data"
    },
    {
     "name": "stdout",
     "output_type": "stream",
     "text": [
      "\n"
     ]
    },
    {
     "data": {
      "application/vnd.jupyter.widget-view+json": {
       "model_id": "7d3be9b7c52649fe9f397dbff55149e5",
       "version_major": 2,
       "version_minor": 0
      },
      "text/plain": [
       "HBox(children=(FloatProgress(value=1.0, bar_style='info', max=1.0), HTML(value='')))"
      ]
     },
     "metadata": {},
     "output_type": "display_data"
    },
    {
     "name": "stdout",
     "output_type": "stream",
     "text": [
      "\n"
     ]
    },
    {
     "data": {
      "application/vnd.jupyter.widget-view+json": {
       "model_id": "6967c09b4e324b80953d84d44d6325a2",
       "version_major": 2,
       "version_minor": 0
      },
      "text/plain": [
       "HBox(children=(FloatProgress(value=1.0, bar_style='info', max=1.0), HTML(value='')))"
      ]
     },
     "metadata": {},
     "output_type": "display_data"
    },
    {
     "name": "stdout",
     "output_type": "stream",
     "text": [
      "\n"
     ]
    },
    {
     "data": {
      "application/vnd.jupyter.widget-view+json": {
       "model_id": "a0672a1c235b4ec7a36a5330f5530b81",
       "version_major": 2,
       "version_minor": 0
      },
      "text/plain": [
       "HBox(children=(FloatProgress(value=1.0, bar_style='info', max=1.0), HTML(value='')))"
      ]
     },
     "metadata": {},
     "output_type": "display_data"
    },
    {
     "name": "stdout",
     "output_type": "stream",
     "text": [
      "\n"
     ]
    },
    {
     "data": {
      "application/vnd.jupyter.widget-view+json": {
       "model_id": "25f5824f3dcf44f3b204927599668e23",
       "version_major": 2,
       "version_minor": 0
      },
      "text/plain": [
       "HBox(children=(FloatProgress(value=1.0, bar_style='info', max=1.0), HTML(value='')))"
      ]
     },
     "metadata": {},
     "output_type": "display_data"
    },
    {
     "name": "stdout",
     "output_type": "stream",
     "text": [
      "\n"
     ]
    },
    {
     "data": {
      "application/vnd.jupyter.widget-view+json": {
       "model_id": "eaecf10c9604479bb6ab75108e02ee36",
       "version_major": 2,
       "version_minor": 0
      },
      "text/plain": [
       "HBox(children=(FloatProgress(value=1.0, bar_style='info', max=1.0), HTML(value='')))"
      ]
     },
     "metadata": {},
     "output_type": "display_data"
    },
    {
     "name": "stdout",
     "output_type": "stream",
     "text": [
      "\n"
     ]
    },
    {
     "data": {
      "application/vnd.jupyter.widget-view+json": {
       "model_id": "8ad8b4d8f6f0497b9a56db36eea1219b",
       "version_major": 2,
       "version_minor": 0
      },
      "text/plain": [
       "HBox(children=(FloatProgress(value=1.0, bar_style='info', max=1.0), HTML(value='')))"
      ]
     },
     "metadata": {},
     "output_type": "display_data"
    },
    {
     "name": "stdout",
     "output_type": "stream",
     "text": [
      "\n"
     ]
    },
    {
     "data": {
      "application/vnd.jupyter.widget-view+json": {
       "model_id": "c52f6b5123084e3b8f6c44f15eeb280a",
       "version_major": 2,
       "version_minor": 0
      },
      "text/plain": [
       "HBox(children=(FloatProgress(value=1.0, bar_style='info', max=1.0), HTML(value='')))"
      ]
     },
     "metadata": {},
     "output_type": "display_data"
    },
    {
     "name": "stdout",
     "output_type": "stream",
     "text": [
      "\n"
     ]
    },
    {
     "data": {
      "application/vnd.jupyter.widget-view+json": {
       "model_id": "7bdf9ce724f843d4977843e84dec8aaa",
       "version_major": 2,
       "version_minor": 0
      },
      "text/plain": [
       "HBox(children=(FloatProgress(value=1.0, bar_style='info', max=1.0), HTML(value='')))"
      ]
     },
     "metadata": {},
     "output_type": "display_data"
    },
    {
     "name": "stdout",
     "output_type": "stream",
     "text": [
      "\n"
     ]
    },
    {
     "data": {
      "application/vnd.jupyter.widget-view+json": {
       "model_id": "6de902fb6ae5496ebfa7370382cfaa10",
       "version_major": 2,
       "version_minor": 0
      },
      "text/plain": [
       "HBox(children=(FloatProgress(value=1.0, bar_style='info', max=1.0), HTML(value='')))"
      ]
     },
     "metadata": {},
     "output_type": "display_data"
    },
    {
     "name": "stdout",
     "output_type": "stream",
     "text": [
      "\n"
     ]
    },
    {
     "data": {
      "application/vnd.jupyter.widget-view+json": {
       "model_id": "c135d57a05284af19365bf3ae51ea90e",
       "version_major": 2,
       "version_minor": 0
      },
      "text/plain": [
       "HBox(children=(FloatProgress(value=1.0, bar_style='info', max=1.0), HTML(value='')))"
      ]
     },
     "metadata": {},
     "output_type": "display_data"
    },
    {
     "name": "stdout",
     "output_type": "stream",
     "text": [
      "\n"
     ]
    },
    {
     "data": {
      "application/vnd.jupyter.widget-view+json": {
       "model_id": "13943f334ca64782b1bf8e866cfe927c",
       "version_major": 2,
       "version_minor": 0
      },
      "text/plain": [
       "HBox(children=(FloatProgress(value=1.0, bar_style='info', max=1.0), HTML(value='')))"
      ]
     },
     "metadata": {},
     "output_type": "display_data"
    },
    {
     "name": "stdout",
     "output_type": "stream",
     "text": [
      "\n"
     ]
    },
    {
     "data": {
      "application/vnd.jupyter.widget-view+json": {
       "model_id": "4bed1d7b391b469eb17727b66f932338",
       "version_major": 2,
       "version_minor": 0
      },
      "text/plain": [
       "HBox(children=(FloatProgress(value=1.0, bar_style='info', max=1.0), HTML(value='')))"
      ]
     },
     "metadata": {},
     "output_type": "display_data"
    },
    {
     "name": "stdout",
     "output_type": "stream",
     "text": [
      "\n"
     ]
    },
    {
     "data": {
      "application/vnd.jupyter.widget-view+json": {
       "model_id": "a608259ac78a4ff787c5b58ca6cbd441",
       "version_major": 2,
       "version_minor": 0
      },
      "text/plain": [
       "HBox(children=(FloatProgress(value=1.0, bar_style='info', max=1.0), HTML(value='')))"
      ]
     },
     "metadata": {},
     "output_type": "display_data"
    },
    {
     "name": "stdout",
     "output_type": "stream",
     "text": [
      "\n"
     ]
    },
    {
     "data": {
      "application/vnd.jupyter.widget-view+json": {
       "model_id": "3ee88ab22d2f4ba49bd4d2e9dc6933f9",
       "version_major": 2,
       "version_minor": 0
      },
      "text/plain": [
       "HBox(children=(FloatProgress(value=1.0, bar_style='info', max=1.0), HTML(value='')))"
      ]
     },
     "metadata": {},
     "output_type": "display_data"
    },
    {
     "name": "stdout",
     "output_type": "stream",
     "text": [
      "\n"
     ]
    },
    {
     "data": {
      "application/vnd.jupyter.widget-view+json": {
       "model_id": "8c5992a984684ff1b74f08d88b7fd708",
       "version_major": 2,
       "version_minor": 0
      },
      "text/plain": [
       "HBox(children=(FloatProgress(value=1.0, bar_style='info', max=1.0), HTML(value='')))"
      ]
     },
     "metadata": {},
     "output_type": "display_data"
    },
    {
     "name": "stdout",
     "output_type": "stream",
     "text": [
      "\n"
     ]
    },
    {
     "data": {
      "application/vnd.jupyter.widget-view+json": {
       "model_id": "8c624f0883ce48ee809caad3345baf18",
       "version_major": 2,
       "version_minor": 0
      },
      "text/plain": [
       "HBox(children=(FloatProgress(value=1.0, bar_style='info', max=1.0), HTML(value='')))"
      ]
     },
     "metadata": {},
     "output_type": "display_data"
    },
    {
     "name": "stdout",
     "output_type": "stream",
     "text": [
      "\n"
     ]
    },
    {
     "data": {
      "application/vnd.jupyter.widget-view+json": {
       "model_id": "088ca4cb2cd149598d4277547e726a65",
       "version_major": 2,
       "version_minor": 0
      },
      "text/plain": [
       "HBox(children=(FloatProgress(value=1.0, bar_style='info', max=1.0), HTML(value='')))"
      ]
     },
     "metadata": {},
     "output_type": "display_data"
    },
    {
     "name": "stdout",
     "output_type": "stream",
     "text": [
      "\n"
     ]
    },
    {
     "data": {
      "application/vnd.jupyter.widget-view+json": {
       "model_id": "8520612460294004ad52b227c6981055",
       "version_major": 2,
       "version_minor": 0
      },
      "text/plain": [
       "HBox(children=(FloatProgress(value=1.0, bar_style='info', max=1.0), HTML(value='')))"
      ]
     },
     "metadata": {},
     "output_type": "display_data"
    },
    {
     "name": "stdout",
     "output_type": "stream",
     "text": [
      "\n"
     ]
    },
    {
     "data": {
      "application/vnd.jupyter.widget-view+json": {
       "model_id": "c7beabd557ef4ddc95c4967c1ef4a979",
       "version_major": 2,
       "version_minor": 0
      },
      "text/plain": [
       "HBox(children=(FloatProgress(value=1.0, bar_style='info', max=1.0), HTML(value='')))"
      ]
     },
     "metadata": {},
     "output_type": "display_data"
    },
    {
     "name": "stdout",
     "output_type": "stream",
     "text": [
      "\n"
     ]
    },
    {
     "data": {
      "application/vnd.jupyter.widget-view+json": {
       "model_id": "f372dfd399fe4da7a74f2c455ee7c9d0",
       "version_major": 2,
       "version_minor": 0
      },
      "text/plain": [
       "HBox(children=(FloatProgress(value=1.0, bar_style='info', max=1.0), HTML(value='')))"
      ]
     },
     "metadata": {},
     "output_type": "display_data"
    },
    {
     "name": "stdout",
     "output_type": "stream",
     "text": [
      "\n"
     ]
    },
    {
     "data": {
      "application/vnd.jupyter.widget-view+json": {
       "model_id": "c40eb4a5204644d68846bb3371f5bae5",
       "version_major": 2,
       "version_minor": 0
      },
      "text/plain": [
       "HBox(children=(FloatProgress(value=1.0, bar_style='info', max=1.0), HTML(value='')))"
      ]
     },
     "metadata": {},
     "output_type": "display_data"
    },
    {
     "name": "stdout",
     "output_type": "stream",
     "text": [
      "\n"
     ]
    },
    {
     "data": {
      "application/vnd.jupyter.widget-view+json": {
       "model_id": "a19179f6d80f48e9b5594a15897573d1",
       "version_major": 2,
       "version_minor": 0
      },
      "text/plain": [
       "HBox(children=(FloatProgress(value=1.0, bar_style='info', max=1.0), HTML(value='')))"
      ]
     },
     "metadata": {},
     "output_type": "display_data"
    },
    {
     "name": "stdout",
     "output_type": "stream",
     "text": [
      "\n"
     ]
    },
    {
     "data": {
      "application/vnd.jupyter.widget-view+json": {
       "model_id": "06721707ad6b4f8e90184c22f2ebce66",
       "version_major": 2,
       "version_minor": 0
      },
      "text/plain": [
       "HBox(children=(FloatProgress(value=1.0, bar_style='info', max=1.0), HTML(value='')))"
      ]
     },
     "metadata": {},
     "output_type": "display_data"
    },
    {
     "name": "stdout",
     "output_type": "stream",
     "text": [
      "\n"
     ]
    },
    {
     "data": {
      "application/vnd.jupyter.widget-view+json": {
       "model_id": "498c4516f3d14da0a256a4ce5f035f46",
       "version_major": 2,
       "version_minor": 0
      },
      "text/plain": [
       "HBox(children=(FloatProgress(value=1.0, bar_style='info', max=1.0), HTML(value='')))"
      ]
     },
     "metadata": {},
     "output_type": "display_data"
    },
    {
     "name": "stdout",
     "output_type": "stream",
     "text": [
      "\n"
     ]
    },
    {
     "data": {
      "application/vnd.jupyter.widget-view+json": {
       "model_id": "71f4bf97490b40b79e59eb13d5fcdaf8",
       "version_major": 2,
       "version_minor": 0
      },
      "text/plain": [
       "HBox(children=(FloatProgress(value=1.0, bar_style='info', max=1.0), HTML(value='')))"
      ]
     },
     "metadata": {},
     "output_type": "display_data"
    },
    {
     "name": "stdout",
     "output_type": "stream",
     "text": [
      "\n"
     ]
    },
    {
     "data": {
      "application/vnd.jupyter.widget-view+json": {
       "model_id": "afd38d8beb4d478290b2dab2572128c5",
       "version_major": 2,
       "version_minor": 0
      },
      "text/plain": [
       "HBox(children=(FloatProgress(value=1.0, bar_style='info', max=1.0), HTML(value='')))"
      ]
     },
     "metadata": {},
     "output_type": "display_data"
    },
    {
     "name": "stdout",
     "output_type": "stream",
     "text": [
      "\n"
     ]
    },
    {
     "data": {
      "application/vnd.jupyter.widget-view+json": {
       "model_id": "312717d984e142259953350601765a18",
       "version_major": 2,
       "version_minor": 0
      },
      "text/plain": [
       "HBox(children=(FloatProgress(value=1.0, bar_style='info', max=1.0), HTML(value='')))"
      ]
     },
     "metadata": {},
     "output_type": "display_data"
    },
    {
     "name": "stdout",
     "output_type": "stream",
     "text": [
      "\n"
     ]
    },
    {
     "data": {
      "application/vnd.jupyter.widget-view+json": {
       "model_id": "6e99fa49639746218ccdc11f5976fc45",
       "version_major": 2,
       "version_minor": 0
      },
      "text/plain": [
       "HBox(children=(FloatProgress(value=1.0, bar_style='info', max=1.0), HTML(value='')))"
      ]
     },
     "metadata": {},
     "output_type": "display_data"
    },
    {
     "name": "stdout",
     "output_type": "stream",
     "text": [
      "\n"
     ]
    },
    {
     "data": {
      "application/vnd.jupyter.widget-view+json": {
       "model_id": "4af71517b1b54e7eb8e56a4a30a40d7a",
       "version_major": 2,
       "version_minor": 0
      },
      "text/plain": [
       "HBox(children=(FloatProgress(value=1.0, bar_style='info', max=1.0), HTML(value='')))"
      ]
     },
     "metadata": {},
     "output_type": "display_data"
    },
    {
     "name": "stdout",
     "output_type": "stream",
     "text": [
      "\n"
     ]
    },
    {
     "data": {
      "application/vnd.jupyter.widget-view+json": {
       "model_id": "20e3e65c1dd9462cb1f79e6a7ecbea17",
       "version_major": 2,
       "version_minor": 0
      },
      "text/plain": [
       "HBox(children=(FloatProgress(value=1.0, bar_style='info', max=1.0), HTML(value='')))"
      ]
     },
     "metadata": {},
     "output_type": "display_data"
    },
    {
     "name": "stdout",
     "output_type": "stream",
     "text": [
      "\n"
     ]
    },
    {
     "data": {
      "application/vnd.jupyter.widget-view+json": {
       "model_id": "993df9b8b92b463c98e4b7b7b216211e",
       "version_major": 2,
       "version_minor": 0
      },
      "text/plain": [
       "HBox(children=(FloatProgress(value=1.0, bar_style='info', max=1.0), HTML(value='')))"
      ]
     },
     "metadata": {},
     "output_type": "display_data"
    },
    {
     "name": "stdout",
     "output_type": "stream",
     "text": [
      "\n"
     ]
    },
    {
     "data": {
      "application/vnd.jupyter.widget-view+json": {
       "model_id": "2d6fbcf4e4604179a497db1ca3131bf6",
       "version_major": 2,
       "version_minor": 0
      },
      "text/plain": [
       "HBox(children=(FloatProgress(value=1.0, bar_style='info', max=1.0), HTML(value='')))"
      ]
     },
     "metadata": {},
     "output_type": "display_data"
    },
    {
     "name": "stdout",
     "output_type": "stream",
     "text": [
      "\n"
     ]
    },
    {
     "data": {
      "application/vnd.jupyter.widget-view+json": {
       "model_id": "208655794c2547b789a15560bdd7330d",
       "version_major": 2,
       "version_minor": 0
      },
      "text/plain": [
       "HBox(children=(FloatProgress(value=1.0, bar_style='info', max=1.0), HTML(value='')))"
      ]
     },
     "metadata": {},
     "output_type": "display_data"
    },
    {
     "name": "stdout",
     "output_type": "stream",
     "text": [
      "\n"
     ]
    },
    {
     "data": {
      "application/vnd.jupyter.widget-view+json": {
       "model_id": "4d05329a3a2a442c88376a9547cc2dde",
       "version_major": 2,
       "version_minor": 0
      },
      "text/plain": [
       "HBox(children=(FloatProgress(value=1.0, bar_style='info', max=1.0), HTML(value='')))"
      ]
     },
     "metadata": {},
     "output_type": "display_data"
    },
    {
     "name": "stdout",
     "output_type": "stream",
     "text": [
      "\n"
     ]
    },
    {
     "data": {
      "application/vnd.jupyter.widget-view+json": {
       "model_id": "9f20d5fb18484875b88ce7e3b96b720c",
       "version_major": 2,
       "version_minor": 0
      },
      "text/plain": [
       "HBox(children=(FloatProgress(value=1.0, bar_style='info', max=1.0), HTML(value='')))"
      ]
     },
     "metadata": {},
     "output_type": "display_data"
    },
    {
     "name": "stdout",
     "output_type": "stream",
     "text": [
      "\n"
     ]
    },
    {
     "data": {
      "application/vnd.jupyter.widget-view+json": {
       "model_id": "7eda467d124348cfad78e0ee5620be53",
       "version_major": 2,
       "version_minor": 0
      },
      "text/plain": [
       "HBox(children=(FloatProgress(value=1.0, bar_style='info', max=1.0), HTML(value='')))"
      ]
     },
     "metadata": {},
     "output_type": "display_data"
    },
    {
     "name": "stdout",
     "output_type": "stream",
     "text": [
      "\n"
     ]
    },
    {
     "data": {
      "application/vnd.jupyter.widget-view+json": {
       "model_id": "e0bea922da054aa79088a7f84c8eafcd",
       "version_major": 2,
       "version_minor": 0
      },
      "text/plain": [
       "HBox(children=(FloatProgress(value=1.0, bar_style='info', max=1.0), HTML(value='')))"
      ]
     },
     "metadata": {},
     "output_type": "display_data"
    },
    {
     "name": "stdout",
     "output_type": "stream",
     "text": [
      "\n"
     ]
    },
    {
     "data": {
      "application/vnd.jupyter.widget-view+json": {
       "model_id": "7d89a47dd2844fcab78b97e7fdf739f9",
       "version_major": 2,
       "version_minor": 0
      },
      "text/plain": [
       "HBox(children=(FloatProgress(value=1.0, bar_style='info', max=1.0), HTML(value='')))"
      ]
     },
     "metadata": {},
     "output_type": "display_data"
    },
    {
     "name": "stdout",
     "output_type": "stream",
     "text": [
      "\n"
     ]
    },
    {
     "data": {
      "application/vnd.jupyter.widget-view+json": {
       "model_id": "19f27dc69014412c98399c00cdaf39a9",
       "version_major": 2,
       "version_minor": 0
      },
      "text/plain": [
       "HBox(children=(FloatProgress(value=1.0, bar_style='info', max=1.0), HTML(value='')))"
      ]
     },
     "metadata": {},
     "output_type": "display_data"
    },
    {
     "name": "stdout",
     "output_type": "stream",
     "text": [
      "\n"
     ]
    },
    {
     "data": {
      "application/vnd.jupyter.widget-view+json": {
       "model_id": "c67cb08920f34cb4948836a6b0bd497c",
       "version_major": 2,
       "version_minor": 0
      },
      "text/plain": [
       "HBox(children=(FloatProgress(value=1.0, bar_style='info', max=1.0), HTML(value='')))"
      ]
     },
     "metadata": {},
     "output_type": "display_data"
    },
    {
     "name": "stdout",
     "output_type": "stream",
     "text": [
      "\n"
     ]
    },
    {
     "data": {
      "application/vnd.jupyter.widget-view+json": {
       "model_id": "1f9956fc092c4d7ea72b2dcf40c20de1",
       "version_major": 2,
       "version_minor": 0
      },
      "text/plain": [
       "HBox(children=(FloatProgress(value=1.0, bar_style='info', max=1.0), HTML(value='')))"
      ]
     },
     "metadata": {},
     "output_type": "display_data"
    },
    {
     "name": "stdout",
     "output_type": "stream",
     "text": [
      "\n"
     ]
    },
    {
     "data": {
      "application/vnd.jupyter.widget-view+json": {
       "model_id": "49bd411e1c7744ae9da404cc6d102f87",
       "version_major": 2,
       "version_minor": 0
      },
      "text/plain": [
       "HBox(children=(FloatProgress(value=1.0, bar_style='info', max=1.0), HTML(value='')))"
      ]
     },
     "metadata": {},
     "output_type": "display_data"
    },
    {
     "name": "stdout",
     "output_type": "stream",
     "text": [
      "\n"
     ]
    },
    {
     "data": {
      "application/vnd.jupyter.widget-view+json": {
       "model_id": "7d4c97df35664105819c949a4d2cbf93",
       "version_major": 2,
       "version_minor": 0
      },
      "text/plain": [
       "HBox(children=(FloatProgress(value=1.0, bar_style='info', max=1.0), HTML(value='')))"
      ]
     },
     "metadata": {},
     "output_type": "display_data"
    },
    {
     "name": "stdout",
     "output_type": "stream",
     "text": [
      "\n"
     ]
    },
    {
     "data": {
      "application/vnd.jupyter.widget-view+json": {
       "model_id": "024c2cb5ee6d4d4ab302578caff3693d",
       "version_major": 2,
       "version_minor": 0
      },
      "text/plain": [
       "HBox(children=(FloatProgress(value=1.0, bar_style='info', max=1.0), HTML(value='')))"
      ]
     },
     "metadata": {},
     "output_type": "display_data"
    },
    {
     "name": "stdout",
     "output_type": "stream",
     "text": [
      "\n"
     ]
    },
    {
     "data": {
      "application/vnd.jupyter.widget-view+json": {
       "model_id": "ce11f7bc67094262a66f484e21763da5",
       "version_major": 2,
       "version_minor": 0
      },
      "text/plain": [
       "HBox(children=(FloatProgress(value=1.0, bar_style='info', max=1.0), HTML(value='')))"
      ]
     },
     "metadata": {},
     "output_type": "display_data"
    },
    {
     "name": "stdout",
     "output_type": "stream",
     "text": [
      "\n"
     ]
    },
    {
     "data": {
      "application/vnd.jupyter.widget-view+json": {
       "model_id": "4566548686c1459080fe64811879c242",
       "version_major": 2,
       "version_minor": 0
      },
      "text/plain": [
       "HBox(children=(FloatProgress(value=1.0, bar_style='info', max=1.0), HTML(value='')))"
      ]
     },
     "metadata": {},
     "output_type": "display_data"
    },
    {
     "name": "stdout",
     "output_type": "stream",
     "text": [
      "\n"
     ]
    },
    {
     "data": {
      "application/vnd.jupyter.widget-view+json": {
       "model_id": "e9b72d3bcdad4f77aadc2341ad128011",
       "version_major": 2,
       "version_minor": 0
      },
      "text/plain": [
       "HBox(children=(FloatProgress(value=1.0, bar_style='info', max=1.0), HTML(value='')))"
      ]
     },
     "metadata": {},
     "output_type": "display_data"
    },
    {
     "name": "stdout",
     "output_type": "stream",
     "text": [
      "\n"
     ]
    },
    {
     "data": {
      "application/vnd.jupyter.widget-view+json": {
       "model_id": "5af0e1ccc63441ceb57c089a3abdf519",
       "version_major": 2,
       "version_minor": 0
      },
      "text/plain": [
       "HBox(children=(FloatProgress(value=1.0, bar_style='info', max=1.0), HTML(value='')))"
      ]
     },
     "metadata": {},
     "output_type": "display_data"
    },
    {
     "name": "stdout",
     "output_type": "stream",
     "text": [
      "\n"
     ]
    },
    {
     "data": {
      "application/vnd.jupyter.widget-view+json": {
       "model_id": "153d1670e1d34eaa9fac503b5c610d70",
       "version_major": 2,
       "version_minor": 0
      },
      "text/plain": [
       "HBox(children=(FloatProgress(value=1.0, bar_style='info', max=1.0), HTML(value='')))"
      ]
     },
     "metadata": {},
     "output_type": "display_data"
    },
    {
     "name": "stdout",
     "output_type": "stream",
     "text": [
      "\n"
     ]
    },
    {
     "data": {
      "application/vnd.jupyter.widget-view+json": {
       "model_id": "255a60c979be41398c483d2475314622",
       "version_major": 2,
       "version_minor": 0
      },
      "text/plain": [
       "HBox(children=(FloatProgress(value=1.0, bar_style='info', max=1.0), HTML(value='')))"
      ]
     },
     "metadata": {},
     "output_type": "display_data"
    },
    {
     "name": "stdout",
     "output_type": "stream",
     "text": [
      "\n"
     ]
    },
    {
     "data": {
      "application/vnd.jupyter.widget-view+json": {
       "model_id": "b78f4ff13f244bc4a9478680a066a5e4",
       "version_major": 2,
       "version_minor": 0
      },
      "text/plain": [
       "HBox(children=(FloatProgress(value=1.0, bar_style='info', max=1.0), HTML(value='')))"
      ]
     },
     "metadata": {},
     "output_type": "display_data"
    },
    {
     "name": "stdout",
     "output_type": "stream",
     "text": [
      "\n"
     ]
    },
    {
     "data": {
      "application/vnd.jupyter.widget-view+json": {
       "model_id": "3319aa6baf6345848d3a190a84cb388d",
       "version_major": 2,
       "version_minor": 0
      },
      "text/plain": [
       "HBox(children=(FloatProgress(value=1.0, bar_style='info', max=1.0), HTML(value='')))"
      ]
     },
     "metadata": {},
     "output_type": "display_data"
    },
    {
     "name": "stdout",
     "output_type": "stream",
     "text": [
      "\n"
     ]
    },
    {
     "data": {
      "application/vnd.jupyter.widget-view+json": {
       "model_id": "f59151ec2702479c8affd2c2fadd10a1",
       "version_major": 2,
       "version_minor": 0
      },
      "text/plain": [
       "HBox(children=(FloatProgress(value=1.0, bar_style='info', max=1.0), HTML(value='')))"
      ]
     },
     "metadata": {},
     "output_type": "display_data"
    },
    {
     "name": "stdout",
     "output_type": "stream",
     "text": [
      "\n"
     ]
    },
    {
     "data": {
      "application/vnd.jupyter.widget-view+json": {
       "model_id": "22aa41e7285a4cd085425de6684db004",
       "version_major": 2,
       "version_minor": 0
      },
      "text/plain": [
       "HBox(children=(FloatProgress(value=1.0, bar_style='info', max=1.0), HTML(value='')))"
      ]
     },
     "metadata": {},
     "output_type": "display_data"
    },
    {
     "name": "stdout",
     "output_type": "stream",
     "text": [
      "\n"
     ]
    },
    {
     "data": {
      "application/vnd.jupyter.widget-view+json": {
       "model_id": "4339121b9a6843589ed568d908cdc09f",
       "version_major": 2,
       "version_minor": 0
      },
      "text/plain": [
       "HBox(children=(FloatProgress(value=1.0, bar_style='info', max=1.0), HTML(value='')))"
      ]
     },
     "metadata": {},
     "output_type": "display_data"
    },
    {
     "name": "stdout",
     "output_type": "stream",
     "text": [
      "\n"
     ]
    },
    {
     "data": {
      "application/vnd.jupyter.widget-view+json": {
       "model_id": "36bb7d80689b482a8f112e0251117268",
       "version_major": 2,
       "version_minor": 0
      },
      "text/plain": [
       "HBox(children=(FloatProgress(value=1.0, bar_style='info', max=1.0), HTML(value='')))"
      ]
     },
     "metadata": {},
     "output_type": "display_data"
    },
    {
     "name": "stdout",
     "output_type": "stream",
     "text": [
      "\n"
     ]
    },
    {
     "data": {
      "application/vnd.jupyter.widget-view+json": {
       "model_id": "f560a2a133fd4128a830d520e8013f71",
       "version_major": 2,
       "version_minor": 0
      },
      "text/plain": [
       "HBox(children=(FloatProgress(value=1.0, bar_style='info', max=1.0), HTML(value='')))"
      ]
     },
     "metadata": {},
     "output_type": "display_data"
    },
    {
     "name": "stdout",
     "output_type": "stream",
     "text": [
      "\n"
     ]
    },
    {
     "data": {
      "application/vnd.jupyter.widget-view+json": {
       "model_id": "a2794d70a67742879ed679d596aeda3d",
       "version_major": 2,
       "version_minor": 0
      },
      "text/plain": [
       "HBox(children=(FloatProgress(value=1.0, bar_style='info', max=1.0), HTML(value='')))"
      ]
     },
     "metadata": {},
     "output_type": "display_data"
    },
    {
     "name": "stdout",
     "output_type": "stream",
     "text": [
      "\n"
     ]
    },
    {
     "data": {
      "application/vnd.jupyter.widget-view+json": {
       "model_id": "f4814b2f900f42fea970d80d7802d180",
       "version_major": 2,
       "version_minor": 0
      },
      "text/plain": [
       "HBox(children=(FloatProgress(value=1.0, bar_style='info', max=1.0), HTML(value='')))"
      ]
     },
     "metadata": {},
     "output_type": "display_data"
    },
    {
     "name": "stdout",
     "output_type": "stream",
     "text": [
      "\n"
     ]
    },
    {
     "data": {
      "application/vnd.jupyter.widget-view+json": {
       "model_id": "f02ee57be6094b70af0be07f6f764245",
       "version_major": 2,
       "version_minor": 0
      },
      "text/plain": [
       "HBox(children=(FloatProgress(value=1.0, bar_style='info', max=1.0), HTML(value='')))"
      ]
     },
     "metadata": {},
     "output_type": "display_data"
    },
    {
     "name": "stdout",
     "output_type": "stream",
     "text": [
      "\n"
     ]
    },
    {
     "data": {
      "application/vnd.jupyter.widget-view+json": {
       "model_id": "52443e8b1eb4435f90f0b34a45359ed4",
       "version_major": 2,
       "version_minor": 0
      },
      "text/plain": [
       "HBox(children=(FloatProgress(value=1.0, bar_style='info', max=1.0), HTML(value='')))"
      ]
     },
     "metadata": {},
     "output_type": "display_data"
    },
    {
     "name": "stdout",
     "output_type": "stream",
     "text": [
      "\n"
     ]
    },
    {
     "data": {
      "application/vnd.jupyter.widget-view+json": {
       "model_id": "5bd1c2e1d9ff475fa2099f78af46c459",
       "version_major": 2,
       "version_minor": 0
      },
      "text/plain": [
       "HBox(children=(FloatProgress(value=1.0, bar_style='info', max=1.0), HTML(value='')))"
      ]
     },
     "metadata": {},
     "output_type": "display_data"
    },
    {
     "name": "stdout",
     "output_type": "stream",
     "text": [
      "\n"
     ]
    },
    {
     "data": {
      "application/vnd.jupyter.widget-view+json": {
       "model_id": "80a6120f751f448eb7e57d763d37c1f2",
       "version_major": 2,
       "version_minor": 0
      },
      "text/plain": [
       "HBox(children=(FloatProgress(value=1.0, bar_style='info', max=1.0), HTML(value='')))"
      ]
     },
     "metadata": {},
     "output_type": "display_data"
    },
    {
     "name": "stdout",
     "output_type": "stream",
     "text": [
      "\n"
     ]
    },
    {
     "data": {
      "application/vnd.jupyter.widget-view+json": {
       "model_id": "776469bb37f84e499b1706f7394bc1f2",
       "version_major": 2,
       "version_minor": 0
      },
      "text/plain": [
       "HBox(children=(FloatProgress(value=1.0, bar_style='info', max=1.0), HTML(value='')))"
      ]
     },
     "metadata": {},
     "output_type": "display_data"
    },
    {
     "name": "stdout",
     "output_type": "stream",
     "text": [
      "\n"
     ]
    },
    {
     "data": {
      "application/vnd.jupyter.widget-view+json": {
       "model_id": "54462116f5c84690b17e6179f32b8d3c",
       "version_major": 2,
       "version_minor": 0
      },
      "text/plain": [
       "HBox(children=(FloatProgress(value=1.0, bar_style='info', max=1.0), HTML(value='')))"
      ]
     },
     "metadata": {},
     "output_type": "display_data"
    },
    {
     "name": "stdout",
     "output_type": "stream",
     "text": [
      "\n"
     ]
    },
    {
     "data": {
      "application/vnd.jupyter.widget-view+json": {
       "model_id": "c962bcfa5a2e498b971a34d244b856a5",
       "version_major": 2,
       "version_minor": 0
      },
      "text/plain": [
       "HBox(children=(FloatProgress(value=1.0, bar_style='info', max=1.0), HTML(value='')))"
      ]
     },
     "metadata": {},
     "output_type": "display_data"
    },
    {
     "name": "stdout",
     "output_type": "stream",
     "text": [
      "\n"
     ]
    },
    {
     "data": {
      "application/vnd.jupyter.widget-view+json": {
       "model_id": "8cbc901cc02643fea6e969703e2e95ca",
       "version_major": 2,
       "version_minor": 0
      },
      "text/plain": [
       "HBox(children=(FloatProgress(value=1.0, bar_style='info', max=1.0), HTML(value='')))"
      ]
     },
     "metadata": {},
     "output_type": "display_data"
    },
    {
     "name": "stdout",
     "output_type": "stream",
     "text": [
      "\n"
     ]
    },
    {
     "data": {
      "application/vnd.jupyter.widget-view+json": {
       "model_id": "f6f7b92ac7124ccb8485947332f32de4",
       "version_major": 2,
       "version_minor": 0
      },
      "text/plain": [
       "HBox(children=(FloatProgress(value=1.0, bar_style='info', max=1.0), HTML(value='')))"
      ]
     },
     "metadata": {},
     "output_type": "display_data"
    },
    {
     "name": "stdout",
     "output_type": "stream",
     "text": [
      "\n"
     ]
    },
    {
     "data": {
      "application/vnd.jupyter.widget-view+json": {
       "model_id": "126de024ea5f43c6be3eeeabf476897c",
       "version_major": 2,
       "version_minor": 0
      },
      "text/plain": [
       "HBox(children=(FloatProgress(value=1.0, bar_style='info', max=1.0), HTML(value='')))"
      ]
     },
     "metadata": {},
     "output_type": "display_data"
    },
    {
     "name": "stdout",
     "output_type": "stream",
     "text": [
      "\n"
     ]
    },
    {
     "data": {
      "application/vnd.jupyter.widget-view+json": {
       "model_id": "160417a4d25b47bfa9741bac3e2bb002",
       "version_major": 2,
       "version_minor": 0
      },
      "text/plain": [
       "HBox(children=(FloatProgress(value=1.0, bar_style='info', max=1.0), HTML(value='')))"
      ]
     },
     "metadata": {},
     "output_type": "display_data"
    },
    {
     "name": "stdout",
     "output_type": "stream",
     "text": [
      "\n"
     ]
    },
    {
     "data": {
      "application/vnd.jupyter.widget-view+json": {
       "model_id": "9bc2c50644a94727b60de482b57f21a3",
       "version_major": 2,
       "version_minor": 0
      },
      "text/plain": [
       "HBox(children=(FloatProgress(value=1.0, bar_style='info', max=1.0), HTML(value='')))"
      ]
     },
     "metadata": {},
     "output_type": "display_data"
    },
    {
     "name": "stdout",
     "output_type": "stream",
     "text": [
      "\n"
     ]
    },
    {
     "data": {
      "application/vnd.jupyter.widget-view+json": {
       "model_id": "7092a250f0074dc98d575bd3c83b5d4a",
       "version_major": 2,
       "version_minor": 0
      },
      "text/plain": [
       "HBox(children=(FloatProgress(value=1.0, bar_style='info', max=1.0), HTML(value='')))"
      ]
     },
     "metadata": {},
     "output_type": "display_data"
    },
    {
     "name": "stdout",
     "output_type": "stream",
     "text": [
      "\n"
     ]
    },
    {
     "data": {
      "application/vnd.jupyter.widget-view+json": {
       "model_id": "31f57adee2744c51848235241ec2d354",
       "version_major": 2,
       "version_minor": 0
      },
      "text/plain": [
       "HBox(children=(FloatProgress(value=1.0, bar_style='info', max=1.0), HTML(value='')))"
      ]
     },
     "metadata": {},
     "output_type": "display_data"
    },
    {
     "name": "stdout",
     "output_type": "stream",
     "text": [
      "\n"
     ]
    },
    {
     "data": {
      "application/vnd.jupyter.widget-view+json": {
       "model_id": "13b822150d004c6db2ac62d13ef9234a",
       "version_major": 2,
       "version_minor": 0
      },
      "text/plain": [
       "HBox(children=(FloatProgress(value=1.0, bar_style='info', max=1.0), HTML(value='')))"
      ]
     },
     "metadata": {},
     "output_type": "display_data"
    },
    {
     "name": "stdout",
     "output_type": "stream",
     "text": [
      "\n"
     ]
    },
    {
     "data": {
      "application/vnd.jupyter.widget-view+json": {
       "model_id": "c87430ea8f44408abf4c7a2df88086f9",
       "version_major": 2,
       "version_minor": 0
      },
      "text/plain": [
       "HBox(children=(FloatProgress(value=1.0, bar_style='info', max=1.0), HTML(value='')))"
      ]
     },
     "metadata": {},
     "output_type": "display_data"
    },
    {
     "name": "stdout",
     "output_type": "stream",
     "text": [
      "\n"
     ]
    },
    {
     "data": {
      "application/vnd.jupyter.widget-view+json": {
       "model_id": "602fde0675f74fb480db8de560c5c10c",
       "version_major": 2,
       "version_minor": 0
      },
      "text/plain": [
       "HBox(children=(FloatProgress(value=1.0, bar_style='info', max=1.0), HTML(value='')))"
      ]
     },
     "metadata": {},
     "output_type": "display_data"
    },
    {
     "name": "stdout",
     "output_type": "stream",
     "text": [
      "\n"
     ]
    },
    {
     "data": {
      "application/vnd.jupyter.widget-view+json": {
       "model_id": "c29df07ff98d41cfbf0a91ba3964722d",
       "version_major": 2,
       "version_minor": 0
      },
      "text/plain": [
       "HBox(children=(FloatProgress(value=1.0, bar_style='info', max=1.0), HTML(value='')))"
      ]
     },
     "metadata": {},
     "output_type": "display_data"
    },
    {
     "name": "stdout",
     "output_type": "stream",
     "text": [
      "\n"
     ]
    },
    {
     "data": {
      "application/vnd.jupyter.widget-view+json": {
       "model_id": "db9b59d17d4a482f88df95a31cf0b355",
       "version_major": 2,
       "version_minor": 0
      },
      "text/plain": [
       "HBox(children=(FloatProgress(value=1.0, bar_style='info', max=1.0), HTML(value='')))"
      ]
     },
     "metadata": {},
     "output_type": "display_data"
    },
    {
     "name": "stdout",
     "output_type": "stream",
     "text": [
      "\n"
     ]
    },
    {
     "data": {
      "application/vnd.jupyter.widget-view+json": {
       "model_id": "fff5612cd82047188080bd59fe552b24",
       "version_major": 2,
       "version_minor": 0
      },
      "text/plain": [
       "HBox(children=(FloatProgress(value=1.0, bar_style='info', max=1.0), HTML(value='')))"
      ]
     },
     "metadata": {},
     "output_type": "display_data"
    },
    {
     "name": "stdout",
     "output_type": "stream",
     "text": [
      "\n"
     ]
    },
    {
     "data": {
      "application/vnd.jupyter.widget-view+json": {
       "model_id": "ffacc9482b1f4f80b2fe1749d7dab4ff",
       "version_major": 2,
       "version_minor": 0
      },
      "text/plain": [
       "HBox(children=(FloatProgress(value=1.0, bar_style='info', max=1.0), HTML(value='')))"
      ]
     },
     "metadata": {},
     "output_type": "display_data"
    },
    {
     "name": "stdout",
     "output_type": "stream",
     "text": [
      "\n"
     ]
    },
    {
     "data": {
      "application/vnd.jupyter.widget-view+json": {
       "model_id": "4c4491dc776e4e74b5548e60c3a4f9c3",
       "version_major": 2,
       "version_minor": 0
      },
      "text/plain": [
       "HBox(children=(FloatProgress(value=1.0, bar_style='info', max=1.0), HTML(value='')))"
      ]
     },
     "metadata": {},
     "output_type": "display_data"
    },
    {
     "name": "stdout",
     "output_type": "stream",
     "text": [
      "\n"
     ]
    },
    {
     "data": {
      "application/vnd.jupyter.widget-view+json": {
       "model_id": "c4e3a971b7204dcfa6afb37ff40a3a3f",
       "version_major": 2,
       "version_minor": 0
      },
      "text/plain": [
       "HBox(children=(FloatProgress(value=1.0, bar_style='info', max=1.0), HTML(value='')))"
      ]
     },
     "metadata": {},
     "output_type": "display_data"
    },
    {
     "name": "stdout",
     "output_type": "stream",
     "text": [
      "\n"
     ]
    },
    {
     "data": {
      "application/vnd.jupyter.widget-view+json": {
       "model_id": "8923d81a2cfd45daac50dac49c4af44a",
       "version_major": 2,
       "version_minor": 0
      },
      "text/plain": [
       "HBox(children=(FloatProgress(value=1.0, bar_style='info', max=1.0), HTML(value='')))"
      ]
     },
     "metadata": {},
     "output_type": "display_data"
    },
    {
     "name": "stdout",
     "output_type": "stream",
     "text": [
      "\n"
     ]
    },
    {
     "data": {
      "application/vnd.jupyter.widget-view+json": {
       "model_id": "aa0279b756914d19b4968b1be14d7468",
       "version_major": 2,
       "version_minor": 0
      },
      "text/plain": [
       "HBox(children=(FloatProgress(value=1.0, bar_style='info', max=1.0), HTML(value='')))"
      ]
     },
     "metadata": {},
     "output_type": "display_data"
    },
    {
     "name": "stdout",
     "output_type": "stream",
     "text": [
      "\n"
     ]
    },
    {
     "data": {
      "application/vnd.jupyter.widget-view+json": {
       "model_id": "fdedc0f30d0d4cbb9d1e1353659707e2",
       "version_major": 2,
       "version_minor": 0
      },
      "text/plain": [
       "HBox(children=(FloatProgress(value=1.0, bar_style='info', max=1.0), HTML(value='')))"
      ]
     },
     "metadata": {},
     "output_type": "display_data"
    },
    {
     "name": "stdout",
     "output_type": "stream",
     "text": [
      "\n"
     ]
    },
    {
     "data": {
      "application/vnd.jupyter.widget-view+json": {
       "model_id": "6b5c2818ecd444ae89fbb2ca898c3004",
       "version_major": 2,
       "version_minor": 0
      },
      "text/plain": [
       "HBox(children=(FloatProgress(value=1.0, bar_style='info', max=1.0), HTML(value='')))"
      ]
     },
     "metadata": {},
     "output_type": "display_data"
    },
    {
     "name": "stdout",
     "output_type": "stream",
     "text": [
      "\n"
     ]
    },
    {
     "data": {
      "application/vnd.jupyter.widget-view+json": {
       "model_id": "0751f8f242c346e39fab9a04abeae3bb",
       "version_major": 2,
       "version_minor": 0
      },
      "text/plain": [
       "HBox(children=(FloatProgress(value=1.0, bar_style='info', max=1.0), HTML(value='')))"
      ]
     },
     "metadata": {},
     "output_type": "display_data"
    },
    {
     "name": "stdout",
     "output_type": "stream",
     "text": [
      "\n"
     ]
    },
    {
     "data": {
      "application/vnd.jupyter.widget-view+json": {
       "model_id": "9f5a4f78240946aa8afaa11ca51cc167",
       "version_major": 2,
       "version_minor": 0
      },
      "text/plain": [
       "HBox(children=(FloatProgress(value=1.0, bar_style='info', max=1.0), HTML(value='')))"
      ]
     },
     "metadata": {},
     "output_type": "display_data"
    },
    {
     "name": "stdout",
     "output_type": "stream",
     "text": [
      "\n"
     ]
    },
    {
     "data": {
      "application/vnd.jupyter.widget-view+json": {
       "model_id": "7f516cf11de346db933a4ddeb0839844",
       "version_major": 2,
       "version_minor": 0
      },
      "text/plain": [
       "HBox(children=(FloatProgress(value=1.0, bar_style='info', max=1.0), HTML(value='')))"
      ]
     },
     "metadata": {},
     "output_type": "display_data"
    },
    {
     "name": "stdout",
     "output_type": "stream",
     "text": [
      "\n"
     ]
    },
    {
     "data": {
      "application/vnd.jupyter.widget-view+json": {
       "model_id": "5bd82330046b497b84467c3420126415",
       "version_major": 2,
       "version_minor": 0
      },
      "text/plain": [
       "HBox(children=(FloatProgress(value=1.0, bar_style='info', max=1.0), HTML(value='')))"
      ]
     },
     "metadata": {},
     "output_type": "display_data"
    },
    {
     "name": "stdout",
     "output_type": "stream",
     "text": [
      "\n"
     ]
    },
    {
     "data": {
      "application/vnd.jupyter.widget-view+json": {
       "model_id": "8d88f781d4b547808203171d25b25d7e",
       "version_major": 2,
       "version_minor": 0
      },
      "text/plain": [
       "HBox(children=(FloatProgress(value=1.0, bar_style='info', max=1.0), HTML(value='')))"
      ]
     },
     "metadata": {},
     "output_type": "display_data"
    },
    {
     "name": "stdout",
     "output_type": "stream",
     "text": [
      "\n"
     ]
    },
    {
     "data": {
      "application/vnd.jupyter.widget-view+json": {
       "model_id": "9f13ef801bbb4a469c577d32107d74da",
       "version_major": 2,
       "version_minor": 0
      },
      "text/plain": [
       "HBox(children=(FloatProgress(value=1.0, bar_style='info', max=1.0), HTML(value='')))"
      ]
     },
     "metadata": {},
     "output_type": "display_data"
    },
    {
     "name": "stdout",
     "output_type": "stream",
     "text": [
      "\n"
     ]
    },
    {
     "data": {
      "application/vnd.jupyter.widget-view+json": {
       "model_id": "ac65a34ee7904716933120621383edcc",
       "version_major": 2,
       "version_minor": 0
      },
      "text/plain": [
       "HBox(children=(FloatProgress(value=1.0, bar_style='info', max=1.0), HTML(value='')))"
      ]
     },
     "metadata": {},
     "output_type": "display_data"
    },
    {
     "name": "stdout",
     "output_type": "stream",
     "text": [
      "\n"
     ]
    },
    {
     "data": {
      "application/vnd.jupyter.widget-view+json": {
       "model_id": "6ebc31705eaa4913a859640f9f1fbdc1",
       "version_major": 2,
       "version_minor": 0
      },
      "text/plain": [
       "HBox(children=(FloatProgress(value=1.0, bar_style='info', max=1.0), HTML(value='')))"
      ]
     },
     "metadata": {},
     "output_type": "display_data"
    },
    {
     "name": "stdout",
     "output_type": "stream",
     "text": [
      "\n"
     ]
    },
    {
     "data": {
      "application/vnd.jupyter.widget-view+json": {
       "model_id": "e291a21177f44a5f83798e1f771faea5",
       "version_major": 2,
       "version_minor": 0
      },
      "text/plain": [
       "HBox(children=(FloatProgress(value=1.0, bar_style='info', max=1.0), HTML(value='')))"
      ]
     },
     "metadata": {},
     "output_type": "display_data"
    },
    {
     "name": "stdout",
     "output_type": "stream",
     "text": [
      "\n"
     ]
    },
    {
     "data": {
      "application/vnd.jupyter.widget-view+json": {
       "model_id": "b6a341e5b05547d99a2cc2403979ced3",
       "version_major": 2,
       "version_minor": 0
      },
      "text/plain": [
       "HBox(children=(FloatProgress(value=1.0, bar_style='info', max=1.0), HTML(value='')))"
      ]
     },
     "metadata": {},
     "output_type": "display_data"
    },
    {
     "name": "stdout",
     "output_type": "stream",
     "text": [
      "\n"
     ]
    },
    {
     "data": {
      "application/vnd.jupyter.widget-view+json": {
       "model_id": "a41bd8b57d0649d5965e146a52ba162a",
       "version_major": 2,
       "version_minor": 0
      },
      "text/plain": [
       "HBox(children=(FloatProgress(value=1.0, bar_style='info', max=1.0), HTML(value='')))"
      ]
     },
     "metadata": {},
     "output_type": "display_data"
    },
    {
     "name": "stdout",
     "output_type": "stream",
     "text": [
      "\n"
     ]
    },
    {
     "data": {
      "application/vnd.jupyter.widget-view+json": {
       "model_id": "c38d4694e6a54e8e979af26cd6e112cd",
       "version_major": 2,
       "version_minor": 0
      },
      "text/plain": [
       "HBox(children=(FloatProgress(value=1.0, bar_style='info', max=1.0), HTML(value='')))"
      ]
     },
     "metadata": {},
     "output_type": "display_data"
    },
    {
     "name": "stdout",
     "output_type": "stream",
     "text": [
      "\n"
     ]
    },
    {
     "data": {
      "application/vnd.jupyter.widget-view+json": {
       "model_id": "386b078bda384f16a21122c523498808",
       "version_major": 2,
       "version_minor": 0
      },
      "text/plain": [
       "HBox(children=(FloatProgress(value=1.0, bar_style='info', max=1.0), HTML(value='')))"
      ]
     },
     "metadata": {},
     "output_type": "display_data"
    },
    {
     "name": "stdout",
     "output_type": "stream",
     "text": [
      "\n"
     ]
    },
    {
     "data": {
      "application/vnd.jupyter.widget-view+json": {
       "model_id": "49a96842d2994769a5592b710e9ce39e",
       "version_major": 2,
       "version_minor": 0
      },
      "text/plain": [
       "HBox(children=(FloatProgress(value=1.0, bar_style='info', max=1.0), HTML(value='')))"
      ]
     },
     "metadata": {},
     "output_type": "display_data"
    },
    {
     "name": "stdout",
     "output_type": "stream",
     "text": [
      "\n"
     ]
    },
    {
     "data": {
      "application/vnd.jupyter.widget-view+json": {
       "model_id": "643ea6bdca244e81bd58e4383b5fe974",
       "version_major": 2,
       "version_minor": 0
      },
      "text/plain": [
       "HBox(children=(FloatProgress(value=1.0, bar_style='info', max=1.0), HTML(value='')))"
      ]
     },
     "metadata": {},
     "output_type": "display_data"
    },
    {
     "name": "stdout",
     "output_type": "stream",
     "text": [
      "\n"
     ]
    },
    {
     "data": {
      "application/vnd.jupyter.widget-view+json": {
       "model_id": "60a519b3e4954161b23225fd8a469663",
       "version_major": 2,
       "version_minor": 0
      },
      "text/plain": [
       "HBox(children=(FloatProgress(value=1.0, bar_style='info', max=1.0), HTML(value='')))"
      ]
     },
     "metadata": {},
     "output_type": "display_data"
    },
    {
     "name": "stdout",
     "output_type": "stream",
     "text": [
      "\n"
     ]
    },
    {
     "data": {
      "application/vnd.jupyter.widget-view+json": {
       "model_id": "fc1ddc269a9c42d8a2e90575c8f1bcda",
       "version_major": 2,
       "version_minor": 0
      },
      "text/plain": [
       "HBox(children=(FloatProgress(value=1.0, bar_style='info', max=1.0), HTML(value='')))"
      ]
     },
     "metadata": {},
     "output_type": "display_data"
    },
    {
     "name": "stdout",
     "output_type": "stream",
     "text": [
      "\n"
     ]
    },
    {
     "data": {
      "application/vnd.jupyter.widget-view+json": {
       "model_id": "87afa228cd3b4bf38828473d40857002",
       "version_major": 2,
       "version_minor": 0
      },
      "text/plain": [
       "HBox(children=(FloatProgress(value=1.0, bar_style='info', max=1.0), HTML(value='')))"
      ]
     },
     "metadata": {},
     "output_type": "display_data"
    },
    {
     "name": "stdout",
     "output_type": "stream",
     "text": [
      "\n"
     ]
    },
    {
     "data": {
      "application/vnd.jupyter.widget-view+json": {
       "model_id": "a7f29c4bb47d4aadabdc88c03a2ea1ba",
       "version_major": 2,
       "version_minor": 0
      },
      "text/plain": [
       "HBox(children=(FloatProgress(value=1.0, bar_style='info', max=1.0), HTML(value='')))"
      ]
     },
     "metadata": {},
     "output_type": "display_data"
    },
    {
     "name": "stdout",
     "output_type": "stream",
     "text": [
      "\n"
     ]
    },
    {
     "data": {
      "application/vnd.jupyter.widget-view+json": {
       "model_id": "0c0c4db0f517459ca3bdcec6cdb951dc",
       "version_major": 2,
       "version_minor": 0
      },
      "text/plain": [
       "HBox(children=(FloatProgress(value=1.0, bar_style='info', max=1.0), HTML(value='')))"
      ]
     },
     "metadata": {},
     "output_type": "display_data"
    },
    {
     "name": "stdout",
     "output_type": "stream",
     "text": [
      "\n"
     ]
    },
    {
     "data": {
      "application/vnd.jupyter.widget-view+json": {
       "model_id": "4272e6613b45469186e9b6b82074028a",
       "version_major": 2,
       "version_minor": 0
      },
      "text/plain": [
       "HBox(children=(FloatProgress(value=1.0, bar_style='info', max=1.0), HTML(value='')))"
      ]
     },
     "metadata": {},
     "output_type": "display_data"
    },
    {
     "name": "stdout",
     "output_type": "stream",
     "text": [
      "\n"
     ]
    },
    {
     "data": {
      "application/vnd.jupyter.widget-view+json": {
       "model_id": "e853e79659b74e42baabd3924f9c3b7a",
       "version_major": 2,
       "version_minor": 0
      },
      "text/plain": [
       "HBox(children=(FloatProgress(value=1.0, bar_style='info', max=1.0), HTML(value='')))"
      ]
     },
     "metadata": {},
     "output_type": "display_data"
    },
    {
     "name": "stdout",
     "output_type": "stream",
     "text": [
      "\n"
     ]
    },
    {
     "data": {
      "application/vnd.jupyter.widget-view+json": {
       "model_id": "e528046e15494ae6ab2dd87c59ba04f5",
       "version_major": 2,
       "version_minor": 0
      },
      "text/plain": [
       "HBox(children=(FloatProgress(value=1.0, bar_style='info', max=1.0), HTML(value='')))"
      ]
     },
     "metadata": {},
     "output_type": "display_data"
    },
    {
     "name": "stdout",
     "output_type": "stream",
     "text": [
      "\n"
     ]
    },
    {
     "data": {
      "application/vnd.jupyter.widget-view+json": {
       "model_id": "4abf9f6ffc444ecc8d01e024be4c2cec",
       "version_major": 2,
       "version_minor": 0
      },
      "text/plain": [
       "HBox(children=(FloatProgress(value=1.0, bar_style='info', max=1.0), HTML(value='')))"
      ]
     },
     "metadata": {},
     "output_type": "display_data"
    },
    {
     "name": "stdout",
     "output_type": "stream",
     "text": [
      "\n"
     ]
    },
    {
     "data": {
      "application/vnd.jupyter.widget-view+json": {
       "model_id": "b9d744bb180444348270fc864c64b8cd",
       "version_major": 2,
       "version_minor": 0
      },
      "text/plain": [
       "HBox(children=(FloatProgress(value=1.0, bar_style='info', max=1.0), HTML(value='')))"
      ]
     },
     "metadata": {},
     "output_type": "display_data"
    },
    {
     "name": "stdout",
     "output_type": "stream",
     "text": [
      "\n"
     ]
    },
    {
     "data": {
      "application/vnd.jupyter.widget-view+json": {
       "model_id": "fec44c6236a94884a05b6307e28b8fd0",
       "version_major": 2,
       "version_minor": 0
      },
      "text/plain": [
       "HBox(children=(FloatProgress(value=1.0, bar_style='info', max=1.0), HTML(value='')))"
      ]
     },
     "metadata": {},
     "output_type": "display_data"
    },
    {
     "name": "stdout",
     "output_type": "stream",
     "text": [
      "\n"
     ]
    },
    {
     "data": {
      "application/vnd.jupyter.widget-view+json": {
       "model_id": "f1ad756caa2d474cbfc41b8295c3c7b9",
       "version_major": 2,
       "version_minor": 0
      },
      "text/plain": [
       "HBox(children=(FloatProgress(value=1.0, bar_style='info', max=1.0), HTML(value='')))"
      ]
     },
     "metadata": {},
     "output_type": "display_data"
    },
    {
     "name": "stdout",
     "output_type": "stream",
     "text": [
      "\n"
     ]
    },
    {
     "data": {
      "application/vnd.jupyter.widget-view+json": {
       "model_id": "76a874e11a2d4cb2a12f682f816f1b4a",
       "version_major": 2,
       "version_minor": 0
      },
      "text/plain": [
       "HBox(children=(FloatProgress(value=1.0, bar_style='info', max=1.0), HTML(value='')))"
      ]
     },
     "metadata": {},
     "output_type": "display_data"
    },
    {
     "name": "stdout",
     "output_type": "stream",
     "text": [
      "\n"
     ]
    },
    {
     "data": {
      "application/vnd.jupyter.widget-view+json": {
       "model_id": "c60fe2ff82c840d5bd4af102242755dc",
       "version_major": 2,
       "version_minor": 0
      },
      "text/plain": [
       "HBox(children=(FloatProgress(value=1.0, bar_style='info', max=1.0), HTML(value='')))"
      ]
     },
     "metadata": {},
     "output_type": "display_data"
    },
    {
     "name": "stdout",
     "output_type": "stream",
     "text": [
      "\n"
     ]
    },
    {
     "data": {
      "application/vnd.jupyter.widget-view+json": {
       "model_id": "90c02fbc38e5406c908f66760c4d3b93",
       "version_major": 2,
       "version_minor": 0
      },
      "text/plain": [
       "HBox(children=(FloatProgress(value=1.0, bar_style='info', max=1.0), HTML(value='')))"
      ]
     },
     "metadata": {},
     "output_type": "display_data"
    },
    {
     "name": "stdout",
     "output_type": "stream",
     "text": [
      "\n"
     ]
    },
    {
     "data": {
      "application/vnd.jupyter.widget-view+json": {
       "model_id": "ec78a144e061423398e9981bc43dace7",
       "version_major": 2,
       "version_minor": 0
      },
      "text/plain": [
       "HBox(children=(FloatProgress(value=1.0, bar_style='info', max=1.0), HTML(value='')))"
      ]
     },
     "metadata": {},
     "output_type": "display_data"
    },
    {
     "name": "stdout",
     "output_type": "stream",
     "text": [
      "\n"
     ]
    },
    {
     "data": {
      "application/vnd.jupyter.widget-view+json": {
       "model_id": "1924c70ada7944aaa88ff5e06cb08bab",
       "version_major": 2,
       "version_minor": 0
      },
      "text/plain": [
       "HBox(children=(FloatProgress(value=1.0, bar_style='info', max=1.0), HTML(value='')))"
      ]
     },
     "metadata": {},
     "output_type": "display_data"
    },
    {
     "name": "stdout",
     "output_type": "stream",
     "text": [
      "\n"
     ]
    },
    {
     "data": {
      "application/vnd.jupyter.widget-view+json": {
       "model_id": "0fe36b8792794698b3809371c9cb8845",
       "version_major": 2,
       "version_minor": 0
      },
      "text/plain": [
       "HBox(children=(FloatProgress(value=1.0, bar_style='info', max=1.0), HTML(value='')))"
      ]
     },
     "metadata": {},
     "output_type": "display_data"
    },
    {
     "name": "stdout",
     "output_type": "stream",
     "text": [
      "\n"
     ]
    },
    {
     "data": {
      "application/vnd.jupyter.widget-view+json": {
       "model_id": "478c0bff065f4a1585191ac864de89ad",
       "version_major": 2,
       "version_minor": 0
      },
      "text/plain": [
       "HBox(children=(FloatProgress(value=1.0, bar_style='info', max=1.0), HTML(value='')))"
      ]
     },
     "metadata": {},
     "output_type": "display_data"
    },
    {
     "name": "stdout",
     "output_type": "stream",
     "text": [
      "\n"
     ]
    },
    {
     "data": {
      "application/vnd.jupyter.widget-view+json": {
       "model_id": "a6d5202f5c0b4b27a65158897272d999",
       "version_major": 2,
       "version_minor": 0
      },
      "text/plain": [
       "HBox(children=(FloatProgress(value=1.0, bar_style='info', max=1.0), HTML(value='')))"
      ]
     },
     "metadata": {},
     "output_type": "display_data"
    },
    {
     "name": "stdout",
     "output_type": "stream",
     "text": [
      "\n"
     ]
    },
    {
     "data": {
      "application/vnd.jupyter.widget-view+json": {
       "model_id": "a23898e21c034f0fa70bd39f818d05ec",
       "version_major": 2,
       "version_minor": 0
      },
      "text/plain": [
       "HBox(children=(FloatProgress(value=1.0, bar_style='info', max=1.0), HTML(value='')))"
      ]
     },
     "metadata": {},
     "output_type": "display_data"
    },
    {
     "name": "stdout",
     "output_type": "stream",
     "text": [
      "\n"
     ]
    },
    {
     "data": {
      "application/vnd.jupyter.widget-view+json": {
       "model_id": "338a42fcaf5540caa13be88f92630922",
       "version_major": 2,
       "version_minor": 0
      },
      "text/plain": [
       "HBox(children=(FloatProgress(value=1.0, bar_style='info', max=1.0), HTML(value='')))"
      ]
     },
     "metadata": {},
     "output_type": "display_data"
    },
    {
     "name": "stdout",
     "output_type": "stream",
     "text": [
      "\n"
     ]
    },
    {
     "data": {
      "application/vnd.jupyter.widget-view+json": {
       "model_id": "580688cd169445769d49d78537bbdacd",
       "version_major": 2,
       "version_minor": 0
      },
      "text/plain": [
       "HBox(children=(FloatProgress(value=1.0, bar_style='info', max=1.0), HTML(value='')))"
      ]
     },
     "metadata": {},
     "output_type": "display_data"
    },
    {
     "name": "stdout",
     "output_type": "stream",
     "text": [
      "\n"
     ]
    },
    {
     "data": {
      "application/vnd.jupyter.widget-view+json": {
       "model_id": "bd9495498dce483eb34b75bcffe6630e",
       "version_major": 2,
       "version_minor": 0
      },
      "text/plain": [
       "HBox(children=(FloatProgress(value=1.0, bar_style='info', max=1.0), HTML(value='')))"
      ]
     },
     "metadata": {},
     "output_type": "display_data"
    },
    {
     "name": "stdout",
     "output_type": "stream",
     "text": [
      "\n"
     ]
    },
    {
     "data": {
      "application/vnd.jupyter.widget-view+json": {
       "model_id": "5140037153564b64809a45c6251ee3f7",
       "version_major": 2,
       "version_minor": 0
      },
      "text/plain": [
       "HBox(children=(FloatProgress(value=1.0, bar_style='info', max=1.0), HTML(value='')))"
      ]
     },
     "metadata": {},
     "output_type": "display_data"
    },
    {
     "name": "stdout",
     "output_type": "stream",
     "text": [
      "\n"
     ]
    },
    {
     "data": {
      "application/vnd.jupyter.widget-view+json": {
       "model_id": "d68f526274cc446187eb5def674fd96e",
       "version_major": 2,
       "version_minor": 0
      },
      "text/plain": [
       "HBox(children=(FloatProgress(value=1.0, bar_style='info', max=1.0), HTML(value='')))"
      ]
     },
     "metadata": {},
     "output_type": "display_data"
    },
    {
     "name": "stdout",
     "output_type": "stream",
     "text": [
      "\n"
     ]
    },
    {
     "data": {
      "application/vnd.jupyter.widget-view+json": {
       "model_id": "89628cc64ced432db1f04738775e3e10",
       "version_major": 2,
       "version_minor": 0
      },
      "text/plain": [
       "HBox(children=(FloatProgress(value=1.0, bar_style='info', max=1.0), HTML(value='')))"
      ]
     },
     "metadata": {},
     "output_type": "display_data"
    },
    {
     "name": "stdout",
     "output_type": "stream",
     "text": [
      "\n"
     ]
    },
    {
     "data": {
      "application/vnd.jupyter.widget-view+json": {
       "model_id": "369f7aab9a934048960539e886b6bdaa",
       "version_major": 2,
       "version_minor": 0
      },
      "text/plain": [
       "HBox(children=(FloatProgress(value=1.0, bar_style='info', max=1.0), HTML(value='')))"
      ]
     },
     "metadata": {},
     "output_type": "display_data"
    },
    {
     "name": "stdout",
     "output_type": "stream",
     "text": [
      "\n"
     ]
    },
    {
     "data": {
      "application/vnd.jupyter.widget-view+json": {
       "model_id": "fd916fbdb4ee4462bf729653fd49349b",
       "version_major": 2,
       "version_minor": 0
      },
      "text/plain": [
       "HBox(children=(FloatProgress(value=1.0, bar_style='info', max=1.0), HTML(value='')))"
      ]
     },
     "metadata": {},
     "output_type": "display_data"
    },
    {
     "name": "stdout",
     "output_type": "stream",
     "text": [
      "\n"
     ]
    },
    {
     "data": {
      "application/vnd.jupyter.widget-view+json": {
       "model_id": "f6762889aac845338c50b4e0fde25367",
       "version_major": 2,
       "version_minor": 0
      },
      "text/plain": [
       "HBox(children=(FloatProgress(value=1.0, bar_style='info', max=1.0), HTML(value='')))"
      ]
     },
     "metadata": {},
     "output_type": "display_data"
    },
    {
     "name": "stdout",
     "output_type": "stream",
     "text": [
      "\n"
     ]
    },
    {
     "data": {
      "application/vnd.jupyter.widget-view+json": {
       "model_id": "08e1125484ce4d1180d1f1d7df0dc5d8",
       "version_major": 2,
       "version_minor": 0
      },
      "text/plain": [
       "HBox(children=(FloatProgress(value=1.0, bar_style='info', max=1.0), HTML(value='')))"
      ]
     },
     "metadata": {},
     "output_type": "display_data"
    },
    {
     "name": "stdout",
     "output_type": "stream",
     "text": [
      "\n"
     ]
    },
    {
     "data": {
      "application/vnd.jupyter.widget-view+json": {
       "model_id": "79d33c332705414db28b7e30a370b9a8",
       "version_major": 2,
       "version_minor": 0
      },
      "text/plain": [
       "HBox(children=(FloatProgress(value=1.0, bar_style='info', max=1.0), HTML(value='')))"
      ]
     },
     "metadata": {},
     "output_type": "display_data"
    },
    {
     "name": "stdout",
     "output_type": "stream",
     "text": [
      "\n"
     ]
    },
    {
     "data": {
      "application/vnd.jupyter.widget-view+json": {
       "model_id": "ac9727f98af04e6391d1314413726870",
       "version_major": 2,
       "version_minor": 0
      },
      "text/plain": [
       "HBox(children=(FloatProgress(value=1.0, bar_style='info', max=1.0), HTML(value='')))"
      ]
     },
     "metadata": {},
     "output_type": "display_data"
    },
    {
     "name": "stdout",
     "output_type": "stream",
     "text": [
      "\n"
     ]
    },
    {
     "data": {
      "application/vnd.jupyter.widget-view+json": {
       "model_id": "d159a1120adb46ba9b7b58c8e2e19cb9",
       "version_major": 2,
       "version_minor": 0
      },
      "text/plain": [
       "HBox(children=(FloatProgress(value=1.0, bar_style='info', max=1.0), HTML(value='')))"
      ]
     },
     "metadata": {},
     "output_type": "display_data"
    },
    {
     "name": "stdout",
     "output_type": "stream",
     "text": [
      "\n"
     ]
    },
    {
     "data": {
      "application/vnd.jupyter.widget-view+json": {
       "model_id": "0a4f1ae4541a4d89bbfa0b5db8c5dd70",
       "version_major": 2,
       "version_minor": 0
      },
      "text/plain": [
       "HBox(children=(FloatProgress(value=1.0, bar_style='info', max=1.0), HTML(value='')))"
      ]
     },
     "metadata": {},
     "output_type": "display_data"
    },
    {
     "name": "stdout",
     "output_type": "stream",
     "text": [
      "\n"
     ]
    },
    {
     "data": {
      "application/vnd.jupyter.widget-view+json": {
       "model_id": "3514bfa33ebd477287f0013bdf6c8b9f",
       "version_major": 2,
       "version_minor": 0
      },
      "text/plain": [
       "HBox(children=(FloatProgress(value=1.0, bar_style='info', max=1.0), HTML(value='')))"
      ]
     },
     "metadata": {},
     "output_type": "display_data"
    },
    {
     "name": "stdout",
     "output_type": "stream",
     "text": [
      "\n"
     ]
    },
    {
     "data": {
      "application/vnd.jupyter.widget-view+json": {
       "model_id": "fc883154cfa14661a5ac3b462ffcb4a9",
       "version_major": 2,
       "version_minor": 0
      },
      "text/plain": [
       "HBox(children=(FloatProgress(value=1.0, bar_style='info', max=1.0), HTML(value='')))"
      ]
     },
     "metadata": {},
     "output_type": "display_data"
    },
    {
     "name": "stdout",
     "output_type": "stream",
     "text": [
      "\n"
     ]
    },
    {
     "data": {
      "application/vnd.jupyter.widget-view+json": {
       "model_id": "3b0950370a7d45fd97e66c6acfcecfe6",
       "version_major": 2,
       "version_minor": 0
      },
      "text/plain": [
       "HBox(children=(FloatProgress(value=1.0, bar_style='info', max=1.0), HTML(value='')))"
      ]
     },
     "metadata": {},
     "output_type": "display_data"
    },
    {
     "name": "stdout",
     "output_type": "stream",
     "text": [
      "\n"
     ]
    },
    {
     "data": {
      "application/vnd.jupyter.widget-view+json": {
       "model_id": "c9ece07b3308452abd029b735e406b23",
       "version_major": 2,
       "version_minor": 0
      },
      "text/plain": [
       "HBox(children=(FloatProgress(value=1.0, bar_style='info', max=1.0), HTML(value='')))"
      ]
     },
     "metadata": {},
     "output_type": "display_data"
    },
    {
     "name": "stdout",
     "output_type": "stream",
     "text": [
      "\n"
     ]
    },
    {
     "data": {
      "application/vnd.jupyter.widget-view+json": {
       "model_id": "6410854ed4a14ca2845a38560677b644",
       "version_major": 2,
       "version_minor": 0
      },
      "text/plain": [
       "HBox(children=(FloatProgress(value=1.0, bar_style='info', max=1.0), HTML(value='')))"
      ]
     },
     "metadata": {},
     "output_type": "display_data"
    },
    {
     "name": "stdout",
     "output_type": "stream",
     "text": [
      "\n"
     ]
    },
    {
     "data": {
      "application/vnd.jupyter.widget-view+json": {
       "model_id": "9d0ec28ba9db454a950bd0deea148863",
       "version_major": 2,
       "version_minor": 0
      },
      "text/plain": [
       "HBox(children=(FloatProgress(value=1.0, bar_style='info', max=1.0), HTML(value='')))"
      ]
     },
     "metadata": {},
     "output_type": "display_data"
    },
    {
     "name": "stdout",
     "output_type": "stream",
     "text": [
      "\n"
     ]
    },
    {
     "data": {
      "application/vnd.jupyter.widget-view+json": {
       "model_id": "39a385013551489098220f396d5fcdbe",
       "version_major": 2,
       "version_minor": 0
      },
      "text/plain": [
       "HBox(children=(FloatProgress(value=1.0, bar_style='info', max=1.0), HTML(value='')))"
      ]
     },
     "metadata": {},
     "output_type": "display_data"
    },
    {
     "name": "stdout",
     "output_type": "stream",
     "text": [
      "\n"
     ]
    },
    {
     "data": {
      "application/vnd.jupyter.widget-view+json": {
       "model_id": "c41dfa5486bc427fbcad9b4e82223c91",
       "version_major": 2,
       "version_minor": 0
      },
      "text/plain": [
       "HBox(children=(FloatProgress(value=1.0, bar_style='info', max=1.0), HTML(value='')))"
      ]
     },
     "metadata": {},
     "output_type": "display_data"
    },
    {
     "name": "stdout",
     "output_type": "stream",
     "text": [
      "\n"
     ]
    },
    {
     "data": {
      "application/vnd.jupyter.widget-view+json": {
       "model_id": "17f9bd991370433b8ac792b27606b758",
       "version_major": 2,
       "version_minor": 0
      },
      "text/plain": [
       "HBox(children=(FloatProgress(value=1.0, bar_style='info', max=1.0), HTML(value='')))"
      ]
     },
     "metadata": {},
     "output_type": "display_data"
    },
    {
     "name": "stdout",
     "output_type": "stream",
     "text": [
      "\n"
     ]
    },
    {
     "data": {
      "application/vnd.jupyter.widget-view+json": {
       "model_id": "5391c30e8e2742e8850a5ec4366e282e",
       "version_major": 2,
       "version_minor": 0
      },
      "text/plain": [
       "HBox(children=(FloatProgress(value=1.0, bar_style='info', max=1.0), HTML(value='')))"
      ]
     },
     "metadata": {},
     "output_type": "display_data"
    },
    {
     "name": "stdout",
     "output_type": "stream",
     "text": [
      "\n"
     ]
    },
    {
     "data": {
      "application/vnd.jupyter.widget-view+json": {
       "model_id": "7dfcfcee7fad42cea04453880e96672a",
       "version_major": 2,
       "version_minor": 0
      },
      "text/plain": [
       "HBox(children=(FloatProgress(value=1.0, bar_style='info', max=1.0), HTML(value='')))"
      ]
     },
     "metadata": {},
     "output_type": "display_data"
    },
    {
     "name": "stdout",
     "output_type": "stream",
     "text": [
      "\n"
     ]
    },
    {
     "data": {
      "application/vnd.jupyter.widget-view+json": {
       "model_id": "ec7f354c3be545f4a31f0401ee7cdb9c",
       "version_major": 2,
       "version_minor": 0
      },
      "text/plain": [
       "HBox(children=(FloatProgress(value=1.0, bar_style='info', max=1.0), HTML(value='')))"
      ]
     },
     "metadata": {},
     "output_type": "display_data"
    },
    {
     "name": "stdout",
     "output_type": "stream",
     "text": [
      "\n"
     ]
    },
    {
     "data": {
      "application/vnd.jupyter.widget-view+json": {
       "model_id": "f7d4ac57b0104406a4ea21a0a5078a3b",
       "version_major": 2,
       "version_minor": 0
      },
      "text/plain": [
       "HBox(children=(FloatProgress(value=1.0, bar_style='info', max=1.0), HTML(value='')))"
      ]
     },
     "metadata": {},
     "output_type": "display_data"
    },
    {
     "name": "stdout",
     "output_type": "stream",
     "text": [
      "\n"
     ]
    },
    {
     "data": {
      "application/vnd.jupyter.widget-view+json": {
       "model_id": "a61716c72d1844d4845b6fa5fb37648f",
       "version_major": 2,
       "version_minor": 0
      },
      "text/plain": [
       "HBox(children=(FloatProgress(value=1.0, bar_style='info', max=1.0), HTML(value='')))"
      ]
     },
     "metadata": {},
     "output_type": "display_data"
    },
    {
     "name": "stdout",
     "output_type": "stream",
     "text": [
      "\n"
     ]
    },
    {
     "data": {
      "application/vnd.jupyter.widget-view+json": {
       "model_id": "b0e48273e6f34569b5717c02de56bf8b",
       "version_major": 2,
       "version_minor": 0
      },
      "text/plain": [
       "HBox(children=(FloatProgress(value=1.0, bar_style='info', max=1.0), HTML(value='')))"
      ]
     },
     "metadata": {},
     "output_type": "display_data"
    },
    {
     "name": "stdout",
     "output_type": "stream",
     "text": [
      "\n"
     ]
    },
    {
     "data": {
      "application/vnd.jupyter.widget-view+json": {
       "model_id": "e869ff46fced447184fb2561f2299095",
       "version_major": 2,
       "version_minor": 0
      },
      "text/plain": [
       "HBox(children=(FloatProgress(value=1.0, bar_style='info', max=1.0), HTML(value='')))"
      ]
     },
     "metadata": {},
     "output_type": "display_data"
    },
    {
     "name": "stdout",
     "output_type": "stream",
     "text": [
      "\n"
     ]
    },
    {
     "data": {
      "application/vnd.jupyter.widget-view+json": {
       "model_id": "051492af144d488fa51237403a17c6e3",
       "version_major": 2,
       "version_minor": 0
      },
      "text/plain": [
       "HBox(children=(FloatProgress(value=1.0, bar_style='info', max=1.0), HTML(value='')))"
      ]
     },
     "metadata": {},
     "output_type": "display_data"
    },
    {
     "name": "stdout",
     "output_type": "stream",
     "text": [
      "\n"
     ]
    },
    {
     "data": {
      "application/vnd.jupyter.widget-view+json": {
       "model_id": "f16478c911074c7fbb779eb350b1dfe4",
       "version_major": 2,
       "version_minor": 0
      },
      "text/plain": [
       "HBox(children=(FloatProgress(value=1.0, bar_style='info', max=1.0), HTML(value='')))"
      ]
     },
     "metadata": {},
     "output_type": "display_data"
    },
    {
     "name": "stdout",
     "output_type": "stream",
     "text": [
      "\n"
     ]
    },
    {
     "data": {
      "application/vnd.jupyter.widget-view+json": {
       "model_id": "f1f6c76d4eca4451ac2e4e7dca62cf29",
       "version_major": 2,
       "version_minor": 0
      },
      "text/plain": [
       "HBox(children=(FloatProgress(value=1.0, bar_style='info', max=1.0), HTML(value='')))"
      ]
     },
     "metadata": {},
     "output_type": "display_data"
    },
    {
     "name": "stdout",
     "output_type": "stream",
     "text": [
      "\n"
     ]
    },
    {
     "data": {
      "application/vnd.jupyter.widget-view+json": {
       "model_id": "01d5d686cf7d4ae09691c60b97edc776",
       "version_major": 2,
       "version_minor": 0
      },
      "text/plain": [
       "HBox(children=(FloatProgress(value=1.0, bar_style='info', max=1.0), HTML(value='')))"
      ]
     },
     "metadata": {},
     "output_type": "display_data"
    },
    {
     "name": "stdout",
     "output_type": "stream",
     "text": [
      "\n"
     ]
    },
    {
     "data": {
      "application/vnd.jupyter.widget-view+json": {
       "model_id": "312fa4b0aad84fb68fc52a7cbea13137",
       "version_major": 2,
       "version_minor": 0
      },
      "text/plain": [
       "HBox(children=(FloatProgress(value=1.0, bar_style='info', max=1.0), HTML(value='')))"
      ]
     },
     "metadata": {},
     "output_type": "display_data"
    },
    {
     "name": "stdout",
     "output_type": "stream",
     "text": [
      "\n"
     ]
    },
    {
     "data": {
      "application/vnd.jupyter.widget-view+json": {
       "model_id": "258aed37276744dbae99686112872823",
       "version_major": 2,
       "version_minor": 0
      },
      "text/plain": [
       "HBox(children=(FloatProgress(value=1.0, bar_style='info', max=1.0), HTML(value='')))"
      ]
     },
     "metadata": {},
     "output_type": "display_data"
    },
    {
     "name": "stdout",
     "output_type": "stream",
     "text": [
      "\n"
     ]
    },
    {
     "data": {
      "application/vnd.jupyter.widget-view+json": {
       "model_id": "c94d7bdb20aa430795a2d6fc9834bf6e",
       "version_major": 2,
       "version_minor": 0
      },
      "text/plain": [
       "HBox(children=(FloatProgress(value=1.0, bar_style='info', max=1.0), HTML(value='')))"
      ]
     },
     "metadata": {},
     "output_type": "display_data"
    },
    {
     "name": "stdout",
     "output_type": "stream",
     "text": [
      "\n"
     ]
    },
    {
     "data": {
      "application/vnd.jupyter.widget-view+json": {
       "model_id": "1d576f10a01f4dd6915e2e1de426001d",
       "version_major": 2,
       "version_minor": 0
      },
      "text/plain": [
       "HBox(children=(FloatProgress(value=1.0, bar_style='info', max=1.0), HTML(value='')))"
      ]
     },
     "metadata": {},
     "output_type": "display_data"
    },
    {
     "name": "stdout",
     "output_type": "stream",
     "text": [
      "\n"
     ]
    },
    {
     "data": {
      "application/vnd.jupyter.widget-view+json": {
       "model_id": "0263d0c627254340bc242a4748103829",
       "version_major": 2,
       "version_minor": 0
      },
      "text/plain": [
       "HBox(children=(FloatProgress(value=1.0, bar_style='info', max=1.0), HTML(value='')))"
      ]
     },
     "metadata": {},
     "output_type": "display_data"
    },
    {
     "name": "stdout",
     "output_type": "stream",
     "text": [
      "\n"
     ]
    },
    {
     "data": {
      "application/vnd.jupyter.widget-view+json": {
       "model_id": "5fa8f05dad284384b1393d23732bda31",
       "version_major": 2,
       "version_minor": 0
      },
      "text/plain": [
       "HBox(children=(FloatProgress(value=1.0, bar_style='info', max=1.0), HTML(value='')))"
      ]
     },
     "metadata": {},
     "output_type": "display_data"
    },
    {
     "name": "stdout",
     "output_type": "stream",
     "text": [
      "\n"
     ]
    },
    {
     "data": {
      "application/vnd.jupyter.widget-view+json": {
       "model_id": "4bda59a4a6cc4728b6c2712078427b05",
       "version_major": 2,
       "version_minor": 0
      },
      "text/plain": [
       "HBox(children=(FloatProgress(value=1.0, bar_style='info', max=1.0), HTML(value='')))"
      ]
     },
     "metadata": {},
     "output_type": "display_data"
    },
    {
     "name": "stdout",
     "output_type": "stream",
     "text": [
      "\n"
     ]
    },
    {
     "data": {
      "application/vnd.jupyter.widget-view+json": {
       "model_id": "dc82e64ee07b4868bc3aea63d9bfde00",
       "version_major": 2,
       "version_minor": 0
      },
      "text/plain": [
       "HBox(children=(FloatProgress(value=1.0, bar_style='info', max=1.0), HTML(value='')))"
      ]
     },
     "metadata": {},
     "output_type": "display_data"
    },
    {
     "name": "stdout",
     "output_type": "stream",
     "text": [
      "\n"
     ]
    },
    {
     "data": {
      "application/vnd.jupyter.widget-view+json": {
       "model_id": "092784e459bc4571a724e83dea8dc9e9",
       "version_major": 2,
       "version_minor": 0
      },
      "text/plain": [
       "HBox(children=(FloatProgress(value=1.0, bar_style='info', max=1.0), HTML(value='')))"
      ]
     },
     "metadata": {},
     "output_type": "display_data"
    },
    {
     "name": "stdout",
     "output_type": "stream",
     "text": [
      "\n"
     ]
    },
    {
     "data": {
      "application/vnd.jupyter.widget-view+json": {
       "model_id": "7d4f0c00e4df4fc0905c465b1f95f5d4",
       "version_major": 2,
       "version_minor": 0
      },
      "text/plain": [
       "HBox(children=(FloatProgress(value=1.0, bar_style='info', max=1.0), HTML(value='')))"
      ]
     },
     "metadata": {},
     "output_type": "display_data"
    },
    {
     "name": "stdout",
     "output_type": "stream",
     "text": [
      "\n"
     ]
    },
    {
     "data": {
      "application/vnd.jupyter.widget-view+json": {
       "model_id": "a926f2ff0bb6470e813328b25ca95792",
       "version_major": 2,
       "version_minor": 0
      },
      "text/plain": [
       "HBox(children=(FloatProgress(value=1.0, bar_style='info', max=1.0), HTML(value='')))"
      ]
     },
     "metadata": {},
     "output_type": "display_data"
    },
    {
     "name": "stdout",
     "output_type": "stream",
     "text": [
      "\n"
     ]
    },
    {
     "data": {
      "application/vnd.jupyter.widget-view+json": {
       "model_id": "ddb7cd4640f7450f883aad6220c1f596",
       "version_major": 2,
       "version_minor": 0
      },
      "text/plain": [
       "HBox(children=(FloatProgress(value=1.0, bar_style='info', max=1.0), HTML(value='')))"
      ]
     },
     "metadata": {},
     "output_type": "display_data"
    },
    {
     "name": "stdout",
     "output_type": "stream",
     "text": [
      "\n"
     ]
    },
    {
     "data": {
      "application/vnd.jupyter.widget-view+json": {
       "model_id": "8ee7a9f48432457083f73d356483baa2",
       "version_major": 2,
       "version_minor": 0
      },
      "text/plain": [
       "HBox(children=(FloatProgress(value=1.0, bar_style='info', max=1.0), HTML(value='')))"
      ]
     },
     "metadata": {},
     "output_type": "display_data"
    },
    {
     "name": "stdout",
     "output_type": "stream",
     "text": [
      "\n"
     ]
    },
    {
     "data": {
      "application/vnd.jupyter.widget-view+json": {
       "model_id": "713fce05f0c64043b2f2b491fbad5eb9",
       "version_major": 2,
       "version_minor": 0
      },
      "text/plain": [
       "HBox(children=(FloatProgress(value=1.0, bar_style='info', max=1.0), HTML(value='')))"
      ]
     },
     "metadata": {},
     "output_type": "display_data"
    },
    {
     "name": "stdout",
     "output_type": "stream",
     "text": [
      "\n"
     ]
    },
    {
     "data": {
      "application/vnd.jupyter.widget-view+json": {
       "model_id": "37247d62de0949308d37904cc40e31e8",
       "version_major": 2,
       "version_minor": 0
      },
      "text/plain": [
       "HBox(children=(FloatProgress(value=1.0, bar_style='info', max=1.0), HTML(value='')))"
      ]
     },
     "metadata": {},
     "output_type": "display_data"
    },
    {
     "name": "stdout",
     "output_type": "stream",
     "text": [
      "\n"
     ]
    },
    {
     "data": {
      "application/vnd.jupyter.widget-view+json": {
       "model_id": "3bbf41a6c9b142a8a4ba187df2c6ff00",
       "version_major": 2,
       "version_minor": 0
      },
      "text/plain": [
       "HBox(children=(FloatProgress(value=1.0, bar_style='info', max=1.0), HTML(value='')))"
      ]
     },
     "metadata": {},
     "output_type": "display_data"
    },
    {
     "name": "stdout",
     "output_type": "stream",
     "text": [
      "\n"
     ]
    },
    {
     "data": {
      "application/vnd.jupyter.widget-view+json": {
       "model_id": "68afc560f681469792b8f918f33bc0be",
       "version_major": 2,
       "version_minor": 0
      },
      "text/plain": [
       "HBox(children=(FloatProgress(value=1.0, bar_style='info', max=1.0), HTML(value='')))"
      ]
     },
     "metadata": {},
     "output_type": "display_data"
    },
    {
     "name": "stdout",
     "output_type": "stream",
     "text": [
      "\n"
     ]
    },
    {
     "data": {
      "application/vnd.jupyter.widget-view+json": {
       "model_id": "c073ce1d190c48b4a0078d572390184d",
       "version_major": 2,
       "version_minor": 0
      },
      "text/plain": [
       "HBox(children=(FloatProgress(value=1.0, bar_style='info', max=1.0), HTML(value='')))"
      ]
     },
     "metadata": {},
     "output_type": "display_data"
    },
    {
     "name": "stdout",
     "output_type": "stream",
     "text": [
      "\n"
     ]
    },
    {
     "data": {
      "application/vnd.jupyter.widget-view+json": {
       "model_id": "b6766768257c47d3b07090d816728986",
       "version_major": 2,
       "version_minor": 0
      },
      "text/plain": [
       "HBox(children=(FloatProgress(value=1.0, bar_style='info', max=1.0), HTML(value='')))"
      ]
     },
     "metadata": {},
     "output_type": "display_data"
    },
    {
     "name": "stdout",
     "output_type": "stream",
     "text": [
      "\n"
     ]
    },
    {
     "data": {
      "application/vnd.jupyter.widget-view+json": {
       "model_id": "64dc5c32ab484d169dcfa3dc93caea51",
       "version_major": 2,
       "version_minor": 0
      },
      "text/plain": [
       "HBox(children=(FloatProgress(value=1.0, bar_style='info', max=1.0), HTML(value='')))"
      ]
     },
     "metadata": {},
     "output_type": "display_data"
    },
    {
     "name": "stdout",
     "output_type": "stream",
     "text": [
      "\n"
     ]
    },
    {
     "data": {
      "application/vnd.jupyter.widget-view+json": {
       "model_id": "a5dbd2d4b5914559968a07a4436d3538",
       "version_major": 2,
       "version_minor": 0
      },
      "text/plain": [
       "HBox(children=(FloatProgress(value=1.0, bar_style='info', max=1.0), HTML(value='')))"
      ]
     },
     "metadata": {},
     "output_type": "display_data"
    },
    {
     "name": "stdout",
     "output_type": "stream",
     "text": [
      "\n"
     ]
    },
    {
     "data": {
      "application/vnd.jupyter.widget-view+json": {
       "model_id": "3ce199ac04674681a977bf71a26a4312",
       "version_major": 2,
       "version_minor": 0
      },
      "text/plain": [
       "HBox(children=(FloatProgress(value=1.0, bar_style='info', max=1.0), HTML(value='')))"
      ]
     },
     "metadata": {},
     "output_type": "display_data"
    },
    {
     "name": "stdout",
     "output_type": "stream",
     "text": [
      "\n"
     ]
    },
    {
     "data": {
      "application/vnd.jupyter.widget-view+json": {
       "model_id": "709b2c6b82d14cf0ab18083cba129ec5",
       "version_major": 2,
       "version_minor": 0
      },
      "text/plain": [
       "HBox(children=(FloatProgress(value=1.0, bar_style='info', max=1.0), HTML(value='')))"
      ]
     },
     "metadata": {},
     "output_type": "display_data"
    },
    {
     "name": "stdout",
     "output_type": "stream",
     "text": [
      "\n"
     ]
    },
    {
     "data": {
      "application/vnd.jupyter.widget-view+json": {
       "model_id": "4e4c37b665d74417ae2465e62daeb74c",
       "version_major": 2,
       "version_minor": 0
      },
      "text/plain": [
       "HBox(children=(FloatProgress(value=1.0, bar_style='info', max=1.0), HTML(value='')))"
      ]
     },
     "metadata": {},
     "output_type": "display_data"
    },
    {
     "name": "stdout",
     "output_type": "stream",
     "text": [
      "\n"
     ]
    },
    {
     "data": {
      "application/vnd.jupyter.widget-view+json": {
       "model_id": "f2b898b172de46c7a6554bfa5850fb7f",
       "version_major": 2,
       "version_minor": 0
      },
      "text/plain": [
       "HBox(children=(FloatProgress(value=1.0, bar_style='info', max=1.0), HTML(value='')))"
      ]
     },
     "metadata": {},
     "output_type": "display_data"
    },
    {
     "name": "stdout",
     "output_type": "stream",
     "text": [
      "\n"
     ]
    },
    {
     "data": {
      "application/vnd.jupyter.widget-view+json": {
       "model_id": "b56b7649c12d429094de55ed56ffe7f2",
       "version_major": 2,
       "version_minor": 0
      },
      "text/plain": [
       "HBox(children=(FloatProgress(value=1.0, bar_style='info', max=1.0), HTML(value='')))"
      ]
     },
     "metadata": {},
     "output_type": "display_data"
    },
    {
     "name": "stdout",
     "output_type": "stream",
     "text": [
      "\n"
     ]
    },
    {
     "data": {
      "application/vnd.jupyter.widget-view+json": {
       "model_id": "92ec4250d11f4d5a848e14721e2c2d2b",
       "version_major": 2,
       "version_minor": 0
      },
      "text/plain": [
       "HBox(children=(FloatProgress(value=1.0, bar_style='info', max=1.0), HTML(value='')))"
      ]
     },
     "metadata": {},
     "output_type": "display_data"
    },
    {
     "name": "stdout",
     "output_type": "stream",
     "text": [
      "\n"
     ]
    },
    {
     "data": {
      "application/vnd.jupyter.widget-view+json": {
       "model_id": "19adc7614f5c428f87b5b4b748361257",
       "version_major": 2,
       "version_minor": 0
      },
      "text/plain": [
       "HBox(children=(FloatProgress(value=1.0, bar_style='info', max=1.0), HTML(value='')))"
      ]
     },
     "metadata": {},
     "output_type": "display_data"
    },
    {
     "name": "stdout",
     "output_type": "stream",
     "text": [
      "\n"
     ]
    },
    {
     "data": {
      "application/vnd.jupyter.widget-view+json": {
       "model_id": "f08d61f7bfb44889a8f6937fc8fb14f1",
       "version_major": 2,
       "version_minor": 0
      },
      "text/plain": [
       "HBox(children=(FloatProgress(value=1.0, bar_style='info', max=1.0), HTML(value='')))"
      ]
     },
     "metadata": {},
     "output_type": "display_data"
    },
    {
     "name": "stdout",
     "output_type": "stream",
     "text": [
      "\n"
     ]
    },
    {
     "data": {
      "application/vnd.jupyter.widget-view+json": {
       "model_id": "983e612283c24500b1509367a07989f4",
       "version_major": 2,
       "version_minor": 0
      },
      "text/plain": [
       "HBox(children=(FloatProgress(value=1.0, bar_style='info', max=1.0), HTML(value='')))"
      ]
     },
     "metadata": {},
     "output_type": "display_data"
    },
    {
     "name": "stdout",
     "output_type": "stream",
     "text": [
      "\n"
     ]
    },
    {
     "data": {
      "application/vnd.jupyter.widget-view+json": {
       "model_id": "c37a22a6b3874619adc743b7a8cddb69",
       "version_major": 2,
       "version_minor": 0
      },
      "text/plain": [
       "HBox(children=(FloatProgress(value=1.0, bar_style='info', max=1.0), HTML(value='')))"
      ]
     },
     "metadata": {},
     "output_type": "display_data"
    },
    {
     "name": "stdout",
     "output_type": "stream",
     "text": [
      "\n"
     ]
    },
    {
     "data": {
      "application/vnd.jupyter.widget-view+json": {
       "model_id": "2bb8db0e599e44229aa208870a3a5801",
       "version_major": 2,
       "version_minor": 0
      },
      "text/plain": [
       "HBox(children=(FloatProgress(value=1.0, bar_style='info', max=1.0), HTML(value='')))"
      ]
     },
     "metadata": {},
     "output_type": "display_data"
    },
    {
     "name": "stdout",
     "output_type": "stream",
     "text": [
      "\n"
     ]
    },
    {
     "data": {
      "application/vnd.jupyter.widget-view+json": {
       "model_id": "509d74596e714a31ac51fc9595dc830a",
       "version_major": 2,
       "version_minor": 0
      },
      "text/plain": [
       "HBox(children=(FloatProgress(value=1.0, bar_style='info', max=1.0), HTML(value='')))"
      ]
     },
     "metadata": {},
     "output_type": "display_data"
    },
    {
     "name": "stdout",
     "output_type": "stream",
     "text": [
      "\n"
     ]
    },
    {
     "data": {
      "application/vnd.jupyter.widget-view+json": {
       "model_id": "e480a660ce6e44aa832f98810e1a5bdb",
       "version_major": 2,
       "version_minor": 0
      },
      "text/plain": [
       "HBox(children=(FloatProgress(value=1.0, bar_style='info', max=1.0), HTML(value='')))"
      ]
     },
     "metadata": {},
     "output_type": "display_data"
    },
    {
     "name": "stdout",
     "output_type": "stream",
     "text": [
      "\n"
     ]
    },
    {
     "data": {
      "application/vnd.jupyter.widget-view+json": {
       "model_id": "b1a4846e44404f378934c6d9eefd41c9",
       "version_major": 2,
       "version_minor": 0
      },
      "text/plain": [
       "HBox(children=(FloatProgress(value=1.0, bar_style='info', max=1.0), HTML(value='')))"
      ]
     },
     "metadata": {},
     "output_type": "display_data"
    },
    {
     "name": "stdout",
     "output_type": "stream",
     "text": [
      "\n"
     ]
    },
    {
     "data": {
      "application/vnd.jupyter.widget-view+json": {
       "model_id": "23e7140eb34042d0a7566f9bd8ade6c3",
       "version_major": 2,
       "version_minor": 0
      },
      "text/plain": [
       "HBox(children=(FloatProgress(value=1.0, bar_style='info', max=1.0), HTML(value='')))"
      ]
     },
     "metadata": {},
     "output_type": "display_data"
    },
    {
     "name": "stdout",
     "output_type": "stream",
     "text": [
      "\n"
     ]
    },
    {
     "data": {
      "application/vnd.jupyter.widget-view+json": {
       "model_id": "ca140c500ddb48f3bb97205268a0ebcc",
       "version_major": 2,
       "version_minor": 0
      },
      "text/plain": [
       "HBox(children=(FloatProgress(value=1.0, bar_style='info', max=1.0), HTML(value='')))"
      ]
     },
     "metadata": {},
     "output_type": "display_data"
    },
    {
     "name": "stdout",
     "output_type": "stream",
     "text": [
      "\n"
     ]
    },
    {
     "data": {
      "application/vnd.jupyter.widget-view+json": {
       "model_id": "d4bdd1e6463740f4aa7eb0a17e761f32",
       "version_major": 2,
       "version_minor": 0
      },
      "text/plain": [
       "HBox(children=(FloatProgress(value=1.0, bar_style='info', max=1.0), HTML(value='')))"
      ]
     },
     "metadata": {},
     "output_type": "display_data"
    },
    {
     "name": "stdout",
     "output_type": "stream",
     "text": [
      "\n"
     ]
    },
    {
     "data": {
      "application/vnd.jupyter.widget-view+json": {
       "model_id": "4fdea9cd10ff4084b6fbe70fac3a66aa",
       "version_major": 2,
       "version_minor": 0
      },
      "text/plain": [
       "HBox(children=(FloatProgress(value=1.0, bar_style='info', max=1.0), HTML(value='')))"
      ]
     },
     "metadata": {},
     "output_type": "display_data"
    },
    {
     "name": "stdout",
     "output_type": "stream",
     "text": [
      "\n"
     ]
    },
    {
     "data": {
      "application/vnd.jupyter.widget-view+json": {
       "model_id": "a4ca09038d7748f6ae7832d22eafea7d",
       "version_major": 2,
       "version_minor": 0
      },
      "text/plain": [
       "HBox(children=(FloatProgress(value=1.0, bar_style='info', max=1.0), HTML(value='')))"
      ]
     },
     "metadata": {},
     "output_type": "display_data"
    },
    {
     "name": "stdout",
     "output_type": "stream",
     "text": [
      "\n"
     ]
    },
    {
     "data": {
      "application/vnd.jupyter.widget-view+json": {
       "model_id": "f3070584da944febbf1bfe4886d7c424",
       "version_major": 2,
       "version_minor": 0
      },
      "text/plain": [
       "HBox(children=(FloatProgress(value=1.0, bar_style='info', max=1.0), HTML(value='')))"
      ]
     },
     "metadata": {},
     "output_type": "display_data"
    },
    {
     "name": "stdout",
     "output_type": "stream",
     "text": [
      "\n"
     ]
    },
    {
     "data": {
      "application/vnd.jupyter.widget-view+json": {
       "model_id": "c1f65b1e6ceb4d28a1ce3b39e1eb2c1f",
       "version_major": 2,
       "version_minor": 0
      },
      "text/plain": [
       "HBox(children=(FloatProgress(value=1.0, bar_style='info', max=1.0), HTML(value='')))"
      ]
     },
     "metadata": {},
     "output_type": "display_data"
    },
    {
     "name": "stdout",
     "output_type": "stream",
     "text": [
      "\n"
     ]
    },
    {
     "data": {
      "application/vnd.jupyter.widget-view+json": {
       "model_id": "48f4555bd4eb4f5cad4f65f445c25dac",
       "version_major": 2,
       "version_minor": 0
      },
      "text/plain": [
       "HBox(children=(FloatProgress(value=1.0, bar_style='info', max=1.0), HTML(value='')))"
      ]
     },
     "metadata": {},
     "output_type": "display_data"
    },
    {
     "name": "stdout",
     "output_type": "stream",
     "text": [
      "\n"
     ]
    },
    {
     "data": {
      "application/vnd.jupyter.widget-view+json": {
       "model_id": "91d14cd228f64eccb86bada21f29d95d",
       "version_major": 2,
       "version_minor": 0
      },
      "text/plain": [
       "HBox(children=(FloatProgress(value=1.0, bar_style='info', max=1.0), HTML(value='')))"
      ]
     },
     "metadata": {},
     "output_type": "display_data"
    },
    {
     "name": "stdout",
     "output_type": "stream",
     "text": [
      "\n"
     ]
    },
    {
     "data": {
      "application/vnd.jupyter.widget-view+json": {
       "model_id": "4791cb7b1c2e4f3fbc932964bf74dc6e",
       "version_major": 2,
       "version_minor": 0
      },
      "text/plain": [
       "HBox(children=(FloatProgress(value=1.0, bar_style='info', max=1.0), HTML(value='')))"
      ]
     },
     "metadata": {},
     "output_type": "display_data"
    },
    {
     "name": "stdout",
     "output_type": "stream",
     "text": [
      "\n"
     ]
    },
    {
     "data": {
      "application/vnd.jupyter.widget-view+json": {
       "model_id": "781cfd03489f40e1bab78b3b438835d6",
       "version_major": 2,
       "version_minor": 0
      },
      "text/plain": [
       "HBox(children=(FloatProgress(value=1.0, bar_style='info', max=1.0), HTML(value='')))"
      ]
     },
     "metadata": {},
     "output_type": "display_data"
    },
    {
     "name": "stdout",
     "output_type": "stream",
     "text": [
      "\n"
     ]
    },
    {
     "data": {
      "application/vnd.jupyter.widget-view+json": {
       "model_id": "82a66d208bb94a2c8abb4233b3264955",
       "version_major": 2,
       "version_minor": 0
      },
      "text/plain": [
       "HBox(children=(FloatProgress(value=1.0, bar_style='info', max=1.0), HTML(value='')))"
      ]
     },
     "metadata": {},
     "output_type": "display_data"
    },
    {
     "name": "stdout",
     "output_type": "stream",
     "text": [
      "\n"
     ]
    },
    {
     "data": {
      "application/vnd.jupyter.widget-view+json": {
       "model_id": "499c65207c614490acfd2a49bc962c43",
       "version_major": 2,
       "version_minor": 0
      },
      "text/plain": [
       "HBox(children=(FloatProgress(value=1.0, bar_style='info', max=1.0), HTML(value='')))"
      ]
     },
     "metadata": {},
     "output_type": "display_data"
    },
    {
     "name": "stdout",
     "output_type": "stream",
     "text": [
      "\n"
     ]
    },
    {
     "data": {
      "application/vnd.jupyter.widget-view+json": {
       "model_id": "df5390b1491b44f7b8504a750540f716",
       "version_major": 2,
       "version_minor": 0
      },
      "text/plain": [
       "HBox(children=(FloatProgress(value=1.0, bar_style='info', max=1.0), HTML(value='')))"
      ]
     },
     "metadata": {},
     "output_type": "display_data"
    },
    {
     "name": "stdout",
     "output_type": "stream",
     "text": [
      "\n"
     ]
    },
    {
     "data": {
      "application/vnd.jupyter.widget-view+json": {
       "model_id": "1519168cf49e452db90ace466979f00e",
       "version_major": 2,
       "version_minor": 0
      },
      "text/plain": [
       "HBox(children=(FloatProgress(value=1.0, bar_style='info', max=1.0), HTML(value='')))"
      ]
     },
     "metadata": {},
     "output_type": "display_data"
    },
    {
     "name": "stdout",
     "output_type": "stream",
     "text": [
      "\n"
     ]
    },
    {
     "data": {
      "application/vnd.jupyter.widget-view+json": {
       "model_id": "0626c82a4bd94d05b596a556a5a7e246",
       "version_major": 2,
       "version_minor": 0
      },
      "text/plain": [
       "HBox(children=(FloatProgress(value=1.0, bar_style='info', max=1.0), HTML(value='')))"
      ]
     },
     "metadata": {},
     "output_type": "display_data"
    },
    {
     "name": "stdout",
     "output_type": "stream",
     "text": [
      "\n"
     ]
    },
    {
     "data": {
      "application/vnd.jupyter.widget-view+json": {
       "model_id": "cce75bf0f7464e56accb156610a0a6c2",
       "version_major": 2,
       "version_minor": 0
      },
      "text/plain": [
       "HBox(children=(FloatProgress(value=1.0, bar_style='info', max=1.0), HTML(value='')))"
      ]
     },
     "metadata": {},
     "output_type": "display_data"
    },
    {
     "name": "stdout",
     "output_type": "stream",
     "text": [
      "\n"
     ]
    },
    {
     "data": {
      "application/vnd.jupyter.widget-view+json": {
       "model_id": "74bd7bc083e2474b8ad2a6565950da45",
       "version_major": 2,
       "version_minor": 0
      },
      "text/plain": [
       "HBox(children=(FloatProgress(value=1.0, bar_style='info', max=1.0), HTML(value='')))"
      ]
     },
     "metadata": {},
     "output_type": "display_data"
    },
    {
     "name": "stdout",
     "output_type": "stream",
     "text": [
      "\n"
     ]
    },
    {
     "data": {
      "application/vnd.jupyter.widget-view+json": {
       "model_id": "8692e378df6e4a9aad71f1ca45ef4594",
       "version_major": 2,
       "version_minor": 0
      },
      "text/plain": [
       "HBox(children=(FloatProgress(value=1.0, bar_style='info', max=1.0), HTML(value='')))"
      ]
     },
     "metadata": {},
     "output_type": "display_data"
    },
    {
     "name": "stdout",
     "output_type": "stream",
     "text": [
      "\n"
     ]
    },
    {
     "data": {
      "application/vnd.jupyter.widget-view+json": {
       "model_id": "21bdca87742d46e6b58b140105ef4317",
       "version_major": 2,
       "version_minor": 0
      },
      "text/plain": [
       "HBox(children=(FloatProgress(value=1.0, bar_style='info', max=1.0), HTML(value='')))"
      ]
     },
     "metadata": {},
     "output_type": "display_data"
    },
    {
     "name": "stdout",
     "output_type": "stream",
     "text": [
      "\n"
     ]
    },
    {
     "data": {
      "application/vnd.jupyter.widget-view+json": {
       "model_id": "eeb3fb4622ea4555a311ec62d85b70a0",
       "version_major": 2,
       "version_minor": 0
      },
      "text/plain": [
       "HBox(children=(FloatProgress(value=1.0, bar_style='info', max=1.0), HTML(value='')))"
      ]
     },
     "metadata": {},
     "output_type": "display_data"
    },
    {
     "name": "stdout",
     "output_type": "stream",
     "text": [
      "\n"
     ]
    },
    {
     "data": {
      "application/vnd.jupyter.widget-view+json": {
       "model_id": "7783c4dbb1e5482d94c5a7a84eea27b4",
       "version_major": 2,
       "version_minor": 0
      },
      "text/plain": [
       "HBox(children=(FloatProgress(value=1.0, bar_style='info', max=1.0), HTML(value='')))"
      ]
     },
     "metadata": {},
     "output_type": "display_data"
    },
    {
     "name": "stdout",
     "output_type": "stream",
     "text": [
      "\n"
     ]
    },
    {
     "data": {
      "application/vnd.jupyter.widget-view+json": {
       "model_id": "63855a03077646ca890919e25988172e",
       "version_major": 2,
       "version_minor": 0
      },
      "text/plain": [
       "HBox(children=(FloatProgress(value=1.0, bar_style='info', max=1.0), HTML(value='')))"
      ]
     },
     "metadata": {},
     "output_type": "display_data"
    },
    {
     "name": "stdout",
     "output_type": "stream",
     "text": [
      "\n"
     ]
    },
    {
     "data": {
      "application/vnd.jupyter.widget-view+json": {
       "model_id": "c81349a6b4314c5781f1291c8b6b9e65",
       "version_major": 2,
       "version_minor": 0
      },
      "text/plain": [
       "HBox(children=(FloatProgress(value=1.0, bar_style='info', max=1.0), HTML(value='')))"
      ]
     },
     "metadata": {},
     "output_type": "display_data"
    },
    {
     "name": "stdout",
     "output_type": "stream",
     "text": [
      "\n"
     ]
    },
    {
     "data": {
      "application/vnd.jupyter.widget-view+json": {
       "model_id": "e0e81d1b30bf4b35acd9aa440f1b7106",
       "version_major": 2,
       "version_minor": 0
      },
      "text/plain": [
       "HBox(children=(FloatProgress(value=1.0, bar_style='info', max=1.0), HTML(value='')))"
      ]
     },
     "metadata": {},
     "output_type": "display_data"
    },
    {
     "name": "stdout",
     "output_type": "stream",
     "text": [
      "\n"
     ]
    },
    {
     "data": {
      "application/vnd.jupyter.widget-view+json": {
       "model_id": "e00ab60cc52f421fbc71fb15e162ba01",
       "version_major": 2,
       "version_minor": 0
      },
      "text/plain": [
       "HBox(children=(FloatProgress(value=1.0, bar_style='info', max=1.0), HTML(value='')))"
      ]
     },
     "metadata": {},
     "output_type": "display_data"
    },
    {
     "name": "stdout",
     "output_type": "stream",
     "text": [
      "\n"
     ]
    },
    {
     "data": {
      "application/vnd.jupyter.widget-view+json": {
       "model_id": "ba21e1409b2e4b388affdd0f50efeb43",
       "version_major": 2,
       "version_minor": 0
      },
      "text/plain": [
       "HBox(children=(FloatProgress(value=1.0, bar_style='info', max=1.0), HTML(value='')))"
      ]
     },
     "metadata": {},
     "output_type": "display_data"
    },
    {
     "name": "stdout",
     "output_type": "stream",
     "text": [
      "\n"
     ]
    },
    {
     "data": {
      "application/vnd.jupyter.widget-view+json": {
       "model_id": "2ada91af9fc94aa2b9f94ac627638d8a",
       "version_major": 2,
       "version_minor": 0
      },
      "text/plain": [
       "HBox(children=(FloatProgress(value=1.0, bar_style='info', max=1.0), HTML(value='')))"
      ]
     },
     "metadata": {},
     "output_type": "display_data"
    },
    {
     "name": "stdout",
     "output_type": "stream",
     "text": [
      "\n"
     ]
    },
    {
     "data": {
      "application/vnd.jupyter.widget-view+json": {
       "model_id": "0245a33356ec4f218a58688ecacbfb7f",
       "version_major": 2,
       "version_minor": 0
      },
      "text/plain": [
       "HBox(children=(FloatProgress(value=1.0, bar_style='info', max=1.0), HTML(value='')))"
      ]
     },
     "metadata": {},
     "output_type": "display_data"
    },
    {
     "name": "stdout",
     "output_type": "stream",
     "text": [
      "\n"
     ]
    },
    {
     "data": {
      "application/vnd.jupyter.widget-view+json": {
       "model_id": "d532d3210bf64e8db0141e149c6929b7",
       "version_major": 2,
       "version_minor": 0
      },
      "text/plain": [
       "HBox(children=(FloatProgress(value=1.0, bar_style='info', max=1.0), HTML(value='')))"
      ]
     },
     "metadata": {},
     "output_type": "display_data"
    },
    {
     "name": "stdout",
     "output_type": "stream",
     "text": [
      "\n"
     ]
    },
    {
     "data": {
      "application/vnd.jupyter.widget-view+json": {
       "model_id": "bc75d9828b244ed3971d0a75a855f6bd",
       "version_major": 2,
       "version_minor": 0
      },
      "text/plain": [
       "HBox(children=(FloatProgress(value=1.0, bar_style='info', max=1.0), HTML(value='')))"
      ]
     },
     "metadata": {},
     "output_type": "display_data"
    },
    {
     "name": "stdout",
     "output_type": "stream",
     "text": [
      "\n"
     ]
    },
    {
     "data": {
      "application/vnd.jupyter.widget-view+json": {
       "model_id": "799a0ee5295f4497af37eecb85ad3678",
       "version_major": 2,
       "version_minor": 0
      },
      "text/plain": [
       "HBox(children=(FloatProgress(value=1.0, bar_style='info', max=1.0), HTML(value='')))"
      ]
     },
     "metadata": {},
     "output_type": "display_data"
    },
    {
     "name": "stdout",
     "output_type": "stream",
     "text": [
      "\n"
     ]
    },
    {
     "data": {
      "application/vnd.jupyter.widget-view+json": {
       "model_id": "d326c9248c344535b191707cf1173d2d",
       "version_major": 2,
       "version_minor": 0
      },
      "text/plain": [
       "HBox(children=(FloatProgress(value=1.0, bar_style='info', max=1.0), HTML(value='')))"
      ]
     },
     "metadata": {},
     "output_type": "display_data"
    },
    {
     "name": "stdout",
     "output_type": "stream",
     "text": [
      "\n"
     ]
    },
    {
     "data": {
      "application/vnd.jupyter.widget-view+json": {
       "model_id": "4307731357f045d594582682b935a914",
       "version_major": 2,
       "version_minor": 0
      },
      "text/plain": [
       "HBox(children=(FloatProgress(value=1.0, bar_style='info', max=1.0), HTML(value='')))"
      ]
     },
     "metadata": {},
     "output_type": "display_data"
    },
    {
     "name": "stdout",
     "output_type": "stream",
     "text": [
      "\n"
     ]
    },
    {
     "data": {
      "application/vnd.jupyter.widget-view+json": {
       "model_id": "4e47931c81ec46f1a683c21d061d9d59",
       "version_major": 2,
       "version_minor": 0
      },
      "text/plain": [
       "HBox(children=(FloatProgress(value=1.0, bar_style='info', max=1.0), HTML(value='')))"
      ]
     },
     "metadata": {},
     "output_type": "display_data"
    },
    {
     "name": "stdout",
     "output_type": "stream",
     "text": [
      "\n"
     ]
    },
    {
     "data": {
      "application/vnd.jupyter.widget-view+json": {
       "model_id": "07ae150243fa45bcb0d31fbedce1a4c5",
       "version_major": 2,
       "version_minor": 0
      },
      "text/plain": [
       "HBox(children=(FloatProgress(value=1.0, bar_style='info', max=1.0), HTML(value='')))"
      ]
     },
     "metadata": {},
     "output_type": "display_data"
    },
    {
     "name": "stdout",
     "output_type": "stream",
     "text": [
      "\n"
     ]
    },
    {
     "data": {
      "application/vnd.jupyter.widget-view+json": {
       "model_id": "304abddb43474cb4b194c9f6d284251f",
       "version_major": 2,
       "version_minor": 0
      },
      "text/plain": [
       "HBox(children=(FloatProgress(value=1.0, bar_style='info', max=1.0), HTML(value='')))"
      ]
     },
     "metadata": {},
     "output_type": "display_data"
    },
    {
     "name": "stdout",
     "output_type": "stream",
     "text": [
      "\n"
     ]
    },
    {
     "data": {
      "application/vnd.jupyter.widget-view+json": {
       "model_id": "bafb3124e3924f7286ca0ec7a64fb394",
       "version_major": 2,
       "version_minor": 0
      },
      "text/plain": [
       "HBox(children=(FloatProgress(value=1.0, bar_style='info', max=1.0), HTML(value='')))"
      ]
     },
     "metadata": {},
     "output_type": "display_data"
    },
    {
     "name": "stdout",
     "output_type": "stream",
     "text": [
      "\n"
     ]
    },
    {
     "data": {
      "application/vnd.jupyter.widget-view+json": {
       "model_id": "11d6ac5218f147e899a4bca428c742b7",
       "version_major": 2,
       "version_minor": 0
      },
      "text/plain": [
       "HBox(children=(FloatProgress(value=1.0, bar_style='info', max=1.0), HTML(value='')))"
      ]
     },
     "metadata": {},
     "output_type": "display_data"
    },
    {
     "name": "stdout",
     "output_type": "stream",
     "text": [
      "\n"
     ]
    },
    {
     "data": {
      "application/vnd.jupyter.widget-view+json": {
       "model_id": "f0820b4c07c94fd29b1f738e7bd8a90c",
       "version_major": 2,
       "version_minor": 0
      },
      "text/plain": [
       "HBox(children=(FloatProgress(value=1.0, bar_style='info', max=1.0), HTML(value='')))"
      ]
     },
     "metadata": {},
     "output_type": "display_data"
    },
    {
     "name": "stdout",
     "output_type": "stream",
     "text": [
      "\n"
     ]
    },
    {
     "data": {
      "application/vnd.jupyter.widget-view+json": {
       "model_id": "a2f84deb7fd64037bd5c4f2db22b3b8e",
       "version_major": 2,
       "version_minor": 0
      },
      "text/plain": [
       "HBox(children=(FloatProgress(value=1.0, bar_style='info', max=1.0), HTML(value='')))"
      ]
     },
     "metadata": {},
     "output_type": "display_data"
    },
    {
     "name": "stdout",
     "output_type": "stream",
     "text": [
      "\n"
     ]
    },
    {
     "data": {
      "application/vnd.jupyter.widget-view+json": {
       "model_id": "28dba05fed204e01ba3503d58d76698f",
       "version_major": 2,
       "version_minor": 0
      },
      "text/plain": [
       "HBox(children=(FloatProgress(value=1.0, bar_style='info', max=1.0), HTML(value='')))"
      ]
     },
     "metadata": {},
     "output_type": "display_data"
    },
    {
     "name": "stdout",
     "output_type": "stream",
     "text": [
      "\n"
     ]
    },
    {
     "data": {
      "application/vnd.jupyter.widget-view+json": {
       "model_id": "adc1c04cb5ca44dbbe6114fd4c05dd17",
       "version_major": 2,
       "version_minor": 0
      },
      "text/plain": [
       "HBox(children=(FloatProgress(value=1.0, bar_style='info', max=1.0), HTML(value='')))"
      ]
     },
     "metadata": {},
     "output_type": "display_data"
    },
    {
     "name": "stdout",
     "output_type": "stream",
     "text": [
      "\n"
     ]
    },
    {
     "data": {
      "application/vnd.jupyter.widget-view+json": {
       "model_id": "f3354e5ae828492dabdaa5eb1b0654ab",
       "version_major": 2,
       "version_minor": 0
      },
      "text/plain": [
       "HBox(children=(FloatProgress(value=1.0, bar_style='info', max=1.0), HTML(value='')))"
      ]
     },
     "metadata": {},
     "output_type": "display_data"
    },
    {
     "name": "stdout",
     "output_type": "stream",
     "text": [
      "\n"
     ]
    },
    {
     "data": {
      "application/vnd.jupyter.widget-view+json": {
       "model_id": "32aadfe700c24142861faf398e2d9630",
       "version_major": 2,
       "version_minor": 0
      },
      "text/plain": [
       "HBox(children=(FloatProgress(value=1.0, bar_style='info', max=1.0), HTML(value='')))"
      ]
     },
     "metadata": {},
     "output_type": "display_data"
    },
    {
     "name": "stdout",
     "output_type": "stream",
     "text": [
      "\n"
     ]
    },
    {
     "data": {
      "application/vnd.jupyter.widget-view+json": {
       "model_id": "853baddcecd24ed9a9edff1bfe0147b5",
       "version_major": 2,
       "version_minor": 0
      },
      "text/plain": [
       "HBox(children=(FloatProgress(value=1.0, bar_style='info', max=1.0), HTML(value='')))"
      ]
     },
     "metadata": {},
     "output_type": "display_data"
    },
    {
     "name": "stdout",
     "output_type": "stream",
     "text": [
      "\n"
     ]
    },
    {
     "data": {
      "application/vnd.jupyter.widget-view+json": {
       "model_id": "6be26ec07a6c40e6a72db5e8f231e8cf",
       "version_major": 2,
       "version_minor": 0
      },
      "text/plain": [
       "HBox(children=(FloatProgress(value=1.0, bar_style='info', max=1.0), HTML(value='')))"
      ]
     },
     "metadata": {},
     "output_type": "display_data"
    },
    {
     "name": "stdout",
     "output_type": "stream",
     "text": [
      "\n"
     ]
    },
    {
     "data": {
      "application/vnd.jupyter.widget-view+json": {
       "model_id": "3cc183cb09764e4084ce7adcbcc2db52",
       "version_major": 2,
       "version_minor": 0
      },
      "text/plain": [
       "HBox(children=(FloatProgress(value=1.0, bar_style='info', max=1.0), HTML(value='')))"
      ]
     },
     "metadata": {},
     "output_type": "display_data"
    },
    {
     "name": "stdout",
     "output_type": "stream",
     "text": [
      "\n"
     ]
    },
    {
     "data": {
      "application/vnd.jupyter.widget-view+json": {
       "model_id": "5f1c77c9bc96405a94193c18ee1af019",
       "version_major": 2,
       "version_minor": 0
      },
      "text/plain": [
       "HBox(children=(FloatProgress(value=1.0, bar_style='info', max=1.0), HTML(value='')))"
      ]
     },
     "metadata": {},
     "output_type": "display_data"
    },
    {
     "name": "stdout",
     "output_type": "stream",
     "text": [
      "\n"
     ]
    },
    {
     "data": {
      "application/vnd.jupyter.widget-view+json": {
       "model_id": "de574c9cb2654732bd66fd38ef10f552",
       "version_major": 2,
       "version_minor": 0
      },
      "text/plain": [
       "HBox(children=(FloatProgress(value=1.0, bar_style='info', max=1.0), HTML(value='')))"
      ]
     },
     "metadata": {},
     "output_type": "display_data"
    },
    {
     "name": "stdout",
     "output_type": "stream",
     "text": [
      "\n"
     ]
    },
    {
     "data": {
      "application/vnd.jupyter.widget-view+json": {
       "model_id": "444403392d614423a85dc65e9939469a",
       "version_major": 2,
       "version_minor": 0
      },
      "text/plain": [
       "HBox(children=(FloatProgress(value=1.0, bar_style='info', max=1.0), HTML(value='')))"
      ]
     },
     "metadata": {},
     "output_type": "display_data"
    },
    {
     "name": "stdout",
     "output_type": "stream",
     "text": [
      "\n"
     ]
    },
    {
     "data": {
      "application/vnd.jupyter.widget-view+json": {
       "model_id": "86a5e8a3041f41938b4298890dad04c5",
       "version_major": 2,
       "version_minor": 0
      },
      "text/plain": [
       "HBox(children=(FloatProgress(value=1.0, bar_style='info', max=1.0), HTML(value='')))"
      ]
     },
     "metadata": {},
     "output_type": "display_data"
    },
    {
     "name": "stdout",
     "output_type": "stream",
     "text": [
      "\n"
     ]
    },
    {
     "data": {
      "application/vnd.jupyter.widget-view+json": {
       "model_id": "31ea9414a648412085230c357aa485c9",
       "version_major": 2,
       "version_minor": 0
      },
      "text/plain": [
       "HBox(children=(FloatProgress(value=1.0, bar_style='info', max=1.0), HTML(value='')))"
      ]
     },
     "metadata": {},
     "output_type": "display_data"
    },
    {
     "name": "stdout",
     "output_type": "stream",
     "text": [
      "\n"
     ]
    },
    {
     "data": {
      "application/vnd.jupyter.widget-view+json": {
       "model_id": "2075213d5af14cd3bae925384c94b4c1",
       "version_major": 2,
       "version_minor": 0
      },
      "text/plain": [
       "HBox(children=(FloatProgress(value=1.0, bar_style='info', max=1.0), HTML(value='')))"
      ]
     },
     "metadata": {},
     "output_type": "display_data"
    },
    {
     "name": "stdout",
     "output_type": "stream",
     "text": [
      "\n"
     ]
    },
    {
     "data": {
      "application/vnd.jupyter.widget-view+json": {
       "model_id": "1e99ef93aace46088aaec811d8ca4146",
       "version_major": 2,
       "version_minor": 0
      },
      "text/plain": [
       "HBox(children=(FloatProgress(value=1.0, bar_style='info', max=1.0), HTML(value='')))"
      ]
     },
     "metadata": {},
     "output_type": "display_data"
    },
    {
     "name": "stdout",
     "output_type": "stream",
     "text": [
      "\n"
     ]
    },
    {
     "data": {
      "application/vnd.jupyter.widget-view+json": {
       "model_id": "e3609caf31d34616a3d70e468144aaee",
       "version_major": 2,
       "version_minor": 0
      },
      "text/plain": [
       "HBox(children=(FloatProgress(value=1.0, bar_style='info', max=1.0), HTML(value='')))"
      ]
     },
     "metadata": {},
     "output_type": "display_data"
    },
    {
     "name": "stdout",
     "output_type": "stream",
     "text": [
      "\n"
     ]
    },
    {
     "data": {
      "application/vnd.jupyter.widget-view+json": {
       "model_id": "4cc5c134cb8c46d6b5db76866654020e",
       "version_major": 2,
       "version_minor": 0
      },
      "text/plain": [
       "HBox(children=(FloatProgress(value=1.0, bar_style='info', max=1.0), HTML(value='')))"
      ]
     },
     "metadata": {},
     "output_type": "display_data"
    },
    {
     "name": "stdout",
     "output_type": "stream",
     "text": [
      "\n"
     ]
    },
    {
     "data": {
      "application/vnd.jupyter.widget-view+json": {
       "model_id": "366ca23c9fcb44ebab5993436d39cd3a",
       "version_major": 2,
       "version_minor": 0
      },
      "text/plain": [
       "HBox(children=(FloatProgress(value=1.0, bar_style='info', max=1.0), HTML(value='')))"
      ]
     },
     "metadata": {},
     "output_type": "display_data"
    },
    {
     "name": "stdout",
     "output_type": "stream",
     "text": [
      "\n"
     ]
    },
    {
     "data": {
      "application/vnd.jupyter.widget-view+json": {
       "model_id": "a7535e036da14d2fbbd33ebc775427ab",
       "version_major": 2,
       "version_minor": 0
      },
      "text/plain": [
       "HBox(children=(FloatProgress(value=1.0, bar_style='info', max=1.0), HTML(value='')))"
      ]
     },
     "metadata": {},
     "output_type": "display_data"
    },
    {
     "name": "stdout",
     "output_type": "stream",
     "text": [
      "\n"
     ]
    },
    {
     "data": {
      "application/vnd.jupyter.widget-view+json": {
       "model_id": "704293c5017e4c809f9e8b52f5aa9bb7",
       "version_major": 2,
       "version_minor": 0
      },
      "text/plain": [
       "HBox(children=(FloatProgress(value=1.0, bar_style='info', max=1.0), HTML(value='')))"
      ]
     },
     "metadata": {},
     "output_type": "display_data"
    },
    {
     "name": "stdout",
     "output_type": "stream",
     "text": [
      "\n"
     ]
    },
    {
     "data": {
      "application/vnd.jupyter.widget-view+json": {
       "model_id": "f2e4a9785cd24aa3adb42ef5ec91e46a",
       "version_major": 2,
       "version_minor": 0
      },
      "text/plain": [
       "HBox(children=(FloatProgress(value=1.0, bar_style='info', max=1.0), HTML(value='')))"
      ]
     },
     "metadata": {},
     "output_type": "display_data"
    },
    {
     "name": "stdout",
     "output_type": "stream",
     "text": [
      "\n"
     ]
    },
    {
     "data": {
      "application/vnd.jupyter.widget-view+json": {
       "model_id": "d303280abae448af88536eac7c2cd3b0",
       "version_major": 2,
       "version_minor": 0
      },
      "text/plain": [
       "HBox(children=(FloatProgress(value=1.0, bar_style='info', max=1.0), HTML(value='')))"
      ]
     },
     "metadata": {},
     "output_type": "display_data"
    },
    {
     "name": "stdout",
     "output_type": "stream",
     "text": [
      "\n"
     ]
    },
    {
     "data": {
      "application/vnd.jupyter.widget-view+json": {
       "model_id": "e8747fb0ddbc4f83ab5a6d831e2b2f51",
       "version_major": 2,
       "version_minor": 0
      },
      "text/plain": [
       "HBox(children=(FloatProgress(value=1.0, bar_style='info', max=1.0), HTML(value='')))"
      ]
     },
     "metadata": {},
     "output_type": "display_data"
    },
    {
     "name": "stdout",
     "output_type": "stream",
     "text": [
      "\n"
     ]
    },
    {
     "data": {
      "application/vnd.jupyter.widget-view+json": {
       "model_id": "4a6bff3cfd354471b1167969d498a6b9",
       "version_major": 2,
       "version_minor": 0
      },
      "text/plain": [
       "HBox(children=(FloatProgress(value=1.0, bar_style='info', max=1.0), HTML(value='')))"
      ]
     },
     "metadata": {},
     "output_type": "display_data"
    },
    {
     "name": "stdout",
     "output_type": "stream",
     "text": [
      "\n"
     ]
    },
    {
     "data": {
      "application/vnd.jupyter.widget-view+json": {
       "model_id": "16df4ee2c3d841b393c57bb17c2ad0fc",
       "version_major": 2,
       "version_minor": 0
      },
      "text/plain": [
       "HBox(children=(FloatProgress(value=1.0, bar_style='info', max=1.0), HTML(value='')))"
      ]
     },
     "metadata": {},
     "output_type": "display_data"
    },
    {
     "name": "stdout",
     "output_type": "stream",
     "text": [
      "\n"
     ]
    },
    {
     "data": {
      "application/vnd.jupyter.widget-view+json": {
       "model_id": "76fa6362c2224656945f749373b7b136",
       "version_major": 2,
       "version_minor": 0
      },
      "text/plain": [
       "HBox(children=(FloatProgress(value=1.0, bar_style='info', max=1.0), HTML(value='')))"
      ]
     },
     "metadata": {},
     "output_type": "display_data"
    },
    {
     "name": "stdout",
     "output_type": "stream",
     "text": [
      "\n"
     ]
    },
    {
     "data": {
      "application/vnd.jupyter.widget-view+json": {
       "model_id": "9d87cd717a1249d1871488f65a801813",
       "version_major": 2,
       "version_minor": 0
      },
      "text/plain": [
       "HBox(children=(FloatProgress(value=1.0, bar_style='info', max=1.0), HTML(value='')))"
      ]
     },
     "metadata": {},
     "output_type": "display_data"
    },
    {
     "name": "stdout",
     "output_type": "stream",
     "text": [
      "\n"
     ]
    },
    {
     "data": {
      "application/vnd.jupyter.widget-view+json": {
       "model_id": "c40b6ac171cc43559813ecf0b60379f1",
       "version_major": 2,
       "version_minor": 0
      },
      "text/plain": [
       "HBox(children=(FloatProgress(value=1.0, bar_style='info', max=1.0), HTML(value='')))"
      ]
     },
     "metadata": {},
     "output_type": "display_data"
    },
    {
     "name": "stdout",
     "output_type": "stream",
     "text": [
      "\n"
     ]
    },
    {
     "data": {
      "application/vnd.jupyter.widget-view+json": {
       "model_id": "159a31663e8a46ac994fae232bcc935f",
       "version_major": 2,
       "version_minor": 0
      },
      "text/plain": [
       "HBox(children=(FloatProgress(value=1.0, bar_style='info', max=1.0), HTML(value='')))"
      ]
     },
     "metadata": {},
     "output_type": "display_data"
    },
    {
     "name": "stdout",
     "output_type": "stream",
     "text": [
      "\n"
     ]
    },
    {
     "data": {
      "application/vnd.jupyter.widget-view+json": {
       "model_id": "a70005a73b4d44a8a76ca793c767ab2d",
       "version_major": 2,
       "version_minor": 0
      },
      "text/plain": [
       "HBox(children=(FloatProgress(value=1.0, bar_style='info', max=1.0), HTML(value='')))"
      ]
     },
     "metadata": {},
     "output_type": "display_data"
    },
    {
     "name": "stdout",
     "output_type": "stream",
     "text": [
      "\n"
     ]
    },
    {
     "data": {
      "application/vnd.jupyter.widget-view+json": {
       "model_id": "81010d9ddc554ca2b0fb2e910c00527a",
       "version_major": 2,
       "version_minor": 0
      },
      "text/plain": [
       "HBox(children=(FloatProgress(value=1.0, bar_style='info', max=1.0), HTML(value='')))"
      ]
     },
     "metadata": {},
     "output_type": "display_data"
    },
    {
     "name": "stdout",
     "output_type": "stream",
     "text": [
      "\n"
     ]
    },
    {
     "data": {
      "application/vnd.jupyter.widget-view+json": {
       "model_id": "acaa89973e164b768d0eda6628e50a42",
       "version_major": 2,
       "version_minor": 0
      },
      "text/plain": [
       "HBox(children=(FloatProgress(value=1.0, bar_style='info', max=1.0), HTML(value='')))"
      ]
     },
     "metadata": {},
     "output_type": "display_data"
    },
    {
     "name": "stdout",
     "output_type": "stream",
     "text": [
      "\n"
     ]
    },
    {
     "data": {
      "application/vnd.jupyter.widget-view+json": {
       "model_id": "1c4e2a58bae2433ba5798860fe365efc",
       "version_major": 2,
       "version_minor": 0
      },
      "text/plain": [
       "HBox(children=(FloatProgress(value=1.0, bar_style='info', max=1.0), HTML(value='')))"
      ]
     },
     "metadata": {},
     "output_type": "display_data"
    },
    {
     "name": "stdout",
     "output_type": "stream",
     "text": [
      "\n"
     ]
    },
    {
     "data": {
      "application/vnd.jupyter.widget-view+json": {
       "model_id": "4874310da72c4c349de3a6e45d47dea3",
       "version_major": 2,
       "version_minor": 0
      },
      "text/plain": [
       "HBox(children=(FloatProgress(value=1.0, bar_style='info', max=1.0), HTML(value='')))"
      ]
     },
     "metadata": {},
     "output_type": "display_data"
    },
    {
     "name": "stdout",
     "output_type": "stream",
     "text": [
      "\n"
     ]
    },
    {
     "data": {
      "application/vnd.jupyter.widget-view+json": {
       "model_id": "23df2e6bceca4765860ee5ae6374c8ed",
       "version_major": 2,
       "version_minor": 0
      },
      "text/plain": [
       "HBox(children=(FloatProgress(value=1.0, bar_style='info', max=1.0), HTML(value='')))"
      ]
     },
     "metadata": {},
     "output_type": "display_data"
    },
    {
     "name": "stdout",
     "output_type": "stream",
     "text": [
      "\n"
     ]
    },
    {
     "data": {
      "application/vnd.jupyter.widget-view+json": {
       "model_id": "816f9ef23e894e21ad9f9d1beb6a9461",
       "version_major": 2,
       "version_minor": 0
      },
      "text/plain": [
       "HBox(children=(FloatProgress(value=1.0, bar_style='info', max=1.0), HTML(value='')))"
      ]
     },
     "metadata": {},
     "output_type": "display_data"
    },
    {
     "name": "stdout",
     "output_type": "stream",
     "text": [
      "\n"
     ]
    },
    {
     "data": {
      "application/vnd.jupyter.widget-view+json": {
       "model_id": "cada3d1a39ec496da931d2741f544ced",
       "version_major": 2,
       "version_minor": 0
      },
      "text/plain": [
       "HBox(children=(FloatProgress(value=1.0, bar_style='info', max=1.0), HTML(value='')))"
      ]
     },
     "metadata": {},
     "output_type": "display_data"
    },
    {
     "name": "stdout",
     "output_type": "stream",
     "text": [
      "\n"
     ]
    },
    {
     "data": {
      "application/vnd.jupyter.widget-view+json": {
       "model_id": "c00f1b5f8c8a46a0822d066a56c4d131",
       "version_major": 2,
       "version_minor": 0
      },
      "text/plain": [
       "HBox(children=(FloatProgress(value=1.0, bar_style='info', max=1.0), HTML(value='')))"
      ]
     },
     "metadata": {},
     "output_type": "display_data"
    },
    {
     "name": "stdout",
     "output_type": "stream",
     "text": [
      "\n"
     ]
    },
    {
     "data": {
      "application/vnd.jupyter.widget-view+json": {
       "model_id": "c38708abab35400cb66dffdacf70d215",
       "version_major": 2,
       "version_minor": 0
      },
      "text/plain": [
       "HBox(children=(FloatProgress(value=1.0, bar_style='info', max=1.0), HTML(value='')))"
      ]
     },
     "metadata": {},
     "output_type": "display_data"
    },
    {
     "name": "stdout",
     "output_type": "stream",
     "text": [
      "\n"
     ]
    },
    {
     "data": {
      "application/vnd.jupyter.widget-view+json": {
       "model_id": "a860372fd0f94e759c2dee53836e541b",
       "version_major": 2,
       "version_minor": 0
      },
      "text/plain": [
       "HBox(children=(FloatProgress(value=1.0, bar_style='info', max=1.0), HTML(value='')))"
      ]
     },
     "metadata": {},
     "output_type": "display_data"
    },
    {
     "name": "stdout",
     "output_type": "stream",
     "text": [
      "\n"
     ]
    },
    {
     "data": {
      "application/vnd.jupyter.widget-view+json": {
       "model_id": "cff87a7faba041b18279ef0322a1f354",
       "version_major": 2,
       "version_minor": 0
      },
      "text/plain": [
       "HBox(children=(FloatProgress(value=1.0, bar_style='info', max=1.0), HTML(value='')))"
      ]
     },
     "metadata": {},
     "output_type": "display_data"
    },
    {
     "name": "stdout",
     "output_type": "stream",
     "text": [
      "\n"
     ]
    },
    {
     "data": {
      "application/vnd.jupyter.widget-view+json": {
       "model_id": "20c441e40f2346b6ab2781b2b7efbc61",
       "version_major": 2,
       "version_minor": 0
      },
      "text/plain": [
       "HBox(children=(FloatProgress(value=1.0, bar_style='info', max=1.0), HTML(value='')))"
      ]
     },
     "metadata": {},
     "output_type": "display_data"
    },
    {
     "name": "stdout",
     "output_type": "stream",
     "text": [
      "\n"
     ]
    },
    {
     "data": {
      "application/vnd.jupyter.widget-view+json": {
       "model_id": "3f0381d6928146deb4be40e32db716c6",
       "version_major": 2,
       "version_minor": 0
      },
      "text/plain": [
       "HBox(children=(FloatProgress(value=1.0, bar_style='info', max=1.0), HTML(value='')))"
      ]
     },
     "metadata": {},
     "output_type": "display_data"
    },
    {
     "name": "stdout",
     "output_type": "stream",
     "text": [
      "\n"
     ]
    },
    {
     "data": {
      "application/vnd.jupyter.widget-view+json": {
       "model_id": "99fd73d2645d49a8bd32b202cbd281d6",
       "version_major": 2,
       "version_minor": 0
      },
      "text/plain": [
       "HBox(children=(FloatProgress(value=1.0, bar_style='info', max=1.0), HTML(value='')))"
      ]
     },
     "metadata": {},
     "output_type": "display_data"
    },
    {
     "name": "stdout",
     "output_type": "stream",
     "text": [
      "\n"
     ]
    },
    {
     "data": {
      "application/vnd.jupyter.widget-view+json": {
       "model_id": "1ccf7d7089e84b94b1cd581f3e721448",
       "version_major": 2,
       "version_minor": 0
      },
      "text/plain": [
       "HBox(children=(FloatProgress(value=1.0, bar_style='info', max=1.0), HTML(value='')))"
      ]
     },
     "metadata": {},
     "output_type": "display_data"
    },
    {
     "name": "stdout",
     "output_type": "stream",
     "text": [
      "\n"
     ]
    },
    {
     "data": {
      "application/vnd.jupyter.widget-view+json": {
       "model_id": "2951cec3938b4e4e8af198ea33e2c6c0",
       "version_major": 2,
       "version_minor": 0
      },
      "text/plain": [
       "HBox(children=(FloatProgress(value=1.0, bar_style='info', max=1.0), HTML(value='')))"
      ]
     },
     "metadata": {},
     "output_type": "display_data"
    },
    {
     "name": "stdout",
     "output_type": "stream",
     "text": [
      "\n"
     ]
    },
    {
     "data": {
      "application/vnd.jupyter.widget-view+json": {
       "model_id": "ff63f2e043e540a58ea2a0862645326e",
       "version_major": 2,
       "version_minor": 0
      },
      "text/plain": [
       "HBox(children=(FloatProgress(value=1.0, bar_style='info', max=1.0), HTML(value='')))"
      ]
     },
     "metadata": {},
     "output_type": "display_data"
    },
    {
     "name": "stdout",
     "output_type": "stream",
     "text": [
      "\n"
     ]
    },
    {
     "data": {
      "application/vnd.jupyter.widget-view+json": {
       "model_id": "ca18843f696a4f15983b7e1449a35bf2",
       "version_major": 2,
       "version_minor": 0
      },
      "text/plain": [
       "HBox(children=(FloatProgress(value=1.0, bar_style='info', max=1.0), HTML(value='')))"
      ]
     },
     "metadata": {},
     "output_type": "display_data"
    },
    {
     "name": "stdout",
     "output_type": "stream",
     "text": [
      "\n"
     ]
    },
    {
     "data": {
      "application/vnd.jupyter.widget-view+json": {
       "model_id": "737dd7499ec343f5b40818fb8061f629",
       "version_major": 2,
       "version_minor": 0
      },
      "text/plain": [
       "HBox(children=(FloatProgress(value=1.0, bar_style='info', max=1.0), HTML(value='')))"
      ]
     },
     "metadata": {},
     "output_type": "display_data"
    },
    {
     "name": "stdout",
     "output_type": "stream",
     "text": [
      "\n"
     ]
    },
    {
     "data": {
      "application/vnd.jupyter.widget-view+json": {
       "model_id": "c2870916b5bd48a4b9d2279cf87a18f2",
       "version_major": 2,
       "version_minor": 0
      },
      "text/plain": [
       "HBox(children=(FloatProgress(value=1.0, bar_style='info', max=1.0), HTML(value='')))"
      ]
     },
     "metadata": {},
     "output_type": "display_data"
    },
    {
     "name": "stdout",
     "output_type": "stream",
     "text": [
      "\n"
     ]
    },
    {
     "data": {
      "application/vnd.jupyter.widget-view+json": {
       "model_id": "ec41d414c9784c228e182af73f96899e",
       "version_major": 2,
       "version_minor": 0
      },
      "text/plain": [
       "HBox(children=(FloatProgress(value=1.0, bar_style='info', max=1.0), HTML(value='')))"
      ]
     },
     "metadata": {},
     "output_type": "display_data"
    },
    {
     "name": "stdout",
     "output_type": "stream",
     "text": [
      "\n"
     ]
    },
    {
     "data": {
      "application/vnd.jupyter.widget-view+json": {
       "model_id": "193db25ff7f54994ab9f5cee34ff6cec",
       "version_major": 2,
       "version_minor": 0
      },
      "text/plain": [
       "HBox(children=(FloatProgress(value=1.0, bar_style='info', max=1.0), HTML(value='')))"
      ]
     },
     "metadata": {},
     "output_type": "display_data"
    },
    {
     "name": "stdout",
     "output_type": "stream",
     "text": [
      "\n"
     ]
    },
    {
     "data": {
      "application/vnd.jupyter.widget-view+json": {
       "model_id": "7face40450974d448a771f86c2dd5b23",
       "version_major": 2,
       "version_minor": 0
      },
      "text/plain": [
       "HBox(children=(FloatProgress(value=1.0, bar_style='info', max=1.0), HTML(value='')))"
      ]
     },
     "metadata": {},
     "output_type": "display_data"
    },
    {
     "name": "stdout",
     "output_type": "stream",
     "text": [
      "\n"
     ]
    },
    {
     "data": {
      "application/vnd.jupyter.widget-view+json": {
       "model_id": "8f80108373f24111bbe8dcac2732bea5",
       "version_major": 2,
       "version_minor": 0
      },
      "text/plain": [
       "HBox(children=(FloatProgress(value=1.0, bar_style='info', max=1.0), HTML(value='')))"
      ]
     },
     "metadata": {},
     "output_type": "display_data"
    },
    {
     "name": "stdout",
     "output_type": "stream",
     "text": [
      "\n"
     ]
    },
    {
     "data": {
      "application/vnd.jupyter.widget-view+json": {
       "model_id": "f0d17a5a82d64c799c582ce45b4b4f60",
       "version_major": 2,
       "version_minor": 0
      },
      "text/plain": [
       "HBox(children=(FloatProgress(value=1.0, bar_style='info', max=1.0), HTML(value='')))"
      ]
     },
     "metadata": {},
     "output_type": "display_data"
    },
    {
     "name": "stdout",
     "output_type": "stream",
     "text": [
      "\n"
     ]
    },
    {
     "data": {
      "application/vnd.jupyter.widget-view+json": {
       "model_id": "4f0ea6a6a42141dca15f4b908c5710dd",
       "version_major": 2,
       "version_minor": 0
      },
      "text/plain": [
       "HBox(children=(FloatProgress(value=1.0, bar_style='info', max=1.0), HTML(value='')))"
      ]
     },
     "metadata": {},
     "output_type": "display_data"
    },
    {
     "name": "stdout",
     "output_type": "stream",
     "text": [
      "\n"
     ]
    },
    {
     "data": {
      "application/vnd.jupyter.widget-view+json": {
       "model_id": "471797711cef49f3a311e8aeda1ae0d8",
       "version_major": 2,
       "version_minor": 0
      },
      "text/plain": [
       "HBox(children=(FloatProgress(value=1.0, bar_style='info', max=1.0), HTML(value='')))"
      ]
     },
     "metadata": {},
     "output_type": "display_data"
    },
    {
     "name": "stdout",
     "output_type": "stream",
     "text": [
      "\n"
     ]
    },
    {
     "data": {
      "application/vnd.jupyter.widget-view+json": {
       "model_id": "ad403f8676ad4412b8922c049b398850",
       "version_major": 2,
       "version_minor": 0
      },
      "text/plain": [
       "HBox(children=(FloatProgress(value=1.0, bar_style='info', max=1.0), HTML(value='')))"
      ]
     },
     "metadata": {},
     "output_type": "display_data"
    },
    {
     "name": "stdout",
     "output_type": "stream",
     "text": [
      "\n"
     ]
    },
    {
     "data": {
      "application/vnd.jupyter.widget-view+json": {
       "model_id": "2a32860163af4683b258514bfbb47cdd",
       "version_major": 2,
       "version_minor": 0
      },
      "text/plain": [
       "HBox(children=(FloatProgress(value=1.0, bar_style='info', max=1.0), HTML(value='')))"
      ]
     },
     "metadata": {},
     "output_type": "display_data"
    },
    {
     "name": "stdout",
     "output_type": "stream",
     "text": [
      "\n"
     ]
    },
    {
     "data": {
      "application/vnd.jupyter.widget-view+json": {
       "model_id": "bc7223c5092b43dca4e361d3eea940a3",
       "version_major": 2,
       "version_minor": 0
      },
      "text/plain": [
       "HBox(children=(FloatProgress(value=1.0, bar_style='info', max=1.0), HTML(value='')))"
      ]
     },
     "metadata": {},
     "output_type": "display_data"
    },
    {
     "name": "stdout",
     "output_type": "stream",
     "text": [
      "\n"
     ]
    },
    {
     "data": {
      "application/vnd.jupyter.widget-view+json": {
       "model_id": "a5370a8e6b7e4fbab238e1baeed1117d",
       "version_major": 2,
       "version_minor": 0
      },
      "text/plain": [
       "HBox(children=(FloatProgress(value=1.0, bar_style='info', max=1.0), HTML(value='')))"
      ]
     },
     "metadata": {},
     "output_type": "display_data"
    },
    {
     "name": "stdout",
     "output_type": "stream",
     "text": [
      "\n"
     ]
    },
    {
     "data": {
      "application/vnd.jupyter.widget-view+json": {
       "model_id": "effe96264e124b7c8c5d84c9698fdf55",
       "version_major": 2,
       "version_minor": 0
      },
      "text/plain": [
       "HBox(children=(FloatProgress(value=1.0, bar_style='info', max=1.0), HTML(value='')))"
      ]
     },
     "metadata": {},
     "output_type": "display_data"
    },
    {
     "name": "stdout",
     "output_type": "stream",
     "text": [
      "\n"
     ]
    },
    {
     "data": {
      "application/vnd.jupyter.widget-view+json": {
       "model_id": "3a1577ba7a734186811248e03b25b265",
       "version_major": 2,
       "version_minor": 0
      },
      "text/plain": [
       "HBox(children=(FloatProgress(value=1.0, bar_style='info', max=1.0), HTML(value='')))"
      ]
     },
     "metadata": {},
     "output_type": "display_data"
    },
    {
     "name": "stdout",
     "output_type": "stream",
     "text": [
      "\n"
     ]
    },
    {
     "data": {
      "application/vnd.jupyter.widget-view+json": {
       "model_id": "bf1ec1dfcdaf44cd860d36cda7de1285",
       "version_major": 2,
       "version_minor": 0
      },
      "text/plain": [
       "HBox(children=(FloatProgress(value=1.0, bar_style='info', max=1.0), HTML(value='')))"
      ]
     },
     "metadata": {},
     "output_type": "display_data"
    },
    {
     "name": "stdout",
     "output_type": "stream",
     "text": [
      "\n"
     ]
    },
    {
     "data": {
      "application/vnd.jupyter.widget-view+json": {
       "model_id": "c937f2c5c95d4bda83907c92792b6196",
       "version_major": 2,
       "version_minor": 0
      },
      "text/plain": [
       "HBox(children=(FloatProgress(value=1.0, bar_style='info', max=1.0), HTML(value='')))"
      ]
     },
     "metadata": {},
     "output_type": "display_data"
    },
    {
     "name": "stdout",
     "output_type": "stream",
     "text": [
      "\n"
     ]
    },
    {
     "data": {
      "application/vnd.jupyter.widget-view+json": {
       "model_id": "2acc98e3412d4c89ab082919f6f0e017",
       "version_major": 2,
       "version_minor": 0
      },
      "text/plain": [
       "HBox(children=(FloatProgress(value=1.0, bar_style='info', max=1.0), HTML(value='')))"
      ]
     },
     "metadata": {},
     "output_type": "display_data"
    },
    {
     "name": "stdout",
     "output_type": "stream",
     "text": [
      "\n"
     ]
    },
    {
     "data": {
      "application/vnd.jupyter.widget-view+json": {
       "model_id": "64b182995461429dad2aef53b4eea482",
       "version_major": 2,
       "version_minor": 0
      },
      "text/plain": [
       "HBox(children=(FloatProgress(value=1.0, bar_style='info', max=1.0), HTML(value='')))"
      ]
     },
     "metadata": {},
     "output_type": "display_data"
    },
    {
     "name": "stdout",
     "output_type": "stream",
     "text": [
      "\n"
     ]
    },
    {
     "data": {
      "application/vnd.jupyter.widget-view+json": {
       "model_id": "f528b3f7a96a42a18f8a98c9a1621c4d",
       "version_major": 2,
       "version_minor": 0
      },
      "text/plain": [
       "HBox(children=(FloatProgress(value=1.0, bar_style='info', max=1.0), HTML(value='')))"
      ]
     },
     "metadata": {},
     "output_type": "display_data"
    },
    {
     "name": "stdout",
     "output_type": "stream",
     "text": [
      "\n"
     ]
    },
    {
     "data": {
      "application/vnd.jupyter.widget-view+json": {
       "model_id": "ca211ef867bb46acad0d96e085b03a2b",
       "version_major": 2,
       "version_minor": 0
      },
      "text/plain": [
       "HBox(children=(FloatProgress(value=1.0, bar_style='info', max=1.0), HTML(value='')))"
      ]
     },
     "metadata": {},
     "output_type": "display_data"
    },
    {
     "name": "stdout",
     "output_type": "stream",
     "text": [
      "\n"
     ]
    },
    {
     "data": {
      "application/vnd.jupyter.widget-view+json": {
       "model_id": "b8d1d72786944c3dbf17c4d154a95d86",
       "version_major": 2,
       "version_minor": 0
      },
      "text/plain": [
       "HBox(children=(FloatProgress(value=1.0, bar_style='info', max=1.0), HTML(value='')))"
      ]
     },
     "metadata": {},
     "output_type": "display_data"
    },
    {
     "name": "stdout",
     "output_type": "stream",
     "text": [
      "\n"
     ]
    },
    {
     "data": {
      "application/vnd.jupyter.widget-view+json": {
       "model_id": "3f292be5897546168374642e83b041dc",
       "version_major": 2,
       "version_minor": 0
      },
      "text/plain": [
       "HBox(children=(FloatProgress(value=1.0, bar_style='info', max=1.0), HTML(value='')))"
      ]
     },
     "metadata": {},
     "output_type": "display_data"
    },
    {
     "name": "stdout",
     "output_type": "stream",
     "text": [
      "\n"
     ]
    },
    {
     "data": {
      "application/vnd.jupyter.widget-view+json": {
       "model_id": "7b3ef7aa239c484784f37d9c0cf0a74f",
       "version_major": 2,
       "version_minor": 0
      },
      "text/plain": [
       "HBox(children=(FloatProgress(value=1.0, bar_style='info', max=1.0), HTML(value='')))"
      ]
     },
     "metadata": {},
     "output_type": "display_data"
    },
    {
     "name": "stdout",
     "output_type": "stream",
     "text": [
      "\n"
     ]
    },
    {
     "data": {
      "application/vnd.jupyter.widget-view+json": {
       "model_id": "aef3c348dc4d4495bddc922541601ad5",
       "version_major": 2,
       "version_minor": 0
      },
      "text/plain": [
       "HBox(children=(FloatProgress(value=1.0, bar_style='info', max=1.0), HTML(value='')))"
      ]
     },
     "metadata": {},
     "output_type": "display_data"
    },
    {
     "name": "stdout",
     "output_type": "stream",
     "text": [
      "\n"
     ]
    },
    {
     "data": {
      "application/vnd.jupyter.widget-view+json": {
       "model_id": "fde3da6c404e4040bfe2d12fee266c31",
       "version_major": 2,
       "version_minor": 0
      },
      "text/plain": [
       "HBox(children=(FloatProgress(value=1.0, bar_style='info', max=1.0), HTML(value='')))"
      ]
     },
     "metadata": {},
     "output_type": "display_data"
    },
    {
     "name": "stdout",
     "output_type": "stream",
     "text": [
      "\n",
      "\n",
      "building_time: 5394.830852031708\n"
     ]
    },
    {
     "name": "stderr",
     "output_type": "stream",
     "text": [
      "5427it [00:55, 98.06it/s] "
     ]
    },
    {
     "name": "stdout",
     "output_type": "stream",
     "text": [
      "cost_time: 81.27039074897766\n"
     ]
    },
    {
     "name": "stderr",
     "output_type": "stream",
     "text": [
      "\n"
     ]
    }
   ],
   "source": [
    "import time\n",
    "start_time=time.time()\n",
    "data_path='./squad_v2/train-v2.0.json'\n",
    "vocab_path=\"./pretrained_model/bert-base-uncased\"\n",
    "squad_dataset=SquadDataset(data_path=data_path,vocab_path=vocab_path)\n",
    "print('building_time:',time.time()-start_time)\n",
    "\n",
    "squad_dataloader=DataLoader(squad_dataset,batch_size=16,collate_fn=collate_func,num_workers=multiprocessing.cpu_count())\n",
    "\n",
    "start_time=time.time()\n",
    "device='cuda:0' if torch.cuda.is_available() else 'cpu'\n",
    "for i,batch in tqdm(enumerate(squad_dataloader)):\n",
    "    batch = tuple(t.to(device) for t in batch)\n",
    "    input_ids_padded,token_type_ids_padded,attention_mask_padded,labels=batch[0],batch[1],batch[2],batch[3]\n",
    "print('cost_time:',time.time()-start_time)\n"
   ]
  },
  {
   "cell_type": "code",
   "execution_count": 13,
   "metadata": {},
   "outputs": [],
   "source": [
    "from multiprocessing import Pool\n",
    "import multiprocessing\n",
    "import time\n",
    "import json\n",
    "import torch\n",
    "from torch.utils.data import Dataset\n",
    "from transformers import BertTokenizer\n",
    "class SquadDataset_new(Dataset):\n",
    "    def __init__(self,data_path,vocab_path,max_length=384):\n",
    "        super(SquadDataset_new,self).__init__()\n",
    "        self.data_path=data_path\n",
    "        self.data_samples=self.get_samples(data_path)\n",
    "        self.tokenizer=BertTokenizer.from_pretrained(vocab_path)\n",
    "        self.max_length=max_length\n",
    "    def get_examples_from_data(self,data):\n",
    "        examples=[]\n",
    "        title=data['title']\n",
    "        for paragraph in data['paragraphs']:\n",
    "            context=paragraph['context']\n",
    "            for qa in paragraph['qas']:\n",
    "                qid=qa['id']\n",
    "                question=qa['question']\n",
    "                is_impossible=qa['is_impossible']\n",
    "                if is_impossible:\n",
    "                    current_example={'qas_id':qid,'question_text':question,'context_text':context,'is_impossible':is_impossible,'answer_text':''}\n",
    "                    examples.append(current_example)\n",
    "                else:\n",
    "                    for answer in qa['answers']:\n",
    "                        text=answer['text']    \n",
    "                        answer=answer['answer_start']\n",
    "                        current_example={'qas_id':qid,'question_text':question,'context_text':context,'is_impossible':is_impossible,'answer_text':text}\n",
    "                        examples.append(current_example)\n",
    "        return examples\n",
    "    def get_samples(self,data_path):\n",
    "        with open(data_path,'r',encoding='utf-8') as f:\n",
    "            dataset=json.load(f)\n",
    "            all_data=dataset['data']\n",
    "        processor=multiprocessing.cpu_count()\n",
    "        p=Pool(processor)\n",
    "        result_list=p.map(self.get_examples_from_data,all_data)\n",
    "        all_examples=[]\n",
    "        for examples in result_list:\n",
    "            all_examples+=examples\n",
    "        p.close()\n",
    "        return all_examples\n",
    "    def get_answer_start(self,answer_ids,sequence_ids):\n",
    "        for i in range(len(sequence_ids)):\n",
    "            if sequence_ids[i:i+len(answer_ids)]==answer_ids:\n",
    "                return i\n",
    "        return -1\n",
    "    def __getitem__(self,i):\n",
    "        \n",
    "        qid=self.data_samples[i]['qas_id']\n",
    "        question=self.data_samples[i]['question_text']\n",
    "        context=self.data_samples[i]['context_text']\n",
    "        answer=self.data_samples[i]['answer_text']\n",
    "        output=self.tokenizer.encode_plus(question,context,add_special_tokens=True,max_length=self.max_length,truncation=True)\n",
    "        pure_answer_ids=self.tokenizer.encode(answer)[1:-1]\n",
    "        start=self.get_answer_start(pure_answer_ids,output['input_ids'])\n",
    "        if start!=-1:\n",
    "            label=(start,start+len(pure_answer_ids)-1)\n",
    "        else:\n",
    "            label=(0,0)\n",
    "        return output,label\n",
    "    def __len__(self):\n",
    "        return len(self.data_samples)\n",
    "def collate_func(batch):\n",
    "    def padding(indices,max_length,pad_idx=0):\n",
    "        pad_indices=[item+[pad_idx]*max(0,max_length-len(item)) for item in indices]\n",
    "        return torch.tensor(pad_indices)\n",
    "#     input_ids=[output['input_ids'] for output,label in batch]\n",
    "#     max_length=max([len(t) for t in input_ids])\n",
    "#     labels=torch.tensor([label for output,label in batch])\n",
    "#     token_type_ids=[output['token_type_ids'] for output,label in batch]\n",
    "#     attention_mask=[output['attention_mask'] for output,label in batch]\n",
    "    \n",
    "    result=[(output['input_ids'],output['token_type_ids'],output['attention_mask'],label) for output,label in batch]\n",
    "    input_ids,token_type_ids,attention_mask,labels=zip(*result)\n",
    "    labels=torch.tensor(labels)\n",
    "    max_length=max([len(t) for t in input_ids])\n",
    "    \n",
    "    input_ids_padded=padding(input_ids,max_length)\n",
    "    token_type_ids_padded=padding(token_type_ids,max_length)\n",
    "    attention_mask_padded=padding(attention_mask,max_length)\n",
    "    return input_ids_padded,token_type_ids_padded,attention_mask_padded,labels"
   ]
  },
  {
   "cell_type": "code",
   "execution_count": 14,
   "metadata": {},
   "outputs": [
    {
     "name": "stdout",
     "output_type": "stream",
     "text": [
      "building_time: 30.461516857147217\n"
     ]
    },
    {
     "name": "stderr",
     "output_type": "stream",
     "text": [
      "8145it [01:17, 105.55it/s]"
     ]
    },
    {
     "name": "stdout",
     "output_type": "stream",
     "text": [
      "cost_time: 106.3412778377533\n"
     ]
    },
    {
     "name": "stderr",
     "output_type": "stream",
     "text": [
      "\n"
     ]
    }
   ],
   "source": [
    "import time\n",
    "start_time=time.time()\n",
    "data_path='./squad_v2/train-v2.0.json'\n",
    "vocab_path=\"./pretrained_model/bert-base-uncased\"\n",
    "squad_dataset=SquadDataset_new(data_path=data_path,vocab_path=vocab_path)\n",
    "print('building_time:',time.time()-start_time)\n",
    "processor=multiprocessing.cpu_count()\n",
    "squad_dataloader=DataLoader(squad_dataset,batch_size=16,collate_fn=collate_func,num_workers=processor)\n",
    "\n",
    "start_time=time.time()\n",
    "device='cuda:0' if torch.cuda.is_available() else 'cpu'\n",
    "for i,batch in tqdm(enumerate(squad_dataloader)):\n",
    "    batch = tuple(t.to(device) for t in batch)\n",
    "    input_ids_padded,token_type_ids_padded,attention_mask_padded,labels=batch[0],batch[1],batch[2],batch[3]\n",
    "print('cost_time:',time.time()-start_time)"
   ]
  },
  {
   "cell_type": "markdown",
   "metadata": {},
   "source": [
    "Python多进程进行文件预处理\n",
    "https://blog.csdn.net/mingo220/article/details/105372025"
   ]
  },
  {
   "cell_type": "markdown",
   "metadata": {},
   "source": [
    "# Building a new dataset by python yield way"
   ]
  },
  {
   "cell_type": "code",
   "execution_count": 15,
   "metadata": {},
   "outputs": [],
   "source": [
    "from multiprocessing import Pool\n",
    "import multiprocessing\n",
    "import time\n",
    "import json\n",
    "import torch\n",
    "from torch.utils.data import Dataset\n",
    "from transformers import BertTokenizer\n",
    "import time\n",
    "from tqdm import tqdm\n",
    "import math\n",
    "\n",
    "class SquadDataset2():\n",
    "    def __init__(self,data_path,vocab_path,max_length=384,batch_size=16):\n",
    "        self.data_path=data_path\n",
    "        self.tokenizer=BertTokenizer.from_pretrained(vocab_path)\n",
    "        self.data_samples=self.get_samples(data_path)\n",
    "        self.max_length=max_length\n",
    "        self.batch_size=batch_size\n",
    "        self.total_samples=len(self.data_samples)\n",
    "        self.total_batches=self.total_samples//self.batch_size if self.total_samples%self.batch_size==0 else self.total_samples//self.batch_size+1\n",
    "    def get_examples_from_data(self,data):\n",
    "        examples=[]\n",
    "        title=data['title']\n",
    "        for paragraph in data['paragraphs']:\n",
    "            context=paragraph['context']\n",
    "            for qa in paragraph['qas']:\n",
    "                qid=qa['id']\n",
    "                question=qa['question']\n",
    "                is_impossible=qa['is_impossible']\n",
    "                if is_impossible:\n",
    "                    current_example={'qas_id':qid,'question_text':question,'context_text':context,'is_impossible':is_impossible,'answer_text':''}\n",
    "                    examples.append(current_example)\n",
    "                else:\n",
    "                    for answer in qa['answers']:\n",
    "                        text=answer['text']    \n",
    "                        answer=answer['answer_start']\n",
    "                        current_example={'qas_id':qid,'question_text':question,'context_text':context,'is_impossible':is_impossible,'answer_text':text}\n",
    "                        examples.append(current_example)\n",
    "        return examples\n",
    "    def get_samples(self,data_path):\n",
    "        with open(data_path,'r',encoding='utf-8') as f:\n",
    "            dataset=json.load(f)\n",
    "            all_data=dataset['data']\n",
    "        processor=multiprocessing.cpu_count()\n",
    "        p=Pool(processor//2)\n",
    "        result_list=p.map(self.get_examples_from_data,all_data)\n",
    "        all_examples=[]\n",
    "        for examples in result_list:\n",
    "            all_examples+=examples\n",
    "        p.close()\n",
    "        return all_examples\n",
    "    def get_answer_start(self,answer_ids,sequence_ids):\n",
    "        for i in range(len(sequence_ids)):\n",
    "            if sequence_ids[i:i+len(answer_ids)]==answer_ids:\n",
    "                return i\n",
    "        return -1\n",
    "    def get_answer_position(self,example):\n",
    "        question,context,answer=example['question_text'],example['context_text'],example['answer_text']\n",
    "        output=self.tokenizer.encode_plus(question,context,add_special_tokens=True,max_length=self.max_length,truncation=True)\n",
    "        pure_answer_ids=self.tokenizer.encode(answer)[1:-1]\n",
    "        start=self.get_answer_start(pure_answer_ids,output['input_ids'])\n",
    "        if start!=-1:\n",
    "            label=(start,start+len(pure_answer_ids)-1)\n",
    "        else:\n",
    "            label=(0,0)\n",
    "        return output,label\n",
    "    def get_output_from_example(self,example):\n",
    "        def padding(indices,max_length,pad_idx=0):\n",
    "            pad_indices=indices+[pad_idx]*max(0,max_length-len(indices))\n",
    "            return pad_indices\n",
    "        question,context,text=example['question_text'],example['context_text'],example['answer_text']\n",
    "        output,label=self.get_answer_position(question,context,text)\n",
    "        input_ids,token_type_ids,attention_mask=output['input_ids'],output['token_type_ids'],output['attention_mask']\n",
    "\n",
    "        input_ids_padded=padding(input_ids,self.max_length)\n",
    "        token_type_ids_padded=padding(token_type_ids,self.max_length)\n",
    "        attention_mask_padded=padding(attention_mask,self.max_length)\n",
    "        return input_ids_padded,token_type_ids_padded,attention_mask_padded,label\n",
    "#     def process_func(data, index, size):  # data 传入数据，index 数据分片索引，size进程数\n",
    "#         size = math.ceil(len(data) / size)\n",
    "#         start = size * index\n",
    "#         end = (index + 1) * size if (index + 1) * size < len(data) else len(data)\n",
    "#         temp_data = data[start:end]\n",
    "        \n",
    "#         return get_new_examples(temp_data)\n",
    "    def collate_func(self,batch):\n",
    "        def padding(indices,max_length,pad_idx=0):\n",
    "            pad_indices=[item+[pad_idx]*max(0,max_length-len(item)) for item in indices]\n",
    "            return pad_indices\n",
    "    #     input_ids=[output['input_ids'] for output,label in batch]\n",
    "    #     max_length=max([len(t) for t in input_ids])\n",
    "    #     labels=torch.tensor([label for output,label in batch])\n",
    "    #     token_type_ids=[output['token_type_ids'] for output,label in batch]\n",
    "    #     attention_mask=[output['attention_mask'] for output,label in batch]\n",
    "\n",
    "        result=[(output['input_ids'],output['token_type_ids'],output['attention_mask'],label) for (output,label) in batch]\n",
    "        input_ids,token_type_ids,attention_mask,labels=zip(*result)\n",
    "        labels=labels\n",
    "        max_length=max([len(t) for t in input_ids])\n",
    "\n",
    "        input_ids_padded=padding(input_ids,max_length)\n",
    "        token_type_ids_padded=padding(token_type_ids,max_length)\n",
    "        attention_mask_padded=padding(attention_mask,max_length)\n",
    "        return input_ids_padded,token_type_ids_padded,attention_mask_padded,labels\n",
    "    def get_batched_data(self):\n",
    "        for index in tqdm(range(self.total_batches)):\n",
    "            start = self.batch_size * index\n",
    "            end = (index + 1) * self.batch_size if (index + 1) * self.batch_size < self.total_samples else self.total_samples\n",
    "            temp_data = self.data_samples[start:end]\n",
    "            # processor=multiprocessing.cpu_count()\n",
    "            # p=Pool(processor)\n",
    "            batch=map(self.get_answer_position,temp_data)\n",
    "            # p.close()\n",
    "            input_ids_batched,token_type_ids_batched,attention_mask_batched,labels_batched=self.collate_func(batch)\n",
    "            yield torch.tensor(input_ids_batched),torch.tensor(token_type_ids_batched),torch.tensor(attention_mask_batched),torch.tensor(labels_batched)"
   ]
  },
  {
   "cell_type": "code",
   "execution_count": 16,
   "metadata": {},
   "outputs": [
    {
     "name": "stderr",
     "output_type": "stream",
     "text": [
      "0it [00:00, ?it/s]\n",
      "  0%|          | 0/8145 [00:00<?, ?it/s]\u001b[A"
     ]
    },
    {
     "name": "stdout",
     "output_type": "stream",
     "text": [
      "building_time: 36.52268075942993\n"
     ]
    },
    {
     "name": "stderr",
     "output_type": "stream",
     "text": [
      "1it [00:00,  3.53it/s]\n",
      "  0%|          | 1/8145 [00:00<30:27,  4.46it/s]\u001b[A"
     ]
    },
    {
     "name": "stdout",
     "output_type": "stream",
     "text": [
      "torch.Size([16, 250]) torch.Size([16, 2])\n"
     ]
    },
    {
     "name": "stderr",
     "output_type": "stream",
     "text": [
      "2it [00:00,  3.53it/s]\n",
      "3it [00:00,  3.70it/s]5 [00:00<33:02,  4.11it/s]\u001b[A\n",
      "4it [00:00,  4.16it/s]5 [00:00<32:49,  4.14it/s]\u001b[A\n",
      "5it [00:01,  3.91it/s]5 [00:00<29:44,  4.56it/s]\u001b[A\n",
      "6it [00:01,  4.23it/s]5 [00:01<32:40,  4.15it/s]\u001b[A\n",
      "7it [00:01,  4.79it/s]5 [00:01<30:38,  4.43it/s]\u001b[A\n",
      "8it [00:01,  5.41it/s]5 [00:01<27:18,  4.97it/s]\u001b[A\n",
      "9it [00:01,  5.73it/s]5 [00:01<24:22,  5.56it/s]\u001b[A\n",
      "10it [00:02,  6.31it/s] [00:01<23:10,  5.85it/s]\u001b[A\n",
      "11it [00:02,  6.39it/s]5 [00:01<21:09,  6.41it/s]\u001b[A\n",
      "12it [00:02,  6.12it/s]5 [00:02<20:57,  6.47it/s]\u001b[A\n",
      "14it [00:02,  7.55it/s]5 [00:02<21:58,  6.17it/s]\u001b[A\n",
      "16it [00:02,  8.29it/s]5 [00:02<17:49,  7.61it/s]\u001b[A\n",
      "17it [00:02,  8.28it/s]5 [00:02<16:16,  8.33it/s]\u001b[A\n",
      "18it [00:02,  8.33it/s]5 [00:02<16:17,  8.31it/s]\u001b[A\n",
      "19it [00:03,  6.95it/s]5 [00:02<16:13,  8.35it/s]\u001b[A\n",
      "20it [00:03,  7.27it/s]5 [00:03<19:27,  6.96it/s]\u001b[A\n",
      "21it [00:03,  7.61it/s]5 [00:03<18:36,  7.28it/s]\u001b[A\n",
      "22it [00:03,  7.92it/s]5 [00:03<17:46,  7.61it/s]\u001b[A\n",
      "23it [00:03,  8.08it/s]5 [00:03<17:05,  7.92it/s]\u001b[A\n",
      "25it [00:03,  8.34it/s]5 [00:03<16:44,  8.08it/s]\u001b[A\n",
      "26it [00:03,  6.84it/s]5 [00:03<16:12,  8.35it/s]\u001b[A\n",
      "27it [00:04,  7.47it/s]5 [00:03<19:48,  6.83it/s]\u001b[A\n",
      "28it [00:04,  7.90it/s]5 [00:04<18:06,  7.47it/s]\u001b[A\n",
      "29it [00:04,  8.01it/s]5 [00:04<17:07,  7.90it/s]\u001b[A\n",
      "30it [00:04,  8.10it/s]5 [00:04<16:54,  8.00it/s]\u001b[A\n",
      "31it [00:04,  8.36it/s]5 [00:04<16:40,  8.11it/s]\u001b[A\n",
      "32it [00:04,  8.68it/s]5 [00:04<16:10,  8.36it/s]\u001b[A\n",
      "34it [00:04,  9.17it/s]5 [00:04<15:35,  8.67it/s]\u001b[A\n",
      "36it [00:05,  9.69it/s]5 [00:04<14:44,  9.17it/s]\u001b[A\n",
      "37it [00:05,  8.65it/s]5 [00:04<13:57,  9.68it/s]\u001b[A\n",
      "38it [00:05,  7.85it/s]5 [00:05<15:37,  8.65it/s]\u001b[A\n",
      "39it [00:05,  7.22it/s]5 [00:05<17:13,  7.85it/s]\u001b[A\n",
      "40it [00:05,  7.04it/s]5 [00:05<18:42,  7.22it/s]\u001b[A\n",
      "41it [00:05,  7.64it/s]5 [00:05<19:10,  7.04it/s]\u001b[A\n",
      "43it [00:05,  8.72it/s]5 [00:05<17:39,  7.65it/s]\u001b[A\n",
      "44it [00:06,  8.38it/s]5 [00:05<15:29,  8.72it/s]\u001b[A\n",
      "45it [00:06,  8.59it/s]5 [00:05<16:06,  8.38it/s]\u001b[A\n",
      "47it [00:06,  7.95it/s]5 [00:06<15:43,  8.59it/s]\u001b[A\n",
      "48it [00:06,  6.98it/s]5 [00:06<16:58,  7.95it/s]\u001b[A\n",
      "49it [00:06,  7.09it/s]5 [00:06<19:18,  6.99it/s]\u001b[A\n",
      "50it [00:06,  7.12it/s]5 [00:06<19:01,  7.09it/s]\u001b[A\n",
      "51it [00:06,  7.79it/s]5 [00:06<18:56,  7.12it/s]\u001b[A\n",
      "53it [00:07,  8.47it/s]5 [00:06<17:18,  7.79it/s]\u001b[A\n",
      "55it [00:07,  9.08it/s]5 [00:07<15:55,  8.47it/s]\u001b[A\n",
      "56it [00:07,  8.37it/s]5 [00:07<14:51,  9.08it/s]\u001b[A\n",
      "57it [00:07,  8.44it/s]5 [00:07<16:06,  8.37it/s]\u001b[A\n",
      "58it [00:07,  8.48it/s]5 [00:07<15:58,  8.43it/s]\u001b[A\n",
      "59it [00:07,  8.47it/s]5 [00:07<15:54,  8.47it/s]\u001b[A\n",
      "60it [00:07,  8.38it/s]5 [00:07<15:54,  8.47it/s]\u001b[A\n",
      "61it [00:08,  7.92it/s]5 [00:07<16:04,  8.38it/s]\u001b[A\n",
      "63it [00:08,  8.61it/s]5 [00:08<17:00,  7.92it/s]\u001b[A\n",
      "64it [00:08,  7.08it/s]5 [00:08<15:38,  8.61it/s]\u001b[A\n",
      "65it [00:08,  5.84it/s]5 [00:08<19:01,  7.08it/s]\u001b[A\n",
      "66it [00:08,  6.47it/s]5 [00:08<23:03,  5.84it/s]\u001b[A\n",
      "67it [00:09,  6.15it/s]5 [00:08<20:48,  6.47it/s]\u001b[A\n",
      "68it [00:09,  6.03it/s]5 [00:08<21:52,  6.15it/s]\u001b[A\n",
      "69it [00:09,  6.46it/s]5 [00:09<22:20,  6.03it/s]\u001b[A\n",
      "70it [00:09,  7.12it/s]5 [00:09<20:50,  6.46it/s]\u001b[A\n",
      "72it [00:09,  7.46it/s]5 [00:09<18:53,  7.12it/s]\u001b[A\n",
      "73it [00:09,  7.87it/s]5 [00:09<18:01,  7.46it/s]\u001b[A\n",
      "75it [00:09,  9.27it/s]5 [00:09<17:04,  7.88it/s]\u001b[A\n",
      "77it [00:10, 10.02it/s]5 [00:09<14:30,  9.27it/s]\u001b[A\n",
      "79it [00:10, 10.20it/s]5 [00:10<13:25, 10.02it/s]\u001b[A\n",
      "81it [00:10, 10.44it/s]5 [00:10<13:10, 10.20it/s]\u001b[A\n",
      "83it [00:10, 10.59it/s]5 [00:10<12:52, 10.44it/s]\u001b[A\n",
      "85it [00:10, 10.59it/s]5 [00:10<12:41, 10.59it/s]\u001b[A\n",
      "87it [00:11, 10.74it/s]5 [00:10<12:41, 10.59it/s]\u001b[A\n",
      "89it [00:11,  9.48it/s]5 [00:10<12:30, 10.74it/s]\u001b[A\n",
      "90it [00:11,  9.04it/s]5 [00:11<14:09,  9.48it/s]\u001b[A\n",
      "91it [00:11,  8.92it/s]5 [00:11<14:51,  9.03it/s]\u001b[A\n",
      "93it [00:11,  9.02it/s]5 [00:11<15:03,  8.92it/s]\u001b[A\n",
      "95it [00:11,  9.21it/s]5 [00:11<14:53,  9.02it/s]\u001b[A\n",
      "96it [00:12,  7.82it/s]5 [00:11<14:34,  9.21it/s]\u001b[A\n",
      "97it [00:12,  7.88it/s]5 [00:12<17:09,  7.82it/s]\u001b[A\n",
      "99it [00:12,  8.50it/s]5 [00:12<17:01,  7.88it/s]\u001b[A\n",
      "100it [00:12,  8.87it/s] [00:12<15:47,  8.50it/s]\u001b[A\n",
      "101it [00:12,  8.63it/s]5 [00:12<15:07,  8.87it/s]\u001b[A\n",
      "102it [00:12,  8.08it/s]5 [00:12<15:31,  8.63it/s]\u001b[A\n",
      "103it [00:12,  7.21it/s]5 [00:12<16:35,  8.08it/s]\u001b[A\n",
      "104it [00:13,  6.67it/s]5 [00:12<18:35,  7.21it/s]\u001b[A\n",
      "105it [00:13,  7.06it/s]5 [00:13<20:05,  6.67it/s]\u001b[A\n",
      "106it [00:13,  7.07it/s]5 [00:13<18:58,  7.06it/s]\u001b[A\n",
      "107it [00:13,  7.46it/s]5 [00:13<18:56,  7.07it/s]\u001b[A\n",
      "108it [00:13,  6.92it/s]5 [00:13<17:57,  7.46it/s]\u001b[A\n",
      "109it [00:13,  6.90it/s]5 [00:13<19:20,  6.92it/s]\u001b[A\n",
      "111it [00:14,  7.89it/s]5 [00:13<19:25,  6.90it/s]\u001b[A\n",
      "112it [00:14,  7.20it/s]5 [00:13<16:59,  7.88it/s]\u001b[A\n",
      "114it [00:14,  7.91it/s]5 [00:14<18:36,  7.20it/s]\u001b[A\n",
      "116it [00:14,  8.64it/s]5 [00:14<16:55,  7.91it/s]\u001b[A\n",
      "118it [00:14,  8.91it/s]5 [00:14<15:29,  8.64it/s]\u001b[A\n",
      "119it [00:14,  8.73it/s]5 [00:14<15:02,  8.89it/s]\u001b[A\n",
      "120it [00:15,  7.30it/s]5 [00:14<15:16,  8.75it/s]\u001b[A\n",
      "122it [00:15,  7.84it/s]5 [00:15<18:19,  7.30it/s]\u001b[A\n",
      "123it [00:15,  7.20it/s]5 [00:15<17:03,  7.84it/s]\u001b[A\n",
      "124it [00:15,  7.82it/s]5 [00:15<18:34,  7.20it/s]\u001b[A\n",
      "126it [00:15,  7.86it/s]5 [00:15<17:03,  7.84it/s]\u001b[A\n",
      "128it [00:15,  8.54it/s]5 [00:15<16:58,  7.87it/s]\u001b[A\n",
      "130it [00:16,  8.03it/s]5 [00:15<15:36,  8.56it/s]\u001b[A\n",
      "131it [00:16,  8.35it/s]5 [00:16<16:44,  7.98it/s]\u001b[A\n",
      "132it [00:16,  7.33it/s]5 [00:16<15:48,  8.45it/s]\u001b[A\n",
      "133it [00:16,  6.65it/s]5 [00:16<18:08,  7.36it/s]\u001b[A\n",
      "134it [00:16,  7.34it/s]5 [00:16<19:58,  6.69it/s]\u001b[A\n",
      "135it [00:16,  7.70it/s]5 [00:16<18:08,  7.36it/s]\u001b[A\n",
      "137it [00:17,  8.19it/s]5 [00:16<17:16,  7.72it/s]\u001b[A\n",
      "138it [00:17,  6.60it/s]5 [00:17<16:15,  8.21it/s]\u001b[A\n",
      "139it [00:17,  5.31it/s]5 [00:17<20:39,  6.46it/s]\u001b[A\n",
      "140it [00:17,  4.67it/s]5 [00:17<25:09,  5.30it/s]\u001b[A\n",
      "141it [00:18,  4.93it/s]5 [00:17<28:35,  4.67it/s]\u001b[A\n",
      "142it [00:18,  4.17it/s]5 [00:18<27:14,  4.90it/s]\u001b[A\n",
      "143it [00:18,  4.86it/s]5 [00:18<31:49,  4.19it/s]\u001b[A\n",
      "144it [00:18,  5.11it/s]5 [00:18<27:15,  4.89it/s]\u001b[A\n",
      "145it [00:18,  4.74it/s]5 [00:18<25:58,  5.13it/s]\u001b[A\n",
      "146it [00:19,  4.99it/s]5 [00:18<28:23,  4.70it/s]\u001b[A\n",
      "148it [00:19,  6.07it/s]5 [00:19<26:34,  5.02it/s]\u001b[A\n",
      "150it [00:19,  6.82it/s]5 [00:19<22:06,  6.03it/s]\u001b[A\n",
      "151it [00:19,  6.19it/s]5 [00:19<19:21,  6.88it/s]\u001b[A\n",
      "153it [00:19,  7.19it/s]5 [00:19<21:25,  6.22it/s]\u001b[A\n",
      "155it [00:20,  7.87it/s]5 [00:19<18:27,  7.22it/s]\u001b[A\n",
      "156it [00:20,  7.70it/s]5 [00:20<16:51,  7.90it/s]\u001b[A\n",
      "158it [00:20,  8.12it/s]5 [00:20<17:14,  7.72it/s]\u001b[A\n",
      "159it [00:20,  7.24it/s]5 [00:20<16:22,  8.13it/s]\u001b[A\n",
      "160it [00:20,  7.19it/s]5 [00:20<18:20,  7.26it/s]\u001b[A\n",
      "162it [00:20,  7.80it/s]5 [00:20<18:28,  7.20it/s]\u001b[A\n",
      "164it [00:21,  8.43it/s]5 [00:20<17:02,  7.81it/s]\u001b[A\n",
      "166it [00:21,  8.94it/s]5 [00:21<15:46,  8.43it/s]\u001b[A\n",
      "167it [00:21,  7.82it/s]5 [00:21<14:51,  8.95it/s]\u001b[A\n",
      "168it [00:21,  6.92it/s]5 [00:21<16:59,  7.83it/s]\u001b[A\n",
      "170it [00:21,  7.54it/s]5 [00:21<19:13,  6.92it/s]\u001b[A\n",
      "172it [00:22,  8.34it/s]5 [00:21<17:38,  7.53it/s]\u001b[A\n",
      "174it [00:22,  9.34it/s]5 [00:22<15:55,  8.34it/s]\u001b[A\n",
      "176it [00:22, 10.34it/s]5 [00:22<14:13,  9.34it/s]\u001b[A\n",
      "178it [00:22,  8.54it/s]5 [00:22<12:50, 10.34it/s]\u001b[A\n",
      "179it [00:22,  8.22it/s]5 [00:22<15:32,  8.54it/s]\u001b[A\n",
      "180it [00:23,  6.53it/s]5 [00:22<16:08,  8.22it/s]\u001b[A\n",
      "181it [00:23,  6.80it/s]5 [00:23<20:20,  6.53it/s]\u001b[A\n",
      "183it [00:23,  7.81it/s]5 [00:23<19:30,  6.80it/s]\u001b[A\n",
      "185it [00:23,  8.09it/s]5 [00:23<16:59,  7.81it/s]\u001b[A\n",
      "187it [00:23,  8.54it/s]5 [00:23<16:24,  8.09it/s]\u001b[A\n",
      "188it [00:23,  8.89it/s]5 [00:23<15:32,  8.54it/s]\u001b[A\n",
      "190it [00:24,  9.70it/s]5 [00:23<14:53,  8.90it/s]\u001b[A\n",
      "192it [00:24,  9.95it/s]5 [00:24<13:39,  9.71it/s]\u001b[A\n",
      "194it [00:24, 10.03it/s]5 [00:24<13:19,  9.95it/s]\u001b[A\n",
      "196it [00:24, 10.53it/s]5 [00:24<13:12, 10.03it/s]\u001b[A\n",
      "198it [00:24, 10.73it/s]5 [00:24<12:34, 10.53it/s]\u001b[A\n",
      "200it [00:24, 12.23it/s]5 [00:24<12:21, 10.72it/s]\u001b[A\n",
      "202it [00:25, 11.16it/s]5 [00:24<10:49, 12.24it/s]\u001b[A\n",
      "204it [00:25, 10.93it/s]5 [00:25<11:51, 11.17it/s]\u001b[A\n",
      "206it [00:25, 11.17it/s]5 [00:25<12:06, 10.93it/s]\u001b[A\n",
      "208it [00:25, 10.28it/s]5 [00:25<11:50, 11.18it/s]\u001b[A\n",
      "210it [00:25,  9.97it/s]5 [00:25<12:52, 10.27it/s]\u001b[A\n",
      "212it [00:26, 10.02it/s]5 [00:25<13:16,  9.96it/s]\u001b[A\n",
      "214it [00:26, 10.90it/s]5 [00:26<13:11, 10.02it/s]\u001b[A\n",
      "216it [00:26,  9.61it/s]5 [00:26<12:07, 10.90it/s]\u001b[A\n",
      "218it [00:26, 10.13it/s]5 [00:26<13:44,  9.61it/s]\u001b[A\n",
      "220it [00:26, 10.64it/s]5 [00:26<13:02, 10.13it/s]\u001b[A\n",
      "222it [00:27, 10.76it/s]5 [00:26<12:24, 10.64it/s]\u001b[A\n",
      "224it [00:27, 10.11it/s]5 [00:27<12:16, 10.76it/s]\u001b[A\n",
      "226it [00:27, 10.54it/s]5 [00:27<13:03, 10.11it/s]\u001b[A\n",
      "228it [00:27, 10.51it/s]5 [00:27<12:31, 10.54it/s]\u001b[A\n",
      "230it [00:27, 10.72it/s]5 [00:27<12:33, 10.51it/s]\u001b[A\n",
      "232it [00:28, 10.00it/s]5 [00:27<12:18, 10.72it/s]\u001b[A\n",
      "234it [00:28, 10.17it/s]5 [00:27<13:11, 10.00it/s]\u001b[A\n",
      "236it [00:28, 10.38it/s]5 [00:28<12:57, 10.17it/s]\u001b[A\n",
      "238it [00:28,  8.83it/s]5 [00:28<12:41, 10.39it/s]\u001b[A\n",
      "240it [00:28,  9.23it/s]5 [00:28<14:55,  8.83it/s]\u001b[A\n",
      "242it [00:29,  9.63it/s]5 [00:28<14:16,  9.22it/s]\u001b[A\n",
      "243it [00:29,  8.16it/s]5 [00:29<13:40,  9.63it/s]\u001b[A\n",
      "245it [00:29,  8.68it/s]5 [00:29<16:08,  8.16it/s]\u001b[A\n",
      "246it [00:29,  8.59it/s]5 [00:29<15:09,  8.68it/s]\u001b[A\n",
      "248it [00:29,  9.09it/s]5 [00:29<15:19,  8.59it/s]\u001b[A\n",
      "250it [00:29,  9.56it/s]5 [00:29<14:28,  9.09it/s]\u001b[A\n",
      "252it [00:30,  9.88it/s]5 [00:29<13:45,  9.56it/s]\u001b[A\n",
      "254it [00:30,  9.32it/s]5 [00:30<13:18,  9.88it/s]\u001b[A\n",
      "255it [00:30,  8.18it/s]5 [00:30<14:06,  9.33it/s]\u001b[A\n",
      "256it [00:30,  7.88it/s]5 [00:30<16:04,  8.18it/s]\u001b[A\n",
      "257it [00:30,  8.32it/s]5 [00:30<16:41,  7.88it/s]\u001b[A\n",
      "258it [00:30,  8.33it/s]5 [00:30<15:48,  8.32it/s]\u001b[A\n",
      "259it [00:31,  7.92it/s]5 [00:30<15:48,  8.32it/s]\u001b[A\n",
      "260it [00:31,  7.92it/s]5 [00:31<16:35,  7.92it/s]\u001b[A\n",
      "262it [00:31,  8.25it/s]5 [00:31<16:35,  7.92it/s]\u001b[A\n",
      "263it [00:31,  7.38it/s]5 [00:31<15:54,  8.26it/s]\u001b[A\n",
      "264it [00:31,  6.95it/s]5 [00:31<17:51,  7.36it/s]\u001b[A\n",
      "265it [00:31,  7.28it/s]5 [00:31<19:02,  6.90it/s]\u001b[A\n",
      "266it [00:31,  7.32it/s]5 [00:31<17:58,  7.30it/s]\u001b[A\n",
      "267it [00:32,  6.73it/s]5 [00:31<18:18,  7.18it/s]\u001b[A\n",
      "268it [00:32,  6.84it/s]5 [00:32<19:31,  6.72it/s]\u001b[A\n",
      "269it [00:32,  7.25it/s]5 [00:32<19:02,  6.89it/s]\u001b[A\n",
      "270it [00:32,  7.10it/s]5 [00:32<18:01,  7.28it/s]\u001b[A\n",
      "271it [00:32,  6.14it/s]5 [00:32<18:25,  7.13it/s]\u001b[A\n",
      "272it [00:32,  6.18it/s]5 [00:32<21:22,  6.14it/s]\u001b[A\n",
      "273it [00:33,  5.01it/s]5 [00:32<21:10,  6.20it/s]\u001b[A\n",
      "274it [00:33,  5.56it/s]5 [00:33<26:14,  5.00it/s]\u001b[A\n",
      "275it [00:33,  5.59it/s]5 [00:33<23:39,  5.55it/s]\u001b[A\n",
      "276it [00:33,  5.57it/s]5 [00:33<23:25,  5.60it/s]\u001b[A\n",
      "277it [00:33,  5.62it/s]5 [00:33<23:33,  5.57it/s]\u001b[A\n",
      "278it [00:34,  5.94it/s]5 [00:33<23:17,  5.63it/s]\u001b[A\n",
      "279it [00:34,  6.14it/s]5 [00:33<22:01,  5.95it/s]\u001b[A\n",
      "280it [00:34,  6.18it/s]5 [00:34<21:26,  6.11it/s]\u001b[A\n",
      "281it [00:34,  6.57it/s]5 [00:34<21:09,  6.20it/s]\u001b[A\n",
      "282it [00:34,  7.27it/s]5 [00:34<20:02,  6.54it/s]\u001b[A\n",
      "284it [00:34,  8.06it/s]5 [00:34<17:57,  7.30it/s]\u001b[A\n",
      "285it [00:34,  7.92it/s]5 [00:34<16:12,  8.08it/s]\u001b[A\n",
      "286it [00:35,  7.22it/s]5 [00:34<16:29,  7.94it/s]\u001b[A\n",
      "287it [00:35,  7.60it/s]5 [00:35<18:07,  7.23it/s]\u001b[A\n",
      "288it [00:35,  7.92it/s]5 [00:35<17:12,  7.61it/s]\u001b[A\n",
      "289it [00:35,  7.85it/s]5 [00:35<16:31,  7.93it/s]\u001b[A\n",
      "290it [00:35,  7.66it/s]5 [00:35<16:39,  7.86it/s]\u001b[A\n",
      "291it [00:35,  7.80it/s]5 [00:35<17:04,  7.67it/s]\u001b[A\n",
      "293it [00:35,  8.61it/s]5 [00:35<16:46,  7.80it/s]\u001b[A\n",
      "295it [00:36,  9.45it/s]5 [00:35<15:11,  8.61it/s]\u001b[A\n",
      "296it [00:36,  9.06it/s]5 [00:35<13:50,  9.45it/s]\u001b[A\n",
      "297it [00:36,  9.19it/s]5 [00:36<14:26,  9.06it/s]\u001b[A\n",
      "298it [00:36,  8.29it/s]5 [00:36<14:14,  9.19it/s]\u001b[A\n",
      "299it [00:36,  8.18it/s]5 [00:36<15:46,  8.29it/s]\u001b[A\n",
      "300it [00:36,  8.01it/s]5 [00:36<15:59,  8.17it/s]\u001b[A\n",
      "301it [00:36,  6.75it/s]5 [00:36<16:19,  8.01it/s]\u001b[A\n",
      "302it [00:37,  6.87it/s]5 [00:36<19:22,  6.75it/s]\u001b[A\n",
      "303it [00:37,  6.74it/s]5 [00:36<19:01,  6.87it/s]\u001b[A\n",
      "304it [00:37,  7.25it/s]5 [00:37<19:23,  6.74it/s]\u001b[A\n",
      "305it [00:37,  7.11it/s]5 [00:37<18:03,  7.24it/s]\u001b[A\n",
      "306it [00:37,  6.30it/s]5 [00:37<18:22,  7.11it/s]\u001b[A\n",
      "307it [00:37,  5.77it/s]5 [00:37<20:44,  6.30it/s]\u001b[A\n",
      "308it [00:38,  5.80it/s]5 [00:37<22:41,  5.76it/s]\u001b[A\n",
      "309it [00:38,  6.28it/s]5 [00:37<22:30,  5.80it/s]\u001b[A\n",
      "310it [00:38,  6.56it/s]5 [00:38<20:46,  6.29it/s]\u001b[A\n",
      "311it [00:38,  7.24it/s]5 [00:38<19:54,  6.56it/s]\u001b[A\n",
      "312it [00:38,  7.89it/s]5 [00:38<18:01,  7.24it/s]\u001b[A\n",
      "314it [00:38,  8.33it/s]5 [00:38<16:32,  7.89it/s]\u001b[A\n",
      "315it [00:38,  7.56it/s]5 [00:38<15:40,  8.33it/s]\u001b[A\n",
      "316it [00:38,  7.91it/s]5 [00:38<17:15,  7.56it/s]\u001b[A\n",
      "317it [00:39,  7.70it/s]5 [00:38<16:29,  7.91it/s]\u001b[A\n",
      "319it [00:39,  8.28it/s]5 [00:39<16:56,  7.70it/s]\u001b[A\n",
      "320it [00:39,  7.09it/s]5 [00:39<15:44,  8.28it/s]\u001b[A\n",
      "321it [00:39,  7.56it/s]5 [00:39<18:23,  7.09it/s]\u001b[A\n",
      "322it [00:39,  8.10it/s]5 [00:39<17:15,  7.56it/s]\u001b[A\n",
      "323it [00:39,  8.16it/s]5 [00:39<16:06,  8.10it/s]\u001b[A\n",
      "325it [00:40,  8.54it/s]5 [00:39<15:58,  8.16it/s]\u001b[A\n",
      "327it [00:40,  9.44it/s]5 [00:39<15:15,  8.54it/s]\u001b[A\n",
      "328it [00:40,  8.94it/s]5 [00:40<13:48,  9.44it/s]\u001b[A\n",
      "329it [00:40,  8.57it/s]5 [00:40<14:34,  8.94it/s]\u001b[A\n",
      "331it [00:40,  8.87it/s]5 [00:40<15:11,  8.57it/s]\u001b[A\n",
      "332it [00:40,  9.16it/s]5 [00:40<14:40,  8.87it/s]\u001b[A\n",
      "334it [00:40, 10.51it/s]5 [00:40<14:12,  9.16it/s]\u001b[A\n",
      "336it [00:41, 10.67it/s]5 [00:40<12:23, 10.50it/s]\u001b[A\n",
      "338it [00:41, 10.24it/s]5 [00:40<12:12, 10.67it/s]\u001b[A\n",
      "340it [00:41,  9.95it/s]5 [00:41<12:42, 10.24it/s]\u001b[A\n",
      "342it [00:41, 10.48it/s]5 [00:41<13:04,  9.95it/s]\u001b[A\n",
      "344it [00:41, 10.04it/s]5 [00:41<12:24, 10.48it/s]\u001b[A\n",
      "346it [00:42, 10.50it/s]5 [00:41<12:56, 10.04it/s]\u001b[A\n",
      "348it [00:42, 10.84it/s]5 [00:41<12:22, 10.50it/s]\u001b[A\n",
      "350it [00:42,  9.63it/s]5 [00:42<11:58, 10.85it/s]\u001b[A\n",
      "352it [00:42, 10.22it/s]5 [00:42<13:29,  9.63it/s]\u001b[A\n",
      "354it [00:42,  9.42it/s]5 [00:42<12:42, 10.22it/s]\u001b[A\n",
      "356it [00:43,  9.92it/s]5 [00:42<13:47,  9.42it/s]\u001b[A\n",
      "358it [00:43,  9.07it/s]5 [00:43<13:04,  9.92it/s]\u001b[A\n",
      "360it [00:43,  9.60it/s]5 [00:43<14:27,  8.98it/s]\u001b[A\n",
      "362it [00:43,  9.05it/s]5 [00:43<13:28,  9.63it/s]\u001b[A\n",
      "363it [00:43,  8.71it/s]5 [00:43<13:53,  9.34it/s]\u001b[A\n",
      "364it [00:44,  6.96it/s]5 [00:43<14:33,  8.91it/s]\u001b[A\n",
      "366it [00:44,  7.55it/s]5 [00:44<18:24,  7.04it/s]\u001b[A\n",
      "367it [00:44,  7.17it/s]5 [00:44<17:07,  7.57it/s]\u001b[A\n",
      "368it [00:44,  6.39it/s]5 [00:44<17:48,  7.28it/s]\u001b[A\n",
      "369it [00:44,  6.91it/s]5 [00:44<20:06,  6.44it/s]\u001b[A\n",
      "370it [00:44,  7.20it/s]5 [00:44<18:37,  6.96it/s]\u001b[A\n",
      "372it [00:45,  7.57it/s]5 [00:44<17:53,  7.24it/s]\u001b[A\n",
      "374it [00:45,  8.34it/s]5 [00:45<17:02,  7.60it/s]\u001b[A\n",
      "375it [00:45,  8.73it/s]5 [00:45<15:36,  8.30it/s]\u001b[A\n",
      "377it [00:45, 10.07it/s]5 [00:45<14:06,  9.18it/s]\u001b[A\n",
      "379it [00:45, 11.73it/s]5 [00:45<11:53, 10.89it/s]\u001b[A\n",
      "381it [00:45, 12.52it/s]5 [00:45<10:39, 12.14it/s]\u001b[A\n",
      "383it [00:45, 12.73it/s]5 [00:45<10:41, 12.11it/s]\u001b[A\n",
      "385it [00:46, 13.57it/s]5 [00:45<09:50, 13.15it/s]\u001b[A\n",
      "387it [00:46, 14.13it/s]5 [00:46<09:11, 14.07it/s]\u001b[A\n",
      "389it [00:46, 13.83it/s]5 [00:46<09:15, 13.95it/s]\u001b[A\n",
      "392it [00:46, 14.98it/s]5 [00:46<08:47, 14.70it/s]\u001b[A\n",
      "394it [00:46, 15.04it/s]5 [00:46<08:27, 15.27it/s]\u001b[A\n",
      "396it [00:46, 15.43it/s]5 [00:46<08:28, 15.24it/s]\u001b[A\n",
      "398it [00:47, 10.81it/s]5 [00:46<08:17, 15.58it/s]\u001b[A\n",
      "400it [00:47, 10.03it/s]5 [00:46<11:54, 10.85it/s]\u001b[A\n",
      "402it [00:47,  9.99it/s]5 [00:47<12:49, 10.07it/s]\u001b[A\n",
      "404it [00:47,  8.86it/s]5 [00:47<12:53, 10.01it/s]\u001b[A\n",
      "405it [00:47,  8.41it/s]5 [00:47<14:32,  8.87it/s]\u001b[A\n",
      "406it [00:48,  8.63it/s]5 [00:47<15:19,  8.42it/s]\u001b[A\n",
      "408it [00:48,  8.94it/s]5 [00:47<14:56,  8.64it/s]\u001b[A\n",
      "409it [00:48,  8.72it/s]5 [00:48<14:24,  8.94it/s]\u001b[A\n",
      "411it [00:48,  9.72it/s]5 [00:48<14:46,  8.73it/s]\u001b[A\n",
      "413it [00:48,  9.29it/s]5 [00:48<13:15,  9.72it/s]\u001b[A\n",
      "415it [00:48,  9.98it/s]5 [00:48<13:52,  9.29it/s]\u001b[A\n",
      "417it [00:49, 10.67it/s]5 [00:48<12:54,  9.98it/s]\u001b[A\n",
      "419it [00:49,  9.41it/s]5 [00:48<12:04, 10.67it/s]\u001b[A\n",
      "420it [00:49,  9.31it/s]5 [00:49<13:40,  9.41it/s]\u001b[A\n",
      "421it [00:49,  9.50it/s]5 [00:49<13:49,  9.31it/s]\u001b[A\n",
      "423it [00:49, 10.03it/s]5 [00:49<13:33,  9.50it/s]\u001b[A\n",
      "425it [00:49,  9.59it/s]5 [00:49<12:50, 10.03it/s]\u001b[A\n",
      "427it [00:50, 10.46it/s]5 [00:49<13:24,  9.59it/s]\u001b[A\n",
      "429it [00:50, 10.71it/s]5 [00:50<12:17, 10.46it/s]\u001b[A\n",
      "431it [00:50, 10.43it/s]5 [00:50<12:00, 10.71it/s]\u001b[A\n",
      "433it [00:50, 11.43it/s]5 [00:50<12:19, 10.43it/s]\u001b[A\n",
      "435it [00:50, 11.51it/s]5 [00:50<11:15, 11.42it/s]\u001b[A\n",
      "437it [00:50, 11.25it/s]5 [00:50<11:10, 11.51it/s]\u001b[A\n",
      "439it [00:51,  9.40it/s]5 [00:50<11:24, 11.26it/s]\u001b[A\n",
      "441it [00:51,  9.80it/s]5 [00:51<13:39,  9.40it/s]\u001b[A\n",
      "443it [00:51,  8.16it/s]5 [00:51<13:06,  9.80it/s]\u001b[A\n",
      "445it [00:52,  7.81it/s]5 [00:51<15:43,  8.16it/s]\u001b[A\n",
      "446it [00:52,  7.01it/s]5 [00:52<16:25,  7.81it/s]\u001b[A\n",
      "447it [00:52,  6.71it/s]5 [00:52<18:17,  7.01it/s]\u001b[A\n",
      "448it [00:52,  7.02it/s]5 [00:52<19:08,  6.70it/s]\u001b[A\n",
      "449it [00:52,  7.68it/s]5 [00:52<18:15,  7.02it/s]\u001b[A\n",
      "450it [00:52,  7.41it/s]5 [00:52<16:42,  7.67it/s]\u001b[A\n",
      "452it [00:52,  7.97it/s]5 [00:52<17:18,  7.41it/s]\u001b[A\n",
      "453it [00:53,  8.22it/s]5 [00:52<16:06,  7.96it/s]\u001b[A\n",
      "454it [00:53,  7.81it/s]5 [00:53<15:35,  8.22it/s]\u001b[A\n",
      "455it [00:53,  6.48it/s]5 [00:53<16:24,  7.81it/s]\u001b[A\n",
      "456it [00:53,  6.05it/s]5 [00:53<19:46,  6.48it/s]\u001b[A\n",
      "457it [00:53,  6.55it/s]5 [00:53<21:10,  6.05it/s]\u001b[A\n",
      "458it [00:53,  6.42it/s]5 [00:53<19:33,  6.55it/s]\u001b[A\n",
      "459it [00:54,  5.86it/s]5 [00:53<19:57,  6.42it/s]\u001b[A\n",
      "460it [00:54,  6.30it/s]5 [00:54<21:51,  5.86it/s]\u001b[A\n",
      "462it [00:54,  7.06it/s]5 [00:54<20:19,  6.30it/s]\u001b[A\n",
      "463it [00:54,  7.72it/s]5 [00:54<18:08,  7.06it/s]\u001b[A\n",
      "464it [00:54,  7.17it/s]5 [00:54<16:35,  7.72it/s]\u001b[A\n",
      "466it [00:54,  8.31it/s]5 [00:54<17:51,  7.17it/s]\u001b[A\n",
      "467it [00:55,  7.87it/s]5 [00:54<15:26,  8.29it/s]\u001b[A\n",
      "469it [00:55,  8.45it/s]5 [00:54<16:12,  7.89it/s]\u001b[A\n",
      "471it [00:55,  9.57it/s]5 [00:55<15:05,  8.47it/s]\u001b[A\n",
      "473it [00:55, 10.87it/s]5 [00:55<13:20,  9.59it/s]\u001b[A\n",
      "477it [00:55, 13.53it/s]5 [00:55<11:44, 10.89it/s]\u001b[A\n",
      "479it [00:55, 14.00it/s]5 [00:55<09:26, 13.55it/s]\u001b[A\n",
      "482it [00:55, 16.15it/s]5 [00:55<09:06, 14.02it/s]\u001b[A\n",
      "484it [00:55, 16.65it/s]5 [00:55<07:54, 16.16it/s]\u001b[A\n",
      "486it [00:56, 15.78it/s]5 [00:55<07:39, 16.67it/s]\u001b[A\n",
      "488it [00:56, 13.65it/s]5 [00:56<08:05, 15.78it/s]\u001b[A\n",
      "490it [00:56, 13.52it/s]5 [00:56<09:21, 13.65it/s]\u001b[A\n",
      "492it [00:56, 13.41it/s]5 [00:56<09:26, 13.52it/s]\u001b[A\n",
      "494it [00:56, 12.71it/s]5 [00:56<09:30, 13.41it/s]\u001b[A\n",
      "496it [00:56, 12.19it/s]5 [00:56<10:01, 12.71it/s]\u001b[A\n",
      "498it [00:57, 12.05it/s]5 [00:56<10:27, 12.19it/s]\u001b[A\n",
      "500it [00:57, 12.65it/s]5 [00:57<10:34, 12.05it/s]\u001b[A\n",
      "502it [00:57, 13.11it/s]5 [00:57<10:05, 12.62it/s]\u001b[A\n",
      "504it [00:57, 13.99it/s]5 [00:57<09:42, 13.11it/s]\u001b[A\n",
      "506it [00:57, 13.66it/s]5 [00:57<09:06, 13.99it/s]\u001b[A\n",
      "508it [00:57, 13.24it/s]5 [00:57<09:18, 13.67it/s]\u001b[A\n",
      "510it [00:57, 13.84it/s]5 [00:57<09:36, 13.24it/s]\u001b[A\n",
      "512it [00:58, 12.60it/s]5 [00:57<09:11, 13.84it/s]\u001b[A\n",
      "514it [00:58, 13.29it/s]5 [00:58<10:05, 12.60it/s]\u001b[A\n",
      "516it [00:58, 12.75it/s]5 [00:58<09:34, 13.29it/s]\u001b[A\n",
      "518it [00:58, 12.95it/s]5 [00:58<09:58, 12.75it/s]\u001b[A\n",
      "520it [00:58, 12.73it/s]5 [00:58<09:48, 12.96it/s]\u001b[A\n",
      "522it [00:58, 12.50it/s]5 [00:58<09:59, 12.73it/s]\u001b[A\n",
      "524it [00:59, 12.17it/s]5 [00:58<10:09, 12.50it/s]\u001b[A\n",
      "526it [00:59, 12.11it/s]5 [00:59<10:26, 12.17it/s]\u001b[A\n",
      "528it [00:59, 12.29it/s]5 [00:59<10:29, 12.11it/s]\u001b[A\n",
      "530it [00:59, 12.69it/s]5 [00:59<10:19, 12.29it/s]\u001b[A\n",
      "532it [00:59, 11.77it/s]5 [00:59<09:59, 12.69it/s]\u001b[A\n",
      "534it [00:59, 11.91it/s]5 [00:59<10:46, 11.77it/s]\u001b[A\n",
      "536it [01:00, 12.06it/s]5 [00:59<10:38, 11.91it/s]\u001b[A\n",
      "539it [01:00, 13.65it/s]5 [01:00<10:31, 12.06it/s]\u001b[A\n",
      "541it [01:00, 12.45it/s]5 [01:00<09:17, 13.65it/s]\u001b[A\n",
      "543it [01:00, 12.53it/s]5 [01:00<10:10, 12.45it/s]\u001b[A\n",
      "545it [01:00, 11.58it/s]5 [01:00<10:06, 12.53it/s]\u001b[A\n",
      "547it [01:01, 11.84it/s]5 [01:00<10:56, 11.58it/s]\u001b[A\n",
      "549it [01:01, 12.33it/s]5 [01:00<10:41, 11.84it/s]\u001b[A\n",
      "551it [01:01, 11.72it/s]5 [01:01<10:15, 12.33it/s]\u001b[A\n",
      "553it [01:01, 12.02it/s]5 [01:01<10:47, 11.72it/s]\u001b[A\n",
      "555it [01:01, 12.88it/s]5 [01:01<10:31, 12.02it/s]\u001b[A\n",
      "557it [01:01, 12.48it/s]5 [01:01<09:49, 12.88it/s]\u001b[A\n",
      "559it [01:01, 12.68it/s]5 [01:01<10:07, 12.48it/s]\u001b[A\n",
      "561it [01:02, 12.74it/s]5 [01:01<09:58, 12.68it/s]\u001b[A\n",
      "563it [01:02, 12.68it/s]5 [01:02<09:55, 12.74it/s]\u001b[A\n",
      "565it [01:02, 11.45it/s]5 [01:02<09:58, 12.67it/s]\u001b[A\n",
      "567it [01:02, 10.52it/s]5 [01:02<11:02, 11.45it/s]\u001b[A\n",
      "569it [01:02, 10.55it/s]5 [01:02<12:00, 10.51it/s]\u001b[A\n",
      "571it [01:03, 11.06it/s]5 [01:02<11:58, 10.54it/s]\u001b[A\n",
      "573it [01:03, 12.64it/s]5 [01:02<11:25, 11.05it/s]\u001b[A\n",
      "575it [01:03, 12.54it/s]5 [01:03<09:59, 12.64it/s]\u001b[A\n",
      "577it [01:03, 12.02it/s]5 [01:03<10:03, 12.54it/s]\u001b[A\n",
      "579it [01:03, 11.98it/s]5 [01:03<10:29, 12.02it/s]\u001b[A\n",
      "581it [01:03, 12.04it/s]5 [01:03<10:31, 11.98it/s]\u001b[A\n",
      "583it [01:04, 10.57it/s]5 [01:03<10:28, 12.03it/s]\u001b[A\n",
      "585it [01:04, 10.47it/s]5 [01:04<11:55, 10.57it/s]\u001b[A\n",
      "587it [01:04, 10.58it/s]5 [01:04<12:01, 10.48it/s]\u001b[A\n",
      "589it [01:04, 11.17it/s]5 [01:04<11:54, 10.57it/s]\u001b[A\n",
      "591it [01:04, 10.98it/s]5 [01:04<11:15, 11.18it/s]\u001b[A\n",
      "593it [01:04, 11.04it/s]5 [01:04<11:27, 10.98it/s]\u001b[A\n",
      "595it [01:05,  9.83it/s]5 [01:04<11:24, 11.04it/s]\u001b[A\n",
      "597it [01:05,  9.03it/s]5 [01:05<12:47,  9.83it/s]\u001b[A\n",
      "599it [01:05,  9.22it/s]5 [01:05<13:56,  9.02it/s]\u001b[A\n",
      "601it [01:05,  9.83it/s]5 [01:05<13:38,  9.22it/s]\u001b[A\n",
      "603it [01:06, 10.86it/s]5 [01:05<12:47,  9.83it/s]\u001b[A\n",
      "605it [01:06, 10.95it/s]5 [01:05<11:34, 10.86it/s]\u001b[A\n",
      "607it [01:06, 10.95it/s]5 [01:06<11:28, 10.96it/s]\u001b[A\n",
      "609it [01:06,  9.82it/s]5 [01:06<11:28, 10.95it/s]\u001b[A\n",
      "611it [01:06, 10.30it/s]5 [01:06<12:47,  9.82it/s]\u001b[A\n",
      "613it [01:06, 11.12it/s]5 [01:06<12:11, 10.30it/s]\u001b[A\n",
      "615it [01:07, 10.97it/s]5 [01:06<11:16, 11.13it/s]\u001b[A\n",
      "617it [01:07, 10.65it/s]5 [01:07<11:34, 10.84it/s]\u001b[A\n",
      "619it [01:07,  8.77it/s]5 [01:07<11:44, 10.69it/s]\u001b[A\n",
      "621it [01:07,  9.19it/s]5 [01:07<14:16,  8.79it/s]\u001b[A\n",
      "622it [01:08,  6.71it/s]5 [01:07<13:39,  9.18it/s]\u001b[A\n",
      "623it [01:08,  6.87it/s]5 [01:08<18:38,  6.73it/s]\u001b[A\n",
      "625it [01:08,  7.79it/s]5 [01:08<18:15,  6.86it/s]\u001b[A\n",
      "627it [01:08,  8.28it/s]5 [01:08<16:04,  7.80it/s]\u001b[A\n",
      "628it [01:08,  8.68it/s]5 [01:08<15:07,  8.28it/s]\u001b[A\n",
      "630it [01:08,  8.91it/s]5 [01:08<14:25,  8.69it/s]\u001b[A\n",
      "632it [01:09,  9.44it/s]5 [01:08<14:03,  8.91it/s]\u001b[A\n",
      "634it [01:09,  8.76it/s]5 [01:09<13:15,  9.44it/s]\u001b[A\n",
      "636it [01:09,  8.94it/s]5 [01:09<14:17,  8.76it/s]\u001b[A\n",
      "637it [01:09,  8.10it/s]5 [01:09<14:00,  8.94it/s]\u001b[A\n",
      "639it [01:09,  8.86it/s]5 [01:09<15:27,  8.10it/s]\u001b[A\n",
      "641it [01:10,  9.73it/s]5 [01:09<14:06,  8.86it/s]\u001b[A\n",
      "643it [01:10,  9.92it/s]5 [01:10<12:51,  9.73it/s]\u001b[A\n",
      "645it [01:10,  9.15it/s]5 [01:10<12:36,  9.92it/s]\u001b[A\n",
      "647it [01:10,  9.99it/s]5 [01:10<13:39,  9.15it/s]\u001b[A\n",
      "649it [01:10, 10.38it/s]5 [01:10<12:30,  9.99it/s]\u001b[A\n",
      "651it [01:10, 11.66it/s]5 [01:10<12:02, 10.38it/s]\u001b[A\n",
      "653it [01:11, 12.42it/s]5 [01:10<10:42, 11.66it/s]\u001b[A\n",
      "655it [01:11, 12.68it/s]5 [01:11<10:03, 12.42it/s]\u001b[A\n",
      "657it [01:11, 13.18it/s]5 [01:11<09:50, 12.68it/s]\u001b[A\n",
      "659it [01:11, 13.26it/s]5 [01:11<09:27, 13.18it/s]\u001b[A\n",
      "661it [01:11, 14.02it/s]5 [01:11<09:24, 13.26it/s]\u001b[A\n",
      "663it [01:11, 12.99it/s]5 [01:11<08:53, 14.02it/s]\u001b[A\n",
      "665it [01:12, 12.43it/s]5 [01:11<09:36, 12.97it/s]\u001b[A\n",
      "667it [01:12, 10.23it/s]5 [01:11<10:01, 12.43it/s]\u001b[A\n",
      "669it [01:12, 10.16it/s]5 [01:12<12:10, 10.23it/s]\u001b[A\n",
      "671it [01:12, 11.62it/s]5 [01:12<12:15, 10.16it/s]\u001b[A\n",
      "673it [01:12, 12.63it/s]5 [01:12<10:43, 11.62it/s]\u001b[A\n",
      "675it [01:12, 13.47it/s]5 [01:12<09:51, 12.63it/s]\u001b[A\n",
      "677it [01:13, 12.01it/s]5 [01:12<09:14, 13.47it/s]\u001b[A\n",
      "679it [01:13, 13.46it/s]5 [01:13<10:21, 12.03it/s]\u001b[A\n",
      "681it [01:13, 14.31it/s]5 [01:13<09:14, 13.47it/s]\u001b[A\n",
      "683it [01:13, 13.54it/s]5 [01:13<08:41, 14.30it/s]\u001b[A\n",
      "685it [01:13, 12.86it/s]5 [01:13<09:11, 13.53it/s]\u001b[A\n",
      "687it [01:13, 12.98it/s]5 [01:13<09:40, 12.86it/s]\u001b[A\n",
      "689it [01:13, 12.97it/s]5 [01:13<09:34, 12.98it/s]\u001b[A\n",
      "691it [01:14, 13.33it/s]5 [01:13<09:34, 12.97it/s]\u001b[A\n",
      "693it [01:14, 13.86it/s]5 [01:14<09:19, 13.33it/s]\u001b[A\n",
      "695it [01:14, 13.32it/s]5 [01:14<08:57, 13.86it/s]\u001b[A\n",
      "697it [01:14, 12.03it/s]5 [01:14<09:18, 13.33it/s]\u001b[A\n",
      "699it [01:14, 11.85it/s]5 [01:14<10:19, 12.03it/s]\u001b[A\n",
      "701it [01:14, 11.49it/s]5 [01:14<10:28, 11.85it/s]\u001b[A\n",
      "703it [01:15, 11.16it/s]5 [01:14<10:47, 11.49it/s]\u001b[A\n",
      "705it [01:15, 12.36it/s]5 [01:15<11:07, 11.16it/s]\u001b[A\n",
      "707it [01:15,  9.92it/s]5 [01:15<10:01, 12.36it/s]\u001b[A\n",
      "709it [01:15,  9.93it/s]5 [01:15<12:29,  9.92it/s]\u001b[A\n",
      "711it [01:15,  9.75it/s]5 [01:15<12:28,  9.93it/s]\u001b[A\n",
      "713it [01:16,  9.69it/s]5 [01:15<12:42,  9.75it/s]\u001b[A\n",
      "715it [01:16,  9.53it/s]5 [01:16<12:47,  9.69it/s]\u001b[A\n",
      "717it [01:16,  9.27it/s]5 [01:16<12:59,  9.53it/s]\u001b[A\n",
      "718it [01:16,  8.90it/s]5 [01:16<13:21,  9.27it/s]\u001b[A\n",
      "720it [01:16,  9.41it/s]5 [01:16<13:54,  8.90it/s]\u001b[A\n",
      "721it [01:17,  9.33it/s]5 [01:16<13:09,  9.41it/s]\u001b[A\n",
      "723it [01:17,  9.80it/s]5 [01:16<13:15,  9.33it/s]\u001b[A\n",
      "724it [01:17,  9.72it/s]5 [01:17<12:37,  9.80it/s]\u001b[A\n",
      "726it [01:17, 10.20it/s]5 [01:17<12:43,  9.72it/s]\u001b[A\n",
      "728it [01:17, 10.11it/s]5 [01:17<12:06, 10.21it/s]\u001b[A\n",
      "730it [01:17, 10.07it/s]5 [01:17<12:13, 10.11it/s]\u001b[A\n",
      "732it [01:18, 10.14it/s]5 [01:17<12:16, 10.07it/s]\u001b[A\n",
      "734it [01:18, 10.48it/s]5 [01:18<12:10, 10.14it/s]\u001b[A\n",
      "736it [01:18, 10.57it/s]5 [01:18<11:47, 10.47it/s]\u001b[A\n",
      "738it [01:18, 10.42it/s]5 [01:18<11:40, 10.57it/s]\u001b[A\n",
      "740it [01:18, 10.77it/s]5 [01:18<11:50, 10.42it/s]\u001b[A\n",
      "742it [01:19, 10.89it/s]5 [01:18<11:27, 10.77it/s]\u001b[A\n",
      "744it [01:19, 11.65it/s]5 [01:18<11:19, 10.89it/s]\u001b[A\n",
      "746it [01:19, 11.14it/s]5 [01:19<10:34, 11.66it/s]\u001b[A\n",
      "748it [01:19, 10.00it/s]5 [01:19<11:04, 11.14it/s]\u001b[A\n",
      "750it [01:19,  9.24it/s]5 [01:19<12:19, 10.00it/s]\u001b[A\n",
      "752it [01:20, 10.27it/s]5 [01:19<13:20,  9.24it/s]\u001b[A\n",
      "754it [01:20, 10.12it/s]5 [01:19<12:00, 10.27it/s]\u001b[A\n",
      "756it [01:20, 10.31it/s]5 [01:20<12:10, 10.12it/s]\u001b[A\n",
      "758it [01:20,  9.44it/s]5 [01:20<11:56, 10.31it/s]\u001b[A\n",
      "760it [01:20, 10.01it/s]5 [01:20<13:02,  9.44it/s]\u001b[A\n",
      "762it [01:20, 11.54it/s]5 [01:20<12:17, 10.01it/s]\u001b[A\n",
      "764it [01:21, 11.25it/s]5 [01:20<10:39, 11.54it/s]\u001b[A\n",
      "766it [01:21, 11.82it/s]5 [01:21<10:55, 11.26it/s]\u001b[A\n",
      "768it [01:21, 11.49it/s]5 [01:21<10:24, 11.82it/s]\u001b[A\n",
      "770it [01:21, 11.87it/s]5 [01:21<10:41, 11.49it/s]\u001b[A\n",
      "772it [01:21, 12.56it/s]5 [01:21<10:21, 11.87it/s]\u001b[A\n",
      "774it [01:21, 11.53it/s]5 [01:21<09:47, 12.56it/s]\u001b[A\n",
      "776it [01:22, 12.06it/s]5 [01:21<10:39, 11.53it/s]\u001b[A\n",
      "778it [01:22, 12.67it/s]5 [01:22<10:10, 12.06it/s]\u001b[A\n",
      "780it [01:22, 12.01it/s]5 [01:22<09:41, 12.67it/s]\u001b[A\n",
      "782it [01:22, 12.14it/s]5 [01:22<10:13, 12.01it/s]\u001b[A\n",
      "784it [01:22, 12.56it/s]5 [01:22<10:06, 12.14it/s]\u001b[A\n",
      "786it [01:22, 13.79it/s]5 [01:22<09:45, 12.57it/s]\u001b[A\n",
      "788it [01:23, 11.58it/s]5 [01:22<08:53, 13.79it/s]\u001b[A\n",
      "790it [01:23, 12.10it/s]5 [01:23<10:35, 11.58it/s]\u001b[A\n",
      "792it [01:23, 11.86it/s]5 [01:23<10:07, 12.10it/s]\u001b[A\n",
      "794it [01:23, 11.17it/s]5 [01:23<10:19, 11.87it/s]\u001b[A\n",
      "796it [01:23, 12.72it/s]5 [01:23<10:57, 11.17it/s]\u001b[A\n",
      "798it [01:23, 13.78it/s]5 [01:23<09:38, 12.71it/s]\u001b[A\n",
      "800it [01:23, 14.32it/s]5 [01:23<08:53, 13.78it/s]\u001b[A\n",
      "802it [01:24, 15.10it/s]5 [01:23<08:32, 14.32it/s]\u001b[A\n",
      "804it [01:24, 15.27it/s]5 [01:24<08:06, 15.11it/s]\u001b[A\n",
      "806it [01:24, 13.38it/s]5 [01:24<08:00, 15.27it/s]\u001b[A\n",
      "808it [01:24, 12.40it/s]5 [01:24<09:08, 13.38it/s]\u001b[A\n",
      "810it [01:24, 12.46it/s]5 [01:24<09:51, 12.40it/s]\u001b[A\n",
      "812it [01:24, 12.58it/s]5 [01:24<09:48, 12.46it/s]\u001b[A\n",
      "814it [01:25, 12.10it/s]5 [01:24<09:43, 12.58it/s]\u001b[A\n",
      "816it [01:25, 11.59it/s]5 [01:25<10:05, 12.10it/s]\u001b[A\n",
      "818it [01:25, 12.97it/s]5 [01:25<10:32, 11.59it/s]\u001b[A\n",
      "820it [01:25, 12.82it/s]5 [01:25<09:24, 12.97it/s]\u001b[A\n",
      "822it [01:25, 11.84it/s]5 [01:25<09:31, 12.82it/s]\u001b[A\n",
      "825it [01:25, 13.42it/s]5 [01:25<10:18, 11.84it/s]\u001b[A\n",
      "827it [01:26, 11.10it/s]5 [01:25<09:05, 13.42it/s]\u001b[A\n",
      "829it [01:26, 10.99it/s]5 [01:26<10:58, 11.11it/s]\u001b[A\n",
      "831it [01:26, 11.35it/s]5 [01:26<11:05, 10.99it/s]\u001b[A\n",
      "833it [01:26, 11.92it/s]5 [01:26<10:44, 11.35it/s]\u001b[A\n",
      "835it [01:26, 11.59it/s]5 [01:26<10:13, 11.92it/s]\u001b[A\n",
      "837it [01:27, 11.48it/s]5 [01:26<10:30, 11.59it/s]\u001b[A\n",
      "839it [01:27, 12.69it/s]5 [01:26<10:36, 11.49it/s]\u001b[A\n",
      "841it [01:27, 14.02it/s]5 [01:27<09:35, 12.69it/s]\u001b[A\n",
      "843it [01:27, 14.60it/s]5 [01:27<08:40, 14.03it/s]\u001b[A\n",
      "845it [01:27, 13.60it/s]5 [01:27<08:20, 14.60it/s]\u001b[A\n",
      "847it [01:27, 12.06it/s]5 [01:27<08:56, 13.60it/s]\u001b[A\n",
      "849it [01:27, 11.32it/s]5 [01:27<10:05, 12.05it/s]\u001b[A\n",
      "851it [01:28, 11.81it/s]5 [01:27<10:44, 11.32it/s]\u001b[A\n",
      "853it [01:28, 12.62it/s]5 [01:28<10:17, 11.80it/s]\u001b[A\n",
      "855it [01:28, 13.13it/s]5 [01:28<09:38, 12.61it/s]\u001b[A\n",
      "857it [01:28, 12.65it/s]5 [01:28<09:15, 13.12it/s]\u001b[A\n",
      "859it [01:28, 13.14it/s]5 [01:28<09:36, 12.65it/s]\u001b[A\n",
      "861it [01:28, 13.54it/s]5 [01:28<09:14, 13.14it/s]\u001b[A\n",
      "864it [01:28, 15.44it/s]5 [01:28<08:58, 13.54it/s]\u001b[A\n",
      "866it [01:29, 16.25it/s]5 [01:28<07:51, 15.44it/s]\u001b[A\n",
      "868it [01:29, 13.17it/s]5 [01:28<07:27, 16.27it/s]\u001b[A\n",
      "870it [01:29, 12.31it/s]5 [01:29<09:12, 13.18it/s]\u001b[A\n",
      "872it [01:29,  8.81it/s]5 [01:29<09:50, 12.31it/s]\u001b[A\n",
      "874it [01:30,  7.75it/s]5 [01:29<13:45,  8.81it/s]\u001b[A\n",
      "876it [01:30,  7.87it/s]5 [01:30<15:37,  7.75it/s]\u001b[A\n",
      "877it [01:30,  7.68it/s]5 [01:30<15:24,  7.87it/s]\u001b[A\n",
      "879it [01:30,  8.48it/s]5 [01:30<15:46,  7.68it/s]\u001b[A\n",
      "880it [01:30,  8.69it/s]5 [01:30<14:16,  8.48it/s]\u001b[A\n",
      "882it [01:31,  8.65it/s]5 [01:30<13:56,  8.69it/s]\u001b[A\n",
      "883it [01:31,  8.91it/s]5 [01:31<13:59,  8.65it/s]\u001b[A\n",
      "885it [01:31,  9.47it/s]5 [01:31<13:35,  8.91it/s]\u001b[A\n",
      "886it [01:31,  8.85it/s]5 [01:31<12:46,  9.47it/s]\u001b[A\n",
      "887it [01:31,  8.09it/s]5 [01:31<13:41,  8.84it/s]\u001b[A\n",
      "888it [01:31,  7.55it/s]5 [01:31<14:57,  8.09it/s]\u001b[A\n",
      "889it [01:31,  7.98it/s]5 [01:31<16:02,  7.54it/s]\u001b[A\n",
      "891it [01:32,  9.26it/s]5 [01:31<15:09,  7.98it/s]\u001b[A\n",
      "893it [01:32,  9.64it/s]5 [01:31<13:03,  9.26it/s]\u001b[A\n",
      "895it [01:32,  9.83it/s]5 [01:32<12:32,  9.64it/s]\u001b[A\n",
      "897it [01:32,  9.73it/s]5 [01:32<12:17,  9.83it/s]\u001b[A\n",
      "899it [01:32,  9.10it/s]5 [01:32<12:24,  9.73it/s]\u001b[A\n",
      "900it [01:32,  9.00it/s]5 [01:32<13:16,  9.10it/s]\u001b[A\n",
      "902it [01:33,  9.61it/s]5 [01:32<13:25,  9.00it/s]\u001b[A\n",
      "904it [01:33, 10.54it/s]5 [01:33<12:33,  9.61it/s]\u001b[A\n",
      "906it [01:33, 11.09it/s]5 [01:33<11:27, 10.54it/s]\u001b[A\n",
      "908it [01:33, 11.45it/s]5 [01:33<10:52, 11.09it/s]\u001b[A\n",
      "910it [01:33, 11.39it/s]5 [01:33<10:32, 11.45it/s]\u001b[A\n",
      "912it [01:33, 11.23it/s]5 [01:33<10:35, 11.39it/s]\u001b[A\n",
      "914it [01:34, 12.18it/s]5 [01:33<10:43, 11.23it/s]\u001b[A\n",
      "916it [01:34, 11.05it/s]5 [01:34<09:53, 12.18it/s]\u001b[A\n",
      "918it [01:34, 11.91it/s]5 [01:34<10:54, 11.05it/s]\u001b[A\n",
      "920it [01:34, 12.55it/s]5 [01:34<10:07, 11.90it/s]\u001b[A\n",
      "922it [01:34, 12.62it/s]5 [01:34<09:39, 12.47it/s]\u001b[A\n",
      "924it [01:35, 10.04it/s]5 [01:34<09:34, 12.57it/s]\u001b[A\n",
      "926it [01:35, 10.08it/s]5 [01:35<11:57, 10.07it/s]\u001b[A\n",
      "928it [01:35,  9.95it/s]5 [01:35<11:55, 10.10it/s]\u001b[A\n",
      "930it [01:35, 10.36it/s]5 [01:35<12:04,  9.96it/s]\u001b[A\n",
      "932it [01:35, 11.04it/s]5 [01:35<11:36, 10.37it/s]\u001b[A\n",
      "934it [01:36,  9.90it/s]5 [01:35<10:52, 11.05it/s]\u001b[A\n",
      "936it [01:36,  6.81it/s]5 [01:36<12:15,  9.80it/s]\u001b[A\n",
      "937it [01:36,  7.02it/s]5 [01:36<17:41,  6.79it/s]\u001b[A\n",
      "938it [01:36,  6.83it/s]5 [01:36<17:08,  7.01it/s]\u001b[A\n",
      "939it [01:37,  5.77it/s]5 [01:36<17:24,  6.90it/s]\u001b[A\n",
      "940it [01:37,  5.94it/s]5 [01:37<20:46,  5.78it/s]\u001b[A\n",
      "941it [01:37,  5.79it/s]5 [01:37<20:13,  5.94it/s]\u001b[A\n",
      "942it [01:37,  5.85it/s]5 [01:37<20:42,  5.80it/s]\u001b[A\n",
      "944it [01:37,  6.78it/s]5 [01:37<20:26,  5.88it/s]\u001b[A\n",
      "945it [01:37,  6.35it/s]5 [01:37<17:38,  6.81it/s]\u001b[A\n",
      "946it [01:38,  6.28it/s]5 [01:37<19:07,  6.27it/s]\u001b[A\n",
      "948it [01:38,  7.57it/s]5 [01:38<18:58,  6.32it/s]\u001b[A\n",
      "950it [01:38,  8.34it/s]5 [01:38<15:44,  7.62it/s]\u001b[A\n",
      "951it [01:38,  8.12it/s]5 [01:38<14:18,  8.38it/s]\u001b[A\n",
      "952it [01:38,  7.99it/s]5 [01:38<14:43,  8.14it/s]\u001b[A\n",
      "953it [01:38,  8.39it/s]5 [01:38<15:09,  7.91it/s]\u001b[A\n",
      "955it [01:38,  9.24it/s]5 [01:38<14:12,  8.44it/s]\u001b[A\n",
      "957it [01:39, 10.39it/s]5 [01:38<12:54,  9.28it/s]\u001b[A\n",
      "959it [01:39, 11.41it/s]5 [01:39<11:29, 10.43it/s]\u001b[A\n",
      "961it [01:39, 12.10it/s]5 [01:39<10:27, 11.45it/s]\u001b[A\n",
      "963it [01:39, 13.02it/s]5 [01:39<09:52, 12.13it/s]\u001b[A\n",
      "965it [01:39, 13.49it/s]5 [01:39<09:10, 13.04it/s]\u001b[A\n",
      "967it [01:39, 14.77it/s]5 [01:39<08:51, 13.51it/s]\u001b[A\n",
      "969it [01:39, 15.56it/s]5 [01:39<08:05, 14.78it/s]\u001b[A\n",
      "971it [01:39, 16.31it/s]5 [01:39<07:40, 15.57it/s]\u001b[A\n",
      "973it [01:40, 15.50it/s]5 [01:39<07:20, 16.30it/s]\u001b[A\n",
      "975it [01:40, 15.65it/s]5 [01:40<07:43, 15.49it/s]\u001b[A\n",
      "977it [01:40, 16.29it/s]5 [01:40<07:37, 15.66it/s]\u001b[A\n",
      "979it [01:40, 14.80it/s]5 [01:40<07:19, 16.30it/s]\u001b[A\n",
      "981it [01:40, 12.48it/s]5 [01:40<08:03, 14.81it/s]\u001b[A\n",
      "983it [01:40, 12.39it/s]5 [01:40<09:33, 12.49it/s]\u001b[A\n",
      "985it [01:41, 11.54it/s]5 [01:40<09:38, 12.39it/s]\u001b[A\n",
      "987it [01:41, 11.97it/s]5 [01:41<10:20, 11.54it/s]\u001b[A\n",
      "989it [01:41, 11.83it/s]5 [01:41<09:58, 11.97it/s]\u001b[A\n",
      "991it [01:41,  9.84it/s]5 [01:41<10:05, 11.83it/s]\u001b[A\n",
      "993it [01:41,  9.14it/s]5 [01:41<12:06,  9.84it/s]\u001b[A\n",
      "994it [01:42,  8.63it/s]5 [01:41<13:02,  9.14it/s]\u001b[A\n",
      "995it [01:42,  8.81it/s]5 [01:42<13:48,  8.63it/s]\u001b[A\n",
      "996it [01:42,  8.67it/s]5 [01:42<13:31,  8.81it/s]\u001b[A\n",
      "997it [01:42,  8.96it/s]5 [01:42<13:44,  8.67it/s]\u001b[A\n",
      "998it [01:42,  8.61it/s]5 [01:42<13:18,  8.95it/s]\u001b[A\n",
      "999it [01:42,  8.52it/s]5 [01:42<13:49,  8.62it/s]\u001b[A\n",
      "1001it [01:42,  9.49it/s] [01:42<13:58,  8.52it/s]\u001b[A\n",
      "1003it [01:42, 10.53it/s]5 [01:42<12:32,  9.49it/s]\u001b[A\n",
      "1005it [01:43, 11.18it/s]5 [01:42<11:18, 10.53it/s]\u001b[A\n",
      "1007it [01:43, 11.64it/s]5 [01:43<10:38, 11.18it/s]\u001b[A\n",
      "1009it [01:43, 11.63it/s]5 [01:43<10:13, 11.63it/s]\u001b[A\n",
      "1011it [01:43, 12.75it/s]5 [01:43<10:13, 11.63it/s]\u001b[A\n",
      "1013it [01:43, 13.43it/s]5 [01:43<09:19, 12.75it/s]\u001b[A\n",
      "1015it [01:43, 13.89it/s]5 [01:43<08:50, 13.43it/s]\u001b[A\n",
      "1017it [01:43, 14.69it/s]5 [01:43<08:33, 13.89it/s]\u001b[A\n",
      "1019it [01:44, 12.43it/s]5 [01:43<08:05, 14.67it/s]\u001b[A\n",
      "1021it [01:44, 13.39it/s]5 [01:44<09:33, 12.43it/s]\u001b[A\n",
      "1023it [01:44, 14.23it/s]5 [01:44<08:52, 13.39it/s]\u001b[A\n",
      "1025it [01:44, 12.36it/s]5 [01:44<08:20, 14.23it/s]\u001b[A\n",
      "1027it [01:44, 12.60it/s]5 [01:44<09:36, 12.36it/s]\u001b[A\n",
      "1029it [01:44, 12.66it/s]5 [01:44<09:24, 12.60it/s]\u001b[A\n",
      "1031it [01:45, 13.79it/s]5 [01:44<09:21, 12.66it/s]\u001b[A\n",
      "1033it [01:45, 13.06it/s]5 [01:44<08:35, 13.79it/s]\u001b[A\n",
      "1035it [01:45, 13.56it/s]5 [01:45<09:04, 13.07it/s]\u001b[A\n",
      "1037it [01:45, 13.56it/s]5 [01:45<08:44, 13.56it/s]\u001b[A\n",
      "1039it [01:45, 13.10it/s]5 [01:45<08:44, 13.56it/s]\u001b[A\n",
      "1041it [01:45, 11.37it/s]5 [01:45<09:02, 13.10it/s]\u001b[A\n",
      "1043it [01:46, 12.23it/s]5 [01:45<10:24, 11.37it/s]\u001b[A\n",
      "1045it [01:46, 10.94it/s]5 [01:45<09:41, 12.22it/s]\u001b[A\n",
      "1047it [01:46, 10.71it/s]5 [01:46<10:48, 10.95it/s]\u001b[A\n",
      "1049it [01:46, 11.07it/s]5 [01:46<11:02, 10.71it/s]\u001b[A\n",
      "1051it [01:46, 11.76it/s]5 [01:46<10:40, 11.08it/s]\u001b[A\n",
      "1053it [01:46, 11.60it/s]5 [01:46<10:03, 11.76it/s]\u001b[A\n",
      "1055it [01:47, 12.76it/s]5 [01:46<10:11, 11.59it/s]\u001b[A\n",
      "1057it [01:47,  8.94it/s]5 [01:47<09:15, 12.77it/s]\u001b[A\n",
      "1059it [01:47,  6.66it/s]5 [01:47<13:26,  8.79it/s]\u001b[A\n",
      "1060it [01:48,  6.56it/s]5 [01:47<17:50,  6.62it/s]\u001b[A\n",
      "1061it [01:48,  6.66it/s]5 [01:48<18:02,  6.54it/s]\u001b[A\n",
      "1062it [01:48,  6.21it/s]5 [01:48<17:37,  6.70it/s]\u001b[A\n",
      "1064it [01:48,  7.44it/s]5 [01:48<19:02,  6.20it/s]\u001b[A\n",
      "1066it [01:48,  8.80it/s]5 [01:48<15:44,  7.50it/s]\u001b[A\n",
      "1068it [01:48, 10.17it/s]5 [01:48<13:19,  8.85it/s]\u001b[A\n",
      "1070it [01:48, 10.87it/s]5 [01:48<11:36, 10.16it/s]\u001b[A\n",
      "1072it [01:49, 10.77it/s]5 [01:48<11:35, 10.18it/s]\u001b[A\n",
      "1074it [01:49, 11.50it/s]5 [01:49<10:39, 11.06it/s]\u001b[A\n",
      "1076it [01:49, 12.31it/s]5 [01:49<10:03, 11.72it/s]\u001b[A\n",
      "1078it [01:49, 13.42it/s]5 [01:49<09:25, 12.49it/s]\u001b[A\n",
      "1080it [01:49, 12.43it/s]5 [01:49<08:40, 13.57it/s]\u001b[A\n",
      "1082it [01:49, 12.12it/s]5 [01:49<09:24, 12.51it/s]\u001b[A\n",
      "1084it [01:50, 10.40it/s]5 [01:49<09:40, 12.17it/s]\u001b[A\n",
      "1086it [01:50,  8.21it/s]5 [01:50<11:17, 10.43it/s]\u001b[A\n",
      "1087it [01:50,  7.45it/s]5 [01:50<14:20,  8.21it/s]\u001b[A\n",
      "1088it [01:50,  7.99it/s]5 [01:50<15:43,  7.48it/s]\u001b[A\n",
      "1089it [01:50,  6.92it/s]5 [01:50<14:48,  7.94it/s]\u001b[A\n",
      "1090it [01:51,  6.92it/s]5 [01:50<17:07,  6.87it/s]\u001b[A\n",
      "1091it [01:51,  7.30it/s]5 [01:51<16:53,  6.96it/s]\u001b[A\n",
      "1093it [01:51,  7.71it/s]5 [01:51<16:02,  7.33it/s]\u001b[A\n",
      "1095it [01:51,  8.05it/s]5 [01:51<15:10,  7.74it/s]\u001b[A\n",
      "1097it [01:51,  8.92it/s]5 [01:51<14:33,  8.07it/s]\u001b[A\n",
      "1099it [01:52,  8.94it/s]5 [01:51<13:08,  8.94it/s]\u001b[A\n",
      "1100it [01:52,  7.27it/s]5 [01:52<13:19,  8.82it/s]\u001b[A\n",
      "1101it [01:52,  6.44it/s]5 [01:52<15:56,  7.37it/s]\u001b[A\n",
      "1102it [01:52,  6.16it/s]5 [01:52<18:06,  6.48it/s]\u001b[A\n",
      "1103it [01:52,  5.68it/s]5 [01:52<19:05,  6.15it/s]\u001b[A\n",
      "1104it [01:53,  5.54it/s]5 [01:52<20:32,  5.71it/s]\u001b[A\n",
      "1106it [01:53,  6.08it/s]5 [01:53<21:02,  5.58it/s]\u001b[A\n",
      "1107it [01:53,  6.67it/s]5 [01:53<19:14,  6.10it/s]\u001b[A\n",
      "1108it [01:53,  7.04it/s]5 [01:53<17:26,  6.72it/s]\u001b[A\n",
      "1110it [01:53,  7.92it/s]5 [01:53<16:38,  7.05it/s]\u001b[A\n",
      "1111it [01:53,  8.08it/s]5 [01:53<14:44,  7.95it/s]\u001b[A\n",
      "1113it [01:54,  8.15it/s]5 [01:53<14:29,  8.09it/s]\u001b[A\n",
      "1114it [01:54,  7.50it/s]5 [01:54<14:21,  8.16it/s]\u001b[A\n",
      "1115it [01:54,  7.59it/s]5 [01:54<15:37,  7.50it/s]\u001b[A\n",
      "1116it [01:54,  7.70it/s]5 [01:54<15:24,  7.60it/s]\u001b[A\n",
      "1117it [01:54,  8.20it/s]5 [01:54<15:13,  7.69it/s]\u001b[A\n",
      "1118it [01:54,  7.18it/s]5 [01:54<14:15,  8.21it/s]\u001b[A\n",
      "1119it [01:54,  6.94it/s]5 [01:54<16:18,  7.18it/s]\u001b[A\n",
      "1120it [01:55,  7.03it/s]5 [01:54<16:52,  6.94it/s]\u001b[A\n",
      "1121it [01:55,  6.98it/s]5 [01:55<16:38,  7.03it/s]\u001b[A\n",
      "1122it [01:55,  7.06it/s]5 [01:55<16:47,  6.97it/s]\u001b[A\n",
      "1123it [01:55,  7.53it/s]5 [01:55<16:33,  7.07it/s]\u001b[A\n",
      "1125it [01:55,  8.61it/s]5 [01:55<15:31,  7.53it/s]\u001b[A\n",
      "1127it [01:55,  9.97it/s]5 [01:55<13:35,  8.61it/s]\u001b[A\n",
      "1129it [01:55, 11.45it/s]5 [01:55<11:43,  9.98it/s]\u001b[A\n",
      "1131it [01:56, 12.30it/s]5 [01:55<10:13, 11.44it/s]\u001b[A\n",
      "1133it [01:56, 12.70it/s]5 [01:55<09:29, 12.31it/s]\u001b[A\n",
      "1135it [01:56, 12.56it/s]5 [01:56<09:11, 12.71it/s]\u001b[A\n",
      "1137it [01:56, 12.04it/s]5 [01:56<09:17, 12.56it/s]\u001b[A\n",
      "1139it [01:56, 12.40it/s]5 [01:56<09:42, 12.04it/s]\u001b[A\n",
      "1141it [01:56, 12.82it/s]5 [01:56<09:25, 12.40it/s]\u001b[A\n",
      "1143it [01:56, 13.49it/s]5 [01:56<09:06, 12.82it/s]\u001b[A\n",
      "1145it [01:57, 12.45it/s]5 [01:56<08:40, 13.45it/s]\u001b[A\n",
      "1147it [01:57, 11.28it/s]5 [01:57<09:21, 12.47it/s]\u001b[A\n",
      "1149it [01:57, 12.27it/s]5 [01:57<10:20, 11.29it/s]\u001b[A\n",
      "1151it [01:57, 12.50it/s]5 [01:57<09:29, 12.28it/s]\u001b[A\n",
      "1153it [01:57, 13.25it/s]5 [01:57<09:19, 12.51it/s]\u001b[A\n",
      "1155it [01:57, 12.33it/s]5 [01:57<08:47, 13.26it/s]\u001b[A\n",
      "1157it [01:58, 13.05it/s]5 [01:57<09:27, 12.32it/s]\u001b[A\n",
      "1159it [01:58, 10.75it/s]5 [01:58<08:55, 13.05it/s]\u001b[A\n",
      "1161it [01:58, 11.42it/s]5 [01:58<10:49, 10.75it/s]\u001b[A\n",
      "1163it [01:58, 11.10it/s]5 [01:58<10:11, 11.42it/s]\u001b[A\n",
      "1165it [01:58, 11.83it/s]5 [01:58<10:29, 11.10it/s]\u001b[A\n",
      "1167it [01:59, 10.87it/s]5 [01:58<09:50, 11.82it/s]\u001b[A\n",
      "1169it [01:59, 10.56it/s]5 [01:58<10:42, 10.87it/s]\u001b[A\n",
      "1171it [01:59, 10.28it/s]5 [01:59<11:00, 10.56it/s]\u001b[A\n",
      "1173it [01:59, 10.54it/s]5 [01:59<11:18, 10.28it/s]\u001b[A\n",
      "1175it [01:59, 10.81it/s]5 [01:59<11:01, 10.54it/s]\u001b[A\n",
      "1177it [02:00, 10.11it/s]5 [01:59<10:44, 10.81it/s]\u001b[A\n",
      "1179it [02:00, 10.24it/s]5 [01:59<11:28, 10.11it/s]\u001b[A\n",
      "1181it [02:00,  8.89it/s]5 [02:00<11:20, 10.23it/s]\u001b[A\n",
      "1182it [02:00,  7.79it/s]5 [02:00<13:03,  8.88it/s]\u001b[A\n",
      "1183it [02:00,  8.08it/s]5 [02:00<14:57,  7.76it/s]\u001b[A\n",
      "1184it [02:00,  6.72it/s]5 [02:00<14:20,  8.09it/s]\u001b[A\n",
      "1185it [02:01,  7.22it/s]5 [02:00<17:15,  6.73it/s]\u001b[A\n",
      "1187it [02:01,  8.00it/s]5 [02:01<16:03,  7.22it/s]\u001b[A\n",
      "1188it [02:01,  7.48it/s]5 [02:01<14:28,  8.01it/s]\u001b[A\n",
      "1189it [02:01,  8.08it/s]5 [02:01<15:30,  7.48it/s]\u001b[A\n",
      "1190it [02:01,  8.56it/s]5 [02:01<14:20,  8.08it/s]\u001b[A\n",
      "1191it [02:01,  8.60it/s]5 [02:01<13:32,  8.56it/s]\u001b[A\n",
      "1193it [02:02,  8.48it/s]5 [02:01<13:28,  8.60it/s]\u001b[A\n",
      "1194it [02:02,  7.43it/s]5 [02:01<13:46,  8.41it/s]\u001b[A\n",
      "1196it [02:02,  8.78it/s]5 [02:02<15:25,  7.51it/s]\u001b[A\n",
      "1199it [02:02, 10.05it/s]5 [02:02<13:04,  8.86it/s]\u001b[A\n",
      "1201it [02:02, 10.10it/s]5 [02:02<11:26, 10.12it/s]\u001b[A\n",
      "1204it [02:02, 11.90it/s]5 [02:02<11:23, 10.16it/s]\u001b[A\n",
      "1206it [02:02, 12.64it/s]5 [02:02<09:40, 11.95it/s]\u001b[A\n",
      "1208it [02:03, 12.07it/s]5 [02:02<09:07, 12.68it/s]\u001b[A\n",
      "1210it [02:03, 12.91it/s]5 [02:03<09:33, 12.10it/s]\u001b[A\n",
      "1212it [02:03, 14.42it/s]5 [02:03<08:56, 12.93it/s]\u001b[A\n",
      "1214it [02:03, 14.86it/s]5 [02:03<07:59, 14.44it/s]\u001b[A\n",
      "1216it [02:03, 15.44it/s]5 [02:03<07:46, 14.87it/s]\u001b[A\n",
      "1218it [02:03, 15.08it/s]5 [02:03<07:28, 15.45it/s]\u001b[A\n",
      "1220it [02:03, 15.41it/s]5 [02:03<07:39, 15.09it/s]\u001b[A\n",
      "1222it [02:04, 16.43it/s]5 [02:03<07:29, 15.42it/s]\u001b[A\n",
      "1224it [02:04, 15.51it/s]5 [02:03<07:01, 16.43it/s]\u001b[A\n",
      "1226it [02:04, 15.58it/s]5 [02:04<07:26, 15.52it/s]\u001b[A\n",
      "1228it [02:04, 15.70it/s]5 [02:04<07:24, 15.58it/s]\u001b[A\n",
      "1231it [02:04, 17.14it/s]5 [02:04<07:20, 15.70it/s]\u001b[A\n",
      "1233it [02:04, 17.42it/s]5 [02:04<06:43, 17.14it/s]\u001b[A\n",
      "1235it [02:04, 14.62it/s]5 [02:04<06:36, 17.42it/s]\u001b[A\n",
      "1237it [02:05, 12.75it/s]5 [02:04<07:52, 14.62it/s]\u001b[A\n",
      "1239it [02:05, 13.64it/s]5 [02:04<09:01, 12.75it/s]\u001b[A\n",
      "1241it [02:05, 13.71it/s]5 [02:05<08:26, 13.64it/s]\u001b[A\n",
      "1243it [02:05, 14.29it/s]5 [02:05<08:23, 13.71it/s]\u001b[A\n",
      "1246it [02:05, 16.16it/s]5 [02:05<08:02, 14.29it/s]\u001b[A\n",
      "1248it [02:05, 15.58it/s]5 [02:05<07:06, 16.16it/s]\u001b[A\n",
      "1250it [02:05, 15.68it/s]5 [02:05<07:22, 15.58it/s]\u001b[A\n",
      "1252it [02:05, 14.94it/s]5 [02:05<07:19, 15.68it/s]\u001b[A\n",
      "1254it [02:06, 12.94it/s]5 [02:05<07:41, 14.94it/s]\u001b[A\n",
      "1256it [02:06, 13.67it/s]5 [02:06<08:52, 12.94it/s]\u001b[A\n",
      "1258it [02:06, 13.97it/s]5 [02:06<08:23, 13.67it/s]\u001b[A\n",
      "1260it [02:06, 11.40it/s]5 [02:06<08:12, 13.97it/s]\u001b[A\n",
      "1262it [02:06, 12.17it/s]5 [02:06<10:03, 11.40it/s]\u001b[A\n",
      "1264it [02:06, 12.55it/s]5 [02:06<09:25, 12.17it/s]\u001b[A\n",
      "1266it [02:07, 11.63it/s]5 [02:06<09:08, 12.55it/s]\u001b[A\n",
      "1268it [02:07, 11.85it/s]5 [02:07<09:51, 11.63it/s]\u001b[A\n",
      "1270it [02:07, 11.05it/s]5 [02:07<09:40, 11.85it/s]\u001b[A\n",
      "1272it [02:07, 11.22it/s]5 [02:07<10:22, 11.05it/s]\u001b[A\n",
      "1274it [02:07, 12.52it/s]5 [02:07<10:12, 11.22it/s]\u001b[A\n",
      "1276it [02:07, 12.84it/s]5 [02:07<09:08, 12.52it/s]\u001b[A\n",
      "1278it [02:08, 13.22it/s]5 [02:07<08:55, 12.84it/s]\u001b[A\n",
      "1280it [02:08, 12.88it/s]5 [02:08<08:39, 13.22it/s]\u001b[A\n",
      "1282it [02:08, 13.21it/s]5 [02:08<08:52, 12.88it/s]\u001b[A\n",
      "1284it [02:08, 12.10it/s]5 [02:08<08:39, 13.21it/s]\u001b[A\n",
      "1286it [02:08, 11.79it/s]5 [02:08<09:27, 12.09it/s]\u001b[A\n",
      "1288it [02:08, 12.27it/s]5 [02:08<09:41, 11.79it/s]\u001b[A\n",
      "1290it [02:09, 12.23it/s]5 [02:08<09:18, 12.27it/s]\u001b[A\n",
      "1292it [02:09, 12.46it/s]5 [02:09<09:20, 12.23it/s]\u001b[A\n",
      "1294it [02:09, 13.22it/s]5 [02:09<09:10, 12.46it/s]\u001b[A\n",
      "1296it [02:09, 11.76it/s]5 [02:09<08:38, 13.22it/s]\u001b[A\n",
      "1298it [02:09, 12.12it/s]5 [02:09<09:42, 11.76it/s]\u001b[A\n",
      "1300it [02:09, 12.37it/s]5 [02:09<09:26, 12.08it/s]\u001b[A\n",
      "1302it [02:10, 12.86it/s]5 [02:09<09:13, 12.36it/s]\u001b[A\n",
      "1304it [02:10, 13.77it/s]5 [02:10<08:57, 12.74it/s]\u001b[A\n",
      "1306it [02:10, 12.21it/s]5 [02:10<08:14, 13.83it/s]\u001b[A\n",
      "1308it [02:10, 10.95it/s]5 [02:10<09:18, 12.25it/s]\u001b[A\n",
      "1310it [02:10, 11.37it/s]5 [02:10<10:23, 10.97it/s]\u001b[A\n",
      "1312it [02:10, 11.73it/s]5 [02:10<10:00, 11.38it/s]\u001b[A\n",
      "1314it [02:11, 13.08it/s]5 [02:10<09:41, 11.74it/s]\u001b[A\n",
      "1316it [02:11, 10.83it/s]5 [02:11<08:41, 13.10it/s]\u001b[A\n",
      "1318it [02:11,  7.93it/s]5 [02:11<10:37, 10.71it/s]\u001b[A\n",
      "1319it [02:11,  7.77it/s]5 [02:11<14:25,  7.89it/s]\u001b[A\n",
      "1321it [02:12,  8.59it/s]5 [02:11<14:28,  7.86it/s]\u001b[A\n",
      "1323it [02:12,  9.61it/s]5 [02:11<13:07,  8.66it/s]\u001b[A\n",
      "1325it [02:12, 10.64it/s]5 [02:12<11:44,  9.68it/s]\u001b[A\n",
      "1327it [02:12, 11.04it/s]5 [02:12<10:37, 10.70it/s]\u001b[A\n",
      "1329it [02:12, 11.81it/s]5 [02:12<10:15, 11.08it/s]\u001b[A\n",
      "1331it [02:12, 11.64it/s]5 [02:12<09:35, 11.85it/s]\u001b[A\n",
      "1333it [02:13, 10.87it/s]5 [02:12<09:43, 11.67it/s]\u001b[A\n",
      "1335it [02:13, 12.11it/s]5 [02:12<10:26, 10.87it/s]\u001b[A\n",
      "1337it [02:13, 12.72it/s]5 [02:13<09:21, 12.13it/s]\u001b[A\n",
      "1339it [02:13, 13.21it/s]5 [02:13<08:54, 12.73it/s]\u001b[A\n",
      "1341it [02:13, 11.87it/s]5 [02:13<08:34, 13.23it/s]\u001b[A\n",
      "1343it [02:13,  9.80it/s]5 [02:13<09:32, 11.88it/s]\u001b[A\n",
      "1345it [02:14,  9.80it/s]5 [02:13<11:34,  9.80it/s]\u001b[A\n",
      "1347it [02:14,  8.94it/s]5 [02:14<11:36,  9.76it/s]\u001b[A\n",
      "1349it [02:14,  8.85it/s]5 [02:14<12:39,  8.95it/s]\u001b[A\n",
      "1350it [02:14,  8.10it/s]5 [02:14<12:48,  8.84it/s]\u001b[A\n",
      "1352it [02:14,  9.50it/s]5 [02:14<13:56,  8.12it/s]\u001b[A\n",
      "1354it [02:15, 10.03it/s]5 [02:14<11:53,  9.52it/s]\u001b[A\n",
      "1356it [02:15,  9.24it/s]5 [02:15<11:17, 10.02it/s]\u001b[A\n",
      "1358it [02:15,  7.69it/s]5 [02:15<12:14,  9.24it/s]\u001b[A\n",
      "1359it [02:15,  8.15it/s]5 [02:15<14:47,  7.65it/s]\u001b[A\n",
      "1361it [02:16,  8.04it/s]5 [02:15<13:45,  8.22it/s]\u001b[A\n",
      "1362it [02:16,  7.77it/s]5 [02:16<13:59,  8.08it/s]\u001b[A\n",
      "1364it [02:16,  8.81it/s]5 [02:16<14:27,  7.82it/s]\u001b[A\n",
      "1365it [02:16,  8.13it/s]5 [02:16<12:45,  8.85it/s]\u001b[A\n",
      "1366it [02:16,  8.02it/s]5 [02:16<14:01,  8.06it/s]\u001b[A\n",
      "1367it [02:16,  7.03it/s]5 [02:16<14:00,  8.06it/s]\u001b[A\n",
      "1368it [02:16,  7.42it/s]5 [02:16<16:04,  7.03it/s]\u001b[A\n",
      "1369it [02:17,  6.85it/s]5 [02:16<15:09,  7.45it/s]\u001b[A\n",
      "1370it [02:17,  6.76it/s]5 [02:17<16:36,  6.80it/s]\u001b[A\n",
      "1371it [02:17,  6.96it/s]5 [02:17<16:38,  6.79it/s]\u001b[A\n",
      "1373it [02:17,  7.32it/s]5 [02:17<16:10,  6.98it/s]\u001b[A\n",
      "1375it [02:17,  7.40it/s]5 [02:17<15:22,  7.34it/s]\u001b[A\n",
      "1376it [02:18,  7.58it/s]5 [02:17<15:18,  7.37it/s]\u001b[A\n",
      "1378it [02:18,  8.36it/s]5 [02:17<14:45,  7.65it/s]\u001b[A\n",
      "1380it [02:18,  8.58it/s]5 [02:18<13:24,  8.41it/s]\u001b[A\n",
      "1381it [02:18,  7.18it/s]5 [02:18<13:04,  8.62it/s]\u001b[A\n",
      "1382it [02:18,  7.19it/s]5 [02:18<15:59,  7.05it/s]\u001b[A\n",
      "1383it [02:18,  7.65it/s]5 [02:18<15:31,  7.26it/s]\u001b[A\n",
      "1384it [02:18,  8.12it/s]5 [02:18<14:38,  7.70it/s]\u001b[A\n",
      "1385it [02:19,  8.38it/s]5 [02:18<13:48,  8.16it/s]\u001b[A\n",
      "1387it [02:19,  9.23it/s]5 [02:19<13:23,  8.41it/s]\u001b[A\n",
      "1388it [02:19,  8.81it/s]5 [02:19<12:10,  9.26it/s]\u001b[A\n",
      "1389it [02:19,  8.36it/s]5 [02:19<12:54,  8.73it/s]\u001b[A\n",
      "1391it [02:19,  9.80it/s]5 [02:19<13:45,  8.19it/s]\u001b[A\n",
      "1393it [02:19,  9.21it/s]5 [02:19<11:30,  9.78it/s]\u001b[A\n",
      "1395it [02:20,  9.58it/s]5 [02:19<12:14,  9.20it/s]\u001b[A\n",
      "1397it [02:20,  9.97it/s]5 [02:19<11:45,  9.57it/s]\u001b[A\n",
      "1399it [02:20, 10.89it/s]5 [02:20<11:17,  9.96it/s]\u001b[A\n",
      "1401it [02:20, 10.62it/s]5 [02:20<10:19, 10.88it/s]\u001b[A\n",
      "1403it [02:20, 11.83it/s]5 [02:20<10:35, 10.61it/s]\u001b[A\n",
      "1405it [02:20, 10.58it/s]5 [02:20<09:30, 11.83it/s]\u001b[A\n",
      "1407it [02:21,  9.70it/s]5 [02:20<10:37, 10.58it/s]\u001b[A\n",
      "1409it [02:21,  8.26it/s]5 [02:21<11:35,  9.69it/s]\u001b[A\n",
      "1410it [02:21,  8.06it/s]5 [02:21<13:36,  8.25it/s]\u001b[A\n",
      "1412it [02:21,  9.04it/s]5 [02:21<13:54,  8.07it/s]\u001b[A\n",
      "1414it [02:21, 10.20it/s]5 [02:21<12:24,  9.05it/s]\u001b[A\n",
      "1416it [02:22, 11.17it/s]5 [02:21<10:59, 10.20it/s]\u001b[A\n",
      "1418it [02:22, 11.65it/s]5 [02:22<10:01, 11.18it/s]\u001b[A\n",
      "1420it [02:22, 11.57it/s]5 [02:22<09:37, 11.65it/s]\u001b[A\n",
      "1422it [02:22, 11.90it/s]5 [02:22<09:41, 11.56it/s]\u001b[A\n",
      "1424it [02:22, 12.77it/s]5 [02:22<09:24, 11.90it/s]\u001b[A\n",
      "1426it [02:22, 12.47it/s]5 [02:22<08:46, 12.77it/s]\u001b[A\n",
      "1428it [02:22, 13.70it/s]5 [02:22<08:58, 12.47it/s]\u001b[A\n",
      "1430it [02:23, 15.02it/s]5 [02:22<08:09, 13.72it/s]\u001b[A\n",
      "1433it [02:23, 16.76it/s]5 [02:23<07:26, 15.04it/s]\u001b[A\n",
      "1436it [02:23, 18.61it/s]5 [02:23<06:40, 16.77it/s]\u001b[A\n",
      "1439it [02:23, 18.46it/s]5 [02:23<06:00, 18.62it/s]\u001b[A\n",
      "1441it [02:23, 16.38it/s]5 [02:23<06:03, 18.45it/s]\u001b[A\n",
      "1443it [02:23, 13.94it/s]5 [02:23<06:49, 16.38it/s]\u001b[A\n",
      "1445it [02:24, 13.22it/s]5 [02:23<08:00, 13.94it/s]\u001b[A\n",
      "1447it [02:24, 12.95it/s]5 [02:23<08:26, 13.22it/s]\u001b[A\n",
      "1449it [02:24, 12.05it/s]5 [02:24<08:37, 12.95it/s]\u001b[A\n",
      "1451it [02:24, 12.12it/s]5 [02:24<09:15, 12.05it/s]\u001b[A\n",
      "1453it [02:24, 11.79it/s]5 [02:24<09:12, 12.13it/s]\u001b[A\n",
      "1455it [02:24, 11.56it/s]5 [02:24<09:27, 11.79it/s]\u001b[A\n",
      "1457it [02:25, 10.03it/s]5 [02:24<09:39, 11.55it/s]\u001b[A\n",
      "1459it [02:25,  8.80it/s]5 [02:25<11:07, 10.03it/s]\u001b[A\n",
      "1461it [02:25,  8.63it/s]5 [02:25<12:40,  8.79it/s]\u001b[A\n",
      "1462it [02:25,  8.05it/s]5 [02:25<12:54,  8.63it/s]\u001b[A\n",
      "1463it [02:25,  7.80it/s]5 [02:25<13:49,  8.06it/s]\u001b[A\n",
      "1464it [02:26,  8.03it/s]5 [02:25<14:16,  7.80it/s]\u001b[A\n",
      "1466it [02:26,  9.02it/s]5 [02:26<13:52,  8.03it/s]\u001b[A\n",
      "1467it [02:26,  9.13it/s]5 [02:26<12:20,  9.02it/s]\u001b[A\n",
      "1468it [02:26,  8.84it/s]5 [02:26<12:11,  9.13it/s]\u001b[A\n",
      "1469it [02:26,  8.92it/s]5 [02:26<12:35,  8.84it/s]\u001b[A\n",
      "1470it [02:26,  7.97it/s]5 [02:26<12:27,  8.93it/s]\u001b[A\n",
      "1472it [02:26,  8.67it/s]5 [02:26<13:57,  7.97it/s]\u001b[A\n",
      "1474it [02:27,  9.61it/s]5 [02:26<12:49,  8.67it/s]\u001b[A\n",
      "1476it [02:27,  9.88it/s]5 [02:27<11:33,  9.62it/s]\u001b[A\n",
      "1478it [02:27,  9.93it/s]5 [02:27<11:14,  9.89it/s]\u001b[A\n",
      "1480it [02:27, 10.70it/s]5 [02:27<11:11,  9.93it/s]\u001b[A\n",
      "1482it [02:27,  9.88it/s]5 [02:27<10:26, 10.64it/s]\u001b[A\n",
      "1484it [02:28,  9.98it/s]5 [02:27<11:16,  9.85it/s]\u001b[A\n",
      "1486it [02:28, 10.10it/s]5 [02:28<11:10,  9.94it/s]\u001b[A\n",
      "1488it [02:28, 10.15it/s]5 [02:28<11:00, 10.09it/s]\u001b[A\n",
      "1490it [02:28, 10.45it/s]5 [02:28<10:56, 10.13it/s]\u001b[A\n",
      "1492it [02:28, 10.68it/s]5 [02:28<10:37, 10.44it/s]\u001b[A\n",
      "1494it [02:28, 10.96it/s]5 [02:28<10:23, 10.67it/s]\u001b[A\n",
      "1496it [02:29, 11.43it/s]5 [02:28<10:06, 10.96it/s]\u001b[A\n",
      "1498it [02:29, 10.32it/s]5 [02:29<09:42, 11.42it/s]\u001b[A\n",
      "1500it [02:29,  9.99it/s]5 [02:29<10:43, 10.32it/s]\u001b[A\n",
      "1502it [02:29,  9.71it/s]5 [02:29<11:05,  9.99it/s]\u001b[A\n",
      "1503it [02:29,  9.08it/s]5 [02:29<11:23,  9.71it/s]\u001b[A\n",
      "1504it [02:30,  8.98it/s]5 [02:29<12:11,  9.08it/s]\u001b[A\n",
      "1505it [02:30,  8.63it/s]5 [02:29<12:19,  8.98it/s]\u001b[A\n",
      "1507it [02:30,  9.31it/s]5 [02:30<12:49,  8.63it/s]\u001b[A\n",
      "1508it [02:30,  8.23it/s]5 [02:30<11:52,  9.32it/s]\u001b[A\n",
      "1510it [02:30,  8.80it/s]5 [02:30<13:26,  8.23it/s]\u001b[A\n",
      "1512it [02:30,  9.36it/s]5 [02:30<12:33,  8.80it/s]\u001b[A\n",
      "1513it [02:30,  9.46it/s]5 [02:30<11:48,  9.36it/s]\u001b[A\n",
      "1514it [02:31,  7.07it/s]5 [02:30<11:41,  9.46it/s]\u001b[A\n",
      "1515it [02:31,  6.35it/s]5 [02:31<15:30,  7.12it/s]\u001b[A\n",
      "1516it [02:31,  6.72it/s]5 [02:31<17:19,  6.38it/s]\u001b[A\n",
      "1517it [02:31,  6.48it/s]5 [02:31<16:23,  6.74it/s]\u001b[A\n",
      "1518it [02:31,  6.55it/s]5 [02:31<17:01,  6.49it/s]\u001b[A\n",
      "1519it [02:31,  7.13it/s]5 [02:31<16:50,  6.56it/s]\u001b[A\n",
      "1520it [02:32,  6.10it/s]5 [02:31<15:28,  7.14it/s]\u001b[A\n",
      "1522it [02:32,  7.15it/s]5 [02:32<18:04,  6.11it/s]\u001b[A\n",
      "1523it [02:32,  7.73it/s]5 [02:32<15:25,  7.16it/s]\u001b[A\n",
      "1524it [02:32,  7.42it/s]5 [02:32<14:16,  7.73it/s]\u001b[A\n",
      "1526it [02:32,  8.25it/s]5 [02:32<14:51,  7.43it/s]\u001b[A\n",
      "1528it [02:32,  8.64it/s]5 [02:32<13:21,  8.26it/s]\u001b[A\n",
      "1530it [02:33,  9.54it/s]5 [02:32<12:45,  8.64it/s]\u001b[A\n",
      "1532it [02:33, 10.16it/s]5 [02:33<11:32,  9.55it/s]\u001b[A\n",
      "1534it [02:33, 10.19it/s]5 [02:33<10:51, 10.15it/s]\u001b[A\n",
      "1536it [02:33, 10.20it/s]5 [02:33<10:48, 10.19it/s]\u001b[A\n",
      "1538it [02:33, 10.40it/s]5 [02:33<10:47, 10.20it/s]\u001b[A\n",
      "1540it [02:34, 10.47it/s]5 [02:33<10:35, 10.40it/s]\u001b[A\n",
      "1542it [02:34, 10.14it/s]5 [02:33<10:30, 10.47it/s]\u001b[A\n",
      "1544it [02:34,  9.86it/s]5 [02:34<10:51, 10.14it/s]\u001b[A\n",
      "1545it [02:34,  9.62it/s]5 [02:34<11:09,  9.86it/s]\u001b[A\n",
      "1547it [02:34,  9.85it/s]5 [02:34<11:26,  9.62it/s]\u001b[A\n",
      "1548it [02:34,  9.72it/s]5 [02:34<11:09,  9.85it/s]\u001b[A\n",
      "1550it [02:35,  9.67it/s]5 [02:34<11:19,  9.71it/s]\u001b[A\n",
      "1552it [02:35, 10.22it/s]5 [02:35<11:21,  9.67it/s]\u001b[A\n",
      "1554it [02:35, 10.29it/s]5 [02:35<10:45, 10.22it/s]\u001b[A\n",
      "1556it [02:35, 10.24it/s]5 [02:35<10:40, 10.29it/s]\u001b[A\n",
      "1558it [02:35,  8.97it/s]5 [02:35<10:43, 10.24it/s]\u001b[A\n",
      "1559it [02:36,  8.82it/s]5 [02:35<12:13,  8.98it/s]\u001b[A\n",
      "1560it [02:36,  8.75it/s]5 [02:36<12:26,  8.83it/s]\u001b[A\n",
      "1561it [02:36,  8.63it/s]5 [02:36<12:32,  8.75it/s]\u001b[A\n",
      "1563it [02:36,  9.51it/s]5 [02:36<12:50,  8.54it/s]\u001b[A\n",
      "1565it [02:36, 10.10it/s]5 [02:36<11:37,  9.44it/s]\u001b[A\n",
      "1567it [02:36, 10.63it/s]5 [02:36<10:55, 10.04it/s]\u001b[A\n",
      "1569it [02:36, 11.55it/s]5 [02:36<10:21, 10.59it/s]\u001b[A\n",
      "1571it [02:37, 12.30it/s]5 [02:36<09:27, 11.59it/s]\u001b[A\n",
      "1573it [02:37, 12.31it/s]5 [02:37<08:53, 12.32it/s]\u001b[A\n",
      "1575it [02:37, 13.43it/s]5 [02:37<08:53, 12.32it/s]\u001b[A\n",
      "1577it [02:37, 13.74it/s]5 [02:37<08:08, 13.45it/s]\u001b[A\n",
      "1579it [02:37, 13.84it/s]5 [02:37<07:57, 13.75it/s]\u001b[A\n",
      "1581it [02:37, 13.99it/s]5 [02:37<07:54, 13.83it/s]\u001b[A\n",
      "1583it [02:37, 14.55it/s]5 [02:37<07:48, 14.00it/s]\u001b[A\n",
      "1585it [02:38, 13.53it/s]5 [02:37<07:33, 14.47it/s]\u001b[A\n",
      "1587it [02:38, 11.87it/s]5 [02:38<08:04, 13.54it/s]\u001b[A\n",
      "1589it [02:38,  9.56it/s]5 [02:38<09:17, 11.75it/s]\u001b[A\n",
      "1591it [02:38, 10.38it/s]5 [02:38<11:25,  9.56it/s]\u001b[A\n",
      "1593it [02:38,  9.59it/s]5 [02:38<10:30, 10.40it/s]\u001b[A\n",
      "1595it [02:39,  9.37it/s]5 [02:38<11:20,  9.62it/s]\u001b[A\n",
      "1597it [02:39,  8.85it/s]5 [02:39<11:38,  9.38it/s]\u001b[A\n",
      "1598it [02:39,  6.60it/s]5 [02:39<11:56,  9.14it/s]\u001b[A\n",
      "1599it [02:39,  6.34it/s]5 [02:39<16:21,  6.67it/s]\u001b[A\n",
      "1600it [02:40,  6.38it/s]5 [02:39<16:57,  6.43it/s]\u001b[A\n",
      "1601it [02:40,  6.62it/s]5 [02:39<16:56,  6.44it/s]\u001b[A\n",
      "1602it [02:40,  6.70it/s]5 [02:40<16:21,  6.67it/s]\u001b[A\n",
      "1603it [02:40,  6.28it/s]5 [02:40<16:12,  6.72it/s]\u001b[A\n",
      "1604it [02:40,  6.79it/s]5 [02:40<17:18,  6.30it/s]\u001b[A\n",
      "1605it [02:40,  5.75it/s]5 [02:40<16:06,  6.76it/s]\u001b[A\n",
      "1606it [02:40,  6.40it/s]5 [02:40<19:04,  5.72it/s]\u001b[A\n",
      "1607it [02:41,  6.92it/s]5 [02:40<16:56,  6.43it/s]\u001b[A\n",
      "1608it [02:41,  6.37it/s]5 [02:41<15:41,  6.95it/s]\u001b[A\n",
      "1609it [02:41,  7.00it/s]5 [02:41<17:10,  6.34it/s]\u001b[A\n",
      "1610it [02:41,  7.42it/s]5 [02:41<15:37,  6.97it/s]\u001b[A\n",
      "1611it [02:41,  7.29it/s]5 [02:41<14:42,  7.40it/s]\u001b[A\n",
      "1612it [02:41,  6.01it/s]5 [02:41<14:59,  7.27it/s]\u001b[A\n",
      "1613it [02:42,  5.86it/s]5 [02:41<18:00,  6.05it/s]\u001b[A\n",
      "1614it [02:42,  6.28it/s]5 [02:41<18:33,  5.87it/s]\u001b[A\n",
      "1615it [02:42,  6.33it/s]5 [02:42<17:21,  6.27it/s]\u001b[A\n",
      "1616it [02:42,  6.34it/s]5 [02:42<17:07,  6.35it/s]\u001b[A\n",
      "1617it [02:42,  7.01it/s]5 [02:42<17:12,  6.32it/s]\u001b[A\n",
      "1618it [02:42,  6.35it/s]5 [02:42<15:27,  7.04it/s]\u001b[A\n",
      "1620it [02:42,  7.10it/s]5 [02:42<17:05,  6.36it/s]\u001b[A\n",
      "1621it [02:43,  7.57it/s]5 [02:42<15:17,  7.11it/s]\u001b[A\n",
      "1622it [02:43,  6.50it/s]5 [02:43<14:20,  7.58it/s]\u001b[A\n",
      "1624it [02:43,  7.58it/s]5 [02:43<16:42,  6.51it/s]\u001b[A\n",
      "1625it [02:43,  6.67it/s]5 [02:43<14:19,  7.59it/s]\u001b[A\n",
      "1626it [02:43,  6.83it/s]5 [02:43<16:17,  6.67it/s]\u001b[A\n",
      "1627it [02:43,  7.37it/s]5 [02:43<15:54,  6.83it/s]\u001b[A\n",
      "1629it [02:44,  8.03it/s]5 [02:43<14:44,  7.37it/s]\u001b[A\n",
      "1631it [02:44,  8.91it/s]5 [02:44<13:31,  8.03it/s]\u001b[A\n",
      "1633it [02:44,  9.27it/s]5 [02:44<12:10,  8.91it/s]\u001b[A\n",
      "1635it [02:44,  8.86it/s]5 [02:44<11:42,  9.27it/s]\u001b[A\n",
      "1637it [02:44,  9.82it/s]5 [02:44<12:15,  8.86it/s]\u001b[A\n",
      "1639it [02:45,  9.98it/s]5 [02:44<11:02,  9.82it/s]\u001b[A\n",
      "1641it [02:45, 10.06it/s]5 [02:44<10:51,  9.98it/s]\u001b[A\n",
      "1643it [02:45, 11.04it/s]5 [02:45<10:46, 10.06it/s]\u001b[A\n",
      "1645it [02:45, 10.56it/s]5 [02:45<09:48, 11.04it/s]\u001b[A\n",
      "1647it [02:45, 11.88it/s]5 [02:45<10:15, 10.56it/s]\u001b[A\n",
      "1649it [02:45, 13.11it/s]5 [02:45<09:07, 11.87it/s]\u001b[A\n",
      "1651it [02:46, 11.02it/s]5 [02:45<08:15, 13.11it/s]\u001b[A\n",
      "1653it [02:46, 11.52it/s]5 [02:46<09:48, 11.03it/s]\u001b[A\n",
      "1655it [02:46, 10.43it/s]5 [02:46<09:23, 11.51it/s]\u001b[A\n",
      "1657it [02:46, 11.40it/s]5 [02:46<10:22, 10.43it/s]\u001b[A\n",
      "1659it [02:46, 10.37it/s]5 [02:46<09:28, 11.41it/s]\u001b[A\n",
      "1661it [02:46, 11.40it/s]5 [02:46<10:25, 10.37it/s]\u001b[A\n",
      "1663it [02:47, 12.12it/s]5 [02:46<09:28, 11.40it/s]\u001b[A\n",
      "1665it [02:47, 13.28it/s]5 [02:47<08:54, 12.12it/s]\u001b[A\n",
      "1667it [02:47, 11.71it/s]5 [02:47<08:08, 13.28it/s]\u001b[A\n",
      "1669it [02:47, 10.84it/s]5 [02:47<09:13, 11.71it/s]\u001b[A\n",
      "1671it [02:47, 11.66it/s]5 [02:47<09:57, 10.84it/s]\u001b[A\n",
      "1673it [02:47, 12.32it/s]5 [02:47<09:15, 11.66it/s]\u001b[A\n",
      "1675it [02:48, 12.18it/s]5 [02:47<08:45, 12.32it/s]\u001b[A\n",
      "1677it [02:48, 12.28it/s]5 [02:48<08:51, 12.18it/s]\u001b[A\n",
      "1679it [02:48, 12.34it/s]5 [02:48<08:46, 12.28it/s]\u001b[A\n",
      "1681it [02:48, 11.96it/s]5 [02:48<08:44, 12.33it/s]\u001b[A\n",
      "1683it [02:48, 11.88it/s]5 [02:48<09:00, 11.96it/s]\u001b[A\n",
      "1685it [02:48, 12.14it/s]5 [02:48<09:03, 11.88it/s]\u001b[A\n",
      "1687it [02:49, 11.57it/s]5 [02:48<08:52, 12.13it/s]\u001b[A\n",
      "1689it [02:49, 11.01it/s]5 [02:49<09:18, 11.57it/s]\u001b[A\n",
      "1691it [02:49, 12.21it/s]5 [02:49<09:46, 11.00it/s]\u001b[A\n",
      "1693it [02:49, 12.01it/s]5 [02:49<08:48, 12.21it/s]\u001b[A\n",
      "1695it [02:49, 11.33it/s]5 [02:49<08:57, 12.01it/s]\u001b[A\n",
      "1697it [02:49, 11.90it/s]5 [02:49<09:29, 11.33it/s]\u001b[A\n",
      "1699it [02:50, 12.93it/s]5 [02:49<09:01, 11.90it/s]\u001b[A\n",
      "1701it [02:50, 12.85it/s]5 [02:50<08:18, 12.93it/s]\u001b[A\n",
      "1703it [02:50, 12.91it/s]5 [02:50<08:21, 12.85it/s]\u001b[A\n",
      "1705it [02:50, 12.96it/s]5 [02:50<08:18, 12.91it/s]\u001b[A\n",
      "1707it [02:50, 10.45it/s]5 [02:50<08:16, 12.96it/s]\u001b[A\n",
      "1709it [02:51, 10.34it/s]5 [02:50<10:16, 10.45it/s]\u001b[A\n",
      "1711it [02:51, 10.42it/s]5 [02:50<10:22, 10.34it/s]\u001b[A\n",
      "1713it [02:51, 10.98it/s]5 [02:51<10:17, 10.42it/s]\u001b[A\n",
      "1715it [02:51, 11.37it/s]5 [02:51<09:45, 10.98it/s]\u001b[A\n",
      "1717it [02:51, 10.43it/s]5 [02:51<09:25, 11.37it/s]\u001b[A\n",
      "1719it [02:51, 11.11it/s]5 [02:51<10:16, 10.43it/s]\u001b[A\n",
      "1721it [02:52, 11.42it/s]5 [02:51<09:38, 11.11it/s]\u001b[A\n",
      "1723it [02:52, 10.17it/s]5 [02:52<09:22, 11.42it/s]\u001b[A\n",
      "1725it [02:52,  8.19it/s]5 [02:52<10:31, 10.17it/s]\u001b[A\n",
      "1726it [02:52,  7.33it/s]5 [02:52<13:04,  8.19it/s]\u001b[A\n",
      "1727it [02:53,  7.01it/s]5 [02:52<14:35,  7.33it/s]\u001b[A\n",
      "1728it [02:53,  7.17it/s]5 [02:52<15:15,  7.01it/s]\u001b[A\n",
      "1729it [02:53,  7.38it/s]5 [02:53<14:55,  7.17it/s]\u001b[A\n",
      "1730it [02:53,  6.70it/s]5 [02:53<14:29,  7.38it/s]\u001b[A\n",
      "1731it [02:53,  6.41it/s]5 [02:53<15:57,  6.70it/s]\u001b[A\n",
      "1732it [02:53,  6.58it/s]5 [02:53<16:40,  6.41it/s]\u001b[A\n",
      "1733it [02:53,  6.72it/s]5 [02:53<16:14,  6.58it/s]\u001b[A\n",
      "1734it [02:54,  6.36it/s]5 [02:53<15:53,  6.72it/s]\u001b[A\n",
      "1735it [02:54,  6.64it/s]5 [02:54<16:47,  6.36it/s]\u001b[A\n",
      "1736it [02:54,  6.49it/s]5 [02:54<16:04,  6.64it/s]\u001b[A\n",
      "1737it [02:54,  6.36it/s]5 [02:54<16:26,  6.50it/s]\u001b[A\n",
      "1738it [02:54,  6.66it/s]5 [02:54<16:47,  6.36it/s]\u001b[A\n",
      "1739it [02:54,  7.17it/s]5 [02:54<16:02,  6.66it/s]\u001b[A\n",
      "1741it [02:55,  7.79it/s]5 [02:54<14:53,  7.17it/s]\u001b[A\n",
      "1742it [02:55,  8.18it/s]5 [02:54<13:42,  7.79it/s]\u001b[A\n",
      "1743it [02:55,  8.36it/s]5 [02:55<13:02,  8.18it/s]\u001b[A\n",
      "1744it [02:55,  8.10it/s]5 [02:55<12:45,  8.36it/s]\u001b[A\n",
      "1745it [02:55,  7.44it/s]5 [02:55<13:10,  8.10it/s]\u001b[A\n",
      "1746it [02:55,  7.46it/s]5 [02:55<14:20,  7.44it/s]\u001b[A\n",
      "1747it [02:55,  7.80it/s]5 [02:55<14:17,  7.46it/s]\u001b[A\n",
      "1748it [02:55,  8.09it/s]5 [02:55<13:39,  7.80it/s]\u001b[A\n",
      "1749it [02:56,  7.69it/s]5 [02:55<13:10,  8.09it/s]\u001b[A\n",
      "1750it [02:56,  8.02it/s]5 [02:55<13:51,  7.69it/s]\u001b[A\n",
      "1752it [02:56,  8.44it/s]5 [02:56<13:17,  8.02it/s]\u001b[A\n",
      "1754it [02:56,  9.10it/s]5 [02:56<12:38,  8.43it/s]\u001b[A\n",
      "1755it [02:56,  8.63it/s]5 [02:56<11:42,  9.10it/s]\u001b[A\n",
      "1757it [02:56,  9.49it/s]5 [02:56<12:20,  8.63it/s]\u001b[A\n",
      "1758it [02:56,  9.57it/s]5 [02:56<11:13,  9.49it/s]\u001b[A\n",
      "1760it [02:57, 10.48it/s]5 [02:56<11:07,  9.57it/s]\u001b[A\n",
      "1762it [02:57, 11.72it/s]5 [02:57<10:09, 10.48it/s]\u001b[A\n",
      "1764it [02:57, 11.93it/s]5 [02:57<09:04, 11.71it/s]\u001b[A\n",
      "1766it [02:57, 11.57it/s]5 [02:57<08:54, 11.93it/s]\u001b[A\n",
      "1768it [02:57, 11.11it/s]5 [02:57<09:11, 11.57it/s]\u001b[A\n",
      "1770it [02:57, 10.66it/s]5 [02:57<09:34, 11.11it/s]\u001b[A\n",
      "1772it [02:58, 10.93it/s]5 [02:57<09:57, 10.66it/s]\u001b[A\n",
      "1774it [02:58, 10.20it/s]5 [02:58<09:43, 10.93it/s]\u001b[A\n",
      "1776it [02:58, 10.88it/s]5 [02:58<10:24, 10.20it/s]\u001b[A\n",
      "1778it [02:58, 11.60it/s]5 [02:58<09:45, 10.88it/s]\u001b[A\n",
      "1780it [02:58, 11.73it/s]5 [02:58<09:08, 11.60it/s]\u001b[A\n",
      "1782it [02:58, 11.62it/s]5 [02:58<09:02, 11.73it/s]\u001b[A\n",
      "1784it [02:59, 11.54it/s]5 [02:58<09:07, 11.62it/s]\u001b[A\n",
      "1786it [02:59, 11.94it/s]5 [02:59<09:11, 11.54it/s]\u001b[A\n",
      "1788it [02:59, 11.90it/s]5 [02:59<08:52, 11.94it/s]\u001b[A\n",
      "1790it [02:59,  9.97it/s]5 [02:59<08:54, 11.90it/s]\u001b[A\n",
      "1792it [03:00,  9.30it/s]5 [02:59<10:38,  9.96it/s]\u001b[A\n",
      "1793it [03:00,  8.94it/s]5 [02:59<11:23,  9.30it/s]\u001b[A\n",
      "1794it [03:00,  8.70it/s]5 [03:00<11:50,  8.94it/s]\u001b[A\n",
      "1796it [03:00,  8.87it/s]5 [03:00<12:10,  8.70it/s]\u001b[A\n",
      "1798it [03:00,  9.55it/s]5 [03:00<11:55,  8.87it/s]\u001b[A\n",
      "1800it [03:00, 10.44it/s]5 [03:00<11:03,  9.56it/s]\u001b[A\n",
      "1802it [03:00, 11.25it/s]5 [03:00<10:07, 10.44it/s]\u001b[A\n",
      "1804it [03:01, 11.71it/s]5 [03:00<09:24, 11.24it/s]\u001b[A\n",
      "1806it [03:01, 11.76it/s]5 [03:01<09:01, 11.71it/s]\u001b[A\n",
      "1809it [03:01, 12.52it/s]5 [03:01<08:59, 11.75it/s]\u001b[A\n",
      "1811it [03:01, 10.61it/s]5 [03:01<08:26, 12.52it/s]\u001b[A\n",
      "1813it [03:01, 10.83it/s]5 [03:01<09:57, 10.61it/s]\u001b[A\n",
      "1815it [03:02, 10.93it/s]5 [03:01<09:45, 10.82it/s]\u001b[A\n",
      "1817it [03:02, 10.61it/s]5 [03:02<09:39, 10.93it/s]\u001b[A\n",
      "1819it [03:02, 11.39it/s]5 [03:02<09:56, 10.61it/s]\u001b[A\n",
      "1821it [03:02, 12.38it/s]5 [03:02<09:15, 11.39it/s]\u001b[A\n",
      "1823it [03:02, 12.56it/s]5 [03:02<08:30, 12.38it/s]\u001b[A\n",
      "1825it [03:02, 12.41it/s]5 [03:02<08:22, 12.57it/s]\u001b[A\n",
      "1827it [03:03, 12.27it/s]5 [03:02<08:29, 12.41it/s]\u001b[A\n",
      "1829it [03:03, 11.68it/s]5 [03:02<08:34, 12.27it/s]\u001b[A\n",
      "1831it [03:03, 10.85it/s]5 [03:03<09:00, 11.69it/s]\u001b[A\n",
      "1833it [03:03, 11.48it/s]5 [03:03<09:42, 10.85it/s]\u001b[A\n",
      "1835it [03:03, 11.27it/s]5 [03:03<09:09, 11.48it/s]\u001b[A\n",
      "1837it [03:03, 11.81it/s]5 [03:03<09:19, 11.27it/s]\u001b[A\n",
      "1839it [03:04, 12.16it/s]5 [03:03<08:54, 11.81it/s]\u001b[A\n",
      "1841it [03:04, 11.51it/s]5 [03:04<08:38, 12.15it/s]\u001b[A\n",
      "1843it [03:04, 10.47it/s]5 [03:04<09:07, 11.52it/s]\u001b[A\n",
      "1845it [03:04,  9.50it/s]5 [03:04<10:01, 10.47it/s]\u001b[A\n",
      "1846it [03:04,  9.07it/s]5 [03:04<11:02,  9.50it/s]\u001b[A\n",
      "1848it [03:05,  9.69it/s]5 [03:04<11:34,  9.07it/s]\u001b[A\n",
      "1850it [03:05, 10.16it/s]5 [03:05<10:50,  9.69it/s]\u001b[A\n",
      "1852it [03:05, 10.90it/s]5 [03:05<10:19, 10.16it/s]\u001b[A\n",
      "1854it [03:05, 10.91it/s]5 [03:05<09:37, 10.90it/s]\u001b[A\n",
      "1856it [03:05, 10.79it/s]5 [03:05<09:36, 10.91it/s]\u001b[A\n",
      "1858it [03:06,  9.96it/s]5 [03:05<09:42, 10.79it/s]\u001b[A\n",
      "1860it [03:06,  9.74it/s]5 [03:05<10:31,  9.96it/s]\u001b[A\n",
      "1862it [03:06, 10.26it/s]5 [03:06<10:45,  9.74it/s]\u001b[A\n",
      "1864it [03:06,  9.76it/s]5 [03:06<10:12, 10.26it/s]\u001b[A\n",
      "1866it [03:06, 10.46it/s]5 [03:06<10:43,  9.76it/s]\u001b[A\n",
      "1868it [03:06, 11.08it/s]5 [03:06<10:00, 10.46it/s]\u001b[A\n",
      "1870it [03:07, 10.72it/s]5 [03:06<09:26, 11.08it/s]\u001b[A\n",
      "1872it [03:07, 11.61it/s]5 [03:07<09:45, 10.71it/s]\u001b[A\n",
      "1874it [03:07, 11.78it/s]5 [03:07<09:00, 11.61it/s]\u001b[A\n",
      "1876it [03:07, 12.09it/s]5 [03:07<08:52, 11.78it/s]\u001b[A\n",
      "1878it [03:07, 10.72it/s]5 [03:07<08:38, 12.09it/s]\u001b[A\n",
      "1880it [03:08, 10.91it/s]5 [03:07<09:44, 10.72it/s]\u001b[A\n",
      "1882it [03:08, 10.44it/s]5 [03:07<09:34, 10.91it/s]\u001b[A\n",
      "1884it [03:08, 10.17it/s]5 [03:08<09:59, 10.44it/s]\u001b[A\n",
      "1886it [03:08,  9.78it/s]5 [03:08<10:15, 10.17it/s]\u001b[A\n",
      "1888it [03:08, 10.26it/s]5 [03:08<10:39,  9.78it/s]\u001b[A\n",
      "1890it [03:09, 10.03it/s]5 [03:08<10:09, 10.26it/s]\u001b[A\n",
      "1892it [03:09, 10.47it/s]5 [03:08<10:23, 10.03it/s]\u001b[A\n",
      "1894it [03:09, 10.47it/s]5 [03:09<09:57, 10.47it/s]\u001b[A\n",
      "1896it [03:09,  9.60it/s]5 [03:09<09:56, 10.47it/s]\u001b[A\n",
      "1898it [03:09,  9.45it/s]5 [03:09<10:51,  9.60it/s]\u001b[A\n",
      "1899it [03:09,  8.68it/s]5 [03:09<11:00,  9.45it/s]\u001b[A\n",
      "1900it [03:10,  8.71it/s]5 [03:09<12:07,  8.58it/s]\u001b[A\n",
      "1902it [03:10,  8.66it/s]5 [03:10<11:56,  8.72it/s]\u001b[A\n",
      "1904it [03:10,  8.84it/s]5 [03:10<12:00,  8.66it/s]\u001b[A\n",
      "1905it [03:10,  8.54it/s]5 [03:10<11:44,  8.86it/s]\u001b[A\n",
      "1906it [03:10,  7.77it/s]5 [03:10<12:09,  8.55it/s]\u001b[A\n",
      "1907it [03:11,  6.68it/s]5 [03:10<13:28,  7.71it/s]\u001b[A\n",
      "1908it [03:11,  5.02it/s]5 [03:10<15:31,  6.70it/s]\u001b[A\n",
      "1909it [03:11,  5.65it/s]5 [03:11<20:41,  5.02it/s]\u001b[A\n",
      "1910it [03:11,  6.06it/s]5 [03:11<18:22,  5.66it/s]\u001b[A\n",
      "1911it [03:11,  6.62it/s]5 [03:11<17:07,  6.07it/s]\u001b[A\n",
      "1912it [03:11,  5.48it/s]5 [03:11<15:40,  6.63it/s]\u001b[A\n",
      "1913it [03:12,  5.47it/s]5 [03:11<19:06,  5.44it/s]\u001b[A\n",
      "1914it [03:12,  5.37it/s]5 [03:12<18:56,  5.48it/s]\u001b[A\n",
      "1915it [03:12,  5.47it/s]5 [03:12<19:17,  5.38it/s]\u001b[A\n",
      "1916it [03:12,  5.94it/s]5 [03:12<18:57,  5.48it/s]\u001b[A\n",
      "1917it [03:12,  6.57it/s]5 [03:12<17:27,  5.95it/s]\u001b[A\n",
      "1918it [03:12,  6.82it/s]5 [03:12<15:47,  6.57it/s]\u001b[A\n",
      "1919it [03:13,  6.59it/s]5 [03:12<15:12,  6.83it/s]\u001b[A\n",
      "1920it [03:13,  6.93it/s]5 [03:13<15:44,  6.59it/s]\u001b[A\n",
      "1921it [03:13,  7.50it/s]5 [03:13<14:58,  6.93it/s]\u001b[A\n",
      "1922it [03:13,  8.01it/s]5 [03:13<13:49,  7.50it/s]\u001b[A\n",
      "1923it [03:13,  7.78it/s]5 [03:13<12:56,  8.01it/s]\u001b[A\n",
      "1924it [03:13,  7.63it/s]5 [03:13<13:20,  7.77it/s]\u001b[A\n",
      "1925it [03:13,  7.51it/s]5 [03:13<13:35,  7.63it/s]\u001b[A\n",
      "1926it [03:14,  6.79it/s]5 [03:13<13:48,  7.51it/s]\u001b[A\n",
      "1927it [03:14,  6.32it/s]5 [03:13<15:18,  6.77it/s]\u001b[A\n",
      "1928it [03:14,  5.46it/s]5 [03:14<16:24,  6.32it/s]\u001b[A\n",
      "1929it [03:14,  5.00it/s]5 [03:14<18:59,  5.45it/s]\u001b[A\n",
      "1930it [03:14,  4.97it/s]5 [03:14<21:00,  4.93it/s]\u001b[A\n",
      "1931it [03:15,  4.84it/s]5 [03:14<20:53,  4.96it/s]\u001b[A\n",
      "1932it [03:15,  5.33it/s]5 [03:15<21:25,  4.83it/s]\u001b[A\n",
      "1934it [03:15,  6.28it/s]5 [03:15<19:17,  5.37it/s]\u001b[A\n",
      "1936it [03:15,  7.20it/s]5 [03:15<16:24,  6.31it/s]\u001b[A\n",
      "1938it [03:15,  7.78it/s]5 [03:15<14:17,  7.24it/s]\u001b[A\n",
      "1939it [03:15,  7.60it/s]5 [03:15<13:15,  7.81it/s]\u001b[A\n",
      "1940it [03:16,  7.02it/s]5 [03:15<13:34,  7.61it/s]\u001b[A\n",
      "1941it [03:16,  7.24it/s]5 [03:16<14:41,  7.04it/s]\u001b[A\n",
      "1942it [03:16,  7.57it/s]5 [03:16<14:17,  7.24it/s]\u001b[A\n",
      "1943it [03:16,  7.41it/s]5 [03:16<13:39,  7.57it/s]\u001b[A\n",
      "1945it [03:16,  8.19it/s]5 [03:16<13:56,  7.41it/s]\u001b[A\n",
      "1946it [03:16,  8.15it/s]5 [03:16<12:36,  8.19it/s]\u001b[A\n",
      "1948it [03:17,  8.72it/s]5 [03:16<12:41,  8.14it/s]\u001b[A\n",
      "1950it [03:17,  9.33it/s]5 [03:16<11:50,  8.72it/s]\u001b[A\n",
      "1951it [03:17,  9.44it/s]5 [03:17<11:03,  9.33it/s]\u001b[A\n",
      "1952it [03:17,  9.14it/s]5 [03:17<10:56,  9.44it/s]\u001b[A\n",
      "1953it [03:17,  8.17it/s]5 [03:17<11:17,  9.14it/s]\u001b[A\n",
      "1954it [03:17,  8.28it/s]5 [03:17<12:37,  8.17it/s]\u001b[A\n",
      "1955it [03:17,  8.46it/s]5 [03:17<12:28,  8.27it/s]\u001b[A\n",
      "1956it [03:17,  7.89it/s]5 [03:17<12:11,  8.46it/s]\u001b[A\n",
      "1957it [03:18,  8.41it/s]5 [03:17<13:04,  7.89it/s]\u001b[A\n",
      "1959it [03:18,  8.66it/s]5 [03:17<12:15,  8.41it/s]\u001b[A\n",
      "1960it [03:18,  8.38it/s]5 [03:18<11:54,  8.65it/s]\u001b[A\n",
      "1961it [03:18,  7.96it/s]5 [03:18<12:18,  8.37it/s]\u001b[A\n",
      "1962it [03:18,  8.45it/s]5 [03:18<12:56,  7.96it/s]\u001b[A\n",
      "1963it [03:18,  8.61it/s]5 [03:18<12:11,  8.46it/s]\u001b[A\n",
      "1964it [03:18,  8.71it/s]5 [03:18<11:57,  8.61it/s]\u001b[A\n",
      "1965it [03:18,  8.54it/s]5 [03:18<11:49,  8.71it/s]\u001b[A\n",
      "1966it [03:19,  8.31it/s]5 [03:18<12:02,  8.55it/s]\u001b[A\n",
      "1967it [03:19,  7.62it/s]5 [03:19<12:23,  8.31it/s]\u001b[A\n",
      "1968it [03:19,  7.84it/s]5 [03:19<13:30,  7.62it/s]\u001b[A\n",
      "1969it [03:19,  8.17it/s]5 [03:19<13:07,  7.84it/s]\u001b[A\n",
      "1970it [03:19,  7.77it/s]5 [03:19<12:37,  8.15it/s]\u001b[A\n",
      "1971it [03:19,  7.72it/s]5 [03:19<13:14,  7.77it/s]\u001b[A\n",
      "1972it [03:19,  7.37it/s]5 [03:19<13:19,  7.73it/s]\u001b[A\n",
      "1973it [03:20,  6.47it/s]5 [03:19<14:02,  7.33it/s]\u001b[A\n",
      "1974it [03:20,  6.61it/s]5 [03:20<15:52,  6.48it/s]\u001b[A\n",
      "1975it [03:20,  7.11it/s]5 [03:20<15:32,  6.62it/s]\u001b[A\n",
      "1977it [03:20,  7.58it/s]5 [03:20<14:27,  7.11it/s]\u001b[A\n",
      "1978it [03:20,  8.04it/s]5 [03:20<13:32,  7.59it/s]\u001b[A\n",
      "1979it [03:21,  5.46it/s]5 [03:20<12:46,  8.04it/s]\u001b[A\n",
      "1980it [03:21,  5.56it/s]5 [03:20<18:54,  5.43it/s]\u001b[A\n",
      "1981it [03:21,  5.70it/s]5 [03:21<18:25,  5.58it/s]\u001b[A\n",
      "1983it [03:21,  6.51it/s]5 [03:21<18:01,  5.70it/s]\u001b[A\n",
      "1985it [03:21,  6.82it/s]5 [03:21<15:45,  6.52it/s]\u001b[A\n",
      "1987it [03:22,  7.50it/s]5 [03:21<15:06,  6.80it/s]\u001b[A\n",
      "1988it [03:22,  6.53it/s]5 [03:21<13:39,  7.51it/s]\u001b[A\n",
      "1989it [03:22,  6.66it/s]5 [03:22<15:43,  6.53it/s]\u001b[A\n",
      "1990it [03:22,  6.74it/s]5 [03:22<15:22,  6.67it/s]\u001b[A\n",
      "1991it [03:22,  6.54it/s]5 [03:22<15:11,  6.75it/s]\u001b[A\n",
      "1992it [03:23,  4.92it/s]5 [03:22<15:42,  6.53it/s]\u001b[A\n",
      "1993it [03:23,  5.51it/s]5 [03:22<20:50,  4.92it/s]\u001b[A\n",
      "1994it [03:23,  6.07it/s]5 [03:23<18:36,  5.51it/s]\u001b[A\n",
      "1995it [03:23,  6.00it/s]5 [03:23<16:53,  6.07it/s]\u001b[A\n",
      "1996it [03:23,  6.54it/s]5 [03:23<17:04,  6.00it/s]\u001b[A\n",
      "1997it [03:23,  6.48it/s]5 [03:23<15:39,  6.54it/s]\u001b[A\n",
      "1998it [03:23,  6.34it/s]5 [03:23<15:48,  6.48it/s]\u001b[A\n",
      "1999it [03:24,  6.33it/s]5 [03:23<16:09,  6.34it/s]\u001b[A\n",
      "2000it [03:24,  6.78it/s]5 [03:23<16:10,  6.33it/s]\u001b[A\n",
      "2001it [03:24,  7.00it/s]5 [03:24<15:05,  6.78it/s]\u001b[A\n",
      "2002it [03:24,  6.61it/s]5 [03:24<14:37,  7.00it/s]\u001b[A\n",
      "2003it [03:24,  7.32it/s]5 [03:24<15:29,  6.61it/s]\u001b[A\n",
      "2004it [03:24,  7.63it/s]5 [03:24<13:58,  7.32it/s]\u001b[A\n",
      "2005it [03:24,  7.99it/s]5 [03:24<13:24,  7.63it/s]\u001b[A\n",
      "2006it [03:24,  8.46it/s]5 [03:24<12:48,  7.99it/s]\u001b[A\n",
      "2008it [03:25,  8.38it/s]5 [03:24<12:05,  8.46it/s]\u001b[A\n",
      "2009it [03:25,  5.92it/s]5 [03:25<12:11,  8.39it/s]\u001b[A\n",
      "2010it [03:25,  5.23it/s]5 [03:25<17:34,  5.82it/s]\u001b[A\n",
      "2011it [03:25,  6.09it/s]5 [03:25<19:27,  5.26it/s]\u001b[A\n",
      "2013it [03:25,  6.89it/s]5 [03:25<16:43,  6.11it/s]\u001b[A\n",
      "2014it [03:26,  6.96it/s]5 [03:25<14:47,  6.91it/s]\u001b[A\n",
      "2015it [03:26,  7.29it/s]5 [03:26<14:39,  6.97it/s]\u001b[A\n",
      "2016it [03:26,  6.40it/s]5 [03:26<13:59,  7.30it/s]\u001b[A\n",
      "2017it [03:26,  6.18it/s]5 [03:26<15:57,  6.40it/s]\u001b[A\n",
      "2018it [03:26,  6.10it/s]5 [03:26<16:36,  6.15it/s]\u001b[A\n",
      "2019it [03:27,  5.49it/s]5 [03:26<16:40,  6.12it/s]\u001b[A\n",
      "2020it [03:27,  6.04it/s]5 [03:26<18:42,  5.46it/s]\u001b[A\n",
      "2021it [03:27,  6.14it/s]5 [03:27<16:49,  6.07it/s]\u001b[A\n",
      "2022it [03:27,  6.18it/s]5 [03:27<16:35,  6.15it/s]\u001b[A\n",
      "2023it [03:27,  6.71it/s]5 [03:27<16:33,  6.16it/s]\u001b[A\n",
      "2024it [03:27,  5.91it/s]5 [03:27<15:11,  6.71it/s]\u001b[A\n",
      "2025it [03:28,  5.44it/s]5 [03:27<17:25,  5.86it/s]\u001b[A\n",
      "2026it [03:28,  5.90it/s]5 [03:27<18:58,  5.37it/s]\u001b[A\n",
      "2027it [03:28,  5.55it/s]5 [03:28<17:08,  5.95it/s]\u001b[A\n",
      "2028it [03:28,  5.32it/s]5 [03:28<18:19,  5.57it/s]\u001b[A\n",
      "2030it [03:28,  5.84it/s]5 [03:28<19:03,  5.35it/s]\u001b[A\n",
      "2031it [03:28,  6.16it/s]5 [03:28<17:22,  5.86it/s]\u001b[A\n",
      "2033it [03:29,  6.90it/s]5 [03:28<16:29,  6.18it/s]\u001b[A\n",
      "2034it [03:29,  7.54it/s]5 [03:29<14:43,  6.92it/s]\u001b[A\n",
      "2035it [03:29,  7.33it/s]5 [03:29<13:28,  7.55it/s]\u001b[A\n",
      "2036it [03:29,  7.13it/s]5 [03:29<13:52,  7.34it/s]\u001b[A\n",
      "2037it [03:29,  7.17it/s]5 [03:29<14:15,  7.14it/s]\u001b[A\n",
      "2038it [03:29,  7.69it/s]5 [03:29<14:10,  7.18it/s]\u001b[A\n",
      "2039it [03:29,  7.99it/s]5 [03:29<13:13,  7.69it/s]\u001b[A\n",
      "2040it [03:30,  7.55it/s]5 [03:29<12:46,  7.97it/s]\u001b[A\n",
      "2041it [03:30,  8.09it/s]5 [03:30<13:27,  7.56it/s]\u001b[A\n",
      "2042it [03:30,  7.08it/s]5 [03:30<12:33,  8.10it/s]\u001b[A\n",
      "2043it [03:30,  6.62it/s]5 [03:30<14:24,  7.06it/s]\u001b[A\n",
      "2044it [03:30,  6.31it/s]5 [03:30<15:26,  6.59it/s]\u001b[A\n",
      "2045it [03:30,  6.52it/s]5 [03:30<16:21,  6.22it/s]\u001b[A\n",
      "2046it [03:30,  7.01it/s]5 [03:30<15:38,  6.50it/s]\u001b[A\n",
      "2047it [03:31,  7.16it/s]5 [03:30<14:22,  7.07it/s]\u001b[A\n",
      "2048it [03:31,  6.42it/s]5 [03:31<14:15,  7.13it/s]\u001b[A\n",
      "2049it [03:31,  6.62it/s]5 [03:31<15:46,  6.45it/s]\u001b[A\n",
      "2050it [03:31,  6.79it/s]5 [03:31<15:16,  6.65it/s]\u001b[A\n",
      "2051it [03:31,  6.41it/s]5 [03:31<14:53,  6.83it/s]\u001b[A\n",
      "2052it [03:31,  6.28it/s]5 [03:31<15:52,  6.40it/s]\u001b[A\n",
      "2053it [03:32,  5.70it/s]5 [03:31<16:06,  6.30it/s]\u001b[A\n",
      "2054it [03:32,  6.12it/s]5 [03:32<17:53,  5.68it/s]\u001b[A\n",
      "2055it [03:32,  6.30it/s]5 [03:32<16:31,  6.14it/s]\u001b[A\n",
      "2056it [03:32,  5.69it/s]5 [03:32<16:09,  6.28it/s]\u001b[A\n",
      "2057it [03:32,  5.78it/s]5 [03:32<17:48,  5.70it/s]\u001b[A\n",
      "2058it [03:32,  6.22it/s]5 [03:32<17:30,  5.79it/s]\u001b[A\n",
      "2059it [03:33,  6.86it/s]5 [03:32<16:23,  6.19it/s]\u001b[A\n",
      "2060it [03:33,  7.17it/s]5 [03:32<14:44,  6.88it/s]\u001b[A\n",
      "2061it [03:33,  7.38it/s]5 [03:33<14:08,  7.17it/s]\u001b[A\n",
      "2062it [03:33,  6.54it/s]5 [03:33<13:41,  7.40it/s]\u001b[A\n",
      "2063it [03:33,  6.16it/s]5 [03:33<15:35,  6.50it/s]\u001b[A\n",
      "2065it [03:33,  6.98it/s]5 [03:33<16:22,  6.19it/s]\u001b[A\n",
      "2066it [03:33,  7.32it/s]5 [03:33<14:29,  7.00it/s]\u001b[A\n",
      "2067it [03:34,  6.12it/s]5 [03:33<14:08,  7.17it/s]\u001b[A\n",
      "2068it [03:34,  6.59it/s]5 [03:34<16:25,  6.17it/s]\u001b[A\n",
      "2069it [03:34,  7.25it/s]5 [03:34<15:18,  6.62it/s]\u001b[A\n",
      "2070it [03:34,  7.79it/s]5 [03:34<13:54,  7.28it/s]\u001b[A\n",
      "2071it [03:34,  7.87it/s]5 [03:34<12:56,  7.82it/s]\u001b[A\n",
      "2072it [03:34,  7.08it/s]5 [03:34<12:50,  7.89it/s]\u001b[A\n",
      "2073it [03:34,  7.26it/s]5 [03:34<14:15,  7.10it/s]\u001b[A\n",
      "2074it [03:35,  7.85it/s]5 [03:34<13:54,  7.27it/s]\u001b[A\n",
      "2075it [03:35,  7.18it/s]5 [03:35<12:52,  7.86it/s]\u001b[A\n",
      "2076it [03:35,  7.11it/s]5 [03:35<14:06,  7.17it/s]\u001b[A\n",
      "2077it [03:35,  6.97it/s]5 [03:35<14:23,  7.03it/s]\u001b[A\n",
      "2079it [03:35,  7.06it/s]5 [03:35<14:26,  7.00it/s]\u001b[A\n",
      "2080it [03:35,  7.36it/s]5 [03:35<14:21,  7.04it/s]\u001b[A\n",
      "2081it [03:36,  6.90it/s]5 [03:35<13:35,  7.44it/s]\u001b[A\n",
      "2082it [03:36,  7.60it/s]5 [03:36<14:32,  6.95it/s]\u001b[A\n",
      "2083it [03:36,  7.45it/s]5 [03:36<13:13,  7.64it/s]\u001b[A\n",
      "2085it [03:36,  7.59it/s]5 [03:36<13:30,  7.48it/s]\u001b[A\n",
      "2087it [03:36,  8.05it/s]5 [03:36<13:16,  7.61it/s]\u001b[A\n",
      "2088it [03:36,  8.55it/s]5 [03:36<12:30,  8.07it/s]\u001b[A\n",
      "2089it [03:37,  8.85it/s]5 [03:36<11:47,  8.56it/s]\u001b[A\n",
      "2090it [03:37,  8.89it/s]5 [03:36<11:23,  8.86it/s]\u001b[A\n",
      "2091it [03:37,  9.02it/s]5 [03:37<11:19,  8.90it/s]\u001b[A\n",
      "2093it [03:37,  8.05it/s]5 [03:37<11:10,  9.03it/s]\u001b[A\n",
      "2095it [03:37,  8.61it/s]5 [03:37<12:31,  8.05it/s]\u001b[A\n",
      "2096it [03:37,  8.57it/s]5 [03:37<11:42,  8.61it/s]\u001b[A\n",
      "2097it [03:37,  8.07it/s]5 [03:37<11:45,  8.58it/s]\u001b[A\n",
      "2098it [03:38,  7.91it/s]5 [03:37<12:31,  8.05it/s]\u001b[A\n",
      "2099it [03:38,  8.18it/s]5 [03:38<12:44,  7.91it/s]\u001b[A\n",
      "2100it [03:38,  7.56it/s]5 [03:38<12:19,  8.18it/s]\u001b[A\n",
      "2101it [03:38,  7.15it/s]5 [03:38<13:19,  7.56it/s]\u001b[A\n",
      "2102it [03:38,  7.69it/s]5 [03:38<14:05,  7.15it/s]\u001b[A\n",
      "2103it [03:38,  8.16it/s]5 [03:38<13:05,  7.69it/s]\u001b[A\n",
      "2104it [03:38,  8.44it/s]5 [03:38<12:20,  8.16it/s]\u001b[A\n",
      "2105it [03:38,  8.39it/s]5 [03:38<11:56,  8.43it/s]\u001b[A\n",
      "2106it [03:39,  7.85it/s]5 [03:38<11:59,  8.40it/s]\u001b[A\n",
      "2107it [03:39,  8.05it/s]5 [03:39<12:49,  7.85it/s]\u001b[A\n",
      "2108it [03:39,  8.41it/s]5 [03:39<12:29,  8.05it/s]\u001b[A\n",
      "2109it [03:39,  8.74it/s]5 [03:39<11:57,  8.42it/s]\u001b[A\n",
      "2110it [03:39,  8.82it/s]5 [03:39<11:30,  8.74it/s]\u001b[A\n",
      "2111it [03:39,  7.73it/s]5 [03:39<11:24,  8.82it/s]\u001b[A\n",
      "2112it [03:39,  7.79it/s]5 [03:39<13:01,  7.72it/s]\u001b[A\n",
      "2114it [03:40,  7.99it/s]5 [03:39<12:54,  7.79it/s]\u001b[A\n",
      "2115it [03:40,  7.93it/s]5 [03:40<12:34,  7.99it/s]\u001b[A\n",
      "2117it [03:40,  8.61it/s]5 [03:40<12:40,  7.93it/s]\u001b[A\n",
      "2119it [03:40,  9.16it/s]5 [03:40<11:40,  8.61it/s]\u001b[A\n",
      "2120it [03:40,  9.07it/s]5 [03:40<10:57,  9.16it/s]\u001b[A\n",
      "2121it [03:40,  8.93it/s]5 [03:40<11:04,  9.07it/s]\u001b[A\n",
      "2122it [03:40,  9.05it/s]5 [03:40<11:14,  8.93it/s]\u001b[A\n",
      "2123it [03:41,  8.76it/s]5 [03:40<11:05,  9.05it/s]\u001b[A\n",
      "2124it [03:41,  8.79it/s]5 [03:41<11:28,  8.75it/s]\u001b[A\n",
      "2125it [03:41,  9.07it/s]5 [03:41<11:25,  8.79it/s]\u001b[A\n",
      "2127it [03:41,  9.30it/s]5 [03:41<11:03,  9.07it/s]\u001b[A\n",
      "2128it [03:41,  9.25it/s]5 [03:41<10:47,  9.30it/s]\u001b[A\n",
      "2129it [03:41,  8.28it/s]5 [03:41<10:50,  9.25it/s]\u001b[A\n",
      "2130it [03:41,  8.42it/s]5 [03:41<12:06,  8.28it/s]\u001b[A\n",
      "2132it [03:42,  8.83it/s]5 [03:41<11:54,  8.42it/s]\u001b[A\n",
      "2133it [03:42,  8.70it/s]5 [03:41<11:21,  8.82it/s]\u001b[A\n",
      "2134it [03:42,  8.76it/s]5 [03:42<11:31,  8.70it/s]\u001b[A\n",
      "2135it [03:42,  8.75it/s]5 [03:42<11:26,  8.76it/s]\u001b[A\n",
      "2136it [03:42,  8.28it/s]5 [03:42<11:27,  8.74it/s]\u001b[A\n",
      "2137it [03:42,  8.55it/s]5 [03:42<12:05,  8.28it/s]\u001b[A\n",
      "2138it [03:42,  8.36it/s]5 [03:42<11:42,  8.55it/s]\u001b[A\n",
      "2139it [03:42,  8.67it/s]5 [03:42<11:58,  8.36it/s]\u001b[A\n",
      "2140it [03:43,  7.80it/s]5 [03:42<11:32,  8.67it/s]\u001b[A\n",
      "2141it [03:43,  7.51it/s]5 [03:42<12:49,  7.80it/s]\u001b[A\n",
      "2142it [03:43,  7.88it/s]5 [03:43<13:18,  7.51it/s]\u001b[A\n",
      "2143it [03:43,  8.35it/s]5 [03:43<12:41,  7.88it/s]\u001b[A\n",
      "2144it [03:43,  7.91it/s]5 [03:43<11:59,  8.35it/s]\u001b[A\n",
      "2145it [03:43,  6.52it/s]5 [03:43<12:38,  7.91it/s]\u001b[A\n",
      "2146it [03:43,  7.03it/s]5 [03:43<15:19,  6.53it/s]\u001b[A\n",
      "2147it [03:43,  7.40it/s]5 [03:43<14:12,  7.03it/s]\u001b[A\n",
      "2148it [03:44,  6.70it/s]5 [03:43<13:30,  7.40it/s]\u001b[A\n",
      "2149it [03:44,  5.96it/s]5 [03:44<14:57,  6.68it/s]\u001b[A\n",
      "2150it [03:44,  6.16it/s]5 [03:44<16:45,  5.96it/s]\u001b[A\n",
      "2151it [03:44,  6.69it/s]5 [03:44<16:12,  6.16it/s]\u001b[A\n",
      "2152it [03:44,  5.85it/s]5 [03:44<14:55,  6.69it/s]\u001b[A\n",
      "2153it [03:44,  6.43it/s]5 [03:44<17:05,  5.84it/s]\u001b[A\n",
      "2154it [03:45,  6.98it/s]5 [03:44<15:31,  6.43it/s]\u001b[A\n",
      "2155it [03:45,  6.78it/s]5 [03:45<14:18,  6.98it/s]\u001b[A\n",
      "2156it [03:45,  6.43it/s]5 [03:45<14:43,  6.78it/s]\u001b[A\n",
      "2157it [03:45,  7.00it/s]5 [03:45<15:30,  6.44it/s]\u001b[A\n",
      "2158it [03:45,  7.35it/s]5 [03:45<14:15,  7.00it/s]\u001b[A\n",
      "2159it [03:45,  7.22it/s]5 [03:45<13:35,  7.35it/s]\u001b[A\n",
      "2160it [03:45,  7.40it/s]5 [03:45<13:48,  7.22it/s]\u001b[A\n",
      "2161it [03:46,  7.74it/s]5 [03:45<13:28,  7.40it/s]\u001b[A\n",
      "2162it [03:46,  7.91it/s]5 [03:45<12:53,  7.74it/s]\u001b[A\n",
      "2163it [03:46,  8.22it/s]5 [03:46<12:36,  7.91it/s]\u001b[A\n",
      "2164it [03:46,  7.84it/s]5 [03:46<12:08,  8.22it/s]\u001b[A\n",
      "2166it [03:46,  8.58it/s]5 [03:46<12:42,  7.84it/s]\u001b[A\n",
      "2168it [03:46,  9.13it/s]5 [03:46<11:37,  8.58it/s]\u001b[A\n",
      "2169it [03:46,  8.81it/s]5 [03:46<10:54,  9.13it/s]\u001b[A\n",
      "2170it [03:47,  8.43it/s]5 [03:46<11:18,  8.80it/s]\u001b[A\n",
      "2171it [03:47,  8.30it/s]5 [03:46<11:48,  8.43it/s]\u001b[A\n",
      "2173it [03:47,  8.90it/s]5 [03:47<11:59,  8.30it/s]\u001b[A\n",
      "2174it [03:47,  9.03it/s]5 [03:47<11:10,  8.90it/s]\u001b[A\n",
      "2175it [03:47,  8.83it/s]5 [03:47<11:01,  9.03it/s]\u001b[A\n",
      "2176it [03:47,  9.04it/s]5 [03:47<11:16,  8.83it/s]\u001b[A\n",
      "2178it [03:47,  9.28it/s]5 [03:47<10:59,  9.04it/s]\u001b[A\n",
      "2180it [03:48,  9.46it/s]5 [03:47<10:43,  9.28it/s]\u001b[A\n",
      "2181it [03:48,  9.41it/s]5 [03:48<10:31,  9.45it/s]\u001b[A\n",
      "2183it [03:48,  9.95it/s]5 [03:48<10:33,  9.41it/s]\u001b[A\n",
      "2185it [03:48,  9.13it/s]5 [03:48<09:59,  9.95it/s]\u001b[A\n",
      "2186it [03:48,  8.59it/s]5 [03:48<10:52,  9.13it/s]\u001b[A\n",
      "2187it [03:48,  8.54it/s]5 [03:48<11:33,  8.59it/s]\u001b[A\n",
      "2189it [03:49,  8.71it/s]5 [03:48<11:37,  8.54it/s]\u001b[A\n",
      "2190it [03:49,  8.99it/s]5 [03:49<11:23,  8.71it/s]\u001b[A\n",
      "2191it [03:49,  8.08it/s]5 [03:49<11:02,  8.99it/s]\u001b[A\n",
      "2192it [03:49,  7.81it/s]5 [03:49<12:16,  8.08it/s]\u001b[A\n",
      "2193it [03:49,  8.01it/s]5 [03:49<12:42,  7.81it/s]\u001b[A\n",
      "2194it [03:49,  8.14it/s]5 [03:49<12:23,  8.01it/s]\u001b[A\n",
      "2195it [03:49,  8.07it/s]5 [03:49<12:10,  8.14it/s]\u001b[A\n",
      "2196it [03:49,  7.97it/s]5 [03:49<12:17,  8.07it/s]\u001b[A\n",
      "2197it [03:50,  7.98it/s]5 [03:49<12:26,  7.97it/s]\u001b[A\n",
      "2198it [03:50,  8.39it/s]5 [03:50<12:25,  7.98it/s]\u001b[A\n",
      "2199it [03:50,  8.23it/s]5 [03:50<11:49,  8.39it/s]\u001b[A\n",
      "2200it [03:50,  7.98it/s]5 [03:50<12:02,  8.23it/s]\u001b[A\n",
      "2201it [03:50,  8.42it/s]5 [03:50<12:24,  7.98it/s]\u001b[A\n",
      "2202it [03:50,  8.42it/s]5 [03:50<11:46,  8.42it/s]\u001b[A\n",
      "2203it [03:50,  7.73it/s]5 [03:50<11:45,  8.42it/s]\u001b[A\n",
      "2204it [03:51,  7.37it/s]5 [03:50<12:48,  7.73it/s]\u001b[A\n",
      "2205it [03:51,  7.16it/s]5 [03:50<13:26,  7.37it/s]\u001b[A\n",
      "2206it [03:51,  7.51it/s]5 [03:51<13:49,  7.16it/s]\u001b[A\n",
      "2207it [03:51,  7.89it/s]5 [03:51<13:11,  7.51it/s]\u001b[A\n",
      "2208it [03:51,  8.37it/s]5 [03:51<12:33,  7.89it/s]\u001b[A\n",
      "2210it [03:51,  8.85it/s]5 [03:51<11:49,  8.37it/s]\u001b[A\n",
      "2211it [03:51,  8.78it/s]5 [03:51<11:10,  8.85it/s]\u001b[A\n",
      "2212it [03:52,  7.05it/s]5 [03:51<11:15,  8.78it/s]\u001b[A\n",
      "2213it [03:52,  7.72it/s]5 [03:51<14:03,  7.04it/s]\u001b[A\n",
      "2214it [03:52,  7.80it/s]5 [03:52<12:48,  7.72it/s]\u001b[A\n",
      "2215it [03:52,  7.71it/s]5 [03:52<12:40,  7.80it/s]\u001b[A\n",
      "2216it [03:52,  6.87it/s]5 [03:52<13:09,  7.51it/s]\u001b[A\n",
      "2218it [03:52,  7.22it/s]5 [03:52<14:16,  6.93it/s]\u001b[A\n",
      "2220it [03:52,  8.34it/s]5 [03:52<13:35,  7.26it/s]\u001b[A\n",
      "2222it [03:53,  9.52it/s]5 [03:52<11:46,  8.38it/s]\u001b[A\n",
      "2224it [03:53, 10.98it/s]5 [03:53<10:19,  9.56it/s]\u001b[A\n",
      "2226it [03:53, 12.41it/s]5 [03:53<08:57, 11.01it/s]\u001b[A\n",
      "2228it [03:53, 13.28it/s]5 [03:53<07:55, 12.44it/s]\u001b[A\n",
      "2230it [03:53, 12.46it/s]5 [03:53<07:24, 13.31it/s]\u001b[A\n",
      "2232it [03:53, 10.54it/s]5 [03:53<07:54, 12.47it/s]\u001b[A\n",
      "2234it [03:54,  8.84it/s]5 [03:53<09:21, 10.53it/s]\u001b[A\n",
      "2236it [03:54,  8.15it/s]5 [03:54<11:14,  8.77it/s]\u001b[A\n",
      "2237it [03:54,  8.14it/s]5 [03:54<12:03,  8.17it/s]\u001b[A\n",
      "2238it [03:54,  7.20it/s]5 [03:54<12:06,  8.13it/s]\u001b[A\n",
      "2239it [03:54,  7.03it/s]5 [03:54<13:38,  7.21it/s]\u001b[A\n",
      "2240it [03:55,  7.54it/s]5 [03:54<13:59,  7.03it/s]\u001b[A\n",
      "2241it [03:55,  7.59it/s]5 [03:54<13:03,  7.53it/s]\u001b[A\n",
      "2243it [03:55,  8.15it/s]5 [03:55<12:56,  7.60it/s]\u001b[A\n",
      "2244it [03:55,  7.71it/s]5 [03:55<12:03,  8.16it/s]\u001b[A\n",
      "2246it [03:55,  8.30it/s]5 [03:55<12:45,  7.71it/s]\u001b[A\n",
      "2247it [03:55,  6.47it/s]5 [03:55<11:50,  8.30it/s]\u001b[A\n",
      "2248it [03:56,  6.57it/s]5 [03:55<15:19,  6.41it/s]\u001b[A\n",
      "2249it [03:56,  6.85it/s]5 [03:56<14:55,  6.59it/s]\u001b[A\n",
      "2250it [03:56,  7.25it/s]5 [03:56<14:32,  6.76it/s]\u001b[A\n",
      "2251it [03:56,  7.80it/s]5 [03:56<13:27,  7.30it/s]\u001b[A\n",
      "2252it [03:56,  6.37it/s]5 [03:56<12:50,  7.65it/s]\u001b[A\n",
      "2253it [03:56,  6.86it/s]5 [03:56<15:24,  6.38it/s]\u001b[A\n",
      "2255it [03:57,  7.50it/s]5 [03:56<14:10,  6.92it/s]\u001b[A\n",
      "2256it [03:57,  7.70it/s]5 [03:56<13:02,  7.53it/s]\u001b[A\n",
      "2257it [03:57,  7.34it/s]5 [03:57<12:45,  7.70it/s]\u001b[A\n",
      "2258it [03:57,  7.82it/s]5 [03:57<13:15,  7.40it/s]\u001b[A\n",
      "2259it [03:57,  8.17it/s]5 [03:57<12:44,  7.70it/s]\u001b[A\n",
      "2260it [03:57,  7.69it/s]5 [03:57<11:52,  8.26it/s]\u001b[A\n",
      "2262it [03:57,  8.02it/s]5 [03:57<12:39,  7.75it/s]\u001b[A\n",
      "2263it [03:58,  7.49it/s]5 [03:57<12:09,  8.07it/s]\u001b[A\n",
      "2264it [03:58,  6.42it/s]5 [03:57<13:02,  7.51it/s]\u001b[A\n",
      "2265it [03:58,  6.73it/s]5 [03:58<15:13,  6.43it/s]\u001b[A\n",
      "2266it [03:58,  6.80it/s]5 [03:58<14:31,  6.74it/s]\u001b[A\n",
      "2267it [03:58,  7.22it/s]5 [03:58<14:23,  6.81it/s]\u001b[A\n",
      "2269it [03:58,  7.77it/s]5 [03:58<13:33,  7.22it/s]\u001b[A\n",
      "2270it [03:58,  7.49it/s]5 [03:58<12:35,  7.77it/s]\u001b[A\n",
      "2271it [03:59,  7.16it/s]5 [03:58<13:04,  7.49it/s]\u001b[A\n",
      "2272it [03:59,  5.70it/s]5 [03:59<13:40,  7.16it/s]\u001b[A\n",
      "2273it [03:59,  5.76it/s]5 [03:59<17:16,  5.67it/s]\u001b[A\n",
      "2274it [03:59,  6.05it/s]5 [03:59<16:57,  5.77it/s]\u001b[A\n",
      "2275it [03:59,  6.34it/s]5 [03:59<16:08,  6.06it/s]\u001b[A\n",
      "2277it [04:00,  7.00it/s]5 [03:59<15:24,  6.35it/s]\u001b[A\n",
      "2278it [04:00,  5.89it/s]5 [04:00<13:57,  7.01it/s]\u001b[A\n",
      "2279it [04:00,  5.82it/s]5 [04:00<16:37,  5.88it/s]\u001b[A\n",
      "2280it [04:00,  6.46it/s]5 [04:00<16:46,  5.83it/s]\u001b[A\n",
      "2281it [04:00,  6.58it/s]5 [04:00<15:06,  6.47it/s]\u001b[A\n",
      "2282it [04:00,  6.29it/s]5 [04:00<14:53,  6.57it/s]\u001b[A\n",
      "2283it [04:01,  5.24it/s]5 [04:00<15:42,  6.22it/s]\u001b[A\n",
      "2284it [04:01,  5.79it/s]5 [04:01<18:33,  5.26it/s]\u001b[A\n",
      "2285it [04:01,  6.16it/s]5 [04:01<16:49,  5.80it/s]\u001b[A\n",
      "2286it [04:01,  6.46it/s]5 [04:01<15:50,  6.17it/s]\u001b[A\n",
      "2288it [04:01,  6.99it/s]5 [04:01<15:05,  6.47it/s]\u001b[A\n",
      "2289it [04:01,  7.20it/s]5 [04:01<13:56,  7.00it/s]\u001b[A\n",
      "2290it [04:02,  6.38it/s]5 [04:01<13:37,  7.16it/s]\u001b[A\n",
      "2291it [04:02,  5.02it/s]5 [04:02<15:20,  6.36it/s]\u001b[A\n",
      "2292it [04:02,  4.93it/s]5 [04:02<19:30,  5.00it/s]\u001b[A\n",
      "2293it [04:02,  5.41it/s]5 [04:02<19:43,  4.94it/s]\u001b[A\n",
      "2294it [04:02,  5.72it/s]5 [04:02<17:58,  5.43it/s]\u001b[A\n",
      "2295it [04:03,  5.24it/s]5 [04:02<17:02,  5.72it/s]\u001b[A\n",
      "2296it [04:03,  5.16it/s]5 [04:03<18:44,  5.20it/s]\u001b[A\n",
      "2297it [04:03,  4.59it/s]5 [04:03<19:04,  5.11it/s]\u001b[A\n",
      "2298it [04:03,  4.09it/s]5 [04:03<21:19,  4.57it/s]\u001b[A\n",
      "2299it [04:04,  4.94it/s]5 [04:03<23:40,  4.12it/s]\u001b[A\n",
      "2300it [04:04,  4.76it/s]5 [04:04<19:46,  4.93it/s]\u001b[A\n",
      "2301it [04:04,  5.53it/s]5 [04:04<20:20,  4.79it/s]\u001b[A\n",
      "2302it [04:04,  5.10it/s]5 [04:04<17:32,  5.55it/s]\u001b[A\n",
      "2303it [04:04,  4.91it/s]5 [04:04<19:03,  5.11it/s]\u001b[A\n",
      "2304it [04:05,  4.69it/s]5 [04:04<19:49,  4.91it/s]\u001b[A\n",
      "2305it [04:05,  5.20it/s]5 [04:05<20:42,  4.70it/s]\u001b[A\n",
      "2306it [04:05,  5.41it/s]5 [04:05<18:40,  5.21it/s]\u001b[A\n",
      "2307it [04:05,  4.95it/s]5 [04:05<17:57,  5.42it/s]\u001b[A\n",
      "2308it [04:05,  4.69it/s]5 [04:05<19:42,  4.94it/s]\u001b[A\n",
      "2309it [04:06,  4.71it/s]5 [04:05<20:53,  4.66it/s]\u001b[A\n",
      "2310it [04:06,  4.74it/s]5 [04:06<20:36,  4.72it/s]\u001b[A\n",
      "2311it [04:06,  4.73it/s]5 [04:06<20:27,  4.76it/s]\u001b[A\n",
      "2312it [04:06,  4.34it/s]5 [04:06<20:44,  4.69it/s]\u001b[A\n",
      "2313it [04:07,  3.93it/s]5 [04:06<22:29,  4.32it/s]\u001b[A\n",
      "2314it [04:07,  4.22it/s]5 [04:07<24:34,  3.96it/s]\u001b[A\n",
      "2315it [04:07,  4.66it/s]5 [04:07<23:02,  4.22it/s]\u001b[A\n",
      "2316it [04:07,  5.16it/s]5 [04:07<20:46,  4.68it/s]\u001b[A\n",
      "2317it [04:07,  5.40it/s]5 [04:07<18:45,  5.18it/s]\u001b[A\n",
      "2318it [04:07,  5.91it/s]5 [04:07<17:56,  5.42it/s]\u001b[A\n",
      "2319it [04:08,  4.80it/s]5 [04:07<16:23,  5.92it/s]\u001b[A\n",
      "2320it [04:08,  4.89it/s]5 [04:08<20:12,  4.80it/s]\u001b[A\n",
      "2321it [04:08,  5.15it/s]5 [04:08<19:49,  4.90it/s]\u001b[A\n",
      "2322it [04:08,  4.92it/s]5 [04:08<18:49,  5.16it/s]\u001b[A\n",
      "2323it [04:09,  3.54it/s]5 [04:08<19:43,  4.92it/s]\u001b[A\n",
      "2324it [04:09,  3.90it/s]5 [04:09<27:39,  3.51it/s]\u001b[A\n",
      "2325it [04:09,  4.39it/s]5 [04:09<25:00,  3.88it/s]\u001b[A\n",
      "2326it [04:09,  4.90it/s]5 [04:09<21:57,  4.42it/s]\u001b[A\n",
      "2327it [04:09,  5.61it/s]5 [04:09<19:42,  4.92it/s]\u001b[A\n",
      "2329it [04:10,  6.26it/s]5 [04:09<17:13,  5.63it/s]\u001b[A\n",
      "2330it [04:10,  6.69it/s]5 [04:10<15:27,  6.27it/s]\u001b[A\n",
      "2331it [04:10,  6.70it/s]5 [04:10<14:27,  6.70it/s]\u001b[A\n",
      "2332it [04:10,  5.59it/s]5 [04:10<14:47,  6.55it/s]\u001b[A\n",
      "2333it [04:10,  6.03it/s]5 [04:10<17:13,  5.63it/s]\u001b[A\n",
      "2334it [04:10,  5.70it/s]5 [04:10<16:06,  6.01it/s]\u001b[A\n",
      "2335it [04:11,  5.76it/s]5 [04:10<17:09,  5.64it/s]\u001b[A\n",
      "2336it [04:11,  6.57it/s]5 [04:11<16:39,  5.81it/s]\u001b[A\n",
      "2337it [04:11,  6.68it/s]5 [04:11<14:37,  6.62it/s]\u001b[A\n",
      "2339it [04:11,  7.58it/s]5 [04:11<14:24,  6.72it/s]\u001b[A\n",
      "2340it [04:11,  7.79it/s]5 [04:11<12:42,  7.61it/s]\u001b[A\n",
      "2342it [04:12,  7.20it/s]5 [04:11<12:23,  7.81it/s]\u001b[A\n",
      "2343it [04:12,  6.25it/s]5 [04:11<13:29,  7.17it/s]\u001b[A\n",
      "2344it [04:12,  5.65it/s]5 [04:12<15:20,  6.31it/s]\u001b[A\n",
      "2345it [04:12,  5.33it/s]5 [04:12<17:13,  5.61it/s]\u001b[A\n",
      "2346it [04:12,  6.10it/s]5 [04:12<18:06,  5.34it/s]\u001b[A\n",
      "2347it [04:12,  6.69it/s]5 [04:12<15:43,  6.15it/s]\u001b[A\n",
      "2348it [04:13,  6.27it/s]5 [04:12<14:25,  6.70it/s]\u001b[A\n",
      "2349it [04:13,  6.47it/s]5 [04:13<15:34,  6.21it/s]\u001b[A\n",
      "2350it [04:13,  6.65it/s]5 [04:13<14:48,  6.52it/s]\u001b[A\n",
      "2351it [04:13,  6.65it/s]5 [04:13<14:25,  6.69it/s]\u001b[A\n",
      "2352it [04:13,  6.68it/s]5 [04:13<14:27,  6.68it/s]\u001b[A\n",
      "2353it [04:13,  5.44it/s]5 [04:13<14:25,  6.70it/s]\u001b[A\n",
      "2354it [04:14,  5.68it/s]5 [04:13<17:52,  5.40it/s]\u001b[A\n",
      "2355it [04:14,  6.17it/s]5 [04:14<16:58,  5.69it/s]\u001b[A\n",
      "2356it [04:14,  6.92it/s]5 [04:14<15:34,  6.20it/s]\u001b[A\n",
      "2357it [04:14,  7.50it/s]5 [04:14<13:53,  6.94it/s]\u001b[A\n",
      "2358it [04:14,  7.39it/s]5 [04:14<12:55,  7.47it/s]\u001b[A\n",
      "2359it [04:14,  7.86it/s]5 [04:14<12:59,  7.42it/s]\u001b[A\n",
      "2360it [04:14,  7.52it/s]5 [04:14<12:13,  7.88it/s]\u001b[A\n",
      "2361it [04:14,  7.84it/s]5 [04:14<12:48,  7.53it/s]\u001b[A\n",
      "2362it [04:15,  7.92it/s]5 [04:14<12:17,  7.84it/s]\u001b[A\n",
      "2363it [04:15,  7.92it/s]5 [04:14<12:10,  7.92it/s]\u001b[A\n",
      "2364it [04:15,  8.28it/s]5 [04:15<12:10,  7.92it/s]\u001b[A\n",
      "2366it [04:15,  8.83it/s]5 [04:15<11:37,  8.28it/s]\u001b[A\n",
      "2367it [04:15,  8.34it/s]5 [04:15<10:54,  8.83it/s]\u001b[A\n",
      "2368it [04:15,  8.23it/s]5 [04:15<11:32,  8.34it/s]\u001b[A\n",
      "2370it [04:15,  8.47it/s]5 [04:15<11:41,  8.23it/s]\u001b[A\n",
      "2372it [04:16,  8.60it/s]5 [04:15<11:21,  8.47it/s]\u001b[A\n",
      "2373it [04:16,  8.08it/s]5 [04:16<11:11,  8.60it/s]\u001b[A\n",
      "2374it [04:16,  7.14it/s]5 [04:16<11:54,  8.08it/s]\u001b[A\n",
      "2375it [04:16,  7.72it/s]5 [04:16<13:28,  7.14it/s]\u001b[A\n",
      "2376it [04:16,  7.92it/s]5 [04:16<12:27,  7.72it/s]\u001b[A\n",
      "2377it [04:16,  8.18it/s]5 [04:16<12:08,  7.92it/s]\u001b[A\n",
      "2378it [04:17,  6.58it/s]5 [04:16<11:44,  8.18it/s]\u001b[A\n",
      "2379it [04:17,  7.17it/s]5 [04:16<14:36,  6.58it/s]\u001b[A\n",
      "2380it [04:17,  7.44it/s]5 [04:17<13:24,  7.16it/s]\u001b[A\n",
      "2381it [04:17,  7.92it/s]5 [04:17<12:57,  7.41it/s]\u001b[A\n",
      "2382it [04:17,  7.06it/s]5 [04:17<12:07,  7.93it/s]\u001b[A\n",
      "2383it [04:17,  7.24it/s]5 [04:17<13:35,  7.06it/s]\u001b[A\n",
      "2384it [04:17,  6.84it/s]5 [04:17<13:21,  7.19it/s]\u001b[A\n",
      "2385it [04:18,  6.64it/s]5 [04:17<14:00,  6.86it/s]\u001b[A\n",
      "2386it [04:18,  6.87it/s]5 [04:17<14:29,  6.63it/s]\u001b[A\n",
      "2387it [04:18,  7.13it/s]5 [04:18<13:55,  6.89it/s]\u001b[A\n",
      "2388it [04:18,  6.27it/s]5 [04:18<13:26,  7.14it/s]\u001b[A\n",
      "2389it [04:18,  6.07it/s]5 [04:18<15:16,  6.28it/s]\u001b[A\n",
      "2391it [04:18,  6.97it/s]5 [04:18<15:47,  6.07it/s]\u001b[A\n",
      "2392it [04:19,  6.35it/s]5 [04:18<13:44,  6.98it/s]\u001b[A\n",
      "2393it [04:19,  6.04it/s]5 [04:18<15:05,  6.35it/s]\u001b[A\n",
      "2394it [04:19,  6.69it/s]5 [04:19<15:51,  6.04it/s]\u001b[A\n",
      "2395it [04:19,  6.38it/s]5 [04:19<14:18,  6.70it/s]\u001b[A\n",
      "2396it [04:19,  6.99it/s]5 [04:19<15:16,  6.27it/s]\u001b[A\n",
      "2397it [04:19,  7.21it/s]5 [04:19<13:38,  7.02it/s]\u001b[A\n",
      "2398it [04:19,  7.19it/s]5 [04:19<13:13,  7.24it/s]\u001b[A\n",
      "2399it [04:20,  7.23it/s]5 [04:19<13:16,  7.21it/s]\u001b[A\n",
      "2401it [04:20,  7.53it/s]5 [04:19<13:12,  7.25it/s]\u001b[A\n",
      "2402it [04:20,  7.32it/s]5 [04:20<12:44,  7.51it/s]\u001b[A\n",
      "2403it [04:20,  7.56it/s]5 [04:20<12:59,  7.37it/s]\u001b[A\n",
      "2404it [04:20,  7.31it/s]5 [04:20<12:39,  7.56it/s]\u001b[A\n",
      "2405it [04:20,  7.81it/s]5 [04:20<13:01,  7.35it/s]\u001b[A\n",
      "2406it [04:20,  8.15it/s]5 [04:20<12:12,  7.83it/s]\u001b[A\n",
      "2407it [04:21,  7.12it/s]5 [04:20<11:42,  8.17it/s]\u001b[A\n",
      "2408it [04:21,  6.29it/s]5 [04:21<13:25,  7.13it/s]\u001b[A\n",
      "2410it [04:21,  6.92it/s]5 [04:21<15:10,  6.30it/s]\u001b[A\n",
      "2411it [04:21,  6.70it/s]5 [04:21<13:48,  6.92it/s]\u001b[A\n",
      "2412it [04:21,  7.10it/s]5 [04:21<14:17,  6.68it/s]\u001b[A\n",
      "2413it [04:21,  7.22it/s]5 [04:21<13:26,  7.11it/s]\u001b[A\n",
      "2414it [04:22,  7.84it/s]5 [04:21<13:12,  7.23it/s]\u001b[A\n",
      "2415it [04:22,  7.21it/s]5 [04:21<12:09,  7.85it/s]\u001b[A\n",
      "2417it [04:22,  7.57it/s]5 [04:22<13:14,  7.21it/s]\u001b[A\n",
      "2418it [04:22,  7.67it/s]5 [04:22<12:36,  7.58it/s]\u001b[A\n",
      "2419it [04:22,  8.00it/s]5 [04:22<12:26,  7.67it/s]\u001b[A\n",
      "2420it [04:22,  7.95it/s]5 [04:22<11:55,  8.00it/s]\u001b[A\n",
      "2421it [04:22,  7.89it/s]5 [04:22<12:00,  7.95it/s]\u001b[A\n",
      "2422it [04:23,  7.37it/s]5 [04:22<12:05,  7.89it/s]\u001b[A\n",
      "2423it [04:23,  7.31it/s]5 [04:23<12:57,  7.37it/s]\u001b[A\n",
      "2424it [04:23,  7.14it/s]5 [04:23<13:03,  7.31it/s]\u001b[A\n",
      "2425it [04:23,  7.35it/s]5 [04:23<13:21,  7.14it/s]\u001b[A\n",
      "2427it [04:23,  7.68it/s]5 [04:23<12:57,  7.36it/s]\u001b[A\n",
      "2428it [04:23,  7.10it/s]5 [04:23<12:24,  7.68it/s]\u001b[A\n",
      "2429it [04:24,  7.44it/s]5 [04:23<13:24,  7.10it/s]\u001b[A\n",
      "2431it [04:24,  7.91it/s]5 [04:23<12:48,  7.44it/s]\u001b[A\n",
      "2432it [04:24,  8.06it/s]5 [04:24<12:02,  7.91it/s]\u001b[A\n",
      "2434it [04:24,  8.59it/s]5 [04:24<11:48,  8.06it/s]\u001b[A\n",
      "2435it [04:24,  8.82it/s]5 [04:24<11:04,  8.59it/s]\u001b[A\n",
      "2436it [04:24,  8.59it/s]5 [04:24<10:47,  8.82it/s]\u001b[A\n",
      "2437it [04:24,  8.25it/s]5 [04:24<11:05,  8.58it/s]\u001b[A\n",
      "2439it [04:25,  8.90it/s]5 [04:24<11:31,  8.25it/s]\u001b[A\n",
      "2440it [04:25,  8.99it/s]5 [04:25<10:40,  8.91it/s]\u001b[A\n",
      "2442it [04:25,  9.44it/s]5 [04:25<10:34,  8.99it/s]\u001b[A\n",
      "2443it [04:25,  9.52it/s]5 [04:25<10:04,  9.44it/s]\u001b[A\n",
      "2444it [04:25,  8.27it/s]5 [04:25<09:59,  9.52it/s]\u001b[A\n",
      "2445it [04:25,  8.04it/s]5 [04:25<11:29,  8.27it/s]\u001b[A\n",
      "2446it [04:25,  8.46it/s]5 [04:25<11:48,  8.04it/s]\u001b[A\n",
      "2447it [04:26,  7.66it/s]5 [04:25<11:13,  8.46it/s]\u001b[A\n",
      "2448it [04:26,  6.71it/s]5 [04:25<12:28,  7.61it/s]\u001b[A\n",
      "2449it [04:26,  6.86it/s]5 [04:26<14:10,  6.70it/s]\u001b[A\n",
      "2450it [04:26,  6.76it/s]5 [04:26<13:49,  6.87it/s]\u001b[A\n",
      "2451it [04:26,  6.61it/s]5 [04:26<14:01,  6.77it/s]\u001b[A\n",
      "2452it [04:26,  5.85it/s]5 [04:26<14:23,  6.60it/s]\u001b[A\n",
      "2453it [04:27,  5.83it/s]5 [04:26<16:11,  5.86it/s]\u001b[A\n",
      "2454it [04:27,  6.10it/s]5 [04:27<16:15,  5.83it/s]\u001b[A\n",
      "2455it [04:27,  6.21it/s]5 [04:27<15:32,  6.10it/s]\u001b[A\n",
      "2456it [04:27,  5.27it/s]5 [04:27<15:15,  6.22it/s]\u001b[A\n",
      "2457it [04:27,  4.79it/s]5 [04:27<18:12,  5.21it/s]\u001b[A\n",
      "2458it [04:28,  4.57it/s]5 [04:27<19:57,  4.75it/s]\u001b[A\n",
      "2459it [04:28,  4.05it/s]5 [04:28<20:53,  4.54it/s]\u001b[A\n",
      "2460it [04:28,  4.70it/s]5 [04:28<23:20,  4.06it/s]\u001b[A\n",
      "2461it [04:28,  5.05it/s]5 [04:28<20:00,  4.73it/s]\u001b[A\n",
      "2462it [04:28,  4.67it/s]5 [04:28<18:39,  5.08it/s]\u001b[A\n",
      "2463it [04:29,  4.66it/s]5 [04:28<20:15,  4.67it/s]\u001b[A\n",
      "2464it [04:29,  4.75it/s]5 [04:29<20:16,  4.67it/s]\u001b[A\n",
      "2465it [04:29,  5.02it/s]5 [04:29<19:51,  4.77it/s]\u001b[A\n",
      "2466it [04:29,  5.12it/s]5 [04:29<18:48,  5.03it/s]\u001b[A\n",
      "2467it [04:29,  4.97it/s]5 [04:29<18:26,  5.13it/s]\u001b[A\n",
      "2468it [04:30,  5.58it/s]5 [04:29<19:07,  4.95it/s]\u001b[A\n",
      "2469it [04:30,  5.64it/s]5 [04:30<17:03,  5.55it/s]\u001b[A\n",
      "2470it [04:30,  5.28it/s]5 [04:30<16:42,  5.66it/s]\u001b[A\n",
      "2471it [04:30,  5.27it/s]5 [04:30<17:56,  5.27it/s]\u001b[A\n",
      "2472it [04:30,  5.89it/s]5 [04:30<17:53,  5.29it/s]\u001b[A\n",
      "2473it [04:30,  6.51it/s]5 [04:30<16:00,  5.91it/s]\u001b[A\n",
      "2474it [04:31,  6.88it/s]5 [04:30<14:29,  6.52it/s]\u001b[A\n",
      "2475it [04:31,  6.98it/s]5 [04:30<13:42,  6.89it/s]\u001b[A\n",
      "2476it [04:31,  7.34it/s]5 [04:31<13:31,  6.99it/s]\u001b[A\n",
      "2477it [04:31,  7.59it/s]5 [04:31<12:51,  7.35it/s]\u001b[A\n",
      "2478it [04:31,  7.27it/s]5 [04:31<12:25,  7.60it/s]\u001b[A\n",
      "2479it [04:31,  7.40it/s]5 [04:31<12:58,  7.28it/s]\u001b[A\n",
      "2480it [04:31,  6.81it/s]5 [04:31<12:46,  7.40it/s]\u001b[A\n",
      "2481it [04:32,  6.70it/s]5 [04:31<13:51,  6.82it/s]\u001b[A\n",
      "2482it [04:32,  6.99it/s]5 [04:31<14:05,  6.70it/s]\u001b[A\n",
      "2483it [04:32,  7.04it/s]5 [04:32<13:29,  6.99it/s]\u001b[A\n",
      "2484it [04:32,  6.69it/s]5 [04:32<13:23,  7.05it/s]\u001b[A\n",
      "2485it [04:32,  6.89it/s]5 [04:32<14:06,  6.69it/s]\u001b[A\n",
      "2486it [04:32,  6.70it/s]5 [04:32<13:41,  6.89it/s]\u001b[A\n",
      "2487it [04:32,  6.34it/s]5 [04:32<14:05,  6.69it/s]\u001b[A\n",
      "2488it [04:33,  6.86it/s]5 [04:32<14:52,  6.34it/s]\u001b[A\n",
      "2489it [04:33,  6.83it/s]5 [04:33<13:45,  6.85it/s]\u001b[A\n",
      "2490it [04:33,  6.82it/s]5 [04:33<13:48,  6.83it/s]\u001b[A\n",
      "2491it [04:33,  6.38it/s]5 [04:33<13:48,  6.82it/s]\u001b[A\n",
      "2492it [04:33,  6.82it/s]5 [04:33<14:46,  6.38it/s]\u001b[A\n",
      "2493it [04:33,  6.82it/s]5 [04:33<13:48,  6.82it/s]\u001b[A\n",
      "2494it [04:33,  6.49it/s]5 [04:33<13:49,  6.82it/s]\u001b[A\n",
      "2495it [04:34,  6.51it/s]5 [04:33<14:30,  6.49it/s]\u001b[A\n",
      "2496it [04:34,  6.33it/s]5 [04:34<14:27,  6.51it/s]\u001b[A\n",
      "2497it [04:34,  6.36it/s]5 [04:34<14:51,  6.33it/s]\u001b[A\n",
      "2498it [04:34,  6.71it/s]5 [04:34<14:48,  6.36it/s]\u001b[A\n",
      "2499it [04:34,  6.87it/s]5 [04:34<14:00,  6.72it/s]\u001b[A\n",
      "2500it [04:34,  6.01it/s]5 [04:34<13:42,  6.87it/s]\u001b[A\n",
      "2501it [04:35,  5.82it/s]5 [04:34<15:39,  6.01it/s]\u001b[A\n",
      "2502it [04:35,  6.64it/s]5 [04:35<16:10,  5.82it/s]\u001b[A\n",
      "2504it [04:35,  7.40it/s]5 [04:35<14:10,  6.64it/s]\u001b[A\n",
      "2506it [04:35,  7.82it/s]5 [04:35<12:42,  7.39it/s]\u001b[A\n",
      "2507it [04:35,  7.55it/s]5 [04:35<12:00,  7.82it/s]\u001b[A\n",
      "2508it [04:35,  8.01it/s]5 [04:35<12:27,  7.55it/s]\u001b[A\n",
      "2510it [04:36,  8.32it/s]5 [04:35<11:44,  8.00it/s]\u001b[A\n",
      "2511it [04:36,  7.21it/s]5 [04:36<11:17,  8.32it/s]\u001b[A\n",
      "2512it [04:36,  7.60it/s]5 [04:36<13:01,  7.21it/s]\u001b[A\n",
      "2513it [04:36,  8.10it/s]5 [04:36<12:21,  7.59it/s]\u001b[A\n",
      "2514it [04:36,  8.06it/s]5 [04:36<11:35,  8.10it/s]\u001b[A\n",
      "2515it [04:36,  7.35it/s]5 [04:36<11:38,  8.06it/s]\u001b[A\n",
      "2516it [04:36,  7.16it/s]5 [04:36<12:45,  7.35it/s]\u001b[A\n",
      "2517it [04:37,  6.27it/s]5 [04:36<13:06,  7.15it/s]\u001b[A\n",
      "2518it [04:37,  6.09it/s]5 [04:37<14:58,  6.27it/s]\u001b[A\n",
      "2519it [04:37,  6.38it/s]5 [04:37<15:24,  6.09it/s]\u001b[A\n",
      "2520it [04:37,  6.28it/s]5 [04:37<14:42,  6.38it/s]\u001b[A\n",
      "2521it [04:37,  6.55it/s]5 [04:37<14:55,  6.28it/s]\u001b[A\n",
      "2522it [04:37,  6.51it/s]5 [04:37<14:18,  6.55it/s]\u001b[A\n",
      "2523it [04:38,  5.89it/s]5 [04:37<14:23,  6.51it/s]\u001b[A\n",
      "2524it [04:38,  5.85it/s]5 [04:38<15:53,  5.89it/s]\u001b[A\n",
      "2525it [04:38,  6.15it/s]5 [04:38<16:00,  5.85it/s]\u001b[A\n",
      "2526it [04:38,  6.19it/s]5 [04:38<15:13,  6.15it/s]\u001b[A\n",
      "2527it [04:38,  6.85it/s]5 [04:38<15:07,  6.19it/s]\u001b[A\n",
      "2528it [04:38,  7.42it/s]5 [04:38<13:40,  6.85it/s]\u001b[A\n",
      "2530it [04:39,  8.04it/s]5 [04:38<12:36,  7.42it/s]\u001b[A\n",
      "2532it [04:39,  8.55it/s]5 [04:38<11:38,  8.04it/s]\u001b[A\n",
      "2533it [04:39,  8.60it/s]5 [04:39<10:56,  8.55it/s]\u001b[A\n",
      "2534it [04:39,  8.54it/s]5 [04:39<10:52,  8.60it/s]\u001b[A\n",
      "2535it [04:39,  8.59it/s]5 [04:39<10:56,  8.54it/s]\u001b[A\n",
      "2536it [04:39,  8.57it/s]5 [04:39<10:52,  8.60it/s]\u001b[A\n",
      "2537it [04:39,  8.06it/s]5 [04:39<10:54,  8.57it/s]\u001b[A\n",
      "2538it [04:39,  8.35it/s]5 [04:39<11:35,  8.06it/s]\u001b[A\n",
      "2539it [04:40,  8.14it/s]5 [04:39<11:11,  8.35it/s]\u001b[A\n",
      "2540it [04:40,  8.42it/s]5 [04:40<11:28,  8.14it/s]\u001b[A\n",
      "2541it [04:40,  8.17it/s]5 [04:40<11:05,  8.42it/s]\u001b[A\n",
      "2542it [04:40,  8.17it/s]5 [04:40<11:26,  8.17it/s]\u001b[A\n",
      "2543it [04:40,  8.19it/s]5 [04:40<11:25,  8.17it/s]\u001b[A\n",
      "2545it [04:40,  8.36it/s]5 [04:40<11:23,  8.19it/s]\u001b[A\n",
      "2546it [04:40,  7.92it/s]5 [04:40<11:11,  8.34it/s]\u001b[A\n",
      "2547it [04:41,  8.14it/s]5 [04:40<11:44,  7.95it/s]\u001b[A\n",
      "2548it [04:41,  8.33it/s]5 [04:40<11:25,  8.17it/s]\u001b[A\n",
      "2549it [04:41,  8.23it/s]5 [04:41<11:10,  8.35it/s]\u001b[A\n",
      "2550it [04:41,  6.44it/s]5 [04:41<11:26,  8.15it/s]\u001b[A\n",
      "2551it [04:41,  5.94it/s]5 [04:41<14:30,  6.43it/s]\u001b[A\n",
      "2552it [04:41,  6.51it/s]5 [04:41<15:42,  5.94it/s]\u001b[A\n",
      "2553it [04:42,  5.80it/s]5 [04:41<14:15,  6.54it/s]\u001b[A\n",
      "2554it [04:42,  6.14it/s]5 [04:41<16:11,  5.76it/s]\u001b[A\n",
      "2556it [04:42,  7.16it/s]5 [04:42<15:05,  6.17it/s]\u001b[A\n",
      "2557it [04:42,  7.09it/s]5 [04:42<12:56,  7.19it/s]\u001b[A\n",
      "2558it [04:42,  6.76it/s]5 [04:42<13:07,  7.09it/s]\u001b[A\n",
      "2559it [04:42,  7.19it/s]5 [04:42<13:44,  6.78it/s]\u001b[A\n",
      "2560it [04:42,  6.49it/s]5 [04:42<12:55,  7.20it/s]\u001b[A\n",
      "2561it [04:43,  6.97it/s]5 [04:42<14:19,  6.50it/s]\u001b[A\n",
      "2563it [04:43,  7.43it/s]5 [04:43<13:19,  6.98it/s]\u001b[A\n",
      "2564it [04:43,  7.65it/s]5 [04:43<12:31,  7.43it/s]\u001b[A\n",
      "2565it [04:43,  8.16it/s]5 [04:43<12:09,  7.65it/s]\u001b[A\n",
      "2566it [04:43,  7.82it/s]5 [04:43<11:23,  8.16it/s]\u001b[A\n",
      "2567it [04:43,  7.92it/s]5 [04:43<11:52,  7.83it/s]\u001b[A\n",
      "2568it [04:43,  7.69it/s]5 [04:43<11:44,  7.92it/s]\u001b[A\n",
      "2569it [04:44,  8.09it/s]5 [04:43<12:05,  7.69it/s]\u001b[A\n",
      "2570it [04:44,  7.21it/s]5 [04:44<11:29,  8.09it/s]\u001b[A\n",
      "2571it [04:44,  6.94it/s]5 [04:44<12:52,  7.21it/s]\u001b[A\n",
      "2572it [04:44,  7.03it/s]5 [04:44<13:22,  6.94it/s]\u001b[A\n",
      "2573it [04:44,  7.23it/s]5 [04:44<13:12,  7.03it/s]\u001b[A\n",
      "2574it [04:44,  7.61it/s]5 [04:44<12:50,  7.23it/s]\u001b[A\n",
      "2575it [04:44,  7.22it/s]5 [04:44<12:11,  7.61it/s]\u001b[A\n",
      "2576it [04:45,  7.47it/s]5 [04:44<12:51,  7.22it/s]\u001b[A\n",
      "2577it [04:45,  7.42it/s]5 [04:44<12:25,  7.47it/s]\u001b[A\n",
      "2578it [04:45,  7.97it/s]5 [04:45<12:30,  7.42it/s]\u001b[A\n",
      "2579it [04:45,  8.16it/s]5 [04:45<11:38,  7.97it/s]\u001b[A\n",
      "2580it [04:45,  8.04it/s]5 [04:45<11:22,  8.15it/s]\u001b[A\n",
      "2581it [04:45,  8.21it/s]5 [04:45<11:32,  8.04it/s]\u001b[A\n",
      "2583it [04:45,  8.83it/s]5 [04:45<11:17,  8.21it/s]\u001b[A\n",
      "2584it [04:45,  8.80it/s]5 [04:45<10:29,  8.83it/s]\u001b[A\n",
      "2585it [04:46,  8.83it/s]5 [04:45<10:31,  8.80it/s]\u001b[A\n",
      "2586it [04:46,  8.47it/s]5 [04:46<10:29,  8.83it/s]\u001b[A\n",
      "2588it [04:46,  8.78it/s]5 [04:46<10:56,  8.47it/s]\u001b[A\n",
      "2590it [04:46,  9.29it/s]5 [04:46<10:33,  8.77it/s]\u001b[A\n",
      "2591it [04:46,  9.05it/s]5 [04:46<09:57,  9.29it/s]\u001b[A\n",
      "2592it [04:46,  8.09it/s]5 [04:46<10:13,  9.05it/s]\u001b[A\n",
      "2593it [04:46,  8.00it/s]5 [04:46<11:26,  8.09it/s]\u001b[A\n",
      "2594it [04:47,  7.87it/s]5 [04:46<11:33,  8.00it/s]\u001b[A\n",
      "2595it [04:47,  8.13it/s]5 [04:47<11:45,  7.87it/s]\u001b[A\n",
      "2596it [04:47,  8.36it/s]5 [04:47<11:22,  8.13it/s]\u001b[A\n",
      "2598it [04:47,  8.79it/s]5 [04:47<11:03,  8.36it/s]\u001b[A\n",
      "2600it [04:47,  9.02it/s]5 [04:47<10:30,  8.79it/s]\u001b[A\n",
      "2601it [04:47,  8.84it/s]5 [04:47<10:15,  9.02it/s]\u001b[A\n",
      "2603it [04:48,  9.16it/s]5 [04:47<10:27,  8.84it/s]\u001b[A\n",
      "2604it [04:48,  8.82it/s]5 [04:48<10:05,  9.16it/s]\u001b[A\n",
      "2606it [04:48,  8.98it/s]5 [04:48<10:28,  8.81it/s]\u001b[A\n",
      "2608it [04:48,  9.55it/s]5 [04:48<10:17,  8.98it/s]\u001b[A\n",
      "2609it [04:48,  9.10it/s]5 [04:48<09:40,  9.55it/s]\u001b[A\n",
      "2610it [04:48,  7.97it/s]5 [04:48<10:08,  9.10it/s]\u001b[A\n",
      "2611it [04:49,  7.86it/s]5 [04:48<11:34,  7.97it/s]\u001b[A\n",
      "2612it [04:49,  8.29it/s]5 [04:48<11:43,  7.86it/s]\u001b[A\n",
      "2613it [04:49,  7.93it/s]5 [04:49<11:07,  8.29it/s]\u001b[A\n",
      "2614it [04:49,  7.84it/s]5 [04:49<11:37,  7.94it/s]\u001b[A\n",
      "2615it [04:49,  7.78it/s]5 [04:49<11:45,  7.84it/s]\u001b[A\n",
      "2616it [04:49,  7.56it/s]5 [04:49<11:50,  7.78it/s]\u001b[A\n",
      "2617it [04:49,  7.33it/s]5 [04:49<12:11,  7.56it/s]\u001b[A\n",
      "2618it [04:49,  7.13it/s]5 [04:49<12:34,  7.33it/s]\u001b[A\n",
      "2619it [04:50,  6.36it/s]5 [04:49<12:54,  7.13it/s]\u001b[A\n",
      "2621it [04:50,  7.13it/s]5 [04:50<14:29,  6.36it/s]\u001b[A\n",
      "2622it [04:50,  7.64it/s]5 [04:50<12:55,  7.13it/s]\u001b[A\n",
      "2623it [04:50,  7.71it/s]5 [04:50<12:03,  7.64it/s]\u001b[A\n",
      "2624it [04:50,  7.71it/s]5 [04:50<11:56,  7.70it/s]\u001b[A\n",
      "2626it [04:50,  8.73it/s]5 [04:50<11:56,  7.71it/s]\u001b[A\n",
      "2628it [04:51,  9.95it/s]5 [04:50<10:31,  8.73it/s]\u001b[A\n",
      "2630it [04:51,  9.85it/s]5 [04:50<09:14,  9.96it/s]\u001b[A\n",
      "2632it [04:51,  8.41it/s]5 [04:51<09:20,  9.84it/s]\u001b[A\n",
      "2633it [04:51,  6.39it/s]5 [04:51<10:55,  8.41it/s]\u001b[A\n",
      "2634it [04:51,  6.17it/s]5 [04:51<14:22,  6.39it/s]\u001b[A\n",
      "2635it [04:52,  5.76it/s]5 [04:51<14:52,  6.17it/s]\u001b[A\n",
      "2636it [04:52,  5.48it/s]5 [04:52<15:56,  5.76it/s]\u001b[A\n",
      "2637it [04:52,  5.70it/s]5 [04:52<16:45,  5.48it/s]\u001b[A\n",
      "2638it [04:52,  6.22it/s]5 [04:52<16:06,  5.70it/s]\u001b[A\n",
      "2639it [04:52,  6.63it/s]5 [04:52<14:45,  6.22it/s]\u001b[A\n",
      "2640it [04:52,  6.07it/s]5 [04:52<13:50,  6.63it/s]\u001b[A\n",
      "2641it [04:53,  6.05it/s]5 [04:52<15:06,  6.07it/s]\u001b[A\n",
      "2642it [04:53,  6.60it/s]5 [04:53<15:10,  6.05it/s]\u001b[A\n",
      "2643it [04:53,  7.15it/s]5 [04:53<13:53,  6.60it/s]\u001b[A\n",
      "2644it [04:53,  7.15it/s]5 [04:53<12:49,  7.15it/s]\u001b[A\n",
      "2645it [04:53,  7.23it/s]5 [04:53<12:48,  7.15it/s]\u001b[A\n",
      "2646it [04:53,  7.34it/s]5 [04:53<12:40,  7.23it/s]\u001b[A\n",
      "2647it [04:53,  7.43it/s]5 [04:53<12:29,  7.34it/s]\u001b[A\n",
      "2648it [04:54,  7.86it/s]5 [04:53<12:19,  7.43it/s]\u001b[A\n",
      "2649it [04:54,  7.94it/s]5 [04:53<11:39,  7.86it/s]\u001b[A\n",
      "2650it [04:54,  7.48it/s]5 [04:54<11:38,  7.86it/s]\u001b[A\n",
      "2651it [04:54,  7.30it/s]5 [04:54<12:13,  7.50it/s]\u001b[A\n",
      "2652it [04:54,  7.73it/s]5 [04:54<12:37,  7.25it/s]\u001b[A\n",
      "2653it [04:54,  7.98it/s]5 [04:54<11:48,  7.76it/s]\u001b[A\n",
      "2654it [04:54,  8.18it/s]5 [04:54<11:32,  7.93it/s]\u001b[A\n",
      "2655it [04:54,  7.91it/s]5 [04:54<11:14,  8.15it/s]\u001b[A\n",
      "2656it [04:55,  6.50it/s]5 [04:54<11:35,  7.89it/s]\u001b[A\n",
      "2657it [04:55,  6.71it/s]5 [04:55<14:07,  6.48it/s]\u001b[A\n",
      "2658it [04:55,  6.67it/s]5 [04:55<13:39,  6.70it/s]\u001b[A\n",
      "2659it [04:55,  6.53it/s]5 [04:55<13:44,  6.66it/s]\u001b[A\n",
      "2660it [04:55,  7.07it/s]5 [04:55<14:00,  6.52it/s]\u001b[A\n",
      "2661it [04:55,  7.11it/s]5 [04:55<12:56,  7.06it/s]\u001b[A\n",
      "2662it [04:55,  7.60it/s]5 [04:55<12:51,  7.11it/s]\u001b[A\n",
      "2663it [04:56,  8.18it/s]5 [04:55<12:00,  7.61it/s]\u001b[A\n",
      "2664it [04:56,  7.18it/s]5 [04:55<11:10,  8.17it/s]\u001b[A\n",
      "2665it [04:56,  5.86it/s]5 [04:56<12:36,  7.24it/s]\u001b[A\n",
      "2666it [04:56,  5.22it/s]5 [04:56<15:42,  5.81it/s]\u001b[A\n",
      "2667it [04:56,  5.69it/s]5 [04:56<17:22,  5.25it/s]\u001b[A\n",
      "2668it [04:56,  5.85it/s]5 [04:56<15:58,  5.71it/s]\u001b[A\n",
      "2670it [04:57,  6.79it/s]5 [04:56<15:32,  5.87it/s]\u001b[A\n",
      "2671it [04:57,  7.35it/s]5 [04:57<13:23,  6.81it/s]\u001b[A\n",
      "2672it [04:57,  7.98it/s]5 [04:57<12:22,  7.37it/s]\u001b[A\n",
      "2674it [04:57,  8.57it/s]5 [04:57<11:24,  7.99it/s]\u001b[A\n",
      "2675it [04:57,  8.75it/s]5 [04:57<10:38,  8.58it/s]\u001b[A\n",
      "2676it [04:57,  8.70it/s]5 [04:57<10:24,  8.75it/s]\u001b[A\n",
      "2677it [04:57,  7.64it/s]5 [04:57<10:28,  8.70it/s]\u001b[A\n",
      "2678it [04:58,  8.13it/s]5 [04:57<11:55,  7.64it/s]\u001b[A\n",
      "2679it [04:58,  7.59it/s]5 [04:58<11:12,  8.13it/s]\u001b[A\n",
      "2681it [04:58,  8.16it/s]5 [04:58<11:59,  7.59it/s]\u001b[A\n",
      "2683it [04:58,  8.80it/s]5 [04:58<11:10,  8.15it/s]\u001b[A\n",
      "2684it [04:58,  8.71it/s]5 [04:58<10:20,  8.80it/s]\u001b[A\n",
      "2685it [04:58,  8.66it/s]5 [04:58<10:26,  8.71it/s]\u001b[A\n",
      "2686it [04:58,  8.82it/s]5 [04:58<10:30,  8.66it/s]\u001b[A\n",
      "2687it [04:59,  8.94it/s]5 [04:58<10:18,  8.82it/s]\u001b[A\n",
      "2688it [04:59,  8.58it/s]5 [04:59<10:10,  8.94it/s]\u001b[A\n",
      "2690it [04:59,  8.49it/s]5 [04:59<10:36,  8.58it/s]\u001b[A\n",
      "2691it [04:59,  8.39it/s]5 [04:59<10:42,  8.49it/s]\u001b[A\n",
      "2692it [04:59,  8.81it/s]5 [04:59<10:50,  8.39it/s]\u001b[A\n",
      "2693it [04:59,  9.07it/s]5 [04:59<10:18,  8.81it/s]\u001b[A\n",
      "2694it [04:59,  9.13it/s]5 [04:59<10:01,  9.07it/s]\u001b[A\n",
      "2696it [05:00,  9.66it/s]5 [04:59<09:57,  9.13it/s]\u001b[A\n",
      "2697it [05:00,  9.71it/s]5 [04:59<09:23,  9.66it/s]\u001b[A\n",
      "2698it [05:00,  8.70it/s]5 [05:00<09:21,  9.71it/s]\u001b[A\n",
      "2699it [05:00,  8.87it/s]5 [05:00<10:25,  8.70it/s]\u001b[A\n",
      "2700it [05:00,  8.94it/s]5 [05:00<10:14,  8.86it/s]\u001b[A\n",
      "2701it [05:00,  8.97it/s]5 [05:00<10:08,  8.95it/s]\u001b[A\n",
      "2702it [05:00,  8.78it/s]5 [05:00<10:06,  8.98it/s]\u001b[A\n",
      "2704it [05:00,  9.04it/s]5 [05:00<10:19,  8.78it/s]\u001b[A\n",
      "2705it [05:01,  8.01it/s]5 [05:00<10:02,  9.04it/s]\u001b[A\n",
      "2706it [05:01,  8.25it/s]5 [05:01<11:18,  8.01it/s]\u001b[A\n",
      "2707it [05:01,  8.35it/s]5 [05:01<10:59,  8.25it/s]\u001b[A\n",
      "2708it [05:01,  7.81it/s]5 [05:01<10:50,  8.36it/s]\u001b[A\n",
      "2709it [05:01,  8.15it/s]5 [05:01<11:35,  7.81it/s]\u001b[A\n",
      "2710it [05:01,  8.06it/s]5 [05:01<11:06,  8.16it/s]\u001b[A\n",
      "2711it [05:01,  7.43it/s]5 [05:01<11:14,  8.06it/s]\u001b[A\n",
      "2712it [05:02,  7.79it/s]5 [05:01<12:10,  7.43it/s]\u001b[A\n",
      "2713it [05:02,  8.18it/s]5 [05:01<11:36,  7.79it/s]\u001b[A\n",
      "2714it [05:02,  8.36it/s]5 [05:02<11:03,  8.18it/s]\u001b[A\n",
      "2715it [05:02,  8.49it/s]5 [05:02<10:49,  8.37it/s]\u001b[A\n",
      "2716it [05:02,  8.42it/s]5 [05:02<10:39,  8.49it/s]\u001b[A\n",
      "2717it [05:02,  8.12it/s]5 [05:02<10:44,  8.42it/s]\u001b[A\n",
      "2718it [05:02,  7.19it/s]5 [05:02<11:08,  8.12it/s]\u001b[A\n",
      "2719it [05:02,  7.49it/s]5 [05:02<12:35,  7.19it/s]\u001b[A\n",
      "2721it [05:03,  7.66it/s]5 [05:02<12:03,  7.50it/s]\u001b[A\n",
      "2722it [05:03,  7.33it/s]5 [05:03<11:47,  7.66it/s]\u001b[A\n",
      "2723it [05:03,  7.87it/s]5 [05:03<12:20,  7.33it/s]\u001b[A\n",
      "2724it [05:03,  8.38it/s]5 [05:03<11:28,  7.87it/s]\u001b[A\n",
      "2725it [05:03,  8.74it/s]5 [05:03<10:47,  8.38it/s]\u001b[A\n",
      "2727it [05:03,  9.21it/s]5 [05:03<10:20,  8.74it/s]\u001b[A\n",
      "2728it [05:03,  9.29it/s]5 [05:03<09:48,  9.21it/s]\u001b[A\n",
      "2729it [05:03,  9.40it/s]5 [05:03<09:42,  9.29it/s]\u001b[A\n",
      "2730it [05:04,  9.43it/s]5 [05:03<09:36,  9.40it/s]\u001b[A\n",
      "2731it [05:04,  9.55it/s]5 [05:04<09:34,  9.43it/s]\u001b[A\n",
      "2732it [05:04,  9.17it/s]5 [05:04<09:26,  9.55it/s]\u001b[A\n",
      "2733it [05:04,  8.33it/s]5 [05:04<09:50,  9.17it/s]\u001b[A\n",
      "2735it [05:04,  8.73it/s]5 [05:04<10:49,  8.33it/s]\u001b[A\n",
      "2736it [05:04,  8.73it/s]5 [05:04<10:19,  8.73it/s]\u001b[A\n",
      "2737it [05:04,  8.65it/s]5 [05:04<10:19,  8.73it/s]\u001b[A\n",
      "2738it [05:05,  8.08it/s]5 [05:04<10:25,  8.65it/s]\u001b[A\n",
      "2739it [05:05,  8.18it/s]5 [05:04<11:09,  8.07it/s]\u001b[A\n",
      "2741it [05:05,  8.51it/s]5 [05:05<11:01,  8.18it/s]\u001b[A\n",
      "2742it [05:05,  8.67it/s]5 [05:05<10:35,  8.51it/s]\u001b[A\n",
      "2743it [05:05,  8.43it/s]5 [05:05<10:23,  8.67it/s]\u001b[A\n",
      "2745it [05:05,  8.81it/s]5 [05:05<10:41,  8.42it/s]\u001b[A\n",
      "2746it [05:05,  8.81it/s]5 [05:05<10:13,  8.80it/s]\u001b[A\n",
      "2747it [05:06,  9.13it/s]5 [05:05<10:12,  8.81it/s]\u001b[A\n",
      "2748it [05:06,  8.79it/s]5 [05:05<09:51,  9.12it/s]\u001b[A\n",
      "2750it [05:06,  9.23it/s]5 [05:06<10:13,  8.79it/s]\u001b[A\n",
      "2751it [05:06,  8.94it/s]5 [05:06<09:44,  9.23it/s]\u001b[A\n",
      "2752it [05:06,  8.34it/s]5 [05:06<10:03,  8.94it/s]\u001b[A\n",
      "2753it [05:06,  8.74it/s]5 [05:06<10:46,  8.34it/s]\u001b[A\n",
      "2754it [05:06,  8.77it/s]5 [05:06<10:17,  8.74it/s]\u001b[A\n",
      "2755it [05:06,  8.98it/s]5 [05:06<10:15,  8.76it/s]\u001b[A\n",
      "2756it [05:07,  8.96it/s]5 [05:06<10:00,  8.98it/s]\u001b[A\n",
      "2757it [05:07,  8.60it/s]5 [05:06<10:01,  8.96it/s]\u001b[A\n",
      "2758it [05:07,  8.42it/s]5 [05:07<10:26,  8.60it/s]\u001b[A\n",
      "2760it [05:07,  9.11it/s]5 [05:07<10:39,  8.42it/s]\u001b[A\n",
      "2761it [05:07,  8.89it/s]5 [05:07<09:51,  9.11it/s]\u001b[A\n",
      "2763it [05:07,  8.16it/s]5 [05:07<10:05,  8.90it/s]\u001b[A\n",
      "2764it [05:08,  7.89it/s]5 [05:07<10:59,  8.16it/s]\u001b[A\n",
      "2765it [05:08,  7.56it/s]5 [05:07<11:21,  7.89it/s]\u001b[A\n",
      "2766it [05:08,  7.24it/s]5 [05:08<11:51,  7.56it/s]\u001b[A\n",
      "2767it [05:08,  7.83it/s]5 [05:08<12:23,  7.24it/s]\u001b[A\n",
      "2768it [05:08,  7.19it/s]5 [05:08<11:27,  7.83it/s]\u001b[A\n",
      "2769it [05:08,  7.20it/s]5 [05:08<12:27,  7.19it/s]\u001b[A\n",
      "2770it [05:08,  7.52it/s]5 [05:08<12:33,  7.14it/s]\u001b[A\n",
      "2771it [05:08,  7.65it/s]5 [05:08<11:58,  7.48it/s]\u001b[A\n",
      "2772it [05:09,  7.14it/s]5 [05:08<11:44,  7.62it/s]\u001b[A\n",
      "2773it [05:09,  7.62it/s]5 [05:09<12:34,  7.12it/s]\u001b[A\n",
      "2774it [05:09,  7.46it/s]5 [05:09<11:46,  7.61it/s]\u001b[A\n",
      "2775it [05:09,  7.17it/s]5 [05:09<12:00,  7.45it/s]\u001b[A\n",
      "2776it [05:09,  7.45it/s]5 [05:09<12:29,  7.16it/s]\u001b[A\n",
      "2777it [05:09,  6.50it/s]5 [05:09<12:00,  7.45it/s]\u001b[A\n",
      "2778it [05:09,  6.55it/s]5 [05:09<13:40,  6.54it/s]\u001b[A\n",
      "2779it [05:10,  7.11it/s]5 [05:09<13:34,  6.59it/s]\u001b[A\n",
      "2780it [05:10,  7.53it/s]5 [05:10<12:32,  7.13it/s]\u001b[A\n",
      "2781it [05:10,  7.21it/s]5 [05:10<11:50,  7.55it/s]\u001b[A\n",
      "2782it [05:10,  7.01it/s]5 [05:10<12:22,  7.23it/s]\u001b[A\n",
      "2783it [05:10,  7.44it/s]5 [05:10<12:43,  7.02it/s]\u001b[A\n",
      "2784it [05:10,  7.36it/s]5 [05:10<12:00,  7.44it/s]\u001b[A\n",
      "2785it [05:10,  6.98it/s]5 [05:10<12:08,  7.36it/s]\u001b[A\n",
      "2786it [05:11,  7.17it/s]5 [05:10<12:47,  6.98it/s]\u001b[A\n",
      "2787it [05:11,  7.39it/s]5 [05:11<12:27,  7.17it/s]\u001b[A\n",
      "2788it [05:11,  7.20it/s]5 [05:11<12:04,  7.39it/s]\u001b[A\n",
      "2789it [05:11,  7.74it/s]5 [05:11<12:23,  7.20it/s]\u001b[A\n",
      "2790it [05:11,  7.98it/s]5 [05:11<11:32,  7.74it/s]\u001b[A\n",
      "2791it [05:11,  8.16it/s]5 [05:11<11:10,  7.98it/s]\u001b[A\n",
      "2792it [05:11,  8.05it/s]5 [05:11<10:55,  8.17it/s]\u001b[A\n",
      "2793it [05:11,  7.40it/s]5 [05:11<11:04,  8.05it/s]\u001b[A\n",
      "2794it [05:12,  7.29it/s]5 [05:11<12:02,  7.40it/s]\u001b[A\n",
      "2795it [05:12,  6.50it/s]5 [05:12<12:13,  7.29it/s]\u001b[A\n",
      "2796it [05:12,  6.20it/s]5 [05:12<13:43,  6.50it/s]\u001b[A\n",
      "2797it [05:12,  6.61it/s]5 [05:12<14:22,  6.20it/s]\u001b[A\n",
      "2798it [05:12,  7.24it/s]5 [05:12<13:29,  6.61it/s]\u001b[A\n",
      "2800it [05:12,  7.84it/s]5 [05:12<12:18,  7.24it/s]\u001b[A\n",
      "2801it [05:13,  7.68it/s]5 [05:12<11:21,  7.84it/s]\u001b[A\n",
      "2802it [05:13,  7.64it/s]5 [05:13<11:36,  7.68it/s]\u001b[A\n",
      "2803it [05:13,  7.93it/s]5 [05:13<11:39,  7.64it/s]\u001b[A\n",
      "2804it [05:13,  8.12it/s]5 [05:13<11:14,  7.92it/s]\u001b[A\n",
      "2805it [05:13,  8.13it/s]5 [05:13<10:57,  8.12it/s]\u001b[A\n",
      "2807it [05:13,  8.28it/s]5 [05:13<10:58,  8.12it/s]\u001b[A\n",
      "2808it [05:13,  7.72it/s]5 [05:13<10:45,  8.27it/s]\u001b[A\n",
      "2809it [05:14,  7.76it/s]5 [05:13<11:31,  7.72it/s]\u001b[A\n",
      "2810it [05:14,  7.89it/s]5 [05:14<11:27,  7.76it/s]\u001b[A\n",
      "2811it [05:14,  7.23it/s]5 [05:14<11:16,  7.89it/s]\u001b[A\n",
      "2812it [05:14,  6.57it/s]5 [05:14<12:18,  7.22it/s]\u001b[A\n",
      "2813it [05:14,  7.29it/s]5 [05:14<13:31,  6.57it/s]\u001b[A\n",
      "2814it [05:14,  7.83it/s]5 [05:14<12:11,  7.29it/s]\u001b[A\n",
      "2816it [05:14,  8.08it/s]5 [05:14<11:20,  7.83it/s]\u001b[A\n",
      "2818it [05:15,  8.76it/s]5 [05:14<10:59,  8.08it/s]\u001b[A\n",
      "2820it [05:15,  9.20it/s]5 [05:15<10:07,  8.76it/s]\u001b[A\n",
      "2821it [05:15,  8.21it/s]5 [05:15<09:38,  9.20it/s]\u001b[A\n",
      "2822it [05:15,  8.11it/s]5 [05:15<10:54,  8.13it/s]\u001b[A\n",
      "2823it [05:15,  7.10it/s]5 [05:15<11:00,  8.06it/s]\u001b[A\n",
      "2824it [05:15,  6.96it/s]5 [05:15<12:33,  7.06it/s]\u001b[A\n",
      "2825it [05:16,  6.82it/s]5 [05:15<12:45,  6.95it/s]\u001b[A\n",
      "2826it [05:16,  7.32it/s]5 [05:16<13:01,  6.81it/s]\u001b[A\n",
      "2827it [05:16,  7.45it/s]5 [05:16<12:07,  7.31it/s]\u001b[A\n",
      "2828it [05:16,  6.89it/s]5 [05:16<11:54,  7.44it/s]\u001b[A\n",
      "2829it [05:16,  7.19it/s]5 [05:16<12:51,  6.89it/s]\u001b[A\n",
      "2830it [05:16,  7.17it/s]5 [05:16<12:19,  7.19it/s]\u001b[A\n",
      "2831it [05:16,  7.37it/s]5 [05:16<12:21,  7.16it/s]\u001b[A\n",
      "2832it [05:17,  8.00it/s]5 [05:16<12:00,  7.37it/s]\u001b[A\n",
      "2833it [05:17,  8.20it/s]5 [05:16<11:03,  8.00it/s]\u001b[A\n",
      "2834it [05:17,  8.05it/s]5 [05:17<10:48,  8.19it/s]\u001b[A\n",
      "2835it [05:17,  8.00it/s]5 [05:17<10:59,  8.05it/s]\u001b[A\n",
      "2836it [05:17,  7.89it/s]5 [05:17<11:03,  8.00it/s]\u001b[A\n",
      "2837it [05:17,  7.61it/s]5 [05:17<11:14,  7.88it/s]\u001b[A\n",
      "2838it [05:17,  7.92it/s]5 [05:17<11:37,  7.61it/s]\u001b[A\n",
      "2839it [05:17,  8.33it/s]5 [05:17<11:10,  7.92it/s]\u001b[A\n",
      "2840it [05:18,  8.23it/s]5 [05:17<10:36,  8.33it/s]\u001b[A\n",
      "2841it [05:18,  7.91it/s]5 [05:17<10:44,  8.23it/s]\u001b[A\n",
      "2842it [05:18,  7.42it/s]5 [05:18<11:10,  7.91it/s]\u001b[A\n",
      "2843it [05:18,  7.23it/s]5 [05:18<11:55,  7.41it/s]\u001b[A\n",
      "2844it [05:18,  7.11it/s]5 [05:18<12:07,  7.29it/s]\u001b[A\n",
      "2845it [05:18,  6.81it/s]5 [05:18<12:21,  7.15it/s]\u001b[A\n",
      "2846it [05:18,  6.38it/s]5 [05:18<12:55,  6.84it/s]\u001b[A\n",
      "2847it [05:19,  6.92it/s]5 [05:18<13:49,  6.39it/s]\u001b[A\n",
      "2848it [05:19,  6.92it/s]5 [05:18<12:43,  6.94it/s]\u001b[A\n",
      "2849it [05:19,  6.95it/s]5 [05:19<12:43,  6.94it/s]\u001b[A\n",
      "2850it [05:19,  7.03it/s]5 [05:19<12:47,  6.90it/s]\u001b[A\n",
      "2851it [05:19,  6.89it/s]5 [05:19<12:36,  7.00it/s]\u001b[A\n",
      "2852it [05:19,  6.65it/s]5 [05:19<12:50,  6.87it/s]\u001b[A\n",
      "2853it [05:19,  6.35it/s]5 [05:19<13:17,  6.64it/s]\u001b[A\n",
      "2854it [05:20,  6.67it/s]5 [05:19<13:55,  6.34it/s]\u001b[A\n",
      "2855it [05:20,  6.45it/s]5 [05:20<13:08,  6.71it/s]\u001b[A\n",
      "2856it [05:20,  6.69it/s]5 [05:20<13:36,  6.48it/s]\u001b[A\n",
      "2857it [05:20,  6.38it/s]5 [05:20<13:08,  6.71it/s]\u001b[A\n",
      "2858it [05:20,  6.54it/s]5 [05:20<13:47,  6.39it/s]\u001b[A\n",
      "2859it [05:20,  6.43it/s]5 [05:20<13:26,  6.55it/s]\u001b[A\n",
      "2860it [05:20,  6.88it/s]5 [05:20<13:41,  6.44it/s]\u001b[A\n",
      "2861it [05:21,  7.00it/s]5 [05:20<12:47,  6.89it/s]\u001b[A\n",
      "2862it [05:21,  7.07it/s]5 [05:21<12:34,  7.00it/s]\u001b[A\n",
      "2863it [05:21,  6.65it/s]5 [05:21<12:27,  7.07it/s]\u001b[A\n",
      "2864it [05:21,  6.81it/s]5 [05:21<13:14,  6.65it/s]\u001b[A\n",
      "2866it [05:21,  7.52it/s]5 [05:21<12:55,  6.81it/s]\u001b[A\n",
      "2867it [05:21,  7.62it/s]5 [05:21<11:41,  7.52it/s]\u001b[A\n",
      "2868it [05:22,  7.82it/s]5 [05:21<11:32,  7.62it/s]\u001b[A\n",
      "2870it [05:22,  8.09it/s]5 [05:21<11:14,  7.82it/s]\u001b[A\n",
      "2871it [05:22,  8.46it/s]5 [05:22<10:51,  8.10it/s]\u001b[A\n",
      "2872it [05:22,  7.14it/s]5 [05:22<10:23,  8.46it/s]\u001b[A\n",
      "2873it [05:22,  7.73it/s]5 [05:22<12:18,  7.14it/s]\u001b[A\n",
      "2874it [05:22,  7.35it/s]5 [05:22<11:34,  7.59it/s]\u001b[A\n",
      "2875it [05:22,  7.06it/s]5 [05:22<11:53,  7.38it/s]\u001b[A\n",
      "2876it [05:23,  7.38it/s]5 [05:22<12:23,  7.09it/s]\u001b[A\n",
      "2877it [05:23,  6.71it/s]5 [05:23<11:52,  7.40it/s]\u001b[A\n",
      "2878it [05:23,  7.16it/s]5 [05:23<13:03,  6.72it/s]\u001b[A\n",
      "2879it [05:23,  6.01it/s]5 [05:23<12:15,  7.16it/s]\u001b[A\n",
      "2880it [05:23,  6.60it/s]5 [05:23<14:35,  6.01it/s]\u001b[A\n",
      "2881it [05:23,  6.50it/s]5 [05:23<13:18,  6.59it/s]\u001b[A\n",
      "2882it [05:24,  6.79it/s]5 [05:23<13:29,  6.50it/s]\u001b[A\n",
      "2883it [05:24,  6.78it/s]5 [05:23<12:55,  6.79it/s]\u001b[A\n",
      "2884it [05:24,  6.09it/s]5 [05:24<12:56,  6.78it/s]\u001b[A\n",
      "2885it [05:24,  6.08it/s]5 [05:24<14:23,  6.09it/s]\u001b[A\n",
      "2886it [05:24,  6.80it/s]5 [05:24<14:25,  6.08it/s]\u001b[A\n",
      "2887it [05:24,  6.03it/s]5 [05:24<12:53,  6.80it/s]\u001b[A\n",
      "2888it [05:24,  6.55it/s]5 [05:24<14:32,  6.02it/s]\u001b[A\n",
      "2890it [05:25,  7.34it/s]5 [05:24<13:21,  6.56it/s]\u001b[A\n",
      "2891it [05:25,  6.56it/s]5 [05:25<11:55,  7.35it/s]\u001b[A\n",
      "2892it [05:25,  6.63it/s]5 [05:25<13:21,  6.56it/s]\u001b[A\n",
      "2894it [05:25,  7.87it/s]5 [05:25<13:12,  6.63it/s]\u001b[A\n",
      "2895it [05:25,  8.21it/s]5 [05:25<11:06,  7.88it/s]\u001b[A\n",
      "2897it [05:25,  8.54it/s]5 [05:25<10:39,  8.22it/s]\u001b[A\n",
      "2899it [05:26,  9.03it/s]5 [05:25<10:14,  8.54it/s]\u001b[A\n",
      "2901it [05:26,  9.28it/s]5 [05:26<09:43,  9.00it/s]\u001b[A\n",
      "2902it [05:26,  9.24it/s]5 [05:26<09:24,  9.29it/s]\u001b[A\n",
      "2904it [05:26,  9.41it/s]5 [05:26<09:26,  9.25it/s]\u001b[A\n",
      "2906it [05:26,  8.72it/s]5 [05:26<09:16,  9.42it/s]\u001b[A\n",
      "2907it [05:27,  7.92it/s]5 [05:26<10:01,  8.72it/s]\u001b[A\n",
      "2908it [05:27,  7.67it/s]5 [05:27<11:01,  7.92it/s]\u001b[A\n",
      "2909it [05:27,  6.82it/s]5 [05:27<11:22,  7.68it/s]\u001b[A\n",
      "2910it [05:27,  6.22it/s]5 [05:27<12:58,  6.73it/s]\u001b[A\n",
      "2911it [05:27,  6.24it/s]5 [05:27<14:09,  6.16it/s]\u001b[A\n",
      "2912it [05:27,  6.92it/s]5 [05:27<13:52,  6.28it/s]\u001b[A\n",
      "2913it [05:28,  7.04it/s]5 [05:27<12:31,  6.96it/s]\u001b[A\n",
      "2914it [05:28,  7.46it/s]5 [05:27<12:20,  7.07it/s]\u001b[A\n",
      "2915it [05:28,  7.70it/s]5 [05:28<11:39,  7.48it/s]\u001b[A\n",
      "2916it [05:28,  6.37it/s]5 [05:28<11:24,  7.64it/s]\u001b[A\n",
      "2917it [05:28,  6.63it/s]5 [05:28<13:38,  6.39it/s]\u001b[A\n",
      "2918it [05:28,  5.31it/s]5 [05:28<13:06,  6.65it/s]\u001b[A\n",
      "2919it [05:29,  5.36it/s]5 [05:28<16:41,  5.22it/s]\u001b[A\n",
      "2920it [05:29,  5.10it/s]5 [05:29<16:07,  5.40it/s]\u001b[A\n",
      "2921it [05:29,  5.78it/s]5 [05:29<17:14,  5.05it/s]\u001b[A\n",
      "2922it [05:29,  6.53it/s]5 [05:29<14:56,  5.83it/s]\u001b[A\n",
      "2923it [05:29,  7.17it/s]5 [05:29<13:15,  6.57it/s]\u001b[A\n",
      "2924it [05:29,  7.04it/s]5 [05:29<12:04,  7.20it/s]\u001b[A\n",
      "2925it [05:29,  7.48it/s]5 [05:29<12:17,  7.08it/s]\u001b[A\n",
      "2926it [05:29,  7.89it/s]5 [05:29<11:35,  7.51it/s]\u001b[A\n",
      "2927it [05:30,  7.17it/s]5 [05:29<10:59,  7.91it/s]\u001b[A\n",
      "2928it [05:30,  7.13it/s]5 [05:30<12:06,  7.18it/s]\u001b[A\n",
      "2929it [05:30,  7.22it/s]5 [05:30<12:10,  7.14it/s]\u001b[A\n",
      "2930it [05:30,  7.74it/s]5 [05:30<12:01,  7.23it/s]\u001b[A\n",
      "2931it [05:30,  6.21it/s]5 [05:30<11:13,  7.75it/s]\u001b[A\n",
      "2933it [05:31,  6.86it/s]5 [05:30<13:59,  6.21it/s]\u001b[A\n",
      "2934it [05:31,  6.57it/s]5 [05:30<12:39,  6.87it/s]\u001b[A\n",
      "2935it [05:31,  6.00it/s]5 [05:31<13:27,  6.45it/s]\u001b[A\n",
      "2936it [05:31,  6.57it/s]5 [05:31<14:40,  5.92it/s]\u001b[A\n",
      "2937it [05:31,  6.61it/s]5 [05:31<13:04,  6.64it/s]\u001b[A\n",
      "2938it [05:31,  6.55it/s]5 [05:31<13:02,  6.66it/s]\u001b[A\n",
      "2939it [05:31,  7.10it/s]5 [05:31<13:10,  6.59it/s]\u001b[A\n",
      "2940it [05:32,  7.27it/s]5 [05:31<12:10,  7.12it/s]\u001b[A\n",
      "2941it [05:32,  6.47it/s]5 [05:31<11:53,  7.29it/s]\u001b[A\n",
      "2942it [05:32,  6.20it/s]5 [05:32<13:27,  6.44it/s]\u001b[A\n",
      "2943it [05:32,  6.16it/s]5 [05:32<13:59,  6.20it/s]\u001b[A\n",
      "2944it [05:32,  5.61it/s]5 [05:32<14:02,  6.18it/s]\u001b[A\n",
      "2945it [05:33,  4.70it/s]5 [05:32<15:26,  5.62it/s]\u001b[A\n",
      "2946it [05:33,  4.89it/s]5 [05:33<18:24,  4.71it/s]\u001b[A\n",
      "2947it [05:33,  4.87it/s]5 [05:33<17:56,  4.83it/s]\u001b[A\n",
      "2948it [05:33,  5.56it/s]5 [05:33<17:43,  4.89it/s]\u001b[A\n",
      "2949it [05:33,  5.28it/s]5 [05:33<15:31,  5.58it/s]\u001b[A\n",
      "2950it [05:33,  5.49it/s]5 [05:33<16:21,  5.29it/s]\u001b[A\n",
      "2951it [05:34,  5.92it/s]5 [05:33<15:55,  5.44it/s]\u001b[A\n",
      "2953it [05:34,  7.39it/s]5 [05:34<14:33,  5.94it/s]\u001b[A\n",
      "2955it [05:34,  8.64it/s]5 [05:34<11:39,  7.42it/s]\u001b[A\n",
      "2957it [05:34, 10.38it/s]5 [05:34<09:58,  8.67it/s]\u001b[A\n",
      "2959it [05:34, 11.70it/s]5 [05:34<08:18, 10.41it/s]\u001b[A\n",
      "2961it [05:34, 12.05it/s]5 [05:34<07:22, 11.73it/s]\u001b[A\n",
      "2963it [05:34, 11.44it/s]5 [05:34<07:11, 12.01it/s]\u001b[A\n",
      "2965it [05:35,  9.80it/s]5 [05:34<07:32, 11.46it/s]\u001b[A\n",
      "2967it [05:35,  7.33it/s]5 [05:35<08:49,  9.79it/s]\u001b[A\n",
      "2968it [05:35,  7.70it/s]5 [05:35<11:45,  7.34it/s]\u001b[A\n",
      "2969it [05:35,  6.71it/s]5 [05:35<11:11,  7.71it/s]\u001b[A\n",
      "2970it [05:36,  5.16it/s]5 [05:35<12:54,  6.68it/s]\u001b[A\n",
      "2971it [05:36,  5.80it/s]5 [05:36<16:53,  5.10it/s]\u001b[A\n",
      "2972it [05:36,  5.97it/s]5 [05:36<14:47,  5.83it/s]\u001b[A\n",
      "2973it [05:36,  6.33it/s]5 [05:36<14:23,  5.99it/s]\u001b[A\n",
      "2974it [05:36,  5.62it/s]5 [05:36<13:48,  6.24it/s]\u001b[A\n",
      "2975it [05:37,  6.26it/s]5 [05:36<15:14,  5.66it/s]\u001b[A\n",
      "2976it [05:37,  6.32it/s]5 [05:36<13:47,  6.25it/s]\u001b[A\n",
      "2977it [05:37,  6.01it/s]5 [05:37<13:34,  6.35it/s]\u001b[A\n",
      "2978it [05:37,  4.87it/s]5 [05:37<14:17,  6.03it/s]\u001b[A\n",
      "2979it [05:37,  4.59it/s]5 [05:37<17:44,  4.85it/s]\u001b[A\n",
      "2980it [05:38,  4.77it/s]5 [05:37<18:43,  4.60it/s]\u001b[A\n",
      "2981it [05:38,  4.89it/s]5 [05:38<18:10,  4.74it/s]\u001b[A\n",
      "2982it [05:38,  5.20it/s]5 [05:38<17:30,  4.91it/s]\u001b[A\n",
      "2983it [05:38,  5.94it/s]5 [05:38<16:29,  5.22it/s]\u001b[A\n",
      "2984it [05:38,  6.06it/s]5 [05:38<14:26,  5.96it/s]\u001b[A\n",
      "2985it [05:38,  6.65it/s]5 [05:38<14:09,  6.07it/s]\u001b[A\n",
      "2986it [05:38,  6.33it/s]5 [05:38<12:54,  6.66it/s]\u001b[A\n",
      "2987it [05:39,  5.96it/s]5 [05:38<13:34,  6.33it/s]\u001b[A\n",
      "2988it [05:39,  5.96it/s]5 [05:39<14:24,  5.97it/s]\u001b[A\n",
      "2989it [05:39,  5.54it/s]5 [05:39<14:25,  5.96it/s]\u001b[A\n",
      "2990it [05:39,  5.27it/s]5 [05:39<15:31,  5.54it/s]\u001b[A\n",
      "2991it [05:40,  4.46it/s]5 [05:39<16:16,  5.28it/s]\u001b[A\n",
      "2992it [05:40,  5.14it/s]5 [05:40<19:16,  4.46it/s]\u001b[A\n",
      "2993it [05:40,  5.28it/s]5 [05:40<16:41,  5.14it/s]\u001b[A\n",
      "2994it [05:40,  5.40it/s]5 [05:40<16:14,  5.28it/s]\u001b[A\n",
      "2995it [05:40,  4.75it/s]5 [05:40<16:07,  5.32it/s]\u001b[A\n",
      "2996it [05:40,  5.50it/s]5 [05:40<17:59,  4.77it/s]\u001b[A\n",
      "2997it [05:41,  5.74it/s]5 [05:40<15:32,  5.52it/s]\u001b[A\n",
      "2998it [05:41,  5.37it/s]5 [05:41<14:54,  5.76it/s]\u001b[A\n",
      "2999it [05:41,  5.45it/s]5 [05:41<16:06,  5.33it/s]\u001b[A\n",
      "3000it [05:41,  6.12it/s]5 [05:41<15:39,  5.48it/s]\u001b[A\n",
      "3001it [05:41,  6.36it/s]5 [05:41<13:58,  6.14it/s]\u001b[A\n",
      "3002it [05:41,  6.37it/s]5 [05:41<13:26,  6.38it/s]\u001b[A\n",
      "3003it [05:42,  6.84it/s]5 [05:41<13:25,  6.39it/s]\u001b[A\n",
      "3004it [05:42,  7.31it/s]5 [05:41<12:31,  6.84it/s]\u001b[A\n",
      "3005it [05:42,  7.14it/s]5 [05:42<11:42,  7.32it/s]\u001b[A\n",
      "3006it [05:42,  7.61it/s]5 [05:42<11:59,  7.14it/s]\u001b[A\n",
      "3008it [05:42,  8.37it/s]5 [05:42<11:15,  7.61it/s]\u001b[A\n",
      "3009it [05:42,  8.70it/s]5 [05:42<10:13,  8.37it/s]\u001b[A\n",
      "3010it [05:42,  8.29it/s]5 [05:42<09:49,  8.71it/s]\u001b[A\n",
      "3011it [05:43,  6.66it/s]5 [05:42<10:19,  8.29it/s]\u001b[A\n",
      "3013it [05:43,  7.64it/s]5 [05:42<12:51,  6.66it/s]\u001b[A\n",
      "3015it [05:43,  9.20it/s]5 [05:43<11:10,  7.65it/s]\u001b[A\n",
      "3017it [05:43, 10.70it/s]5 [05:43<09:17,  9.20it/s]\u001b[A\n",
      "3020it [05:43, 12.55it/s]5 [05:43<07:59, 10.71it/s]\u001b[A\n",
      "3022it [05:43, 13.28it/s]5 [05:43<06:48, 12.56it/s]\u001b[A\n",
      "3024it [05:43, 11.66it/s]5 [05:43<06:26, 13.27it/s]\u001b[A\n",
      "3026it [05:44,  9.41it/s]5 [05:43<07:19, 11.65it/s]\u001b[A\n",
      "3028it [05:44,  8.08it/s]5 [05:44<09:03,  9.41it/s]\u001b[A\n",
      "3029it [05:44,  7.15it/s]5 [05:44<10:32,  8.09it/s]\u001b[A\n",
      "3030it [05:44,  7.23it/s]5 [05:44<11:55,  7.15it/s]\u001b[A\n",
      "3031it [05:45,  7.16it/s]5 [05:44<11:47,  7.23it/s]\u001b[A\n",
      "3032it [05:45,  6.91it/s]5 [05:44<11:54,  7.16it/s]\u001b[A\n",
      "3034it [05:45,  7.67it/s]5 [05:45<12:20,  6.91it/s]\u001b[A\n",
      "3035it [05:45,  7.80it/s]5 [05:45<11:06,  7.67it/s]\u001b[A\n",
      "3036it [05:45,  6.64it/s]5 [05:45<11:00,  7.74it/s]\u001b[A\n",
      "3037it [05:45,  6.44it/s]5 [05:45<12:48,  6.65it/s]\u001b[A\n",
      "3038it [05:45,  7.01it/s]5 [05:45<13:12,  6.44it/s]\u001b[A\n",
      "3039it [05:46,  7.21it/s]5 [05:45<12:08,  7.01it/s]\u001b[A\n",
      "3040it [05:46,  6.72it/s]5 [05:46<11:47,  7.22it/s]\u001b[A\n",
      "3041it [05:46,  6.68it/s]5 [05:46<12:38,  6.73it/s]\u001b[A\n",
      "3043it [05:46,  7.38it/s]5 [05:46<12:43,  6.69it/s]\u001b[A\n",
      "3044it [05:46,  7.32it/s]5 [05:46<11:31,  7.38it/s]\u001b[A\n",
      "3045it [05:46,  7.73it/s]5 [05:46<11:36,  7.32it/s]\u001b[A\n",
      "3046it [05:47,  8.14it/s]5 [05:46<10:59,  7.73it/s]\u001b[A\n",
      "3047it [05:47,  8.59it/s]5 [05:46<10:26,  8.14it/s]\u001b[A\n",
      "3048it [05:47,  8.39it/s]5 [05:47<09:53,  8.59it/s]\u001b[A\n",
      "3050it [05:47,  8.85it/s]5 [05:47<10:07,  8.39it/s]\u001b[A\n",
      "3051it [05:47,  9.01it/s]5 [05:47<09:35,  8.85it/s]\u001b[A\n",
      "3052it [05:47,  9.27it/s]5 [05:47<09:25,  9.01it/s]\u001b[A\n",
      "3053it [05:47,  8.08it/s]5 [05:47<09:09,  9.27it/s]\u001b[A\n",
      "3054it [05:47,  7.57it/s]5 [05:47<10:29,  8.08it/s]\u001b[A\n",
      "3055it [05:48,  7.55it/s]5 [05:47<11:12,  7.57it/s]\u001b[A\n",
      "3056it [05:48,  8.15it/s]5 [05:48<11:14,  7.55it/s]\u001b[A\n",
      "3057it [05:48,  6.92it/s]5 [05:48<10:24,  8.15it/s]\u001b[A\n",
      "3058it [05:48,  6.91it/s]5 [05:48<12:15,  6.91it/s]\u001b[A\n",
      "3060it [05:48,  7.59it/s]5 [05:48<12:16,  6.91it/s]\u001b[A\n",
      "3061it [05:48,  7.62it/s]5 [05:48<11:09,  7.59it/s]\u001b[A\n",
      "3062it [05:48,  7.40it/s]5 [05:48<11:07,  7.62it/s]\u001b[A\n",
      "3063it [05:49,  7.77it/s]5 [05:48<11:26,  7.40it/s]\u001b[A\n",
      "3064it [05:49,  7.75it/s]5 [05:49<10:53,  7.77it/s]\u001b[A\n",
      "3066it [05:49,  8.20it/s]5 [05:49<10:55,  7.75it/s]\u001b[A\n",
      "3068it [05:49,  8.60it/s]5 [05:49<10:19,  8.20it/s]\u001b[A\n",
      "3069it [05:49,  7.86it/s]5 [05:49<09:50,  8.60it/s]\u001b[A\n",
      "3070it [05:49,  7.99it/s]5 [05:49<10:45,  7.86it/s]\u001b[A\n",
      "3071it [05:50,  8.23it/s]5 [05:49<10:35,  7.99it/s]\u001b[A\n",
      "3072it [05:50,  7.31it/s]5 [05:49<10:16,  8.23it/s]\u001b[A\n",
      "3073it [05:50,  7.26it/s]5 [05:50<11:34,  7.31it/s]\u001b[A\n",
      "3074it [05:50,  7.63it/s]5 [05:50<11:44,  7.20it/s]\u001b[A\n",
      "3076it [05:50,  7.54it/s]5 [05:50<11:02,  7.65it/s]\u001b[A\n",
      "3077it [05:50,  6.80it/s]5 [05:50<11:17,  7.48it/s]\u001b[A\n",
      "3078it [05:51,  7.35it/s]5 [05:50<12:15,  6.89it/s]\u001b[A\n",
      "3079it [05:51,  7.69it/s]5 [05:50<11:22,  7.43it/s]\u001b[A\n",
      "3080it [05:51,  7.61it/s]5 [05:51<10:53,  7.75it/s]\u001b[A\n",
      "3081it [05:51,  6.93it/s]5 [05:51<11:02,  7.65it/s]\u001b[A\n",
      "3082it [05:51,  7.08it/s]5 [05:51<12:08,  6.95it/s]\u001b[A\n",
      "3083it [05:51,  7.61it/s]5 [05:51<11:53,  7.09it/s]\u001b[A\n",
      "3084it [05:51,  7.59it/s]5 [05:51<11:04,  7.62it/s]\u001b[A\n",
      "3085it [05:51,  7.42it/s]5 [05:51<11:05,  7.60it/s]\u001b[A\n",
      "3087it [05:52,  8.63it/s]5 [05:51<11:20,  7.43it/s]\u001b[A\n",
      "3089it [05:52,  9.74it/s]5 [05:52<09:45,  8.64it/s]\u001b[A\n",
      "3091it [05:52, 10.93it/s]5 [05:52<08:38,  9.76it/s]\u001b[A\n",
      "3093it [05:52, 12.45it/s]5 [05:52<07:41, 10.94it/s]\u001b[A\n",
      "3095it [05:52, 10.72it/s]5 [05:52<06:45, 12.46it/s]\u001b[A\n",
      "3097it [05:53,  9.13it/s]5 [05:52<07:51, 10.71it/s]\u001b[A\n",
      "3099it [05:53,  8.50it/s]5 [05:52<09:13,  9.12it/s]\u001b[A\n",
      "3100it [05:53,  6.98it/s]5 [05:53<09:53,  8.50it/s]\u001b[A\n",
      "3101it [05:53,  7.56it/s]5 [05:53<12:03,  6.97it/s]\u001b[A\n",
      "3102it [05:53,  6.14it/s]5 [05:53<11:07,  7.56it/s]\u001b[A\n",
      "3103it [05:54,  6.28it/s]5 [05:53<13:40,  6.15it/s]\u001b[A\n",
      "3104it [05:54,  6.78it/s]5 [05:53<13:23,  6.28it/s]\u001b[A\n",
      "3105it [05:54,  7.05it/s]5 [05:54<12:23,  6.78it/s]\u001b[A\n",
      "3106it [05:54,  7.38it/s]5 [05:54<11:54,  7.05it/s]\u001b[A\n",
      "3107it [05:54,  7.30it/s]5 [05:54<11:22,  7.38it/s]\u001b[A\n",
      "3108it [05:54,  7.13it/s]5 [05:54<11:30,  7.30it/s]\u001b[A\n",
      "3109it [05:54,  7.17it/s]5 [05:54<11:46,  7.13it/s]\u001b[A\n",
      "3110it [05:55,  6.38it/s]5 [05:54<11:42,  7.16it/s]\u001b[A\n",
      "3111it [05:55,  6.53it/s]5 [05:54<13:09,  6.38it/s]\u001b[A\n",
      "3112it [05:55,  6.53it/s]5 [05:55<12:50,  6.53it/s]\u001b[A\n",
      "3113it [05:55,  6.12it/s]5 [05:55<12:50,  6.53it/s]\u001b[A\n",
      "3115it [05:55,  7.07it/s]5 [05:55<13:42,  6.12it/s]\u001b[A\n",
      "3117it [05:55,  7.92it/s]5 [05:55<11:51,  7.07it/s]\u001b[A\n",
      "3118it [05:55,  8.17it/s]5 [05:55<10:34,  7.92it/s]\u001b[A\n",
      "3119it [05:56,  7.53it/s]5 [05:55<10:16,  8.15it/s]\u001b[A\n",
      "3120it [05:56,  7.93it/s]5 [05:56<11:07,  7.53it/s]\u001b[A\n",
      "3121it [05:56,  8.14it/s]5 [05:56<10:33,  7.94it/s]\u001b[A\n",
      "3123it [05:56,  8.37it/s]5 [05:56<10:16,  8.15it/s]\u001b[A\n",
      "3124it [05:56,  6.82it/s]5 [05:56<10:00,  8.36it/s]\u001b[A\n",
      "3125it [05:56,  7.40it/s]5 [05:56<12:14,  6.83it/s]\u001b[A\n",
      "3126it [05:57,  7.52it/s]5 [05:56<11:17,  7.41it/s]\u001b[A\n",
      "3127it [05:57,  6.74it/s]5 [05:56<11:08,  7.51it/s]\u001b[A\n",
      "3128it [05:57,  7.25it/s]5 [05:57<12:23,  6.75it/s]\u001b[A\n",
      "3129it [05:57,  7.86it/s]5 [05:57<11:31,  7.26it/s]\u001b[A\n",
      "3130it [05:57,  7.25it/s]5 [05:57<10:37,  7.87it/s]\u001b[A\n",
      "3131it [05:57,  7.64it/s]5 [05:57<11:36,  7.20it/s]\u001b[A\n",
      "3133it [05:57,  8.21it/s]5 [05:57<10:54,  7.66it/s]\u001b[A\n",
      "3134it [05:58,  8.43it/s]5 [05:57<10:09,  8.22it/s]\u001b[A\n",
      "3135it [05:58,  7.67it/s]5 [05:57<09:53,  8.44it/s]\u001b[A\n",
      "3136it [05:58,  8.08it/s]5 [05:58<10:52,  7.68it/s]\u001b[A\n",
      "3138it [05:58,  8.61it/s]5 [05:58<10:19,  8.09it/s]\u001b[A\n",
      "3139it [05:58,  8.69it/s]5 [05:58<09:41,  8.62it/s]\u001b[A\n",
      "3140it [05:58,  8.87it/s]5 [05:58<09:35,  8.69it/s]\u001b[A\n",
      "3141it [05:58,  9.00it/s]5 [05:58<09:24,  8.87it/s]\u001b[A\n",
      "3142it [05:58,  9.20it/s]5 [05:58<09:15,  9.00it/s]\u001b[A\n",
      "3143it [05:59,  9.27it/s]5 [05:58<09:04,  9.19it/s]\u001b[A\n",
      "3144it [05:59,  8.25it/s]5 [05:58<08:59,  9.26it/s]\u001b[A\n",
      "3145it [05:59,  8.58it/s]5 [05:59<10:06,  8.25it/s]\u001b[A\n",
      "3146it [05:59,  8.62it/s]5 [05:59<09:42,  8.58it/s]\u001b[A\n",
      "3147it [05:59,  8.72it/s]5 [05:59<09:40,  8.62it/s]\u001b[A\n",
      "3148it [05:59,  8.50it/s]5 [05:59<09:33,  8.72it/s]\u001b[A\n",
      "3149it [05:59,  8.15it/s]5 [05:59<09:48,  8.50it/s]\u001b[A\n",
      "3150it [05:59,  8.24it/s]5 [05:59<10:12,  8.15it/s]\u001b[A\n",
      "3151it [06:00,  8.07it/s]5 [05:59<10:05,  8.24it/s]\u001b[A\n",
      "3152it [06:00,  8.39it/s]5 [05:59<10:18,  8.07it/s]\u001b[A\n",
      "3153it [06:00,  7.83it/s]5 [06:00<09:55,  8.39it/s]\u001b[A\n",
      "3154it [06:00,  7.98it/s]5 [06:00<10:38,  7.82it/s]\u001b[A\n",
      "3155it [06:00,  8.31it/s]5 [06:00<10:25,  7.98it/s]\u001b[A\n",
      "3156it [06:00,  7.88it/s]5 [06:00<10:00,  8.31it/s]\u001b[A\n",
      "3158it [06:00,  9.24it/s]5 [06:00<10:33,  7.88it/s]\u001b[A\n",
      "3160it [06:00, 10.19it/s]5 [06:00<08:59,  9.25it/s]\u001b[A\n",
      "3162it [06:01, 11.16it/s]5 [06:00<08:09, 10.19it/s]\u001b[A\n",
      "3164it [06:01, 12.48it/s]5 [06:00<07:26, 11.17it/s]\u001b[A\n",
      "3166it [06:01, 11.59it/s]5 [06:01<06:38, 12.48it/s]\u001b[A\n",
      "3168it [06:01,  9.85it/s]5 [06:01<07:09, 11.59it/s]\u001b[A\n",
      "3170it [06:01,  9.70it/s]5 [06:01<08:25,  9.85it/s]\u001b[A\n",
      "3172it [06:02,  9.02it/s]5 [06:01<08:32,  9.70it/s]\u001b[A\n",
      "3173it [06:02,  6.69it/s]5 [06:02<09:11,  9.02it/s]\u001b[A\n",
      "3174it [06:02,  7.14it/s]5 [06:02<12:24,  6.68it/s]\u001b[A\n",
      "3175it [06:02,  5.92it/s]5 [06:02<11:35,  7.14it/s]\u001b[A\n",
      "3176it [06:02,  5.98it/s]5 [06:02<14:04,  5.88it/s]\u001b[A\n",
      "3177it [06:03,  5.63it/s]5 [06:02<13:49,  5.99it/s]\u001b[A\n",
      "3178it [06:03,  4.73it/s]5 [06:03<14:41,  5.64it/s]\u001b[A\n",
      "3179it [06:03,  5.15it/s]5 [06:03<17:28,  4.74it/s]\u001b[A\n",
      "3180it [06:03,  5.85it/s]5 [06:03<16:02,  5.16it/s]\u001b[A\n",
      "3181it [06:03,  5.97it/s]5 [06:03<14:07,  5.86it/s]\u001b[A\n",
      "3182it [06:03,  6.29it/s]5 [06:03<13:51,  5.97it/s]\u001b[A\n",
      "3183it [06:04,  6.40it/s]5 [06:03<13:09,  6.29it/s]\u001b[A\n",
      "3184it [06:04,  6.92it/s]5 [06:04<12:55,  6.40it/s]\u001b[A\n",
      "3185it [06:04,  7.04it/s]5 [06:04<11:57,  6.92it/s]\u001b[A\n",
      "3186it [06:04,  6.83it/s]5 [06:04<11:44,  7.04it/s]\u001b[A\n",
      "3187it [06:04,  6.57it/s]5 [06:04<12:06,  6.83it/s]\u001b[A\n",
      "3188it [06:04,  6.94it/s]5 [06:04<12:34,  6.57it/s]\u001b[A\n",
      "3189it [06:04,  7.20it/s]5 [06:04<11:54,  6.94it/s]\u001b[A\n",
      "3190it [06:05,  7.84it/s]5 [06:04<11:28,  7.20it/s]\u001b[A\n",
      "3191it [06:05,  7.49it/s]5 [06:04<10:32,  7.83it/s]\u001b[A\n",
      "3192it [06:05,  7.91it/s]5 [06:05<11:01,  7.49it/s]\u001b[A\n",
      "3193it [06:05,  7.85it/s]5 [06:05<10:26,  7.91it/s]\u001b[A\n",
      "3194it [06:05,  8.38it/s]5 [06:05<10:31,  7.85it/s]\u001b[A\n",
      "3195it [06:05,  8.42it/s]5 [06:05<09:50,  8.38it/s]\u001b[A\n",
      "3196it [06:05,  8.17it/s]5 [06:05<09:48,  8.42it/s]\u001b[A\n",
      "3198it [06:05,  8.71it/s]5 [06:05<10:05,  8.17it/s]\u001b[A\n",
      "3199it [06:06,  8.98it/s]5 [06:05<09:27,  8.71it/s]\u001b[A\n",
      "3200it [06:06,  9.22it/s]5 [06:05<09:10,  8.98it/s]\u001b[A\n",
      "3202it [06:06,  9.43it/s]5 [06:06<08:56,  9.22it/s]\u001b[A\n",
      "3203it [06:06,  9.49it/s]5 [06:06<08:44,  9.43it/s]\u001b[A\n",
      "3205it [06:06,  9.83it/s]5 [06:06<08:40,  9.49it/s]\u001b[A\n",
      "3206it [06:06,  9.71it/s]5 [06:06<08:22,  9.83it/s]\u001b[A\n",
      "3208it [06:06, 10.00it/s]5 [06:06<08:28,  9.71it/s]\u001b[A\n",
      "3210it [06:07,  8.51it/s]5 [06:06<08:13, 10.00it/s]\u001b[A\n",
      "3211it [06:07,  8.71it/s]5 [06:07<09:39,  8.51it/s]\u001b[A\n",
      "3212it [06:07,  8.78it/s]5 [06:07<09:26,  8.71it/s]\u001b[A\n",
      "3213it [06:07,  8.74it/s]5 [06:07<09:22,  8.77it/s]\u001b[A\n",
      "3214it [06:07,  8.41it/s]5 [06:07<09:24,  8.74it/s]\u001b[A\n",
      "3215it [06:07,  8.71it/s]5 [06:07<09:46,  8.41it/s]\u001b[A\n",
      "3216it [06:07,  8.44it/s]5 [06:07<09:26,  8.71it/s]\u001b[A\n",
      "3217it [06:08,  8.56it/s]5 [06:07<09:43,  8.44it/s]\u001b[A\n",
      "3218it [06:08,  7.79it/s]5 [06:07<09:35,  8.56it/s]\u001b[A\n",
      "3219it [06:08,  8.06it/s]5 [06:08<10:32,  7.79it/s]\u001b[A\n",
      "3220it [06:08,  8.35it/s]5 [06:08<10:11,  8.06it/s]\u001b[A\n",
      "3221it [06:08,  8.57it/s]5 [06:08<09:49,  8.35it/s]\u001b[A\n",
      "3222it [06:08,  8.48it/s]5 [06:08<09:34,  8.56it/s]\u001b[A\n",
      "3223it [06:08,  8.79it/s]5 [06:08<09:40,  8.48it/s]\u001b[A\n",
      "3225it [06:08,  9.15it/s]5 [06:08<09:19,  8.79it/s]\u001b[A\n",
      "3227it [06:09, 10.39it/s]5 [06:08<08:57,  9.16it/s]\u001b[A\n",
      "3229it [06:09, 11.67it/s]5 [06:09<07:53, 10.39it/s]\u001b[A\n",
      "3231it [06:09, 12.44it/s]5 [06:09<07:01, 11.67it/s]\u001b[A\n",
      "3233it [06:09, 10.52it/s]5 [06:09<06:34, 12.45it/s]\u001b[A\n",
      "3235it [06:09,  9.59it/s]5 [06:09<07:47, 10.51it/s]\u001b[A\n",
      "3237it [06:10,  9.31it/s]5 [06:09<08:33,  9.56it/s]\u001b[A\n",
      "3238it [06:10,  9.33it/s]5 [06:10<08:46,  9.32it/s]\u001b[A\n",
      "3239it [06:10,  8.83it/s]5 [06:10<08:48,  9.29it/s]\u001b[A\n",
      "3240it [06:10,  9.08it/s]5 [06:10<09:14,  8.85it/s]\u001b[A\n",
      "3241it [06:10,  9.21it/s]5 [06:10<09:03,  9.03it/s]\u001b[A\n",
      "3242it [06:10,  9.33it/s]5 [06:10<08:50,  9.24it/s]\u001b[A\n",
      "3243it [06:10,  9.29it/s]5 [06:10<08:44,  9.35it/s]\u001b[A\n",
      "3244it [06:10,  9.41it/s]5 [06:10<08:46,  9.30it/s]\u001b[A\n",
      "3245it [06:10,  9.00it/s]5 [06:10<08:40,  9.42it/s]\u001b[A\n",
      "3246it [06:11,  8.25it/s]5 [06:10<09:03,  9.01it/s]\u001b[A\n",
      "3247it [06:11,  8.10it/s]5 [06:11<09:53,  8.25it/s]\u001b[A\n",
      "3248it [06:11,  8.57it/s]5 [06:11<10:04,  8.10it/s]\u001b[A\n",
      "3249it [06:11,  8.76it/s]5 [06:11<09:31,  8.57it/s]\u001b[A\n",
      "3250it [06:11,  8.80it/s]5 [06:11<09:19,  8.76it/s]\u001b[A\n",
      "3252it [06:11,  9.05it/s]5 [06:11<09:16,  8.80it/s]\u001b[A\n",
      "3253it [06:11,  8.78it/s]5 [06:11<09:00,  9.05it/s]\u001b[A\n",
      "3255it [06:12,  8.97it/s]5 [06:11<09:16,  8.79it/s]\u001b[A\n",
      "3256it [06:12,  8.94it/s]5 [06:12<09:04,  8.98it/s]\u001b[A\n",
      "3257it [06:12,  8.58it/s]5 [06:12<09:07,  8.93it/s]\u001b[A\n",
      "3258it [06:12,  8.90it/s]5 [06:12<09:29,  8.59it/s]\u001b[A\n",
      "3259it [06:12,  8.21it/s]5 [06:12<09:08,  8.91it/s]\u001b[A\n",
      "3260it [06:12,  7.57it/s]5 [06:12<09:54,  8.21it/s]\u001b[A\n",
      "3262it [06:12,  7.96it/s]5 [06:12<10:45,  7.57it/s]\u001b[A\n",
      "3263it [06:13,  7.65it/s]5 [06:12<10:13,  7.96it/s]\u001b[A\n",
      "3264it [06:13,  7.61it/s]5 [06:13<10:38,  7.65it/s]\u001b[A\n",
      "3266it [06:13,  8.27it/s]5 [06:13<10:41,  7.61it/s]\u001b[A\n",
      "3267it [06:13,  7.16it/s]5 [06:13<09:50,  8.27it/s]\u001b[A\n",
      "3268it [06:13,  7.40it/s]5 [06:13<11:21,  7.16it/s]\u001b[A\n",
      "3269it [06:13,  7.97it/s]5 [06:13<10:58,  7.40it/s]\u001b[A\n",
      "3270it [06:13,  8.19it/s]5 [06:13<10:12,  7.96it/s]\u001b[A\n",
      "3271it [06:14,  8.39it/s]5 [06:13<09:55,  8.18it/s]\u001b[A\n",
      "3272it [06:14,  8.24it/s]5 [06:14<09:40,  8.40it/s]\u001b[A\n",
      "3273it [06:14,  7.89it/s]5 [06:14<09:50,  8.25it/s]\u001b[A\n",
      "3274it [06:14,  8.07it/s]5 [06:14<10:17,  7.89it/s]\u001b[A\n",
      "3275it [06:14,  8.39it/s]5 [06:14<10:03,  8.07it/s]\u001b[A\n",
      "3276it [06:14,  8.60it/s]5 [06:14<09:40,  8.39it/s]\u001b[A\n",
      "3278it [06:14,  7.98it/s]5 [06:14<09:26,  8.60it/s]\u001b[A\n",
      "3279it [06:15,  7.92it/s]5 [06:14<10:09,  7.98it/s]\u001b[A\n",
      "3280it [06:15,  7.90it/s]5 [06:15<10:14,  7.92it/s]\u001b[A\n",
      "3281it [06:15,  7.96it/s]5 [06:15<10:15,  7.90it/s]\u001b[A\n",
      "3282it [06:15,  7.88it/s]5 [06:15<10:10,  7.96it/s]\u001b[A\n",
      "3284it [06:15,  7.53it/s]5 [06:15<10:16,  7.88it/s]\u001b[A\n",
      "3285it [06:15,  7.75it/s]5 [06:15<10:45,  7.53it/s]\u001b[A\n",
      "3287it [06:16,  8.12it/s]5 [06:15<10:27,  7.74it/s]\u001b[A\n",
      "3288it [06:16,  7.64it/s]5 [06:16<09:58,  8.12it/s]\u001b[A\n",
      "3289it [06:16,  7.40it/s]5 [06:16<10:35,  7.65it/s]\u001b[A\n",
      "3291it [06:16,  8.70it/s]5 [06:16<10:55,  7.40it/s]\u001b[A\n",
      "3293it [06:16, 10.30it/s]5 [06:16<09:17,  8.71it/s]\u001b[A\n",
      "3295it [06:16, 11.48it/s]5 [06:16<07:50, 10.31it/s]\u001b[A\n",
      "3297it [06:16, 12.50it/s]5 [06:16<07:02, 11.49it/s]\u001b[A\n",
      "3299it [06:17, 12.73it/s]5 [06:16<06:27, 12.50it/s]\u001b[A\n",
      "3301it [06:17, 11.80it/s]5 [06:16<06:20, 12.73it/s]\u001b[A\n",
      "3303it [06:17, 10.30it/s]5 [06:17<06:51, 11.78it/s]\u001b[A\n",
      "3305it [06:17, 10.00it/s]5 [06:17<07:50, 10.29it/s]\u001b[A\n",
      "3307it [06:18,  8.81it/s]5 [06:17<08:04,  9.98it/s]\u001b[A\n",
      "3308it [06:18,  6.99it/s]5 [06:17<09:08,  8.82it/s]\u001b[A\n",
      "3310it [06:18,  7.37it/s]5 [06:18<11:32,  6.99it/s]\u001b[A\n",
      "3311it [06:18,  7.80it/s]5 [06:18<10:55,  7.38it/s]\u001b[A\n",
      "3312it [06:18,  7.37it/s]5 [06:18<10:19,  7.80it/s]\u001b[A\n",
      "3313it [06:18,  6.30it/s]5 [06:18<10:55,  7.37it/s]\u001b[A\n",
      "3315it [06:19,  6.90it/s]5 [06:18<12:46,  6.30it/s]\u001b[A\n",
      "3316it [06:19,  7.09it/s]5 [06:19<11:40,  6.90it/s]\u001b[A\n",
      "3317it [06:19,  5.86it/s]5 [06:19<11:28,  7.02it/s]\u001b[A\n",
      "3318it [06:19,  6.27it/s]5 [06:19<13:49,  5.82it/s]\u001b[A\n",
      "3319it [06:19,  6.08it/s]5 [06:19<12:45,  6.30it/s]\u001b[A\n",
      "3320it [06:19,  6.40it/s]5 [06:19<13:11,  6.10it/s]\u001b[A\n",
      "3322it [06:20,  7.04it/s]5 [06:19<12:36,  6.38it/s]\u001b[A\n",
      "3323it [06:20,  7.23it/s]5 [06:20<11:24,  7.05it/s]\u001b[A\n",
      "3324it [06:20,  7.40it/s]5 [06:20<11:06,  7.24it/s]\u001b[A\n",
      "3325it [06:20,  7.36it/s]5 [06:20<10:50,  7.41it/s]\u001b[A\n",
      "3326it [06:20,  7.72it/s]5 [06:20<10:54,  7.36it/s]\u001b[A\n",
      "3328it [06:20,  8.46it/s]5 [06:20<10:24,  7.72it/s]\u001b[A\n",
      "3329it [06:20,  8.72it/s]5 [06:20<09:29,  8.46it/s]\u001b[A\n",
      "3330it [06:21,  8.07it/s]5 [06:20<09:16,  8.65it/s]\u001b[A\n",
      "3331it [06:21,  8.24it/s]5 [06:21<09:55,  8.09it/s]\u001b[A\n",
      "3332it [06:21,  8.07it/s]5 [06:21<09:43,  8.25it/s]\u001b[A\n",
      "3333it [06:21,  8.19it/s]5 [06:21<09:55,  8.08it/s]\u001b[A\n",
      "3335it [06:21,  8.86it/s]5 [06:21<09:47,  8.19it/s]\u001b[A\n",
      "3337it [06:21,  8.47it/s]5 [06:21<09:02,  8.87it/s]\u001b[A\n",
      "3339it [06:22,  8.31it/s]5 [06:21<09:30,  8.43it/s]\u001b[A\n",
      "3340it [06:22,  8.02it/s]5 [06:22<09:37,  8.32it/s]\u001b[A\n",
      "3341it [06:22,  6.66it/s]5 [06:22<09:59,  8.02it/s]\u001b[A\n",
      "3342it [06:22,  5.26it/s]5 [06:22<12:04,  6.63it/s]\u001b[A\n",
      "3343it [06:22,  5.81it/s]5 [06:22<15:11,  5.27it/s]\u001b[A\n",
      "3344it [06:23,  5.77it/s]5 [06:22<13:45,  5.82it/s]\u001b[A\n",
      "3345it [06:23,  5.73it/s]5 [06:23<13:51,  5.77it/s]\u001b[A\n",
      "3346it [06:23,  5.87it/s]5 [06:23<13:57,  5.73it/s]\u001b[A\n",
      "3347it [06:23,  6.49it/s]5 [06:23<13:38,  5.87it/s]\u001b[A\n",
      "3348it [06:23,  6.76it/s]5 [06:23<12:18,  6.49it/s]\u001b[A\n",
      "3349it [06:23,  7.10it/s]5 [06:23<11:50,  6.75it/s]\u001b[A\n",
      "3351it [06:24,  7.62it/s]5 [06:23<11:14,  7.11it/s]\u001b[A\n",
      "3352it [06:24,  7.68it/s]5 [06:24<10:28,  7.62it/s]\u001b[A\n",
      "3353it [06:24,  7.63it/s]5 [06:24<10:24,  7.67it/s]\u001b[A\n",
      "3354it [06:24,  7.98it/s]5 [06:24<10:27,  7.64it/s]\u001b[A\n",
      "3355it [06:24,  8.49it/s]5 [06:24<10:00,  7.98it/s]\u001b[A\n",
      "3357it [06:24,  8.87it/s]5 [06:24<09:24,  8.49it/s]\u001b[A\n",
      "3359it [06:24,  9.05it/s]5 [06:24<08:59,  8.87it/s]\u001b[A\n",
      "3360it [06:25,  9.07it/s]5 [06:24<08:48,  9.05it/s]\u001b[A\n",
      "3361it [06:25,  8.33it/s]5 [06:24<08:47,  9.07it/s]\u001b[A\n",
      "3362it [06:25,  8.53it/s]5 [06:25<09:34,  8.33it/s]\u001b[A\n",
      "3363it [06:25,  8.85it/s]5 [06:25<09:20,  8.54it/s]\u001b[A\n",
      "3365it [06:25,  9.35it/s]5 [06:25<09:00,  8.85it/s]\u001b[A\n",
      "3367it [06:25, 10.45it/s]5 [06:25<08:31,  9.35it/s]\u001b[A\n",
      "3369it [06:25, 11.50it/s]5 [06:25<07:36, 10.46it/s]\u001b[A\n",
      "3371it [06:26, 12.15it/s]5 [06:25<06:55, 11.50it/s]\u001b[A\n",
      "3373it [06:26, 10.80it/s]5 [06:25<06:32, 12.15it/s]\u001b[A\n",
      "3375it [06:26, 10.06it/s]5 [06:26<07:22, 10.79it/s]\u001b[A\n",
      "3377it [06:26,  8.81it/s]5 [06:26<07:54, 10.06it/s]\u001b[A\n",
      "3378it [06:26,  8.66it/s]5 [06:26<09:01,  8.81it/s]\u001b[A\n",
      "3380it [06:27,  8.81it/s]5 [06:26<09:13,  8.61it/s]\u001b[A\n",
      "3381it [06:27,  6.83it/s]5 [06:27<09:07,  8.70it/s]\u001b[A\n",
      "3382it [06:27,  5.94it/s]5 [06:27<11:42,  6.78it/s]\u001b[A\n",
      "3383it [06:27,  6.63it/s]5 [06:27<13:14,  6.00it/s]\u001b[A\n",
      "3384it [06:27,  5.65it/s]5 [06:27<11:53,  6.68it/s]\u001b[A\n",
      "3385it [06:28,  5.77it/s]5 [06:27<13:57,  5.68it/s]\u001b[A\n",
      "3386it [06:28,  5.60it/s]5 [06:28<13:44,  5.78it/s]\u001b[A\n",
      "3387it [06:28,  5.05it/s]5 [06:28<14:10,  5.59it/s]\u001b[A\n",
      "3388it [06:28,  5.27it/s]5 [06:28<15:47,  5.02it/s]\u001b[A\n",
      "3389it [06:28,  5.34it/s]5 [06:28<14:56,  5.31it/s]\u001b[A\n",
      "3391it [06:29,  6.08it/s]5 [06:28<14:48,  5.35it/s]\u001b[A\n",
      "3392it [06:29,  6.28it/s]5 [06:29<13:03,  6.07it/s]\u001b[A\n",
      "3393it [06:29,  6.42it/s]5 [06:29<12:29,  6.34it/s]\u001b[A\n",
      "3394it [06:29,  5.73it/s]5 [06:29<12:19,  6.43it/s]\u001b[A\n",
      "3395it [06:29,  5.25it/s]5 [06:29<13:59,  5.66it/s]\u001b[A\n",
      "3397it [06:30,  6.04it/s]5 [06:29<14:57,  5.29it/s]\u001b[A\n",
      "3398it [06:30,  5.87it/s]5 [06:29<13:01,  6.08it/s]\u001b[A\n",
      "3399it [06:30,  6.70it/s]5 [06:30<13:25,  5.90it/s]\u001b[A\n",
      "3400it [06:30,  7.18it/s]5 [06:30<11:45,  6.72it/s]\u001b[A\n",
      "3401it [06:30,  7.18it/s]5 [06:30<10:59,  7.20it/s]\u001b[A\n",
      "3402it [06:30,  7.81it/s]5 [06:30<10:59,  7.20it/s]\u001b[A\n",
      "3403it [06:30,  8.09it/s]5 [06:30<10:06,  7.82it/s]\u001b[A\n",
      "3404it [06:30,  8.36it/s]5 [06:30<09:45,  8.10it/s]\u001b[A\n",
      "3405it [06:30,  8.79it/s]5 [06:30<09:26,  8.37it/s]\u001b[A\n",
      "3406it [06:31,  8.74it/s]5 [06:30<08:59,  8.79it/s]\u001b[A\n",
      "3408it [06:31,  9.25it/s]5 [06:31<09:02,  8.74it/s]\u001b[A\n",
      "3409it [06:31,  9.32it/s]5 [06:31<08:32,  9.25it/s]\u001b[A\n",
      "3411it [06:31,  9.54it/s]5 [06:31<08:27,  9.32it/s]\u001b[A\n",
      "3412it [06:31,  9.39it/s]5 [06:31<08:16,  9.53it/s]\u001b[A\n",
      "3413it [06:31,  8.79it/s]5 [06:31<08:24,  9.39it/s]\u001b[A\n",
      "3414it [06:31,  8.19it/s]5 [06:31<08:57,  8.81it/s]\u001b[A\n",
      "3415it [06:32,  7.65it/s]5 [06:31<09:43,  8.11it/s]\u001b[A\n",
      "3416it [06:32,  7.89it/s]5 [06:32<10:15,  7.68it/s]\u001b[A\n",
      "3417it [06:32,  7.42it/s]5 [06:32<09:57,  7.91it/s]\u001b[A\n",
      "3418it [06:32,  7.73it/s]5 [06:32<10:36,  7.43it/s]\u001b[A\n",
      "3419it [06:32,  7.81it/s]5 [06:32<10:23,  7.58it/s]\u001b[A\n",
      "3420it [06:32,  8.15it/s]5 [06:32<10:01,  7.86it/s]\u001b[A\n",
      "3421it [06:32,  6.67it/s]5 [06:32<09:36,  8.20it/s]\u001b[A\n",
      "3422it [06:33,  7.20it/s]5 [06:32<11:46,  6.69it/s]\u001b[A\n",
      "3423it [06:33,  7.38it/s]5 [06:33<10:54,  7.22it/s]\u001b[A\n",
      "3424it [06:33,  6.25it/s]5 [06:33<10:39,  7.39it/s]\u001b[A\n",
      "3425it [06:33,  6.13it/s]5 [06:33<12:47,  6.15it/s]\u001b[A\n",
      "3426it [06:33,  6.86it/s]5 [06:33<12:45,  6.16it/s]\u001b[A\n",
      "3427it [06:33,  7.37it/s]5 [06:33<11:24,  6.89it/s]\u001b[A\n",
      "3428it [06:33,  6.75it/s]5 [06:33<10:38,  7.39it/s]\u001b[A\n",
      "3429it [06:34,  7.16it/s]5 [06:33<11:37,  6.76it/s]\u001b[A\n",
      "3430it [06:34,  7.50it/s]5 [06:34<10:58,  7.17it/s]\u001b[A\n",
      "3431it [06:34,  7.95it/s]5 [06:34<10:28,  7.51it/s]\u001b[A\n",
      "3433it [06:34,  9.20it/s]5 [06:34<09:52,  7.96it/s]\u001b[A\n",
      "3436it [06:34, 11.08it/s]5 [06:34<08:31,  9.20it/s]\u001b[A\n",
      "3438it [06:34, 12.16it/s]5 [06:34<07:04, 11.08it/s]\u001b[A\n",
      "3441it [06:34, 13.80it/s]5 [06:34<06:26, 12.18it/s]\u001b[A\n",
      "3443it [06:35, 12.50it/s]5 [06:34<05:40, 13.81it/s]\u001b[A\n",
      "3445it [06:35, 11.96it/s]5 [06:35<06:16, 12.50it/s]\u001b[A\n",
      "3447it [06:35, 10.72it/s]5 [06:35<06:32, 11.97it/s]\u001b[A\n",
      "3449it [06:35,  9.46it/s]5 [06:35<07:18, 10.72it/s]\u001b[A\n",
      "3451it [06:36,  7.39it/s]5 [06:35<08:16,  9.46it/s]\u001b[A\n",
      "3453it [06:36,  8.14it/s]5 [06:36<10:35,  7.39it/s]\u001b[A\n",
      "3454it [06:36,  6.94it/s]5 [06:36<09:36,  8.14it/s]\u001b[A\n",
      "3455it [06:36,  6.97it/s]5 [06:36<11:16,  6.94it/s]\u001b[A\n",
      "3456it [06:36,  7.15it/s]5 [06:36<11:24,  6.85it/s]\u001b[A\n",
      "3457it [06:36,  7.32it/s]5 [06:36<10:58,  7.12it/s]\u001b[A\n",
      "3458it [06:37,  6.96it/s]5 [06:36<10:39,  7.33it/s]\u001b[A\n",
      "3459it [06:37,  6.70it/s]5 [06:37<11:12,  6.97it/s]\u001b[A\n",
      "3460it [06:37,  6.32it/s]5 [06:37<11:46,  6.63it/s]\u001b[A\n",
      "3461it [06:37,  6.14it/s]5 [06:37<12:24,  6.29it/s]\u001b[A\n",
      "3462it [06:37,  5.76it/s]5 [06:37<12:45,  6.12it/s]\u001b[A\n",
      "3463it [06:38,  5.03it/s]5 [06:37<13:28,  5.79it/s]\u001b[A\n",
      "3464it [06:38,  5.06it/s]5 [06:38<15:30,  5.03it/s]\u001b[A\n",
      "3465it [06:38,  5.11it/s]5 [06:38<15:19,  5.09it/s]\u001b[A\n",
      "3466it [06:38,  5.30it/s]5 [06:38<15:12,  5.13it/s]\u001b[A\n",
      "3467it [06:38,  5.22it/s]5 [06:38<14:42,  5.30it/s]\u001b[A\n",
      "3468it [06:39,  5.26it/s]5 [06:38<15:02,  5.18it/s]\u001b[A\n",
      "3469it [06:39,  5.54it/s]5 [06:38<14:44,  5.29it/s]\u001b[A\n",
      "3470it [06:39,  5.55it/s]5 [06:39<14:00,  5.56it/s]\u001b[A\n",
      "3471it [06:39,  5.59it/s]5 [06:39<14:11,  5.49it/s]\u001b[A\n",
      "3472it [06:39,  6.06it/s]5 [06:39<13:49,  5.63it/s]\u001b[A\n",
      "3473it [06:39,  6.73it/s]5 [06:39<12:47,  6.09it/s]\u001b[A\n",
      "3474it [06:39,  7.22it/s]5 [06:39<11:31,  6.76it/s]\u001b[A\n",
      "3475it [06:40,  6.57it/s]5 [06:39<10:44,  7.25it/s]\u001b[A\n",
      "3476it [06:40,  6.64it/s]5 [06:40<11:49,  6.58it/s]\u001b[A\n",
      "3477it [06:40,  6.16it/s]5 [06:40<11:46,  6.60it/s]\u001b[A\n",
      "3478it [06:40,  6.61it/s]5 [06:40<12:44,  6.11it/s]\u001b[A\n",
      "3479it [06:40,  7.36it/s]5 [06:40<11:42,  6.65it/s]\u001b[A\n",
      "3481it [06:40,  7.52it/s]5 [06:40<10:28,  7.42it/s]\u001b[A\n",
      "3482it [06:41,  7.54it/s]5 [06:40<10:58,  7.09it/s]\u001b[A\n",
      "3483it [06:41,  6.55it/s]5 [06:40<10:45,  7.23it/s]\u001b[A\n",
      "3484it [06:41,  6.27it/s]5 [06:41<12:14,  6.35it/s]\u001b[A\n",
      "3486it [06:41,  6.92it/s]5 [06:41<12:35,  6.17it/s]\u001b[A\n",
      "3487it [06:41,  7.44it/s]5 [06:41<11:20,  6.84it/s]\u001b[A\n",
      "3488it [06:41,  5.96it/s]5 [06:41<10:31,  7.37it/s]\u001b[A\n",
      "3489it [06:42,  6.58it/s]5 [06:41<13:12,  5.87it/s]\u001b[A\n",
      "3490it [06:42,  6.36it/s]5 [06:42<11:48,  6.57it/s]\u001b[A\n",
      "3491it [06:42,  6.65it/s]5 [06:42<12:12,  6.35it/s]\u001b[A\n",
      "3492it [06:42,  4.95it/s]5 [06:42<11:40,  6.64it/s]\u001b[A\n",
      "3493it [06:42,  5.43it/s]5 [06:42<15:54,  4.87it/s]\u001b[A\n",
      "3494it [06:42,  6.08it/s]5 [06:42<14:12,  5.46it/s]\u001b[A\n",
      "3495it [06:43,  6.77it/s]5 [06:42<12:42,  6.10it/s]\u001b[A\n",
      "3496it [06:43,  7.46it/s]5 [06:43<11:25,  6.79it/s]\u001b[A\n",
      "3497it [06:43,  7.76it/s]5 [06:43<10:21,  7.48it/s]\u001b[A\n",
      "3498it [06:43,  7.47it/s]5 [06:43<09:57,  7.78it/s]\u001b[A\n",
      "3499it [06:43,  7.72it/s]5 [06:43<10:21,  7.48it/s]\u001b[A\n",
      "3500it [06:43,  7.74it/s]5 [06:43<10:01,  7.73it/s]\u001b[A\n",
      "3501it [06:43,  8.29it/s]5 [06:43<09:59,  7.75it/s]\u001b[A\n",
      "3503it [06:44,  8.73it/s]5 [06:43<09:20,  8.29it/s]\u001b[A\n",
      "3504it [06:44,  8.72it/s]5 [06:43<08:51,  8.73it/s]\u001b[A\n",
      "3506it [06:44, 10.21it/s]5 [06:44<08:53,  8.70it/s]\u001b[A\n",
      "3509it [06:44, 11.80it/s]5 [06:44<07:34, 10.21it/s]\u001b[A\n",
      "3511it [06:44, 13.11it/s]5 [06:44<06:32, 11.80it/s]\u001b[A\n",
      "3513it [06:44, 14.42it/s]5 [06:44<05:53, 13.10it/s]\u001b[A\n",
      "3515it [06:44, 12.84it/s]5 [06:44<05:21, 14.41it/s]\u001b[A\n",
      "3517it [06:45, 11.43it/s]5 [06:44<06:00, 12.83it/s]\u001b[A\n",
      "3519it [06:45,  9.88it/s]5 [06:44<06:44, 11.43it/s]\u001b[A\n",
      "3521it [06:45,  9.90it/s]5 [06:45<07:48,  9.88it/s]\u001b[A\n",
      "3523it [06:45,  9.92it/s]5 [06:45<07:47,  9.89it/s]\u001b[A\n",
      "3525it [06:45,  9.90it/s]5 [06:45<07:46,  9.91it/s]\u001b[A\n",
      "3527it [06:46,  9.90it/s]5 [06:45<07:46,  9.90it/s]\u001b[A\n",
      "3529it [06:46,  9.22it/s]5 [06:46<07:46,  9.89it/s]\u001b[A\n",
      "3530it [06:46,  9.04it/s]5 [06:46<08:20,  9.22it/s]\u001b[A\n",
      "3531it [06:46,  8.13it/s]5 [06:46<08:30,  9.04it/s]\u001b[A\n",
      "3532it [06:46,  7.70it/s]5 [06:46<09:27,  8.13it/s]\u001b[A\n",
      "3533it [06:46,  8.14it/s]5 [06:46<09:58,  7.70it/s]\u001b[A\n",
      "3534it [06:47,  8.03it/s]5 [06:46<09:26,  8.14it/s]\u001b[A\n",
      "3535it [06:47,  7.60it/s]5 [06:46<09:34,  8.03it/s]\u001b[A\n",
      "3536it [06:47,  8.19it/s]5 [06:47<10:06,  7.60it/s]\u001b[A\n",
      "3537it [06:47,  8.50it/s]5 [06:47<09:22,  8.19it/s]\u001b[A\n",
      "3538it [06:47,  8.32it/s]5 [06:47<09:02,  8.49it/s]\u001b[A\n",
      "3540it [06:47,  8.75it/s]5 [06:47<09:13,  8.32it/s]\u001b[A\n",
      "3541it [06:47,  8.17it/s]5 [06:47<08:46,  8.75it/s]\u001b[A\n",
      "3542it [06:48,  7.40it/s]5 [06:47<09:23,  8.18it/s]\u001b[A\n",
      "3543it [06:48,  7.62it/s]5 [06:47<10:22,  7.40it/s]\u001b[A\n",
      "3545it [06:48,  8.11it/s]5 [06:48<10:03,  7.62it/s]\u001b[A\n",
      "3546it [06:48,  8.10it/s]5 [06:48<09:27,  8.11it/s]\u001b[A\n",
      "3547it [06:48,  7.64it/s]5 [06:48<09:27,  8.10it/s]\u001b[A\n",
      "3548it [06:48,  7.24it/s]5 [06:48<10:01,  7.64it/s]\u001b[A\n",
      "3549it [06:48,  7.02it/s]5 [06:48<10:35,  7.24it/s]\u001b[A\n",
      "3550it [06:49,  7.09it/s]5 [06:48<10:54,  7.03it/s]\u001b[A\n",
      "3551it [06:49,  6.29it/s]5 [06:48<10:48,  7.08it/s]\u001b[A\n",
      "3552it [06:49,  6.29it/s]5 [06:49<12:10,  6.29it/s]\u001b[A\n",
      "3553it [06:49,  6.35it/s]5 [06:49<12:10,  6.29it/s]\u001b[A\n",
      "3554it [06:49,  6.19it/s]5 [06:49<12:03,  6.35it/s]\u001b[A\n",
      "3555it [06:49,  6.13it/s]5 [06:49<12:22,  6.19it/s]\u001b[A\n",
      "3556it [06:50,  6.68it/s]5 [06:49<12:28,  6.13it/s]\u001b[A\n",
      "3557it [06:50,  7.35it/s]5 [06:49<11:26,  6.69it/s]\u001b[A\n",
      "3558it [06:50,  7.91it/s]5 [06:50<10:24,  7.35it/s]\u001b[A\n",
      "3559it [06:50,  7.68it/s]5 [06:50<09:39,  7.91it/s]\u001b[A\n",
      "3561it [06:50,  8.14it/s]5 [06:50<09:56,  7.69it/s]\u001b[A\n",
      "3562it [06:50,  8.50it/s]5 [06:50<09:23,  8.14it/s]\u001b[A\n",
      "3563it [06:50,  8.43it/s]5 [06:50<08:59,  8.50it/s]\u001b[A\n",
      "3565it [06:51,  8.67it/s]5 [06:50<09:03,  8.43it/s]\u001b[A\n",
      "3566it [06:51,  8.75it/s]5 [06:50<08:48,  8.67it/s]\u001b[A\n",
      "3568it [06:51,  9.43it/s]5 [06:51<08:43,  8.75it/s]\u001b[A\n",
      "3569it [06:51,  9.35it/s]5 [06:51<08:05,  9.42it/s]\u001b[A\n",
      "3570it [06:51,  8.26it/s]5 [06:51<08:09,  9.35it/s]\u001b[A\n",
      "3571it [06:51,  8.04it/s]5 [06:51<09:14,  8.26it/s]\u001b[A\n",
      "3572it [06:51,  8.47it/s]5 [06:51<09:28,  8.04it/s]\u001b[A\n",
      "3573it [06:51,  7.85it/s]5 [06:51<08:59,  8.47it/s]\u001b[A\n",
      "3574it [06:52,  8.17it/s]5 [06:51<09:41,  7.86it/s]\u001b[A\n",
      "3575it [06:52,  8.41it/s]5 [06:52<09:19,  8.17it/s]\u001b[A\n",
      "3577it [06:52, 10.17it/s]5 [06:52<09:03,  8.41it/s]\u001b[A\n",
      "3580it [06:52, 12.03it/s]5 [06:52<07:29, 10.17it/s]\u001b[A\n",
      "3582it [06:52, 13.52it/s]5 [06:52<06:19, 12.03it/s]\u001b[A\n",
      "3584it [06:52, 11.84it/s]5 [06:52<05:37, 13.51it/s]\u001b[A\n",
      "3586it [06:52, 11.29it/s]5 [06:52<06:25, 11.84it/s]\u001b[A\n",
      "3588it [06:53,  9.84it/s]5 [06:52<06:44, 11.28it/s]\u001b[A\n",
      "3590it [06:53,  9.82it/s]5 [06:53<07:43,  9.84it/s]\u001b[A\n",
      "3592it [06:53,  9.25it/s]5 [06:53<07:43,  9.82it/s]\u001b[A\n",
      " 44%|████▍     | 3592/8145 [06:53<08:12,  9.25it/s]\u001b[A\n",
      "3594it [06:53,  8.94it/s]5 [06:53<08:12,  9.24it/s]\u001b[A\n",
      "3595it [06:54,  8.90it/s]5 [06:53<08:46,  8.65it/s]\u001b[A\n",
      "3596it [06:54,  8.93it/s]5 [06:53<08:43,  8.69it/s]\u001b[A\n",
      "3597it [06:54,  8.90it/s]5 [06:54<08:37,  8.79it/s]\u001b[A\n",
      "3599it [06:54,  8.75it/s]5 [06:54<08:37,  8.79it/s]\u001b[A\n",
      "3600it [06:54,  8.70it/s]5 [06:54<08:43,  8.68it/s]\u001b[A\n",
      "3602it [06:54,  9.26it/s]5 [06:54<08:45,  8.65it/s]\u001b[A\n",
      "3604it [06:54,  9.62it/s]5 [06:54<08:12,  9.22it/s]\u001b[A\n",
      "3605it [06:55,  9.51it/s]5 [06:54<07:53,  9.59it/s]\u001b[A\n",
      "3606it [06:55,  8.20it/s]5 [06:55<07:58,  9.49it/s]\u001b[A\n",
      "3607it [06:55,  7.19it/s]5 [06:55<09:14,  8.19it/s]\u001b[A\n",
      "3608it [06:55,  6.21it/s]5 [06:55<10:31,  7.19it/s]\u001b[A\n",
      "3609it [06:55,  6.41it/s]5 [06:55<12:10,  6.21it/s]\u001b[A\n",
      "3610it [06:55,  6.88it/s]5 [06:55<11:48,  6.40it/s]\u001b[A\n",
      "3611it [06:56,  7.00it/s]5 [06:55<10:59,  6.88it/s]\u001b[A\n",
      "3612it [06:56,  6.71it/s]5 [06:55<10:47,  7.01it/s]\u001b[A\n",
      "3613it [06:56,  6.64it/s]5 [06:56<11:15,  6.71it/s]\u001b[A\n",
      "3614it [06:56,  6.80it/s]5 [06:56<11:22,  6.64it/s]\u001b[A\n",
      "3615it [06:56,  6.62it/s]5 [06:56<11:06,  6.80it/s]\u001b[A\n",
      "3616it [06:56,  6.68it/s]5 [06:56<11:24,  6.62it/s]\u001b[A\n",
      "3617it [06:57,  5.40it/s]5 [06:56<11:18,  6.68it/s]\u001b[A\n",
      "3618it [06:57,  5.46it/s]5 [06:57<14:02,  5.37it/s]\u001b[A\n",
      "3619it [06:57,  4.88it/s]5 [06:57<13:47,  5.47it/s]\u001b[A\n",
      "3620it [06:57,  5.11it/s]5 [06:57<15:26,  4.89it/s]\u001b[A\n",
      "3622it [06:58,  5.18it/s]5 [06:57<14:54,  5.06it/s]\u001b[A\n",
      "3623it [06:58,  5.98it/s]5 [06:57<14:22,  5.24it/s]\u001b[A\n",
      "3624it [06:58,  6.56it/s]5 [06:58<12:28,  6.04it/s]\u001b[A\n",
      "3625it [06:58,  5.83it/s]5 [06:58<11:23,  6.62it/s]\u001b[A\n",
      "3626it [06:58,  4.93it/s]5 [06:58<12:54,  5.84it/s]\u001b[A\n",
      "3627it [06:58,  5.29it/s]5 [06:58<15:23,  4.89it/s]\u001b[A\n",
      "3628it [06:59,  5.64it/s]5 [06:58<14:08,  5.33it/s]\u001b[A\n",
      "3629it [06:59,  6.14it/s]5 [06:58<13:16,  5.67it/s]\u001b[A\n",
      "3630it [06:59,  6.12it/s]5 [06:59<12:12,  6.16it/s]\u001b[A\n",
      "3631it [06:59,  4.85it/s]5 [06:59<12:15,  6.13it/s]\u001b[A\n",
      "3632it [06:59,  5.32it/s]5 [06:59<15:40,  4.80it/s]\u001b[A\n",
      "3633it [06:59,  5.79it/s]5 [06:59<14:03,  5.35it/s]\u001b[A\n",
      "3634it [07:00,  4.85it/s]5 [06:59<12:56,  5.81it/s]\u001b[A\n",
      "3635it [07:00,  4.37it/s]5 [07:00<15:42,  4.79it/s]\u001b[A\n",
      "3636it [07:00,  5.11it/s]5 [07:00<17:14,  4.36it/s]\u001b[A\n",
      "3638it [07:00,  6.06it/s]5 [07:00<14:35,  5.15it/s]\u001b[A\n",
      "3640it [07:00,  7.03it/s]5 [07:00<12:18,  6.10it/s]\u001b[A\n",
      "3641it [07:01,  7.61it/s]5 [07:00<10:37,  7.07it/s]\u001b[A\n",
      "3642it [07:01,  7.26it/s]5 [07:01<09:49,  7.63it/s]\u001b[A\n",
      "3643it [07:01,  7.46it/s]5 [07:01<10:18,  7.28it/s]\u001b[A\n",
      "3644it [07:01,  7.56it/s]5 [07:01<10:02,  7.47it/s]\u001b[A\n",
      "3645it [07:01,  7.74it/s]5 [07:01<09:55,  7.56it/s]\u001b[A\n",
      "3646it [07:01,  8.09it/s]5 [07:01<09:40,  7.76it/s]\u001b[A\n",
      "3647it [07:01,  8.47it/s]5 [07:01<09:15,  8.10it/s]\u001b[A\n",
      "3648it [07:01,  7.93it/s]5 [07:01<08:50,  8.48it/s]\u001b[A\n",
      "3649it [07:02,  8.14it/s]5 [07:01<09:26,  7.94it/s]\u001b[A\n",
      "3651it [07:02,  8.61it/s]5 [07:02<09:12,  8.14it/s]\u001b[A\n",
      "3652it [07:02,  8.63it/s]5 [07:02<08:41,  8.61it/s]\u001b[A\n",
      "3653it [07:02,  8.43it/s]5 [07:02<08:40,  8.63it/s]\u001b[A\n",
      "3654it [07:02,  8.19it/s]5 [07:02<08:52,  8.43it/s]\u001b[A\n",
      "3655it [07:02,  8.23it/s]5 [07:02<09:08,  8.19it/s]\u001b[A\n",
      "3656it [07:02,  8.52it/s]5 [07:02<09:05,  8.23it/s]\u001b[A\n",
      "3657it [07:03,  8.41it/s]5 [07:02<08:46,  8.52it/s]\u001b[A\n",
      "3658it [07:03,  8.55it/s]5 [07:02<08:53,  8.41it/s]\u001b[A\n",
      "3659it [07:03,  8.06it/s]5 [07:03<09:04,  8.24it/s]\u001b[A\n",
      "3660it [07:03,  8.39it/s]5 [07:03<09:10,  8.14it/s]\u001b[A\n",
      "3661it [07:03,  7.75it/s]5 [07:03<08:50,  8.45it/s]\u001b[A\n",
      "3663it [07:03,  8.34it/s]5 [07:03<09:35,  7.79it/s]\u001b[A\n",
      "3664it [07:03,  8.60it/s]5 [07:03<08:55,  8.38it/s]\u001b[A\n",
      "3666it [07:04,  9.18it/s]5 [07:03<08:39,  8.62it/s]\u001b[A\n",
      "3668it [07:04,  9.66it/s]5 [07:03<08:06,  9.20it/s]\u001b[A\n",
      "3670it [07:04,  9.97it/s]5 [07:04<07:42,  9.68it/s]\u001b[A\n",
      "3672it [07:04,  8.46it/s]5 [07:04<07:28,  9.98it/s]\u001b[A\n",
      "3673it [07:04,  7.76it/s]5 [07:04<08:48,  8.46it/s]\u001b[A\n",
      "3674it [07:04,  7.93it/s]5 [07:04<09:35,  7.77it/s]\u001b[A\n",
      "3675it [07:05,  7.69it/s]5 [07:04<09:23,  7.93it/s]\u001b[A\n",
      "3676it [07:05,  7.11it/s]5 [07:05<09:40,  7.70it/s]\u001b[A\n",
      "3677it [07:05,  7.73it/s]5 [07:05<10:28,  7.12it/s]\u001b[A\n",
      "3679it [07:05,  8.49it/s]5 [07:05<09:37,  7.73it/s]\u001b[A\n",
      "3680it [07:05,  7.84it/s]5 [07:05<08:45,  8.49it/s]\u001b[A\n",
      "3681it [07:05,  7.10it/s]5 [07:05<09:30,  7.83it/s]\u001b[A\n",
      "3682it [07:06,  7.18it/s]5 [07:05<10:28,  7.10it/s]\u001b[A\n",
      "3683it [07:06,  7.08it/s]5 [07:05<10:22,  7.17it/s]\u001b[A\n",
      "3684it [07:06,  6.35it/s]5 [07:06<10:34,  7.04it/s]\u001b[A\n",
      "3685it [07:06,  6.77it/s]5 [07:06<11:41,  6.36it/s]\u001b[A\n",
      "3686it [07:06,  6.81it/s]5 [07:06<10:58,  6.78it/s]\u001b[A\n",
      "3687it [07:06,  7.05it/s]5 [07:06<10:53,  6.82it/s]\u001b[A\n",
      "3688it [07:06,  7.33it/s]5 [07:06<10:31,  7.06it/s]\u001b[A\n",
      "3689it [07:07,  7.34it/s]5 [07:06<10:07,  7.33it/s]\u001b[A\n",
      "3690it [07:07,  7.67it/s]5 [07:06<10:06,  7.34it/s]\u001b[A\n",
      "3691it [07:07,  7.97it/s]5 [07:07<09:40,  7.68it/s]\u001b[A\n",
      "3692it [07:07,  7.57it/s]5 [07:07<09:18,  7.97it/s]\u001b[A\n",
      "3693it [07:07,  7.54it/s]5 [07:07<09:48,  7.57it/s]\u001b[A\n",
      "3694it [07:07,  7.70it/s]5 [07:07<09:50,  7.54it/s]\u001b[A\n",
      "3695it [07:07,  7.70it/s]5 [07:07<09:38,  7.70it/s]\u001b[A\n",
      "3696it [07:07,  8.11it/s]5 [07:07<09:38,  7.70it/s]\u001b[A\n",
      "3697it [07:08,  8.39it/s]5 [07:07<09:08,  8.11it/s]\u001b[A\n",
      "3698it [07:08,  7.52it/s]5 [07:07<08:50,  8.39it/s]\u001b[A\n",
      "3699it [07:08,  7.43it/s]5 [07:08<09:51,  7.52it/s]\u001b[A\n",
      "3701it [07:08,  8.08it/s]5 [07:08<09:58,  7.43it/s]\u001b[A\n",
      "3702it [07:08,  8.37it/s]5 [07:08<09:10,  8.08it/s]\u001b[A\n",
      "3704it [07:08,  8.98it/s]5 [07:08<08:50,  8.37it/s]\u001b[A\n",
      "3705it [07:08,  8.62it/s]5 [07:08<08:14,  8.98it/s]\u001b[A\n",
      "3706it [07:09,  7.42it/s]5 [07:08<08:34,  8.62it/s]\u001b[A\n",
      "3707it [07:09,  7.06it/s]5 [07:09<09:58,  7.42it/s]\u001b[A\n",
      "3708it [07:09,  6.72it/s]5 [07:09<10:28,  7.06it/s]\u001b[A\n",
      "3709it [07:09,  6.91it/s]5 [07:09<11:00,  6.72it/s]\u001b[A\n",
      "3710it [07:09,  5.85it/s]5 [07:09<10:44,  6.89it/s]\u001b[A\n",
      "3711it [07:09,  6.14it/s]5 [07:09<12:48,  5.77it/s]\u001b[A\n",
      "3712it [07:10,  6.75it/s]5 [07:09<11:58,  6.17it/s]\u001b[A\n",
      "3713it [07:10,  5.53it/s]5 [07:09<10:53,  6.78it/s]\u001b[A\n",
      "3714it [07:10,  4.82it/s]5 [07:10<13:20,  5.54it/s]\u001b[A\n",
      "3715it [07:10,  5.32it/s]5 [07:10<15:17,  4.83it/s]\u001b[A\n",
      "3716it [07:10,  5.67it/s]5 [07:10<14:04,  5.25it/s]\u001b[A\n",
      "3717it [07:11,  5.60it/s]5 [07:10<12:56,  5.70it/s]\u001b[A\n",
      "3718it [07:11,  5.33it/s]5 [07:11<13:17,  5.55it/s]\u001b[A\n",
      "3719it [07:11,  6.07it/s]5 [07:11<13:46,  5.36it/s]\u001b[A\n",
      "3720it [07:11,  6.62it/s]5 [07:11<12:05,  6.10it/s]\u001b[A\n",
      "3721it [07:11,  6.92it/s]5 [07:11<11:06,  6.64it/s]\u001b[A\n",
      "3722it [07:11,  5.72it/s]5 [07:11<10:38,  6.93it/s]\u001b[A\n",
      "3723it [07:11,  6.34it/s]5 [07:11<12:52,  5.72it/s]\u001b[A\n",
      "3725it [07:12,  7.15it/s]5 [07:11<11:36,  6.35it/s]\u001b[A\n",
      "3726it [07:12,  7.28it/s]5 [07:12<10:17,  7.15it/s]\u001b[A\n",
      "3727it [07:12,  7.86it/s]5 [07:12<10:06,  7.28it/s]\u001b[A\n",
      "3728it [07:12,  7.00it/s]5 [07:12<09:21,  7.86it/s]\u001b[A\n",
      "3729it [07:12,  7.38it/s]5 [07:12<10:30,  7.00it/s]\u001b[A\n",
      "3730it [07:12,  6.48it/s]5 [07:12<09:57,  7.39it/s]\u001b[A\n",
      "3731it [07:13,  7.16it/s]5 [07:12<11:21,  6.48it/s]\u001b[A\n",
      "3732it [07:13,  7.42it/s]5 [07:12<10:16,  7.16it/s]\u001b[A\n",
      "3733it [07:13,  7.79it/s]5 [07:13<09:54,  7.42it/s]\u001b[A\n",
      "3734it [07:13,  6.44it/s]5 [07:13<09:26,  7.79it/s]\u001b[A\n",
      "3735it [07:13,  6.61it/s]5 [07:13<11:25,  6.44it/s]\u001b[A\n",
      "3736it [07:13,  5.90it/s]5 [07:13<11:07,  6.61it/s]\u001b[A\n",
      "3737it [07:13,  6.44it/s]5 [07:13<12:27,  5.90it/s]\u001b[A\n",
      "3738it [07:14,  6.49it/s]5 [07:13<11:24,  6.44it/s]\u001b[A\n",
      "3739it [07:14,  6.81it/s]5 [07:14<11:19,  6.49it/s]\u001b[A\n",
      "3740it [07:14,  6.02it/s]5 [07:14<10:47,  6.81it/s]\u001b[A\n",
      "3741it [07:14,  6.55it/s]5 [07:14<12:11,  6.02it/s]\u001b[A\n",
      "3743it [07:14,  7.34it/s]5 [07:14<11:12,  6.55it/s]\u001b[A\n",
      "3744it [07:14,  7.94it/s]5 [07:14<09:59,  7.34it/s]\u001b[A\n",
      "3745it [07:14,  8.36it/s]5 [07:14<09:14,  7.94it/s]\u001b[A\n",
      "3746it [07:15,  8.07it/s]5 [07:14<08:46,  8.36it/s]\u001b[A\n",
      "3747it [07:15,  8.10it/s]5 [07:15<09:05,  8.07it/s]\u001b[A\n",
      "3748it [07:15,  8.58it/s]5 [07:15<09:02,  8.10it/s]\u001b[A\n",
      "3749it [07:15,  8.88it/s]5 [07:15<08:32,  8.58it/s]\u001b[A\n",
      "3750it [07:15,  8.38it/s]5 [07:15<08:15,  8.88it/s]\u001b[A\n",
      "3751it [07:15,  7.22it/s]5 [07:15<08:44,  8.38it/s]\u001b[A\n",
      "3752it [07:15,  7.64it/s]5 [07:15<10:08,  7.22it/s]\u001b[A\n",
      "3753it [07:15,  7.87it/s]5 [07:15<09:35,  7.63it/s]\u001b[A\n",
      "3754it [07:16,  8.35it/s]5 [07:15<09:17,  7.87it/s]\u001b[A\n",
      "3755it [07:16,  8.30it/s]5 [07:16<08:45,  8.35it/s]\u001b[A\n",
      "3756it [07:16,  8.56it/s]5 [07:16<08:48,  8.30it/s]\u001b[A\n",
      "3758it [07:16,  9.09it/s]5 [07:16<08:32,  8.56it/s]\u001b[A\n",
      "3759it [07:16,  8.16it/s]5 [07:16<08:02,  9.09it/s]\u001b[A\n",
      "3760it [07:16,  8.38it/s]5 [07:16<08:57,  8.16it/s]\u001b[A\n",
      "3761it [07:16,  8.50it/s]5 [07:16<08:43,  8.38it/s]\u001b[A\n",
      "3762it [07:16,  8.51it/s]5 [07:16<08:35,  8.50it/s]\u001b[A\n",
      "3764it [07:17,  9.07it/s]5 [07:16<08:35,  8.51it/s]\u001b[A\n",
      "3766it [07:17,  9.40it/s]5 [07:17<08:02,  9.07it/s]\u001b[A\n",
      "3767it [07:17,  8.88it/s]5 [07:17<07:45,  9.40it/s]\u001b[A\n",
      "3768it [07:17,  6.04it/s]5 [07:17<08:12,  8.88it/s]\u001b[A\n",
      "3769it [07:17,  5.83it/s]5 [07:17<12:04,  6.04it/s]\u001b[A\n",
      "3770it [07:18,  5.29it/s]5 [07:17<12:30,  5.83it/s]\u001b[A\n",
      "3771it [07:18,  5.58it/s]5 [07:18<14:00,  5.20it/s]\u001b[A\n",
      "3772it [07:18,  5.32it/s]5 [07:18<13:08,  5.55it/s]\u001b[A\n",
      "3773it [07:18,  5.81it/s]5 [07:18<13:37,  5.35it/s]\u001b[A\n",
      "3774it [07:18,  6.41it/s]5 [07:18<12:29,  5.83it/s]\u001b[A\n",
      "3775it [07:18,  6.75it/s]5 [07:18<11:19,  6.43it/s]\u001b[A\n",
      "3776it [07:19,  5.96it/s]5 [07:18<10:52,  6.70it/s]\u001b[A\n",
      "3777it [07:19,  5.93it/s]5 [07:19<12:08,  5.99it/s]\u001b[A\n",
      "3778it [07:19,  5.31it/s]5 [07:19<12:23,  5.87it/s]\u001b[A\n",
      "3779it [07:19,  5.96it/s]5 [07:19<13:37,  5.34it/s]\u001b[A\n",
      "3780it [07:19,  5.55it/s]5 [07:19<12:09,  5.98it/s]\u001b[A\n",
      "3781it [07:20,  5.36it/s]5 [07:19<13:04,  5.57it/s]\u001b[A\n",
      "3782it [07:20,  5.94it/s]5 [07:20<13:33,  5.36it/s]\u001b[A\n",
      "3783it [07:20,  6.62it/s]5 [07:20<12:13,  5.95it/s]\u001b[A\n",
      "3784it [07:20,  6.25it/s]5 [07:20<10:58,  6.62it/s]\u001b[A\n",
      "3785it [07:20,  6.62it/s]5 [07:20<11:36,  6.26it/s]\u001b[A\n",
      "3786it [07:20,  6.48it/s]5 [07:20<10:57,  6.63it/s]\u001b[A\n",
      "3787it [07:20,  6.28it/s]5 [07:20<11:17,  6.43it/s]\u001b[A\n",
      "3788it [07:21,  5.33it/s]5 [07:20<11:38,  6.24it/s]\u001b[A\n",
      "3789it [07:21,  4.89it/s]5 [07:21<13:34,  5.35it/s]\u001b[A\n",
      "3790it [07:21,  4.66it/s]5 [07:21<14:54,  4.87it/s]\u001b[A\n",
      "3791it [07:21,  4.65it/s]5 [07:21<15:31,  4.67it/s]\u001b[A\n",
      "3792it [07:22,  5.00it/s]5 [07:21<15:49,  4.59it/s]\u001b[A\n",
      "3793it [07:22,  5.49it/s]5 [07:22<14:24,  5.04it/s]\u001b[A\n",
      "3794it [07:22,  6.16it/s]5 [07:22<13:08,  5.52it/s]\u001b[A\n",
      "3795it [07:22,  6.84it/s]5 [07:22<11:44,  6.18it/s]\u001b[A\n",
      "3796it [07:22,  6.51it/s]5 [07:22<10:33,  6.86it/s]\u001b[A\n",
      "3797it [07:22,  6.49it/s]5 [07:22<11:06,  6.52it/s]\u001b[A\n",
      "3798it [07:22,  6.59it/s]5 [07:22<11:08,  6.50it/s]\u001b[A\n",
      "3799it [07:23,  6.89it/s]5 [07:22<10:59,  6.59it/s]\u001b[A\n",
      "3800it [07:23,  7.33it/s]5 [07:23<10:29,  6.90it/s]\u001b[A\n",
      "3801it [07:23,  7.83it/s]5 [07:23<09:52,  7.34it/s]\u001b[A\n",
      "3802it [07:23,  7.95it/s]5 [07:23<09:19,  7.77it/s]\u001b[A\n",
      "3803it [07:23,  8.18it/s]5 [07:23<09:04,  7.98it/s]\u001b[A\n",
      "3804it [07:23,  7.86it/s]5 [07:23<08:48,  8.21it/s]\u001b[A\n",
      "3805it [07:23,  7.35it/s]5 [07:23<09:10,  7.88it/s]\u001b[A\n",
      "3806it [07:23,  6.82it/s]5 [07:23<09:50,  7.35it/s]\u001b[A\n",
      "3807it [07:24,  6.59it/s]5 [07:23<10:36,  6.82it/s]\u001b[A\n",
      "3808it [07:24,  7.11it/s]5 [07:24<10:58,  6.59it/s]\u001b[A\n",
      "3809it [07:24,  7.01it/s]5 [07:24<10:09,  7.12it/s]\u001b[A\n",
      "3810it [07:24,  7.24it/s]5 [07:24<10:18,  7.01it/s]\u001b[A\n",
      "3811it [07:24,  7.30it/s]5 [07:24<09:59,  7.24it/s]\u001b[A\n",
      "3812it [07:24,  7.16it/s]5 [07:24<09:53,  7.30it/s]\u001b[A\n",
      "3813it [07:24,  7.52it/s]5 [07:24<10:05,  7.16it/s]\u001b[A\n",
      "3814it [07:25,  7.62it/s]5 [07:24<09:35,  7.52it/s]\u001b[A\n",
      "3815it [07:25,  7.03it/s]5 [07:25<09:28,  7.62it/s]\u001b[A\n",
      "3816it [07:25,  5.97it/s]5 [07:25<10:16,  7.03it/s]\u001b[A\n",
      "3817it [07:25,  5.72it/s]5 [07:25<12:04,  5.97it/s]\u001b[A\n",
      "3818it [07:25,  5.57it/s]5 [07:25<12:48,  5.63it/s]\u001b[A\n",
      "3819it [07:25,  5.90it/s]5 [07:25<12:57,  5.57it/s]\u001b[A\n",
      "3820it [07:26,  5.95it/s]5 [07:25<12:09,  5.93it/s]\u001b[A\n",
      "3821it [07:26,  5.80it/s]5 [07:26<12:04,  5.97it/s]\u001b[A\n",
      "3823it [07:26,  6.53it/s]5 [07:26<12:24,  5.81it/s]\u001b[A\n",
      "3824it [07:26,  6.84it/s]5 [07:26<11:00,  6.55it/s]\u001b[A\n",
      "3825it [07:26,  7.45it/s]5 [07:26<10:31,  6.85it/s]\u001b[A\n",
      "3826it [07:26,  7.73it/s]5 [07:26<09:39,  7.46it/s]\u001b[A\n",
      "3828it [07:27,  8.54it/s]5 [07:26<09:18,  7.74it/s]\u001b[A\n",
      "3829it [07:27,  8.40it/s]5 [07:27<08:25,  8.54it/s]\u001b[A\n",
      "3830it [07:27,  8.28it/s]5 [07:27<08:33,  8.40it/s]\u001b[A\n",
      "3831it [07:27,  7.85it/s]5 [07:27<08:41,  8.28it/s]\u001b[A\n",
      "3832it [07:27,  7.89it/s]5 [07:27<09:09,  7.85it/s]\u001b[A\n",
      "3834it [07:27,  8.33it/s]5 [07:27<09:06,  7.89it/s]\u001b[A\n",
      "3835it [07:27,  7.91it/s]5 [07:27<08:37,  8.33it/s]\u001b[A\n",
      "3836it [07:28,  7.67it/s]5 [07:27<09:04,  7.91it/s]\u001b[A\n",
      "3837it [07:28,  7.73it/s]5 [07:28<09:21,  7.67it/s]\u001b[A\n",
      "3838it [07:28,  7.70it/s]5 [07:28<09:17,  7.73it/s]\u001b[A\n",
      "3839it [07:28,  7.78it/s]5 [07:28<09:19,  7.70it/s]\u001b[A\n",
      "3840it [07:28,  8.23it/s]5 [07:28<09:13,  7.78it/s]\u001b[A\n",
      "3841it [07:28,  8.53it/s]5 [07:28<08:42,  8.23it/s]\u001b[A\n",
      "3843it [07:28,  8.58it/s]5 [07:28<08:24,  8.53it/s]\u001b[A\n",
      "3844it [07:29,  8.78it/s]5 [07:28<08:21,  8.58it/s]\u001b[A\n",
      "3845it [07:29,  8.96it/s]5 [07:28<08:09,  8.78it/s]\u001b[A\n",
      "3846it [07:29,  8.88it/s]5 [07:29<07:59,  8.97it/s]\u001b[A\n",
      "3847it [07:29,  8.97it/s]5 [07:29<08:03,  8.89it/s]\u001b[A\n",
      "3848it [07:29,  8.85it/s]5 [07:29<07:58,  8.97it/s]\u001b[A\n",
      "3849it [07:29,  9.06it/s]5 [07:29<08:05,  8.84it/s]\u001b[A\n",
      "3850it [07:29,  8.85it/s]5 [07:29<07:54,  9.06it/s]\u001b[A\n",
      "3851it [07:29,  8.79it/s]5 [07:29<08:05,  8.85it/s]\u001b[A\n",
      "3852it [07:29,  8.96it/s]5 [07:29<08:08,  8.80it/s]\u001b[A\n",
      "3853it [07:30,  9.14it/s]5 [07:29<07:58,  8.96it/s]\u001b[A\n",
      "3854it [07:30,  7.70it/s]5 [07:29<07:49,  9.15it/s]\u001b[A\n",
      "3855it [07:30,  7.42it/s]5 [07:30<09:17,  7.70it/s]\u001b[A\n",
      "3856it [07:30,  7.54it/s]5 [07:30<09:38,  7.42it/s]\u001b[A\n",
      "3857it [07:30,  8.04it/s]5 [07:30<09:29,  7.53it/s]\u001b[A\n",
      "3858it [07:30,  8.42it/s]5 [07:30<08:53,  8.04it/s]\u001b[A\n",
      "3859it [07:30,  8.19it/s]5 [07:30<08:29,  8.42it/s]\u001b[A\n",
      "3860it [07:30,  8.62it/s]5 [07:30<08:43,  8.19it/s]\u001b[A\n",
      "3861it [07:31,  8.76it/s]5 [07:30<08:16,  8.63it/s]\u001b[A\n",
      "3862it [07:31,  8.87it/s]5 [07:30<08:09,  8.75it/s]\u001b[A\n",
      "3863it [07:31,  8.61it/s]5 [07:31<08:02,  8.88it/s]\u001b[A\n",
      "3864it [07:31,  8.04it/s]5 [07:31<08:17,  8.60it/s]\u001b[A\n",
      "3866it [07:31,  8.72it/s]5 [07:31<08:52,  8.05it/s]\u001b[A\n",
      "3867it [07:31,  7.81it/s]5 [07:31<08:10,  8.72it/s]\u001b[A\n",
      "3868it [07:31,  7.59it/s]5 [07:31<09:07,  7.81it/s]\u001b[A\n",
      "3869it [07:32,  7.65it/s]5 [07:31<09:23,  7.59it/s]\u001b[A\n",
      "3870it [07:32,  8.21it/s]5 [07:31<09:19,  7.65it/s]\u001b[A\n",
      "3872it [07:32,  9.50it/s]5 [07:32<08:40,  8.22it/s]\u001b[A\n",
      "3874it [07:32, 11.02it/s]5 [07:32<07:29,  9.51it/s]\u001b[A\n",
      "3876it [07:32, 10.75it/s]5 [07:32<06:27, 11.03it/s]\u001b[A\n",
      "3878it [07:32, 10.51it/s]5 [07:32<06:36, 10.76it/s]\u001b[A\n",
      "3880it [07:32,  9.98it/s]5 [07:32<06:46, 10.50it/s]\u001b[A\n",
      "3882it [07:33,  8.41it/s]5 [07:32<07:07,  9.98it/s]\u001b[A\n",
      "3883it [07:33,  7.58it/s]5 [07:33<08:27,  8.41it/s]\u001b[A\n",
      "3884it [07:33,  6.43it/s]5 [07:33<09:25,  7.53it/s]\u001b[A\n",
      "3885it [07:33,  6.40it/s]5 [07:33<11:04,  6.41it/s]\u001b[A\n",
      "3886it [07:33,  6.84it/s]5 [07:33<11:04,  6.41it/s]\u001b[A\n",
      "3887it [07:34,  7.22it/s]5 [07:33<10:21,  6.85it/s]\u001b[A\n",
      "3888it [07:34,  7.31it/s]5 [07:34<09:49,  7.22it/s]\u001b[A\n",
      "3889it [07:34,  7.32it/s]5 [07:34<09:42,  7.31it/s]\u001b[A\n",
      "3890it [07:34,  6.47it/s]5 [07:34<09:40,  7.33it/s]\u001b[A\n",
      "3891it [07:34,  6.39it/s]5 [07:34<10:57,  6.47it/s]\u001b[A\n",
      "3892it [07:34,  5.92it/s]5 [07:34<11:05,  6.39it/s]\u001b[A\n",
      "3894it [07:35,  6.68it/s]5 [07:34<11:58,  5.92it/s]\u001b[A\n",
      "3895it [07:35,  6.21it/s]5 [07:35<10:35,  6.68it/s]\u001b[A\n",
      "3896it [07:35,  5.27it/s]5 [07:35<11:25,  6.20it/s]\u001b[A\n",
      "3897it [07:35,  5.47it/s]5 [07:35<13:25,  5.28it/s]\u001b[A\n",
      "3898it [07:35,  5.91it/s]5 [07:35<12:56,  5.47it/s]\u001b[A\n",
      "3900it [07:36,  7.45it/s]5 [07:35<12:03,  5.87it/s]\u001b[A\n",
      "3901it [07:36,  6.94it/s]5 [07:36<10:32,  6.71it/s]\u001b[A\n",
      "3902it [07:36,  7.38it/s]5 [07:36<10:54,  6.49it/s]\u001b[A\n",
      "3903it [07:36,  7.80it/s]5 [07:36<10:06,  6.99it/s]\u001b[A\n",
      "3904it [07:36,  7.53it/s]5 [07:36<09:24,  7.51it/s]\u001b[A\n",
      "3906it [07:36,  8.26it/s]5 [07:36<09:37,  7.34it/s]\u001b[A\n",
      "3907it [07:36,  8.64it/s]5 [07:36<08:43,  8.10it/s]\u001b[A\n",
      "3908it [07:37,  8.80it/s]5 [07:36<08:17,  8.51it/s]\u001b[A\n",
      "3910it [07:37,  9.34it/s]5 [07:36<08:06,  8.71it/s]\u001b[A\n",
      "3912it [07:37,  9.87it/s]5 [07:37<07:37,  9.26it/s]\u001b[A\n",
      "3914it [07:37,  9.66it/s]5 [07:37<07:11,  9.81it/s]\u001b[A\n",
      "3915it [07:37,  8.86it/s]5 [07:37<07:19,  9.62it/s]\u001b[A\n",
      "3917it [07:37,  9.17it/s]5 [07:37<07:58,  8.84it/s]\u001b[A\n",
      "3918it [07:38,  9.15it/s]5 [07:37<07:41,  9.15it/s]\u001b[A\n",
      "3919it [07:38,  9.14it/s]5 [07:37<07:43,  9.12it/s]\u001b[A\n",
      "3920it [07:38,  8.46it/s]5 [07:38<07:42,  9.13it/s]\u001b[A\n",
      "3921it [07:38,  8.30it/s]5 [07:38<08:19,  8.45it/s]\u001b[A\n",
      "3922it [07:38,  8.54it/s]5 [07:38<08:29,  8.29it/s]\u001b[A\n",
      "3923it [07:38,  8.65it/s]5 [07:38<08:14,  8.53it/s]\u001b[A\n",
      "3924it [07:38,  8.55it/s]5 [07:38<08:08,  8.65it/s]\u001b[A\n",
      "3925it [07:38,  8.26it/s]5 [07:38<08:14,  8.54it/s]\u001b[A\n",
      "3926it [07:38,  8.52it/s]5 [07:38<08:31,  8.25it/s]\u001b[A\n",
      "3927it [07:39,  8.78it/s]5 [07:38<08:14,  8.52it/s]\u001b[A\n",
      "3928it [07:39,  7.71it/s]5 [07:39<08:00,  8.78it/s]\u001b[A\n",
      "3929it [07:39,  7.30it/s]5 [07:39<09:11,  7.65it/s]\u001b[A\n",
      "3930it [07:39,  7.03it/s]5 [07:39<09:40,  7.26it/s]\u001b[A\n",
      "3931it [07:39,  7.21it/s]5 [07:39<10:01,  7.01it/s]\u001b[A\n",
      "3932it [07:39,  6.98it/s]5 [07:39<09:40,  7.25it/s]\u001b[A\n",
      "3933it [07:39,  6.87it/s]5 [07:39<10:01,  7.01it/s]\u001b[A\n",
      "3934it [07:40,  7.14it/s]5 [07:39<10:11,  6.89it/s]\u001b[A\n",
      "3935it [07:40,  7.34it/s]5 [07:40<09:49,  7.15it/s]\u001b[A\n",
      "3936it [07:40,  7.68it/s]5 [07:40<09:32,  7.36it/s]\u001b[A\n",
      "3938it [07:40,  8.30it/s]5 [07:40<09:07,  7.68it/s]\u001b[A\n",
      "3940it [07:40,  8.87it/s]5 [07:40<08:26,  8.31it/s]\u001b[A\n",
      "3941it [07:40,  8.78it/s]5 [07:40<07:53,  8.87it/s]\u001b[A\n",
      "3943it [07:41,  8.79it/s]5 [07:40<07:58,  8.78it/s]\u001b[A\n",
      "3944it [07:41,  8.77it/s]5 [07:41<07:57,  8.79it/s]\u001b[A\n",
      "3945it [07:41,  8.02it/s]5 [07:41<07:59,  8.76it/s]\u001b[A\n",
      "3946it [07:41,  6.93it/s]5 [07:41<09:03,  7.73it/s]\u001b[A\n",
      "3947it [07:41,  6.06it/s]5 [07:41<09:59,  7.00it/s]\u001b[A\n",
      "3948it [07:41,  5.57it/s]5 [07:41<11:32,  6.06it/s]\u001b[A\n",
      "3949it [07:42,  5.60it/s]5 [07:41<12:33,  5.57it/s]\u001b[A\n",
      "3950it [07:42,  5.85it/s]5 [07:42<12:25,  5.63it/s]\u001b[A\n",
      "3951it [07:42,  6.39it/s]5 [07:42<11:54,  5.88it/s]\u001b[A\n",
      "3952it [07:42,  5.50it/s]5 [07:42<10:54,  6.41it/s]\u001b[A\n",
      "3953it [07:42,  4.83it/s]5 [07:42<12:52,  5.43it/s]\u001b[A\n",
      "3954it [07:43,  4.32it/s]5 [07:42<14:24,  4.85it/s]\u001b[A\n",
      "3955it [07:43,  4.61it/s]5 [07:43<16:13,  4.30it/s]\u001b[A\n",
      "3956it [07:43,  4.31it/s]5 [07:43<15:05,  4.63it/s]\u001b[A\n",
      "3957it [07:43,  4.59it/s]5 [07:43<16:09,  4.32it/s]\u001b[A\n",
      "3958it [07:44,  4.92it/s]5 [07:43<15:10,  4.60it/s]\u001b[A\n",
      "3959it [07:44,  5.33it/s]5 [07:43<14:09,  4.93it/s]\u001b[A\n",
      "3960it [07:44,  4.72it/s]5 [07:44<13:16,  5.26it/s]\u001b[A\n",
      "3961it [07:44,  5.46it/s]5 [07:44<14:43,  4.74it/s]\u001b[A\n",
      "3962it [07:44,  5.97it/s]5 [07:44<12:43,  5.48it/s]\u001b[A\n",
      "3963it [07:44,  6.39it/s]5 [07:44<11:38,  5.98it/s]\u001b[A\n",
      "3964it [07:44,  7.02it/s]5 [07:44<10:52,  6.41it/s]\u001b[A\n",
      "3965it [07:45,  7.08it/s]5 [07:44<09:53,  7.04it/s]\u001b[A\n",
      "3966it [07:45,  7.36it/s]5 [07:45<09:49,  7.09it/s]\u001b[A\n",
      "3967it [07:45,  7.79it/s]5 [07:45<09:27,  7.37it/s]\u001b[A\n",
      "3968it [07:45,  7.48it/s]5 [07:45<08:56,  7.79it/s]\u001b[A\n",
      "3969it [07:45,  6.91it/s]5 [07:45<09:17,  7.49it/s]\u001b[A\n",
      "3970it [07:45,  6.41it/s]5 [07:45<10:04,  6.91it/s]\u001b[A\n",
      "3971it [07:45,  6.85it/s]5 [07:45<10:50,  6.42it/s]\u001b[A\n",
      "3972it [07:46,  7.21it/s]5 [07:45<10:08,  6.86it/s]\u001b[A\n",
      "3973it [07:46,  7.09it/s]5 [07:45<09:40,  7.19it/s]\u001b[A\n",
      "3974it [07:46,  7.07it/s]5 [07:46<09:48,  7.09it/s]\u001b[A\n",
      "3975it [07:46,  7.11it/s]5 [07:46<09:49,  7.08it/s]\u001b[A\n",
      "3976it [07:46,  7.51it/s]5 [07:46<09:46,  7.11it/s]\u001b[A\n",
      "3978it [07:46,  7.41it/s]5 [07:46<09:18,  7.46it/s]\u001b[A\n",
      "3979it [07:47,  7.07it/s]5 [07:46<09:13,  7.53it/s]\u001b[A\n",
      "3980it [07:47,  7.21it/s]5 [07:46<09:42,  7.15it/s]\u001b[A\n",
      "3981it [07:47,  7.14it/s]5 [07:47<09:33,  7.27it/s]\u001b[A\n",
      "3982it [07:47,  7.75it/s]5 [07:47<09:40,  7.17it/s]\u001b[A\n",
      "3983it [07:47,  6.29it/s]5 [07:47<08:54,  7.79it/s]\u001b[A\n",
      "3984it [07:47,  6.38it/s]5 [07:47<11:00,  6.30it/s]\u001b[A\n",
      "3985it [07:47,  6.89it/s]5 [07:47<10:52,  6.38it/s]\u001b[A\n",
      "3986it [07:48,  5.77it/s]5 [07:47<10:02,  6.91it/s]\u001b[A\n",
      "3988it [07:48,  6.73it/s]5 [07:48<11:59,  5.78it/s]\u001b[A\n",
      "3989it [07:48,  6.52it/s]5 [07:48<10:17,  6.73it/s]\u001b[A\n",
      "3990it [07:48,  6.83it/s]5 [07:48<10:36,  6.53it/s]\u001b[A\n",
      "3991it [07:48,  6.08it/s]5 [07:48<10:07,  6.84it/s]\u001b[A\n",
      "3992it [07:48,  6.29it/s]5 [07:48<11:22,  6.08it/s]\u001b[A\n",
      "3993it [07:49,  5.84it/s]5 [07:48<11:02,  6.27it/s]\u001b[A\n",
      "3994it [07:49,  5.21it/s]5 [07:49<11:50,  5.85it/s]\u001b[A\n",
      "3995it [07:49,  5.45it/s]5 [07:49<13:27,  5.14it/s]\u001b[A\n",
      "3996it [07:49,  6.28it/s]5 [07:49<12:37,  5.48it/s]\u001b[A\n",
      "3998it [07:49,  7.00it/s]5 [07:49<10:57,  6.31it/s]\u001b[A\n",
      "3999it [07:49,  7.50it/s]5 [07:49<09:50,  7.03it/s]\u001b[A\n",
      "4000it [07:50,  6.93it/s]5 [07:49<09:11,  7.52it/s]\u001b[A\n",
      "4001it [07:50,  7.35it/s]5 [07:50<09:57,  6.94it/s]\u001b[A\n",
      "4002it [07:50,  7.90it/s]5 [07:50<09:23,  7.36it/s]\u001b[A\n",
      "4003it [07:50,  7.76it/s]5 [07:50<08:44,  7.90it/s]\u001b[A\n",
      "4004it [07:50,  8.14it/s]5 [07:50<08:57,  7.70it/s]\u001b[A\n",
      "4005it [07:50,  8.38it/s]5 [07:50<08:26,  8.17it/s]\u001b[A\n",
      "4006it [07:50,  7.71it/s]5 [07:50<08:21,  8.25it/s]\u001b[A\n",
      "4008it [07:51,  8.41it/s]5 [07:50<08:56,  7.72it/s]\u001b[A\n",
      "4009it [07:51,  8.49it/s]5 [07:51<08:12,  8.40it/s]\u001b[A\n",
      "4010it [07:51,  8.77it/s]5 [07:51<08:02,  8.57it/s]\u001b[A\n",
      "4011it [07:51,  8.89it/s]5 [07:51<07:48,  8.83it/s]\u001b[A\n",
      "4013it [07:51,  9.56it/s]5 [07:51<07:42,  8.93it/s]\u001b[A\n",
      "4015it [07:51, 10.07it/s]5 [07:51<07:10,  9.59it/s]\u001b[A\n",
      "4017it [07:51,  9.70it/s]5 [07:51<06:49, 10.09it/s]\u001b[A\n",
      "4018it [07:52,  9.01it/s]5 [07:51<07:04,  9.72it/s]\u001b[A\n",
      "4020it [07:52,  9.39it/s]5 [07:52<07:37,  9.02it/s]\u001b[A\n",
      "4021it [07:52,  8.31it/s]5 [07:52<07:19,  9.39it/s]\u001b[A\n",
      "4022it [07:52,  7.70it/s]5 [07:52<08:16,  8.31it/s]\u001b[A\n",
      "4023it [07:52,  7.61it/s]5 [07:52<08:54,  7.71it/s]\u001b[A\n",
      "4024it [07:52,  7.19it/s]5 [07:52<09:01,  7.61it/s]\u001b[A\n",
      "4026it [07:53,  7.48it/s]5 [07:52<09:33,  7.19it/s]\u001b[A\n",
      "4027it [07:53,  7.18it/s]5 [07:53<09:10,  7.48it/s]\u001b[A\n",
      "4028it [07:53,  6.69it/s]5 [07:53<09:33,  7.18it/s]\u001b[A\n",
      "4029it [07:53,  7.24it/s]5 [07:53<10:22,  6.62it/s]\u001b[A\n",
      "4030it [07:53,  7.06it/s]5 [07:53<09:26,  7.27it/s]\u001b[A\n",
      "4031it [07:53,  7.46it/s]5 [07:53<09:42,  7.07it/s]\u001b[A\n",
      "4032it [07:53,  7.83it/s]5 [07:53<09:09,  7.48it/s]\u001b[A\n",
      "4033it [07:54,  8.20it/s]5 [07:53<08:44,  7.84it/s]\u001b[A\n",
      "4035it [07:54,  8.67it/s]5 [07:54<08:20,  8.22it/s]\u001b[A\n",
      "4036it [07:54,  8.94it/s]5 [07:54<07:53,  8.67it/s]\u001b[A\n",
      "4038it [07:54,  9.13it/s]5 [07:54<07:39,  8.94it/s]\u001b[A\n",
      "4039it [07:54,  9.17it/s]5 [07:54<07:29,  9.13it/s]\u001b[A\n",
      "4040it [07:54,  8.96it/s]5 [07:54<07:27,  9.18it/s]\u001b[A\n",
      "4042it [07:55,  9.14it/s]5 [07:54<07:37,  8.97it/s]\u001b[A\n",
      "4043it [07:55,  9.29it/s]5 [07:54<07:28,  9.15it/s]\u001b[A\n",
      "4044it [07:55,  9.22it/s]5 [07:55<07:21,  9.30it/s]\u001b[A\n",
      "4045it [07:55,  9.34it/s]5 [07:55<07:24,  9.22it/s]\u001b[A\n",
      "4046it [07:55,  9.29it/s]5 [07:55<07:18,  9.34it/s]\u001b[A\n",
      "4048it [07:55,  9.60it/s]5 [07:55<07:21,  9.29it/s]\u001b[A\n",
      "4050it [07:55,  9.78it/s]5 [07:55<07:06,  9.61it/s]\u001b[A\n",
      "4051it [07:55,  9.61it/s]5 [07:55<06:58,  9.78it/s]\u001b[A\n",
      "4052it [07:56,  8.15it/s]5 [07:55<07:06,  9.60it/s]\u001b[A\n",
      "4053it [07:56,  7.29it/s]5 [07:56<08:22,  8.15it/s]\u001b[A\n",
      "4054it [07:56,  7.45it/s]5 [07:56<09:21,  7.29it/s]\u001b[A\n",
      "4055it [07:56,  7.25it/s]5 [07:56<09:09,  7.45it/s]\u001b[A\n",
      "4057it [07:56,  8.05it/s]5 [07:56<09:24,  7.24it/s]\u001b[A\n",
      "4058it [07:56,  8.15it/s]5 [07:56<08:27,  8.05it/s]\u001b[A\n",
      "4059it [07:56,  8.57it/s]5 [07:56<08:21,  8.15it/s]\u001b[A\n",
      "4060it [07:57,  8.53it/s]5 [07:56<07:57,  8.57it/s]\u001b[A\n",
      "4061it [07:57,  7.28it/s]5 [07:57<07:59,  8.53it/s]\u001b[A\n",
      "4062it [07:57,  7.39it/s]5 [07:57<09:21,  7.28it/s]\u001b[A\n",
      "4063it [07:57,  7.48it/s]5 [07:57<09:12,  7.39it/s]\u001b[A\n",
      "4064it [07:57,  7.46it/s]5 [07:57<09:05,  7.49it/s]\u001b[A\n",
      "4065it [07:57,  7.70it/s]5 [07:57<09:06,  7.46it/s]\u001b[A\n",
      "4066it [07:57,  7.58it/s]5 [07:57<08:50,  7.69it/s]\u001b[A\n",
      "4067it [07:58,  8.01it/s]5 [07:57<08:58,  7.57it/s]\u001b[A\n",
      "4068it [07:58,  7.75it/s]5 [07:57<08:29,  8.01it/s]\u001b[A\n",
      "4069it [07:58,  7.70it/s]5 [07:58<08:45,  7.75it/s]\u001b[A\n",
      "4070it [07:58,  7.38it/s]5 [07:58<08:49,  7.69it/s]\u001b[A\n",
      "4071it [07:58,  7.52it/s]5 [07:58<09:11,  7.38it/s]\u001b[A\n",
      "4072it [07:58,  7.01it/s]5 [07:58<09:02,  7.51it/s]\u001b[A\n",
      "4073it [07:58,  7.42it/s]5 [07:58<09:41,  7.01it/s]\u001b[A\n",
      "4074it [07:59,  6.39it/s]5 [07:58<09:08,  7.42it/s]\u001b[A\n",
      "4075it [07:59,  6.62it/s]5 [07:58<10:37,  6.39it/s]\u001b[A\n",
      "4076it [07:59,  7.33it/s]5 [07:59<10:15,  6.62it/s]\u001b[A\n",
      "4077it [07:59,  6.94it/s]5 [07:59<09:14,  7.33it/s]\u001b[A\n",
      "4078it [07:59,  7.13it/s]5 [07:59<09:46,  6.94it/s]\u001b[A\n",
      "4080it [07:59,  7.98it/s]5 [07:59<09:30,  7.13it/s]\u001b[A\n",
      "4082it [07:59,  8.22it/s]5 [07:59<08:29,  7.98it/s]\u001b[A\n",
      "4083it [08:00,  7.88it/s]5 [07:59<08:14,  8.22it/s]\u001b[A\n",
      "4084it [08:00,  7.04it/s]5 [08:00<08:35,  7.87it/s]\u001b[A\n",
      "4085it [08:00,  6.60it/s]5 [08:00<09:37,  7.03it/s]\u001b[A\n",
      "4086it [08:00,  7.28it/s]5 [08:00<10:15,  6.60it/s]\u001b[A\n",
      "4087it [08:00,  7.40it/s]5 [08:00<09:17,  7.28it/s]\u001b[A\n",
      "4088it [08:00,  6.58it/s]5 [08:00<09:08,  7.40it/s]\u001b[A\n",
      "4089it [08:01,  6.66it/s]5 [08:00<10:16,  6.58it/s]\u001b[A\n",
      "4090it [08:01,  6.77it/s]5 [08:00<10:08,  6.67it/s]\u001b[A\n",
      "4091it [08:01,  7.08it/s]5 [08:01<09:59,  6.77it/s]\u001b[A\n",
      "4092it [08:01,  7.16it/s]5 [08:01<09:32,  7.08it/s]\u001b[A\n",
      "4094it [08:01,  7.67it/s]5 [08:01<09:26,  7.16it/s]\u001b[A\n",
      "4095it [08:01,  6.89it/s]5 [08:01<08:48,  7.66it/s]\u001b[A\n",
      "4096it [08:01,  7.03it/s]5 [08:01<09:47,  6.89it/s]\u001b[A\n",
      "4097it [08:02,  6.63it/s]5 [08:01<09:36,  7.03it/s]\u001b[A\n",
      "4098it [08:02,  6.46it/s]5 [08:02<10:10,  6.63it/s]\u001b[A\n",
      "4099it [08:02,  6.59it/s]5 [08:02<10:26,  6.46it/s]\u001b[A\n",
      "4100it [08:02,  6.85it/s]5 [08:02<10:14,  6.59it/s]\u001b[A\n",
      "4101it [08:02,  7.32it/s]5 [08:02<09:50,  6.85it/s]\u001b[A\n",
      "4102it [08:02,  7.60it/s]5 [08:02<09:12,  7.32it/s]\u001b[A\n",
      "4103it [08:02,  7.28it/s]5 [08:02<08:52,  7.60it/s]\u001b[A\n",
      "4104it [08:03,  7.45it/s]5 [08:02<09:15,  7.28it/s]\u001b[A\n",
      "4106it [08:03,  8.28it/s]5 [08:03<09:02,  7.45it/s]\u001b[A\n",
      "4107it [08:03,  8.54it/s]5 [08:03<08:08,  8.27it/s]\u001b[A\n",
      "4108it [08:03,  8.22it/s]5 [08:03<07:52,  8.54it/s]\u001b[A\n",
      "4109it [08:03,  8.27it/s]5 [08:03<08:11,  8.22it/s]\u001b[A\n",
      "4110it [08:03,  8.31it/s]5 [08:03<08:08,  8.27it/s]\u001b[A\n",
      "4111it [08:03,  8.56it/s]5 [08:03<08:05,  8.31it/s]\u001b[A\n",
      "4113it [08:04,  9.09it/s]5 [08:03<07:50,  8.57it/s]\u001b[A\n",
      "4114it [08:04,  7.68it/s]5 [08:04<07:23,  9.09it/s]\u001b[A\n",
      "4115it [08:04,  7.97it/s]5 [08:04<08:44,  7.68it/s]\u001b[A\n",
      "4117it [08:04,  8.61it/s]5 [08:04<08:25,  7.97it/s]\u001b[A\n",
      "4119it [08:04,  8.99it/s]5 [08:04<07:47,  8.61it/s]\u001b[A\n",
      "4120it [08:04,  9.09it/s]5 [08:04<07:27,  8.99it/s]\u001b[A\n",
      "4121it [08:05,  7.86it/s]5 [08:04<07:22,  9.09it/s]\u001b[A\n",
      "4122it [08:05,  8.18it/s]5 [08:04<08:31,  7.86it/s]\u001b[A\n",
      "4124it [08:05,  8.79it/s]5 [08:05<08:11,  8.18it/s]\u001b[A\n",
      "4126it [08:05,  9.18it/s]5 [08:05<07:37,  8.79it/s]\u001b[A\n",
      "4128it [08:05,  9.17it/s]5 [08:05<07:17,  9.18it/s]\u001b[A\n",
      "4129it [08:05,  8.42it/s]5 [08:05<07:18,  9.17it/s]\u001b[A\n",
      "4130it [08:05,  8.66it/s]5 [08:05<07:57,  8.42it/s]\u001b[A\n",
      "4131it [08:06,  8.36it/s]5 [08:05<07:43,  8.66it/s]\u001b[A\n",
      "4132it [08:06,  7.66it/s]5 [08:06<08:00,  8.36it/s]\u001b[A\n",
      "4133it [08:06,  7.12it/s]5 [08:06<08:44,  7.65it/s]\u001b[A\n",
      "4134it [08:06,  7.49it/s]5 [08:06<09:23,  7.12it/s]\u001b[A\n",
      "4135it [08:06,  7.36it/s]5 [08:06<08:55,  7.49it/s]\u001b[A\n",
      "4136it [08:06,  7.52it/s]5 [08:06<09:04,  7.36it/s]\u001b[A\n",
      "4137it [08:06,  6.95it/s]5 [08:06<08:53,  7.52it/s]\u001b[A\n",
      "4138it [08:07,  6.91it/s]5 [08:06<09:36,  6.95it/s]\u001b[A\n",
      "4139it [08:07,  7.17it/s]5 [08:07<09:39,  6.91it/s]\u001b[A\n",
      "4140it [08:07,  7.70it/s]5 [08:07<09:18,  7.17it/s]\u001b[A\n",
      "4141it [08:07,  7.33it/s]5 [08:07<08:40,  7.70it/s]\u001b[A\n",
      "4142it [08:07,  7.73it/s]5 [08:07<09:06,  7.33it/s]\u001b[A\n",
      "4143it [08:07,  7.90it/s]5 [08:07<08:37,  7.73it/s]\u001b[A\n",
      "4144it [08:07,  7.47it/s]5 [08:07<08:26,  7.90it/s]\u001b[A\n",
      "4145it [08:08,  5.63it/s]5 [08:07<08:55,  7.47it/s]\u001b[A\n",
      "4146it [08:08,  6.07it/s]5 [08:08<11:50,  5.63it/s]\u001b[A\n",
      "4148it [08:08,  7.04it/s]5 [08:08<10:58,  6.07it/s]\u001b[A\n",
      "4150it [08:08,  7.80it/s]5 [08:08<09:27,  7.04it/s]\u001b[A\n",
      "4151it [08:08,  8.34it/s]5 [08:08<08:31,  7.80it/s]\u001b[A\n",
      "4153it [08:08,  8.93it/s]5 [08:08<07:59,  8.34it/s]\u001b[A\n",
      "4155it [08:09,  9.59it/s]5 [08:08<07:27,  8.93it/s]\u001b[A\n",
      "4157it [08:09,  9.97it/s]5 [08:09<06:56,  9.59it/s]\u001b[A\n",
      "4159it [08:09,  9.91it/s]5 [08:09<06:39,  9.98it/s]\u001b[A\n",
      "4161it [08:09,  9.86it/s]5 [08:09<06:42,  9.91it/s]\u001b[A\n",
      "4163it [08:09,  9.14it/s]5 [08:09<06:44,  9.86it/s]\u001b[A\n",
      "4164it [08:10,  8.69it/s]5 [08:09<07:15,  9.14it/s]\u001b[A\n",
      "4165it [08:10,  8.45it/s]5 [08:10<07:38,  8.69it/s]\u001b[A\n",
      "4166it [08:10,  8.45it/s]5 [08:10<07:51,  8.45it/s]\u001b[A\n",
      "4168it [08:10,  9.05it/s]5 [08:10<07:50,  8.45it/s]\u001b[A\n",
      "4170it [08:10,  9.44it/s]5 [08:10<07:19,  9.05it/s]\u001b[A\n",
      "4172it [08:10, 10.48it/s]5 [08:10<07:00,  9.45it/s]\u001b[A\n",
      "4174it [08:11, 11.28it/s]5 [08:10<06:18, 10.48it/s]\u001b[A\n",
      "4176it [08:11, 12.49it/s]5 [08:10<05:51, 11.29it/s]\u001b[A\n",
      "4178it [08:11, 13.82it/s]5 [08:11<05:17, 12.49it/s]\u001b[A\n",
      "4180it [08:11, 11.35it/s]5 [08:11<04:46, 13.83it/s]\u001b[A\n",
      "4182it [08:11, 10.81it/s]5 [08:11<05:49, 11.35it/s]\u001b[A\n",
      "4184it [08:12,  8.37it/s]5 [08:11<06:06, 10.80it/s]\u001b[A\n",
      "4185it [08:12,  7.08it/s]5 [08:12<07:53,  8.37it/s]\u001b[A\n",
      "4186it [08:12,  7.40it/s]5 [08:12<09:19,  7.08it/s]\u001b[A\n",
      "4187it [08:12,  7.42it/s]5 [08:12<08:55,  7.40it/s]\u001b[A\n",
      "4188it [08:12,  7.90it/s]5 [08:12<08:53,  7.42it/s]\u001b[A\n",
      "4189it [08:12,  8.18it/s]5 [08:12<08:20,  7.90it/s]\u001b[A\n",
      "4191it [08:12,  8.93it/s]5 [08:12<08:03,  8.18it/s]\u001b[A\n",
      "4193it [08:13,  8.90it/s]5 [08:12<07:22,  8.93it/s]\u001b[A\n",
      "4195it [08:13,  9.24it/s]5 [08:13<07:23,  8.90it/s]\u001b[A\n",
      "4196it [08:13,  8.95it/s]5 [08:13<07:07,  9.24it/s]\u001b[A\n",
      "4197it [08:13,  8.82it/s]5 [08:13<07:21,  8.95it/s]\u001b[A\n",
      "4198it [08:13,  8.73it/s]5 [08:13<07:27,  8.82it/s]\u001b[A\n",
      "4199it [08:13,  8.76it/s]5 [08:13<07:31,  8.73it/s]\u001b[A\n",
      "4200it [08:13,  8.82it/s]5 [08:13<07:30,  8.75it/s]\u001b[A\n",
      "4201it [08:14,  8.63it/s]5 [08:13<07:27,  8.81it/s]\u001b[A\n",
      "4202it [08:14,  8.30it/s]5 [08:13<07:37,  8.63it/s]\u001b[A\n",
      "4203it [08:14,  8.41it/s]5 [08:14<07:55,  8.29it/s]\u001b[A\n",
      "4204it [08:14,  8.06it/s]5 [08:14<07:49,  8.40it/s]\u001b[A\n",
      "4205it [08:14,  8.49it/s]5 [08:14<08:08,  8.06it/s]\u001b[A\n",
      "4206it [08:14,  8.86it/s]5 [08:14<07:44,  8.49it/s]\u001b[A\n",
      "4207it [08:14,  8.93it/s]5 [08:14<07:24,  8.86it/s]\u001b[A\n",
      "4208it [08:14,  8.81it/s]5 [08:14<07:20,  8.94it/s]\u001b[A\n",
      "4209it [08:15,  8.11it/s]5 [08:14<07:26,  8.81it/s]\u001b[A\n",
      "4210it [08:15,  8.37it/s]5 [08:14<08:05,  8.10it/s]\u001b[A\n",
      "4212it [08:15,  8.80it/s]5 [08:15<07:49,  8.37it/s]\u001b[A\n",
      "4213it [08:15,  8.46it/s]5 [08:15<07:27,  8.80it/s]\u001b[A\n",
      "4214it [08:15,  8.72it/s]5 [08:15<07:44,  8.46it/s]\u001b[A\n",
      "4215it [08:15,  9.03it/s]5 [08:15<07:30,  8.73it/s]\u001b[A\n",
      "4216it [08:15,  9.15it/s]5 [08:15<07:15,  9.03it/s]\u001b[A\n",
      "4217it [08:15,  9.10it/s]5 [08:15<07:09,  9.15it/s]\u001b[A\n",
      "4218it [08:15,  9.02it/s]5 [08:15<07:11,  9.09it/s]\u001b[A\n",
      "4219it [08:16,  8.50it/s]5 [08:15<07:15,  9.02it/s]\u001b[A\n",
      "4220it [08:16,  8.31it/s]5 [08:16<07:41,  8.50it/s]\u001b[A\n",
      "4221it [08:16,  8.23it/s]5 [08:16<07:52,  8.31it/s]\u001b[A\n",
      "4222it [08:16,  8.58it/s]5 [08:16<07:56,  8.23it/s]\u001b[A\n",
      "4223it [08:16,  8.57it/s]5 [08:16<07:37,  8.57it/s]\u001b[A\n",
      "4224it [08:16,  8.73it/s]5 [08:16<07:37,  8.57it/s]\u001b[A\n",
      "4225it [08:16,  8.31it/s]5 [08:16<07:29,  8.73it/s]\u001b[A\n",
      "4227it [08:17,  8.99it/s]5 [08:16<07:51,  8.31it/s]\u001b[A\n",
      "4228it [08:17,  8.97it/s]5 [08:16<07:15,  8.99it/s]\u001b[A\n",
      "4230it [08:17,  9.40it/s]5 [08:17<07:16,  8.98it/s]\u001b[A\n",
      "4231it [08:17,  9.36it/s]5 [08:17<06:56,  9.40it/s]\u001b[A\n",
      "4233it [08:17,  9.94it/s]5 [08:17<06:58,  9.36it/s]\u001b[A\n",
      "4235it [08:17, 10.21it/s]5 [08:17<06:33,  9.94it/s]\u001b[A\n",
      "4237it [08:17, 10.39it/s]5 [08:17<06:22, 10.21it/s]\u001b[A\n",
      "4239it [08:18, 10.08it/s]5 [08:17<06:16, 10.39it/s]\u001b[A\n",
      "4241it [08:18, 10.10it/s]5 [08:18<06:27, 10.08it/s]\u001b[A\n",
      "4243it [08:18,  9.76it/s]5 [08:18<06:26, 10.10it/s]\u001b[A\n",
      "4244it [08:18,  8.78it/s]5 [08:18<06:39,  9.76it/s]\u001b[A\n",
      "4246it [08:18,  8.93it/s]5 [08:18<07:24,  8.78it/s]\u001b[A\n",
      "4247it [08:19,  9.09it/s]5 [08:18<07:16,  8.93it/s]\u001b[A\n",
      "4248it [08:19,  9.16it/s]5 [08:18<07:08,  9.09it/s]\u001b[A\n",
      "4249it [08:19,  9.36it/s]5 [08:19<07:05,  9.16it/s]\u001b[A\n",
      "4251it [08:19,  9.85it/s]5 [08:19<06:56,  9.36it/s]\u001b[A\n",
      "4252it [08:19,  9.73it/s]5 [08:19<06:35,  9.85it/s]\u001b[A\n",
      "4253it [08:19,  9.38it/s]5 [08:19<06:40,  9.73it/s]\u001b[A\n",
      "4255it [08:19,  9.77it/s]5 [08:19<06:54,  9.38it/s]\u001b[A\n",
      "4257it [08:20, 10.13it/s]5 [08:19<06:38,  9.77it/s]\u001b[A\n",
      "4259it [08:20,  9.55it/s]5 [08:19<06:24, 10.12it/s]\u001b[A\n",
      "4260it [08:20,  9.25it/s]5 [08:20<06:47,  9.55it/s]\u001b[A\n",
      "4261it [08:20,  9.40it/s]5 [08:20<07:00,  9.25it/s]\u001b[A\n",
      "4262it [08:20,  8.69it/s]5 [08:20<06:53,  9.40it/s]\u001b[A\n",
      "4263it [08:20,  7.61it/s]5 [08:20<07:26,  8.69it/s]\u001b[A\n",
      "4264it [08:20,  6.99it/s]5 [08:20<08:29,  7.61it/s]\u001b[A\n",
      "4265it [08:21,  6.54it/s]5 [08:20<09:15,  6.99it/s]\u001b[A\n",
      "4266it [08:21,  6.42it/s]5 [08:21<09:53,  6.54it/s]\u001b[A\n",
      "4267it [08:21,  6.79it/s]5 [08:21<10:04,  6.42it/s]\u001b[A\n",
      "4268it [08:21,  7.11it/s]5 [08:21<09:31,  6.79it/s]\u001b[A\n",
      "4269it [08:21,  7.26it/s]5 [08:21<09:05,  7.11it/s]\u001b[A\n",
      "4270it [08:21,  7.52it/s]5 [08:21<08:53,  7.26it/s]\u001b[A\n",
      "4271it [08:21,  7.67it/s]5 [08:21<08:35,  7.52it/s]\u001b[A\n",
      "4272it [08:22,  7.96it/s]5 [08:21<08:25,  7.66it/s]\u001b[A\n",
      "4273it [08:22,  8.10it/s]5 [08:21<08:06,  7.96it/s]\u001b[A\n",
      "4274it [08:22,  7.81it/s]5 [08:22<07:58,  8.09it/s]\u001b[A\n",
      "4275it [08:22,  7.57it/s]5 [08:22<08:15,  7.82it/s]\u001b[A\n",
      "4276it [08:22,  7.96it/s]5 [08:22<08:31,  7.57it/s]\u001b[A\n",
      "4277it [08:22,  8.04it/s]5 [08:22<08:05,  7.96it/s]\u001b[A\n",
      "4278it [08:22,  8.41it/s]5 [08:22<08:00,  8.04it/s]\u001b[A\n",
      "4279it [08:22,  8.22it/s]5 [08:22<07:39,  8.41it/s]\u001b[A\n",
      "4280it [08:23,  8.39it/s]5 [08:22<07:50,  8.22it/s]\u001b[A\n",
      "4281it [08:23,  8.53it/s]5 [08:22<07:40,  8.39it/s]\u001b[A\n",
      "4282it [08:23,  8.65it/s]5 [08:23<07:32,  8.53it/s]\u001b[A\n",
      "4283it [08:23,  8.15it/s]5 [08:23<07:26,  8.65it/s]\u001b[A\n",
      "4284it [08:23,  8.33it/s]5 [08:23<07:53,  8.15it/s]\u001b[A\n",
      "4285it [08:23,  8.32it/s]5 [08:23<07:43,  8.33it/s]\u001b[A\n",
      "4286it [08:23,  8.21it/s]5 [08:23<07:43,  8.32it/s]\u001b[A\n",
      "4287it [08:23,  8.64it/s]5 [08:23<07:50,  8.21it/s]\u001b[A\n",
      "4288it [08:23,  8.00it/s]5 [08:23<07:26,  8.64it/s]\u001b[A\n",
      "4289it [08:24,  7.71it/s]5 [08:23<08:02,  8.00it/s]\u001b[A\n",
      "4290it [08:24,  7.93it/s]5 [08:24<08:19,  7.71it/s]\u001b[A\n",
      "4291it [08:24,  7.15it/s]5 [08:24<08:06,  7.92it/s]\u001b[A\n",
      "4292it [08:24,  7.56it/s]5 [08:24<08:58,  7.15it/s]\u001b[A\n",
      "4293it [08:24,  7.74it/s]5 [08:24<08:29,  7.56it/s]\u001b[A\n",
      "4294it [08:24,  7.41it/s]5 [08:24<08:17,  7.74it/s]\u001b[A\n",
      "4296it [08:25,  7.13it/s]5 [08:24<08:39,  7.41it/s]\u001b[A\n",
      "4297it [08:25,  7.59it/s]5 [08:25<08:59,  7.13it/s]\u001b[A\n",
      "4299it [08:25,  8.29it/s]5 [08:25<08:27,  7.59it/s]\u001b[A\n",
      "4300it [08:25,  8.27it/s]5 [08:25<07:43,  8.30it/s]\u001b[A\n",
      "4301it [08:25,  8.68it/s]5 [08:25<07:44,  8.27it/s]\u001b[A\n",
      "4302it [08:25,  7.88it/s]5 [08:25<07:22,  8.68it/s]\u001b[A\n",
      "4303it [08:25,  8.16it/s]5 [08:25<08:07,  7.88it/s]\u001b[A\n",
      "4304it [08:26,  8.10it/s]5 [08:25<07:50,  8.16it/s]\u001b[A\n",
      "4305it [08:26,  8.48it/s]5 [08:25<07:53,  8.10it/s]\u001b[A\n",
      "4306it [08:26,  8.83it/s]5 [08:26<07:33,  8.48it/s]\u001b[A\n",
      "4307it [08:26,  8.55it/s]5 [08:26<07:14,  8.83it/s]\u001b[A\n",
      "4308it [08:26,  8.34it/s]5 [08:26<07:28,  8.55it/s]\u001b[A\n",
      "4309it [08:26,  8.67it/s]5 [08:26<07:39,  8.34it/s]\u001b[A\n",
      "4311it [08:26,  8.99it/s]5 [08:26<07:22,  8.67it/s]\u001b[A\n",
      "4312it [08:26,  8.71it/s]5 [08:26<07:06,  8.99it/s]\u001b[A\n",
      "4313it [08:27,  8.09it/s]5 [08:26<07:19,  8.72it/s]\u001b[A\n",
      "4315it [08:27,  8.60it/s]5 [08:27<07:53,  8.09it/s]\u001b[A\n",
      "4316it [08:27,  6.38it/s]5 [08:27<07:25,  8.60it/s]\u001b[A\n",
      "4317it [08:27,  5.77it/s]5 [08:27<09:59,  6.38it/s]\u001b[A\n",
      "4318it [08:27,  6.16it/s]5 [08:27<11:03,  5.77it/s]\u001b[A\n",
      "4319it [08:27,  6.51it/s]5 [08:27<10:21,  6.16it/s]\u001b[A\n",
      "4320it [08:28,  6.86it/s]5 [08:27<09:47,  6.51it/s]\u001b[A\n",
      "4321it [08:28,  7.06it/s]5 [08:28<09:17,  6.86it/s]\u001b[A\n",
      "4323it [08:28,  7.55it/s]5 [08:28<09:01,  7.06it/s]\u001b[A\n",
      "4324it [08:28,  8.09it/s]5 [08:28<08:26,  7.54it/s]\u001b[A\n",
      "4326it [08:28,  8.83it/s]5 [08:28<07:51,  8.10it/s]\u001b[A\n",
      "4328it [08:28,  8.87it/s]5 [08:28<07:12,  8.83it/s]\u001b[A\n",
      "4330it [08:29,  9.36it/s]5 [08:28<07:10,  8.87it/s]\u001b[A\n",
      "4331it [08:29,  9.28it/s]5 [08:29<06:47,  9.36it/s]\u001b[A\n",
      "4332it [08:29,  9.06it/s]5 [08:29<06:50,  9.28it/s]\u001b[A\n",
      "4333it [08:29,  9.01it/s]5 [08:29<07:00,  9.06it/s]\u001b[A\n",
      "4334it [08:29,  8.67it/s]5 [08:29<07:02,  9.01it/s]\u001b[A\n",
      "4335it [08:29,  9.01it/s]5 [08:29<07:19,  8.67it/s]\u001b[A\n",
      "4336it [08:29,  8.31it/s]5 [08:29<07:02,  9.01it/s]\u001b[A\n",
      "4338it [08:30,  8.78it/s]5 [08:29<07:38,  8.31it/s]\u001b[A\n",
      "4339it [08:30,  7.61it/s]5 [08:30<07:13,  8.78it/s]\u001b[A\n",
      "4340it [08:30,  7.23it/s]5 [08:30<08:20,  7.61it/s]\u001b[A\n",
      "4341it [08:30,  7.73it/s]5 [08:30<08:46,  7.23it/s]\u001b[A\n",
      "4343it [08:30,  8.60it/s]5 [08:30<08:11,  7.73it/s]\u001b[A\n",
      "4344it [08:30,  8.64it/s]5 [08:30<07:22,  8.60it/s]\u001b[A\n",
      "4345it [08:30,  8.23it/s]5 [08:30<07:19,  8.64it/s]\u001b[A\n",
      "4346it [08:31,  8.23it/s]5 [08:30<07:41,  8.23it/s]\u001b[A\n",
      "4348it [08:31,  8.45it/s]5 [08:30<07:41,  8.23it/s]\u001b[A\n",
      "4349it [08:31,  7.51it/s]5 [08:31<07:29,  8.45it/s]\u001b[A\n",
      "4350it [08:31,  7.47it/s]5 [08:31<08:25,  7.51it/s]\u001b[A\n",
      "4351it [08:31,  7.37it/s]5 [08:31<08:28,  7.47it/s]\u001b[A\n",
      "4352it [08:31,  7.94it/s]5 [08:31<08:34,  7.37it/s]\u001b[A\n",
      "4353it [08:31,  7.33it/s]5 [08:31<07:57,  7.94it/s]\u001b[A\n",
      "4354it [08:32,  7.30it/s]5 [08:31<08:37,  7.33it/s]\u001b[A\n",
      "4355it [08:32,  6.58it/s]5 [08:32<08:39,  7.30it/s]\u001b[A\n",
      "4356it [08:32,  7.30it/s]5 [08:32<09:36,  6.58it/s]\u001b[A\n",
      "4357it [08:32,  7.57it/s]5 [08:32<08:38,  7.30it/s]\u001b[A\n",
      "4358it [08:32,  7.28it/s]5 [08:32<08:20,  7.57it/s]\u001b[A\n",
      "4359it [08:32,  7.40it/s]5 [08:32<08:40,  7.28it/s]\u001b[A\n",
      "4360it [08:32,  7.94it/s]5 [08:32<08:32,  7.39it/s]\u001b[A\n",
      "4361it [08:33,  7.72it/s]5 [08:32<07:56,  7.94it/s]\u001b[A\n",
      "4362it [08:33,  7.96it/s]5 [08:32<08:10,  7.72it/s]\u001b[A\n",
      "4363it [08:33,  8.08it/s]5 [08:33<07:55,  7.96it/s]\u001b[A\n",
      "4364it [08:33,  8.14it/s]5 [08:33<07:48,  8.08it/s]\u001b[A\n",
      "4365it [08:33,  8.20it/s]5 [08:33<07:44,  8.14it/s]\u001b[A\n",
      "4366it [08:33,  8.33it/s]5 [08:33<07:40,  8.20it/s]\u001b[A\n",
      "4367it [08:33,  8.12it/s]5 [08:33<07:33,  8.33it/s]\u001b[A\n",
      "4368it [08:33,  8.00it/s]5 [08:33<07:44,  8.13it/s]\u001b[A\n",
      "4369it [08:34,  7.40it/s]5 [08:33<07:52,  8.00it/s]\u001b[A\n",
      "4370it [08:34,  7.53it/s]5 [08:34<08:34,  7.35it/s]\u001b[A\n",
      "4371it [08:34,  7.98it/s]5 [08:34<08:20,  7.54it/s]\u001b[A\n",
      "4373it [08:34,  8.69it/s]5 [08:34<07:51,  8.00it/s]\u001b[A\n",
      "4375it [08:34,  8.45it/s]5 [08:34<07:13,  8.70it/s]\u001b[A\n",
      "4376it [08:34,  6.51it/s]5 [08:34<07:25,  8.46it/s]\u001b[A\n",
      "4377it [08:35,  6.09it/s]5 [08:34<09:38,  6.52it/s]\u001b[A\n",
      "4379it [08:35,  6.93it/s]5 [08:35<10:17,  6.10it/s]\u001b[A\n",
      "4380it [08:35,  7.27it/s]5 [08:35<09:03,  6.94it/s]\u001b[A\n",
      "4381it [08:35,  7.74it/s]5 [08:35<08:37,  7.27it/s]\u001b[A\n",
      "4382it [08:35,  8.18it/s]5 [08:35<08:06,  7.74it/s]\u001b[A\n",
      "4384it [08:35,  8.75it/s]5 [08:35<07:39,  8.18it/s]\u001b[A\n",
      "4385it [08:35,  8.69it/s]5 [08:35<07:09,  8.75it/s]\u001b[A\n",
      "4386it [08:36,  8.98it/s]5 [08:35<07:12,  8.70it/s]\u001b[A\n",
      "4388it [08:36,  8.99it/s]5 [08:36<06:58,  8.98it/s]\u001b[A\n",
      "4389it [08:36,  9.02it/s]5 [08:36<06:58,  8.99it/s]\u001b[A\n",
      "4390it [08:36,  9.15it/s]5 [08:36<06:56,  9.03it/s]\u001b[A\n",
      "4391it [08:36,  9.25it/s]5 [08:36<06:50,  9.15it/s]\u001b[A\n",
      "4392it [08:36,  9.32it/s]5 [08:36<06:45,  9.25it/s]\u001b[A\n",
      "4394it [08:36,  9.41it/s]5 [08:36<06:42,  9.32it/s]\u001b[A\n",
      "4395it [08:37,  8.80it/s]5 [08:36<06:38,  9.41it/s]\u001b[A\n",
      "4396it [08:37,  8.76it/s]5 [08:37<07:05,  8.80it/s]\u001b[A\n",
      "4397it [08:37,  8.88it/s]5 [08:37<07:07,  8.76it/s]\u001b[A\n",
      "4398it [08:37,  8.06it/s]5 [08:37<07:02,  8.88it/s]\u001b[A\n",
      "4399it [08:37,  8.20it/s]5 [08:37<07:44,  8.06it/s]\u001b[A\n",
      "4401it [08:37,  8.73it/s]5 [08:37<07:36,  8.20it/s]\u001b[A\n",
      "4403it [08:37,  9.10it/s]5 [08:37<07:08,  8.73it/s]\u001b[A\n",
      "4404it [08:38,  8.14it/s]5 [08:37<06:51,  9.10it/s]\u001b[A\n",
      "4405it [08:38,  6.97it/s]5 [08:38<07:53,  7.91it/s]\u001b[A\n",
      "4406it [08:38,  7.54it/s]5 [08:38<08:52,  7.03it/s]\u001b[A\n",
      "4407it [08:38,  8.08it/s]5 [08:38<08:13,  7.58it/s]\u001b[A\n",
      "4408it [08:38,  7.08it/s]5 [08:38<07:45,  8.04it/s]\u001b[A\n",
      "4409it [08:38,  7.48it/s]5 [08:38<08:45,  7.12it/s]\u001b[A\n",
      "4410it [08:38,  7.53it/s]5 [08:38<08:17,  7.51it/s]\u001b[A\n",
      "4411it [08:39,  7.08it/s]5 [08:38<08:15,  7.54it/s]\u001b[A\n",
      "4412it [08:39,  7.41it/s]5 [08:39<08:46,  7.09it/s]\u001b[A\n",
      "4413it [08:39,  7.48it/s]5 [08:39<08:23,  7.42it/s]\u001b[A\n",
      "4414it [08:39,  6.89it/s]5 [08:39<08:24,  7.39it/s]\u001b[A\n",
      "4415it [08:39,  6.51it/s]5 [08:39<08:59,  6.92it/s]\u001b[A\n",
      "4416it [08:39,  7.20it/s]5 [08:39<09:31,  6.53it/s]\u001b[A\n",
      "4417it [08:39,  6.61it/s]5 [08:39<08:36,  7.21it/s]\u001b[A\n",
      "4418it [08:40,  6.28it/s]5 [08:39<09:23,  6.61it/s]\u001b[A\n",
      "4419it [08:40,  6.63it/s]5 [08:40<09:55,  6.26it/s]\u001b[A\n",
      "4420it [08:40,  5.77it/s]5 [08:40<09:20,  6.65it/s]\u001b[A\n",
      "4421it [08:40,  5.52it/s]5 [08:40<10:46,  5.76it/s]\u001b[A\n",
      "4422it [08:40,  5.53it/s]5 [08:40<11:14,  5.52it/s]\u001b[A\n",
      "4423it [08:41,  5.22it/s]5 [08:40<11:11,  5.54it/s]\u001b[A\n",
      "4424it [08:41,  5.34it/s]5 [08:41<12:04,  5.14it/s]\u001b[A\n",
      "4425it [08:41,  5.46it/s]5 [08:41<11:33,  5.37it/s]\u001b[A\n",
      "4426it [08:41,  5.84it/s]5 [08:41<11:18,  5.48it/s]\u001b[A\n",
      "4427it [08:41,  5.82it/s]5 [08:41<10:34,  5.86it/s]\u001b[A\n",
      "4428it [08:41,  5.65it/s]5 [08:41<10:37,  5.83it/s]\u001b[A\n",
      "4429it [08:42,  5.60it/s]5 [08:41<10:56,  5.66it/s]\u001b[A\n",
      "4430it [08:42,  5.49it/s]5 [08:42<11:02,  5.61it/s]\u001b[A\n",
      "4431it [08:42,  5.18it/s]5 [08:42<11:16,  5.49it/s]\u001b[A\n",
      "4432it [08:42,  4.58it/s]5 [08:42<12:00,  5.15it/s]\u001b[A\n",
      "4433it [08:43,  4.75it/s]5 [08:42<13:38,  4.54it/s]\u001b[A\n",
      "4434it [08:43,  5.10it/s]5 [08:42<12:58,  4.77it/s]\u001b[A\n",
      "4435it [08:43,  5.29it/s]5 [08:43<12:07,  5.10it/s]\u001b[A\n",
      "4436it [08:43,  5.97it/s]5 [08:43<11:43,  5.27it/s]\u001b[A\n",
      "4437it [08:43,  6.03it/s]5 [08:43<10:17,  6.01it/s]\u001b[A\n",
      "4438it [08:43,  6.09it/s]5 [08:43<10:12,  6.05it/s]\u001b[A\n",
      "4439it [08:43,  5.99it/s]5 [08:43<10:07,  6.11it/s]\u001b[A\n",
      "4440it [08:44,  6.27it/s]5 [08:43<10:17,  6.00it/s]\u001b[A\n",
      "4441it [08:44,  6.62it/s]5 [08:44<09:50,  6.27it/s]\u001b[A\n",
      "4442it [08:44,  6.99it/s]5 [08:44<09:23,  6.58it/s]\u001b[A\n",
      "4443it [08:44,  7.43it/s]5 [08:44<08:47,  7.02it/s]\u001b[A\n",
      "4444it [08:44,  6.55it/s]5 [08:44<08:16,  7.45it/s]\u001b[A\n",
      "4445it [08:44,  5.35it/s]5 [08:44<09:24,  6.56it/s]\u001b[A\n",
      "4446it [08:45,  6.07it/s]5 [08:44<11:31,  5.35it/s]\u001b[A\n",
      "4447it [08:45,  4.76it/s]5 [08:45<10:09,  6.07it/s]\u001b[A\n",
      "4448it [08:45,  5.18it/s]5 [08:45<12:58,  4.75it/s]\u001b[A\n",
      "4449it [08:45,  5.41it/s]5 [08:45<11:52,  5.19it/s]\u001b[A\n",
      "4450it [08:45,  4.96it/s]5 [08:45<11:25,  5.39it/s]\u001b[A\n",
      "4451it [08:46,  5.69it/s]5 [08:45<12:30,  4.92it/s]\u001b[A\n",
      "4452it [08:46,  6.46it/s]5 [08:46<10:46,  5.72it/s]\u001b[A\n",
      "4453it [08:46,  6.88it/s]5 [08:46<09:29,  6.48it/s]\u001b[A\n",
      "4454it [08:46,  7.19it/s]5 [08:46<08:55,  6.90it/s]\u001b[A\n",
      "4455it [08:46,  6.93it/s]5 [08:46<08:32,  7.20it/s]\u001b[A\n",
      "4456it [08:46,  6.80it/s]5 [08:46<08:51,  6.94it/s]\u001b[A\n",
      "4457it [08:46,  7.39it/s]5 [08:46<09:01,  6.81it/s]\u001b[A\n",
      "4458it [08:46,  7.79it/s]5 [08:46<08:18,  7.39it/s]\u001b[A\n",
      "4459it [08:47,  7.65it/s]5 [08:46<07:52,  7.80it/s]\u001b[A\n",
      "4460it [08:47,  7.37it/s]5 [08:47<08:01,  7.65it/s]\u001b[A\n",
      "4461it [08:47,  7.28it/s]5 [08:47<08:19,  7.37it/s]\u001b[A\n",
      "4462it [08:47,  6.20it/s]5 [08:47<08:26,  7.28it/s]\u001b[A\n",
      "4463it [08:47,  6.72it/s]5 [08:47<09:53,  6.20it/s]\u001b[A\n",
      "4464it [08:47,  7.17it/s]5 [08:47<09:07,  6.73it/s]\u001b[A\n",
      "4465it [08:47,  7.75it/s]5 [08:47<08:33,  7.17it/s]\u001b[A\n",
      "4467it [08:48,  8.48it/s]5 [08:47<07:54,  7.75it/s]\u001b[A\n",
      "4468it [08:48,  8.63it/s]5 [08:48<07:13,  8.48it/s]\u001b[A\n",
      "4469it [08:48,  7.91it/s]5 [08:48<07:05,  8.63it/s]\u001b[A\n",
      "4470it [08:48,  7.58it/s]5 [08:48<07:44,  7.91it/s]\u001b[A\n",
      "4471it [08:48,  7.79it/s]5 [08:48<08:05,  7.58it/s]\u001b[A\n",
      "4472it [08:48,  7.85it/s]5 [08:48<07:51,  7.79it/s]\u001b[A\n",
      "4473it [08:48,  7.93it/s]5 [08:48<07:48,  7.85it/s]\u001b[A\n",
      "4474it [08:49,  7.68it/s]5 [08:48<07:42,  7.93it/s]\u001b[A\n",
      "4475it [08:49,  7.90it/s]5 [08:48<07:57,  7.68it/s]\u001b[A\n",
      "4476it [08:49,  7.78it/s]5 [08:49<07:44,  7.90it/s]\u001b[A\n",
      "4477it [08:49,  7.85it/s]5 [08:49<07:51,  7.78it/s]\u001b[A\n",
      "4478it [08:49,  7.54it/s]5 [08:49<07:47,  7.85it/s]\u001b[A\n",
      "4479it [08:49,  8.06it/s]5 [08:49<08:06,  7.54it/s]\u001b[A\n",
      "4480it [08:49,  7.68it/s]5 [08:49<07:34,  8.06it/s]\u001b[A\n",
      "4481it [08:49,  7.47it/s]5 [08:49<07:57,  7.68it/s]\u001b[A\n",
      "4482it [08:50,  8.06it/s]5 [08:49<08:10,  7.47it/s]\u001b[A\n",
      "4483it [08:50,  7.28it/s]5 [08:49<07:34,  8.06it/s]\u001b[A\n",
      "4484it [08:50,  7.10it/s]5 [08:50<08:23,  7.28it/s]\u001b[A\n",
      "4485it [08:50,  6.65it/s]5 [08:50<08:35,  7.10it/s]\u001b[A\n",
      "4486it [08:50,  7.15it/s]5 [08:50<09:20,  6.53it/s]\u001b[A\n",
      "4487it [08:50,  7.34it/s]5 [08:50<08:28,  7.19it/s]\u001b[A\n",
      "4488it [08:50,  7.53it/s]5 [08:50<08:15,  7.38it/s]\u001b[A\n",
      "4489it [08:51,  7.38it/s]5 [08:50<08:04,  7.55it/s]\u001b[A\n",
      "4491it [08:51,  8.61it/s]5 [08:50<08:14,  7.40it/s]\u001b[A\n",
      "4493it [08:51,  9.58it/s]5 [08:51<07:03,  8.63it/s]\u001b[A\n",
      "4495it [08:51, 11.17it/s]5 [08:51<06:20,  9.60it/s]\u001b[A\n",
      "4497it [08:51, 10.30it/s]5 [08:51<05:26, 11.18it/s]\u001b[A\n",
      "4499it [08:52,  6.27it/s]5 [08:51<05:54, 10.30it/s]\u001b[A\n",
      "4500it [08:52,  6.19it/s]5 [08:52<09:41,  6.27it/s]\u001b[A\n",
      "4501it [08:52,  6.83it/s]5 [08:52<09:48,  6.19it/s]\u001b[A\n",
      "4502it [08:52,  7.26it/s]5 [08:52<08:53,  6.83it/s]\u001b[A\n",
      "4504it [08:52,  8.00it/s]5 [08:52<08:21,  7.27it/s]\u001b[A\n",
      "4505it [08:52,  8.40it/s]5 [08:52<07:34,  8.00it/s]\u001b[A\n",
      "4506it [08:53,  8.11it/s]5 [08:52<07:13,  8.40it/s]\u001b[A\n",
      "4507it [08:53,  8.03it/s]5 [08:53<07:28,  8.11it/s]\u001b[A\n",
      "4508it [08:53,  8.43it/s]5 [08:53<07:32,  8.03it/s]\u001b[A\n",
      "4510it [08:53,  8.98it/s]5 [08:53<07:11,  8.43it/s]\u001b[A\n",
      "4511it [08:53,  8.55it/s]5 [08:53<06:45,  8.97it/s]\u001b[A\n",
      "4513it [08:53,  9.14it/s]5 [08:53<07:04,  8.55it/s]\u001b[A\n",
      "4515it [08:54,  9.70it/s]5 [08:53<06:37,  9.14it/s]\u001b[A\n",
      "4517it [08:54,  9.32it/s]5 [08:53<06:14,  9.70it/s]\u001b[A\n",
      "4518it [08:54,  8.45it/s]5 [08:54<06:29,  9.32it/s]\u001b[A\n",
      "4519it [08:54,  8.70it/s]5 [08:54<07:09,  8.45it/s]\u001b[A\n",
      "4520it [08:54,  8.31it/s]5 [08:54<06:57,  8.69it/s]\u001b[A\n",
      "4521it [08:54,  8.19it/s]5 [08:54<07:16,  8.31it/s]\u001b[A\n",
      "4523it [08:54,  8.75it/s]5 [08:54<07:22,  8.19it/s]\u001b[A\n",
      "4524it [08:55,  8.79it/s]5 [08:54<06:54,  8.75it/s]\u001b[A\n",
      "4526it [08:55,  8.85it/s]5 [08:55<06:51,  8.79it/s]\u001b[A\n",
      "4527it [08:55,  9.05it/s]5 [08:55<06:48,  8.85it/s]\u001b[A\n",
      "4528it [08:55,  8.25it/s]5 [08:55<06:40,  9.04it/s]\u001b[A\n",
      "4529it [08:55,  8.00it/s]5 [08:55<07:18,  8.25it/s]\u001b[A\n",
      "4530it [08:55,  7.86it/s]5 [08:55<07:32,  7.99it/s]\u001b[A\n",
      "4531it [08:55,  7.52it/s]5 [08:55<07:40,  7.86it/s]\u001b[A\n",
      "4532it [08:56,  7.53it/s]5 [08:55<08:00,  7.51it/s]\u001b[A\n",
      "4533it [08:56,  8.04it/s]5 [08:56<07:59,  7.53it/s]\u001b[A\n",
      "4534it [08:56,  7.54it/s]5 [08:56<07:29,  8.04it/s]\u001b[A\n",
      "4535it [08:56,  8.10it/s]5 [08:56<07:59,  7.54it/s]\u001b[A\n",
      "4536it [08:56,  7.95it/s]5 [08:56<07:25,  8.10it/s]\u001b[A\n",
      "4537it [08:56,  7.91it/s]5 [08:56<07:33,  7.95it/s]\u001b[A\n",
      "4538it [08:56,  7.88it/s]5 [08:56<07:35,  7.91it/s]\u001b[A\n",
      "4540it [08:57,  8.43it/s]5 [08:56<07:37,  7.88it/s]\u001b[A\n",
      "4542it [08:57,  8.52it/s]5 [08:56<07:07,  8.43it/s]\u001b[A\n",
      "4543it [08:57,  8.72it/s]5 [08:57<07:02,  8.52it/s]\u001b[A\n",
      "4544it [08:57,  8.76it/s]5 [08:57<06:52,  8.73it/s]\u001b[A\n",
      "4545it [08:57,  8.60it/s]5 [08:57<06:50,  8.76it/s]\u001b[A\n",
      "4546it [08:57,  8.65it/s]5 [08:57<06:58,  8.60it/s]\u001b[A\n",
      "4547it [08:57,  8.76it/s]5 [08:57<06:56,  8.65it/s]\u001b[A\n",
      "4548it [08:57,  8.47it/s]5 [08:57<06:50,  8.76it/s]\u001b[A\n",
      "4549it [08:58,  8.86it/s]5 [08:57<07:04,  8.47it/s]\u001b[A\n",
      "4550it [08:58,  9.03it/s]5 [08:58<06:45,  8.86it/s]\u001b[A\n",
      "4551it [08:58,  8.55it/s]5 [08:58<06:38,  9.03it/s]\u001b[A\n",
      "4552it [08:58,  6.88it/s]5 [08:58<07:00,  8.55it/s]\u001b[A\n",
      "4553it [08:58,  6.55it/s]5 [08:58<08:42,  6.88it/s]\u001b[A\n",
      "4554it [08:58,  6.24it/s]5 [08:58<09:08,  6.55it/s]\u001b[A\n",
      "4555it [08:58,  6.72it/s]5 [08:58<09:35,  6.24it/s]\u001b[A\n",
      "4556it [08:59,  7.03it/s]5 [08:58<08:54,  6.72it/s]\u001b[A\n",
      "4557it [08:59,  6.90it/s]5 [08:59<08:30,  7.03it/s]\u001b[A\n",
      "4558it [08:59,  6.89it/s]5 [08:59<08:39,  6.90it/s]\u001b[A\n",
      "4559it [08:59,  6.99it/s]5 [08:59<08:40,  6.89it/s]\u001b[A\n",
      "4560it [08:59,  7.31it/s]5 [08:59<08:33,  6.99it/s]\u001b[A\n",
      "4561it [08:59,  7.91it/s]5 [08:59<08:10,  7.31it/s]\u001b[A\n",
      "4562it [08:59,  7.94it/s]5 [08:59<07:33,  7.91it/s]\u001b[A\n",
      "4563it [09:00,  8.16it/s]5 [08:59<07:31,  7.94it/s]\u001b[A\n",
      "4564it [09:00,  7.72it/s]5 [08:59<07:19,  8.15it/s]\u001b[A\n",
      "4565it [09:00,  7.18it/s]5 [09:00<07:43,  7.72it/s]\u001b[A\n",
      "4566it [09:00,  7.02it/s]5 [09:00<08:18,  7.18it/s]\u001b[A\n",
      "4567it [09:00,  6.26it/s]5 [09:00<08:29,  7.02it/s]\u001b[A\n",
      "4568it [09:00,  6.54it/s]5 [09:00<09:31,  6.26it/s]\u001b[A\n",
      "4569it [09:00,  7.09it/s]5 [09:00<09:06,  6.54it/s]\u001b[A\n",
      "4570it [09:01,  6.16it/s]5 [09:00<08:24,  7.08it/s]\u001b[A\n",
      "4571it [09:01,  6.08it/s]5 [09:01<09:40,  6.16it/s]\u001b[A\n",
      "4572it [09:01,  6.14it/s]5 [09:01<09:47,  6.09it/s]\u001b[A\n",
      "4573it [09:01,  6.27it/s]5 [09:01<09:41,  6.14it/s]\u001b[A\n",
      "4574it [09:01,  6.20it/s]5 [09:01<09:29,  6.27it/s]\u001b[A\n",
      "4575it [09:01,  6.36it/s]5 [09:01<09:36,  6.20it/s]\u001b[A\n",
      "4576it [09:02,  6.01it/s]5 [09:01<09:21,  6.36it/s]\u001b[A\n",
      "4577it [09:02,  6.29it/s]5 [09:02<09:53,  6.01it/s]\u001b[A\n",
      "4578it [09:02,  6.90it/s]5 [09:02<09:27,  6.29it/s]\u001b[A\n",
      "4580it [09:02,  7.63it/s]5 [09:02<08:37,  6.90it/s]\u001b[A\n",
      "4581it [09:02,  8.12it/s]5 [09:02<07:46,  7.64it/s]\u001b[A\n",
      "4582it [09:02,  6.62it/s]5 [09:02<07:18,  8.13it/s]\u001b[A\n",
      "4583it [09:02,  7.28it/s]5 [09:02<08:57,  6.62it/s]\u001b[A\n",
      "4584it [09:03,  6.76it/s]5 [09:02<08:09,  7.27it/s]\u001b[A\n",
      "4585it [09:03,  7.46it/s]5 [09:03<08:47,  6.76it/s]\u001b[A\n",
      "4586it [09:03,  6.51it/s]5 [09:03<07:57,  7.46it/s]\u001b[A\n",
      "4587it [09:03,  7.05it/s]5 [09:03<09:13,  6.43it/s]\u001b[A\n",
      "4588it [09:03,  7.29it/s]5 [09:03<08:22,  7.08it/s]\u001b[A\n",
      "4589it [09:03,  6.59it/s]5 [09:03<08:06,  7.31it/s]\u001b[A\n",
      "4590it [09:04,  6.59it/s]5 [09:03<08:58,  6.60it/s]\u001b[A\n",
      "4591it [09:04,  6.38it/s]5 [09:03<09:00,  6.57it/s]\u001b[A\n",
      "4592it [09:04,  6.38it/s]5 [09:04<09:15,  6.40it/s]\u001b[A\n",
      "4593it [09:04,  6.77it/s]5 [09:04<09:16,  6.38it/s]\u001b[A\n",
      "4594it [09:04,  7.00it/s]5 [09:04<08:43,  6.78it/s]\u001b[A\n",
      "4595it [09:04,  7.28it/s]5 [09:04<08:26,  7.01it/s]\u001b[A\n",
      "4596it [09:04,  6.29it/s]5 [09:04<08:07,  7.28it/s]\u001b[A\n",
      "4597it [09:05,  4.57it/s]5 [09:04<09:24,  6.28it/s]\u001b[A\n",
      "4598it [09:05,  5.04it/s]5 [09:05<12:59,  4.55it/s]\u001b[A\n",
      "4599it [09:05,  5.73it/s]5 [09:05<11:42,  5.05it/s]\u001b[A\n",
      "4600it [09:05,  4.90it/s]5 [09:05<10:27,  5.65it/s]\u001b[A\n",
      "4601it [09:06,  5.33it/s]5 [09:05<12:07,  4.87it/s]\u001b[A\n",
      "4602it [09:06,  6.01it/s]5 [09:05<11:00,  5.37it/s]\u001b[A\n",
      "4603it [09:06,  6.53it/s]5 [09:06<09:46,  6.05it/s]\u001b[A\n",
      "4604it [09:06,  7.10it/s]5 [09:06<08:59,  6.56it/s]\u001b[A\n",
      "4605it [09:06,  7.18it/s]5 [09:06<08:17,  7.12it/s]\u001b[A\n",
      "4606it [09:06,  7.80it/s]5 [09:06<08:11,  7.20it/s]\u001b[A\n",
      "4607it [09:06,  7.75it/s]5 [09:06<07:33,  7.81it/s]\u001b[A\n",
      "4608it [09:06,  8.00it/s]5 [09:06<07:35,  7.76it/s]\u001b[A\n",
      "4609it [09:07,  7.13it/s]5 [09:06<07:21,  8.01it/s]\u001b[A\n",
      "4610it [09:07,  6.82it/s]5 [09:06<08:15,  7.13it/s]\u001b[A\n",
      "4611it [09:07,  7.02it/s]5 [09:07<08:37,  6.83it/s]\u001b[A\n",
      "4612it [09:07,  7.29it/s]5 [09:07<08:23,  7.02it/s]\u001b[A\n",
      "4613it [09:07,  7.53it/s]5 [09:07<08:04,  7.29it/s]\u001b[A\n",
      "4614it [09:07,  8.12it/s]5 [09:07<07:48,  7.53it/s]\u001b[A\n",
      "4615it [09:07,  8.52it/s]5 [09:07<07:14,  8.12it/s]\u001b[A\n",
      "4616it [09:07,  8.53it/s]5 [09:07<06:54,  8.52it/s]\u001b[A\n",
      "4617it [09:07,  8.56it/s]5 [09:07<06:54,  8.51it/s]\u001b[A\n",
      "4618it [09:08,  8.44it/s]5 [09:07<06:51,  8.57it/s]\u001b[A\n",
      "4619it [09:08,  8.54it/s]5 [09:08<06:57,  8.45it/s]\u001b[A\n",
      "4620it [09:08,  8.41it/s]5 [09:08<06:52,  8.54it/s]\u001b[A\n",
      "4621it [09:08,  8.09it/s]5 [09:08<06:59,  8.41it/s]\u001b[A\n",
      "4622it [09:08,  8.01it/s]5 [09:08<07:15,  8.09it/s]\u001b[A\n",
      "4623it [09:08,  7.97it/s]5 [09:08<07:19,  8.01it/s]\u001b[A\n",
      "4624it [09:08,  7.28it/s]5 [09:08<07:21,  7.97it/s]\u001b[A\n",
      "4625it [09:09,  7.57it/s]5 [09:08<08:03,  7.28it/s]\u001b[A\n",
      "4626it [09:09,  8.10it/s]5 [09:08<07:45,  7.57it/s]\u001b[A\n",
      "4627it [09:09,  8.59it/s]5 [09:09<07:14,  8.09it/s]\u001b[A\n",
      "4628it [09:09,  8.57it/s]5 [09:09<06:50,  8.57it/s]\u001b[A\n",
      "4629it [09:09,  8.26it/s]5 [09:09<06:50,  8.57it/s]\u001b[A\n",
      "4630it [09:09,  8.34it/s]5 [09:09<07:05,  8.27it/s]\u001b[A\n",
      "4631it [09:09,  8.42it/s]5 [09:09<07:01,  8.34it/s]\u001b[A\n",
      "4632it [09:09,  8.81it/s]5 [09:09<06:57,  8.42it/s]\u001b[A\n",
      "4633it [09:09,  8.95it/s]5 [09:09<06:38,  8.81it/s]\u001b[A\n",
      "4634it [09:10,  9.19it/s]5 [09:09<06:32,  8.96it/s]\u001b[A\n",
      "4635it [09:10,  7.50it/s]5 [09:09<06:21,  9.19it/s]\u001b[A\n",
      "4636it [09:10,  7.41it/s]5 [09:10<07:47,  7.50it/s]\u001b[A\n",
      "4637it [09:10,  7.61it/s]5 [09:10<07:53,  7.41it/s]\u001b[A\n",
      "4638it [09:10,  7.30it/s]5 [09:10<07:40,  7.61it/s]\u001b[A\n",
      "4639it [09:10,  7.31it/s]5 [09:10<08:00,  7.30it/s]\u001b[A\n",
      "4640it [09:10,  6.70it/s]5 [09:10<07:59,  7.31it/s]\u001b[A\n",
      "4641it [09:11,  6.33it/s]5 [09:10<08:43,  6.70it/s]\u001b[A\n",
      "4642it [09:11,  6.60it/s]5 [09:11<09:13,  6.33it/s]\u001b[A\n",
      "4643it [09:11,  6.67it/s]5 [09:11<08:50,  6.61it/s]\u001b[A\n",
      "4644it [09:11,  6.73it/s]5 [09:11<08:45,  6.67it/s]\u001b[A\n",
      "4646it [09:11,  7.40it/s]5 [09:11<08:40,  6.73it/s]\u001b[A\n",
      "4647it [09:11,  7.83it/s]5 [09:11<07:53,  7.40it/s]\u001b[A\n",
      "4648it [09:11,  7.89it/s]5 [09:11<07:26,  7.83it/s]\u001b[A\n",
      "4649it [09:12,  8.19it/s]5 [09:11<07:23,  7.89it/s]\u001b[A\n",
      "4650it [09:12,  8.46it/s]5 [09:12<07:06,  8.19it/s]\u001b[A\n",
      "4651it [09:12,  7.28it/s]5 [09:12<06:53,  8.45it/s]\u001b[A\n",
      "4652it [09:12,  7.14it/s]5 [09:12<07:59,  7.28it/s]\u001b[A\n",
      "4654it [09:12,  7.78it/s]5 [09:12<08:09,  7.14it/s]\u001b[A\n",
      "4655it [09:12,  7.71it/s]5 [09:12<07:28,  7.78it/s]\u001b[A\n",
      "4656it [09:12,  7.88it/s]5 [09:12<07:32,  7.72it/s]\u001b[A\n",
      "4657it [09:13,  7.58it/s]5 [09:12<07:22,  7.89it/s]\u001b[A\n",
      "4658it [09:13,  8.09it/s]5 [09:13<07:40,  7.58it/s]\u001b[A\n",
      "4659it [09:13,  8.23it/s]5 [09:13<07:11,  8.09it/s]\u001b[A\n",
      "4660it [09:13,  8.36it/s]5 [09:13<07:03,  8.23it/s]\u001b[A\n",
      "4662it [09:13,  8.66it/s]5 [09:13<06:57,  8.36it/s]\u001b[A\n",
      "4663it [09:13,  8.28it/s]5 [09:13<06:42,  8.66it/s]\u001b[A\n",
      "4664it [09:13,  8.28it/s]5 [09:13<07:00,  8.29it/s]\u001b[A\n",
      "4665it [09:14,  8.26it/s]5 [09:13<07:00,  8.28it/s]\u001b[A\n",
      "4667it [09:14,  7.74it/s]5 [09:14<07:00,  8.27it/s]\u001b[A\n",
      "4668it [09:14,  7.72it/s]5 [09:14<07:29,  7.73it/s]\u001b[A\n",
      "4669it [09:14,  7.60it/s]5 [09:14<07:30,  7.72it/s]\u001b[A\n",
      "4670it [09:14,  6.38it/s]5 [09:14<07:45,  7.46it/s]\u001b[A\n",
      "4671it [09:15,  6.12it/s]5 [09:14<09:03,  6.40it/s]\u001b[A\n",
      "4673it [09:15,  6.36it/s]5 [09:14<09:24,  6.15it/s]\u001b[A\n",
      "4674it [09:15,  6.55it/s]5 [09:15<09:07,  6.35it/s]\u001b[A\n",
      "4675it [09:15,  4.92it/s]5 [09:15<08:45,  6.60it/s]\u001b[A\n",
      "4676it [09:16,  4.66it/s]5 [09:15<11:47,  4.90it/s]\u001b[A\n",
      "4677it [09:16,  5.22it/s]5 [09:15<12:30,  4.62it/s]\u001b[A\n",
      "4678it [09:16,  5.81it/s]5 [09:16<10:58,  5.27it/s]\u001b[A\n",
      "4679it [09:16,  6.37it/s]5 [09:16<09:59,  5.78it/s]\u001b[A\n",
      "4680it [09:16,  6.65it/s]5 [09:16<08:59,  6.43it/s]\u001b[A\n",
      "4681it [09:16,  6.75it/s]5 [09:16<08:37,  6.70it/s]\u001b[A\n",
      "4682it [09:16,  6.96it/s]5 [09:16<08:31,  6.78it/s]\u001b[A\n",
      "4683it [09:16,  7.11it/s]5 [09:16<08:15,  6.98it/s]\u001b[A\n",
      "4684it [09:17,  7.06it/s]5 [09:16<08:05,  7.13it/s]\u001b[A\n",
      "4685it [09:17,  7.28it/s]5 [09:17<08:18,  6.95it/s]\u001b[A\n",
      "4686it [09:17,  7.75it/s]5 [09:17<07:51,  7.33it/s]\u001b[A\n",
      "4687it [09:17,  7.94it/s]5 [09:17<07:24,  7.79it/s]\u001b[A\n",
      "4688it [09:17,  8.00it/s]5 [09:17<07:14,  7.96it/s]\u001b[A\n",
      "4689it [09:17,  7.74it/s]5 [09:17<07:11,  8.02it/s]\u001b[A\n",
      "4690it [09:17,  5.95it/s]5 [09:17<07:33,  7.63it/s]\u001b[A\n",
      "4691it [09:18,  5.59it/s]5 [09:17<09:42,  5.93it/s]\u001b[A\n",
      "4692it [09:18,  6.10it/s]5 [09:18<10:14,  5.62it/s]\u001b[A\n",
      "4693it [09:18,  6.66it/s]5 [09:18<09:24,  6.12it/s]\u001b[A\n",
      "4694it [09:18,  7.05it/s]5 [09:18<08:36,  6.69it/s]\u001b[A\n",
      "4695it [09:18,  7.48it/s]5 [09:18<08:08,  7.06it/s]\u001b[A\n",
      "4696it [09:18,  7.86it/s]5 [09:18<07:40,  7.49it/s]\u001b[A\n",
      "4697it [09:18,  8.26it/s]5 [09:18<07:18,  7.86it/s]\u001b[A\n",
      "4698it [09:18,  8.37it/s]5 [09:18<06:56,  8.28it/s]\u001b[A\n",
      "4699it [09:19,  8.34it/s]5 [09:18<06:51,  8.38it/s]\u001b[A\n",
      "4700it [09:19,  7.67it/s]5 [09:19<06:53,  8.34it/s]\u001b[A\n",
      "4701it [09:19,  7.53it/s]5 [09:19<07:29,  7.67it/s]\u001b[A\n",
      "4702it [09:19,  8.01it/s]5 [09:19<07:37,  7.53it/s]\u001b[A\n",
      "4703it [09:19,  8.32it/s]5 [09:19<07:09,  8.01it/s]\u001b[A\n",
      "4704it [09:19,  8.31it/s]5 [09:19<06:53,  8.32it/s]\u001b[A\n",
      "4705it [09:19,  7.82it/s]5 [09:19<06:54,  8.31it/s]\u001b[A\n",
      "4706it [09:20,  7.81it/s]5 [09:19<07:19,  7.82it/s]\u001b[A\n",
      "4708it [09:20,  8.31it/s]5 [09:19<07:20,  7.81it/s]\u001b[A\n",
      "4709it [09:20,  8.21it/s]5 [09:20<06:53,  8.31it/s]\u001b[A\n",
      "4710it [09:20,  8.21it/s]5 [09:20<06:58,  8.21it/s]\u001b[A\n",
      "4711it [09:20,  8.47it/s]5 [09:20<06:58,  8.20it/s]\u001b[A\n",
      "4712it [09:20,  8.59it/s]5 [09:20<06:45,  8.48it/s]\u001b[A\n",
      "4713it [09:20,  7.82it/s]5 [09:20<06:39,  8.59it/s]\u001b[A\n",
      "4714it [09:20,  8.03it/s]5 [09:20<07:18,  7.83it/s]\u001b[A\n",
      "4715it [09:21,  5.95it/s]5 [09:20<07:07,  8.03it/s]\u001b[A\n",
      "4716it [09:21,  6.05it/s]5 [09:21<09:36,  5.95it/s]\u001b[A\n",
      "4718it [09:21,  6.84it/s]5 [09:21<09:26,  6.05it/s]\u001b[A\n",
      "4719it [09:21,  7.51it/s]5 [09:21<08:21,  6.84it/s]\u001b[A\n",
      "4721it [09:21,  7.48it/s]5 [09:21<07:36,  7.51it/s]\u001b[A\n",
      "4722it [09:22,  7.41it/s]5 [09:21<07:37,  7.48it/s]\u001b[A\n",
      "4724it [09:22,  7.93it/s]5 [09:22<07:41,  7.41it/s]\u001b[A\n",
      "4725it [09:22,  7.41it/s]5 [09:22<07:11,  7.93it/s]\u001b[A\n",
      "4726it [09:22,  7.61it/s]5 [09:22<07:41,  7.41it/s]\u001b[A\n",
      "4727it [09:22,  7.57it/s]5 [09:22<07:29,  7.60it/s]\u001b[A\n",
      "4728it [09:22,  7.12it/s]5 [09:22<07:31,  7.57it/s]\u001b[A\n",
      "4729it [09:23,  7.11it/s]5 [09:22<07:59,  7.12it/s]\u001b[A\n",
      "4730it [09:23,  6.70it/s]5 [09:22<08:00,  7.10it/s]\u001b[A\n",
      "4731it [09:23,  7.03it/s]5 [09:23<08:29,  6.71it/s]\u001b[A\n",
      "4732it [09:23,  6.81it/s]5 [09:23<08:05,  7.03it/s]\u001b[A\n",
      "4733it [09:23,  7.09it/s]5 [09:23<08:20,  6.82it/s]\u001b[A\n",
      "4734it [09:23,  6.32it/s]5 [09:23<08:00,  7.09it/s]\u001b[A\n",
      "4735it [09:23,  6.62it/s]5 [09:23<09:00,  6.32it/s]\u001b[A\n",
      "4736it [09:24,  6.14it/s]5 [09:23<08:34,  6.63it/s]\u001b[A\n",
      "4737it [09:24,  6.04it/s]5 [09:24<09:15,  6.14it/s]\u001b[A\n",
      "4738it [09:24,  6.14it/s]5 [09:24<09:24,  6.04it/s]\u001b[A\n",
      "4739it [09:24,  6.29it/s]5 [09:24<09:14,  6.14it/s]\u001b[A\n",
      "4740it [09:24,  6.79it/s]5 [09:24<09:01,  6.29it/s]\u001b[A\n",
      "4741it [09:24,  6.81it/s]5 [09:24<08:21,  6.79it/s]\u001b[A\n",
      "4742it [09:25,  6.93it/s]5 [09:24<08:19,  6.81it/s]\u001b[A\n",
      "4743it [09:25,  7.17it/s]5 [09:24<08:11,  6.93it/s]\u001b[A\n",
      "4744it [09:25,  7.38it/s]5 [09:25<07:54,  7.17it/s]\u001b[A\n",
      "4745it [09:25,  7.14it/s]5 [09:25<07:40,  7.38it/s]\u001b[A\n",
      "4746it [09:25,  6.89it/s]5 [09:25<07:56,  7.13it/s]\u001b[A\n",
      "4747it [09:25,  7.22it/s]5 [09:25<08:12,  6.89it/s]\u001b[A\n",
      "4748it [09:25,  7.68it/s]5 [09:25<07:50,  7.22it/s]\u001b[A\n",
      "4749it [09:25,  8.18it/s]5 [09:25<07:22,  7.68it/s]\u001b[A\n",
      "4750it [09:26,  8.44it/s]5 [09:25<06:55,  8.18it/s]\u001b[A\n",
      "4751it [09:26,  8.56it/s]5 [09:25<06:42,  8.44it/s]\u001b[A\n",
      "4752it [09:26,  8.63it/s]5 [09:26<06:36,  8.56it/s]\u001b[A\n",
      "4753it [09:26,  8.67it/s]5 [09:26<06:32,  8.64it/s]\u001b[A\n",
      "4754it [09:26,  8.15it/s]5 [09:26<06:30,  8.68it/s]\u001b[A\n",
      "4755it [09:26,  8.35it/s]5 [09:26<06:55,  8.15it/s]\u001b[A\n",
      "4756it [09:26,  8.72it/s]5 [09:26<06:45,  8.35it/s]\u001b[A\n",
      "4757it [09:26,  8.81it/s]5 [09:26<06:28,  8.72it/s]\u001b[A\n",
      "4758it [09:26,  8.65it/s]5 [09:26<06:24,  8.81it/s]\u001b[A\n",
      "4759it [09:27,  8.10it/s]5 [09:26<06:31,  8.65it/s]\u001b[A\n",
      "4760it [09:27,  8.18it/s]5 [09:27<06:57,  8.10it/s]\u001b[A\n",
      "4761it [09:27,  8.57it/s]5 [09:27<06:53,  8.18it/s]\u001b[A\n",
      "4762it [09:27,  7.82it/s]5 [09:27<06:34,  8.57it/s]\u001b[A\n",
      "4763it [09:27,  8.11it/s]5 [09:27<07:12,  7.82it/s]\u001b[A\n",
      "4765it [09:27,  8.33it/s]5 [09:27<06:57,  8.11it/s]\u001b[A\n",
      "4766it [09:27,  8.68it/s]5 [09:27<06:45,  8.33it/s]\u001b[A\n",
      "4767it [09:28,  8.74it/s]5 [09:27<06:29,  8.68it/s]\u001b[A\n",
      "4768it [09:28,  8.52it/s]5 [09:27<06:26,  8.74it/s]\u001b[A\n",
      "4769it [09:28,  8.16it/s]5 [09:28<06:36,  8.52it/s]\u001b[A\n",
      "4771it [09:28,  8.41it/s]5 [09:28<06:53,  8.16it/s]\u001b[A\n",
      "4773it [09:28,  9.09it/s]5 [09:28<06:41,  8.41it/s]\u001b[A\n",
      "4775it [09:28,  9.58it/s]5 [09:28<06:11,  9.09it/s]\u001b[A\n",
      "4776it [09:28,  9.57it/s]5 [09:28<05:51,  9.58it/s]\u001b[A\n",
      "4777it [09:29,  8.81it/s]5 [09:28<05:52,  9.57it/s]\u001b[A\n",
      "4778it [09:29,  9.08it/s]5 [09:29<06:22,  8.81it/s]\u001b[A\n",
      "4779it [09:29,  8.80it/s]5 [09:29<06:10,  9.08it/s]\u001b[A\n",
      "4780it [09:29,  8.45it/s]5 [09:29<06:22,  8.80it/s]\u001b[A\n",
      "4781it [09:29,  8.39it/s]5 [09:29<06:39,  8.43it/s]\u001b[A\n",
      "4782it [09:29,  6.74it/s]5 [09:29<06:41,  8.39it/s]\u001b[A\n",
      "4784it [09:29,  7.49it/s]5 [09:29<08:18,  6.74it/s]\u001b[A\n",
      "4785it [09:30,  7.67it/s]5 [09:29<07:29,  7.48it/s]\u001b[A\n",
      "4786it [09:30,  7.83it/s]5 [09:30<07:16,  7.70it/s]\u001b[A\n",
      "4787it [09:30,  8.03it/s]5 [09:30<07:08,  7.85it/s]\u001b[A\n",
      "4788it [09:30,  8.26it/s]5 [09:30<06:57,  8.05it/s]\u001b[A\n",
      "4789it [09:30,  7.99it/s]5 [09:30<06:45,  8.27it/s]\u001b[A\n",
      "4791it [09:30,  8.43it/s]5 [09:30<06:59,  7.99it/s]\u001b[A\n",
      "4792it [09:30,  8.35it/s]5 [09:30<06:37,  8.44it/s]\u001b[A\n",
      "4794it [09:31,  8.35it/s]5 [09:30<06:41,  8.35it/s]\u001b[A\n",
      "4795it [09:31,  8.64it/s]5 [09:31<06:40,  8.36it/s]\u001b[A\n",
      "4796it [09:31,  8.40it/s]5 [09:31<06:27,  8.64it/s]\u001b[A\n",
      "4798it [09:31,  8.37it/s]5 [09:31<06:38,  8.40it/s]\u001b[A\n",
      "4799it [09:31,  8.39it/s]5 [09:31<06:39,  8.37it/s]\u001b[A\n",
      "4800it [09:31,  8.55it/s]5 [09:31<06:38,  8.39it/s]\u001b[A\n",
      "4801it [09:31,  8.70it/s]5 [09:31<06:31,  8.55it/s]\u001b[A\n",
      "4803it [09:32,  9.05it/s]5 [09:31<06:24,  8.70it/s]\u001b[A\n",
      "4804it [09:32,  9.27it/s]5 [09:32<06:09,  9.05it/s]\u001b[A\n",
      "4805it [09:32,  7.91it/s]5 [09:32<06:00,  9.28it/s]\u001b[A\n",
      "4806it [09:32,  7.65it/s]5 [09:32<07:02,  7.91it/s]\u001b[A\n",
      "4807it [09:32,  8.01it/s]5 [09:32<07:16,  7.65it/s]\u001b[A\n",
      "4808it [09:32,  8.16it/s]5 [09:32<06:56,  8.01it/s]\u001b[A\n",
      "4809it [09:32,  7.95it/s]5 [09:32<06:48,  8.16it/s]\u001b[A\n",
      "4810it [09:33,  7.17it/s]5 [09:32<06:59,  7.95it/s]\u001b[A\n",
      "4811it [09:33,  7.54it/s]5 [09:33<07:45,  7.17it/s]\u001b[A\n",
      "4812it [09:33,  6.53it/s]5 [09:33<07:22,  7.54it/s]\u001b[A\n",
      "4813it [09:33,  6.59it/s]5 [09:33<08:30,  6.53it/s]\u001b[A\n",
      "4815it [09:33,  7.26it/s]5 [09:33<08:25,  6.59it/s]\u001b[A\n",
      "4816it [09:33,  7.77it/s]5 [09:33<07:38,  7.26it/s]\u001b[A\n",
      "4817it [09:34,  8.14it/s]5 [09:33<07:08,  7.77it/s]\u001b[A\n",
      "4818it [09:34,  8.11it/s]5 [09:33<06:48,  8.14it/s]\u001b[A\n",
      "4819it [09:34,  7.85it/s]5 [09:34<06:50,  8.10it/s]\u001b[A\n",
      "4820it [09:34,  8.26it/s]5 [09:34<07:03,  7.85it/s]\u001b[A\n",
      "4821it [09:34,  7.65it/s]5 [09:34<06:42,  8.26it/s]\u001b[A\n",
      "4822it [09:34,  8.07it/s]5 [09:34<07:14,  7.65it/s]\u001b[A\n",
      "4823it [09:34,  8.10it/s]5 [09:34<06:52,  8.06it/s]\u001b[A\n",
      "4825it [09:34,  8.87it/s]5 [09:34<06:49,  8.11it/s]\u001b[A\n",
      "4827it [09:35, 10.19it/s]5 [09:34<06:13,  8.88it/s]\u001b[A\n",
      "4829it [09:35, 11.85it/s]5 [09:35<05:25, 10.19it/s]\u001b[A\n",
      "4831it [09:35, 12.63it/s]5 [09:35<04:39, 11.86it/s]\u001b[A\n",
      "4833it [09:35, 10.87it/s]5 [09:35<04:22, 12.63it/s]\u001b[A\n",
      "4835it [09:35, 10.61it/s]5 [09:35<05:04, 10.86it/s]\u001b[A\n",
      "4837it [09:35, 10.52it/s]5 [09:35<05:12, 10.60it/s]\u001b[A\n",
      "4839it [09:36,  9.54it/s]5 [09:35<05:14, 10.52it/s]\u001b[A\n",
      "4841it [09:36,  9.53it/s]5 [09:36<05:46,  9.55it/s]\u001b[A\n",
      "4842it [09:36,  9.06it/s]5 [09:36<05:46,  9.53it/s]\u001b[A\n",
      "4843it [09:36,  9.08it/s]5 [09:36<06:04,  9.06it/s]\u001b[A\n",
      "4844it [09:36,  9.28it/s]5 [09:36<06:03,  9.08it/s]\u001b[A\n",
      "4845it [09:36,  8.51it/s]5 [09:36<05:55,  9.28it/s]\u001b[A\n",
      "4847it [09:37,  8.98it/s]5 [09:36<06:28,  8.50it/s]\u001b[A\n",
      "4848it [09:37,  9.00it/s]5 [09:37<06:07,  8.97it/s]\u001b[A\n",
      "4849it [09:37,  8.85it/s]5 [09:37<06:06,  9.00it/s]\u001b[A\n",
      "4850it [09:37,  8.82it/s]5 [09:37<06:12,  8.85it/s]\u001b[A\n",
      "4851it [09:37,  8.91it/s]5 [09:37<06:14,  8.81it/s]\u001b[A\n",
      "4852it [09:37,  9.03it/s]5 [09:37<06:10,  8.88it/s]\u001b[A\n",
      "4853it [09:37,  8.72it/s]5 [09:37<06:04,  9.04it/s]\u001b[A\n",
      "4855it [09:37,  8.83it/s]5 [09:37<06:17,  8.73it/s]\u001b[A\n",
      "4856it [09:38,  8.36it/s]5 [09:37<06:12,  8.83it/s]\u001b[A\n",
      "4857it [09:38,  8.60it/s]5 [09:38<06:33,  8.36it/s]\u001b[A\n",
      "4858it [09:38,  8.06it/s]5 [09:38<06:22,  8.60it/s]\u001b[A\n",
      "4859it [09:38,  8.40it/s]5 [09:38<06:47,  8.06it/s]\u001b[A\n",
      "4860it [09:38,  8.33it/s]5 [09:38<06:30,  8.41it/s]\u001b[A\n",
      "4861it [09:38,  8.07it/s]5 [09:38<06:38,  8.24it/s]\u001b[A\n",
      "4862it [09:38,  8.36it/s]5 [09:38<06:45,  8.09it/s]\u001b[A\n",
      "4863it [09:38,  8.35it/s]5 [09:38<06:31,  8.38it/s]\u001b[A\n",
      "4864it [09:39,  8.47it/s]5 [09:38<06:32,  8.37it/s]\u001b[A\n",
      "4865it [09:39,  7.23it/s]5 [09:39<06:26,  8.49it/s]\u001b[A\n",
      "4866it [09:39,  7.67it/s]5 [09:39<07:33,  7.23it/s]\u001b[A\n",
      "4867it [09:39,  6.32it/s]5 [09:39<07:12,  7.58it/s]\u001b[A\n",
      "4868it [09:39,  6.32it/s]5 [09:39<08:36,  6.34it/s]\u001b[A\n",
      "4869it [09:39,  6.79it/s]5 [09:39<08:36,  6.34it/s]\u001b[A\n",
      "4870it [09:40,  7.19it/s]5 [09:39<08:01,  6.80it/s]\u001b[A\n",
      "4871it [09:40,  5.71it/s]5 [09:39<07:34,  7.20it/s]\u001b[A\n",
      "4872it [09:40,  4.53it/s]5 [09:40<09:39,  5.65it/s]\u001b[A\n",
      "4873it [09:40,  4.84it/s]5 [09:40<12:11,  4.47it/s]\u001b[A\n",
      "4874it [09:40,  5.37it/s]5 [09:40<11:11,  4.88it/s]\u001b[A\n",
      "4875it [09:41,  5.11it/s]5 [09:40<10:06,  5.40it/s]\u001b[A\n",
      "4876it [09:41,  5.38it/s]5 [09:41<10:40,  5.10it/s]\u001b[A\n",
      "4877it [09:41,  5.64it/s]5 [09:41<10:08,  5.37it/s]\u001b[A\n",
      "4878it [09:41,  5.66it/s]5 [09:41<09:36,  5.67it/s]\u001b[A\n",
      "4879it [09:41,  6.31it/s]5 [09:41<09:44,  5.59it/s]\u001b[A\n",
      "4880it [09:42,  5.20it/s]5 [09:41<08:33,  6.36it/s]\u001b[A\n",
      "4881it [09:42,  5.51it/s]5 [09:41<10:24,  5.22it/s]\u001b[A\n",
      "4882it [09:42,  5.96it/s]5 [09:42<09:49,  5.53it/s]\u001b[A\n",
      "4883it [09:42,  5.84it/s]5 [09:42<09:09,  5.94it/s]\u001b[A\n",
      "4884it [09:42,  4.91it/s]5 [09:42<09:16,  5.86it/s]\u001b[A\n",
      "4885it [09:42,  5.06it/s]5 [09:42<11:06,  4.90it/s]\u001b[A\n",
      "4886it [09:43,  5.06it/s]5 [09:42<10:43,  5.07it/s]\u001b[A\n",
      "4887it [09:43,  4.75it/s]5 [09:43<10:42,  5.07it/s]\u001b[A\n",
      "4888it [09:43,  5.26it/s]5 [09:43<11:35,  4.69it/s]\u001b[A\n",
      "4890it [09:43,  6.01it/s]5 [09:43<10:14,  5.30it/s]\u001b[A\n",
      "4891it [09:43,  6.70it/s]5 [09:43<08:58,  6.04it/s]\u001b[A\n",
      "4892it [09:44,  6.40it/s]5 [09:43<08:03,  6.73it/s]\u001b[A\n",
      "4893it [09:44,  5.97it/s]5 [09:43<08:27,  6.41it/s]\u001b[A\n",
      "4894it [09:44,  5.04it/s]5 [09:44<09:07,  5.94it/s]\u001b[A\n",
      "4895it [09:44,  5.06it/s]5 [09:44<10:49,  5.01it/s]\u001b[A\n",
      "4897it [09:44,  5.99it/s]5 [09:44<10:39,  5.08it/s]\u001b[A\n",
      "4898it [09:44,  6.66it/s]5 [09:44<09:00,  6.01it/s]\u001b[A\n",
      "4899it [09:45,  7.29it/s]5 [09:44<08:06,  6.68it/s]\u001b[A\n",
      "4900it [09:45,  7.60it/s]5 [09:45<07:24,  7.31it/s]\u001b[A\n",
      "4901it [09:45,  7.98it/s]5 [09:45<07:06,  7.62it/s]\u001b[A\n",
      "4902it [09:45,  7.33it/s]5 [09:45<06:46,  7.99it/s]\u001b[A\n",
      "4903it [09:45,  7.74it/s]5 [09:45<07:22,  7.33it/s]\u001b[A\n",
      "4905it [09:45,  8.00it/s]5 [09:45<06:58,  7.74it/s]\u001b[A\n",
      "4906it [09:45,  7.43it/s]5 [09:45<06:44,  8.00it/s]\u001b[A\n",
      "4908it [09:46,  8.27it/s]5 [09:45<07:15,  7.43it/s]\u001b[A\n",
      "4909it [09:46,  8.07it/s]5 [09:46<06:31,  8.27it/s]\u001b[A\n",
      "4910it [09:46,  8.16it/s]5 [09:46<06:41,  8.07it/s]\u001b[A\n",
      "4912it [09:46,  8.68it/s]5 [09:46<06:36,  8.16it/s]\u001b[A\n",
      "4914it [09:46,  8.85it/s]5 [09:46<06:12,  8.68it/s]\u001b[A\n",
      "4915it [09:46,  8.79it/s]5 [09:46<06:04,  8.85it/s]\u001b[A\n",
      "4916it [09:47,  8.70it/s]5 [09:46<06:07,  8.79it/s]\u001b[A\n",
      "4918it [09:47,  8.63it/s]5 [09:46<06:11,  8.70it/s]\u001b[A\n",
      "4919it [09:47,  8.83it/s]5 [09:47<06:14,  8.63it/s]\u001b[A\n",
      "4920it [09:47,  8.83it/s]5 [09:47<06:05,  8.83it/s]\u001b[A\n",
      "4921it [09:47,  9.07it/s]5 [09:47<06:04,  8.84it/s]\u001b[A\n",
      "4922it [09:47,  8.11it/s]5 [09:47<05:55,  9.07it/s]\u001b[A\n",
      "4923it [09:47,  7.40it/s]5 [09:47<06:37,  8.11it/s]\u001b[A\n",
      "4925it [09:48,  8.01it/s]5 [09:47<07:15,  7.40it/s]\u001b[A\n",
      "4927it [09:48,  8.67it/s]5 [09:48<06:41,  8.01it/s]\u001b[A\n",
      "4928it [09:48,  9.01it/s]5 [09:48<06:11,  8.67it/s]\u001b[A\n",
      "4930it [09:48,  9.48it/s]5 [09:48<05:57,  9.00it/s]\u001b[A\n",
      "4931it [09:48,  9.44it/s]5 [09:48<05:39,  9.48it/s]\u001b[A\n",
      "4932it [09:48,  8.43it/s]5 [09:48<05:40,  9.43it/s]\u001b[A\n",
      "4934it [09:49,  8.79it/s]5 [09:48<06:21,  8.42it/s]\u001b[A\n",
      "4935it [09:49,  8.62it/s]5 [09:49<06:05,  8.79it/s]\u001b[A\n",
      "4936it [09:49,  8.68it/s]5 [09:49<06:12,  8.61it/s]\u001b[A\n",
      "4937it [09:49,  8.61it/s]5 [09:49<06:09,  8.68it/s]\u001b[A\n",
      "4938it [09:49,  7.81it/s]5 [09:49<06:12,  8.61it/s]\u001b[A\n",
      "4939it [09:49,  7.94it/s]5 [09:49<06:50,  7.80it/s]\u001b[A\n",
      "4940it [09:49,  7.61it/s]5 [09:49<06:43,  7.95it/s]\u001b[A\n",
      "4941it [09:49,  7.82it/s]5 [09:49<07:01,  7.61it/s]\u001b[A\n",
      "4942it [09:50,  7.65it/s]5 [09:49<06:49,  7.82it/s]\u001b[A\n",
      "4943it [09:50,  8.00it/s]5 [09:50<06:58,  7.65it/s]\u001b[A\n",
      "4944it [09:50,  8.01it/s]5 [09:50<06:40,  8.00it/s]\u001b[A\n",
      "4946it [09:50,  8.34it/s]5 [09:50<06:39,  8.01it/s]\u001b[A\n",
      "4947it [09:50,  8.29it/s]5 [09:50<06:23,  8.34it/s]\u001b[A\n",
      "4948it [09:50,  8.46it/s]5 [09:50<06:25,  8.29it/s]\u001b[A\n",
      "4949it [09:50,  8.09it/s]5 [09:50<06:18,  8.46it/s]\u001b[A\n",
      "4950it [09:51,  8.33it/s]5 [09:50<06:34,  8.09it/s]\u001b[A\n",
      "4951it [09:51,  7.75it/s]5 [09:50<06:23,  8.33it/s]\u001b[A\n",
      "4952it [09:51,  8.17it/s]5 [09:51<06:52,  7.75it/s]\u001b[A\n",
      "4953it [09:51,  8.60it/s]5 [09:51<06:30,  8.17it/s]\u001b[A\n",
      "4955it [09:51,  8.57it/s]5 [09:51<06:11,  8.59it/s]\u001b[A\n",
      "4956it [09:51,  8.29it/s]5 [09:51<06:12,  8.56it/s]\u001b[A\n",
      "4958it [09:51,  8.60it/s]5 [09:51<06:24,  8.29it/s]\u001b[A\n",
      "4959it [09:52,  7.59it/s]5 [09:51<06:10,  8.61it/s]\u001b[A\n",
      "4961it [09:52,  8.16it/s]5 [09:52<06:59,  7.60it/s]\u001b[A\n",
      "4962it [09:52,  8.00it/s]5 [09:52<06:29,  8.17it/s]\u001b[A\n",
      "4964it [09:52,  8.85it/s]5 [09:52<06:38,  8.00it/s]\u001b[A\n",
      "4966it [09:52,  9.45it/s]5 [09:52<05:59,  8.85it/s]\u001b[A\n",
      "4967it [09:52,  9.43it/s]5 [09:52<05:36,  9.45it/s]\u001b[A\n",
      "4968it [09:53,  9.44it/s]5 [09:52<05:37,  9.43it/s]\u001b[A\n",
      "4969it [09:53,  9.59it/s]5 [09:52<05:36,  9.44it/s]\u001b[A\n",
      "4970it [09:53,  7.66it/s]5 [09:53<05:31,  9.59it/s]\u001b[A\n",
      "4971it [09:53,  7.13it/s]5 [09:53<06:55,  7.65it/s]\u001b[A\n",
      "4972it [09:53,  5.71it/s]5 [09:53<07:29,  7.06it/s]\u001b[A\n",
      "4973it [09:53,  5.80it/s]5 [09:53<09:22,  5.64it/s]\u001b[A\n",
      "4974it [09:54,  6.03it/s]5 [09:53<09:03,  5.84it/s]\u001b[A\n",
      "4975it [09:54,  6.07it/s]5 [09:53<08:43,  6.06it/s]\u001b[A\n",
      "4976it [09:54,  6.42it/s]5 [09:54<08:40,  6.09it/s]\u001b[A\n",
      "4977it [09:54,  7.03it/s]5 [09:54<08:17,  6.37it/s]\u001b[A\n",
      "4978it [09:54,  7.57it/s]5 [09:54<07:28,  7.07it/s]\u001b[A\n",
      "4979it [09:54,  8.05it/s]5 [09:54<06:56,  7.60it/s]\u001b[A\n",
      "4980it [09:54,  6.94it/s]5 [09:54<06:32,  8.07it/s]\u001b[A\n",
      "4981it [09:55,  7.00it/s]5 [09:54<07:41,  6.86it/s]\u001b[A\n",
      "4982it [09:55,  7.47it/s]5 [09:54<07:29,  7.04it/s]\u001b[A\n",
      "4984it [09:55,  7.62it/s]5 [09:55<07:01,  7.50it/s]\u001b[A\n",
      "4985it [09:55,  5.96it/s]5 [09:55<06:59,  7.54it/s]\u001b[A\n",
      "4987it [09:55,  6.61it/s]5 [09:55<08:42,  6.05it/s]\u001b[A\n",
      "4989it [09:56,  7.39it/s]5 [09:55<07:52,  6.69it/s]\u001b[A\n",
      "4991it [09:56,  7.94it/s]5 [09:55<07:03,  7.46it/s]\u001b[A\n",
      "4993it [09:56,  8.55it/s]5 [09:56<06:34,  7.99it/s]\u001b[A\n",
      "4995it [09:56,  8.66it/s]5 [09:56<06:06,  8.59it/s]\u001b[A\n",
      "4996it [09:56,  8.43it/s]5 [09:56<06:02,  8.69it/s]\u001b[A\n",
      "4998it [09:56,  9.06it/s]5 [09:56<06:12,  8.45it/s]\u001b[A\n",
      "4999it [09:57,  9.17it/s]5 [09:56<05:46,  9.07it/s]\u001b[A\n",
      "5000it [09:57,  9.04it/s]5 [09:57<05:42,  9.18it/s]\u001b[A\n",
      "5001it [09:57,  9.19it/s]5 [09:57<05:47,  9.05it/s]\u001b[A\n",
      "5003it [09:57,  9.93it/s]5 [09:57<05:41,  9.20it/s]\u001b[A\n",
      "5005it [09:57,  8.87it/s]5 [09:57<05:16,  9.93it/s]\u001b[A\n",
      "5007it [09:57,  9.34it/s]5 [09:57<05:53,  8.87it/s]\u001b[A\n",
      "5008it [09:58,  9.48it/s]5 [09:57<05:35,  9.34it/s]\u001b[A\n",
      "5009it [09:58,  9.51it/s]5 [09:57<05:30,  9.48it/s]\u001b[A\n",
      "5011it [09:58,  9.71it/s]5 [09:58<05:29,  9.51it/s]\u001b[A\n",
      "5013it [09:58,  9.92it/s]5 [09:58<05:22,  9.71it/s]\u001b[A\n",
      "5015it [09:58,  9.53it/s]5 [09:58<05:15,  9.93it/s]\u001b[A\n",
      "5016it [09:58,  8.06it/s]5 [09:58<05:28,  9.53it/s]\u001b[A\n",
      "5017it [09:59,  7.73it/s]5 [09:58<06:31,  7.99it/s]\u001b[A\n",
      "5019it [09:59,  8.25it/s]5 [09:59<06:43,  7.75it/s]\u001b[A\n",
      "5020it [09:59,  8.62it/s]5 [09:59<06:18,  8.27it/s]\u001b[A\n",
      "5021it [09:59,  8.69it/s]5 [09:59<06:02,  8.63it/s]\u001b[A\n",
      "5022it [09:59,  7.50it/s]5 [09:59<05:58,  8.70it/s]\u001b[A\n",
      "5024it [09:59,  8.39it/s]5 [09:59<06:56,  7.50it/s]\u001b[A\n",
      "5025it [10:00,  7.08it/s]5 [09:59<06:11,  8.39it/s]\u001b[A\n",
      "5026it [10:00,  7.68it/s]5 [09:59<07:20,  7.08it/s]\u001b[A\n",
      "5028it [10:00,  8.43it/s]5 [10:00<06:45,  7.69it/s]\u001b[A\n",
      "5029it [10:00,  8.44it/s]5 [10:00<06:09,  8.43it/s]\u001b[A\n",
      "5030it [10:00,  7.56it/s]5 [10:00<06:09,  8.44it/s]\u001b[A\n",
      "5031it [10:00,  7.43it/s]5 [10:00<06:52,  7.56it/s]\u001b[A\n",
      "5032it [10:00,  7.50it/s]5 [10:00<07:02,  7.37it/s]\u001b[A\n",
      "5033it [10:01,  7.54it/s]5 [10:00<06:54,  7.52it/s]\u001b[A\n",
      "5034it [10:01,  7.82it/s]5 [10:00<06:52,  7.54it/s]\u001b[A\n",
      "5036it [10:01,  8.24it/s]5 [10:01<06:37,  7.84it/s]\u001b[A\n",
      "5037it [10:01,  8.14it/s]5 [10:01<06:17,  8.24it/s]\u001b[A\n",
      "5039it [10:01,  8.40it/s]5 [10:01<06:21,  8.15it/s]\u001b[A\n",
      "5040it [10:01,  7.80it/s]5 [10:01<06:11,  8.36it/s]\u001b[A\n",
      "5041it [10:01,  7.73it/s]5 [10:01<06:35,  7.85it/s]\u001b[A\n",
      "5042it [10:02,  7.93it/s]5 [10:01<06:39,  7.77it/s]\u001b[A\n",
      "5043it [10:02,  7.34it/s]5 [10:02<06:29,  7.96it/s]\u001b[A\n",
      "5044it [10:02,  7.06it/s]5 [10:02<07:01,  7.36it/s]\u001b[A\n",
      "5045it [10:02,  7.16it/s]5 [10:02<07:18,  7.07it/s]\u001b[A\n",
      "5046it [10:02,  7.40it/s]5 [10:02<07:12,  7.16it/s]\u001b[A\n",
      "5047it [10:02,  7.43it/s]5 [10:02<06:58,  7.41it/s]\u001b[A\n",
      "5048it [10:02,  7.58it/s]5 [10:02<06:58,  7.40it/s]\u001b[A\n",
      "5049it [10:03,  7.93it/s]5 [10:02<06:47,  7.60it/s]\u001b[A\n",
      "5050it [10:03,  8.26it/s]5 [10:02<06:30,  7.94it/s]\u001b[A\n",
      "5051it [10:03,  7.49it/s]5 [10:03<06:14,  8.27it/s]\u001b[A\n",
      "5052it [10:03,  7.59it/s]5 [10:03<06:52,  7.50it/s]\u001b[A\n",
      "5053it [10:03,  7.84it/s]5 [10:03<06:46,  7.60it/s]\u001b[A\n",
      "5054it [10:03,  7.19it/s]5 [10:03<06:34,  7.84it/s]\u001b[A\n",
      "5055it [10:03,  7.00it/s]5 [10:03<07:09,  7.20it/s]\u001b[A\n",
      "5056it [10:03,  7.25it/s]5 [10:03<07:21,  7.00it/s]\u001b[A\n",
      "5057it [10:04,  7.54it/s]5 [10:03<07:06,  7.25it/s]\u001b[A\n",
      "5058it [10:04,  7.33it/s]5 [10:04<06:49,  7.53it/s]\u001b[A\n",
      "5059it [10:04,  7.84it/s]5 [10:04<07:01,  7.33it/s]\u001b[A\n",
      "5060it [10:04,  8.03it/s]5 [10:04<06:33,  7.84it/s]\u001b[A\n",
      "5062it [10:04,  8.50it/s]5 [10:04<06:24,  8.03it/s]\u001b[A\n",
      "5063it [10:04,  7.99it/s]5 [10:04<06:02,  8.50it/s]\u001b[A\n",
      "5064it [10:04,  8.03it/s]5 [10:04<06:25,  7.99it/s]\u001b[A\n",
      "5065it [10:05,  6.68it/s]5 [10:04<06:23,  8.04it/s]\u001b[A\n",
      "5066it [10:05,  6.96it/s]5 [10:05<07:40,  6.68it/s]\u001b[A\n",
      "5067it [10:05,  7.04it/s]5 [10:05<07:24,  6.93it/s]\u001b[A\n",
      "5068it [10:05,  7.31it/s]5 [10:05<07:17,  7.03it/s]\u001b[A\n",
      "5069it [10:05,  6.11it/s]5 [10:05<07:10,  7.15it/s]\u001b[A\n",
      "5070it [10:05,  5.62it/s]5 [10:05<08:20,  6.15it/s]\u001b[A\n",
      "5071it [10:06,  6.22it/s]5 [10:05<09:04,  5.65it/s]\u001b[A\n",
      "5072it [10:06,  5.93it/s]5 [10:06<08:12,  6.25it/s]\u001b[A\n",
      "5073it [10:06,  5.64it/s]5 [10:06<08:39,  5.91it/s]\u001b[A\n",
      "5074it [10:06,  5.09it/s]5 [10:06<09:02,  5.66it/s]\u001b[A\n",
      "5075it [10:06,  4.90it/s]5 [10:06<10:02,  5.10it/s]\u001b[A\n",
      "5076it [10:07,  5.62it/s]5 [10:06<10:31,  4.86it/s]\u001b[A\n",
      "5077it [10:07,  4.92it/s]5 [10:07<09:03,  5.65it/s]\u001b[A\n",
      "5078it [10:07,  5.15it/s]5 [10:07<10:22,  4.93it/s]\u001b[A\n",
      "5079it [10:07,  5.51it/s]5 [10:07<10:01,  5.10it/s]\u001b[A\n",
      "5080it [10:07,  5.85it/s]5 [10:07<09:13,  5.54it/s]\u001b[A\n",
      "5081it [10:07,  6.29it/s]5 [10:07<08:41,  5.87it/s]\u001b[A\n",
      "5082it [10:08,  6.72it/s]5 [10:07<08:05,  6.31it/s]\u001b[A\n",
      "5083it [10:08,  7.19it/s]5 [10:07<07:34,  6.74it/s]\u001b[A\n",
      "5084it [10:08,  7.11it/s]5 [10:08<07:05,  7.20it/s]\u001b[A\n",
      "5085it [10:08,  7.74it/s]5 [10:08<07:10,  7.11it/s]\u001b[A\n",
      "5086it [10:08,  7.05it/s]5 [10:08<06:35,  7.74it/s]\u001b[A\n",
      "5087it [10:08,  6.45it/s]5 [10:08<07:13,  7.05it/s]\u001b[A\n",
      "5088it [10:08,  6.46it/s]5 [10:08<07:54,  6.45it/s]\u001b[A\n",
      "5089it [10:09,  7.15it/s]5 [10:08<07:52,  6.47it/s]\u001b[A\n",
      "5091it [10:09,  7.99it/s]5 [10:08<07:07,  7.15it/s]\u001b[A\n",
      "5092it [10:09,  8.10it/s]5 [10:09<06:22,  7.99it/s]\u001b[A\n",
      "5093it [10:09,  8.11it/s]5 [10:09<06:16,  8.10it/s]\u001b[A\n",
      "5094it [10:09,  8.27it/s]5 [10:09<06:16,  8.12it/s]\u001b[A\n",
      "5095it [10:09,  5.14it/s]5 [10:09<06:09,  8.27it/s]\u001b[A\n",
      "5096it [10:10,  3.97it/s]5 [10:09<09:53,  5.14it/s]\u001b[A\n",
      "5097it [10:10,  4.71it/s]5 [10:10<12:47,  3.97it/s]\u001b[A\n",
      "5099it [10:10,  5.65it/s]5 [10:10<10:46,  4.71it/s]\u001b[A\n",
      "5100it [10:10,  6.09it/s]5 [10:10<08:59,  5.65it/s]\u001b[A\n",
      "5101it [10:10,  6.85it/s]5 [10:10<08:20,  6.09it/s]\u001b[A\n",
      "5102it [10:10,  7.29it/s]5 [10:10<07:24,  6.85it/s]\u001b[A\n",
      "5103it [10:11,  7.84it/s]5 [10:10<06:57,  7.29it/s]\u001b[A\n",
      "5104it [10:11,  7.66it/s]5 [10:11<06:28,  7.84it/s]\u001b[A\n",
      "5106it [10:11,  8.19it/s]5 [10:11<06:36,  7.66it/s]\u001b[A\n",
      "5108it [10:11,  8.66it/s]5 [10:11<06:10,  8.19it/s]\u001b[A\n",
      "5109it [10:11,  9.01it/s]5 [10:11<05:50,  8.66it/s]\u001b[A\n",
      "5110it [10:11,  9.08it/s]5 [10:11<05:36,  9.01it/s]\u001b[A\n",
      "5111it [10:12,  8.02it/s]5 [10:11<05:34,  9.08it/s]\u001b[A\n",
      "5112it [10:12,  8.30it/s]5 [10:11<06:18,  8.03it/s]\u001b[A\n",
      "5114it [10:12,  8.95it/s]5 [10:12<06:05,  8.30it/s]\u001b[A\n",
      "5116it [10:12,  9.22it/s]5 [10:12<05:38,  8.95it/s]\u001b[A\n",
      "5117it [10:12,  9.41it/s]5 [10:12<05:28,  9.21it/s]\u001b[A\n",
      "5118it [10:12,  9.49it/s]5 [10:12<05:21,  9.43it/s]\u001b[A\n",
      "5119it [10:12,  9.36it/s]5 [10:12<05:18,  9.50it/s]\u001b[A\n",
      "5120it [10:12,  9.52it/s]5 [10:12<05:23,  9.37it/s]\u001b[A\n",
      "5122it [10:13,  9.62it/s]5 [10:12<05:17,  9.52it/s]\u001b[A\n",
      "5124it [10:13,  9.83it/s]5 [10:13<05:14,  9.63it/s]\u001b[A\n",
      "5126it [10:13, 11.12it/s]5 [10:13<05:07,  9.83it/s]\u001b[A\n",
      "5128it [10:13, 12.40it/s]5 [10:13<04:31, 11.13it/s]\u001b[A\n",
      "5130it [10:13, 13.74it/s]5 [10:13<04:03, 12.41it/s]\u001b[A\n",
      "5132it [10:13, 14.84it/s]5 [10:13<03:39, 13.75it/s]\u001b[A\n",
      "5134it [10:13, 14.55it/s]5 [10:13<03:22, 14.85it/s]\u001b[A\n",
      "5136it [10:14, 13.30it/s]5 [10:13<03:26, 14.55it/s]\u001b[A\n",
      "5138it [10:14, 12.24it/s]5 [10:14<03:46, 13.30it/s]\u001b[A\n",
      "5140it [10:14, 11.47it/s]5 [10:14<04:05, 12.23it/s]\u001b[A\n",
      "5142it [10:14, 10.17it/s]5 [10:14<04:21, 11.47it/s]\u001b[A\n",
      "5144it [10:14, 10.45it/s]5 [10:14<04:55, 10.17it/s]\u001b[A\n",
      "5146it [10:15, 10.09it/s]5 [10:14<04:47, 10.45it/s]\u001b[A\n",
      "5148it [10:15,  8.61it/s]5 [10:15<04:57, 10.09it/s]\u001b[A\n",
      "5149it [10:15,  8.48it/s]5 [10:15<05:48,  8.61it/s]\u001b[A\n",
      "5150it [10:15,  8.84it/s]5 [10:15<05:53,  8.48it/s]\u001b[A\n",
      "5151it [10:15,  8.65it/s]5 [10:15<05:39,  8.83it/s]\u001b[A\n",
      "5152it [10:15,  8.50it/s]5 [10:15<05:46,  8.65it/s]\u001b[A\n",
      "5153it [10:16,  7.90it/s]5 [10:15<05:52,  8.50it/s]\u001b[A\n",
      "5154it [10:16,  7.63it/s]5 [10:16<06:18,  7.90it/s]\u001b[A\n",
      "5155it [10:16,  7.32it/s]5 [10:16<06:32,  7.63it/s]\u001b[A\n",
      "5156it [10:16,  7.22it/s]5 [10:16<06:48,  7.32it/s]\u001b[A\n",
      "5157it [10:16,  7.18it/s]5 [10:16<06:54,  7.22it/s]\u001b[A\n",
      "5158it [10:16,  7.23it/s]5 [10:16<06:56,  7.18it/s]\u001b[A\n",
      "5159it [10:16,  7.53it/s]5 [10:16<06:53,  7.23it/s]\u001b[A\n",
      "5160it [10:17,  7.75it/s]5 [10:16<06:36,  7.53it/s]\u001b[A\n",
      "5161it [10:17,  7.46it/s]5 [10:16<06:25,  7.75it/s]\u001b[A\n",
      "5162it [10:17,  7.87it/s]5 [10:17<06:40,  7.46it/s]\u001b[A\n",
      "5163it [10:17,  7.45it/s]5 [10:17<06:18,  7.87it/s]\u001b[A\n",
      "5164it [10:17,  7.44it/s]5 [10:17<06:40,  7.45it/s]\u001b[A\n",
      "5165it [10:17,  7.63it/s]5 [10:17<06:40,  7.45it/s]\u001b[A\n",
      "5166it [10:17,  7.85it/s]5 [10:17<06:30,  7.63it/s]\u001b[A\n",
      "5167it [10:17,  7.38it/s]5 [10:17<06:19,  7.85it/s]\u001b[A\n",
      "5168it [10:18,  6.66it/s]5 [10:17<06:43,  7.38it/s]\u001b[A\n",
      "5169it [10:18,  7.40it/s]5 [10:18<07:26,  6.66it/s]\u001b[A\n",
      "5171it [10:18,  7.92it/s]5 [10:18<06:42,  7.40it/s]\u001b[A\n",
      "5172it [10:18,  8.23it/s]5 [10:18<06:15,  7.92it/s]\u001b[A\n",
      "5173it [10:18,  8.27it/s]5 [10:18<06:01,  8.23it/s]\u001b[A\n",
      "5174it [10:18,  7.31it/s]5 [10:18<05:59,  8.27it/s]\u001b[A\n",
      "5175it [10:19,  6.09it/s]5 [10:18<06:46,  7.31it/s]\u001b[A\n",
      "5176it [10:19,  5.72it/s]5 [10:19<08:07,  6.09it/s]\u001b[A\n",
      "5177it [10:19,  5.84it/s]5 [10:19<08:39,  5.72it/s]\u001b[A\n",
      "5179it [10:19,  6.41it/s]5 [10:19<08:28,  5.84it/s]\u001b[A\n",
      "5180it [10:19,  6.71it/s]5 [10:19<07:42,  6.41it/s]\u001b[A\n",
      "5181it [10:19,  6.67it/s]5 [10:19<07:21,  6.71it/s]\u001b[A\n",
      "5182it [10:20,  6.59it/s]5 [10:19<07:24,  6.67it/s]\u001b[A\n",
      "5183it [10:20,  7.16it/s]5 [10:20<07:29,  6.59it/s]\u001b[A\n",
      "5184it [10:20,  7.13it/s]5 [10:20<06:53,  7.16it/s]\u001b[A\n",
      "5185it [10:20,  7.73it/s]5 [10:20<06:55,  7.12it/s]\u001b[A\n",
      "5186it [10:20,  7.11it/s]5 [10:20<06:22,  7.73it/s]\u001b[A\n",
      "5188it [10:20,  7.18it/s]5 [10:20<06:56,  7.11it/s]\u001b[A\n",
      "5189it [10:21,  6.90it/s]5 [10:20<06:52,  7.18it/s]\u001b[A\n",
      "5190it [10:21,  6.98it/s]5 [10:21<07:08,  6.90it/s]\u001b[A\n",
      "5191it [10:21,  6.99it/s]5 [10:21<07:03,  6.98it/s]\u001b[A\n",
      "5192it [10:21,  6.40it/s]5 [10:21<07:02,  6.98it/s]\u001b[A\n",
      "5193it [10:21,  6.86it/s]5 [10:21<07:41,  6.40it/s]\u001b[A\n",
      "5194it [10:21,  7.32it/s]5 [10:21<07:09,  6.87it/s]\u001b[A\n",
      "5196it [10:21,  7.81it/s]5 [10:21<06:43,  7.32it/s]\u001b[A\n",
      "5197it [10:22,  8.19it/s]5 [10:21<06:17,  7.81it/s]\u001b[A\n",
      "5198it [10:22,  8.65it/s]5 [10:22<06:00,  8.19it/s]\u001b[A\n",
      "5199it [10:22,  8.95it/s]5 [10:22<05:40,  8.64it/s]\u001b[A\n",
      "5200it [10:22,  8.86it/s]5 [10:22<05:29,  8.95it/s]\u001b[A\n",
      "5201it [10:22,  8.77it/s]5 [10:22<05:32,  8.86it/s]\u001b[A\n",
      "5202it [10:22,  8.93it/s]5 [10:22<05:35,  8.77it/s]\u001b[A\n",
      "5203it [10:22,  8.52it/s]5 [10:22<05:29,  8.93it/s]\u001b[A\n",
      "5204it [10:22,  8.83it/s]5 [10:22<05:45,  8.52it/s]\u001b[A\n",
      "5205it [10:22,  8.85it/s]5 [10:22<05:33,  8.83it/s]\u001b[A\n",
      "5207it [10:23,  9.31it/s]5 [10:22<05:32,  8.85it/s]\u001b[A\n",
      "5208it [10:23,  9.22it/s]5 [10:23<05:15,  9.31it/s]\u001b[A\n",
      "5209it [10:23,  8.79it/s]5 [10:23<05:18,  9.22it/s]\u001b[A\n",
      "5211it [10:23,  9.49it/s]5 [10:23<05:34,  8.79it/s]\u001b[A\n",
      "5212it [10:23,  9.48it/s]5 [10:23<05:09,  9.49it/s]\u001b[A\n",
      "5213it [10:23,  9.62it/s]5 [10:23<05:09,  9.48it/s]\u001b[A\n",
      "5214it [10:23,  9.08it/s]5 [10:23<05:04,  9.62it/s]\u001b[A\n",
      "5215it [10:24,  8.98it/s]5 [10:23<05:23,  9.07it/s]\u001b[A\n",
      "5216it [10:24,  8.54it/s]5 [10:23<05:25,  8.99it/s]\u001b[A\n",
      "5218it [10:24,  8.61it/s]5 [10:24<05:43,  8.54it/s]\u001b[A\n",
      "5219it [10:24,  8.05it/s]5 [10:24<05:39,  8.61it/s]\u001b[A\n",
      "5220it [10:24,  8.27it/s]5 [10:24<06:04,  8.03it/s]\u001b[A\n",
      "5221it [10:24,  7.81it/s]5 [10:24<05:53,  8.27it/s]\u001b[A\n",
      "5222it [10:24,  7.18it/s]5 [10:24<06:14,  7.80it/s]\u001b[A\n",
      "5223it [10:25,  7.57it/s]5 [10:24<06:47,  7.18it/s]\u001b[A\n",
      "5224it [10:25,  7.37it/s]5 [10:25<06:26,  7.57it/s]\u001b[A\n",
      "5225it [10:25,  6.98it/s]5 [10:25<06:36,  7.37it/s]\u001b[A\n",
      "5226it [10:25,  5.63it/s]5 [10:25<06:58,  6.98it/s]\u001b[A\n",
      "5227it [10:25,  5.86it/s]5 [10:25<08:38,  5.63it/s]\u001b[A\n",
      "5228it [10:25,  6.62it/s]5 [10:25<08:17,  5.86it/s]\u001b[A\n",
      "5229it [10:26,  6.84it/s]5 [10:25<07:20,  6.63it/s]\u001b[A\n",
      "5230it [10:26,  6.06it/s]5 [10:25<07:06,  6.84it/s]\u001b[A\n",
      "5231it [10:26,  6.37it/s]5 [10:26<08:01,  6.06it/s]\u001b[A\n",
      "5232it [10:26,  6.05it/s]5 [10:26<07:37,  6.37it/s]\u001b[A\n",
      "5233it [10:26,  6.12it/s]5 [10:26<08:01,  6.05it/s]\u001b[A\n",
      "5234it [10:26,  6.51it/s]5 [10:26<07:55,  6.12it/s]\u001b[A\n",
      "5235it [10:27,  6.52it/s]5 [10:26<07:27,  6.51it/s]\u001b[A\n",
      "5236it [10:27,  7.28it/s]5 [10:26<07:26,  6.52it/s]\u001b[A\n",
      "5237it [10:27,  7.90it/s]5 [10:27<06:39,  7.27it/s]\u001b[A\n",
      "5238it [10:27,  7.64it/s]5 [10:27<06:08,  7.90it/s]\u001b[A\n",
      "5239it [10:27,  8.01it/s]5 [10:27<06:20,  7.65it/s]\u001b[A\n",
      "5240it [10:27,  7.56it/s]5 [10:27<06:02,  8.01it/s]\u001b[A\n",
      "5241it [10:27,  7.84it/s]5 [10:27<06:24,  7.56it/s]\u001b[A\n",
      "5242it [10:27,  8.08it/s]5 [10:27<06:10,  7.84it/s]\u001b[A\n",
      "5243it [10:28,  7.45it/s]5 [10:27<05:59,  8.07it/s]\u001b[A\n",
      "5244it [10:28,  7.70it/s]5 [10:27<06:29,  7.45it/s]\u001b[A\n",
      "5245it [10:28,  7.81it/s]5 [10:28<06:16,  7.70it/s]\u001b[A\n",
      "5246it [10:28,  7.41it/s]5 [10:28<06:11,  7.81it/s]\u001b[A\n",
      "5247it [10:28,  7.61it/s]5 [10:28<06:31,  7.41it/s]\u001b[A\n",
      "5248it [10:28,  7.92it/s]5 [10:28<06:20,  7.61it/s]\u001b[A\n",
      "5249it [10:28,  7.60it/s]5 [10:28<06:05,  7.93it/s]\u001b[A\n",
      "5250it [10:28,  7.59it/s]5 [10:28<06:20,  7.60it/s]\u001b[A\n",
      "5251it [10:29,  7.80it/s]5 [10:28<06:21,  7.59it/s]\u001b[A\n",
      "5252it [10:29,  7.89it/s]5 [10:28<06:11,  7.80it/s]\u001b[A\n",
      "5253it [10:29,  8.02it/s]5 [10:29<06:06,  7.89it/s]\u001b[A\n",
      "5254it [10:29,  8.20it/s]5 [10:29<06:00,  8.02it/s]\u001b[A\n",
      "5255it [10:29,  8.21it/s]5 [10:29<05:52,  8.20it/s]\u001b[A\n",
      "5257it [10:29,  8.68it/s]5 [10:29<05:51,  8.22it/s]\u001b[A\n",
      "5258it [10:29,  8.02it/s]5 [10:29<05:32,  8.68it/s]\u001b[A\n",
      "5259it [10:29,  8.01it/s]5 [10:29<05:59,  8.02it/s]\u001b[A\n",
      "5261it [10:30,  8.35it/s]5 [10:29<06:00,  8.01it/s]\u001b[A\n",
      "5262it [10:30,  8.74it/s]5 [10:30<05:45,  8.35it/s]\u001b[A\n",
      "5264it [10:30,  8.90it/s]5 [10:30<05:29,  8.75it/s]\u001b[A\n",
      "5265it [10:30,  8.87it/s]5 [10:30<05:23,  8.90it/s]\u001b[A\n",
      "5266it [10:30,  7.93it/s]5 [10:30<05:24,  8.88it/s]\u001b[A\n",
      "5267it [10:30,  7.65it/s]5 [10:30<06:03,  7.93it/s]\u001b[A\n",
      "5268it [10:31,  7.88it/s]5 [10:30<06:16,  7.65it/s]\u001b[A\n",
      "5269it [10:31,  8.41it/s]5 [10:30<06:05,  7.88it/s]\u001b[A\n",
      "5271it [10:31,  8.86it/s]5 [10:31<05:40,  8.45it/s]\u001b[A\n",
      "5272it [10:31,  8.61it/s]5 [10:31<05:25,  8.84it/s]\u001b[A\n",
      "5274it [10:31,  9.23it/s]5 [10:31<05:34,  8.60it/s]\u001b[A\n",
      "5276it [10:31,  9.57it/s]5 [10:31<05:11,  9.23it/s]\u001b[A\n",
      "5277it [10:31,  9.61it/s]5 [10:31<05:00,  9.56it/s]\u001b[A\n",
      "5278it [10:32,  8.96it/s]5 [10:31<04:58,  9.60it/s]\u001b[A\n",
      "5279it [10:32,  9.17it/s]5 [10:32<05:20,  8.95it/s]\u001b[A\n",
      "5280it [10:32,  8.89it/s]5 [10:32<05:12,  9.16it/s]\u001b[A\n",
      "5281it [10:32,  8.55it/s]5 [10:32<05:22,  8.88it/s]\u001b[A\n",
      "5282it [10:32,  8.32it/s]5 [10:32<05:34,  8.56it/s]\u001b[A\n",
      "5284it [10:32,  8.67it/s]5 [10:32<05:43,  8.32it/s]\u001b[A\n",
      "5285it [10:32,  8.62it/s]5 [10:32<05:30,  8.67it/s]\u001b[A\n",
      "5286it [10:32,  8.63it/s]5 [10:32<05:31,  8.63it/s]\u001b[A\n",
      "5287it [10:33,  8.68it/s]5 [10:32<05:31,  8.63it/s]\u001b[A\n",
      "5288it [10:33,  8.48it/s]5 [10:33<05:29,  8.68it/s]\u001b[A\n",
      "5289it [10:33,  8.32it/s]5 [10:33<05:36,  8.48it/s]\u001b[A\n",
      "5291it [10:33,  8.83it/s]5 [10:33<05:43,  8.32it/s]\u001b[A\n",
      "5292it [10:33,  8.20it/s]5 [10:33<05:23,  8.83it/s]\u001b[A\n",
      "5293it [10:33,  7.65it/s]5 [10:33<05:48,  8.19it/s]\u001b[A\n",
      "5294it [10:33,  7.51it/s]5 [10:33<06:12,  7.65it/s]\u001b[A\n",
      "5295it [10:34,  7.57it/s]5 [10:33<06:19,  7.51it/s]\u001b[A\n",
      "5296it [10:34,  7.64it/s]5 [10:34<06:16,  7.57it/s]\u001b[A\n",
      "5297it [10:34,  7.19it/s]5 [10:34<06:12,  7.64it/s]\u001b[A\n",
      "5298it [10:34,  6.94it/s]5 [10:34<06:36,  7.19it/s]\u001b[A\n",
      "5299it [10:34,  7.55it/s]5 [10:34<06:50,  6.93it/s]\u001b[A\n",
      "5301it [10:34,  8.29it/s]5 [10:34<06:16,  7.55it/s]\u001b[A\n",
      "5302it [10:34,  8.49it/s]5 [10:34<05:43,  8.29it/s]\u001b[A\n",
      "5303it [10:35,  8.79it/s]5 [10:34<05:35,  8.48it/s]\u001b[A\n",
      "5304it [10:35,  8.79it/s]5 [10:35<05:23,  8.79it/s]\u001b[A\n",
      "5305it [10:35,  8.36it/s]5 [10:35<05:23,  8.79it/s]\u001b[A\n",
      "5306it [10:35,  8.38it/s]5 [10:35<05:39,  8.36it/s]\u001b[A\n",
      "5307it [10:35,  8.53it/s]5 [10:35<05:39,  8.37it/s]\u001b[A\n",
      "5308it [10:35,  8.81it/s]5 [10:35<05:32,  8.53it/s]\u001b[A\n",
      "5309it [10:35,  8.88it/s]5 [10:35<05:21,  8.81it/s]\u001b[A\n",
      "5310it [10:35,  9.03it/s]5 [10:35<05:19,  8.88it/s]\u001b[A\n",
      "5312it [10:36,  9.06it/s]5 [10:35<05:14,  9.03it/s]\u001b[A\n",
      "5313it [10:36,  9.14it/s]5 [10:36<05:12,  9.06it/s]\u001b[A\n",
      "5315it [10:36,  9.61it/s]5 [10:36<05:09,  9.14it/s]\u001b[A\n",
      "5316it [10:36,  9.57it/s]5 [10:36<04:54,  9.61it/s]\u001b[A\n",
      "5317it [10:36,  9.33it/s]5 [10:36<04:55,  9.57it/s]\u001b[A\n",
      "5319it [10:36,  9.42it/s]5 [10:36<05:03,  9.33it/s]\u001b[A\n",
      "5320it [10:36,  8.78it/s]5 [10:36<04:59,  9.43it/s]\u001b[A\n",
      "5321it [10:37,  8.21it/s]5 [10:36<05:21,  8.78it/s]\u001b[A\n",
      "5322it [10:37,  7.80it/s]5 [10:37<05:44,  8.21it/s]\u001b[A\n",
      "5323it [10:37,  6.95it/s]5 [10:37<06:01,  7.80it/s]\u001b[A\n",
      "5324it [10:37,  6.32it/s]5 [10:37<06:47,  6.92it/s]\u001b[A\n",
      "5326it [10:37,  6.60it/s]5 [10:37<07:26,  6.32it/s]\u001b[A\n",
      "5327it [10:38,  5.84it/s]5 [10:37<07:07,  6.60it/s]\u001b[A\n",
      "5328it [10:38,  6.61it/s]5 [10:38<08:02,  5.84it/s]\u001b[A\n",
      "5329it [10:38,  6.23it/s]5 [10:38<07:08,  6.57it/s]\u001b[A\n",
      "5330it [10:38,  7.03it/s]5 [10:38<07:30,  6.25it/s]\u001b[A\n",
      "5331it [10:38,  7.56it/s]5 [10:38<06:39,  7.04it/s]\u001b[A\n",
      "5332it [10:38,  8.00it/s]5 [10:38<06:11,  7.58it/s]\u001b[A\n",
      "5333it [10:38,  8.12it/s]5 [10:38<05:50,  8.01it/s]\u001b[A\n",
      "5334it [10:38,  6.82it/s]5 [10:38<05:48,  8.07it/s]\u001b[A\n",
      "5335it [10:39,  5.50it/s]5 [10:38<06:57,  6.73it/s]\u001b[A\n",
      "5336it [10:39,  5.52it/s]5 [10:39<08:36,  5.44it/s]\u001b[A\n",
      "5337it [10:39,  5.71it/s]5 [10:39<08:24,  5.57it/s]\u001b[A\n",
      "5338it [10:39,  5.21it/s]5 [10:39<08:08,  5.75it/s]\u001b[A\n",
      "5339it [10:40,  4.88it/s]5 [10:39<08:56,  5.23it/s]\u001b[A\n",
      "5340it [10:40,  4.64it/s]5 [10:40<09:37,  4.86it/s]\u001b[A\n",
      "5341it [10:40,  5.04it/s]5 [10:40<10:20,  4.52it/s]\u001b[A\n",
      "5342it [10:40,  5.66it/s]5 [10:40<09:09,  5.10it/s]\u001b[A\n",
      "5343it [10:40,  5.75it/s]5 [10:40<08:10,  5.72it/s]\u001b[A\n",
      "5344it [10:40,  6.44it/s]5 [10:40<08:03,  5.79it/s]\u001b[A\n",
      "5345it [10:41,  6.38it/s]5 [10:40<07:23,  6.31it/s]\u001b[A\n",
      "5346it [10:41,  5.43it/s]5 [10:40<07:14,  6.45it/s]\u001b[A\n",
      "5347it [10:41,  5.75it/s]5 [10:41<08:35,  5.43it/s]\u001b[A\n",
      "5348it [10:41,  6.29it/s]5 [10:41<08:03,  5.79it/s]\u001b[A\n",
      "5349it [10:41,  6.02it/s]5 [10:41<07:22,  6.33it/s]\u001b[A\n",
      "5350it [10:41,  6.16it/s]5 [10:41<07:48,  5.96it/s]\u001b[A\n",
      "5351it [10:42,  6.26it/s]5 [10:41<07:30,  6.21it/s]\u001b[A\n",
      "5352it [10:42,  6.76it/s]5 [10:41<07:24,  6.29it/s]\u001b[A\n",
      "5353it [10:42,  5.61it/s]5 [10:42<06:51,  6.78it/s]\u001b[A\n",
      "5354it [10:42,  5.88it/s]5 [10:42<08:16,  5.62it/s]\u001b[A\n",
      "5355it [10:42,  5.27it/s]5 [10:42<07:54,  5.88it/s]\u001b[A\n",
      "5356it [10:43,  4.87it/s]5 [10:42<08:48,  5.28it/s]\u001b[A\n",
      "5357it [10:43,  5.45it/s]5 [10:42<09:32,  4.87it/s]\u001b[A\n",
      "5358it [10:43,  6.01it/s]5 [10:43<08:31,  5.45it/s]\u001b[A\n",
      "5359it [10:43,  5.56it/s]5 [10:43<07:43,  6.02it/s]\u001b[A\n",
      "5360it [10:43,  5.22it/s]5 [10:43<08:25,  5.51it/s]\u001b[A\n",
      "5361it [10:43,  5.12it/s]5 [10:43<08:53,  5.22it/s]\u001b[A\n",
      "5362it [10:44,  5.14it/s]5 [10:43<09:02,  5.13it/s]\u001b[A\n",
      "5363it [10:44,  5.96it/s]5 [10:44<09:00,  5.15it/s]\u001b[A\n",
      "5365it [10:44,  6.89it/s]5 [10:44<07:45,  5.97it/s]\u001b[A\n",
      "5366it [10:44,  7.45it/s]5 [10:44<06:42,  6.90it/s]\u001b[A\n",
      "5368it [10:44,  7.91it/s]5 [10:44<06:12,  7.45it/s]\u001b[A\n",
      "5370it [10:44,  8.62it/s]5 [10:44<05:50,  7.92it/s]\u001b[A\n",
      "5371it [10:45,  8.65it/s]5 [10:44<05:21,  8.62it/s]\u001b[A\n",
      "5372it [10:45,  7.70it/s]5 [10:44<05:20,  8.65it/s]\u001b[A\n",
      "5373it [10:45,  7.24it/s]5 [10:45<05:59,  7.71it/s]\u001b[A\n",
      "5374it [10:45,  7.67it/s]5 [10:45<06:23,  7.24it/s]\u001b[A\n",
      "5375it [10:45,  5.86it/s]5 [10:45<06:07,  7.53it/s]\u001b[A\n",
      "5376it [10:45,  6.01it/s]5 [10:45<07:50,  5.88it/s]\u001b[A\n",
      "5377it [10:46,  6.38it/s]5 [10:45<07:39,  6.03it/s]\u001b[A\n",
      "5378it [10:46,  6.59it/s]5 [10:45<07:13,  6.39it/s]\u001b[A\n",
      "5379it [10:46,  7.02it/s]5 [10:46<06:59,  6.60it/s]\u001b[A\n",
      "5380it [10:46,  5.42it/s]5 [10:46<06:33,  7.03it/s]\u001b[A\n",
      "5381it [10:46,  6.22it/s]5 [10:46<08:32,  5.39it/s]\u001b[A\n",
      "5382it [10:46,  6.87it/s]5 [10:46<07:23,  6.24it/s]\u001b[A\n",
      "5383it [10:46,  6.24it/s]5 [10:46<06:41,  6.88it/s]\u001b[A\n",
      "5384it [10:47,  6.20it/s]5 [10:46<07:23,  6.23it/s]\u001b[A\n",
      "5385it [10:47,  5.65it/s]5 [10:47<07:24,  6.21it/s]\u001b[A\n",
      "5386it [10:47,  6.49it/s]5 [10:47<08:08,  5.65it/s]\u001b[A\n",
      "5387it [10:47,  6.51it/s]5 [10:47<07:05,  6.49it/s]\u001b[A\n",
      "5388it [10:47,  7.00it/s]5 [10:47<07:03,  6.51it/s]\u001b[A\n",
      "5389it [10:47,  6.85it/s]5 [10:47<06:33,  7.01it/s]\u001b[A\n",
      "5390it [10:48,  6.36it/s]5 [10:47<06:44,  6.82it/s]\u001b[A\n",
      "5391it [10:48,  7.05it/s]5 [10:48<07:11,  6.38it/s]\u001b[A\n",
      "5392it [10:48,  7.33it/s]5 [10:48<06:29,  7.07it/s]\u001b[A\n",
      "5393it [10:48,  7.46it/s]5 [10:48<06:15,  7.34it/s]\u001b[A\n",
      "5394it [10:48,  7.68it/s]5 [10:48<06:08,  7.47it/s]\u001b[A\n",
      "5395it [10:48,  7.22it/s]5 [10:48<05:58,  7.68it/s]\u001b[A\n",
      "5396it [10:48,  7.43it/s]5 [10:48<06:20,  7.22it/s]\u001b[A\n",
      "5397it [10:49,  6.71it/s]5 [10:48<06:09,  7.43it/s]\u001b[A\n",
      "5398it [10:49,  6.58it/s]5 [10:48<06:49,  6.71it/s]\u001b[A\n",
      "5399it [10:49,  7.28it/s]5 [10:49<06:57,  6.58it/s]\u001b[A\n",
      "5400it [10:49,  7.59it/s]5 [10:49<06:16,  7.28it/s]\u001b[A\n",
      "5401it [10:49,  7.74it/s]5 [10:49<06:01,  7.59it/s]\u001b[A\n",
      "5402it [10:49,  8.00it/s]5 [10:49<05:54,  7.73it/s]\u001b[A\n",
      "5403it [10:49,  8.04it/s]5 [10:49<05:42,  8.00it/s]\u001b[A\n",
      "5404it [10:49,  8.12it/s]5 [10:49<05:40,  8.04it/s]\u001b[A\n",
      "5405it [10:50,  8.06it/s]5 [10:49<05:37,  8.12it/s]\u001b[A\n",
      "5406it [10:50,  8.27it/s]5 [10:49<05:39,  8.06it/s]\u001b[A\n",
      "5407it [10:50,  8.69it/s]5 [10:50<05:31,  8.27it/s]\u001b[A\n",
      "5409it [10:50,  9.15it/s]5 [10:50<05:15,  8.69it/s]\u001b[A\n",
      "5410it [10:50,  8.85it/s]5 [10:50<04:59,  9.15it/s]\u001b[A\n",
      "5411it [10:50,  9.06it/s]5 [10:50<05:08,  8.85it/s]\u001b[A\n",
      "5412it [10:50,  8.81it/s]5 [10:50<05:02,  9.03it/s]\u001b[A\n",
      "5413it [10:50,  8.60it/s]5 [10:50<05:09,  8.82it/s]\u001b[A\n",
      "5415it [10:51,  8.55it/s]5 [10:50<05:17,  8.60it/s]\u001b[A\n",
      "5416it [10:51,  8.70it/s]5 [10:51<05:19,  8.56it/s]\u001b[A\n",
      "5417it [10:51,  7.43it/s]5 [10:51<05:13,  8.69it/s]\u001b[A\n",
      "5418it [10:51,  7.74it/s]5 [10:51<06:07,  7.42it/s]\u001b[A\n",
      "5419it [10:51,  7.88it/s]5 [10:51<05:52,  7.74it/s]\u001b[A\n",
      "5420it [10:51,  8.34it/s]5 [10:51<05:46,  7.88it/s]\u001b[A\n",
      "5422it [10:51,  8.66it/s]5 [10:51<05:26,  8.34it/s]\u001b[A\n",
      "5423it [10:52,  8.82it/s]5 [10:51<05:14,  8.65it/s]\u001b[A\n",
      "5424it [10:52,  8.94it/s]5 [10:52<05:08,  8.81it/s]\u001b[A\n",
      "5426it [10:52, 10.08it/s]5 [10:52<05:04,  8.95it/s]\u001b[A\n",
      "5429it [10:52, 11.96it/s]5 [10:52<04:29, 10.09it/s]\u001b[A\n",
      "5431it [10:52, 13.39it/s]5 [10:52<03:46, 11.97it/s]\u001b[A\n",
      "5434it [10:52, 15.06it/s]5 [10:52<03:22, 13.40it/s]\u001b[A\n",
      "5436it [10:52, 14.32it/s]5 [10:52<02:59, 15.07it/s]\u001b[A\n",
      "5438it [10:53, 12.70it/s]5 [10:52<03:09, 14.32it/s]\u001b[A\n",
      "5440it [10:53, 11.90it/s]5 [10:53<03:34, 12.64it/s]\u001b[A\n",
      "5442it [10:53, 11.26it/s]5 [10:53<03:47, 11.91it/s]\u001b[A\n",
      "5444it [10:53, 10.33it/s]5 [10:53<03:59, 11.27it/s]\u001b[A\n",
      "5446it [10:53, 10.38it/s]5 [10:53<04:21, 10.33it/s]\u001b[A\n",
      "5448it [10:54,  9.74it/s]5 [10:53<04:20, 10.37it/s]\u001b[A\n",
      "5450it [10:54,  9.05it/s]5 [10:54<04:36,  9.74it/s]\u001b[A\n",
      "5451it [10:54,  7.98it/s]5 [10:54<04:57,  9.05it/s]\u001b[A\n",
      "5452it [10:54,  7.98it/s]5 [10:54<05:37,  7.98it/s]\u001b[A\n",
      "5453it [10:54,  8.19it/s]5 [10:54<05:37,  7.98it/s]\u001b[A\n",
      "5454it [10:54,  7.94it/s]5 [10:54<05:28,  8.19it/s]\u001b[A\n",
      "5455it [10:55,  7.99it/s]5 [10:54<05:38,  7.94it/s]\u001b[A\n",
      "5456it [10:55,  7.99it/s]5 [10:54<05:36,  7.99it/s]\u001b[A\n",
      "5457it [10:55,  7.95it/s]5 [10:55<05:36,  7.99it/s]\u001b[A\n",
      "5458it [10:55,  8.31it/s]5 [10:55<05:37,  7.95it/s]\u001b[A\n",
      "5459it [10:55,  7.59it/s]5 [10:55<05:23,  8.32it/s]\u001b[A\n",
      "5460it [10:55,  7.49it/s]5 [10:55<05:53,  7.59it/s]\u001b[A\n",
      "5461it [10:55,  7.44it/s]5 [10:55<05:58,  7.49it/s]\u001b[A\n",
      "5462it [10:55,  7.82it/s]5 [10:55<06:00,  7.44it/s]\u001b[A\n",
      "5464it [10:56,  8.39it/s]5 [10:55<05:42,  7.82it/s]\u001b[A\n",
      "5465it [10:56,  8.43it/s]5 [10:56<05:19,  8.39it/s]\u001b[A\n",
      "5466it [10:56,  8.19it/s]5 [10:56<05:17,  8.43it/s]\u001b[A\n",
      "5467it [10:56,  8.24it/s]5 [10:56<05:27,  8.18it/s]\u001b[A\n",
      "5468it [10:56,  8.29it/s]5 [10:56<05:25,  8.24it/s]\u001b[A\n",
      "5469it [10:56,  8.12it/s]5 [10:56<05:23,  8.28it/s]\u001b[A\n",
      "5470it [10:56,  8.45it/s]5 [10:56<05:29,  8.12it/s]\u001b[A\n",
      "5471it [10:56,  8.28it/s]5 [10:56<05:16,  8.45it/s]\u001b[A\n",
      "5472it [10:57,  7.61it/s]5 [10:56<05:22,  8.28it/s]\u001b[A\n",
      "5473it [10:57,  8.13it/s]5 [10:57<05:51,  7.61it/s]\u001b[A\n",
      "5474it [10:57,  8.59it/s]5 [10:57<05:28,  8.13it/s]\u001b[A\n",
      "5475it [10:57,  8.90it/s]5 [10:57<05:10,  8.59it/s]\u001b[A\n",
      "5476it [10:57,  9.17it/s]5 [10:57<05:00,  8.90it/s]\u001b[A\n",
      "5478it [10:57,  9.57it/s]5 [10:57<04:50,  9.17it/s]\u001b[A\n",
      "5480it [10:57, 10.17it/s]5 [10:57<04:38,  9.57it/s]\u001b[A\n",
      "5482it [10:58,  9.34it/s]5 [10:57<04:21, 10.18it/s]\u001b[A\n",
      "5483it [10:58,  9.28it/s]5 [10:58<04:45,  9.34it/s]\u001b[A\n",
      "5484it [10:58,  9.20it/s]5 [10:58<04:46,  9.28it/s]\u001b[A\n",
      "5485it [10:58,  8.59it/s]5 [10:58<04:49,  9.21it/s]\u001b[A\n",
      "5486it [10:58,  8.64it/s]5 [10:58<05:09,  8.59it/s]\u001b[A\n",
      "5487it [10:58,  8.11it/s]5 [10:58<05:07,  8.64it/s]\u001b[A\n",
      "5489it [10:58,  8.61it/s]5 [10:58<05:27,  8.11it/s]\u001b[A\n",
      "5490it [10:59,  8.77it/s]5 [10:58<05:08,  8.61it/s]\u001b[A\n",
      "5491it [10:59,  8.49it/s]5 [10:59<05:02,  8.77it/s]\u001b[A\n",
      "5492it [10:59,  8.09it/s]5 [10:59<05:12,  8.49it/s]\u001b[A\n",
      "5493it [10:59,  8.09it/s]5 [10:59<05:27,  8.10it/s]\u001b[A\n",
      "5494it [10:59,  8.33it/s]5 [10:59<05:27,  8.09it/s]\u001b[A\n",
      "5495it [10:59,  8.23it/s]5 [10:59<05:18,  8.33it/s]\u001b[A\n",
      "5496it [10:59,  7.90it/s]5 [10:59<05:22,  8.23it/s]\u001b[A\n",
      "5497it [10:59,  7.85it/s]5 [10:59<05:35,  7.89it/s]\u001b[A\n",
      "5498it [11:00,  7.74it/s]5 [10:59<05:37,  7.85it/s]\u001b[A\n",
      "5499it [11:00,  7.51it/s]5 [11:00<05:42,  7.74it/s]\u001b[A\n",
      "5500it [11:00,  7.38it/s]5 [11:00<05:52,  7.51it/s]\u001b[A\n",
      "5501it [11:00,  7.41it/s]5 [11:00<05:58,  7.37it/s]\u001b[A\n",
      "5502it [11:00,  7.46it/s]5 [11:00<05:56,  7.41it/s]\u001b[A\n",
      "5503it [11:00,  7.34it/s]5 [11:00<05:54,  7.46it/s]\u001b[A\n",
      "5504it [11:00,  7.61it/s]5 [11:00<05:59,  7.34it/s]\u001b[A\n",
      "5505it [11:01,  7.85it/s]5 [11:00<05:47,  7.61it/s]\u001b[A\n",
      "5506it [11:01,  8.23it/s]5 [11:00<05:36,  7.85it/s]\u001b[A\n",
      "5507it [11:01,  8.46it/s]5 [11:01<05:20,  8.23it/s]\u001b[A\n",
      "5508it [11:01,  7.28it/s]5 [11:01<05:11,  8.46it/s]\u001b[A\n",
      "5509it [11:01,  7.57it/s]5 [11:01<06:02,  7.28it/s]\u001b[A\n",
      "5510it [11:01,  7.45it/s]5 [11:01<05:48,  7.57it/s]\u001b[A\n",
      "5511it [11:01,  7.45it/s]5 [11:01<05:53,  7.45it/s]\u001b[A\n",
      "5512it [11:01,  7.63it/s]5 [11:01<05:53,  7.46it/s]\u001b[A\n",
      "5513it [11:02,  7.75it/s]5 [11:01<05:44,  7.63it/s]\u001b[A\n",
      "5514it [11:02,  7.61it/s]5 [11:02<05:39,  7.74it/s]\u001b[A\n",
      "5515it [11:02,  8.18it/s]5 [11:02<05:45,  7.61it/s]\u001b[A\n",
      "5516it [11:02,  8.39it/s]5 [11:02<05:21,  8.18it/s]\u001b[A\n",
      "5517it [11:02,  7.82it/s]5 [11:02<05:13,  8.39it/s]\u001b[A\n",
      "5518it [11:02,  7.40it/s]5 [11:02<05:36,  7.81it/s]\u001b[A\n",
      "5519it [11:02,  7.95it/s]5 [11:02<05:54,  7.40it/s]\u001b[A\n",
      "5520it [11:02,  7.60it/s]5 [11:02<05:30,  7.94it/s]\u001b[A\n",
      "5521it [11:03,  8.09it/s]5 [11:02<05:45,  7.60it/s]\u001b[A\n",
      "5522it [11:03,  8.24it/s]5 [11:03<05:24,  8.08it/s]\u001b[A\n",
      "5523it [11:03,  8.42it/s]5 [11:03<05:18,  8.24it/s]\u001b[A\n",
      "5525it [11:03,  8.97it/s]5 [11:03<05:11,  8.42it/s]\u001b[A\n",
      "5527it [11:03,  9.29it/s]5 [11:03<04:52,  8.97it/s]\u001b[A\n",
      "5528it [11:03,  8.59it/s]5 [11:03<04:41,  9.29it/s]\u001b[A\n",
      "5529it [11:03,  8.60it/s]5 [11:03<05:04,  8.59it/s]\u001b[A\n",
      "5530it [11:04,  8.66it/s]5 [11:03<05:04,  8.60it/s]\u001b[A\n",
      "5531it [11:04,  7.47it/s]5 [11:03<05:01,  8.67it/s]\u001b[A\n",
      "5532it [11:04,  7.47it/s]5 [11:04<05:49,  7.47it/s]\u001b[A\n",
      "5533it [11:04,  7.48it/s]5 [11:04<05:49,  7.47it/s]\u001b[A\n",
      "5534it [11:04,  7.66it/s]5 [11:04<05:49,  7.48it/s]\u001b[A\n",
      "5535it [11:04,  7.54it/s]5 [11:04<05:40,  7.66it/s]\u001b[A\n",
      "5537it [11:05,  7.63it/s]5 [11:04<05:46,  7.53it/s]\u001b[A\n",
      "5538it [11:05,  7.92it/s]5 [11:04<05:41,  7.63it/s]\u001b[A\n",
      "5540it [11:05,  8.76it/s]5 [11:05<05:28,  7.92it/s]\u001b[A\n",
      "5541it [11:05,  8.55it/s]5 [11:05<04:57,  8.76it/s]\u001b[A\n",
      "5542it [11:05,  8.23it/s]5 [11:05<05:04,  8.55it/s]\u001b[A\n",
      "5543it [11:05,  7.94it/s]5 [11:05<05:16,  8.23it/s]\u001b[A\n",
      "5544it [11:05,  8.24it/s]5 [11:05<05:27,  7.94it/s]\u001b[A\n",
      "5545it [11:05,  8.36it/s]5 [11:05<05:15,  8.24it/s]\u001b[A\n",
      "5546it [11:06,  7.27it/s]5 [11:05<05:11,  8.36it/s]\u001b[A\n",
      "5548it [11:06,  8.04it/s]5 [11:06<05:57,  7.27it/s]\u001b[A\n",
      "5549it [11:06,  8.27it/s]5 [11:06<05:23,  8.04it/s]\u001b[A\n",
      "5550it [11:06,  8.18it/s]5 [11:06<05:13,  8.27it/s]\u001b[A\n",
      "5551it [11:06,  8.46it/s]5 [11:06<05:17,  8.18it/s]\u001b[A\n",
      "5553it [11:06,  8.93it/s]5 [11:06<05:06,  8.46it/s]\u001b[A\n",
      "5554it [11:06,  8.75it/s]5 [11:06<04:50,  8.94it/s]\u001b[A\n",
      "5555it [11:07,  8.92it/s]5 [11:06<04:56,  8.75it/s]\u001b[A\n",
      "5557it [11:07,  9.16it/s]5 [11:06<04:50,  8.93it/s]\u001b[A\n",
      "5559it [11:07,  9.17it/s]5 [11:07<04:42,  9.17it/s]\u001b[A\n",
      "5560it [11:07,  8.86it/s]5 [11:07<04:41,  9.17it/s]\u001b[A\n",
      "5561it [11:07,  7.11it/s]5 [11:07<04:58,  8.67it/s]\u001b[A\n",
      "5562it [11:07,  7.72it/s]5 [11:07<06:03,  7.10it/s]\u001b[A\n",
      "5564it [11:08,  8.06it/s]5 [11:07<05:32,  7.77it/s]\u001b[A\n",
      "5565it [11:08,  8.22it/s]5 [11:08<05:18,  8.10it/s]\u001b[A\n",
      "5567it [11:08,  8.24it/s]5 [11:08<05:13,  8.24it/s]\u001b[A\n",
      "5569it [11:08,  8.67it/s]5 [11:08<05:12,  8.25it/s]\u001b[A\n",
      "5571it [11:08,  8.98it/s]5 [11:08<04:56,  8.68it/s]\u001b[A\n",
      "5572it [11:09,  8.84it/s]5 [11:08<04:46,  8.99it/s]\u001b[A\n",
      "5573it [11:09,  8.93it/s]5 [11:08<04:50,  8.85it/s]\u001b[A\n",
      "5574it [11:09,  9.03it/s]5 [11:09<04:47,  8.93it/s]\u001b[A\n",
      "5575it [11:09,  8.91it/s]5 [11:09<04:44,  9.03it/s]\u001b[A\n",
      "5576it [11:09,  8.71it/s]5 [11:09<04:48,  8.91it/s]\u001b[A\n",
      "5577it [11:09,  9.05it/s]5 [11:09<04:54,  8.71it/s]\u001b[A\n",
      "5579it [11:09,  9.32it/s]5 [11:09<04:43,  9.05it/s]\u001b[A\n",
      "5580it [11:09,  9.16it/s]5 [11:09<04:35,  9.32it/s]\u001b[A\n",
      "5581it [11:09,  9.22it/s]5 [11:09<04:39,  9.17it/s]\u001b[A\n",
      "5582it [11:10,  8.88it/s]5 [11:09<04:38,  9.22it/s]\u001b[A\n",
      "5584it [11:10,  9.36it/s]5 [11:10<04:48,  8.88it/s]\u001b[A\n",
      "5585it [11:10,  9.39it/s]5 [11:10<04:33,  9.36it/s]\u001b[A\n",
      "5587it [11:10,  9.73it/s]5 [11:10<04:32,  9.38it/s]\u001b[A\n",
      "5588it [11:10,  9.26it/s]5 [11:10<04:22,  9.73it/s]\u001b[A\n",
      "5589it [11:10,  9.15it/s]5 [11:10<04:36,  9.26it/s]\u001b[A\n",
      "5591it [11:11,  9.40it/s]5 [11:10<04:39,  9.15it/s]\u001b[A\n",
      "5593it [11:11,  9.62it/s]5 [11:10<04:31,  9.40it/s]\u001b[A\n",
      "5594it [11:11,  8.98it/s]5 [11:11<04:25,  9.62it/s]\u001b[A\n",
      "5596it [11:11,  9.59it/s]5 [11:11<04:43,  8.98it/s]\u001b[A\n",
      "5598it [11:11,  9.65it/s]5 [11:11<04:25,  9.60it/s]\u001b[A\n",
      "5600it [11:11,  9.63it/s]5 [11:11<04:23,  9.65it/s]\u001b[A\n",
      "5601it [11:12,  9.32it/s]5 [11:11<04:24,  9.63it/s]\u001b[A\n",
      "5602it [11:12,  9.34it/s]5 [11:11<04:32,  9.32it/s]\u001b[A\n",
      "5603it [11:12,  8.91it/s]5 [11:12<04:32,  9.33it/s]\u001b[A\n",
      "5604it [11:12,  8.47it/s]5 [11:12<04:48,  8.82it/s]\u001b[A\n",
      "5605it [11:12,  8.16it/s]5 [11:12<05:01,  8.42it/s]\u001b[A\n",
      "5606it [11:12,  8.54it/s]5 [11:12<05:15,  8.06it/s]\u001b[A\n",
      "5607it [11:12,  8.83it/s]5 [11:12<04:57,  8.53it/s]\u001b[A\n",
      "5608it [11:12,  7.79it/s]5 [11:12<04:44,  8.91it/s]\u001b[A\n",
      "5609it [11:13,  6.37it/s]5 [11:12<05:25,  7.80it/s]\u001b[A\n",
      "5611it [11:13,  6.56it/s]5 [11:13<06:36,  6.40it/s]\u001b[A\n",
      "5613it [11:13,  7.25it/s]5 [11:13<06:25,  6.58it/s]\u001b[A\n",
      "5614it [11:13,  7.85it/s]5 [11:13<05:48,  7.27it/s]\u001b[A\n",
      "5615it [11:13,  8.19it/s]5 [11:13<05:21,  7.86it/s]\u001b[A\n",
      "5616it [11:14,  7.27it/s]5 [11:13<05:08,  8.19it/s]\u001b[A\n",
      "5617it [11:14,  7.22it/s]5 [11:13<05:47,  7.28it/s]\u001b[A\n",
      "5618it [11:14,  6.82it/s]5 [11:14<05:49,  7.23it/s]\u001b[A\n",
      "5619it [11:14,  5.77it/s]5 [11:14<06:10,  6.83it/s]\u001b[A\n",
      "5620it [11:14,  5.94it/s]5 [11:14<07:22,  5.71it/s]\u001b[A\n",
      "5621it [11:14,  6.43it/s]5 [11:14<07:03,  5.97it/s]\u001b[A\n",
      "5622it [11:14,  6.60it/s]5 [11:14<06:31,  6.45it/s]\u001b[A\n",
      "5623it [11:15,  6.49it/s]5 [11:14<06:21,  6.61it/s]\u001b[A\n",
      "5624it [11:15,  6.39it/s]5 [11:15<06:27,  6.50it/s]\u001b[A\n",
      "5625it [11:15,  6.42it/s]5 [11:15<06:34,  6.39it/s]\u001b[A\n",
      "5626it [11:15,  7.07it/s]5 [11:15<06:32,  6.43it/s]\u001b[A\n",
      "5627it [11:15,  7.60it/s]5 [11:15<05:56,  7.07it/s]\u001b[A\n",
      "5628it [11:15,  7.91it/s]5 [11:15<05:31,  7.60it/s]\u001b[A\n",
      "5629it [11:16,  6.38it/s]5 [11:15<05:18,  7.91it/s]\u001b[A\n",
      "5630it [11:16,  6.44it/s]5 [11:15<06:41,  6.26it/s]\u001b[A\n",
      "5631it [11:16,  5.79it/s]5 [11:16<06:28,  6.47it/s]\u001b[A\n",
      "5632it [11:16,  4.72it/s]5 [11:16<07:17,  5.75it/s]\u001b[A\n",
      "5633it [11:16,  4.47it/s]5 [11:16<08:53,  4.71it/s]\u001b[A\n",
      "5634it [11:17,  4.67it/s]5 [11:16<09:22,  4.46it/s]\u001b[A\n",
      "5635it [11:17,  5.18it/s]5 [11:17<08:54,  4.70it/s]\u001b[A\n",
      "5636it [11:17,  5.67it/s]5 [11:17<08:01,  5.21it/s]\u001b[A\n",
      "5638it [11:17,  6.43it/s]5 [11:17<07:21,  5.68it/s]\u001b[A\n",
      "5639it [11:17,  6.67it/s]5 [11:17<06:28,  6.45it/s]\u001b[A\n",
      "5640it [11:17,  7.21it/s]5 [11:17<06:15,  6.67it/s]\u001b[A\n",
      "5641it [11:18,  7.35it/s]5 [11:17<05:46,  7.23it/s]\u001b[A\n",
      "5642it [11:18,  7.37it/s]5 [11:17<05:40,  7.36it/s]\u001b[A\n",
      "5643it [11:18,  7.92it/s]5 [11:18<05:39,  7.37it/s]\u001b[A\n",
      "5644it [11:18,  7.28it/s]5 [11:18<05:15,  7.93it/s]\u001b[A\n",
      "5645it [11:18,  7.27it/s]5 [11:18<05:43,  7.28it/s]\u001b[A\n",
      "5647it [11:18,  8.18it/s]5 [11:18<05:43,  7.27it/s]\u001b[A\n",
      "5649it [11:18,  8.75it/s]5 [11:18<05:05,  8.19it/s]\u001b[A\n",
      "5650it [11:19,  9.00it/s]5 [11:18<04:45,  8.75it/s]\u001b[A\n",
      "5651it [11:19,  8.51it/s]5 [11:18<04:37,  9.00it/s]\u001b[A\n",
      "5652it [11:19,  8.58it/s]5 [11:19<04:53,  8.51it/s]\u001b[A\n",
      "5653it [11:19,  8.63it/s]5 [11:19<04:50,  8.57it/s]\u001b[A\n",
      "5654it [11:19,  8.84it/s]5 [11:19<04:48,  8.63it/s]\u001b[A\n",
      "5655it [11:19,  8.92it/s]5 [11:19<04:41,  8.83it/s]\u001b[A\n",
      "5656it [11:19,  8.56it/s]5 [11:19<04:39,  8.92it/s]\u001b[A\n",
      "5657it [11:19,  8.60it/s]5 [11:19<04:50,  8.56it/s]\u001b[A\n",
      "5659it [11:20,  6.89it/s]5 [11:19<04:49,  8.60it/s]\u001b[A\n",
      "5660it [11:20,  7.22it/s]5 [11:20<06:00,  6.89it/s]\u001b[A\n",
      "5661it [11:20,  7.42it/s]5 [11:20<05:44,  7.22it/s]\u001b[A\n",
      "5662it [11:20,  7.23it/s]5 [11:20<05:34,  7.42it/s]\u001b[A\n",
      "5663it [11:20,  7.35it/s]5 [11:20<05:43,  7.23it/s]\u001b[A\n",
      "5664it [11:20,  7.43it/s]5 [11:20<05:37,  7.35it/s]\u001b[A\n",
      "5665it [11:21,  7.29it/s]5 [11:20<05:33,  7.43it/s]\u001b[A\n",
      "5666it [11:21,  6.44it/s]5 [11:20<05:40,  7.29it/s]\u001b[A\n",
      "5667it [11:21,  6.77it/s]5 [11:21<06:24,  6.44it/s]\u001b[A\n",
      "5668it [11:21,  7.01it/s]5 [11:21<06:06,  6.77it/s]\u001b[A\n",
      "5669it [11:21,  7.00it/s]5 [11:21<05:53,  7.01it/s]\u001b[A\n",
      "5670it [11:21,  7.13it/s]5 [11:21<05:53,  7.00it/s]\u001b[A\n",
      "5671it [11:21,  7.51it/s]5 [11:21<05:47,  7.13it/s]\u001b[A\n",
      "5672it [11:22,  8.10it/s]5 [11:21<05:29,  7.51it/s]\u001b[A\n",
      "5673it [11:22,  7.90it/s]5 [11:21<05:05,  8.09it/s]\u001b[A\n",
      "5674it [11:22,  7.82it/s]5 [11:22<05:12,  7.90it/s]\u001b[A\n",
      "5675it [11:22,  7.55it/s]5 [11:22<05:15,  7.82it/s]\u001b[A\n",
      "5677it [11:22,  8.03it/s]5 [11:22<05:27,  7.54it/s]\u001b[A\n",
      "5678it [11:22,  7.62it/s]5 [11:22<05:07,  8.03it/s]\u001b[A\n",
      "5679it [11:22,  7.33it/s]5 [11:22<05:23,  7.62it/s]\u001b[A\n",
      "5680it [11:23,  6.91it/s]5 [11:22<05:36,  7.33it/s]\u001b[A\n",
      "5681it [11:23,  7.10it/s]5 [11:23<05:56,  6.91it/s]\u001b[A\n",
      "5682it [11:23,  7.49it/s]5 [11:23<05:46,  7.10it/s]\u001b[A\n",
      "5683it [11:23,  7.51it/s]5 [11:23<05:28,  7.49it/s]\u001b[A\n",
      "5684it [11:23,  7.41it/s]5 [11:23<05:28,  7.50it/s]\u001b[A\n",
      "5685it [11:23,  7.65it/s]5 [11:23<05:32,  7.40it/s]\u001b[A\n",
      "5686it [11:23,  7.31it/s]5 [11:23<05:21,  7.64it/s]\u001b[A\n",
      "5687it [11:24,  7.22it/s]5 [11:23<05:36,  7.31it/s]\u001b[A\n",
      "5688it [11:24,  7.45it/s]5 [11:23<05:40,  7.22it/s]\u001b[A\n",
      "5689it [11:24,  8.04it/s]5 [11:24<05:29,  7.45it/s]\u001b[A\n",
      "5690it [11:24,  8.28it/s]5 [11:24<05:05,  8.04it/s]\u001b[A\n",
      "5691it [11:24,  7.68it/s]5 [11:24<04:56,  8.28it/s]\u001b[A\n",
      "5692it [11:24,  7.84it/s]5 [11:24<05:19,  7.67it/s]\u001b[A\n",
      "5693it [11:24,  8.29it/s]5 [11:24<05:12,  7.85it/s]\u001b[A\n",
      "5694it [11:24,  7.84it/s]5 [11:24<04:55,  8.29it/s]\u001b[A\n",
      "5695it [11:25,  7.46it/s]5 [11:24<05:12,  7.84it/s]\u001b[A\n",
      "5696it [11:25,  7.59it/s]5 [11:24<05:28,  7.46it/s]\u001b[A\n",
      "5697it [11:25,  6.92it/s]5 [11:25<05:22,  7.59it/s]\u001b[A\n",
      "5698it [11:25,  6.35it/s]5 [11:25<05:53,  6.92it/s]\u001b[A\n",
      "5699it [11:25,  6.27it/s]5 [11:25<06:25,  6.35it/s]\u001b[A\n",
      "5700it [11:25,  6.66it/s]5 [11:25<06:29,  6.27it/s]\u001b[A\n",
      "5701it [11:25,  6.83it/s]5 [11:25<06:06,  6.66it/s]\u001b[A\n",
      "5702it [11:26,  6.76it/s]5 [11:25<05:57,  6.83it/s]\u001b[A\n",
      "5703it [11:26,  7.07it/s]5 [11:26<06:01,  6.76it/s]\u001b[A\n",
      "5704it [11:26,  7.55it/s]5 [11:26<05:45,  7.07it/s]\u001b[A\n",
      "5705it [11:26,  7.35it/s]5 [11:26<05:23,  7.54it/s]\u001b[A\n",
      "5706it [11:26,  7.42it/s]5 [11:26<05:31,  7.35it/s]\u001b[A\n",
      "5707it [11:26,  7.08it/s]5 [11:26<05:28,  7.42it/s]\u001b[A\n",
      "5708it [11:26,  7.64it/s]5 [11:26<05:44,  7.08it/s]\u001b[A\n",
      "5709it [11:26,  8.17it/s]5 [11:26<05:19,  7.64it/s]\u001b[A\n",
      "5711it [11:27,  8.59it/s]5 [11:26<04:58,  8.17it/s]\u001b[A\n",
      "5713it [11:27,  7.77it/s]5 [11:27<04:43,  8.59it/s]\u001b[A\n",
      "5714it [11:27,  6.30it/s]5 [11:27<05:16,  7.67it/s]\u001b[A\n",
      "5715it [11:27,  6.24it/s]5 [11:27<06:20,  6.39it/s]\u001b[A\n",
      "5716it [11:28,  5.82it/s]5 [11:27<06:27,  6.27it/s]\u001b[A\n",
      "5717it [11:28,  5.30it/s]5 [11:28<06:57,  5.81it/s]\u001b[A\n",
      "5718it [11:28,  5.23it/s]5 [11:28<07:53,  5.13it/s]\u001b[A\n",
      "5719it [11:28,  5.41it/s]5 [11:28<07:40,  5.28it/s]\u001b[A\n",
      "5720it [11:28,  5.80it/s]5 [11:28<07:26,  5.43it/s]\u001b[A\n",
      "5721it [11:28,  5.84it/s]5 [11:28<06:55,  5.83it/s]\u001b[A\n",
      "5723it [11:29,  7.10it/s]5 [11:28<06:49,  5.92it/s]\u001b[A\n",
      "5725it [11:29,  8.46it/s]5 [11:29<05:37,  7.19it/s]\u001b[A\n",
      "5727it [11:29,  9.75it/s]5 [11:29<04:43,  8.54it/s]\u001b[A\n",
      "5729it [11:29, 10.71it/s]5 [11:29<04:06,  9.82it/s]\u001b[A\n",
      "5731it [11:29, 10.63it/s]5 [11:29<03:44, 10.77it/s]\u001b[A\n",
      "5733it [11:30,  8.73it/s]5 [11:29<03:46, 10.66it/s]\u001b[A\n",
      "5735it [11:30,  7.76it/s]5 [11:30<04:36,  8.72it/s]\u001b[A\n",
      "5736it [11:30,  6.43it/s]5 [11:30<05:09,  7.78it/s]\u001b[A\n",
      "5737it [11:30,  6.53it/s]5 [11:30<06:15,  6.41it/s]\u001b[A\n",
      "5738it [11:30,  6.03it/s]5 [11:30<06:11,  6.48it/s]\u001b[A\n",
      "5739it [11:31,  6.36it/s]5 [11:30<06:37,  6.06it/s]\u001b[A\n",
      "5741it [11:31,  7.29it/s]5 [11:31<06:17,  6.38it/s]\u001b[A\n",
      "5742it [11:31,  7.35it/s]5 [11:31<05:29,  7.31it/s]\u001b[A\n",
      "5743it [11:31,  7.15it/s]5 [11:31<05:26,  7.37it/s]\u001b[A\n",
      "5744it [11:31,  7.39it/s]5 [11:31<05:35,  7.16it/s]\u001b[A\n",
      "5746it [11:32,  5.56it/s]5 [11:31<05:24,  7.39it/s]\u001b[A\n",
      "5747it [11:32,  6.22it/s]5 [11:32<07:10,  5.57it/s]\u001b[A\n",
      "5748it [11:32,  6.30it/s]5 [11:32<06:25,  6.23it/s]\u001b[A\n",
      "5749it [11:32,  6.86it/s]5 [11:32<06:20,  6.31it/s]\u001b[A\n",
      "5750it [11:32,  6.08it/s]5 [11:32<05:53,  6.77it/s]\u001b[A\n",
      "5751it [11:32,  6.79it/s]5 [11:32<06:32,  6.11it/s]\u001b[A\n",
      "5752it [11:33,  6.73it/s]5 [11:32<05:51,  6.81it/s]\u001b[A\n",
      "5753it [11:33,  7.04it/s]5 [11:33<05:55,  6.73it/s]\u001b[A\n",
      "5754it [11:33,  6.87it/s]5 [11:33<05:39,  7.05it/s]\u001b[A\n",
      "5756it [11:33,  6.20it/s]5 [11:33<05:47,  6.88it/s]\u001b[A\n",
      "5757it [11:33,  5.70it/s]5 [11:33<06:28,  6.15it/s]\u001b[A\n",
      "5758it [11:34,  6.08it/s]5 [11:33<06:58,  5.71it/s]\u001b[A\n",
      "5759it [11:34,  5.72it/s]5 [11:34<06:28,  6.15it/s]\u001b[A\n",
      "5760it [11:34,  6.50it/s]5 [11:34<06:54,  5.76it/s]\u001b[A\n",
      "5761it [11:34,  6.55it/s]5 [11:34<06:08,  6.46it/s]\u001b[A\n",
      "5762it [11:34,  6.53it/s]5 [11:34<06:00,  6.61it/s]\u001b[A\n",
      "5763it [11:34,  6.98it/s]5 [11:34<06:02,  6.57it/s]\u001b[A\n",
      "5764it [11:34,  7.36it/s]5 [11:34<05:39,  7.01it/s]\u001b[A\n",
      "5765it [11:35,  7.56it/s]5 [11:34<05:22,  7.38it/s]\u001b[A\n",
      "5766it [11:35,  6.68it/s]5 [11:35<05:14,  7.58it/s]\u001b[A\n",
      "5767it [11:35,  7.17it/s]5 [11:35<05:55,  6.69it/s]\u001b[A\n",
      "5769it [11:35,  7.28it/s]5 [11:35<05:31,  7.18it/s]\u001b[A\n",
      "5771it [11:35,  7.94it/s]5 [11:35<05:26,  7.28it/s]\u001b[A\n",
      "5772it [11:36,  6.81it/s]5 [11:35<04:58,  7.94it/s]\u001b[A\n",
      "5773it [11:36,  5.04it/s]5 [11:36<05:54,  6.69it/s]\u001b[A\n",
      "5774it [11:36,  5.80it/s]5 [11:36<07:49,  5.06it/s]\u001b[A\n",
      "5775it [11:36,  6.34it/s]5 [11:36<06:47,  5.82it/s]\u001b[A\n",
      "5777it [11:36,  6.44it/s]5 [11:36<06:12,  6.35it/s]\u001b[A\n",
      "5778it [11:37,  6.33it/s]5 [11:36<06:06,  6.45it/s]\u001b[A\n",
      "5779it [11:37,  6.49it/s]5 [11:37<06:13,  6.34it/s]\u001b[A\n",
      "5780it [11:37,  6.18it/s]5 [11:37<06:03,  6.50it/s]\u001b[A\n",
      "5781it [11:37,  6.42it/s]5 [11:37<06:27,  6.10it/s]\u001b[A\n",
      "5782it [11:37,  6.42it/s]5 [11:37<06:08,  6.42it/s]\u001b[A\n",
      "5783it [11:37,  7.05it/s]5 [11:37<06:06,  6.45it/s]\u001b[A\n",
      "5784it [11:37,  6.89it/s]5 [11:37<05:35,  7.04it/s]\u001b[A\n",
      "5785it [11:38,  7.41it/s]5 [11:37<05:41,  6.92it/s]\u001b[A\n",
      "5786it [11:38,  7.75it/s]5 [11:38<05:17,  7.43it/s]\u001b[A\n",
      "5787it [11:38,  8.01it/s]5 [11:38<05:03,  7.77it/s]\u001b[A\n",
      "5788it [11:38,  7.51it/s]5 [11:38<04:53,  8.02it/s]\u001b[A\n",
      "5790it [11:38,  8.08it/s]5 [11:38<05:13,  7.52it/s]\u001b[A\n",
      "5792it [11:38,  8.69it/s]5 [11:38<04:51,  8.09it/s]\u001b[A\n",
      "5794it [11:39,  9.27it/s]5 [11:38<04:30,  8.69it/s]\u001b[A\n",
      "5796it [11:39,  9.44it/s]5 [11:38<04:13,  9.27it/s]\u001b[A\n",
      "5797it [11:39,  8.99it/s]5 [11:39<04:08,  9.45it/s]\u001b[A\n",
      "5798it [11:39,  8.08it/s]5 [11:39<04:21,  8.99it/s]\u001b[A\n",
      "5800it [11:39,  8.51it/s]5 [11:39<04:50,  8.08it/s]\u001b[A\n",
      "5801it [11:39,  7.87it/s]5 [11:39<04:35,  8.51it/s]\u001b[A\n",
      "5803it [11:40,  8.58it/s]5 [11:39<04:57,  7.87it/s]\u001b[A\n",
      "5804it [11:40,  8.60it/s]5 [11:39<04:32,  8.58it/s]\u001b[A\n",
      "5805it [11:40,  8.04it/s]5 [11:40<04:32,  8.61it/s]\u001b[A\n",
      "5806it [11:40,  8.07it/s]5 [11:40<04:51,  8.04it/s]\u001b[A\n",
      "5807it [11:40,  8.07it/s]5 [11:40<04:49,  8.07it/s]\u001b[A\n",
      "5808it [11:40,  6.75it/s]5 [11:40<04:49,  8.06it/s]\u001b[A\n",
      "5809it [11:40,  6.88it/s]5 [11:40<05:46,  6.75it/s]\u001b[A\n",
      "5811it [11:41,  7.73it/s]5 [11:40<05:39,  6.88it/s]\u001b[A\n",
      "5812it [11:41,  8.17it/s]5 [11:41<05:01,  7.73it/s]\u001b[A\n",
      "5813it [11:41,  7.97it/s]5 [11:41<04:45,  8.17it/s]\u001b[A\n",
      "5815it [11:41,  8.14it/s]5 [11:41<04:52,  7.97it/s]\u001b[A\n",
      "5816it [11:41,  7.66it/s]5 [11:41<04:46,  8.14it/s]\u001b[A\n",
      "5818it [11:41,  8.39it/s]5 [11:41<05:03,  7.66it/s]\u001b[A\n",
      "5819it [11:42,  7.58it/s]5 [11:41<04:37,  8.39it/s]\u001b[A\n",
      "5820it [11:42,  7.84it/s]5 [11:41<05:06,  7.58it/s]\u001b[A\n",
      "5821it [11:42,  7.66it/s]5 [11:42<04:56,  7.84it/s]\u001b[A\n",
      "5822it [11:42,  7.78it/s]5 [11:42<05:03,  7.66it/s]\u001b[A\n",
      "5823it [11:42,  7.88it/s]5 [11:42<04:58,  7.78it/s]\u001b[A\n",
      "5824it [11:42,  7.64it/s]5 [11:42<04:54,  7.88it/s]\u001b[A\n",
      "5825it [11:42,  7.67it/s]5 [11:42<05:03,  7.64it/s]\u001b[A\n",
      "5826it [11:42,  7.68it/s]5 [11:42<05:02,  7.67it/s]\u001b[A\n",
      "5827it [11:43,  7.88it/s]5 [11:42<05:02,  7.68it/s]\u001b[A\n",
      "5828it [11:43,  7.88it/s]5 [11:43<04:54,  7.88it/s]\u001b[A\n",
      "5829it [11:43,  7.37it/s]5 [11:43<04:54,  7.88it/s]\u001b[A\n",
      "5830it [11:43,  7.64it/s]5 [11:43<05:14,  7.37it/s]\u001b[A\n",
      "5832it [11:43,  8.20it/s]5 [11:43<05:02,  7.64it/s]\u001b[A\n",
      "5833it [11:43,  8.05it/s]5 [11:43<04:42,  8.19it/s]\u001b[A\n",
      "5834it [11:43,  8.28it/s]5 [11:43<04:46,  8.06it/s]\u001b[A\n",
      "5836it [11:44,  8.72it/s]5 [11:43<04:38,  8.29it/s]\u001b[A\n",
      "5837it [11:44,  8.42it/s]5 [11:44<04:24,  8.73it/s]\u001b[A\n",
      "5838it [11:44,  8.45it/s]5 [11:44<04:34,  8.42it/s]\u001b[A\n",
      "5839it [11:44,  8.00it/s]5 [11:44<04:33,  8.44it/s]\u001b[A\n",
      "5840it [11:44,  8.03it/s]5 [11:44<04:48,  8.00it/s]\u001b[A\n",
      "5841it [11:44,  8.03it/s]5 [11:44<04:46,  8.03it/s]\u001b[A\n",
      "5842it [11:44,  8.13it/s]5 [11:44<04:46,  8.03it/s]\u001b[A\n",
      "5843it [11:44,  8.34it/s]5 [11:44<04:43,  8.13it/s]\u001b[A\n",
      "5844it [11:45,  8.48it/s]5 [11:44<04:36,  8.34it/s]\u001b[A\n",
      "5846it [11:45,  8.98it/s]5 [11:45<04:31,  8.49it/s]\u001b[A\n",
      "5848it [11:45,  9.19it/s]5 [11:45<04:15,  8.98it/s]\u001b[A\n",
      "5850it [11:45,  9.04it/s]5 [11:45<04:09,  9.19it/s]\u001b[A\n",
      "5851it [11:45,  9.11it/s]5 [11:45<04:13,  9.04it/s]\u001b[A\n",
      "5853it [11:46,  9.51it/s]5 [11:45<04:11,  9.11it/s]\u001b[A\n",
      "5855it [11:46,  9.55it/s]5 [11:45<04:01,  9.51it/s]\u001b[A\n",
      "5857it [11:46,  9.67it/s]5 [11:46<03:59,  9.55it/s]\u001b[A\n",
      "5858it [11:46,  8.18it/s]5 [11:46<03:56,  9.67it/s]\u001b[A\n",
      "5859it [11:46,  8.59it/s]5 [11:46<04:39,  8.18it/s]\u001b[A\n",
      "5860it [11:46,  8.97it/s]5 [11:46<04:26,  8.59it/s]\u001b[A\n",
      "5861it [11:46,  9.05it/s]5 [11:46<04:14,  8.96it/s]\u001b[A\n",
      "5863it [11:47,  9.41it/s]5 [11:46<04:12,  9.05it/s]\u001b[A\n",
      "5864it [11:47,  9.32it/s]5 [11:47<04:02,  9.41it/s]\u001b[A\n",
      "5865it [11:47,  8.55it/s]5 [11:47<04:04,  9.32it/s]\u001b[A\n",
      "5866it [11:47,  8.20it/s]5 [11:47<04:26,  8.55it/s]\u001b[A\n",
      "5868it [11:47,  8.43it/s]5 [11:47<04:38,  8.20it/s]\u001b[A\n",
      "5870it [11:47,  8.71it/s]5 [11:47<04:30,  8.43it/s]\u001b[A\n",
      "5871it [11:48,  8.81it/s]5 [11:47<04:21,  8.71it/s]\u001b[A\n",
      "5872it [11:48,  8.71it/s]5 [11:47<04:18,  8.81it/s]\u001b[A\n",
      "5873it [11:48,  7.71it/s]5 [11:48<04:21,  8.71it/s]\u001b[A\n",
      "5874it [11:48,  7.90it/s]5 [11:48<04:54,  7.71it/s]\u001b[A\n",
      "5875it [11:48,  8.42it/s]5 [11:48<04:47,  7.90it/s]\u001b[A\n",
      "5876it [11:48,  8.83it/s]5 [11:48<04:29,  8.42it/s]\u001b[A\n",
      "5877it [11:48,  8.20it/s]5 [11:48<04:16,  8.83it/s]\u001b[A\n",
      "5878it [11:48,  7.82it/s]5 [11:48<04:36,  8.21it/s]\u001b[A\n",
      "5879it [11:49,  8.21it/s]5 [11:48<04:49,  7.82it/s]\u001b[A\n",
      "5880it [11:49,  8.21it/s]5 [11:48<04:36,  8.21it/s]\u001b[A\n",
      "5881it [11:49,  8.63it/s]5 [11:49<04:35,  8.22it/s]\u001b[A\n",
      "5882it [11:49,  8.38it/s]5 [11:49<04:22,  8.63it/s]\u001b[A\n",
      "5883it [11:49,  7.82it/s]5 [11:49<04:29,  8.38it/s]\u001b[A\n",
      "5884it [11:49,  7.35it/s]5 [11:49<04:48,  7.83it/s]\u001b[A\n",
      "5885it [11:49,  7.98it/s]5 [11:49<05:07,  7.36it/s]\u001b[A\n",
      "5886it [11:49,  7.13it/s]5 [11:49<04:43,  7.98it/s]\u001b[A\n",
      "5887it [11:50,  6.91it/s]5 [11:49<05:16,  7.13it/s]\u001b[A\n",
      "5889it [11:50,  7.28it/s]5 [11:50<05:27,  6.91it/s]\u001b[A\n",
      "5890it [11:50,  7.85it/s]5 [11:50<05:09,  7.28it/s]\u001b[A\n",
      "5892it [11:50,  8.63it/s]5 [11:50<04:47,  7.85it/s]\u001b[A\n",
      "5894it [11:50,  9.11it/s]5 [11:50<04:21,  8.63it/s]\u001b[A\n",
      "5896it [11:51,  9.39it/s]5 [11:50<04:07,  9.11it/s]\u001b[A\n",
      "5898it [11:51,  9.49it/s]5 [11:50<03:59,  9.39it/s]\u001b[A\n",
      "5899it [11:51,  9.57it/s]5 [11:51<03:56,  9.48it/s]\u001b[A\n",
      "5900it [11:51,  9.31it/s]5 [11:51<03:54,  9.57it/s]\u001b[A\n",
      "5901it [11:51,  9.34it/s]5 [11:51<04:03,  9.22it/s]\u001b[A\n",
      "5902it [11:51,  9.10it/s]5 [11:51<04:02,  9.27it/s]\u001b[A\n",
      "5903it [11:51,  8.81it/s]5 [11:51<04:08,  9.04it/s]\u001b[A\n",
      "5904it [11:51,  8.59it/s]5 [11:51<04:15,  8.79it/s]\u001b[A\n",
      "5905it [11:52,  8.32it/s]5 [11:51<04:21,  8.58it/s]\u001b[A\n",
      "5906it [11:52,  8.13it/s]5 [11:51<04:30,  8.29it/s]\u001b[A\n",
      "5907it [11:52,  8.19it/s]5 [11:52<04:35,  8.12it/s]\u001b[A\n",
      "5908it [11:52,  8.21it/s]5 [11:52<04:33,  8.19it/s]\u001b[A\n",
      "5909it [11:52,  8.48it/s]5 [11:52<04:32,  8.20it/s]\u001b[A\n",
      "5910it [11:52,  8.34it/s]5 [11:52<04:23,  8.49it/s]\u001b[A\n",
      "5911it [11:52,  8.15it/s]5 [11:52<04:28,  8.33it/s]\u001b[A\n",
      "5912it [11:52,  8.08it/s]5 [11:52<04:34,  8.15it/s]\u001b[A\n",
      "5913it [11:52,  8.46it/s]5 [11:52<04:36,  8.07it/s]\u001b[A\n",
      "5914it [11:53,  8.29it/s]5 [11:52<04:23,  8.46it/s]\u001b[A\n",
      "5915it [11:53,  8.11it/s]5 [11:53<04:29,  8.29it/s]\u001b[A\n",
      "5916it [11:53,  8.06it/s]5 [11:53<04:32,  8.19it/s]\u001b[A\n",
      "5918it [11:53,  8.67it/s]5 [11:53<04:34,  8.11it/s]\u001b[A\n",
      "5919it [11:53,  8.82it/s]5 [11:53<04:15,  8.70it/s]\u001b[A\n",
      "5921it [11:53,  9.12it/s]5 [11:53<04:11,  8.85it/s]\u001b[A\n",
      "5923it [11:54,  9.25it/s]5 [11:53<04:03,  9.14it/s]\u001b[A\n",
      "5925it [11:54,  9.65it/s]5 [11:54<03:59,  9.26it/s]\u001b[A\n",
      "5926it [11:54,  9.20it/s]5 [11:54<03:51,  9.61it/s]\u001b[A\n",
      "5927it [11:54,  9.30it/s]5 [11:54<04:01,  9.18it/s]\u001b[A\n",
      "5928it [11:54,  9.13it/s]5 [11:54<03:58,  9.29it/s]\u001b[A\n",
      "5929it [11:54,  8.37it/s]5 [11:54<04:02,  9.12it/s]\u001b[A\n",
      "5930it [11:54,  7.99it/s]5 [11:54<04:24,  8.37it/s]\u001b[A\n",
      "5931it [11:55,  7.35it/s]5 [11:54<04:37,  7.98it/s]\u001b[A\n",
      "5932it [11:55,  6.21it/s]5 [11:55<05:01,  7.35it/s]\u001b[A\n",
      "5933it [11:55,  6.20it/s]5 [11:55<05:56,  6.21it/s]\u001b[A\n",
      "5934it [11:55,  6.83it/s]5 [11:55<05:57,  6.19it/s]\u001b[A\n",
      "5935it [11:55,  7.10it/s]5 [11:55<05:23,  6.83it/s]\u001b[A\n",
      "5936it [11:55,  7.28it/s]5 [11:55<05:11,  7.09it/s]\u001b[A\n",
      "5937it [11:55,  7.42it/s]5 [11:55<05:03,  7.28it/s]\u001b[A\n",
      "5938it [11:56,  6.63it/s]5 [11:55<04:57,  7.43it/s]\u001b[A\n",
      "5939it [11:56,  7.28it/s]5 [11:56<05:33,  6.62it/s]\u001b[A\n",
      "5940it [11:56,  7.71it/s]5 [11:56<05:00,  7.35it/s]\u001b[A\n",
      "5941it [11:56,  8.22it/s]5 [11:56<04:44,  7.76it/s]\u001b[A\n",
      "5943it [11:56,  8.73it/s]5 [11:56<04:27,  8.25it/s]\u001b[A\n",
      "5944it [11:56,  8.81it/s]5 [11:56<04:11,  8.76it/s]\u001b[A\n",
      "5946it [11:56,  8.69it/s]5 [11:56<04:09,  8.83it/s]\u001b[A\n",
      "5947it [11:57,  7.39it/s]5 [11:56<04:12,  8.70it/s]\u001b[A\n",
      "5948it [11:57,  7.23it/s]5 [11:57<04:57,  7.40it/s]\u001b[A\n",
      "5949it [11:57,  7.21it/s]5 [11:57<05:04,  7.23it/s]\u001b[A\n",
      "5950it [11:57,  7.58it/s]5 [11:57<05:04,  7.21it/s]\u001b[A\n",
      "5951it [11:57,  7.94it/s]5 [11:57<04:49,  7.58it/s]\u001b[A\n",
      "5952it [11:57,  8.17it/s]5 [11:57<04:36,  7.94it/s]\u001b[A\n",
      "5954it [11:57,  8.80it/s]5 [11:57<04:28,  8.18it/s]\u001b[A\n",
      "5956it [11:58,  9.03it/s]5 [11:57<04:09,  8.80it/s]\u001b[A\n",
      "5957it [11:58,  8.43it/s]5 [11:58<04:02,  9.03it/s]\u001b[A\n",
      "5958it [11:58,  8.13it/s]5 [11:58<04:19,  8.44it/s]\u001b[A\n",
      "5959it [11:58,  8.06it/s]5 [11:58<04:28,  8.13it/s]\u001b[A\n",
      "5961it [11:58,  8.68it/s]5 [11:58<04:31,  8.06it/s]\u001b[A\n",
      "5962it [11:58,  8.07it/s]5 [11:58<04:11,  8.68it/s]\u001b[A\n",
      "5963it [11:59,  8.45it/s]5 [11:58<04:30,  8.07it/s]\u001b[A\n",
      "5964it [11:59,  8.05it/s]5 [11:58<04:18,  8.45it/s]\u001b[A\n",
      "5965it [11:59,  8.23it/s]5 [11:59<04:30,  8.05it/s]\u001b[A\n",
      "5966it [11:59,  7.95it/s]5 [11:59<04:24,  8.23it/s]\u001b[A\n",
      "5967it [11:59,  7.64it/s]5 [11:59<04:34,  7.94it/s]\u001b[A\n",
      "5969it [11:59,  8.26it/s]5 [11:59<04:45,  7.64it/s]\u001b[A\n",
      "5971it [11:59,  8.29it/s]5 [11:59<04:23,  8.25it/s]\u001b[A\n",
      "5972it [12:00,  8.51it/s]5 [11:59<04:22,  8.29it/s]\u001b[A\n",
      "5973it [12:00,  8.79it/s]5 [12:00<04:15,  8.51it/s]\u001b[A\n",
      "5974it [12:00,  9.01it/s]5 [12:00<04:07,  8.79it/s]\u001b[A\n",
      "5975it [12:00,  9.26it/s]5 [12:00<04:00,  9.01it/s]\u001b[A\n",
      "5976it [12:00,  9.39it/s]5 [12:00<03:54,  9.26it/s]\u001b[A\n",
      "5977it [12:00,  9.07it/s]5 [12:00<03:50,  9.39it/s]\u001b[A\n",
      "5978it [12:00,  9.06it/s]5 [12:00<03:58,  9.07it/s]\u001b[A\n",
      "5979it [12:00,  9.25it/s]5 [12:00<03:59,  9.06it/s]\u001b[A\n",
      "5981it [12:01,  9.03it/s]5 [12:00<03:54,  9.25it/s]\u001b[A\n",
      "5983it [12:01,  9.05it/s]5 [12:01<03:59,  9.03it/s]\u001b[A\n",
      "5984it [12:01,  9.17it/s]5 [12:01<03:58,  9.05it/s]\u001b[A\n",
      "5985it [12:01,  8.79it/s]5 [12:01<03:55,  9.17it/s]\u001b[A\n",
      "5986it [12:01,  9.04it/s]5 [12:01<04:05,  8.79it/s]\u001b[A\n",
      "5988it [12:01,  9.33it/s]5 [12:01<03:58,  9.04it/s]\u001b[A\n",
      "5989it [12:01,  9.08it/s]5 [12:01<03:51,  9.33it/s]\u001b[A\n",
      "5990it [12:02,  7.22it/s]5 [12:01<03:57,  9.08it/s]\u001b[A\n",
      "5991it [12:02,  7.29it/s]5 [12:02<04:59,  7.20it/s]\u001b[A\n",
      "5992it [12:02,  7.24it/s]5 [12:02<04:55,  7.30it/s]\u001b[A\n",
      "5993it [12:02,  7.55it/s]5 [12:02<04:58,  7.22it/s]\u001b[A\n",
      "5994it [12:02,  7.81it/s]5 [12:02<04:44,  7.56it/s]\u001b[A\n",
      "5995it [12:02,  8.22it/s]5 [12:02<04:35,  7.81it/s]\u001b[A\n",
      "5996it [12:02,  8.26it/s]5 [12:02<04:21,  8.22it/s]\u001b[A\n",
      "5997it [12:03,  8.21it/s]5 [12:02<04:19,  8.27it/s]\u001b[A\n",
      "5999it [12:03,  9.06it/s]5 [12:02<04:21,  8.21it/s]\u001b[A\n",
      "6001it [12:03,  9.89it/s]5 [12:03<03:56,  9.06it/s]\u001b[A\n",
      "6003it [12:03,  9.74it/s]5 [12:03<03:36,  9.89it/s]\u001b[A\n",
      "6005it [12:03, 10.09it/s]5 [12:03<03:39,  9.74it/s]\u001b[A\n",
      "6007it [12:03, 10.08it/s]5 [12:03<03:31, 10.10it/s]\u001b[A\n",
      "6009it [12:04, 10.13it/s]5 [12:03<03:32, 10.08it/s]\u001b[A\n",
      "6011it [12:04, 10.57it/s]5 [12:04<03:30, 10.13it/s]\u001b[A\n",
      "6013it [12:04, 10.82it/s]5 [12:04<03:21, 10.57it/s]\u001b[A\n",
      "6015it [12:04, 10.63it/s]5 [12:04<03:17, 10.82it/s]\u001b[A\n",
      "6017it [12:04, 10.64it/s]5 [12:04<03:20, 10.63it/s]\u001b[A\n",
      "6019it [12:05, 10.26it/s]5 [12:04<03:20, 10.63it/s]\u001b[A\n",
      "6021it [12:05, 10.01it/s]5 [12:05<03:27, 10.26it/s]\u001b[A\n",
      "6023it [12:05,  9.58it/s]5 [12:05<03:32, 10.01it/s]\u001b[A\n",
      "6024it [12:05,  8.61it/s]5 [12:05<03:41,  9.58it/s]\u001b[A\n",
      "6025it [12:05,  8.60it/s]5 [12:05<04:06,  8.61it/s]\u001b[A\n",
      "6026it [12:05,  7.48it/s]5 [12:05<04:06,  8.60it/s]\u001b[A\n",
      "6027it [12:06,  7.01it/s]5 [12:05<04:43,  7.48it/s]\u001b[A\n",
      "6028it [12:06,  7.68it/s]5 [12:06<05:02,  7.01it/s]\u001b[A\n",
      "6029it [12:06,  8.02it/s]5 [12:06<04:41,  7.52it/s]\u001b[A\n",
      "6030it [12:06,  8.13it/s]5 [12:06<04:21,  8.08it/s]\u001b[A\n",
      "6031it [12:06,  8.16it/s]5 [12:06<04:18,  8.18it/s]\u001b[A\n",
      "6032it [12:06,  8.00it/s]5 [12:06<04:18,  8.19it/s]\u001b[A\n",
      "6033it [12:06,  7.84it/s]5 [12:06<04:23,  8.02it/s]\u001b[A\n",
      "6034it [12:06,  8.15it/s]5 [12:06<04:29,  7.85it/s]\u001b[A\n",
      "6035it [12:07,  8.39it/s]5 [12:06<04:18,  8.15it/s]\u001b[A\n",
      "6036it [12:07,  8.72it/s]5 [12:06<04:11,  8.39it/s]\u001b[A\n",
      "6037it [12:07,  8.11it/s]5 [12:07<04:01,  8.73it/s]\u001b[A\n",
      "6038it [12:07,  7.79it/s]5 [12:07<04:19,  8.12it/s]\u001b[A\n",
      "6039it [12:07,  8.24it/s]5 [12:07<04:30,  7.79it/s]\u001b[A\n",
      "6040it [12:07,  8.36it/s]5 [12:07<04:15,  8.24it/s]\u001b[A\n",
      "6042it [12:07,  8.66it/s]5 [12:07<04:11,  8.36it/s]\u001b[A\n",
      "6043it [12:07,  8.65it/s]5 [12:07<04:02,  8.66it/s]\u001b[A\n",
      "6044it [12:08,  8.55it/s]5 [12:07<04:03,  8.65it/s]\u001b[A\n",
      "6046it [12:08,  9.04it/s]5 [12:08<04:05,  8.55it/s]\u001b[A\n",
      "6047it [12:08,  8.63it/s]5 [12:08<03:52,  9.04it/s]\u001b[A\n",
      "6048it [12:08,  8.46it/s]5 [12:08<04:03,  8.63it/s]\u001b[A\n",
      "6050it [12:08, 10.15it/s]5 [12:08<04:07,  8.47it/s]\u001b[A\n",
      "6052it [12:08, 11.51it/s]5 [12:08<03:26, 10.16it/s]\u001b[A\n",
      "6054it [12:08, 11.35it/s]5 [12:08<03:01, 11.52it/s]\u001b[A\n",
      "6056it [12:09, 12.70it/s]5 [12:08<03:04, 11.36it/s]\u001b[A\n",
      "6058it [12:09, 12.04it/s]5 [12:09<02:44, 12.70it/s]\u001b[A\n",
      "6060it [12:09, 11.12it/s]5 [12:09<02:53, 12.00it/s]\u001b[A\n",
      "6062it [12:09, 10.82it/s]5 [12:09<03:07, 11.12it/s]\u001b[A\n",
      "6064it [12:09, 10.27it/s]5 [12:09<03:12, 10.81it/s]\u001b[A\n",
      "6066it [12:10,  9.86it/s]5 [12:09<03:22, 10.28it/s]\u001b[A\n",
      "6068it [12:10,  9.06it/s]5 [12:10<03:31,  9.83it/s]\u001b[A\n",
      "6069it [12:10,  8.58it/s]5 [12:10<03:48,  9.08it/s]\u001b[A\n",
      "6070it [12:10,  8.02it/s]5 [12:10<04:01,  8.58it/s]\u001b[A\n",
      "6071it [12:10,  8.23it/s]5 [12:10<04:18,  8.02it/s]\u001b[A\n",
      "6072it [12:10,  7.90it/s]5 [12:10<04:12,  8.23it/s]\u001b[A\n",
      "6073it [12:11,  7.55it/s]5 [12:10<04:22,  7.90it/s]\u001b[A\n",
      "6074it [12:11,  7.89it/s]5 [12:10<04:34,  7.55it/s]\u001b[A\n",
      "6075it [12:11,  8.35it/s]5 [12:11<04:22,  7.89it/s]\u001b[A\n",
      "6076it [12:11,  8.46it/s]5 [12:11<04:07,  8.36it/s]\u001b[A\n",
      "6077it [12:11,  7.78it/s]5 [12:11<04:04,  8.46it/s]\u001b[A\n",
      "6078it [12:11,  6.03it/s]5 [12:11<04:29,  7.69it/s]\u001b[A\n",
      "6079it [12:11,  6.04it/s]5 [12:11<05:46,  5.97it/s]\u001b[A\n",
      "6080it [12:12,  6.83it/s]5 [12:11<05:40,  6.07it/s]\u001b[A\n",
      "6081it [12:12,  5.16it/s]5 [12:11<05:02,  6.83it/s]\u001b[A\n",
      "6082it [12:12,  5.38it/s]5 [12:12<06:39,  5.17it/s]\u001b[A\n",
      "6083it [12:12,  5.08it/s]5 [12:12<06:22,  5.39it/s]\u001b[A\n",
      "6084it [12:12,  5.28it/s]5 [12:12<06:50,  5.03it/s]\u001b[A\n",
      "6085it [12:13,  5.19it/s]5 [12:12<06:28,  5.31it/s]\u001b[A\n",
      "6086it [12:13,  5.63it/s]5 [12:13<06:35,  5.20it/s]\u001b[A\n",
      "6087it [12:13,  5.64it/s]5 [12:13<06:04,  5.65it/s]\u001b[A\n",
      "6088it [12:13,  5.38it/s]5 [12:13<06:04,  5.65it/s]\u001b[A\n",
      "6090it [12:13,  6.18it/s]5 [12:13<06:21,  5.39it/s]\u001b[A\n",
      "6091it [12:14,  6.13it/s]5 [12:13<05:32,  6.18it/s]\u001b[A\n",
      "6092it [12:14,  6.49it/s]5 [12:13<05:34,  6.15it/s]\u001b[A\n",
      "6093it [12:14,  5.65it/s]5 [12:14<05:27,  6.26it/s]\u001b[A\n",
      "6094it [12:14,  6.02it/s]5 [12:14<05:58,  5.72it/s]\u001b[A\n",
      "6095it [12:14,  6.80it/s]5 [12:14<05:37,  6.07it/s]\u001b[A\n",
      "6096it [12:14,  6.72it/s]5 [12:14<04:59,  6.85it/s]\u001b[A\n",
      "6097it [12:14,  6.24it/s]5 [12:14<05:03,  6.76it/s]\u001b[A\n",
      "6098it [12:15,  4.87it/s]5 [12:14<05:29,  6.22it/s]\u001b[A\n",
      "6099it [12:15,  4.46it/s]5 [12:15<06:59,  4.89it/s]\u001b[A\n",
      "6100it [12:15,  5.10it/s]5 [12:15<07:42,  4.43it/s]\u001b[A\n",
      "6101it [12:16,  4.14it/s]5 [12:15<06:38,  5.13it/s]\u001b[A\n",
      "6102it [12:16,  4.01it/s]5 [12:15<08:12,  4.15it/s]\u001b[A\n",
      "6103it [12:16,  4.46it/s]5 [12:16<08:28,  4.01it/s]\u001b[A\n",
      "6104it [12:16,  5.07it/s]5 [12:16<07:37,  4.47it/s]\u001b[A\n",
      "6105it [12:16,  5.71it/s]5 [12:16<06:42,  5.07it/s]\u001b[A\n",
      "6106it [12:16,  6.23it/s]5 [12:16<05:57,  5.71it/s]\u001b[A\n",
      "6107it [12:16,  6.67it/s]5 [12:16<05:27,  6.23it/s]\u001b[A\n",
      "6108it [12:17,  7.28it/s]5 [12:16<05:05,  6.67it/s]\u001b[A\n",
      "6109it [12:17,  6.97it/s]5 [12:17<04:39,  7.28it/s]\u001b[A\n",
      "6110it [12:17,  6.02it/s]5 [12:17<04:56,  6.86it/s]\u001b[A\n",
      "6111it [12:17,  5.12it/s]5 [12:17<05:37,  6.02it/s]\u001b[A\n",
      "6112it [12:17,  5.77it/s]5 [12:17<06:35,  5.14it/s]\u001b[A\n",
      "6113it [12:17,  6.32it/s]5 [12:17<05:51,  5.78it/s]\u001b[A\n",
      "6114it [12:18,  6.94it/s]5 [12:17<05:21,  6.32it/s]\u001b[A\n",
      "6116it [12:18,  7.55it/s]5 [12:18<04:52,  6.94it/s]\u001b[A\n",
      "6117it [12:18,  7.36it/s]5 [12:18<04:28,  7.56it/s]\u001b[A\n",
      "6118it [12:18,  7.87it/s]5 [12:18<04:35,  7.37it/s]\u001b[A\n",
      "6119it [12:18,  6.40it/s]5 [12:18<04:20,  7.80it/s]\u001b[A\n",
      "6120it [12:18,  7.07it/s]5 [12:18<05:15,  6.42it/s]\u001b[A\n",
      "6121it [12:19,  6.97it/s]5 [12:18<04:45,  7.09it/s]\u001b[A\n",
      "6122it [12:19,  7.51it/s]5 [12:18<04:50,  6.98it/s]\u001b[A\n",
      "6123it [12:19,  7.62it/s]5 [12:19<04:28,  7.53it/s]\u001b[A\n",
      "6124it [12:19,  7.29it/s]5 [12:19<04:25,  7.63it/s]\u001b[A\n",
      "6125it [12:19,  7.92it/s]5 [12:19<04:37,  7.29it/s]\u001b[A\n",
      "6127it [12:19,  8.38it/s]5 [12:19<04:15,  7.92it/s]\u001b[A\n",
      "6128it [12:19,  8.55it/s]5 [12:19<04:00,  8.39it/s]\u001b[A\n",
      "6129it [12:19,  7.64it/s]5 [12:19<03:58,  8.46it/s]\u001b[A\n",
      "6131it [12:20,  8.22it/s]5 [12:19<04:23,  7.66it/s]\u001b[A\n",
      "6132it [12:20,  7.80it/s]5 [12:20<04:05,  8.21it/s]\u001b[A\n",
      "6133it [12:20,  8.15it/s]5 [12:20<04:16,  7.85it/s]\u001b[A\n",
      "6134it [12:20,  6.95it/s]5 [12:20<04:07,  8.14it/s]\u001b[A\n",
      "6135it [12:20,  6.15it/s]5 [12:20<04:49,  6.95it/s]\u001b[A\n",
      "6136it [12:20,  6.52it/s]5 [12:20<05:25,  6.17it/s]\u001b[A\n",
      "6137it [12:21,  6.82it/s]5 [12:20<05:07,  6.54it/s]\u001b[A\n",
      "6138it [12:21,  7.04it/s]5 [12:21<04:53,  6.84it/s]\u001b[A\n",
      "6139it [12:21,  5.89it/s]5 [12:21<04:48,  6.96it/s]\u001b[A\n",
      "6140it [12:21,  6.35it/s]5 [12:21<05:38,  5.92it/s]\u001b[A\n",
      "6142it [12:21,  7.68it/s]5 [12:21<05:14,  6.38it/s]\u001b[A\n",
      "6143it [12:21,  7.26it/s]5 [12:21<04:42,  7.10it/s]\u001b[A\n",
      "6144it [12:22,  7.36it/s]5 [12:21<04:50,  6.90it/s]\u001b[A\n",
      "6146it [12:22,  8.41it/s]5 [12:22<04:45,  7.00it/s]\u001b[A\n",
      "6147it [12:22,  8.54it/s]5 [12:22<04:19,  7.70it/s]\u001b[A\n",
      "6148it [12:22,  7.96it/s]5 [12:22<04:09,  8.02it/s]\u001b[A\n",
      "6149it [12:22,  8.31it/s]5 [12:22<04:21,  7.63it/s]\u001b[A\n",
      "6150it [12:22,  7.97it/s]5 [12:22<04:07,  8.06it/s]\u001b[A\n",
      "6151it [12:22,  6.73it/s]5 [12:22<04:15,  7.80it/s]\u001b[A\n",
      "6152it [12:23,  7.25it/s]5 [12:22<05:00,  6.63it/s]\u001b[A\n",
      "6153it [12:23,  6.66it/s]5 [12:23<04:37,  7.19it/s]\u001b[A\n",
      "6154it [12:23,  7.03it/s]5 [12:23<05:00,  6.62it/s]\u001b[A\n",
      "6155it [12:23,  7.34it/s]5 [12:23<04:44,  7.00it/s]\u001b[A\n",
      "6156it [12:23,  7.29it/s]5 [12:23<04:31,  7.32it/s]\u001b[A\n",
      "6157it [12:23,  7.65it/s]5 [12:23<04:33,  7.27it/s]\u001b[A\n",
      "6158it [12:23,  7.82it/s]5 [12:23<04:20,  7.64it/s]\u001b[A\n",
      "6159it [12:24,  7.70it/s]5 [12:23<04:14,  7.81it/s]\u001b[A\n",
      "6160it [12:24,  7.74it/s]5 [12:23<04:18,  7.70it/s]\u001b[A\n",
      "6161it [12:24,  7.51it/s]5 [12:24<04:16,  7.73it/s]\u001b[A\n",
      "6162it [12:24,  7.70it/s]5 [12:24<04:24,  7.50it/s]\u001b[A\n",
      "6163it [12:24,  8.06it/s]5 [12:24<04:17,  7.70it/s]\u001b[A\n",
      "6164it [12:24,  7.65it/s]5 [12:24<04:06,  8.05it/s]\u001b[A\n",
      "6165it [12:24,  7.48it/s]5 [12:24<04:19,  7.64it/s]\u001b[A\n",
      "6166it [12:24,  8.03it/s]5 [12:24<04:25,  7.46it/s]\u001b[A\n",
      "6167it [12:25,  7.88it/s]5 [12:24<04:06,  8.03it/s]\u001b[A\n",
      "6169it [12:25,  7.63it/s]5 [12:25<04:10,  7.88it/s]\u001b[A\n",
      "6170it [12:25,  6.96it/s]5 [12:25<04:20,  7.60it/s]\u001b[A\n",
      "6171it [12:25,  7.51it/s]5 [12:25<04:41,  7.01it/s]\u001b[A\n",
      "6173it [12:25,  7.67it/s]5 [12:25<04:21,  7.54it/s]\u001b[A\n",
      "6174it [12:26,  7.11it/s]5 [12:25<04:16,  7.69it/s]\u001b[A\n",
      "6176it [12:26,  7.82it/s]5 [12:25<04:36,  7.12it/s]\u001b[A\n",
      "6177it [12:26,  7.51it/s]5 [12:26<04:11,  7.83it/s]\u001b[A\n",
      "6178it [12:26,  7.63it/s]5 [12:26<04:22,  7.51it/s]\u001b[A\n",
      "6179it [12:26,  7.57it/s]5 [12:26<04:17,  7.63it/s]\u001b[A\n",
      "6180it [12:26,  8.11it/s]5 [12:26<04:19,  7.58it/s]\u001b[A\n",
      "6181it [12:26,  8.04it/s]5 [12:26<04:02,  8.11it/s]\u001b[A\n",
      "6182it [12:26,  8.05it/s]5 [12:26<04:04,  8.05it/s]\u001b[A\n",
      "6183it [12:27,  7.96it/s]5 [12:26<04:03,  8.05it/s]\u001b[A\n",
      "6184it [12:27,  8.12it/s]5 [12:27<04:06,  7.96it/s]\u001b[A\n",
      "6186it [12:27,  8.60it/s]5 [12:27<04:01,  8.13it/s]\u001b[A\n",
      "6187it [12:27,  8.15it/s]5 [12:27<03:47,  8.60it/s]\u001b[A\n",
      "6188it [12:27,  8.50it/s]5 [12:27<04:00,  8.15it/s]\u001b[A\n",
      "6189it [12:27,  8.89it/s]5 [12:27<03:50,  8.50it/s]\u001b[A\n",
      "6190it [12:27,  8.97it/s]5 [12:27<03:40,  8.89it/s]\u001b[A\n",
      "6191it [12:28,  8.23it/s]5 [12:27<03:38,  8.97it/s]\u001b[A\n",
      "6192it [12:28,  8.67it/s]5 [12:27<03:57,  8.23it/s]\u001b[A\n",
      "6193it [12:28,  8.85it/s]5 [12:28<03:45,  8.67it/s]\u001b[A\n",
      "6194it [12:28,  8.58it/s]5 [12:28<03:40,  8.85it/s]\u001b[A\n",
      "6195it [12:28,  8.39it/s]5 [12:28<03:47,  8.58it/s]\u001b[A\n",
      "6197it [12:28,  9.03it/s]5 [12:28<03:52,  8.39it/s]\u001b[A\n",
      "6198it [12:28,  8.98it/s]5 [12:28<03:35,  9.03it/s]\u001b[A\n",
      "6199it [12:28,  8.70it/s]5 [12:28<03:36,  8.98it/s]\u001b[A\n",
      "6200it [12:29,  8.69it/s]5 [12:28<03:43,  8.70it/s]\u001b[A\n",
      "6201it [12:29,  7.92it/s]5 [12:28<03:43,  8.70it/s]\u001b[A\n",
      "6202it [12:29,  7.45it/s]5 [12:29<04:05,  7.92it/s]\u001b[A\n",
      "6203it [12:29,  7.24it/s]5 [12:29<04:20,  7.45it/s]\u001b[A\n",
      "6204it [12:29,  7.59it/s]5 [12:29<04:28,  7.24it/s]\u001b[A\n",
      "6205it [12:29,  7.05it/s]5 [12:29<04:15,  7.59it/s]\u001b[A\n",
      "6206it [12:29,  6.10it/s]5 [12:29<04:35,  7.05it/s]\u001b[A\n",
      "6207it [12:30,  6.43it/s]5 [12:29<05:17,  6.10it/s]\u001b[A\n",
      "6208it [12:30,  6.24it/s]5 [12:30<05:01,  6.43it/s]\u001b[A\n",
      "6209it [12:30,  6.77it/s]5 [12:30<05:10,  6.24it/s]\u001b[A\n",
      "6210it [12:30,  6.90it/s]5 [12:30<04:45,  6.77it/s]\u001b[A\n",
      "6211it [12:30,  6.59it/s]5 [12:30<04:40,  6.90it/s]\u001b[A\n",
      "6212it [12:30,  7.06it/s]5 [12:30<04:53,  6.59it/s]\u001b[A\n",
      "6213it [12:30,  7.73it/s]5 [12:30<04:33,  7.06it/s]\u001b[A\n",
      "6214it [12:31,  8.02it/s]5 [12:30<04:09,  7.73it/s]\u001b[A\n",
      "6215it [12:31,  8.01it/s]5 [12:30<04:00,  8.02it/s]\u001b[A\n",
      "6216it [12:31,  7.46it/s]5 [12:31<04:01,  8.00it/s]\u001b[A\n",
      "6217it [12:31,  7.48it/s]5 [12:31<04:18,  7.46it/s]\u001b[A\n",
      "6219it [12:31,  8.19it/s]5 [12:31<04:17,  7.48it/s]\u001b[A\n",
      "6221it [12:31,  8.67it/s]5 [12:31<03:55,  8.19it/s]\u001b[A\n",
      "6222it [12:31,  8.92it/s]5 [12:31<03:42,  8.67it/s]\u001b[A\n",
      "6223it [12:32,  7.68it/s]5 [12:31<03:35,  8.92it/s]\u001b[A\n",
      "6224it [12:32,  7.44it/s]5 [12:32<04:10,  7.67it/s]\u001b[A\n",
      "6225it [12:32,  7.11it/s]5 [12:32<04:18,  7.44it/s]\u001b[A\n",
      "6226it [12:32,  6.65it/s]5 [12:32<04:30,  7.11it/s]\u001b[A\n",
      "6227it [12:32,  7.29it/s]5 [12:32<04:48,  6.66it/s]\u001b[A\n",
      "6228it [12:32,  7.77it/s]5 [12:32<04:22,  7.30it/s]\u001b[A\n",
      "6229it [12:32,  8.31it/s]5 [12:32<04:06,  7.77it/s]\u001b[A\n",
      "6231it [12:33,  9.23it/s]5 [12:32<03:50,  8.30it/s]\u001b[A\n",
      "6232it [12:33,  8.46it/s]5 [12:33<03:27,  9.23it/s]\u001b[A\n",
      "6234it [12:33,  9.17it/s]5 [12:33<03:46,  8.46it/s]\u001b[A\n",
      "6235it [12:33,  9.10it/s]5 [12:33<03:28,  9.17it/s]\u001b[A\n",
      "6237it [12:33,  9.65it/s]5 [12:33<03:30,  9.08it/s]\u001b[A\n",
      "6239it [12:33,  9.92it/s]5 [12:33<03:17,  9.64it/s]\u001b[A\n",
      "6241it [12:34, 10.39it/s]5 [12:33<03:12,  9.91it/s]\u001b[A\n",
      "6243it [12:34, 10.75it/s]5 [12:33<03:03, 10.39it/s]\u001b[A\n",
      "6245it [12:34, 11.00it/s]5 [12:34<02:56, 10.75it/s]\u001b[A\n",
      "6247it [12:34, 10.89it/s]5 [12:34<02:52, 11.00it/s]\u001b[A\n",
      "6249it [12:34, 10.87it/s]5 [12:34<02:54, 10.89it/s]\u001b[A\n",
      "6251it [12:34, 11.05it/s]5 [12:34<02:54, 10.87it/s]\u001b[A\n",
      "6253it [12:35, 11.28it/s]5 [12:34<02:51, 11.05it/s]\u001b[A\n",
      "6255it [12:35, 10.95it/s]5 [12:35<02:47, 11.28it/s]\u001b[A\n",
      "6257it [12:35, 10.48it/s]5 [12:35<02:52, 10.94it/s]\u001b[A\n",
      "6259it [12:35, 10.87it/s]5 [12:35<03:00, 10.49it/s]\u001b[A\n",
      "6261it [12:35, 11.06it/s]5 [12:35<02:53, 10.86it/s]\u001b[A\n",
      "6263it [12:36, 10.42it/s]5 [12:35<02:50, 11.07it/s]\u001b[A\n",
      "6265it [12:36, 10.18it/s]5 [12:36<03:00, 10.42it/s]\u001b[A\n",
      "6267it [12:36, 10.37it/s]5 [12:36<03:04, 10.18it/s]\u001b[A\n",
      "6269it [12:36, 10.35it/s]5 [12:36<03:01, 10.37it/s]\u001b[A\n",
      "6271it [12:36,  9.95it/s]5 [12:36<03:01, 10.35it/s]\u001b[A\n",
      "6273it [12:37, 10.33it/s]5 [12:36<03:08,  9.95it/s]\u001b[A\n",
      "6275it [12:37, 10.29it/s]5 [12:36<03:01, 10.33it/s]\u001b[A\n",
      "6277it [12:37, 10.13it/s]5 [12:37<03:01, 10.29it/s]\u001b[A\n",
      "6279it [12:37, 10.25it/s]5 [12:37<03:04, 10.13it/s]\u001b[A\n",
      "6281it [12:37,  9.60it/s]5 [12:37<03:02, 10.25it/s]\u001b[A\n",
      "6282it [12:38,  8.63it/s]5 [12:37<03:14,  9.60it/s]\u001b[A\n",
      "6283it [12:38,  8.56it/s]5 [12:37<03:35,  8.63it/s]\u001b[A\n",
      "6285it [12:38,  9.33it/s]5 [12:38<03:37,  8.56it/s]\u001b[A\n",
      "6287it [12:38,  9.81it/s]5 [12:38<03:19,  9.33it/s]\u001b[A\n",
      "6289it [12:38, 10.42it/s]5 [12:38<03:09,  9.81it/s]\u001b[A\n",
      "6291it [12:38, 10.30it/s]5 [12:38<02:58, 10.42it/s]\u001b[A\n",
      "6293it [12:39, 10.21it/s]5 [12:38<02:59, 10.30it/s]\u001b[A\n",
      "6295it [12:39,  9.93it/s]5 [12:38<03:01, 10.21it/s]\u001b[A\n",
      "6297it [12:39,  9.97it/s]5 [12:39<03:06,  9.93it/s]\u001b[A\n",
      "6299it [12:39, 10.08it/s]5 [12:39<03:05,  9.97it/s]\u001b[A\n",
      "6301it [12:39,  9.82it/s]5 [12:39<03:03, 10.08it/s]\u001b[A\n",
      "6303it [12:40, 10.27it/s]5 [12:39<03:07,  9.82it/s]\u001b[A\n",
      "6305it [12:40, 10.11it/s]5 [12:39<02:59, 10.27it/s]\u001b[A\n",
      "6307it [12:40, 10.30it/s]5 [12:40<03:01, 10.11it/s]\u001b[A\n",
      "6309it [12:40,  9.29it/s]5 [12:40<02:58, 10.30it/s]\u001b[A\n",
      "6311it [12:40,  9.82it/s]5 [12:40<03:17,  9.30it/s]\u001b[A\n",
      "6313it [12:41,  9.86it/s]5 [12:40<03:06,  9.82it/s]\u001b[A\n",
      "6315it [12:41,  9.91it/s]5 [12:41<03:05,  9.86it/s]\u001b[A\n",
      "6317it [12:41,  9.20it/s]5 [12:41<03:04,  9.91it/s]\u001b[A\n",
      "6318it [12:41,  9.04it/s]5 [12:41<03:18,  9.20it/s]\u001b[A\n",
      "6319it [12:41,  9.08it/s]5 [12:41<03:22,  9.04it/s]\u001b[A\n",
      "6320it [12:41,  9.22it/s]5 [12:41<03:21,  9.08it/s]\u001b[A\n",
      "6321it [12:41,  8.54it/s]5 [12:41<03:17,  9.22it/s]\u001b[A\n",
      "6322it [12:42,  8.87it/s]5 [12:41<03:33,  8.54it/s]\u001b[A\n",
      "6323it [12:42,  8.86it/s]5 [12:42<03:25,  8.87it/s]\u001b[A\n",
      "6324it [12:42,  8.67it/s]5 [12:42<03:25,  8.86it/s]\u001b[A\n",
      "6325it [12:42,  8.97it/s]5 [12:42<03:30,  8.67it/s]\u001b[A\n",
      "6327it [12:42,  9.34it/s]5 [12:42<03:22,  8.97it/s]\u001b[A\n",
      "6328it [12:42,  8.77it/s]5 [12:42<03:14,  9.34it/s]\u001b[A\n",
      "6330it [12:42,  9.41it/s]5 [12:42<03:27,  8.77it/s]\u001b[A\n",
      "6332it [12:43,  9.76it/s]5 [12:42<03:12,  9.41it/s]\u001b[A\n",
      "6333it [12:43,  9.72it/s]5 [12:43<03:05,  9.76it/s]\u001b[A\n",
      "6334it [12:43,  9.40it/s]5 [12:43<03:06,  9.72it/s]\u001b[A\n",
      "6336it [12:43, 10.07it/s]5 [12:43<03:12,  9.40it/s]\u001b[A\n",
      "6338it [12:43, 10.44it/s]5 [12:43<02:59, 10.07it/s]\u001b[A\n",
      "6340it [12:43, 10.66it/s]5 [12:43<02:53, 10.44it/s]\u001b[A\n",
      "6342it [12:44, 10.51it/s]5 [12:43<02:49, 10.66it/s]\u001b[A\n",
      "6344it [12:44,  9.19it/s]5 [12:43<02:51, 10.51it/s]\u001b[A\n",
      "6345it [12:44,  8.68it/s]5 [12:44<03:15,  9.19it/s]\u001b[A\n",
      "6346it [12:44,  8.60it/s]5 [12:44<03:27,  8.68it/s]\u001b[A\n",
      "6347it [12:44,  8.82it/s]5 [12:44<03:29,  8.60it/s]\u001b[A\n",
      "6348it [12:44,  8.29it/s]5 [12:44<03:23,  8.82it/s]\u001b[A\n",
      "6349it [12:44,  8.70it/s]5 [12:44<03:36,  8.29it/s]\u001b[A\n",
      "6350it [12:45,  8.38it/s]5 [12:44<03:26,  8.70it/s]\u001b[A\n",
      "6351it [12:45,  8.44it/s]5 [12:45<03:34,  8.38it/s]\u001b[A\n",
      "6352it [12:45,  8.60it/s]5 [12:45<03:32,  8.44it/s]\u001b[A\n",
      "6353it [12:45,  8.52it/s]5 [12:45<03:28,  8.60it/s]\u001b[A\n",
      "6354it [12:45,  7.78it/s]5 [12:45<03:30,  8.52it/s]\u001b[A\n",
      "6355it [12:45,  7.02it/s]5 [12:45<03:50,  7.78it/s]\u001b[A\n",
      "6356it [12:45,  6.91it/s]5 [12:45<04:14,  7.02it/s]\u001b[A\n",
      "6357it [12:46,  7.09it/s]5 [12:45<04:18,  6.91it/s]\u001b[A\n",
      "6358it [12:46,  7.09it/s]5 [12:45<04:12,  7.09it/s]\u001b[A\n",
      "6359it [12:46,  7.12it/s]5 [12:46<04:12,  7.09it/s]\u001b[A\n",
      "6360it [12:46,  7.27it/s]5 [12:46<04:10,  7.12it/s]\u001b[A\n",
      "6361it [12:46,  7.44it/s]5 [12:46<04:05,  7.28it/s]\u001b[A\n",
      "6362it [12:46,  7.44it/s]5 [12:46<03:59,  7.45it/s]\u001b[A\n",
      "6363it [12:46,  6.80it/s]5 [12:46<03:59,  7.45it/s]\u001b[A\n",
      "6365it [12:47,  7.57it/s]5 [12:46<04:22,  6.80it/s]\u001b[A\n",
      "6366it [12:47,  7.62it/s]5 [12:47<03:55,  7.57it/s]\u001b[A\n",
      "6367it [12:47,  7.80it/s]5 [12:47<03:53,  7.63it/s]\u001b[A\n",
      "6368it [12:47,  7.46it/s]5 [12:47<03:49,  7.74it/s]\u001b[A\n",
      "6369it [12:47,  7.73it/s]5 [12:47<03:59,  7.41it/s]\u001b[A\n",
      "6370it [12:47,  7.60it/s]5 [12:47<03:50,  7.69it/s]\u001b[A\n",
      "6371it [12:47,  7.23it/s]5 [12:47<03:54,  7.57it/s]\u001b[A\n",
      "6372it [12:48,  7.32it/s]5 [12:47<04:05,  7.21it/s]\u001b[A\n",
      "6373it [12:48,  7.08it/s]5 [12:47<04:02,  7.31it/s]\u001b[A\n",
      "6374it [12:48,  5.99it/s]5 [12:48<04:10,  7.07it/s]\u001b[A\n",
      "6375it [12:48,  5.51it/s]5 [12:48<04:55,  5.99it/s]\u001b[A\n",
      "6376it [12:48,  5.05it/s]5 [12:48<05:19,  5.54it/s]\u001b[A\n",
      "6377it [12:48,  5.39it/s]5 [12:48<05:48,  5.08it/s]\u001b[A\n",
      "6378it [12:49,  5.55it/s]5 [12:48<05:31,  5.33it/s]\u001b[A\n",
      "6379it [12:49,  5.07it/s]5 [12:49<05:21,  5.49it/s]\u001b[A\n",
      "6380it [12:49,  4.74it/s]5 [12:49<05:45,  5.11it/s]\u001b[A\n",
      "6381it [12:49,  5.23it/s]5 [12:49<06:12,  4.74it/s]\u001b[A\n",
      "6382it [12:50,  5.05it/s]5 [12:49<05:38,  5.22it/s]\u001b[A\n",
      "6383it [12:50,  4.76it/s]5 [12:49<05:46,  5.09it/s]\u001b[A\n",
      "6384it [12:50,  5.18it/s]5 [12:50<06:08,  4.78it/s]\u001b[A\n",
      "6386it [12:50,  6.59it/s]5 [12:50<05:38,  5.20it/s]\u001b[A\n",
      "6388it [12:50,  7.95it/s]5 [12:50<04:26,  6.61it/s]\u001b[A\n",
      "6390it [12:50,  9.55it/s]5 [12:50<03:40,  7.97it/s]\u001b[A\n",
      "6392it [12:50, 11.03it/s]5 [12:50<03:03,  9.58it/s]\u001b[A\n",
      "6394it [12:51, 10.96it/s]5 [12:50<02:38, 11.05it/s]\u001b[A\n",
      "6396it [12:51,  9.69it/s]5 [12:50<02:39, 10.97it/s]\u001b[A\n",
      "6398it [12:51,  9.36it/s]5 [12:51<03:00,  9.69it/s]\u001b[A\n",
      "6400it [12:51,  9.54it/s]5 [12:51<03:06,  9.36it/s]\u001b[A\n",
      "6402it [12:51,  9.47it/s]5 [12:51<03:02,  9.54it/s]\u001b[A\n",
      "6404it [12:52,  9.19it/s]5 [12:51<03:04,  9.47it/s]\u001b[A\n",
      "6405it [12:52,  7.97it/s]5 [12:52<03:10,  9.13it/s]\u001b[A\n",
      "6406it [12:52,  7.67it/s]5 [12:52<03:36,  8.03it/s]\u001b[A\n",
      "6407it [12:52,  7.73it/s]5 [12:52<03:45,  7.71it/s]\u001b[A\n",
      "6408it [12:52,  8.13it/s]5 [12:52<03:44,  7.76it/s]\u001b[A\n",
      "6409it [12:52,  8.60it/s]5 [12:52<03:33,  8.15it/s]\u001b[A\n",
      "6411it [12:53,  8.99it/s]5 [12:52<03:21,  8.61it/s]\u001b[A\n",
      "6412it [12:53,  8.24it/s]5 [12:52<03:12,  9.00it/s]\u001b[A\n",
      "6414it [12:53,  8.54it/s]5 [12:53<03:30,  8.25it/s]\u001b[A\n",
      "6415it [12:53,  8.52it/s]5 [12:53<03:22,  8.54it/s]\u001b[A\n",
      "6416it [12:53,  8.35it/s]5 [12:53<03:22,  8.53it/s]\u001b[A\n",
      "6417it [12:53,  7.72it/s]5 [12:53<03:27,  8.34it/s]\u001b[A\n",
      "6418it [12:53,  7.14it/s]5 [12:53<03:43,  7.72it/s]\u001b[A\n",
      "6420it [12:54,  7.61it/s]5 [12:53<04:01,  7.14it/s]\u001b[A\n",
      "6421it [12:54,  8.17it/s]5 [12:54<03:46,  7.61it/s]\u001b[A\n",
      "6423it [12:54,  7.55it/s]5 [12:54<03:30,  8.18it/s]\u001b[A\n",
      "6424it [12:54,  6.74it/s]5 [12:54<03:48,  7.55it/s]\u001b[A\n",
      "6425it [12:54,  6.70it/s]5 [12:54<04:15,  6.74it/s]\u001b[A\n",
      "6427it [12:55,  7.54it/s]5 [12:54<04:16,  6.70it/s]\u001b[A\n",
      "6429it [12:55,  8.22it/s]5 [12:55<03:47,  7.55it/s]\u001b[A\n",
      "6431it [12:55,  8.92it/s]5 [12:55<03:28,  8.22it/s]\u001b[A\n",
      "6433it [12:55,  8.85it/s]5 [12:55<03:12,  8.92it/s]\u001b[A\n",
      "6434it [12:55,  8.12it/s]5 [12:55<03:13,  8.85it/s]\u001b[A\n",
      "6435it [12:55,  8.49it/s]5 [12:55<03:30,  8.12it/s]\u001b[A\n",
      "6436it [12:56,  8.62it/s]5 [12:55<03:21,  8.49it/s]\u001b[A\n",
      "6437it [12:56,  8.16it/s]5 [12:56<03:18,  8.62it/s]\u001b[A\n",
      "6438it [12:56,  7.93it/s]5 [12:56<03:29,  8.16it/s]\u001b[A\n",
      "6439it [12:56,  6.33it/s]5 [12:56<03:35,  7.93it/s]\u001b[A\n",
      "6440it [12:56,  6.92it/s]5 [12:56<04:29,  6.33it/s]\u001b[A\n",
      "6442it [12:56,  7.73it/s]5 [12:56<04:06,  6.92it/s]\u001b[A\n",
      "6443it [12:56,  7.99it/s]5 [12:56<03:40,  7.73it/s]\u001b[A\n",
      "6445it [12:57,  8.50it/s]5 [12:56<03:33,  7.99it/s]\u001b[A\n",
      "6446it [12:57,  8.83it/s]5 [12:57<03:20,  8.50it/s]\u001b[A\n",
      "6447it [12:57,  8.40it/s]5 [12:57<03:12,  8.83it/s]\u001b[A\n",
      "6448it [12:57,  8.60it/s]5 [12:57<03:22,  8.40it/s]\u001b[A\n",
      "6449it [12:57,  8.20it/s]5 [12:57<03:17,  8.60it/s]\u001b[A\n",
      "6450it [12:57,  8.24it/s]5 [12:57<03:26,  8.20it/s]\u001b[A\n",
      "6451it [12:57,  8.48it/s]5 [12:57<03:25,  8.24it/s]\u001b[A\n",
      "6452it [12:58,  8.57it/s]5 [12:57<03:19,  8.48it/s]\u001b[A\n",
      "6454it [12:58,  8.60it/s]5 [12:57<03:17,  8.57it/s]\u001b[A\n",
      "6455it [12:58,  8.77it/s]5 [12:58<03:16,  8.60it/s]\u001b[A\n",
      "6456it [12:58,  8.64it/s]5 [12:58<03:12,  8.77it/s]\u001b[A\n",
      "6457it [12:58,  8.91it/s]5 [12:58<03:15,  8.64it/s]\u001b[A\n",
      "6459it [12:58,  9.39it/s]5 [12:58<03:09,  8.91it/s]\u001b[A\n",
      "6460it [12:58,  9.22it/s]5 [12:58<02:59,  9.39it/s]\u001b[A\n",
      "6461it [12:58,  9.37it/s]5 [12:58<03:02,  9.23it/s]\u001b[A\n",
      "6462it [12:59,  9.29it/s]5 [12:58<02:59,  9.37it/s]\u001b[A\n",
      "6463it [12:59,  9.44it/s]5 [12:59<03:01,  9.29it/s]\u001b[A\n",
      "6464it [12:59,  8.51it/s]5 [12:59<02:58,  9.44it/s]\u001b[A\n",
      "6466it [12:59,  8.78it/s]5 [12:59<03:17,  8.51it/s]\u001b[A\n",
      "6467it [12:59,  9.10it/s]5 [12:59<03:11,  8.78it/s]\u001b[A\n",
      "6468it [12:59,  8.98it/s]5 [12:59<03:04,  9.10it/s]\u001b[A\n",
      "6469it [12:59,  8.56it/s]5 [12:59<03:06,  8.98it/s]\u001b[A\n",
      "6470it [13:00,  8.82it/s]5 [12:59<03:16,  8.53it/s]\u001b[A\n",
      "6472it [13:00,  9.32it/s]5 [12:59<03:09,  8.82it/s]\u001b[A\n",
      "6474it [13:00,  9.03it/s]5 [13:00<02:59,  9.32it/s]\u001b[A\n",
      "6476it [13:00,  9.63it/s]5 [13:00<03:05,  9.03it/s]\u001b[A\n",
      "6477it [13:00,  7.76it/s]5 [13:00<02:53,  9.62it/s]\u001b[A\n",
      "6478it [13:00,  7.59it/s]5 [13:00<03:34,  7.77it/s]\u001b[A\n",
      "6479it [13:01,  7.24it/s]5 [13:00<03:39,  7.60it/s]\u001b[A\n",
      "6480it [13:01,  7.33it/s]5 [13:01<03:49,  7.25it/s]\u001b[A\n",
      "6481it [13:01,  7.94it/s]5 [13:01<03:46,  7.34it/s]\u001b[A\n",
      "6482it [13:01,  8.04it/s]5 [13:01<03:29,  7.95it/s]\u001b[A\n",
      "6483it [13:01,  7.15it/s]5 [13:01<03:26,  8.05it/s]\u001b[A\n",
      "6484it [13:01,  6.63it/s]5 [13:01<03:59,  6.95it/s]\u001b[A\n",
      "6485it [13:02,  5.82it/s]5 [13:01<04:08,  6.68it/s]\u001b[A\n",
      "6486it [13:02,  5.81it/s]5 [13:01<04:43,  5.85it/s]\u001b[A\n",
      "6487it [13:02,  5.99it/s]5 [13:02<04:44,  5.83it/s]\u001b[A\n",
      "6488it [13:02,  5.65it/s]5 [13:02<04:36,  6.00it/s]\u001b[A\n",
      "6489it [13:02,  5.53it/s]5 [13:02<04:56,  5.59it/s]\u001b[A\n",
      "6490it [13:02,  5.02it/s]5 [13:02<04:58,  5.56it/s]\u001b[A\n",
      "6491it [13:03,  5.42it/s]5 [13:02<05:29,  5.03it/s]\u001b[A\n",
      "6493it [13:03,  6.36it/s]5 [13:03<05:04,  5.43it/s]\u001b[A\n",
      "6494it [13:03,  7.10it/s]5 [13:03<04:19,  6.38it/s]\u001b[A\n",
      "6495it [13:03,  7.37it/s]5 [13:03<03:52,  7.11it/s]\u001b[A\n",
      "6496it [13:03,  7.21it/s]5 [13:03<03:43,  7.38it/s]\u001b[A\n",
      "6497it [13:03,  6.35it/s]5 [13:03<03:50,  7.16it/s]\u001b[A\n",
      "6498it [13:04,  6.71it/s]5 [13:03<04:20,  6.34it/s]\u001b[A\n",
      "6500it [13:04,  7.46it/s]5 [13:03<04:04,  6.74it/s]\u001b[A\n",
      "6501it [13:04,  7.80it/s]5 [13:04<03:39,  7.49it/s]\u001b[A\n",
      "6503it [13:04,  8.34it/s]5 [13:04<03:30,  7.81it/s]\u001b[A\n",
      "6505it [13:04,  8.89it/s]5 [13:04<03:16,  8.35it/s]\u001b[A\n",
      "6506it [13:04,  9.04it/s]5 [13:04<03:04,  8.90it/s]\u001b[A\n",
      "6508it [13:05,  9.18it/s]5 [13:04<03:01,  9.05it/s]\u001b[A\n",
      "6509it [13:05,  8.86it/s]5 [13:04<02:58,  9.18it/s]\u001b[A\n",
      "6510it [13:05,  9.11it/s]5 [13:05<03:04,  8.86it/s]\u001b[A\n",
      "6511it [13:05,  8.34it/s]5 [13:05<02:59,  9.11it/s]\u001b[A\n",
      "6512it [13:05,  8.31it/s]5 [13:05<03:15,  8.34it/s]\u001b[A\n",
      "6513it [13:05,  7.34it/s]5 [13:05<03:18,  8.22it/s]\u001b[A\n",
      "6514it [13:05,  6.73it/s]5 [13:05<03:41,  7.36it/s]\u001b[A\n",
      "6515it [13:06,  6.63it/s]5 [13:05<04:02,  6.72it/s]\u001b[A\n",
      "6517it [13:06,  7.38it/s]5 [13:05<04:05,  6.65it/s]\u001b[A\n",
      "6519it [13:06,  7.95it/s]5 [13:06<03:40,  7.39it/s]\u001b[A\n",
      "6521it [13:06,  8.57it/s]5 [13:06<03:24,  7.96it/s]\u001b[A\n",
      "6522it [13:06,  8.75it/s]5 [13:06<03:09,  8.57it/s]\u001b[A\n",
      "6523it [13:06,  8.87it/s]5 [13:06<03:05,  8.76it/s]\u001b[A\n",
      "6524it [13:06,  8.96it/s]5 [13:06<03:02,  8.87it/s]\u001b[A\n",
      "6525it [13:07,  9.22it/s]5 [13:06<03:00,  8.96it/s]\u001b[A\n",
      "6526it [13:07,  7.55it/s]5 [13:06<02:55,  9.22it/s]\u001b[A\n",
      "6527it [13:07,  5.88it/s]5 [13:07<03:39,  7.36it/s]\u001b[A\n",
      "6528it [13:07,  5.92it/s]5 [13:07<04:38,  5.82it/s]\u001b[A\n",
      "6529it [13:07,  6.26it/s]5 [13:07<04:30,  5.97it/s]\u001b[A\n",
      "6530it [13:07,  6.72it/s]5 [13:07<04:16,  6.30it/s]\u001b[A\n",
      "6531it [13:08,  6.79it/s]5 [13:07<03:59,  6.75it/s]\u001b[A\n",
      "6532it [13:08,  7.36it/s]5 [13:08<03:56,  6.81it/s]\u001b[A\n",
      "6534it [13:08,  8.08it/s]5 [13:08<03:38,  7.38it/s]\u001b[A\n",
      "6536it [13:08,  8.31it/s]5 [13:08<03:18,  8.10it/s]\u001b[A\n",
      "6538it [13:08,  8.07it/s]5 [13:08<03:13,  8.32it/s]\u001b[A\n",
      "6539it [13:09,  7.50it/s]5 [13:08<03:19,  8.07it/s]\u001b[A\n",
      "6540it [13:09,  7.08it/s]5 [13:08<03:33,  7.52it/s]\u001b[A\n",
      "6541it [13:09,  6.44it/s]5 [13:09<03:46,  7.09it/s]\u001b[A\n",
      "6542it [13:09,  6.57it/s]5 [13:09<04:09,  6.44it/s]\u001b[A\n",
      "6543it [13:09,  6.83it/s]5 [13:09<04:03,  6.58it/s]\u001b[A\n",
      "6544it [13:09,  6.62it/s]5 [13:09<03:54,  6.83it/s]\u001b[A\n",
      "6545it [13:09,  6.90it/s]5 [13:09<04:01,  6.63it/s]\u001b[A\n",
      "6546it [13:10,  7.20it/s]5 [13:09<03:51,  6.90it/s]\u001b[A\n",
      "6547it [13:10,  7.60it/s]5 [13:09<03:42,  7.20it/s]\u001b[A\n",
      "6548it [13:10,  7.51it/s]5 [13:10<03:30,  7.60it/s]\u001b[A\n",
      "6549it [13:10,  5.76it/s]5 [13:10<03:32,  7.51it/s]\u001b[A\n",
      "6550it [13:10,  6.52it/s]5 [13:10<04:36,  5.76it/s]\u001b[A\n",
      "6551it [13:10,  7.28it/s]5 [13:10<04:04,  6.53it/s]\u001b[A\n",
      "6552it [13:10,  6.71it/s]5 [13:10<03:38,  7.28it/s]\u001b[A\n",
      "6553it [13:11,  6.78it/s]5 [13:10<03:58,  6.68it/s]\u001b[A\n",
      "6554it [13:11,  6.81it/s]5 [13:11<03:54,  6.79it/s]\u001b[A\n",
      "6555it [13:11,  7.37it/s]5 [13:11<03:53,  6.82it/s]\u001b[A\n",
      "6556it [13:11,  7.38it/s]5 [13:11<03:35,  7.38it/s]\u001b[A\n",
      "6557it [13:11,  7.68it/s]5 [13:11<03:35,  7.38it/s]\u001b[A\n",
      "6558it [13:11,  7.22it/s]5 [13:11<03:26,  7.68it/s]\u001b[A\n",
      "6559it [13:11,  7.29it/s]5 [13:11<03:39,  7.23it/s]\u001b[A\n",
      "6560it [13:12,  7.60it/s]5 [13:11<03:37,  7.29it/s]\u001b[A\n",
      "6561it [13:12,  7.72it/s]5 [13:11<03:28,  7.61it/s]\u001b[A\n",
      "6562it [13:12,  7.23it/s]5 [13:12<03:25,  7.72it/s]\u001b[A\n",
      "6563it [13:12,  7.22it/s]5 [13:12<03:39,  7.23it/s]\u001b[A\n",
      "6564it [13:12,  7.72it/s]5 [13:12<03:39,  7.22it/s]\u001b[A\n",
      "6566it [13:12,  8.48it/s]5 [13:12<03:24,  7.72it/s]\u001b[A\n",
      "6567it [13:12,  7.67it/s]5 [13:12<03:06,  8.48it/s]\u001b[A\n",
      "6569it [13:13,  8.59it/s]5 [13:12<03:25,  7.67it/s]\u001b[A\n",
      "6570it [13:13,  8.41it/s]5 [13:12<03:03,  8.60it/s]\u001b[A\n",
      "6571it [13:13,  8.43it/s]5 [13:13<03:07,  8.41it/s]\u001b[A\n",
      "6573it [13:13,  9.13it/s]5 [13:13<03:06,  8.43it/s]\u001b[A\n",
      "6574it [13:13,  9.12it/s]5 [13:13<02:52,  9.13it/s]\u001b[A\n",
      "6576it [13:13,  9.53it/s]5 [13:13<02:52,  9.12it/s]\u001b[A\n",
      "6578it [13:14,  9.26it/s]5 [13:13<02:44,  9.53it/s]\u001b[A\n",
      "6579it [13:14,  9.32it/s]5 [13:13<02:49,  9.26it/s]\u001b[A\n",
      "6581it [13:14,  9.19it/s]5 [13:14<02:48,  9.31it/s]\u001b[A\n",
      "6582it [13:14,  8.80it/s]5 [13:14<02:50,  9.19it/s]\u001b[A\n",
      "6583it [13:14,  8.84it/s]5 [13:14<02:57,  8.80it/s]\u001b[A\n",
      "6584it [13:14,  8.93it/s]5 [13:14<02:56,  8.83it/s]\u001b[A\n",
      "6586it [13:14,  8.89it/s]5 [13:14<02:54,  8.92it/s]\u001b[A\n",
      "6587it [13:15,  8.81it/s]5 [13:14<02:55,  8.89it/s]\u001b[A\n",
      "6588it [13:15,  7.96it/s]5 [13:14<02:56,  8.81it/s]\u001b[A\n",
      "6589it [13:15,  7.84it/s]5 [13:15<03:15,  7.96it/s]\u001b[A\n",
      "6590it [13:15,  7.84it/s]5 [13:15<03:18,  7.84it/s]\u001b[A\n",
      "6591it [13:15,  7.66it/s]5 [13:15<03:18,  7.85it/s]\u001b[A\n",
      "6592it [13:15,  7.99it/s]5 [13:15<03:22,  7.66it/s]\u001b[A\n",
      "6593it [13:15,  8.34it/s]5 [13:15<03:14,  7.98it/s]\u001b[A\n",
      "6594it [13:15,  7.93it/s]5 [13:15<03:05,  8.35it/s]\u001b[A\n",
      "6595it [13:16,  7.82it/s]5 [13:15<03:15,  7.93it/s]\u001b[A\n",
      "6597it [13:16,  8.44it/s]5 [13:16<03:18,  7.82it/s]\u001b[A\n",
      "6598it [13:16,  8.77it/s]5 [13:16<03:03,  8.44it/s]\u001b[A\n",
      "6599it [13:16,  8.49it/s]5 [13:16<02:56,  8.77it/s]\u001b[A\n",
      "6600it [13:16,  7.85it/s]5 [13:16<03:02,  8.49it/s]\u001b[A\n",
      "6601it [13:16,  8.06it/s]5 [13:16<03:16,  7.85it/s]\u001b[A\n",
      "6602it [13:16,  8.05it/s]5 [13:16<03:11,  8.06it/s]\u001b[A\n",
      "6603it [13:17,  8.06it/s]5 [13:16<03:11,  8.05it/s]\u001b[A\n",
      "6604it [13:17,  8.03it/s]5 [13:16<03:11,  8.06it/s]\u001b[A\n",
      "6605it [13:17,  8.23it/s]5 [13:17<03:11,  8.03it/s]\u001b[A\n",
      "6606it [13:17,  8.59it/s]5 [13:17<03:06,  8.24it/s]\u001b[A\n",
      "6607it [13:17,  8.22it/s]5 [13:17<02:59,  8.59it/s]\u001b[A\n",
      "6608it [13:17,  8.03it/s]5 [13:17<03:07,  8.22it/s]\u001b[A\n",
      "6609it [13:17,  8.32it/s]5 [13:17<03:11,  8.03it/s]\u001b[A\n",
      "6610it [13:17,  8.70it/s]5 [13:17<03:04,  8.32it/s]\u001b[A\n",
      "6611it [13:17,  8.20it/s]5 [13:17<02:56,  8.70it/s]\u001b[A\n",
      "6613it [13:18,  8.76it/s]5 [13:17<03:07,  8.20it/s]\u001b[A\n",
      "6614it [13:18,  9.02it/s]5 [13:18<02:54,  8.76it/s]\u001b[A\n",
      "6615it [13:18,  8.68it/s]5 [13:18<02:49,  9.02it/s]\u001b[A\n",
      "6616it [13:18,  8.60it/s]5 [13:18<02:56,  8.68it/s]\u001b[A\n",
      "6618it [13:18,  8.87it/s]5 [13:18<02:57,  8.60it/s]\u001b[A\n",
      "6620it [13:18,  9.40it/s]5 [13:18<02:52,  8.87it/s]\u001b[A\n",
      "6621it [13:19,  8.89it/s]5 [13:18<02:42,  9.40it/s]\u001b[A\n",
      "6622it [13:19,  8.22it/s]5 [13:18<02:51,  8.89it/s]\u001b[A\n",
      "6623it [13:19,  7.13it/s]5 [13:19<03:05,  8.22it/s]\u001b[A\n",
      "6624it [13:19,  7.60it/s]5 [13:19<03:33,  7.12it/s]\u001b[A\n",
      "6625it [13:19,  7.11it/s]5 [13:19<03:20,  7.60it/s]\u001b[A\n",
      "6626it [13:19,  7.53it/s]5 [13:19<03:33,  7.11it/s]\u001b[A\n",
      "6627it [13:19,  8.01it/s]5 [13:19<03:21,  7.52it/s]\u001b[A\n",
      "6628it [13:19,  7.93it/s]5 [13:19<03:09,  8.02it/s]\u001b[A\n",
      "6629it [13:20,  6.99it/s]5 [13:19<03:11,  7.94it/s]\u001b[A\n",
      "6630it [13:20,  6.98it/s]5 [13:20<03:36,  7.00it/s]\u001b[A\n",
      "6631it [13:20,  7.22it/s]5 [13:20<03:36,  6.98it/s]\u001b[A\n",
      "6632it [13:20,  7.43it/s]5 [13:20<03:29,  7.22it/s]\u001b[A\n",
      "6633it [13:20,  7.70it/s]5 [13:20<03:23,  7.43it/s]\u001b[A\n",
      "6635it [13:20,  7.53it/s]5 [13:20<03:16,  7.70it/s]\u001b[A\n",
      "6637it [13:21,  8.13it/s]5 [13:20<03:20,  7.53it/s]\u001b[A\n",
      "6638it [13:21,  7.20it/s]5 [13:21<03:05,  8.13it/s]\u001b[A\n",
      "6639it [13:21,  7.33it/s]5 [13:21<03:29,  7.20it/s]\u001b[A\n",
      "6640it [13:21,  6.97it/s]5 [13:21<03:25,  7.33it/s]\u001b[A\n",
      "6641it [13:21,  6.41it/s]5 [13:21<03:35,  6.97it/s]\u001b[A\n",
      "6642it [13:21,  6.36it/s]5 [13:21<03:54,  6.41it/s]\u001b[A\n",
      "6643it [13:22,  6.92it/s]5 [13:21<03:56,  6.36it/s]\u001b[A\n",
      "6644it [13:22,  7.61it/s]5 [13:22<03:36,  6.92it/s]\u001b[A\n",
      "6646it [13:22,  8.13it/s]5 [13:22<03:17,  7.60it/s]\u001b[A\n",
      "6647it [13:22,  8.40it/s]5 [13:22<03:04,  8.13it/s]\u001b[A\n",
      "6649it [13:22,  8.63it/s]5 [13:22<02:58,  8.40it/s]\u001b[A\n",
      "6650it [13:22,  8.87it/s]5 [13:22<02:53,  8.63it/s]\u001b[A\n",
      "6652it [13:22,  9.47it/s]5 [13:22<02:48,  8.87it/s]\u001b[A\n",
      "6654it [13:23,  9.58it/s]5 [13:22<02:37,  9.46it/s]\u001b[A\n",
      "6656it [13:23,  9.74it/s]5 [13:23<02:35,  9.58it/s]\u001b[A\n",
      "6657it [13:23,  9.30it/s]5 [13:23<02:32,  9.75it/s]\u001b[A\n",
      "6658it [13:23,  8.67it/s]5 [13:23<02:39,  9.30it/s]\u001b[A\n",
      "6659it [13:23,  8.49it/s]5 [13:23<02:51,  8.67it/s]\u001b[A\n",
      "6661it [13:23,  9.21it/s]5 [13:23<02:55,  8.49it/s]\u001b[A\n",
      "6662it [13:24,  9.33it/s]5 [13:23<02:41,  9.21it/s]\u001b[A\n",
      "6664it [13:24,  9.80it/s]5 [13:23<02:38,  9.33it/s]\u001b[A\n",
      "6666it [13:24,  9.09it/s]5 [13:24<02:31,  9.81it/s]\u001b[A\n",
      "6668it [13:24,  9.44it/s]5 [13:24<02:42,  9.09it/s]\u001b[A\n",
      "6669it [13:24,  9.50it/s]5 [13:24<02:36,  9.44it/s]\u001b[A\n",
      "6670it [13:24,  9.60it/s]5 [13:24<02:35,  9.51it/s]\u001b[A\n",
      "6671it [13:25,  8.17it/s]5 [13:24<02:33,  9.60it/s]\u001b[A\n",
      "6672it [13:25,  8.07it/s]5 [13:24<03:00,  8.17it/s]\u001b[A\n",
      "6674it [13:25,  8.80it/s]5 [13:25<03:02,  8.07it/s]\u001b[A\n",
      "6675it [13:25,  7.97it/s]5 [13:25<02:47,  8.80it/s]\u001b[A\n",
      "6676it [13:25,  7.97it/s]5 [13:25<03:04,  7.97it/s]\u001b[A\n",
      "6677it [13:25,  7.81it/s]5 [13:25<03:04,  7.97it/s]\u001b[A\n",
      "6678it [13:25,  8.07it/s]5 [13:25<03:07,  7.81it/s]\u001b[A\n",
      "6680it [13:26,  8.72it/s]5 [13:25<03:01,  8.07it/s]\u001b[A\n",
      "6681it [13:26,  8.92it/s]5 [13:26<02:48,  8.72it/s]\u001b[A\n",
      "6682it [13:26,  9.05it/s]5 [13:26<02:44,  8.92it/s]\u001b[A\n",
      "6684it [13:26,  9.59it/s]5 [13:26<02:41,  9.05it/s]\u001b[A\n",
      "6685it [13:26,  9.58it/s]5 [13:26<02:32,  9.59it/s]\u001b[A\n",
      "6686it [13:26,  8.93it/s]5 [13:26<02:32,  9.58it/s]\u001b[A\n",
      "6687it [13:26,  8.10it/s]5 [13:26<02:43,  8.93it/s]\u001b[A\n",
      "6688it [13:26,  8.48it/s]5 [13:26<03:00,  8.10it/s]\u001b[A\n",
      "6689it [13:27,  8.11it/s]5 [13:26<02:51,  8.48it/s]\u001b[A\n",
      "6691it [13:27,  8.68it/s]5 [13:27<02:59,  8.11it/s]\u001b[A\n",
      "6692it [13:27,  9.03it/s]5 [13:27<02:47,  8.68it/s]\u001b[A\n",
      "6694it [13:27,  9.34it/s]5 [13:27<02:40,  9.03it/s]\u001b[A\n",
      "6695it [13:27,  9.40it/s]5 [13:27<02:35,  9.34it/s]\u001b[A\n",
      "6696it [13:27,  9.20it/s]5 [13:27<02:34,  9.40it/s]\u001b[A\n",
      "6697it [13:27,  8.10it/s]5 [13:27<02:37,  9.20it/s]\u001b[A\n",
      "6698it [13:28,  8.06it/s]5 [13:27<02:58,  8.10it/s]\u001b[A\n",
      "6699it [13:28,  7.76it/s]5 [13:28<02:59,  8.06it/s]\u001b[A\n",
      "6700it [13:28,  7.88it/s]5 [13:28<03:06,  7.76it/s]\u001b[A\n",
      "6701it [13:28,  8.20it/s]5 [13:28<03:03,  7.88it/s]\u001b[A\n",
      "6702it [13:28,  7.75it/s]5 [13:28<02:56,  8.20it/s]\u001b[A\n",
      "6703it [13:28,  7.70it/s]5 [13:28<03:06,  7.74it/s]\u001b[A\n",
      "6704it [13:28,  7.49it/s]5 [13:28<03:07,  7.70it/s]\u001b[A\n",
      "6705it [13:28,  7.74it/s]5 [13:28<03:12,  7.49it/s]\u001b[A\n",
      "6707it [13:29,  8.01it/s]5 [13:28<03:05,  7.74it/s]\u001b[A\n",
      "6708it [13:29,  8.49it/s]5 [13:29<02:59,  8.01it/s]\u001b[A\n",
      "6709it [13:29,  8.72it/s]5 [13:29<02:49,  8.49it/s]\u001b[A\n",
      "6710it [13:29,  8.69it/s]5 [13:29<02:44,  8.72it/s]\u001b[A\n",
      "6712it [13:29,  9.21it/s]5 [13:29<02:45,  8.68it/s]\u001b[A\n",
      "6714it [13:29,  9.52it/s]5 [13:29<02:35,  9.21it/s]\u001b[A\n",
      "6715it [13:30,  9.11it/s]5 [13:29<02:30,  9.52it/s]\u001b[A\n",
      "6716it [13:30,  8.47it/s]5 [13:29<02:36,  9.11it/s]\u001b[A\n",
      "6717it [13:30,  8.14it/s]5 [13:30<02:48,  8.47it/s]\u001b[A\n",
      "6718it [13:30,  7.99it/s]5 [13:30<02:55,  8.14it/s]\u001b[A\n",
      "6719it [13:30,  8.25it/s]5 [13:30<02:58,  7.99it/s]\u001b[A\n",
      "6720it [13:30,  7.73it/s]5 [13:30<02:54,  8.19it/s]\u001b[A\n",
      "6721it [13:30,  8.15it/s]5 [13:30<03:05,  7.69it/s]\u001b[A\n",
      "6722it [13:30,  7.27it/s]5 [13:30<02:55,  8.11it/s]\u001b[A\n",
      "6723it [13:31,  7.57it/s]5 [13:30<03:16,  7.26it/s]\u001b[A\n",
      "6724it [13:31,  7.70it/s]5 [13:31<03:08,  7.56it/s]\u001b[A\n",
      "6726it [13:31,  8.24it/s]5 [13:31<03:04,  7.70it/s]\u001b[A\n",
      "6727it [13:31,  8.12it/s]5 [13:31<02:52,  8.23it/s]\u001b[A\n",
      "6729it [13:31,  8.89it/s]5 [13:31<02:53,  8.18it/s]\u001b[A\n",
      "6730it [13:31,  9.15it/s]5 [13:31<02:38,  8.94it/s]\u001b[A\n",
      "6731it [13:31,  9.04it/s]5 [13:31<02:33,  9.20it/s]\u001b[A\n",
      "6732it [13:32,  7.80it/s]5 [13:31<02:35,  9.07it/s]\u001b[A\n",
      "6734it [13:32,  8.61it/s]5 [13:32<03:00,  7.82it/s]\u001b[A\n",
      "6736it [13:32, 10.10it/s]5 [13:32<02:43,  8.62it/s]\u001b[A\n",
      "6738it [13:32, 11.15it/s]5 [13:32<02:19, 10.11it/s]\u001b[A\n",
      "6740it [13:32, 10.14it/s]5 [13:32<02:06, 11.15it/s]\u001b[A\n",
      "6742it [13:33,  7.68it/s]5 [13:32<02:19, 10.09it/s]\u001b[A\n",
      "6743it [13:33,  6.62it/s]5 [13:33<03:02,  7.68it/s]\u001b[A\n",
      "6744it [13:33,  6.84it/s]5 [13:33<03:31,  6.63it/s]\u001b[A\n",
      "6745it [13:33,  7.08it/s]5 [13:33<03:24,  6.86it/s]\u001b[A\n",
      "6746it [13:33,  6.70it/s]5 [13:33<03:17,  7.10it/s]\u001b[A\n",
      "6748it [13:34,  7.35it/s]5 [13:33<03:28,  6.71it/s]\u001b[A\n",
      "6749it [13:34,  6.55it/s]5 [13:33<03:09,  7.36it/s]\u001b[A\n",
      "6750it [13:34,  7.14it/s]5 [13:34<03:32,  6.56it/s]\u001b[A\n",
      "6751it [13:34,  7.17it/s]5 [13:34<03:15,  7.15it/s]\u001b[A\n",
      "6752it [13:34,  7.60it/s]5 [13:34<03:14,  7.17it/s]\u001b[A\n",
      "6754it [13:34,  7.98it/s]5 [13:34<03:03,  7.60it/s]\u001b[A\n",
      "6755it [13:34,  7.32it/s]5 [13:34<02:54,  7.99it/s]\u001b[A\n",
      "6756it [13:35,  7.48it/s]5 [13:34<03:14,  7.14it/s]\u001b[A\n",
      "6758it [13:35,  8.07it/s]5 [13:35<03:04,  7.54it/s]\u001b[A\n",
      "6759it [13:35,  7.27it/s]5 [13:35<02:50,  8.12it/s]\u001b[A\n",
      "6760it [13:35,  6.53it/s]5 [13:35<03:09,  7.30it/s]\u001b[A\n",
      "6761it [13:35,  7.06it/s]5 [13:35<03:31,  6.54it/s]\u001b[A\n",
      "6762it [13:35,  6.47it/s]5 [13:35<03:15,  7.08it/s]\u001b[A\n",
      "6763it [13:36,  6.78it/s]5 [13:35<03:33,  6.48it/s]\u001b[A\n",
      "6764it [13:36,  7.15it/s]5 [13:36<03:23,  6.78it/s]\u001b[A\n",
      "6765it [13:36,  7.46it/s]5 [13:36<03:12,  7.16it/s]\u001b[A\n",
      "6766it [13:36,  7.04it/s]5 [13:36<03:04,  7.46it/s]\u001b[A\n",
      "6767it [13:36,  6.84it/s]5 [13:36<03:15,  7.04it/s]\u001b[A\n",
      "6768it [13:36,  6.77it/s]5 [13:36<03:21,  6.83it/s]\u001b[A\n",
      "6769it [13:36,  6.86it/s]5 [13:36<03:23,  6.78it/s]\u001b[A\n",
      "6770it [13:37,  6.19it/s]5 [13:36<03:20,  6.86it/s]\u001b[A\n",
      "6771it [13:37,  6.55it/s]5 [13:37<03:42,  6.18it/s]\u001b[A\n",
      "6772it [13:37,  6.29it/s]5 [13:37<03:29,  6.55it/s]\u001b[A\n",
      "6773it [13:37,  6.68it/s]5 [13:37<03:38,  6.29it/s]\u001b[A\n",
      "6774it [13:37,  6.95it/s]5 [13:37<03:25,  6.68it/s]\u001b[A\n",
      "6775it [13:37,  7.29it/s]5 [13:37<03:17,  6.95it/s]\u001b[A\n",
      "6776it [13:37,  7.73it/s]5 [13:37<03:07,  7.29it/s]\u001b[A\n",
      "6777it [13:38,  7.83it/s]5 [13:37<02:57,  7.73it/s]\u001b[A\n",
      "6778it [13:38,  7.83it/s]5 [13:38<02:54,  7.83it/s]\u001b[A\n",
      "6779it [13:38,  8.31it/s]5 [13:38<02:54,  7.83it/s]\u001b[A\n",
      "6781it [13:38,  9.15it/s]5 [13:38<02:44,  8.31it/s]\u001b[A\n",
      "6782it [13:38,  9.36it/s]5 [13:38<02:29,  9.15it/s]\u001b[A\n",
      "6784it [13:38,  9.06it/s]5 [13:38<02:25,  9.36it/s]\u001b[A\n",
      "6785it [13:38,  8.48it/s]5 [13:38<02:30,  9.06it/s]\u001b[A\n",
      "6786it [13:39,  8.41it/s]5 [13:38<02:41,  8.41it/s]\u001b[A\n",
      "6787it [13:39,  6.64it/s]5 [13:39<02:41,  8.41it/s]\u001b[A\n",
      "6788it [13:39,  6.79it/s]5 [13:39<03:24,  6.65it/s]\u001b[A\n",
      "6789it [13:39,  5.44it/s]5 [13:39<03:23,  6.65it/s]\u001b[A\n",
      "6790it [13:39,  5.68it/s]5 [13:39<04:09,  5.43it/s]\u001b[A\n",
      "6791it [13:40,  5.96it/s]5 [13:39<03:56,  5.72it/s]\u001b[A\n",
      "6792it [13:40,  6.31it/s]5 [13:39<03:45,  6.00it/s]\u001b[A\n",
      "6794it [13:40,  6.94it/s]5 [13:40<03:33,  6.33it/s]\u001b[A\n",
      "6796it [13:40,  6.93it/s]5 [13:40<03:13,  6.96it/s]\u001b[A\n",
      "6797it [13:40,  6.47it/s]5 [13:40<03:14,  6.92it/s]\u001b[A\n",
      "6798it [13:41,  6.22it/s]5 [13:40<03:27,  6.49it/s]\u001b[A\n",
      "6799it [13:41,  6.10it/s]5 [13:40<03:36,  6.24it/s]\u001b[A\n",
      "6800it [13:41,  5.93it/s]5 [13:41<03:44,  6.01it/s]\u001b[A\n",
      "6801it [13:41,  6.46it/s]5 [13:41<03:45,  5.97it/s]\u001b[A\n",
      "6802it [13:41,  7.16it/s]5 [13:41<03:26,  6.50it/s]\u001b[A\n",
      "6804it [13:41,  8.22it/s]5 [13:41<03:06,  7.19it/s]\u001b[A\n",
      "6806it [13:41,  8.82it/s]5 [13:41<02:42,  8.25it/s]\u001b[A\n",
      "6807it [13:42,  8.43it/s]5 [13:41<02:31,  8.85it/s]\u001b[A\n",
      "6808it [13:42,  8.74it/s]5 [13:41<02:38,  8.45it/s]\u001b[A\n",
      "6809it [13:42,  8.45it/s]5 [13:42<02:32,  8.75it/s]\u001b[A\n",
      "6810it [13:42,  6.34it/s]5 [13:42<02:37,  8.46it/s]\u001b[A\n",
      "6811it [13:42,  6.41it/s]5 [13:42<03:30,  6.35it/s]\u001b[A\n",
      "6812it [13:42,  6.17it/s]5 [13:42<03:28,  6.41it/s]\u001b[A\n",
      "6813it [13:43,  5.42it/s]5 [13:42<03:36,  6.17it/s]\u001b[A\n",
      "6814it [13:43,  5.17it/s]5 [13:43<04:07,  5.39it/s]\u001b[A\n",
      "6815it [13:43,  5.56it/s]5 [13:43<04:17,  5.18it/s]\u001b[A\n",
      "6816it [13:43,  5.48it/s]5 [13:43<04:00,  5.53it/s]\u001b[A\n",
      "6818it [13:43,  6.45it/s]5 [13:43<04:01,  5.49it/s]\u001b[A\n",
      "6819it [13:43,  6.83it/s]5 [13:43<03:25,  6.47it/s]\u001b[A\n",
      "6820it [13:44,  6.91it/s]5 [13:43<03:13,  6.84it/s]\u001b[A\n",
      "6821it [13:44,  6.96it/s]5 [13:44<03:11,  6.92it/s]\u001b[A\n",
      "6823it [13:44,  7.79it/s]5 [13:44<03:10,  6.96it/s]\u001b[A\n",
      "6824it [13:44,  7.75it/s]5 [13:44<02:50,  7.77it/s]\u001b[A\n",
      "6825it [13:44,  7.15it/s]5 [13:44<02:49,  7.78it/s]\u001b[A\n",
      "6826it [13:44,  6.84it/s]5 [13:44<03:04,  7.17it/s]\u001b[A\n",
      "6827it [13:45,  7.34it/s]5 [13:44<03:12,  6.84it/s]\u001b[A\n",
      "6828it [13:45,  7.36it/s]5 [13:44<02:59,  7.35it/s]\u001b[A\n",
      "6829it [13:45,  7.68it/s]5 [13:45<02:58,  7.38it/s]\u001b[A\n",
      "6830it [13:45,  7.72it/s]5 [13:45<02:51,  7.69it/s]\u001b[A\n",
      "6831it [13:45,  7.13it/s]5 [13:45<02:50,  7.73it/s]\u001b[A\n",
      "6832it [13:45,  5.68it/s]5 [13:45<03:07,  7.01it/s]\u001b[A\n",
      "6833it [13:45,  5.56it/s]5 [13:45<03:50,  5.68it/s]\u001b[A\n",
      "6834it [13:46,  5.57it/s]5 [13:45<03:56,  5.56it/s]\u001b[A\n",
      "6835it [13:46,  4.50it/s]5 [13:46<03:57,  5.53it/s]\u001b[A\n",
      "6836it [13:46,  4.93it/s]5 [13:46<04:49,  4.53it/s]\u001b[A\n",
      "6837it [13:46,  5.75it/s]5 [13:46<04:24,  4.96it/s]\u001b[A\n",
      "6838it [13:46,  6.39it/s]5 [13:46<03:46,  5.77it/s]\u001b[A\n",
      "6839it [13:47,  6.30it/s]5 [13:46<03:24,  6.40it/s]\u001b[A\n",
      "6840it [13:47,  7.08it/s]5 [13:46<03:26,  6.32it/s]\u001b[A\n",
      "6842it [13:47,  7.99it/s]5 [13:47<03:03,  7.10it/s]\u001b[A\n",
      "6843it [13:47,  7.83it/s]5 [13:47<02:42,  8.00it/s]\u001b[A\n",
      "6844it [13:47,  7.43it/s]5 [13:47<02:48,  7.72it/s]\u001b[A\n",
      "6845it [13:47,  7.77it/s]5 [13:47<02:54,  7.47it/s]\u001b[A\n",
      "6846it [13:47,  7.33it/s]5 [13:47<02:46,  7.79it/s]\u001b[A\n",
      "6847it [13:47,  7.46it/s]5 [13:47<02:56,  7.35it/s]\u001b[A\n",
      "6848it [13:48,  7.27it/s]5 [13:47<02:55,  7.38it/s]\u001b[A\n",
      "6849it [13:48,  6.80it/s]5 [13:48<02:57,  7.30it/s]\u001b[A\n",
      "6850it [13:48,  6.09it/s]5 [13:48<03:13,  6.68it/s]\u001b[A\n",
      "6851it [13:48,  6.67it/s]5 [13:48<03:30,  6.14it/s]\u001b[A\n",
      "6852it [13:48,  7.13it/s]5 [13:48<03:12,  6.71it/s]\u001b[A\n",
      "6853it [13:48,  7.47it/s]5 [13:48<03:00,  7.16it/s]\u001b[A\n",
      "6854it [13:48,  7.76it/s]5 [13:48<02:52,  7.50it/s]\u001b[A\n",
      "6855it [13:49,  7.78it/s]5 [13:48<02:45,  7.78it/s]\u001b[A\n",
      "6856it [13:49,  7.33it/s]5 [13:49<02:45,  7.80it/s]\u001b[A\n",
      "6857it [13:49,  7.89it/s]5 [13:49<02:55,  7.33it/s]\u001b[A\n",
      "6859it [13:49,  8.49it/s]5 [13:49<02:43,  7.90it/s]\u001b[A\n",
      "6861it [13:49,  9.04it/s]5 [13:49<02:31,  8.50it/s]\u001b[A\n",
      "6862it [13:49,  8.67it/s]5 [13:49<02:21,  9.04it/s]\u001b[A\n",
      "6864it [13:50,  8.96it/s]5 [13:49<02:27,  8.68it/s]\u001b[A\n",
      "6865it [13:50,  7.61it/s]5 [13:50<02:22,  8.96it/s]\u001b[A\n",
      "6866it [13:50,  8.15it/s]5 [13:50<02:48,  7.61it/s]\u001b[A\n",
      "6867it [13:50,  8.55it/s]5 [13:50<02:36,  8.16it/s]\u001b[A\n",
      "6868it [13:50,  8.19it/s]5 [13:50<02:29,  8.55it/s]\u001b[A\n",
      "6869it [13:50,  8.40it/s]5 [13:50<02:36,  8.19it/s]\u001b[A\n",
      "6870it [13:50,  8.64it/s]5 [13:50<02:31,  8.40it/s]\u001b[A\n",
      "6872it [13:51,  8.98it/s]5 [13:50<02:27,  8.63it/s]\u001b[A\n",
      "6873it [13:51,  8.35it/s]5 [13:50<02:21,  8.98it/s]\u001b[A\n",
      "6874it [13:51,  8.35it/s]5 [13:51<02:32,  8.35it/s]\u001b[A\n",
      "6875it [13:51,  8.71it/s]5 [13:51<02:32,  8.34it/s]\u001b[A\n",
      "6876it [13:51,  8.70it/s]5 [13:51<02:25,  8.71it/s]\u001b[A\n",
      "6877it [13:51,  8.79it/s]5 [13:51<02:25,  8.70it/s]\u001b[A\n",
      "6878it [13:51,  9.06it/s]5 [13:51<02:24,  8.79it/s]\u001b[A\n",
      "6879it [13:51,  9.29it/s]5 [13:51<02:19,  9.06it/s]\u001b[A\n",
      "6881it [13:52,  9.32it/s]5 [13:51<02:16,  9.29it/s]\u001b[A\n",
      "6883it [13:52,  9.66it/s]5 [13:51<02:15,  9.31it/s]\u001b[A\n",
      "6884it [13:52,  9.62it/s]5 [13:52<02:10,  9.66it/s]\u001b[A\n",
      "6886it [13:52,  9.77it/s]5 [13:52<02:11,  9.62it/s]\u001b[A\n",
      "6887it [13:52,  9.41it/s]5 [13:52<02:08,  9.78it/s]\u001b[A\n",
      "6888it [13:52,  9.05it/s]5 [13:52<02:13,  9.42it/s]\u001b[A\n",
      "6889it [13:52,  9.11it/s]5 [13:52<02:18,  9.05it/s]\u001b[A\n",
      "6890it [13:53,  8.35it/s]5 [13:52<02:17,  9.11it/s]\u001b[A\n",
      "6891it [13:53,  8.53it/s]5 [13:52<02:30,  8.34it/s]\u001b[A\n",
      "6892it [13:53,  7.57it/s]5 [13:53<02:27,  8.53it/s]\u001b[A\n",
      "6893it [13:53,  7.77it/s]5 [13:53<02:45,  7.57it/s]\u001b[A\n",
      "6894it [13:53,  7.87it/s]5 [13:53<02:41,  7.77it/s]\u001b[A\n",
      "6895it [13:53,  7.07it/s]5 [13:53<02:39,  7.87it/s]\u001b[A\n",
      "6896it [13:53,  7.07it/s]5 [13:53<02:56,  7.07it/s]\u001b[A\n",
      "6897it [13:53,  7.49it/s]5 [13:53<02:56,  7.07it/s]\u001b[A\n",
      "6898it [13:54,  7.83it/s]5 [13:53<02:46,  7.49it/s]\u001b[A\n",
      "6899it [13:54,  7.68it/s]5 [13:54<02:39,  7.83it/s]\u001b[A\n",
      "6900it [13:54,  7.93it/s]5 [13:54<02:42,  7.68it/s]\u001b[A\n",
      "6901it [13:54,  7.65it/s]5 [13:54<02:37,  7.93it/s]\u001b[A\n",
      "6902it [13:54,  7.79it/s]5 [13:54<02:42,  7.65it/s]\u001b[A\n",
      "6903it [13:54,  7.82it/s]5 [13:54<02:39,  7.79it/s]\u001b[A\n",
      "6904it [13:54,  8.00it/s]5 [13:54<02:38,  7.81it/s]\u001b[A\n",
      "6906it [13:55,  8.71it/s]5 [13:54<02:35,  8.00it/s]\u001b[A\n",
      "6907it [13:55,  8.89it/s]5 [13:54<02:22,  8.71it/s]\u001b[A\n",
      "6908it [13:55,  8.85it/s]5 [13:55<02:19,  8.89it/s]\u001b[A\n",
      "6910it [13:55,  9.05it/s]5 [13:55<02:19,  8.85it/s]\u001b[A\n",
      "6911it [13:55,  9.09it/s]5 [13:55<02:17,  9.00it/s]\u001b[A\n",
      "6913it [13:55,  9.46it/s]5 [13:55<02:15,  9.10it/s]\u001b[A\n",
      "6915it [13:55,  9.97it/s]5 [13:55<02:11,  9.34it/s]\u001b[A\n",
      "6917it [13:56,  9.68it/s]5 [13:55<02:04,  9.87it/s]\u001b[A\n",
      "6919it [13:56,  9.73it/s]5 [13:56<02:07,  9.62it/s]\u001b[A\n",
      "6920it [13:56,  9.19it/s]5 [13:56<02:06,  9.67it/s]\u001b[A\n",
      "6921it [13:56,  9.36it/s]5 [13:56<02:13,  9.16it/s]\u001b[A\n",
      "6922it [13:56,  6.31it/s]5 [13:56<02:11,  9.32it/s]\u001b[A\n",
      "6923it [13:57,  6.30it/s]5 [13:56<03:16,  6.21it/s]\u001b[A\n",
      "6924it [13:57,  6.59it/s]5 [13:56<03:12,  6.34it/s]\u001b[A\n",
      "6925it [13:57,  6.94it/s]5 [13:57<03:04,  6.62it/s]\u001b[A\n",
      "6926it [13:57,  7.22it/s]5 [13:57<02:55,  6.95it/s]\u001b[A\n",
      "6928it [13:57,  8.09it/s]5 [13:57<02:48,  7.24it/s]\u001b[A\n",
      "6930it [13:57,  8.71it/s]5 [13:57<02:30,  8.09it/s]\u001b[A\n",
      "6931it [13:57,  9.01it/s]5 [13:57<02:19,  8.73it/s]\u001b[A\n",
      "6932it [13:57,  9.09it/s]5 [13:57<02:14,  9.00it/s]\u001b[A\n",
      "6933it [13:58,  8.86it/s]5 [13:57<02:13,  9.11it/s]\u001b[A\n",
      "6934it [13:58,  8.52it/s]5 [13:58<02:16,  8.88it/s]\u001b[A\n",
      "6935it [13:58,  7.94it/s]5 [13:58<02:21,  8.53it/s]\u001b[A\n",
      "6936it [13:58,  6.96it/s]5 [13:58<02:32,  7.95it/s]\u001b[A\n",
      "6937it [13:58,  6.61it/s]5 [13:58<02:53,  6.97it/s]\u001b[A\n",
      "6938it [13:58,  6.79it/s]5 [13:58<03:02,  6.62it/s]\u001b[A\n",
      "6939it [13:59,  6.62it/s]5 [13:58<02:57,  6.79it/s]\u001b[A\n",
      "6940it [13:59,  5.60it/s]5 [13:58<03:02,  6.62it/s]\u001b[A\n",
      "6941it [13:59,  5.12it/s]5 [13:59<03:35,  5.59it/s]\u001b[A\n",
      "6942it [13:59,  5.42it/s]5 [13:59<03:55,  5.12it/s]\u001b[A\n",
      "6943it [13:59,  6.25it/s]5 [13:59<03:41,  5.42it/s]\u001b[A\n",
      "6944it [13:59,  6.65it/s]5 [13:59<03:12,  6.25it/s]\u001b[A\n",
      "6945it [14:00,  7.28it/s]5 [13:59<03:00,  6.65it/s]\u001b[A\n",
      "6946it [14:00,  7.76it/s]5 [13:59<02:44,  7.28it/s]\u001b[A\n",
      "6947it [14:00,  8.31it/s]5 [14:00<02:34,  7.76it/s]\u001b[A\n",
      "6948it [14:00,  7.22it/s]5 [14:00<02:24,  8.32it/s]\u001b[A\n",
      "6949it [14:00,  6.93it/s]5 [14:00<02:45,  7.22it/s]\u001b[A\n",
      "6950it [14:00,  7.29it/s]5 [14:00<02:52,  6.93it/s]\u001b[A\n",
      "6951it [14:00,  7.77it/s]5 [14:00<02:43,  7.29it/s]\u001b[A\n",
      "6953it [14:00,  8.49it/s]5 [14:00<02:33,  7.77it/s]\u001b[A\n",
      "6955it [14:01,  9.07it/s]5 [14:00<02:20,  8.49it/s]\u001b[A\n",
      "6957it [14:01,  9.59it/s]5 [14:01<02:11,  9.07it/s]\u001b[A\n",
      "6959it [14:01,  9.85it/s]5 [14:01<02:03,  9.59it/s]\u001b[A\n",
      "6961it [14:01,  9.38it/s]5 [14:01<02:00,  9.85it/s]\u001b[A\n",
      "6962it [14:01,  8.96it/s]5 [14:01<02:06,  9.38it/s]\u001b[A\n",
      "6963it [14:02,  8.28it/s]5 [14:01<02:12,  8.96it/s]\u001b[A\n",
      "6964it [14:02,  8.46it/s]5 [14:01<02:22,  8.28it/s]\u001b[A\n",
      "6965it [14:02,  8.38it/s]5 [14:02<02:19,  8.46it/s]\u001b[A\n",
      "6966it [14:02,  8.56it/s]5 [14:02<02:20,  8.38it/s]\u001b[A\n",
      "6967it [14:02,  8.28it/s]5 [14:02<02:17,  8.56it/s]\u001b[A\n",
      "6968it [14:02,  7.88it/s]5 [14:02<02:22,  8.28it/s]\u001b[A\n",
      "6969it [14:02,  7.69it/s]5 [14:02<02:29,  7.88it/s]\u001b[A\n",
      "6970it [14:02,  8.22it/s]5 [14:02<02:32,  7.69it/s]\u001b[A\n",
      "6971it [14:03,  6.66it/s]5 [14:02<02:24,  8.13it/s]\u001b[A\n",
      "6972it [14:03,  6.71it/s]5 [14:03<02:57,  6.61it/s]\u001b[A\n",
      "6973it [14:03,  6.86it/s]5 [14:03<02:53,  6.75it/s]\u001b[A\n",
      "6974it [14:03,  5.36it/s]5 [14:03<02:52,  6.80it/s]\u001b[A\n",
      "6975it [14:03,  5.33it/s]5 [14:03<03:37,  5.38it/s]\u001b[A\n",
      "6976it [14:04,  4.52it/s]5 [14:03<03:41,  5.28it/s]\u001b[A\n",
      "6977it [14:04,  5.33it/s]5 [14:04<04:17,  4.54it/s]\u001b[A\n",
      "6979it [14:04,  6.13it/s]5 [14:04<03:38,  5.35it/s]\u001b[A\n",
      "6980it [14:04,  5.53it/s]5 [14:04<03:09,  6.15it/s]\u001b[A\n",
      "6981it [14:04,  5.47it/s]5 [14:04<03:30,  5.54it/s]\u001b[A\n",
      "6982it [14:05,  5.30it/s]5 [14:04<03:32,  5.47it/s]\u001b[A\n",
      "6983it [14:05,  5.91it/s]5 [14:05<03:39,  5.31it/s]\u001b[A\n",
      "6984it [14:05,  6.19it/s]5 [14:05<03:16,  5.92it/s]\u001b[A\n",
      "6985it [14:05,  5.34it/s]5 [14:05<03:07,  6.19it/s]\u001b[A\n",
      "6986it [14:05,  5.73it/s]5 [14:05<03:39,  5.28it/s]\u001b[A\n",
      "6987it [14:05,  5.48it/s]5 [14:05<03:21,  5.75it/s]\u001b[A\n",
      "6988it [14:06,  5.08it/s]5 [14:05<03:30,  5.49it/s]\u001b[A\n",
      "6989it [14:06,  4.90it/s]5 [14:06<03:49,  5.04it/s]\u001b[A\n",
      "6990it [14:06,  5.27it/s]5 [14:06<03:54,  4.92it/s]\u001b[A\n",
      "6991it [14:06,  5.13it/s]5 [14:06<03:38,  5.28it/s]\u001b[A\n",
      "6992it [14:06,  5.47it/s]5 [14:06<03:44,  5.14it/s]\u001b[A\n",
      "6993it [14:07,  4.93it/s]5 [14:06<03:30,  5.48it/s]\u001b[A\n",
      "6994it [14:07,  5.34it/s]5 [14:07<03:56,  4.88it/s]\u001b[A\n",
      "6995it [14:07,  6.19it/s]5 [14:07<03:34,  5.36it/s]\u001b[A\n",
      "6996it [14:07,  6.28it/s]5 [14:07<03:05,  6.21it/s]\u001b[A\n",
      "6997it [14:07,  6.72it/s]5 [14:07<03:02,  6.29it/s]\u001b[A\n",
      "6998it [14:07,  6.88it/s]5 [14:07<02:50,  6.74it/s]\u001b[A\n",
      "6999it [14:07,  7.46it/s]5 [14:07<02:46,  6.90it/s]\u001b[A\n",
      "7000it [14:08,  7.24it/s]5 [14:07<02:33,  7.47it/s]\u001b[A\n",
      "7001it [14:08,  7.32it/s]5 [14:08<02:38,  7.24it/s]\u001b[A\n",
      "7002it [14:08,  7.38it/s]5 [14:08<02:36,  7.32it/s]\u001b[A\n",
      "7003it [14:08,  7.60it/s]5 [14:08<02:34,  7.38it/s]\u001b[A\n",
      "7004it [14:08,  7.83it/s]5 [14:08<02:30,  7.61it/s]\u001b[A\n",
      "7005it [14:08,  8.28it/s]5 [14:08<02:25,  7.83it/s]\u001b[A\n",
      "7006it [14:08,  8.44it/s]5 [14:08<02:17,  8.28it/s]\u001b[A\n",
      "7007it [14:08,  8.21it/s]5 [14:08<02:14,  8.44it/s]\u001b[A\n",
      "7008it [14:09,  8.17it/s]5 [14:08<02:18,  8.21it/s]\u001b[A\n",
      "7009it [14:09,  8.55it/s]5 [14:09<02:19,  8.17it/s]\u001b[A\n",
      "7010it [14:09,  8.51it/s]5 [14:09<02:12,  8.55it/s]\u001b[A\n",
      "7011it [14:09,  8.50it/s]5 [14:09<02:13,  8.52it/s]\u001b[A\n",
      "7012it [14:09,  8.47it/s]5 [14:09<02:13,  8.51it/s]\u001b[A\n",
      "7013it [14:09,  8.36it/s]5 [14:09<02:13,  8.47it/s]\u001b[A\n",
      "7014it [14:09,  8.19it/s]5 [14:09<02:15,  8.36it/s]\u001b[A\n",
      "7016it [14:09,  8.64it/s]5 [14:09<02:18,  8.19it/s]\u001b[A\n",
      "7017it [14:10,  8.38it/s]5 [14:09<02:10,  8.64it/s]\u001b[A\n",
      "7018it [14:10,  8.32it/s]5 [14:10<02:14,  8.38it/s]\u001b[A\n",
      "7019it [14:10,  7.84it/s]5 [14:10<02:15,  8.32it/s]\u001b[A\n",
      "7020it [14:10,  7.32it/s]5 [14:10<02:23,  7.83it/s]\u001b[A\n",
      "7021it [14:10,  7.36it/s]5 [14:10<02:33,  7.31it/s]\u001b[A\n",
      "7022it [14:10,  7.29it/s]5 [14:10<02:32,  7.36it/s]\u001b[A\n",
      "7023it [14:10,  6.61it/s]5 [14:10<02:34,  7.28it/s]\u001b[A\n",
      "7024it [14:11,  6.03it/s]5 [14:10<02:49,  6.61it/s]\u001b[A\n",
      "7025it [14:11,  6.34it/s]5 [14:11<03:06,  6.03it/s]\u001b[A\n",
      "7026it [14:11,  6.80it/s]5 [14:11<02:56,  6.34it/s]\u001b[A\n",
      "7027it [14:11,  6.28it/s]5 [14:11<02:44,  6.79it/s]\u001b[A\n",
      "7028it [14:11,  6.75it/s]5 [14:11<02:58,  6.28it/s]\u001b[A\n",
      "7029it [14:11,  6.84it/s]5 [14:11<02:45,  6.76it/s]\u001b[A\n",
      "7030it [14:12,  5.06it/s]5 [14:11<02:43,  6.84it/s]\u001b[A\n",
      "7031it [14:12,  5.33it/s]5 [14:12<03:40,  5.06it/s]\u001b[A\n",
      "7033it [14:12,  6.10it/s]5 [14:12<03:28,  5.33it/s]\u001b[A\n",
      "7034it [14:12,  6.32it/s]5 [14:12<03:02,  6.10it/s]\u001b[A\n",
      "7035it [14:12,  6.40it/s]5 [14:12<02:55,  6.32it/s]\u001b[A\n",
      "7036it [14:13,  7.16it/s]5 [14:12<02:53,  6.40it/s]\u001b[A\n",
      "7038it [14:13,  7.77it/s]5 [14:12<02:34,  7.16it/s]\u001b[A\n",
      "7039it [14:13,  8.03it/s]5 [14:13<02:22,  7.77it/s]\u001b[A\n",
      "7040it [14:13,  5.63it/s]5 [14:13<02:17,  8.03it/s]\u001b[A\n",
      "7041it [14:13,  6.36it/s]5 [14:13<03:16,  5.63it/s]\u001b[A\n",
      "7042it [14:13,  6.47it/s]5 [14:13<02:53,  6.36it/s]\u001b[A\n",
      "7043it [14:14,  6.17it/s]5 [14:13<02:50,  6.46it/s]\u001b[A\n",
      "7044it [14:14,  6.69it/s]5 [14:14<02:58,  6.17it/s]\u001b[A\n",
      "7045it [14:14,  7.10it/s]5 [14:14<02:44,  6.68it/s]\u001b[A\n",
      "7046it [14:14,  6.67it/s]5 [14:14<02:34,  7.11it/s]\u001b[A\n",
      "7047it [14:14,  6.88it/s]5 [14:14<02:45,  6.66it/s]\u001b[A\n",
      "7048it [14:14,  6.76it/s]5 [14:14<02:39,  6.89it/s]\u001b[A\n",
      "7049it [14:14,  7.37it/s]5 [14:14<02:42,  6.76it/s]\u001b[A\n",
      "7050it [14:14,  7.98it/s]5 [14:14<02:28,  7.37it/s]\u001b[A\n",
      "7051it [14:15,  8.21it/s]5 [14:14<02:17,  7.98it/s]\u001b[A\n",
      "7052it [14:15,  8.47it/s]5 [14:15<02:13,  8.21it/s]\u001b[A\n",
      "7054it [14:15,  9.10it/s]5 [14:15<02:09,  8.47it/s]\u001b[A\n",
      "7056it [14:15,  9.24it/s]5 [14:15<01:59,  9.09it/s]\u001b[A\n",
      "7057it [14:15,  8.87it/s]5 [14:15<01:57,  9.24it/s]\u001b[A\n",
      "7059it [14:15,  9.23it/s]5 [14:15<02:02,  8.88it/s]\u001b[A\n",
      "7060it [14:16,  9.38it/s]5 [14:15<01:57,  9.23it/s]\u001b[A\n",
      "7061it [14:16,  8.74it/s]5 [14:15<01:55,  9.37it/s]\u001b[A\n",
      "7062it [14:16,  8.00it/s]5 [14:16<02:03,  8.74it/s]\u001b[A\n",
      "7064it [14:16,  8.45it/s]5 [14:16<02:15,  8.01it/s]\u001b[A\n",
      "7065it [14:16,  8.01it/s]5 [14:16<02:07,  8.45it/s]\u001b[A\n",
      "7066it [14:16,  7.70it/s]5 [14:16<02:14,  8.01it/s]\u001b[A\n",
      "7067it [14:16,  7.78it/s]5 [14:16<02:20,  7.70it/s]\u001b[A\n",
      "7068it [14:17,  7.89it/s]5 [14:16<02:18,  7.78it/s]\u001b[A\n",
      "7069it [14:17,  8.09it/s]5 [14:16<02:16,  7.87it/s]\u001b[A\n",
      "7070it [14:17,  8.21it/s]5 [14:17<02:12,  8.09it/s]\u001b[A\n",
      "7071it [14:17,  8.56it/s]5 [14:17<02:10,  8.21it/s]\u001b[A\n",
      "7073it [14:17,  8.79it/s]5 [14:17<02:05,  8.57it/s]\u001b[A\n",
      "7074it [14:17,  8.28it/s]5 [14:17<02:01,  8.79it/s]\u001b[A\n",
      "7075it [14:17,  8.66it/s]5 [14:17<02:09,  8.29it/s]\u001b[A\n",
      "7076it [14:17,  8.05it/s]5 [14:17<02:03,  8.66it/s]\u001b[A\n",
      "7077it [14:18,  8.46it/s]5 [14:17<02:12,  8.05it/s]\u001b[A\n",
      "7078it [14:18,  8.77it/s]5 [14:18<02:06,  8.46it/s]\u001b[A\n",
      "7079it [14:18,  8.92it/s]5 [14:18<02:01,  8.77it/s]\u001b[A\n",
      "7080it [14:18,  8.77it/s]5 [14:18<01:59,  8.92it/s]\u001b[A\n",
      "7082it [14:18,  8.38it/s]5 [14:18<02:01,  8.77it/s]\u001b[A\n",
      "7083it [14:18,  8.72it/s]5 [14:18<02:06,  8.38it/s]\u001b[A\n",
      "7084it [14:18,  8.83it/s]5 [14:18<02:01,  8.72it/s]\u001b[A\n",
      "7085it [14:18,  8.85it/s]5 [14:18<02:00,  8.83it/s]\u001b[A\n",
      "7086it [14:19,  8.53it/s]5 [14:18<01:59,  8.85it/s]\u001b[A\n",
      "7087it [14:19,  8.48it/s]5 [14:19<02:04,  8.53it/s]\u001b[A\n",
      "7089it [14:19,  8.89it/s]5 [14:19<02:04,  8.48it/s]\u001b[A\n",
      "7090it [14:19,  9.07it/s]5 [14:19<01:58,  8.88it/s]\u001b[A\n",
      "7092it [14:19,  9.41it/s]5 [14:19<01:56,  9.07it/s]\u001b[A\n",
      "7093it [14:19,  9.48it/s]5 [14:19<01:51,  9.41it/s]\u001b[A\n",
      "7094it [14:19,  9.39it/s]5 [14:19<01:51,  9.48it/s]\u001b[A\n",
      "7095it [14:20,  9.08it/s]5 [14:19<01:51,  9.39it/s]\u001b[A\n",
      "7096it [14:20,  9.10it/s]5 [14:20<01:55,  9.08it/s]\u001b[A\n",
      "7097it [14:20,  9.15it/s]5 [14:20<01:55,  9.10it/s]\u001b[A\n",
      "7098it [14:20,  8.70it/s]5 [14:20<01:54,  9.15it/s]\u001b[A\n",
      "7099it [14:20,  8.88it/s]5 [14:20<02:00,  8.71it/s]\u001b[A\n",
      "7100it [14:20,  8.37it/s]5 [14:20<01:57,  8.89it/s]\u001b[A\n",
      "7101it [14:20,  7.05it/s]5 [14:20<02:04,  8.37it/s]\u001b[A\n",
      "7102it [14:21,  6.75it/s]5 [14:20<02:28,  7.05it/s]\u001b[A\n",
      "7103it [14:21,  6.79it/s]5 [14:20<02:34,  6.75it/s]\u001b[A\n",
      "7104it [14:21,  7.24it/s]5 [14:21<02:33,  6.79it/s]\u001b[A\n",
      "7105it [14:21,  7.58it/s]5 [14:21<02:23,  7.24it/s]\u001b[A\n",
      "7106it [14:21,  7.95it/s]5 [14:21<02:17,  7.58it/s]\u001b[A\n",
      "7107it [14:21,  7.09it/s]5 [14:21<02:10,  7.95it/s]\u001b[A\n",
      "7108it [14:21,  6.97it/s]5 [14:21<02:26,  7.09it/s]\u001b[A\n",
      "7109it [14:21,  7.25it/s]5 [14:21<02:28,  6.97it/s]\u001b[A\n",
      "7110it [14:22,  7.70it/s]5 [14:21<02:22,  7.25it/s]\u001b[A\n",
      "7111it [14:22,  7.74it/s]5 [14:22<02:14,  7.70it/s]\u001b[A\n",
      "7112it [14:22,  8.26it/s]5 [14:22<02:13,  7.75it/s]\u001b[A\n",
      "7113it [14:22,  7.30it/s]5 [14:22<02:05,  8.26it/s]\u001b[A\n",
      "7114it [14:22,  6.49it/s]5 [14:22<02:21,  7.30it/s]\u001b[A\n",
      "7115it [14:22,  5.76it/s]5 [14:22<02:38,  6.49it/s]\u001b[A\n",
      "7116it [14:23,  5.70it/s]5 [14:22<02:58,  5.76it/s]\u001b[A\n",
      "7117it [14:23,  6.32it/s]5 [14:23<03:00,  5.70it/s]\u001b[A\n",
      "7118it [14:23,  6.98it/s]5 [14:23<02:42,  6.32it/s]\u001b[A\n",
      "7119it [14:23,  7.28it/s]5 [14:23<02:27,  6.98it/s]\u001b[A\n",
      "7120it [14:23,  7.20it/s]5 [14:23<02:21,  7.28it/s]\u001b[A\n",
      "7121it [14:23,  7.28it/s]5 [14:23<02:22,  7.19it/s]\u001b[A\n",
      "7122it [14:23,  7.64it/s]5 [14:23<02:20,  7.28it/s]\u001b[A\n",
      "7123it [14:23,  8.19it/s]5 [14:23<02:13,  7.64it/s]\u001b[A\n",
      "7124it [14:24,  7.26it/s]5 [14:23<02:04,  8.20it/s]\u001b[A\n",
      "7125it [14:24,  7.10it/s]5 [14:24<02:20,  7.26it/s]\u001b[A\n",
      "7126it [14:24,  7.76it/s]5 [14:24<02:23,  7.11it/s]\u001b[A\n",
      "7127it [14:24,  8.01it/s]5 [14:24<02:11,  7.75it/s]\u001b[A\n",
      "7129it [14:24,  8.59it/s]5 [14:24<02:07,  8.01it/s]\u001b[A\n",
      "7131it [14:24,  9.29it/s]5 [14:24<01:58,  8.58it/s]\u001b[A\n",
      "7132it [14:24,  8.09it/s]5 [14:24<01:49,  9.29it/s]\u001b[A\n",
      "7133it [14:25,  6.41it/s]5 [14:24<02:05,  8.07it/s]\u001b[A\n",
      "7134it [14:25,  6.93it/s]5 [14:25<02:37,  6.42it/s]\u001b[A\n",
      "7135it [14:25,  6.55it/s]5 [14:25<02:25,  6.93it/s]\u001b[A\n",
      "7136it [14:25,  6.02it/s]5 [14:25<02:35,  6.50it/s]\u001b[A\n",
      "7137it [14:25,  5.99it/s]5 [14:25<02:47,  6.04it/s]\u001b[A\n",
      "7138it [14:26,  5.62it/s]5 [14:25<02:49,  5.94it/s]\u001b[A\n",
      "7139it [14:26,  6.29it/s]5 [14:26<02:58,  5.65it/s]\u001b[A\n",
      "7140it [14:26,  6.13it/s]5 [14:26<02:40,  6.25it/s]\u001b[A\n",
      "7141it [14:26,  5.96it/s]5 [14:26<02:43,  6.16it/s]\u001b[A\n",
      "7142it [14:26,  6.40it/s]5 [14:26<02:47,  5.99it/s]\u001b[A\n",
      "7143it [14:26,  7.15it/s]5 [14:26<02:36,  6.42it/s]\u001b[A\n",
      "7144it [14:26,  7.61it/s]5 [14:26<02:19,  7.16it/s]\u001b[A\n",
      "7145it [14:27,  6.60it/s]5 [14:26<02:13,  7.50it/s]\u001b[A\n",
      "7146it [14:27,  6.71it/s]5 [14:27<02:30,  6.63it/s]\u001b[A\n",
      "7147it [14:27,  7.45it/s]5 [14:27<02:28,  6.74it/s]\u001b[A\n",
      "7149it [14:27,  8.25it/s]5 [14:27<02:13,  7.47it/s]\u001b[A\n",
      "7150it [14:27,  8.50it/s]5 [14:27<02:00,  8.26it/s]\u001b[A\n",
      "7151it [14:27,  8.76it/s]5 [14:27<01:56,  8.51it/s]\u001b[A\n",
      "7152it [14:27,  8.63it/s]5 [14:27<01:53,  8.77it/s]\u001b[A\n",
      "7153it [14:27,  8.32it/s]5 [14:27<01:54,  8.64it/s]\u001b[A\n",
      "7155it [14:28,  9.15it/s]5 [14:27<01:59,  8.32it/s]\u001b[A\n",
      "7157it [14:28,  9.59it/s]5 [14:28<01:48,  9.15it/s]\u001b[A\n",
      "7159it [14:28,  9.87it/s]5 [14:28<01:43,  9.59it/s]\u001b[A\n",
      "7161it [14:28, 10.20it/s]5 [14:28<01:39,  9.88it/s]\u001b[A\n",
      "7163it [14:28, 10.55it/s]5 [14:28<01:36, 10.20it/s]\u001b[A\n",
      "7165it [14:29, 10.41it/s]5 [14:28<01:33, 10.55it/s]\u001b[A\n",
      "7167it [14:29, 10.05it/s]5 [14:28<01:34, 10.41it/s]\u001b[A\n",
      "7169it [14:29, 10.10it/s]5 [14:29<01:37, 10.05it/s]\u001b[A\n",
      "7171it [14:29,  9.74it/s]5 [14:29<01:36, 10.10it/s]\u001b[A\n",
      "7172it [14:29,  9.65it/s]5 [14:29<01:39,  9.74it/s]\u001b[A\n",
      "7173it [14:29,  8.78it/s]5 [14:29<01:40,  9.66it/s]\u001b[A\n",
      "7174it [14:30,  8.48it/s]5 [14:29<01:50,  8.78it/s]\u001b[A\n",
      "7175it [14:30,  8.82it/s]5 [14:30<01:54,  8.48it/s]\u001b[A\n",
      "7176it [14:30,  9.04it/s]5 [14:30<01:49,  8.83it/s]\u001b[A\n",
      "7177it [14:30,  8.34it/s]5 [14:30<01:47,  9.04it/s]\u001b[A\n",
      "7178it [14:30,  7.57it/s]5 [14:30<01:56,  8.34it/s]\u001b[A\n",
      "7179it [14:30,  7.84it/s]5 [14:30<02:07,  7.57it/s]\u001b[A\n",
      "7181it [14:30,  8.04it/s]5 [14:30<02:03,  7.84it/s]\u001b[A\n",
      "7182it [14:31,  8.07it/s]5 [14:30<01:59,  8.04it/s]\u001b[A\n",
      "7183it [14:31,  7.26it/s]5 [14:30<01:59,  8.07it/s]\u001b[A\n",
      "7184it [14:31,  7.63it/s]5 [14:31<02:12,  7.26it/s]\u001b[A\n",
      "7185it [14:31,  8.17it/s]5 [14:31<02:06,  7.63it/s]\u001b[A\n",
      "7186it [14:31,  8.61it/s]5 [14:31<01:57,  8.17it/s]\u001b[A\n",
      "7187it [14:31,  8.29it/s]5 [14:31<01:51,  8.61it/s]\u001b[A\n",
      "7188it [14:31,  8.06it/s]5 [14:31<01:55,  8.29it/s]\u001b[A\n",
      "7189it [14:32,  6.44it/s]5 [14:31<01:58,  8.06it/s]\u001b[A\n",
      "7190it [14:32,  5.59it/s]5 [14:31<02:28,  6.42it/s]\u001b[A\n",
      "7191it [14:32,  6.40it/s]5 [14:32<02:50,  5.59it/s]\u001b[A\n",
      "7192it [14:32,  7.04it/s]5 [14:32<02:29,  6.40it/s]\u001b[A\n",
      "7193it [14:32,  5.78it/s]5 [14:32<02:15,  7.02it/s]\u001b[A\n",
      "7194it [14:32,  6.34it/s]5 [14:32<02:44,  5.79it/s]\u001b[A\n",
      "7195it [14:32,  6.99it/s]5 [14:32<02:29,  6.35it/s]\u001b[A\n",
      "7197it [14:33,  7.59it/s]5 [14:32<02:15,  7.00it/s]\u001b[A\n",
      "7198it [14:33,  6.25it/s]5 [14:33<02:04,  7.60it/s]\u001b[A\n",
      "7199it [14:33,  5.83it/s]5 [14:33<02:31,  6.25it/s]\u001b[A\n",
      "7200it [14:33,  6.44it/s]5 [14:33<02:42,  5.83it/s]\u001b[A\n",
      "7201it [14:33,  7.18it/s]5 [14:33<02:26,  6.44it/s]\u001b[A\n",
      "7202it [14:33,  6.89it/s]5 [14:33<02:11,  7.18it/s]\u001b[A\n",
      "7203it [14:34,  7.10it/s]5 [14:33<02:16,  6.89it/s]\u001b[A\n",
      "7204it [14:34,  7.46it/s]5 [14:34<02:12,  7.10it/s]\u001b[A\n",
      "7205it [14:34,  6.85it/s]5 [14:34<02:06,  7.46it/s]\u001b[A\n",
      "7206it [14:34,  6.92it/s]5 [14:34<02:17,  6.85it/s]\u001b[A\n",
      "7207it [14:34,  7.32it/s]5 [14:34<02:15,  6.92it/s]\u001b[A\n",
      "7208it [14:34,  7.42it/s]5 [14:34<02:08,  7.32it/s]\u001b[A\n",
      "7209it [14:34,  6.67it/s]5 [14:34<02:06,  7.42it/s]\u001b[A\n",
      "7211it [14:35,  7.23it/s]5 [14:34<02:20,  6.67it/s]\u001b[A\n",
      "7212it [14:35,  7.36it/s]5 [14:35<02:09,  7.23it/s]\u001b[A\n",
      "7213it [14:35,  7.62it/s]5 [14:35<02:06,  7.36it/s]\u001b[A\n",
      "7214it [14:35,  7.56it/s]5 [14:35<02:02,  7.61it/s]\u001b[A\n",
      "7215it [14:35,  7.81it/s]5 [14:35<02:03,  7.56it/s]\u001b[A\n",
      "7216it [14:35,  7.65it/s]5 [14:35<01:59,  7.81it/s]\u001b[A\n",
      "7217it [14:35,  8.06it/s]5 [14:35<02:01,  7.65it/s]\u001b[A\n",
      "7218it [14:36,  8.21it/s]5 [14:35<01:55,  8.06it/s]\u001b[A\n",
      "7219it [14:36,  8.07it/s]5 [14:35<01:52,  8.21it/s]\u001b[A\n",
      "7221it [14:36,  8.68it/s]5 [14:36<01:54,  8.07it/s]\u001b[A\n",
      "7222it [14:36,  8.97it/s]5 [14:36<01:46,  8.68it/s]\u001b[A\n",
      "7223it [14:36,  9.08it/s]5 [14:36<01:43,  8.96it/s]\u001b[A\n",
      "7224it [14:36,  9.02it/s]5 [14:36<01:41,  9.08it/s]\u001b[A\n",
      "7225it [14:36,  9.01it/s]5 [14:36<01:42,  9.02it/s]\u001b[A\n",
      "7227it [14:37,  9.15it/s]5 [14:36<01:42,  9.01it/s]\u001b[A\n",
      "7228it [14:37,  9.25it/s]5 [14:36<01:40,  9.15it/s]\u001b[A\n",
      "7229it [14:37,  8.50it/s]5 [14:37<01:39,  9.26it/s]\u001b[A\n",
      "7231it [14:37,  8.68it/s]5 [14:37<01:47,  8.50it/s]\u001b[A\n",
      "7232it [14:37,  8.37it/s]5 [14:37<01:45,  8.68it/s]\u001b[A\n",
      "7233it [14:37,  8.73it/s]5 [14:37<01:49,  8.37it/s]\u001b[A\n",
      "7235it [14:37,  8.44it/s]5 [14:37<01:44,  8.74it/s]\u001b[A\n",
      "7236it [14:38,  6.78it/s]5 [14:37<01:47,  8.45it/s]\u001b[A\n",
      "7237it [14:38,  6.98it/s]5 [14:38<02:13,  6.79it/s]\u001b[A\n",
      "7238it [14:38,  7.52it/s]5 [14:38<02:10,  6.98it/s]\u001b[A\n",
      "7239it [14:38,  7.41it/s]5 [14:38<02:00,  7.52it/s]\u001b[A\n",
      "7240it [14:38,  7.29it/s]5 [14:38<02:02,  7.41it/s]\u001b[A\n",
      "7241it [14:38,  7.87it/s]5 [14:38<02:04,  7.28it/s]\u001b[A\n",
      "7242it [14:38,  8.36it/s]5 [14:38<01:54,  7.86it/s]\u001b[A\n",
      "7244it [14:39,  8.97it/s]5 [14:38<01:48,  8.35it/s]\u001b[A\n",
      "7246it [14:39,  9.58it/s]5 [14:39<01:40,  8.97it/s]\u001b[A\n",
      "7248it [14:39, 10.15it/s]5 [14:39<01:33,  9.58it/s]\u001b[A\n",
      "7250it [14:39, 10.15it/s]5 [14:39<01:28, 10.14it/s]\u001b[A\n",
      "7252it [14:39, 10.03it/s]5 [14:39<01:28, 10.15it/s]\u001b[A\n",
      "7254it [14:40, 10.29it/s]5 [14:39<01:29, 10.02it/s]\u001b[A\n",
      "7256it [14:40, 10.42it/s]5 [14:39<01:26, 10.29it/s]\u001b[A\n",
      "7258it [14:40, 10.22it/s]5 [14:40<01:25, 10.42it/s]\u001b[A\n",
      "7260it [14:40, 10.42it/s]5 [14:40<01:26, 10.22it/s]\u001b[A\n",
      "7262it [14:40, 10.01it/s]5 [14:40<01:24, 10.42it/s]\u001b[A\n",
      "7264it [14:41,  9.97it/s]5 [14:40<01:28, 10.01it/s]\u001b[A\n",
      "7266it [14:41, 10.58it/s]5 [14:40<01:28,  9.97it/s]\u001b[A\n",
      "7268it [14:41, 10.55it/s]5 [14:41<01:23, 10.58it/s]\u001b[A\n",
      "7270it [14:41, 10.34it/s]5 [14:41<01:23, 10.56it/s]\u001b[A\n",
      "7272it [14:41, 10.17it/s]5 [14:41<01:24, 10.34it/s]\u001b[A\n",
      "7274it [14:42,  9.69it/s]5 [14:41<01:25, 10.17it/s]\u001b[A\n",
      "7276it [14:42,  9.84it/s]5 [14:41<01:29,  9.69it/s]\u001b[A\n",
      "7277it [14:42,  8.78it/s]5 [14:42<01:28,  9.85it/s]\u001b[A\n",
      "7278it [14:42,  8.11it/s]5 [14:42<01:38,  8.78it/s]\u001b[A\n",
      "7280it [14:42,  8.85it/s]5 [14:42<01:46,  8.11it/s]\u001b[A\n",
      "7282it [14:42,  8.83it/s]5 [14:42<01:37,  8.85it/s]\u001b[A\n",
      "7283it [14:43,  8.67it/s]5 [14:42<01:37,  8.82it/s]\u001b[A\n",
      "7285it [14:43,  8.32it/s]5 [14:42<01:39,  8.68it/s]\u001b[A\n",
      "7286it [14:43,  8.41it/s]5 [14:43<01:43,  8.32it/s]\u001b[A\n",
      "7287it [14:43,  8.78it/s]5 [14:43<01:42,  8.42it/s]\u001b[A\n",
      "7288it [14:43,  8.65it/s]5 [14:43<01:37,  8.78it/s]\u001b[A\n",
      "7289it [14:43,  7.80it/s]5 [14:43<01:39,  8.65it/s]\u001b[A\n",
      "7291it [14:43,  8.15it/s]5 [14:43<01:49,  7.80it/s]\u001b[A\n",
      "7292it [14:44,  7.94it/s]5 [14:43<01:44,  8.15it/s]\u001b[A\n",
      "7293it [14:44,  7.61it/s]5 [14:44<01:47,  7.94it/s]\u001b[A\n",
      "7294it [14:44,  7.25it/s]5 [14:44<01:52,  7.60it/s]\u001b[A\n",
      "7295it [14:44,  7.35it/s]5 [14:44<01:57,  7.25it/s]\u001b[A\n",
      "7296it [14:44,  6.75it/s]5 [14:44<01:55,  7.35it/s]\u001b[A\n",
      "7297it [14:44,  7.14it/s]5 [14:44<02:05,  6.75it/s]\u001b[A\n",
      "7298it [14:45,  6.39it/s]5 [14:44<01:58,  7.14it/s]\u001b[A\n",
      "7299it [14:45,  6.32it/s]5 [14:44<02:12,  6.39it/s]\u001b[A\n",
      "7300it [14:45,  6.62it/s]5 [14:45<02:13,  6.32it/s]\u001b[A\n",
      "7301it [14:45,  7.24it/s]5 [14:45<02:07,  6.62it/s]\u001b[A\n",
      "7302it [14:45,  7.50it/s]5 [14:45<01:56,  7.24it/s]\u001b[A\n",
      "7303it [14:45,  7.37it/s]5 [14:45<01:52,  7.50it/s]\u001b[A\n",
      "7304it [14:45,  7.73it/s]5 [14:45<01:54,  7.37it/s]\u001b[A\n",
      "7306it [14:46,  8.31it/s]5 [14:45<01:48,  7.74it/s]\u001b[A\n",
      "7307it [14:46,  8.34it/s]5 [14:45<01:40,  8.31it/s]\u001b[A\n",
      "7309it [14:46,  8.61it/s]5 [14:46<01:40,  8.34it/s]\u001b[A\n",
      "7310it [14:46,  8.44it/s]5 [14:46<01:37,  8.62it/s]\u001b[A\n",
      "7312it [14:46,  8.93it/s]5 [14:46<01:38,  8.44it/s]\u001b[A\n",
      "7314it [14:46,  8.97it/s]5 [14:46<01:33,  8.94it/s]\u001b[A\n",
      "7316it [14:47,  9.46it/s]5 [14:46<01:32,  8.97it/s]\u001b[A\n",
      "7317it [14:47,  9.24it/s]5 [14:47<01:27,  9.46it/s]\u001b[A\n",
      "7318it [14:47,  9.33it/s]5 [14:47<01:29,  9.24it/s]\u001b[A\n",
      "7320it [14:47, 10.29it/s]5 [14:47<01:28,  9.32it/s]\u001b[A\n",
      "7322it [14:47, 10.62it/s]5 [14:47<01:20, 10.29it/s]\u001b[A\n",
      "7324it [14:47, 11.89it/s]5 [14:47<01:17, 10.62it/s]\u001b[A\n",
      "7326it [14:47, 13.48it/s]5 [14:47<01:09, 11.89it/s]\u001b[A\n",
      "7328it [14:48, 11.42it/s]5 [14:47<01:00, 13.47it/s]\u001b[A\n",
      "7330it [14:48,  9.91it/s]5 [14:48<01:11, 11.41it/s]\u001b[A\n",
      "7332it [14:48,  9.86it/s]5 [14:48<01:22,  9.91it/s]\u001b[A\n",
      "7334it [14:48, 10.13it/s]5 [14:48<01:22,  9.85it/s]\u001b[A\n",
      "7336it [14:48,  9.33it/s]5 [14:48<01:20, 10.13it/s]\u001b[A\n",
      "7337it [14:49,  7.98it/s]5 [14:48<01:26,  9.31it/s]\u001b[A\n",
      "7338it [14:49,  7.21it/s]5 [14:49<01:41,  7.99it/s]\u001b[A\n",
      "7339it [14:49,  6.29it/s]5 [14:49<01:51,  7.22it/s]\u001b[A\n",
      "7340it [14:49,  5.97it/s]5 [14:49<02:08,  6.29it/s]\u001b[A\n",
      "7341it [14:49,  5.67it/s]5 [14:49<02:16,  5.88it/s]\u001b[A\n",
      "7342it [14:50,  5.21it/s]5 [14:49<02:23,  5.59it/s]\u001b[A\n",
      "7343it [14:50,  4.99it/s]5 [14:50<02:34,  5.20it/s]\u001b[A\n",
      "7344it [14:50,  5.10it/s]5 [14:50<02:40,  5.00it/s]\u001b[A\n",
      "7345it [14:50,  4.76it/s]5 [14:50<02:38,  5.04it/s]\u001b[A\n",
      "7346it [14:51,  4.35it/s]5 [14:50<02:49,  4.73it/s]\u001b[A\n",
      "7347it [14:51,  4.50it/s]5 [14:51<03:03,  4.35it/s]\u001b[A\n",
      "7348it [14:51,  4.57it/s]5 [14:51<02:55,  4.54it/s]\u001b[A\n",
      "7349it [14:51,  4.82it/s]5 [14:51<02:54,  4.58it/s]\u001b[A\n",
      "7350it [14:51,  4.54it/s]5 [14:51<02:45,  4.82it/s]\u001b[A\n",
      "7351it [14:52,  5.18it/s]5 [14:51<02:53,  4.57it/s]\u001b[A\n",
      "7352it [14:52,  6.01it/s]5 [14:51<02:32,  5.21it/s]\u001b[A\n",
      "7354it [14:52,  6.77it/s]5 [14:52<02:11,  6.04it/s]\u001b[A\n",
      "7355it [14:52,  6.82it/s]5 [14:52<01:56,  6.80it/s]\u001b[A\n",
      "7356it [14:52,  7.51it/s]5 [14:52<01:55,  6.84it/s]\u001b[A\n",
      "7357it [14:52,  8.01it/s]5 [14:52<01:44,  7.53it/s]\u001b[A\n",
      "7358it [14:52,  8.23it/s]5 [14:52<01:38,  8.02it/s]\u001b[A\n",
      "7359it [14:53,  7.27it/s]5 [14:52<01:35,  8.24it/s]\u001b[A\n",
      "7360it [14:53,  6.41it/s]5 [14:52<01:48,  7.28it/s]\u001b[A\n",
      "7361it [14:53,  6.22it/s]5 [14:53<02:02,  6.41it/s]\u001b[A\n",
      "7362it [14:53,  6.38it/s]5 [14:53<02:05,  6.22it/s]\u001b[A\n",
      "7363it [14:53,  6.80it/s]5 [14:53<02:02,  6.38it/s]\u001b[A\n",
      "7364it [14:53,  7.52it/s]5 [14:53<01:54,  6.80it/s]\u001b[A\n",
      "7365it [14:53,  6.96it/s]5 [14:53<01:43,  7.52it/s]\u001b[A\n",
      "7366it [14:54,  7.62it/s]5 [14:53<01:52,  6.96it/s]\u001b[A\n",
      "7367it [14:54,  6.82it/s]5 [14:53<01:42,  7.62it/s]\u001b[A\n",
      "7368it [14:54,  6.50it/s]5 [14:54<01:54,  6.82it/s]\u001b[A\n",
      "7369it [14:54,  6.00it/s]5 [14:54<02:01,  6.40it/s]\u001b[A\n",
      "7370it [14:54,  5.92it/s]5 [14:54<02:10,  5.93it/s]\u001b[A\n",
      "7371it [14:54,  6.55it/s]5 [14:54<02:09,  5.97it/s]\u001b[A\n",
      "7372it [14:55,  6.29it/s]5 [14:54<01:57,  6.59it/s]\u001b[A\n",
      "7373it [14:55,  6.59it/s]5 [14:54<02:02,  6.29it/s]\u001b[A\n",
      "7374it [14:55,  4.75it/s]5 [14:55<01:59,  6.47it/s]\u001b[A\n",
      "7375it [14:55,  4.89it/s]5 [14:55<02:45,  4.65it/s]\u001b[A\n",
      "7376it [14:55,  5.07it/s]5 [14:55<02:40,  4.81it/s]\u001b[A\n",
      "7377it [14:56,  5.35it/s]5 [14:55<02:28,  5.18it/s]\u001b[A\n",
      "7378it [14:56,  6.06it/s]5 [14:55<02:21,  5.42it/s]\u001b[A\n",
      "7379it [14:56,  6.09it/s]5 [14:56<02:05,  6.09it/s]\u001b[A\n",
      "7380it [14:56,  6.10it/s]5 [14:56<02:04,  6.15it/s]\u001b[A\n",
      "7382it [14:56,  6.96it/s]5 [14:56<02:04,  6.15it/s]\u001b[A\n",
      "7383it [14:56,  7.12it/s]5 [14:56<01:48,  7.00it/s]\u001b[A\n",
      "7384it [14:56,  6.94it/s]5 [14:56<01:46,  7.16it/s]\u001b[A\n",
      "7385it [14:57,  6.78it/s]5 [14:56<01:49,  6.97it/s]\u001b[A\n",
      "7386it [14:57,  6.63it/s]5 [14:57<01:52,  6.78it/s]\u001b[A\n",
      "7387it [14:57,  6.86it/s]5 [14:57<01:54,  6.64it/s]\u001b[A\n",
      "7388it [14:57,  6.82it/s]5 [14:57<01:50,  6.86it/s]\u001b[A\n",
      "7389it [14:57,  6.43it/s]5 [14:57<01:51,  6.81it/s]\u001b[A\n",
      "7390it [14:57,  6.15it/s]5 [14:57<01:58,  6.40it/s]\u001b[A\n",
      "7391it [14:58,  6.47it/s]5 [14:57<02:04,  6.07it/s]\u001b[A\n",
      "7392it [14:58,  6.56it/s]5 [14:57<01:55,  6.52it/s]\u001b[A\n",
      "7393it [14:58,  6.78it/s]5 [14:58<01:54,  6.59it/s]\u001b[A\n",
      "7394it [14:58,  6.77it/s]5 [14:58<01:50,  6.80it/s]\u001b[A\n",
      "7395it [14:58,  7.26it/s]5 [14:58<01:50,  6.77it/s]\u001b[A\n",
      "7397it [14:58,  7.78it/s]5 [14:58<01:43,  7.27it/s]\u001b[A\n",
      "7399it [14:59,  7.82it/s]5 [14:58<01:35,  7.79it/s]\u001b[A\n",
      "7400it [14:59,  6.42it/s]5 [14:59<01:35,  7.81it/s]\u001b[A\n",
      "7401it [14:59,  6.96it/s]5 [14:59<01:55,  6.45it/s]\u001b[A\n",
      "7403it [14:59,  7.84it/s]5 [14:59<01:46,  6.98it/s]\u001b[A\n",
      "7405it [14:59,  8.31it/s]5 [14:59<01:34,  7.86it/s]\u001b[A\n",
      "7406it [14:59,  8.31it/s]5 [14:59<01:28,  8.33it/s]\u001b[A\n",
      "7407it [15:00,  8.36it/s]5 [14:59<01:28,  8.32it/s]\u001b[A\n",
      "7408it [15:00,  8.57it/s]5 [14:59<01:28,  8.36it/s]\u001b[A\n",
      "7409it [15:00,  8.62it/s]5 [15:00<01:25,  8.58it/s]\u001b[A\n",
      "7410it [15:00,  8.52it/s]5 [15:00<01:25,  8.63it/s]\u001b[A\n",
      "7411it [15:00,  7.65it/s]5 [15:00<01:26,  8.53it/s]\u001b[A\n",
      "7412it [15:00,  7.95it/s]5 [15:00<01:35,  7.65it/s]\u001b[A\n",
      "7413it [15:00,  8.41it/s]5 [15:00<01:32,  7.95it/s]\u001b[A\n",
      "7414it [15:00,  8.73it/s]5 [15:00<01:27,  8.41it/s]\u001b[A\n",
      "7415it [15:00,  8.76it/s]5 [15:00<01:23,  8.73it/s]\u001b[A\n",
      "7416it [15:01,  8.84it/s]5 [15:00<01:23,  8.75it/s]\u001b[A\n",
      "7417it [15:01,  9.00it/s]5 [15:01<01:22,  8.84it/s]\u001b[A\n",
      "7418it [15:01,  8.97it/s]5 [15:01<01:20,  9.00it/s]\u001b[A\n",
      "7419it [15:01,  8.79it/s]5 [15:01<01:21,  8.97it/s]\u001b[A\n",
      "7420it [15:01,  8.33it/s]5 [15:01<01:22,  8.79it/s]\u001b[A\n",
      "7421it [15:01,  8.18it/s]5 [15:01<01:27,  8.33it/s]\u001b[A\n",
      "7422it [15:01,  8.34it/s]5 [15:01<01:28,  8.18it/s]\u001b[A\n",
      "7423it [15:01,  8.11it/s]5 [15:01<01:26,  8.34it/s]\u001b[A\n",
      "7424it [15:02,  8.24it/s]5 [15:01<01:28,  8.11it/s]\u001b[A\n",
      "7425it [15:02,  8.67it/s]5 [15:01<01:27,  8.24it/s]\u001b[A\n",
      "7426it [15:02,  8.96it/s]5 [15:02<01:23,  8.67it/s]\u001b[A\n",
      "7427it [15:02,  7.99it/s]5 [15:02<01:20,  8.96it/s]\u001b[A\n",
      "7428it [15:02,  7.48it/s]5 [15:02<01:29,  7.99it/s]\u001b[A\n",
      "7429it [15:02,  7.78it/s]5 [15:02<01:35,  7.48it/s]\u001b[A\n",
      "7430it [15:02,  7.70it/s]5 [15:02<01:32,  7.77it/s]\u001b[A\n",
      "7431it [15:02,  8.14it/s]5 [15:02<01:32,  7.70it/s]\u001b[A\n",
      "7432it [15:03,  7.65it/s]5 [15:02<01:27,  8.13it/s]\u001b[A\n",
      "7433it [15:03,  7.96it/s]5 [15:03<01:33,  7.65it/s]\u001b[A\n",
      "7434it [15:03,  7.56it/s]5 [15:03<01:29,  7.95it/s]\u001b[A\n",
      "7435it [15:03,  7.89it/s]5 [15:03<01:34,  7.56it/s]\u001b[A\n",
      "7436it [15:03,  8.17it/s]5 [15:03<01:29,  7.89it/s]\u001b[A\n",
      "7437it [15:03,  7.97it/s]5 [15:03<01:26,  8.17it/s]\u001b[A\n",
      "7438it [15:03,  8.00it/s]5 [15:03<01:28,  7.98it/s]\u001b[A\n",
      "7439it [15:04,  6.64it/s]5 [15:03<01:28,  8.00it/s]\u001b[A\n",
      "7440it [15:04,  6.64it/s]5 [15:03<01:46,  6.64it/s]\u001b[A\n",
      "7441it [15:04,  7.19it/s]5 [15:04<01:47,  6.56it/s]\u001b[A\n",
      "7442it [15:04,  7.79it/s]5 [15:04<01:37,  7.22it/s]\u001b[A\n",
      "7443it [15:04,  7.69it/s]5 [15:04<01:29,  7.82it/s]\u001b[A\n",
      "7444it [15:04,  8.00it/s]5 [15:04<01:31,  7.70it/s]\u001b[A\n",
      "7445it [15:04,  8.17it/s]5 [15:04<01:27,  8.02it/s]\u001b[A\n",
      "7446it [15:04,  8.62it/s]5 [15:04<01:25,  8.18it/s]\u001b[A\n",
      "7447it [15:04,  8.92it/s]5 [15:04<01:20,  8.63it/s]\u001b[A\n",
      "7448it [15:05,  8.26it/s]5 [15:04<01:18,  8.92it/s]\u001b[A\n",
      "7449it [15:05,  8.60it/s]5 [15:05<01:24,  8.26it/s]\u001b[A\n",
      "7450it [15:05,  8.18it/s]5 [15:05<01:20,  8.60it/s]\u001b[A\n",
      "7451it [15:05,  8.46it/s]5 [15:05<01:24,  8.18it/s]\u001b[A\n",
      "7452it [15:05,  8.79it/s]5 [15:05<01:22,  8.46it/s]\u001b[A\n",
      "7453it [15:05,  8.13it/s]5 [15:05<01:18,  8.78it/s]\u001b[A\n",
      "7454it [15:05,  7.88it/s]5 [15:05<01:25,  8.13it/s]\u001b[A\n",
      "7455it [15:05,  7.80it/s]5 [15:05<01:27,  7.88it/s]\u001b[A\n",
      "7456it [15:06,  7.73it/s]5 [15:05<01:28,  7.80it/s]\u001b[A\n",
      "7457it [15:06,  8.01it/s]5 [15:06<01:29,  7.73it/s]\u001b[A\n",
      "7458it [15:06,  8.51it/s]5 [15:06<01:25,  8.01it/s]\u001b[A\n",
      "7460it [15:06,  8.77it/s]5 [15:06<01:20,  8.51it/s]\u001b[A\n",
      "7461it [15:06,  8.54it/s]5 [15:06<01:18,  8.77it/s]\u001b[A\n",
      "7462it [15:06,  8.61it/s]5 [15:06<01:20,  8.52it/s]\u001b[A\n",
      "7463it [15:06,  8.67it/s]5 [15:06<01:19,  8.62it/s]\u001b[A\n",
      "7464it [15:06,  8.30it/s]5 [15:06<01:18,  8.67it/s]\u001b[A\n",
      "7465it [15:07,  7.62it/s]5 [15:06<01:22,  8.30it/s]\u001b[A\n",
      "7466it [15:07,  6.76it/s]5 [15:07<01:29,  7.62it/s]\u001b[A\n",
      "7467it [15:07,  6.37it/s]5 [15:07<01:40,  6.76it/s]\u001b[A\n",
      "7468it [15:07,  6.72it/s]5 [15:07<01:46,  6.37it/s]\u001b[A\n",
      "7469it [15:07,  6.37it/s]5 [15:07<01:40,  6.72it/s]\u001b[A\n",
      "7470it [15:07,  6.70it/s]5 [15:07<01:46,  6.37it/s]\u001b[A\n",
      "7471it [15:08,  6.99it/s]5 [15:07<01:40,  6.70it/s]\u001b[A\n",
      "7472it [15:08,  7.21it/s]5 [15:08<01:36,  6.99it/s]\u001b[A\n",
      "7473it [15:08,  7.42it/s]5 [15:08<01:33,  7.21it/s]\u001b[A\n",
      "7474it [15:08,  7.60it/s]5 [15:08<01:30,  7.42it/s]\u001b[A\n",
      "7475it [15:08,  7.16it/s]5 [15:08<01:28,  7.60it/s]\u001b[A\n",
      "7476it [15:08,  6.40it/s]5 [15:08<01:34,  7.11it/s]\u001b[A\n",
      "7477it [15:08,  6.67it/s]5 [15:08<01:45,  6.37it/s]\u001b[A\n",
      "7478it [15:09,  6.83it/s]5 [15:08<01:40,  6.65it/s]\u001b[A\n",
      "7479it [15:09,  7.10it/s]5 [15:09<01:37,  6.82it/s]\u001b[A\n",
      "7480it [15:09,  6.42it/s]5 [15:09<01:33,  7.09it/s]\u001b[A\n",
      "7481it [15:09,  6.09it/s]5 [15:09<01:43,  6.41it/s]\u001b[A\n",
      "7482it [15:09,  5.37it/s]5 [15:09<01:49,  6.08it/s]\u001b[A\n",
      "7483it [15:09,  5.74it/s]5 [15:09<02:03,  5.36it/s]\u001b[A\n",
      "7484it [15:10,  5.83it/s]5 [15:09<01:55,  5.74it/s]\u001b[A\n",
      "7485it [15:10,  5.94it/s]5 [15:10<01:53,  5.83it/s]\u001b[A\n",
      "7486it [15:10,  6.29it/s]5 [15:10<01:51,  5.94it/s]\u001b[A\n",
      "7487it [15:10,  6.57it/s]5 [15:10<01:44,  6.32it/s]\u001b[A\n",
      "7488it [15:10,  6.61it/s]5 [15:10<01:40,  6.56it/s]\u001b[A\n",
      "7489it [15:10,  7.09it/s]5 [15:10<01:38,  6.64it/s]\u001b[A\n",
      "7490it [15:10,  7.49it/s]5 [15:10<01:32,  7.12it/s]\u001b[A\n",
      "7491it [15:11,  6.66it/s]5 [15:10<01:27,  7.51it/s]\u001b[A\n",
      "7492it [15:11,  5.73it/s]5 [15:11<01:38,  6.67it/s]\u001b[A\n",
      "7493it [15:11,  6.30it/s]5 [15:11<01:53,  5.74it/s]\u001b[A\n",
      "7494it [15:11,  6.52it/s]5 [15:11<01:43,  6.31it/s]\u001b[A\n",
      "7495it [15:11,  6.50it/s]5 [15:11<01:40,  6.48it/s]\u001b[A\n",
      "7496it [15:11,  6.86it/s]5 [15:11<01:40,  6.48it/s]\u001b[A\n",
      "7497it [15:12,  7.15it/s]5 [15:11<01:34,  6.84it/s]\u001b[A\n",
      "7498it [15:12,  7.39it/s]5 [15:11<01:30,  7.13it/s]\u001b[A\n",
      "7499it [15:12,  7.49it/s]5 [15:12<01:27,  7.38it/s]\u001b[A\n",
      "7500it [15:12,  7.37it/s]5 [15:12<01:26,  7.48it/s]\u001b[A\n",
      "7501it [15:12,  7.68it/s]5 [15:12<01:27,  7.36it/s]\u001b[A\n",
      "7502it [15:12,  7.93it/s]5 [15:12<01:23,  7.67it/s]\u001b[A\n",
      "7503it [15:12,  7.87it/s]5 [15:12<01:21,  7.93it/s]\u001b[A\n",
      "7504it [15:12,  7.37it/s]5 [15:12<01:21,  7.87it/s]\u001b[A\n",
      "7505it [15:13,  7.31it/s]5 [15:12<01:27,  7.37it/s]\u001b[A\n",
      "7506it [15:13,  7.22it/s]5 [15:13<01:27,  7.30it/s]\u001b[A\n",
      "7507it [15:13,  7.19it/s]5 [15:13<01:28,  7.22it/s]\u001b[A\n",
      "7508it [15:13,  7.08it/s]5 [15:13<01:28,  7.19it/s]\u001b[A\n",
      "7509it [15:13,  7.16it/s]5 [15:13<01:30,  7.07it/s]\u001b[A\n",
      "7510it [15:13,  7.32it/s]5 [15:13<01:28,  7.22it/s]\u001b[A\n",
      "7511it [15:13,  7.42it/s]5 [15:13<01:27,  7.29it/s]\u001b[A\n",
      "7512it [15:14,  7.72it/s]5 [15:13<01:25,  7.41it/s]\u001b[A\n",
      "7513it [15:14,  7.77it/s]5 [15:13<01:22,  7.72it/s]\u001b[A\n",
      "7514it [15:14,  7.84it/s]5 [15:14<01:21,  7.77it/s]\u001b[A\n",
      "7515it [15:14,  8.00it/s]5 [15:14<01:20,  7.84it/s]\u001b[A\n",
      "7516it [15:14,  8.08it/s]5 [15:14<01:19,  7.97it/s]\u001b[A\n",
      "7517it [15:14,  8.19it/s]5 [15:14<01:17,  8.15it/s]\u001b[A\n",
      "7519it [15:14,  8.51it/s]5 [15:14<01:16,  8.24it/s]\u001b[A\n",
      "7520it [15:14,  8.28it/s]5 [15:14<01:13,  8.55it/s]\u001b[A\n",
      "7521it [15:15,  8.34it/s]5 [15:14<01:15,  8.31it/s]\u001b[A\n",
      "7522it [15:15,  8.19it/s]5 [15:15<01:14,  8.35it/s]\u001b[A\n",
      "7523it [15:15,  8.63it/s]5 [15:15<01:15,  8.20it/s]\u001b[A\n",
      "7524it [15:15,  8.99it/s]5 [15:15<01:12,  8.63it/s]\u001b[A\n",
      "7525it [15:15,  8.87it/s]5 [15:15<01:09,  9.00it/s]\u001b[A\n",
      "7526it [15:15,  8.56it/s]5 [15:15<01:09,  8.88it/s]\u001b[A\n",
      "7527it [15:15,  8.90it/s]5 [15:15<01:12,  8.56it/s]\u001b[A\n",
      "7528it [15:15,  8.03it/s]5 [15:15<01:09,  8.90it/s]\u001b[A\n",
      "7529it [15:16,  8.10it/s]5 [15:15<01:16,  8.03it/s]\u001b[A\n",
      "7530it [15:16,  8.58it/s]5 [15:16<01:16,  8.09it/s]\u001b[A\n",
      "7532it [15:16,  8.74it/s]5 [15:16<01:10,  8.74it/s]\u001b[A\n",
      "7533it [15:16,  8.77it/s]5 [15:16<01:13,  8.32it/s]\u001b[A\n",
      "7534it [15:16,  8.75it/s]5 [15:16<01:12,  8.47it/s]\u001b[A\n",
      "7535it [15:16,  8.22it/s]5 [15:16<01:11,  8.54it/s]\u001b[A\n",
      "7536it [15:16,  8.07it/s]5 [15:16<01:15,  8.09it/s]\u001b[A\n",
      "7538it [15:17,  8.72it/s]5 [15:16<01:16,  7.98it/s]\u001b[A\n",
      "7539it [15:17,  9.01it/s]5 [15:17<01:10,  8.64it/s]\u001b[A\n",
      "7540it [15:17,  9.04it/s]5 [15:17<01:07,  8.96it/s]\u001b[A\n",
      "7541it [15:17,  9.09it/s]5 [15:17<01:07,  9.01it/s]\u001b[A\n",
      "7543it [15:17,  9.53it/s]5 [15:17<01:06,  9.07it/s]\u001b[A\n",
      "7544it [15:17,  9.35it/s]5 [15:17<01:03,  9.51it/s]\u001b[A\n",
      "7545it [15:17,  9.32it/s]5 [15:17<01:04,  9.34it/s]\u001b[A\n",
      "7546it [15:17,  9.34it/s]5 [15:17<01:04,  9.31it/s]\u001b[A\n",
      "7548it [15:18,  9.40it/s]5 [15:17<01:04,  9.34it/s]\u001b[A\n",
      "7549it [15:18,  8.89it/s]5 [15:18<01:03,  9.40it/s]\u001b[A\n",
      "7550it [15:18,  8.92it/s]5 [15:18<01:07,  8.89it/s]\u001b[A\n",
      "7551it [15:18,  9.16it/s]5 [15:18<01:06,  8.92it/s]\u001b[A\n",
      "7552it [15:18,  9.25it/s]5 [15:18<01:04,  9.16it/s]\u001b[A\n",
      "7553it [15:18,  8.79it/s]5 [15:18<01:04,  9.24it/s]\u001b[A\n",
      "7554it [15:18,  9.04it/s]5 [15:18<01:07,  8.79it/s]\u001b[A\n",
      "7555it [15:18,  9.09it/s]5 [15:18<01:05,  9.03it/s]\u001b[A\n",
      "7556it [15:19,  9.11it/s]5 [15:18<01:04,  9.09it/s]\u001b[A\n",
      "7557it [15:19,  7.99it/s]5 [15:18<01:04,  9.11it/s]\u001b[A\n",
      "7558it [15:19,  7.81it/s]5 [15:19<01:13,  7.99it/s]\u001b[A\n",
      "7559it [15:19,  7.65it/s]5 [15:19<01:15,  7.81it/s]\u001b[A\n",
      "7561it [15:19,  8.09it/s]5 [15:19<01:16,  7.65it/s]\u001b[A\n",
      "7562it [15:19,  8.08it/s]5 [15:19<01:12,  8.09it/s]\u001b[A\n",
      "7563it [15:19,  8.05it/s]5 [15:19<01:12,  8.08it/s]\u001b[A\n",
      "7564it [15:20,  8.47it/s]5 [15:19<01:12,  8.05it/s]\u001b[A\n",
      "7565it [15:20,  8.61it/s]5 [15:19<01:08,  8.47it/s]\u001b[A\n",
      "7566it [15:20,  8.41it/s]5 [15:20<01:07,  8.61it/s]\u001b[A\n",
      "7568it [15:20,  8.80it/s]5 [15:20<01:08,  8.41it/s]\u001b[A\n",
      "7569it [15:20,  8.82it/s]5 [15:20<01:05,  8.80it/s]\u001b[A\n",
      "7570it [15:20,  8.58it/s]5 [15:20<01:05,  8.82it/s]\u001b[A\n",
      "7571it [15:20,  8.66it/s]5 [15:20<01:07,  8.58it/s]\u001b[A\n",
      "7572it [15:20,  7.97it/s]5 [15:20<01:06,  8.65it/s]\u001b[A\n",
      "7573it [15:21,  8.06it/s]5 [15:20<01:11,  7.97it/s]\u001b[A\n",
      "7574it [15:21,  8.46it/s]5 [15:21<01:11,  8.05it/s]\u001b[A\n",
      "7575it [15:21,  8.83it/s]5 [15:21<01:07,  8.46it/s]\u001b[A\n",
      "7576it [15:21,  8.18it/s]5 [15:21<01:04,  8.83it/s]\u001b[A\n",
      "7577it [15:21,  8.40it/s]5 [15:21<01:09,  8.18it/s]\u001b[A\n",
      "7578it [15:21,  7.94it/s]5 [15:21<01:07,  8.40it/s]\u001b[A\n",
      "7579it [15:21,  6.09it/s]5 [15:21<01:11,  7.94it/s]\u001b[A\n",
      "7581it [15:22,  6.73it/s]5 [15:21<01:32,  6.09it/s]\u001b[A\n",
      "7582it [15:22,  6.31it/s]5 [15:22<01:23,  6.72it/s]\u001b[A\n",
      "7583it [15:22,  6.60it/s]5 [15:22<01:29,  6.31it/s]\u001b[A\n",
      "7584it [15:22,  5.70it/s]5 [15:22<01:25,  6.60it/s]\u001b[A\n",
      "7585it [15:22,  5.66it/s]5 [15:22<01:38,  5.70it/s]\u001b[A\n",
      "7587it [15:23,  6.51it/s]5 [15:22<01:39,  5.65it/s]\u001b[A\n",
      "7588it [15:23,  7.08it/s]5 [15:23<01:25,  6.51it/s]\u001b[A\n",
      "7589it [15:23,  7.60it/s]5 [15:23<01:18,  7.08it/s]\u001b[A\n",
      "7590it [15:23,  8.17it/s]5 [15:23<01:13,  7.60it/s]\u001b[A\n",
      "7591it [15:23,  8.51it/s]5 [15:23<01:07,  8.17it/s]\u001b[A\n",
      "7592it [15:23,  7.28it/s]5 [15:23<01:05,  8.51it/s]\u001b[A\n",
      "7593it [15:23,  7.15it/s]5 [15:23<01:15,  7.28it/s]\u001b[A\n",
      "7594it [15:23,  7.11it/s]5 [15:23<01:17,  7.14it/s]\u001b[A\n",
      "7595it [15:24,  7.14it/s]5 [15:23<01:17,  7.12it/s]\u001b[A\n",
      "7596it [15:24,  7.74it/s]5 [15:24<01:17,  7.13it/s]\u001b[A\n",
      "7597it [15:24,  7.52it/s]5 [15:24<01:10,  7.74it/s]\u001b[A\n",
      "7598it [15:24,  7.32it/s]5 [15:24<01:12,  7.52it/s]\u001b[A\n",
      "7599it [15:24,  7.33it/s]5 [15:24<01:14,  7.32it/s]\u001b[A\n",
      "7600it [15:24,  7.63it/s]5 [15:24<01:14,  7.33it/s]\u001b[A\n",
      "7601it [15:24,  8.14it/s]5 [15:24<01:11,  7.63it/s]\u001b[A\n",
      "7603it [15:25,  8.35it/s]5 [15:24<01:06,  8.14it/s]\u001b[A\n",
      "7604it [15:25,  7.61it/s]5 [15:25<01:04,  8.35it/s]\u001b[A\n",
      "7605it [15:25,  7.53it/s]5 [15:25<01:11,  7.61it/s]\u001b[A\n",
      "7606it [15:25,  7.41it/s]5 [15:25<01:11,  7.53it/s]\u001b[A\n",
      "7607it [15:25,  7.27it/s]5 [15:25<01:12,  7.41it/s]\u001b[A\n",
      "7608it [15:25,  7.06it/s]5 [15:25<01:13,  7.27it/s]\u001b[A\n",
      "7609it [15:25,  7.37it/s]5 [15:25<01:16,  7.06it/s]\u001b[A\n",
      "7610it [15:26,  7.42it/s]5 [15:25<01:12,  7.37it/s]\u001b[A\n",
      "7611it [15:26,  7.37it/s]5 [15:26<01:12,  7.42it/s]\u001b[A\n",
      "7612it [15:26,  7.38it/s]5 [15:26<01:12,  7.37it/s]\u001b[A\n",
      "7613it [15:26,  7.39it/s]5 [15:26<01:12,  7.38it/s]\u001b[A\n",
      "7614it [15:26,  7.25it/s]5 [15:26<01:11,  7.39it/s]\u001b[A\n",
      "7615it [15:26,  6.92it/s]5 [15:26<01:13,  7.25it/s]\u001b[A\n",
      "7616it [15:26,  6.71it/s]5 [15:26<01:16,  6.92it/s]\u001b[A\n",
      "7617it [15:27,  7.04it/s]5 [15:26<01:18,  6.71it/s]\u001b[A\n",
      "7618it [15:27,  7.23it/s]5 [15:27<01:14,  7.05it/s]\u001b[A\n",
      "7619it [15:27,  7.30it/s]5 [15:27<01:12,  7.24it/s]\u001b[A\n",
      "7620it [15:27,  7.81it/s]5 [15:27<01:12,  7.22it/s]\u001b[A\n",
      "7621it [15:27,  7.94it/s]5 [15:27<01:06,  7.84it/s]\u001b[A\n",
      "7622it [15:27,  8.02it/s]5 [15:27<01:05,  7.95it/s]\u001b[A\n",
      "7623it [15:27,  8.27it/s]5 [15:27<01:05,  8.02it/s]\u001b[A\n",
      "7625it [15:27,  8.73it/s]5 [15:27<01:03,  8.28it/s]\u001b[A\n",
      "7626it [15:28,  8.82it/s]5 [15:27<00:59,  8.74it/s]\u001b[A\n",
      "7627it [15:28,  8.23it/s]5 [15:28<00:58,  8.82it/s]\u001b[A\n",
      "7628it [15:28,  7.79it/s]5 [15:28<01:02,  8.24it/s]\u001b[A\n",
      "7629it [15:28,  7.75it/s]5 [15:28<01:06,  7.80it/s]\u001b[A\n",
      "7630it [15:28,  7.09it/s]5 [15:28<01:06,  7.75it/s]\u001b[A\n",
      "7631it [15:28,  7.00it/s]5 [15:28<01:12,  7.09it/s]\u001b[A\n",
      "7632it [15:28,  7.50it/s]5 [15:28<01:13,  7.00it/s]\u001b[A\n",
      "7633it [15:29,  7.73it/s]5 [15:28<01:08,  7.50it/s]\u001b[A\n",
      "7635it [15:29,  8.47it/s]5 [15:29<01:06,  7.73it/s]\u001b[A\n",
      "7637it [15:29,  9.08it/s]5 [15:29<01:00,  8.47it/s]\u001b[A\n",
      "7638it [15:29,  8.37it/s]5 [15:29<00:55,  9.08it/s]\u001b[A\n",
      "7639it [15:29,  8.06it/s]5 [15:29<01:00,  8.37it/s]\u001b[A\n",
      "7640it [15:29,  8.24it/s]5 [15:29<01:02,  8.06it/s]\u001b[A\n",
      "7641it [15:29,  8.42it/s]5 [15:29<01:01,  8.24it/s]\u001b[A\n",
      "7642it [15:30,  7.74it/s]5 [15:29<00:59,  8.42it/s]\u001b[A\n",
      "7644it [15:30,  7.63it/s]5 [15:30<01:04,  7.74it/s]\u001b[A\n",
      "7645it [15:30,  8.18it/s]5 [15:30<01:05,  7.63it/s]\u001b[A\n",
      "7646it [15:30,  8.52it/s]5 [15:30<01:01,  8.18it/s]\u001b[A\n",
      "7647it [15:30,  8.82it/s]5 [15:30<00:58,  8.52it/s]\u001b[A\n",
      "7648it [15:30,  8.68it/s]5 [15:30<00:56,  8.82it/s]\u001b[A\n",
      "7650it [15:30,  9.10it/s]5 [15:30<00:57,  8.67it/s]\u001b[A\n",
      "7651it [15:31,  8.69it/s]5 [15:30<00:54,  9.10it/s]\u001b[A\n",
      "7652it [15:31,  7.91it/s]5 [15:31<00:56,  8.69it/s]\u001b[A\n",
      "7653it [15:31,  8.20it/s]5 [15:31<01:02,  7.91it/s]\u001b[A\n",
      "7654it [15:31,  7.98it/s]5 [15:31<00:59,  8.20it/s]\u001b[A\n",
      "7655it [15:31,  7.89it/s]5 [15:31<01:01,  7.98it/s]\u001b[A\n",
      "7657it [15:31,  8.41it/s]5 [15:31<01:02,  7.89it/s]\u001b[A\n",
      "7658it [15:31,  8.06it/s]5 [15:31<00:58,  8.39it/s]\u001b[A\n",
      "7659it [15:32,  8.51it/s]5 [15:31<01:00,  8.08it/s]\u001b[A\n",
      "7661it [15:32,  8.64it/s]5 [15:32<00:57,  8.52it/s]\u001b[A\n",
      "7662it [15:32,  8.63it/s]5 [15:32<00:55,  8.65it/s]\u001b[A\n",
      "7664it [15:32,  8.85it/s]5 [15:32<00:55,  8.63it/s]\u001b[A\n",
      "7665it [15:32,  8.34it/s]5 [15:32<00:54,  8.85it/s]\u001b[A\n",
      "7666it [15:32,  8.38it/s]5 [15:32<00:57,  8.34it/s]\u001b[A\n",
      "7668it [15:33,  8.54it/s]5 [15:32<00:57,  8.38it/s]\u001b[A\n",
      "7669it [15:33,  7.77it/s]5 [15:33<00:55,  8.55it/s]\u001b[A\n",
      "7671it [15:33,  8.48it/s]5 [15:33<01:01,  7.77it/s]\u001b[A\n",
      "7672it [15:33,  8.72it/s]5 [15:33<00:55,  8.48it/s]\u001b[A\n",
      "7674it [15:33,  8.70it/s]5 [15:33<00:54,  8.72it/s]\u001b[A\n",
      "7675it [15:33,  8.61it/s]5 [15:33<00:54,  8.70it/s]\u001b[A\n",
      "7677it [15:34,  9.13it/s]5 [15:33<00:54,  8.61it/s]\u001b[A\n",
      "7679it [15:34,  9.07it/s]5 [15:34<00:51,  9.13it/s]\u001b[A\n",
      "7680it [15:34,  9.06it/s]5 [15:34<00:51,  8.96it/s]\u001b[A\n",
      "7681it [15:34,  6.99it/s]5 [15:34<00:50,  9.19it/s]\u001b[A\n",
      "7682it [15:34,  6.85it/s]5 [15:34<01:05,  7.05it/s]\u001b[A\n",
      "7683it [15:34,  6.30it/s]5 [15:34<01:07,  6.88it/s]\u001b[A\n",
      "7684it [15:35,  6.65it/s]5 [15:34<01:13,  6.32it/s]\u001b[A\n",
      "7685it [15:35,  6.74it/s]5 [15:35<01:09,  6.67it/s]\u001b[A\n",
      "7686it [15:35,  7.00it/s]5 [15:35<01:08,  6.75it/s]\u001b[A\n",
      "7687it [15:35,  6.79it/s]5 [15:35<01:05,  7.01it/s]\u001b[A\n",
      "7688it [15:35,  7.29it/s]5 [15:35<01:07,  6.74it/s]\u001b[A\n",
      "7689it [15:35,  7.76it/s]5 [15:35<01:02,  7.32it/s]\u001b[A\n",
      "7690it [15:35,  7.98it/s]5 [15:35<00:58,  7.78it/s]\u001b[A\n",
      "7691it [15:35,  8.47it/s]5 [15:35<00:56,  8.00it/s]\u001b[A\n",
      "7692it [15:36,  7.91it/s]5 [15:35<00:53,  8.48it/s]\u001b[A\n",
      "7693it [15:36,  8.08it/s]5 [15:36<00:57,  7.91it/s]\u001b[A\n",
      "7695it [15:36,  8.84it/s]5 [15:36<00:55,  8.08it/s]\u001b[A\n",
      "7696it [15:36,  9.12it/s]5 [15:36<00:50,  8.84it/s]\u001b[A\n",
      "7697it [15:36,  8.11it/s]5 [15:36<00:49,  9.12it/s]\u001b[A\n",
      "7698it [15:36,  7.44it/s]5 [15:36<00:55,  8.11it/s]\u001b[A\n",
      "7700it [15:37,  8.19it/s]5 [15:36<01:00,  7.44it/s]\u001b[A\n",
      "7702it [15:37,  8.88it/s]5 [15:36<00:54,  8.19it/s]\u001b[A\n",
      "7703it [15:37,  9.03it/s]5 [15:37<00:49,  8.88it/s]\u001b[A\n",
      "7704it [15:37,  8.90it/s]5 [15:37<00:48,  9.03it/s]\u001b[A\n",
      "7706it [15:37,  9.23it/s]5 [15:37<00:49,  8.89it/s]\u001b[A\n",
      "7708it [15:37,  9.07it/s]5 [15:37<00:47,  9.23it/s]\u001b[A\n",
      "7709it [15:37,  9.29it/s]5 [15:37<00:48,  9.07it/s]\u001b[A\n",
      "7710it [15:38,  9.48it/s]5 [15:37<00:46,  9.30it/s]\u001b[A\n",
      "7711it [15:38,  9.57it/s]5 [15:38<00:45,  9.48it/s]\u001b[A\n",
      "7712it [15:38,  9.53it/s]5 [15:38<00:45,  9.57it/s]\u001b[A\n",
      "7714it [15:38,  9.99it/s]5 [15:38<00:45,  9.53it/s]\u001b[A\n",
      "7716it [15:38, 10.13it/s]5 [15:38<00:43,  9.99it/s]\u001b[A\n",
      "7718it [15:38,  9.99it/s]5 [15:38<00:42, 10.13it/s]\u001b[A\n",
      "7720it [15:39, 10.10it/s]5 [15:38<00:42,  9.99it/s]\u001b[A\n",
      "7722it [15:39,  9.27it/s]5 [15:38<00:42, 10.10it/s]\u001b[A\n",
      "7723it [15:39,  9.41it/s]5 [15:39<00:45,  9.27it/s]\u001b[A\n",
      "7724it [15:39,  9.51it/s]5 [15:39<00:44,  9.41it/s]\u001b[A\n",
      "7725it [15:39,  8.96it/s]5 [15:39<00:44,  9.49it/s]\u001b[A\n",
      "7726it [15:39,  8.57it/s]5 [15:39<00:46,  8.96it/s]\u001b[A\n",
      "7727it [15:39,  8.58it/s]5 [15:39<00:48,  8.58it/s]\u001b[A\n",
      "7728it [15:40,  8.19it/s]5 [15:39<00:48,  8.58it/s]\u001b[A\n",
      "7729it [15:40,  8.17it/s]5 [15:39<00:50,  8.19it/s]\u001b[A\n",
      "7730it [15:40,  7.81it/s]5 [15:40<00:50,  8.17it/s]\u001b[A\n",
      "7731it [15:40,  7.61it/s]5 [15:40<00:53,  7.81it/s]\u001b[A\n",
      "7732it [15:40,  7.43it/s]5 [15:40<00:54,  7.62it/s]\u001b[A\n",
      "7733it [15:40,  6.85it/s]5 [15:40<00:55,  7.43it/s]\u001b[A\n",
      "7734it [15:40,  7.26it/s]5 [15:40<01:00,  6.85it/s]\u001b[A\n",
      "7736it [15:41,  7.95it/s]5 [15:40<00:56,  7.26it/s]\u001b[A\n",
      "7737it [15:41,  7.83it/s]5 [15:40<00:51,  7.94it/s]\u001b[A\n",
      "7738it [15:41,  8.10it/s]5 [15:41<00:52,  7.81it/s]\u001b[A\n",
      "7739it [15:41,  7.42it/s]5 [15:41<00:50,  8.08it/s]\u001b[A\n",
      "7740it [15:41,  7.27it/s]5 [15:41<00:54,  7.44it/s]\u001b[A\n",
      "7741it [15:41,  7.14it/s]5 [15:41<00:55,  7.29it/s]\u001b[A\n",
      "7742it [15:41,  6.57it/s]5 [15:41<00:56,  7.13it/s]\u001b[A\n",
      "7743it [15:42,  6.98it/s]5 [15:41<01:01,  6.58it/s]\u001b[A\n",
      "7744it [15:42,  7.09it/s]5 [15:41<00:57,  6.99it/s]\u001b[A\n",
      "7745it [15:42,  7.28it/s]5 [15:42<00:56,  7.09it/s]\u001b[A\n",
      "7746it [15:42,  7.73it/s]5 [15:42<00:54,  7.29it/s]\u001b[A\n",
      "7748it [15:42,  7.36it/s]5 [15:42<00:51,  7.73it/s]\u001b[A\n",
      "7749it [15:42,  6.46it/s]5 [15:42<00:54,  7.29it/s]\u001b[A\n",
      "7750it [15:43,  6.89it/s]5 [15:42<01:00,  6.54it/s]\u001b[A\n",
      "7751it [15:43,  6.94it/s]5 [15:42<00:56,  6.95it/s]\u001b[A\n",
      "7752it [15:43,  6.55it/s]5 [15:43<00:56,  6.99it/s]\u001b[A\n",
      "7753it [15:43,  6.90it/s]5 [15:43<00:59,  6.57it/s]\u001b[A\n",
      "7754it [15:43,  7.10it/s]5 [15:43<00:56,  6.92it/s]\u001b[A\n",
      "7755it [15:43,  7.05it/s]5 [15:43<00:54,  7.11it/s]\u001b[A\n",
      "7756it [15:43,  7.73it/s]5 [15:43<00:55,  7.06it/s]\u001b[A\n",
      "7757it [15:43,  8.11it/s]5 [15:43<00:50,  7.74it/s]\u001b[A\n",
      "7758it [15:44,  7.17it/s]5 [15:43<00:47,  8.12it/s]\u001b[A\n",
      "7759it [15:44,  5.77it/s]5 [15:44<00:53,  7.18it/s]\u001b[A\n",
      "7760it [15:44,  5.42it/s]5 [15:44<01:06,  5.77it/s]\u001b[A\n",
      "7761it [15:44,  5.40it/s]5 [15:44<01:11,  5.40it/s]\u001b[A\n",
      "7762it [15:44,  6.12it/s]5 [15:44<01:10,  5.42it/s]\u001b[A\n",
      "7763it [15:45,  6.04it/s]5 [15:44<01:02,  6.14it/s]\u001b[A\n",
      "7764it [15:45,  6.01it/s]5 [15:45<01:03,  6.04it/s]\u001b[A\n",
      "7765it [15:45,  6.34it/s]5 [15:45<01:03,  6.01it/s]\u001b[A\n",
      "7766it [15:45,  6.08it/s]5 [15:45<01:00,  6.33it/s]\u001b[A\n",
      "7767it [15:45,  6.51it/s]5 [15:45<01:02,  6.09it/s]\u001b[A\n",
      "7769it [15:45,  7.37it/s]5 [15:45<00:58,  6.52it/s]\u001b[A\n",
      "7770it [15:46,  7.31it/s]5 [15:45<00:50,  7.38it/s]\u001b[A\n",
      "7771it [15:46,  7.51it/s]5 [15:45<00:51,  7.31it/s]\u001b[A\n",
      "7772it [15:46,  7.48it/s]5 [15:46<00:49,  7.51it/s]\u001b[A\n",
      "7774it [15:46,  8.13it/s]5 [15:46<00:49,  7.48it/s]\u001b[A\n",
      "7775it [15:46,  8.29it/s]5 [15:46<00:45,  8.13it/s]\u001b[A\n",
      "7776it [15:46,  8.35it/s]5 [15:46<00:44,  8.29it/s]\u001b[A\n",
      "7777it [15:46,  7.51it/s]5 [15:46<00:44,  8.36it/s]\u001b[A\n",
      "7778it [15:47,  7.51it/s]5 [15:46<00:49,  7.51it/s]\u001b[A\n",
      "7779it [15:47,  7.78it/s]5 [15:46<00:48,  7.51it/s]\u001b[A\n",
      "7780it [15:47,  8.26it/s]5 [15:47<00:47,  7.78it/s]\u001b[A\n",
      "7781it [15:47,  8.56it/s]5 [15:47<00:44,  8.26it/s]\u001b[A\n",
      "7782it [15:47,  8.40it/s]5 [15:47<00:42,  8.56it/s]\u001b[A\n",
      "7783it [15:47,  8.36it/s]5 [15:47<00:43,  8.39it/s]\u001b[A\n",
      "7784it [15:47,  8.75it/s]5 [15:47<00:43,  8.37it/s]\u001b[A\n",
      "7785it [15:47,  8.27it/s]5 [15:47<00:41,  8.75it/s]\u001b[A\n",
      "7786it [15:47,  7.76it/s]5 [15:47<00:43,  8.27it/s]\u001b[A\n",
      "7787it [15:48,  6.41it/s]5 [15:47<00:46,  7.72it/s]\u001b[A\n",
      "7788it [15:48,  6.36it/s]5 [15:48<00:55,  6.42it/s]\u001b[A\n",
      "7789it [15:48,  6.87it/s]5 [15:48<00:56,  6.36it/s]\u001b[A\n",
      "7790it [15:48,  7.07it/s]5 [15:48<00:51,  6.87it/s]\u001b[A\n",
      "7791it [15:48,  7.62it/s]5 [15:48<00:50,  7.07it/s]\u001b[A\n",
      "7792it [15:48,  7.98it/s]5 [15:48<00:46,  7.62it/s]\u001b[A\n",
      "7793it [15:48,  8.33it/s]5 [15:48<00:44,  7.99it/s]\u001b[A\n",
      "7794it [15:49,  8.55it/s]5 [15:48<00:42,  8.33it/s]\u001b[A\n",
      "7796it [15:49,  9.17it/s]5 [15:48<00:41,  8.55it/s]\u001b[A\n",
      "7797it [15:49,  9.34it/s]5 [15:49<00:38,  9.17it/s]\u001b[A\n",
      "7798it [15:49,  9.50it/s]5 [15:49<00:37,  9.35it/s]\u001b[A\n",
      "7799it [15:49,  9.53it/s]5 [15:49<00:36,  9.50it/s]\u001b[A\n",
      "7800it [15:49,  9.64it/s]5 [15:49<00:36,  9.53it/s]\u001b[A\n",
      "7801it [15:49,  8.84it/s]5 [15:49<00:35,  9.64it/s]\u001b[A\n",
      "7802it [15:49,  9.05it/s]5 [15:49<00:38,  8.85it/s]\u001b[A\n",
      "7803it [15:49,  9.24it/s]5 [15:49<00:37,  9.04it/s]\u001b[A\n",
      "7804it [15:50,  9.38it/s]5 [15:49<00:37,  9.22it/s]\u001b[A\n",
      "7806it [15:50,  9.47it/s]5 [15:50<00:36,  9.37it/s]\u001b[A\n",
      "7808it [15:50,  9.64it/s]5 [15:50<00:35,  9.48it/s]\u001b[A\n",
      "7809it [15:50,  9.33it/s]5 [15:50<00:34,  9.64it/s]\u001b[A\n",
      "7810it [15:50,  9.00it/s]5 [15:50<00:35,  9.34it/s]\u001b[A\n",
      "7811it [15:50,  9.03it/s]5 [15:50<00:37,  9.00it/s]\u001b[A\n",
      "7813it [15:51,  9.38it/s]5 [15:50<00:36,  9.03it/s]\u001b[A\n",
      "7815it [15:51,  9.61it/s]5 [15:50<00:35,  9.38it/s]\u001b[A\n",
      "7816it [15:51,  9.68it/s]5 [15:51<00:34,  9.61it/s]\u001b[A\n",
      "7817it [15:51,  9.77it/s]5 [15:51<00:33,  9.68it/s]\u001b[A\n",
      "7819it [15:51,  9.80it/s]5 [15:51<00:33,  9.76it/s]\u001b[A\n",
      "7820it [15:51,  8.64it/s]5 [15:51<00:33,  9.80it/s]\u001b[A\n",
      "7821it [15:51,  8.65it/s]5 [15:51<00:37,  8.64it/s]\u001b[A\n",
      "7822it [15:52,  7.70it/s]5 [15:51<00:37,  8.65it/s]\u001b[A\n",
      "7823it [15:52,  8.18it/s]5 [15:51<00:41,  7.70it/s]\u001b[A\n",
      "7824it [15:52,  8.24it/s]5 [15:52<00:39,  8.18it/s]\u001b[A\n",
      "7825it [15:52,  7.87it/s]5 [15:52<00:38,  8.25it/s]\u001b[A\n",
      "7826it [15:52,  8.09it/s]5 [15:52<00:40,  7.87it/s]\u001b[A\n",
      "7827it [15:52,  8.53it/s]5 [15:52<00:39,  8.09it/s]\u001b[A\n",
      "7829it [15:52,  8.66it/s]5 [15:52<00:37,  8.53it/s]\u001b[A\n",
      "7831it [15:53,  8.70it/s]5 [15:52<00:36,  8.65it/s]\u001b[A\n",
      "7832it [15:53,  8.53it/s]5 [15:53<00:36,  8.69it/s]\u001b[A\n",
      "7833it [15:53,  8.77it/s]5 [15:53<00:36,  8.49it/s]\u001b[A\n",
      "7834it [15:53,  8.35it/s]5 [15:53<00:35,  8.80it/s]\u001b[A\n",
      "7835it [15:53,  7.95it/s]5 [15:53<00:37,  8.37it/s]\u001b[A\n",
      "7836it [15:53,  7.62it/s]5 [15:53<00:38,  7.96it/s]\u001b[A\n",
      "7837it [15:53,  7.69it/s]5 [15:53<00:40,  7.63it/s]\u001b[A\n",
      "7838it [15:53,  7.91it/s]5 [15:53<00:40,  7.69it/s]\u001b[A\n",
      "7839it [15:54,  7.89it/s]5 [15:53<00:38,  7.91it/s]\u001b[A\n",
      "7840it [15:54,  7.65it/s]5 [15:54<00:38,  7.89it/s]\u001b[A\n",
      "7841it [15:54,  7.13it/s]5 [15:54<00:40,  7.58it/s]\u001b[A\n",
      "7842it [15:54,  6.72it/s]5 [15:54<00:42,  7.15it/s]\u001b[A\n",
      "7843it [15:54,  6.93it/s]5 [15:54<00:45,  6.73it/s]\u001b[A\n",
      "7844it [15:54,  6.81it/s]5 [15:54<00:43,  6.89it/s]\u001b[A\n",
      "7845it [15:54,  7.48it/s]5 [15:54<00:44,  6.83it/s]\u001b[A\n",
      "7847it [15:55,  8.01it/s]5 [15:54<00:40,  7.50it/s]\u001b[A\n",
      "7848it [15:55,  8.32it/s]5 [15:55<00:37,  8.03it/s]\u001b[A\n",
      "7849it [15:55,  8.27it/s]5 [15:55<00:35,  8.33it/s]\u001b[A\n",
      "7850it [15:55,  8.01it/s]5 [15:55<00:35,  8.28it/s]\u001b[A\n",
      "7851it [15:55,  8.47it/s]5 [15:55<00:36,  8.01it/s]\u001b[A\n",
      "7852it [15:55,  8.82it/s]5 [15:55<00:34,  8.47it/s]\u001b[A\n",
      "7853it [15:55,  8.80it/s]5 [15:55<00:33,  8.81it/s]\u001b[A\n",
      "7854it [15:55,  8.73it/s]5 [15:55<00:33,  8.79it/s]\u001b[A\n",
      "7855it [15:56,  8.08it/s]5 [15:55<00:33,  8.74it/s]\u001b[A\n",
      "7856it [15:56,  8.34it/s]5 [15:56<00:35,  8.09it/s]\u001b[A\n",
      "7857it [15:56,  8.45it/s]5 [15:56<00:34,  8.34it/s]\u001b[A\n",
      "7858it [15:56,  8.79it/s]5 [15:56<00:34,  8.45it/s]\u001b[A\n",
      "7859it [15:56,  8.62it/s]5 [15:56<00:32,  8.79it/s]\u001b[A\n",
      "7860it [15:56,  8.68it/s]5 [15:56<00:33,  8.62it/s]\u001b[A\n",
      "7861it [15:56,  8.55it/s]5 [15:56<00:32,  8.68it/s]\u001b[A\n",
      "7862it [15:56,  8.73it/s]5 [15:56<00:33,  8.55it/s]\u001b[A\n",
      "7863it [15:57,  7.95it/s]5 [15:56<00:32,  8.73it/s]\u001b[A\n",
      "7864it [15:57,  8.13it/s]5 [15:56<00:35,  7.95it/s]\u001b[A\n",
      "7865it [15:57,  8.33it/s]5 [15:57<00:34,  8.14it/s]\u001b[A\n",
      "7866it [15:57,  7.99it/s]5 [15:57<00:33,  8.32it/s]\u001b[A\n",
      "7867it [15:57,  8.06it/s]5 [15:57<00:34,  7.98it/s]\u001b[A\n",
      "7868it [15:57,  8.12it/s]5 [15:57<00:34,  8.06it/s]\u001b[A\n",
      "7869it [15:57,  8.19it/s]5 [15:57<00:34,  8.12it/s]\u001b[A\n",
      "7870it [15:57,  8.47it/s]5 [15:57<00:33,  8.18it/s]\u001b[A\n",
      "7871it [15:58,  8.24it/s]5 [15:57<00:32,  8.48it/s]\u001b[A\n",
      "7872it [15:58,  8.40it/s]5 [15:57<00:33,  8.25it/s]\u001b[A\n",
      "7873it [15:58,  7.97it/s]5 [15:58<00:32,  8.40it/s]\u001b[A\n",
      "7874it [15:58,  8.06it/s]5 [15:58<00:34,  7.96it/s]\u001b[A\n",
      "7875it [15:58,  6.61it/s]5 [15:58<00:33,  8.06it/s]\u001b[A\n",
      "7876it [15:58,  7.14it/s]5 [15:58<00:40,  6.61it/s]\u001b[A\n",
      "7877it [15:58,  7.12it/s]5 [15:58<00:37,  7.14it/s]\u001b[A\n",
      "7878it [15:59,  7.06it/s]5 [15:58<00:37,  7.12it/s]\u001b[A\n",
      "7879it [15:59,  6.66it/s]5 [15:58<00:37,  7.06it/s]\u001b[A\n",
      "7880it [15:59,  6.89it/s]5 [15:59<00:39,  6.66it/s]\u001b[A\n",
      "7881it [15:59,  6.98it/s]5 [15:59<00:38,  6.83it/s]\u001b[A\n",
      "7882it [15:59,  6.76it/s]5 [15:59<00:38,  6.94it/s]\u001b[A\n",
      "7883it [15:59,  7.33it/s]5 [15:59<00:39,  6.74it/s]\u001b[A\n",
      "7884it [15:59,  7.49it/s]5 [15:59<00:35,  7.32it/s]\u001b[A\n",
      "7885it [15:59,  7.39it/s]5 [15:59<00:34,  7.47it/s]\u001b[A\n",
      "7886it [16:00,  6.41it/s]5 [15:59<00:35,  7.38it/s]\u001b[A\n",
      "7887it [16:00,  5.82it/s]5 [16:00<00:40,  6.40it/s]\u001b[A\n",
      "7888it [16:00,  5.97it/s]5 [16:00<00:44,  5.85it/s]\u001b[A\n",
      "7889it [16:00,  6.50it/s]5 [16:00<00:43,  5.96it/s]\u001b[A\n",
      "7890it [16:00,  6.97it/s]5 [16:00<00:39,  6.48it/s]\u001b[A\n",
      "7891it [16:00,  7.33it/s]5 [16:00<00:36,  6.95it/s]\u001b[A\n",
      "7892it [16:01,  7.69it/s]5 [16:00<00:34,  7.32it/s]\u001b[A\n",
      "7893it [16:01,  7.54it/s]5 [16:00<00:32,  7.68it/s]\u001b[A\n",
      "7894it [16:01,  7.36it/s]5 [16:01<00:33,  7.55it/s]\u001b[A\n",
      "7895it [16:01,  6.88it/s]5 [16:01<00:34,  7.36it/s]\u001b[A\n",
      "7896it [16:01,  6.81it/s]5 [16:01<00:36,  6.88it/s]\u001b[A\n",
      "7897it [16:01,  6.86it/s]5 [16:01<00:36,  6.86it/s]\u001b[A\n",
      "7898it [16:01,  6.24it/s]5 [16:01<00:35,  6.90it/s]\u001b[A\n",
      "7899it [16:02,  6.41it/s]5 [16:01<00:39,  6.26it/s]\u001b[A\n",
      "7900it [16:02,  6.79it/s]5 [16:02<00:38,  6.42it/s]\u001b[A\n",
      "7901it [16:02,  7.27it/s]5 [16:02<00:36,  6.81it/s]\u001b[A\n",
      "7902it [16:02,  7.73it/s]5 [16:02<00:33,  7.28it/s]\u001b[A\n",
      "7903it [16:02,  7.75it/s]5 [16:02<00:31,  7.74it/s]\u001b[A\n",
      "7904it [16:02,  7.55it/s]5 [16:02<00:31,  7.75it/s]\u001b[A\n",
      "7905it [16:02,  8.14it/s]5 [16:02<00:31,  7.55it/s]\u001b[A\n",
      "7907it [16:03,  8.56it/s]5 [16:02<00:29,  8.15it/s]\u001b[A\n",
      "7909it [16:03,  9.00it/s]5 [16:02<00:27,  8.56it/s]\u001b[A\n",
      "7910it [16:03,  8.92it/s]5 [16:03<00:26,  9.01it/s]\u001b[A\n",
      "7912it [16:03,  9.62it/s]5 [16:03<00:26,  8.92it/s]\u001b[A\n",
      "7914it [16:03,  9.84it/s]5 [16:03<00:24,  9.62it/s]\u001b[A\n",
      "7916it [16:03,  9.29it/s]5 [16:03<00:23,  9.84it/s]\u001b[A\n",
      "7917it [16:04,  9.16it/s]5 [16:03<00:24,  9.26it/s]\u001b[A\n",
      "7919it [16:04, 10.15it/s]5 [16:04<00:24,  9.22it/s]\u001b[A\n",
      "7921it [16:04, 11.66it/s]5 [16:04<00:22, 10.20it/s]\u001b[A\n",
      "7924it [16:04, 13.44it/s]5 [16:04<00:19, 11.70it/s]\u001b[A\n",
      "7926it [16:04, 14.53it/s]5 [16:04<00:16, 13.48it/s]\u001b[A\n",
      "7928it [16:04, 11.93it/s]5 [16:04<00:15, 14.56it/s]\u001b[A\n",
      "7930it [16:05, 10.33it/s]5 [16:04<00:18, 11.94it/s]\u001b[A\n",
      "7932it [16:05,  9.67it/s]5 [16:05<00:20, 10.33it/s]\u001b[A\n",
      "7934it [16:05,  9.92it/s]5 [16:05<00:22,  9.67it/s]\u001b[A\n",
      "7936it [16:05,  9.03it/s]5 [16:05<00:21,  9.92it/s]\u001b[A\n",
      "7937it [16:05,  8.88it/s]5 [16:05<00:23,  9.03it/s]\u001b[A\n",
      "7938it [16:06,  8.72it/s]5 [16:05<00:23,  8.88it/s]\u001b[A\n",
      "7939it [16:06,  8.17it/s]5 [16:05<00:23,  8.72it/s]\u001b[A\n",
      "7940it [16:06,  8.10it/s]5 [16:06<00:25,  8.16it/s]\u001b[A\n",
      "7941it [16:06,  8.23it/s]5 [16:06<00:25,  8.10it/s]\u001b[A\n",
      "7942it [16:06,  8.11it/s]5 [16:06<00:24,  8.23it/s]\u001b[A\n",
      "7943it [16:06,  8.11it/s]5 [16:06<00:25,  8.11it/s]\u001b[A\n",
      "7944it [16:06,  8.46it/s]5 [16:06<00:24,  8.11it/s]\u001b[A\n",
      "7945it [16:06,  8.73it/s]5 [16:06<00:23,  8.45it/s]\u001b[A\n",
      "7947it [16:07,  9.14it/s]5 [16:06<00:22,  8.73it/s]\u001b[A\n",
      "7949it [16:07,  9.69it/s]5 [16:06<00:21,  9.14it/s]\u001b[A\n",
      "7951it [16:07,  9.90it/s]5 [16:07<00:20,  9.69it/s]\u001b[A\n",
      "7953it [16:07,  9.57it/s]5 [16:07<00:19,  9.90it/s]\u001b[A\n",
      "7954it [16:07,  9.11it/s]5 [16:07<00:20,  9.57it/s]\u001b[A\n",
      "7956it [16:07,  9.39it/s]5 [16:07<00:20,  9.11it/s]\u001b[A\n",
      "7958it [16:08,  9.35it/s]5 [16:07<00:20,  9.39it/s]\u001b[A\n",
      "7959it [16:08,  7.76it/s]5 [16:08<00:19,  9.35it/s]\u001b[A\n",
      "7960it [16:08,  8.11it/s]5 [16:08<00:23,  7.76it/s]\u001b[A\n",
      "7961it [16:08,  8.41it/s]5 [16:08<00:22,  8.12it/s]\u001b[A\n",
      "7962it [16:08,  8.66it/s]5 [16:08<00:21,  8.41it/s]\u001b[A\n",
      "7964it [16:08,  8.86it/s]5 [16:08<00:21,  8.66it/s]\u001b[A\n",
      "7965it [16:09,  7.25it/s]5 [16:08<00:20,  8.86it/s]\u001b[A\n",
      "7966it [16:09,  7.44it/s]5 [16:09<00:24,  7.25it/s]\u001b[A\n",
      "7968it [16:09,  8.18it/s]5 [16:09<00:24,  7.43it/s]\u001b[A\n",
      "7969it [16:09,  8.47it/s]5 [16:09<00:21,  8.18it/s]\u001b[A\n",
      "7970it [16:09,  7.95it/s]5 [16:09<00:20,  8.47it/s]\u001b[A\n",
      "7971it [16:09,  7.84it/s]5 [16:09<00:22,  7.95it/s]\u001b[A\n",
      "7973it [16:09,  8.46it/s]5 [16:09<00:22,  7.84it/s]\u001b[A\n",
      "7974it [16:10,  8.49it/s]5 [16:09<00:20,  8.46it/s]\u001b[A\n",
      "7976it [16:10,  8.68it/s]5 [16:10<00:20,  8.49it/s]\u001b[A\n",
      "7977it [16:10,  8.45it/s]5 [16:10<00:19,  8.68it/s]\u001b[A\n",
      "7978it [16:10,  8.63it/s]5 [16:10<00:19,  8.45it/s]\u001b[A\n",
      "7979it [16:10,  7.96it/s]5 [16:10<00:19,  8.63it/s]\u001b[A\n",
      "7980it [16:10,  7.81it/s]5 [16:10<00:20,  7.96it/s]\u001b[A\n",
      "7981it [16:10,  7.81it/s]5 [16:10<00:21,  7.81it/s]\u001b[A\n",
      "7982it [16:11,  7.33it/s]5 [16:10<00:21,  7.80it/s]\u001b[A\n",
      "7984it [16:11,  7.70it/s]5 [16:11<00:22,  7.33it/s]\u001b[A\n",
      "7985it [16:11,  8.25it/s]5 [16:11<00:20,  7.70it/s]\u001b[A\n",
      "7986it [16:11,  7.87it/s]5 [16:11<00:19,  8.25it/s]\u001b[A\n",
      "7987it [16:11,  7.85it/s]5 [16:11<00:20,  7.87it/s]\u001b[A\n",
      "7988it [16:11,  7.05it/s]5 [16:11<00:20,  7.85it/s]\u001b[A\n",
      "7989it [16:12,  7.14it/s]5 [16:11<00:22,  7.05it/s]\u001b[A\n",
      "7990it [16:12,  7.46it/s]5 [16:11<00:21,  7.14it/s]\u001b[A\n",
      "7991it [16:12,  6.97it/s]5 [16:12<00:20,  7.46it/s]\u001b[A\n",
      "7992it [16:12,  6.48it/s]5 [16:12<00:22,  6.97it/s]\u001b[A\n",
      "7993it [16:12,  6.87it/s]5 [16:12<00:23,  6.48it/s]\u001b[A\n",
      "7994it [16:12,  7.57it/s]5 [16:12<00:22,  6.87it/s]\u001b[A\n",
      "7995it [16:12,  8.16it/s]5 [16:12<00:19,  7.57it/s]\u001b[A\n",
      "7996it [16:12,  8.60it/s]5 [16:12<00:18,  8.15it/s]\u001b[A\n",
      "7997it [16:13,  8.53it/s]5 [16:12<00:17,  8.60it/s]\u001b[A\n",
      "7999it [16:13,  8.77it/s]5 [16:12<00:17,  8.53it/s]\u001b[A\n",
      "8000it [16:13,  8.57it/s]5 [16:13<00:16,  8.77it/s]\u001b[A\n",
      "8001it [16:13,  8.56it/s]5 [16:13<00:16,  8.57it/s]\u001b[A\n",
      "8002it [16:13,  8.77it/s]5 [16:13<00:16,  8.56it/s]\u001b[A\n",
      "8004it [16:13,  8.89it/s]5 [16:13<00:16,  8.77it/s]\u001b[A\n",
      "8005it [16:13,  8.86it/s]5 [16:13<00:15,  8.89it/s]\u001b[A\n",
      "8006it [16:14,  8.54it/s]5 [16:13<00:15,  8.86it/s]\u001b[A\n",
      "8008it [16:14,  9.02it/s]5 [16:14<00:16,  8.54it/s]\u001b[A\n",
      "8010it [16:14,  9.01it/s]5 [16:14<00:15,  9.02it/s]\u001b[A\n",
      "8011it [16:14,  8.81it/s]5 [16:14<00:14,  9.01it/s]\u001b[A\n",
      "8012it [16:14,  8.82it/s]5 [16:14<00:15,  8.81it/s]\u001b[A\n",
      "8013it [16:14,  9.13it/s]5 [16:14<00:15,  8.82it/s]\u001b[A\n",
      "8014it [16:14,  9.17it/s]5 [16:14<00:14,  9.13it/s]\u001b[A\n",
      "8015it [16:15,  8.73it/s]5 [16:14<00:14,  9.17it/s]\u001b[A\n",
      "8016it [16:15,  8.86it/s]5 [16:14<00:14,  8.74it/s]\u001b[A\n",
      "8017it [16:15,  9.13it/s]5 [16:15<00:14,  8.85it/s]\u001b[A\n",
      "8018it [16:15,  8.83it/s]5 [16:15<00:14,  9.13it/s]\u001b[A\n",
      "8019it [16:15,  9.13it/s]5 [16:15<00:14,  8.84it/s]\u001b[A\n",
      "8020it [16:15,  8.36it/s]5 [16:15<00:13,  9.13it/s]\u001b[A\n",
      "8021it [16:15,  8.55it/s]5 [16:15<00:14,  8.37it/s]\u001b[A\n",
      "8022it [16:15,  7.70it/s]5 [16:15<00:14,  8.55it/s]\u001b[A\n",
      "8023it [16:16,  6.83it/s]5 [16:15<00:15,  7.69it/s]\u001b[A\n",
      "8024it [16:16,  6.01it/s]5 [16:16<00:17,  6.82it/s]\u001b[A\n",
      "8025it [16:16,  6.25it/s]5 [16:16<00:20,  5.96it/s]\u001b[A\n",
      "8026it [16:16,  5.85it/s]5 [16:16<00:19,  6.27it/s]\u001b[A\n",
      "8027it [16:16,  6.59it/s]5 [16:16<00:20,  5.86it/s]\u001b[A\n",
      "8029it [16:16,  7.43it/s]5 [16:16<00:17,  6.60it/s]\u001b[A\n",
      "8030it [16:17,  6.52it/s]5 [16:16<00:15,  7.44it/s]\u001b[A\n",
      "8031it [16:17,  6.44it/s]5 [16:17<00:17,  6.53it/s]\u001b[A\n",
      "8032it [16:17,  6.84it/s]5 [16:17<00:17,  6.44it/s]\u001b[A\n",
      "8033it [16:17,  7.12it/s]5 [16:17<00:16,  6.84it/s]\u001b[A\n",
      "8034it [16:17,  7.36it/s]5 [16:17<00:15,  7.12it/s]\u001b[A\n",
      "8035it [16:17,  7.52it/s]5 [16:17<00:15,  7.36it/s]\u001b[A\n",
      "8036it [16:17,  7.62it/s]5 [16:17<00:14,  7.52it/s]\u001b[A\n",
      "8037it [16:18,  7.42it/s]5 [16:17<00:14,  7.62it/s]\u001b[A\n",
      "8038it [16:18,  6.97it/s]5 [16:18<00:14,  7.29it/s]\u001b[A\n",
      "8039it [16:18,  7.19it/s]5 [16:18<00:15,  7.01it/s]\u001b[A\n",
      "8040it [16:18,  7.31it/s]5 [16:18<00:14,  7.11it/s]\u001b[A\n",
      "8041it [16:18,  7.95it/s]5 [16:18<00:14,  7.36it/s]\u001b[A\n",
      "8043it [16:18,  8.70it/s]5 [16:18<00:13,  7.99it/s]\u001b[A\n",
      "8044it [16:18,  8.74it/s]5 [16:18<00:11,  8.74it/s]\u001b[A\n",
      "8045it [16:18,  8.92it/s]5 [16:18<00:11,  8.75it/s]\u001b[A\n",
      "8046it [16:19,  8.54it/s]5 [16:18<00:11,  8.95it/s]\u001b[A\n",
      "8047it [16:19,  8.56it/s]5 [16:19<00:11,  8.55it/s]\u001b[A\n",
      "8048it [16:19,  8.65it/s]5 [16:19<00:11,  8.57it/s]\u001b[A\n",
      "8049it [16:19,  8.93it/s]5 [16:19<00:11,  8.65it/s]\u001b[A\n",
      "8050it [16:19,  8.50it/s]5 [16:19<00:10,  8.94it/s]\u001b[A\n",
      "8051it [16:19,  8.30it/s]5 [16:19<00:11,  8.50it/s]\u001b[A\n",
      "8052it [16:19,  8.16it/s]5 [16:19<00:11,  8.30it/s]\u001b[A\n",
      "8053it [16:19,  8.28it/s]5 [16:19<00:11,  8.16it/s]\u001b[A\n",
      "8054it [16:20,  8.38it/s]5 [16:19<00:11,  8.28it/s]\u001b[A\n",
      "8055it [16:20,  8.30it/s]5 [16:20<00:10,  8.38it/s]\u001b[A\n",
      "8056it [16:20,  8.26it/s]5 [16:20<00:10,  8.30it/s]\u001b[A\n",
      "8057it [16:20,  8.65it/s]5 [16:20<00:10,  8.26it/s]\u001b[A\n",
      "8058it [16:20,  8.55it/s]5 [16:20<00:10,  8.65it/s]\u001b[A\n",
      "8059it [16:20,  8.66it/s]5 [16:20<00:10,  8.55it/s]\u001b[A\n",
      "8060it [16:20,  8.81it/s]5 [16:20<00:09,  8.65it/s]\u001b[A\n",
      "8061it [16:20,  7.93it/s]5 [16:20<00:09,  8.82it/s]\u001b[A\n",
      "8062it [16:21,  8.02it/s]5 [16:20<00:10,  7.92it/s]\u001b[A\n",
      "8063it [16:21,  7.67it/s]5 [16:20<00:10,  8.01it/s]\u001b[A\n",
      "8064it [16:21,  8.09it/s]5 [16:21<00:10,  7.68it/s]\u001b[A\n",
      "8065it [16:21,  8.41it/s]5 [16:21<00:10,  8.09it/s]\u001b[A\n",
      "8066it [16:21,  7.93it/s]5 [16:21<00:09,  8.39it/s]\u001b[A\n",
      "8067it [16:21,  7.01it/s]5 [16:21<00:09,  7.93it/s]\u001b[A\n",
      "8068it [16:21,  6.74it/s]5 [16:21<00:11,  7.01it/s]\u001b[A\n",
      "8069it [16:22,  7.05it/s]5 [16:21<00:11,  6.74it/s]\u001b[A\n",
      "8070it [16:22,  7.16it/s]5 [16:21<00:10,  7.06it/s]\u001b[A\n",
      "8071it [16:22,  7.53it/s]5 [16:22<00:10,  7.16it/s]\u001b[A\n",
      "8072it [16:22,  6.71it/s]5 [16:22<00:09,  7.53it/s]\u001b[A\n",
      "8073it [16:22,  6.69it/s]5 [16:22<00:10,  6.71it/s]\u001b[A\n",
      "8074it [16:22,  6.95it/s]5 [16:22<00:10,  6.69it/s]\u001b[A\n",
      "8075it [16:22,  7.06it/s]5 [16:22<00:10,  6.95it/s]\u001b[A\n",
      "8076it [16:22,  7.66it/s]5 [16:22<00:09,  7.06it/s]\u001b[A\n",
      "8077it [16:23,  7.19it/s]5 [16:22<00:09,  7.66it/s]\u001b[A\n",
      "8078it [16:23,  7.09it/s]5 [16:23<00:09,  7.19it/s]\u001b[A\n",
      "8080it [16:23,  7.94it/s]5 [16:23<00:09,  7.09it/s]\u001b[A\n",
      "8081it [16:23,  8.37it/s]5 [16:23<00:08,  7.94it/s]\u001b[A\n",
      "8082it [16:23,  8.71it/s]5 [16:23<00:07,  8.37it/s]\u001b[A\n",
      "8083it [16:23,  8.93it/s]5 [16:23<00:07,  8.71it/s]\u001b[A\n",
      "8084it [16:23,  9.01it/s]5 [16:23<00:06,  8.92it/s]\u001b[A\n",
      "8085it [16:23,  9.25it/s]5 [16:23<00:06,  9.01it/s]\u001b[A\n",
      "8086it [16:24,  8.02it/s]5 [16:23<00:06,  9.25it/s]\u001b[A\n",
      "8087it [16:24,  8.17it/s]5 [16:24<00:07,  8.02it/s]\u001b[A\n",
      "8089it [16:24,  8.78it/s]5 [16:24<00:07,  8.17it/s]\u001b[A\n",
      "8091it [16:24,  8.85it/s]5 [16:24<00:06,  8.78it/s]\u001b[A\n",
      "8092it [16:24,  8.71it/s]5 [16:24<00:06,  8.84it/s]\u001b[A\n",
      "8093it [16:24,  9.01it/s]5 [16:24<00:06,  8.71it/s]\u001b[A\n",
      "8095it [16:25,  9.49it/s]5 [16:24<00:05,  9.01it/s]\u001b[A\n",
      "8096it [16:25,  8.96it/s]5 [16:25<00:05,  9.50it/s]\u001b[A\n",
      "8097it [16:25,  9.05it/s]5 [16:25<00:05,  8.96it/s]\u001b[A\n",
      "8098it [16:25,  8.47it/s]5 [16:25<00:05,  9.05it/s]\u001b[A\n",
      "8099it [16:25,  8.60it/s]5 [16:25<00:05,  8.47it/s]\u001b[A\n",
      "8100it [16:25,  6.28it/s]5 [16:25<00:05,  8.59it/s]\u001b[A\n",
      "8101it [16:26,  5.65it/s]5 [16:25<00:07,  6.28it/s]\u001b[A\n",
      "8102it [16:26,  6.12it/s]5 [16:25<00:07,  5.65it/s]\u001b[A\n",
      "8103it [16:26,  6.84it/s]5 [16:26<00:07,  6.12it/s]\u001b[A\n",
      "8105it [16:26,  7.73it/s]5 [16:26<00:06,  6.84it/s]\u001b[A\n",
      "8107it [16:26,  8.34it/s]5 [16:26<00:05,  7.73it/s]\u001b[A\n",
      "8108it [16:26,  8.59it/s]5 [16:26<00:04,  8.34it/s]\u001b[A\n",
      "8109it [16:26,  8.48it/s]5 [16:26<00:04,  8.59it/s]\u001b[A\n",
      "8111it [16:27,  8.99it/s]5 [16:26<00:04,  8.48it/s]\u001b[A\n",
      "8112it [16:27,  9.26it/s]5 [16:27<00:03,  8.99it/s]\u001b[A\n",
      "8113it [16:27,  9.27it/s]5 [16:27<00:03,  9.26it/s]\u001b[A\n",
      "8114it [16:27,  7.99it/s]5 [16:27<00:03,  9.27it/s]\u001b[A\n",
      "8115it [16:27,  8.03it/s]5 [16:27<00:03,  7.98it/s]\u001b[A\n",
      "8116it [16:27,  7.43it/s]5 [16:27<00:03,  8.03it/s]\u001b[A\n",
      "8117it [16:27,  7.67it/s]5 [16:27<00:03,  7.44it/s]\u001b[A\n",
      "8118it [16:27,  7.63it/s]5 [16:27<00:03,  7.67it/s]\u001b[A\n",
      "8119it [16:28,  7.96it/s]5 [16:27<00:03,  7.62it/s]\u001b[A\n",
      "8120it [16:28,  8.14it/s]5 [16:28<00:03,  7.96it/s]\u001b[A\n",
      "8121it [16:28,  8.61it/s]5 [16:28<00:03,  8.14it/s]\u001b[A\n",
      "8122it [16:28,  8.62it/s]5 [16:28<00:02,  8.62it/s]\u001b[A\n",
      "8123it [16:28,  8.33it/s]5 [16:28<00:02,  8.62it/s]\u001b[A\n",
      "8124it [16:28,  8.05it/s]5 [16:28<00:02,  8.33it/s]\u001b[A\n",
      "8125it [16:28,  8.12it/s]5 [16:28<00:02,  8.05it/s]\u001b[A\n",
      "8126it [16:28,  8.24it/s]5 [16:28<00:02,  8.13it/s]\u001b[A\n",
      "8127it [16:29,  8.33it/s]5 [16:28<00:02,  8.24it/s]\u001b[A\n",
      "8128it [16:29,  8.22it/s]5 [16:28<00:02,  8.33it/s]\u001b[A\n",
      "8129it [16:29,  8.18it/s]5 [16:29<00:02,  8.22it/s]\u001b[A\n",
      "8130it [16:29,  8.34it/s]5 [16:29<00:01,  8.18it/s]\u001b[A\n",
      "8132it [16:29,  8.55it/s]5 [16:29<00:01,  8.34it/s]\u001b[A\n",
      "8133it [16:29,  8.53it/s]5 [16:29<00:01,  8.55it/s]\u001b[A\n",
      "8135it [16:29,  8.99it/s]5 [16:29<00:01,  8.53it/s]\u001b[A\n",
      "8136it [16:30,  9.14it/s]5 [16:29<00:01,  8.99it/s]\u001b[A\n",
      "8137it [16:30,  9.13it/s]5 [16:29<00:00,  9.15it/s]\u001b[A\n",
      "8138it [16:30,  8.99it/s]5 [16:30<00:00,  9.13it/s]\u001b[A\n",
      "8139it [16:30,  8.77it/s]5 [16:30<00:00,  8.98it/s]\u001b[A\n",
      "8140it [16:30,  8.26it/s]5 [16:30<00:00,  8.77it/s]\u001b[A\n",
      "8141it [16:30,  8.70it/s]5 [16:30<00:00,  8.26it/s]\u001b[A\n",
      "8142it [16:30,  8.72it/s]5 [16:30<00:00,  8.70it/s]\u001b[A\n",
      "8143it [16:30,  8.63it/s]5 [16:30<00:00,  8.72it/s]\u001b[A\n",
      "8144it [16:30,  8.55it/s]5 [16:30<00:00,  8.63it/s]\u001b[A\n",
      "8145it [16:31,  8.14it/s]5 [16:30<00:00,  8.54it/s]\u001b[A\n",
      "100%|██████████| 8145/8145 [16:31<00:00,  8.22it/s]\u001b[A\n",
      "8145it [16:31,  8.22it/s]"
     ]
    },
    {
     "name": "stdout",
     "output_type": "stream",
     "text": [
      "cost_time: 991.1459290981293\n"
     ]
    },
    {
     "name": "stderr",
     "output_type": "stream",
     "text": [
      "\n"
     ]
    }
   ],
   "source": [
    "import time\n",
    "start_time=time.time()\n",
    "data_path='./squad_v2/train-v2.0.json'\n",
    "vocab_path=\"./pretrained_model/bert-base-uncased\"\n",
    "squad_dataset=SquadDataset2(data_path=data_path,vocab_path=vocab_path)\n",
    "print('building_time:',time.time()-start_time)\n",
    "\n",
    "start_time=time.time()\n",
    "device='cuda:0' if torch.cuda.is_available() else 'cpu'\n",
    "for i,batch in tqdm(enumerate(squad_dataset.get_batched_data())):\n",
    "    batch = tuple(t.to(device) for t in batch)\n",
    "    if i==0:\n",
    "        print(batch[0].shape,batch[-1].shape)\n",
    "# (input_ids_padded,token_type_ids_padded,attention_mask_padded,labels)\n",
    "print('cost_time:',time.time()-start_time)"
   ]
  },
  {
   "cell_type": "markdown",
   "metadata": {},
   "source": [
    "# Another way of multiprocessing data"
   ]
  },
  {
   "cell_type": "code",
   "execution_count": 17,
   "metadata": {},
   "outputs": [],
   "source": [
    "def get_new_examples(part_datas):\n",
    "    examples=[]\n",
    "    for data in part_datas:\n",
    "        title=data['title']\n",
    "        for paragraph in data['paragraphs']:\n",
    "            context=paragraph['context']\n",
    "            for qa in paragraph['qas']:\n",
    "                qid=qa['id']\n",
    "                question=qa['question']\n",
    "                is_impossible=qa['is_impossible']\n",
    "                if is_impossible:\n",
    "                    current_example={'qas_id':qid,'question_text':question,'context_text':context,'is_impossible':is_impossible,'answer_text':''}\n",
    "                    examples.append(current_example)\n",
    "                else:\n",
    "                    for answer in qa['answers']:\n",
    "                        text=answer['text']    \n",
    "                        answer=answer['answer_start']\n",
    "                        current_example={'qas_id':qid,'question_text':question,'context_text':context,'is_impossible':is_impossible,'answer_text':text}\n",
    "                        examples.append(current_example)\n",
    "    return examples"
   ]
  },
  {
   "cell_type": "code",
   "execution_count": 18,
   "metadata": {},
   "outputs": [
    {
     "name": "stderr",
     "output_type": "stream",
     "text": [
      "100%|██████████| 64/64 [13:31<00:00, 12.68s/it]\n"
     ]
    },
    {
     "name": "stdout",
     "output_type": "stream",
     "text": [
      "time cost: 842.3723742961884\n"
     ]
    }
   ],
   "source": [
    "from multiprocessing import Pool\n",
    "import multiprocessing\n",
    "import math\n",
    "import time\n",
    "start_time=time.time()\n",
    "data_path='./squad_v2/train-v2.0.json'\n",
    "with open(data_path,'r',encoding='utf-8') as f:\n",
    "    dataset=json.load(f)\n",
    "    all_data=dataset['data']\n",
    "def process_func(data, index, size):  # data 传入数据，index 数据分片索引，size进程数\n",
    "    size = math.ceil(len(data) / size)\n",
    "    start = size * index\n",
    "    end = (index + 1) * size if (index + 1) * size < len(data) else len(data)\n",
    "    temp_data = data[start:end]\n",
    "    return get_new_examples(temp_data)\n",
    "processor=multiprocessing.cpu_count()\n",
    "p=Pool(processor)\n",
    "all_examples=[]\n",
    "for i in tqdm(range(processor)):\n",
    "    all_examples+=p.apply_async(process_func,args=(all_data,i,processor,)).get()\n",
    "p.close()\n",
    "p.join()\n",
    "print('time cost:',time.time()-start_time)"
   ]
  },
  {
   "cell_type": "markdown",
   "metadata": {},
   "source": [
    "# Different way of building dataset for squad data.\n",
    "We study different ways of building dataset for squad data, these ways can also be used in other relevant application, we also make full use of the multiprocessor to process the data, this way of doing can really increase the efficiency of preprocessing.\n",
    "\n",
    "\n",
    "## Packages\n",
    "- Torch\n",
    "- multiprocessing\n",
    "- math\n",
    "- json\n",
    "- transformers\n",
    "- numpy\n",
    "\n",
    "## The following ways of building dataset for squad data are studied in this repository:\n",
    "- 1) Using built-in function from transformers to create the dataloader for squad\n",
    "\n",
    "- 2) Building a new dataset inherited from torch.utils.data.Dataset.\n",
    "\n",
    "- 3) Building a new dataset by python yield way.\n",
    "\n",
    "- 4) Another way of multiprocessing data.\n",
    "\n",
    "\n",
    "## Special code\n",
    "```python\n",
    "# Using built-in function from transformers to create the dataset for squad\n",
    "tokenizer = BertTokenizer.from_pretrained(bert_dir)\n",
    "processor = SquadV2Processor()\n",
    "train_examples = processor.get_train_examples(squad_v2_data_dir,'train-v2.0.json')\n",
    "# the following code can be used to query the internal element of one class\n",
    "dir(train_examples[0])\n",
    "train_features, train_dataset = squad_convert_examples_to_features(\n",
    "            examples=train_examples,\n",
    "            tokenizer=tokenizer,\n",
    "            max_seq_length=384,\n",
    "            doc_stride=128,\n",
    "            max_query_length=64,\n",
    "            is_training=True,\n",
    "            return_dataset=\"pt\",\n",
    "            threads=multiprocessing.cpu_count(),\n",
    "        )\n",
    "# Using multiprocessing to process the squad data\n",
    "from multiprocessing import Pool\n",
    "def get_samples(self,data_path):\n",
    "    with open(data_path,'r',encoding='utf-8') as f:\n",
    "        dataset=json.load(f)\n",
    "        all_data=dataset['data']\n",
    "    processor=multiprocessing.cpu_count()\n",
    "    p=Pool(processor)\n",
    "    result_list=p.map(self.get_examples_from_data,all_data)\n",
    "    all_examples=[]\n",
    "    for examples in result_list:\n",
    "        all_examples+=examples\n",
    "    p.close()\n",
    "    return all_examples\n",
    "# The core code of building a new dataset by python yield way.\n",
    " def collate_func(self,batch):\n",
    "        def padding(indices,max_length,pad_idx=0):\n",
    "            pad_indices=[item+[pad_idx]*max(0,max_length-len(item)) for item in indices]\n",
    "            return pad_indices\n",
    "    #     input_ids=[output['input_ids'] for output,label in batch]\n",
    "    #     max_length=max([len(t) for t in input_ids])\n",
    "    #     labels=torch.tensor([label for output,label in batch])\n",
    "    #     token_type_ids=[output['token_type_ids'] for output,label in batch]\n",
    "    #     attention_mask=[output['attention_mask'] for output,label in batch]\n",
    "\n",
    "        result=[(output['input_ids'],output['token_type_ids'],output['attention_mask'],label) for (output,label) in batch]\n",
    "        input_ids,token_type_ids,attention_mask,labels=zip(*result)\n",
    "        labels=labels\n",
    "        max_length=max([len(t) for t in input_ids])\n",
    "\n",
    "        input_ids_padded=padding(input_ids,max_length)\n",
    "        token_type_ids_padded=padding(token_type_ids,max_length)\n",
    "        attention_mask_padded=padding(attention_mask,max_length)\n",
    "        return input_ids_padded,token_type_ids_padded,attention_mask_padded,labels\n",
    "    def get_batched_data(self):\n",
    "        for index in tqdm(range(self.total_batches)):\n",
    "            start = self.batch_size * index\n",
    "            end = (index + 1) * self.batch_size if (index + 1) * self.batch_size < self.total_samples else self.total_samples\n",
    "            temp_data = self.data_samples[start:end]\n",
    "            # processor=multiprocessing.cpu_count()\n",
    "            # p=Pool(processor)\n",
    "            batch=map(self.get_answer_position,temp_data)\n",
    "            # p.close()\n",
    "            input_ids_batched,token_type_ids_batched,attention_mask_batched,labels_batched=self.collate_func(batch)\n",
    "            yield torch.tensor(input_ids_batched),torch.tensor(token_type_ids_batched),torch.tensor(attention_mask_batched),torch.tensor(labels_batched)\n",
    "            \n",
    "# Another way of multiprocessing data.\n",
    "with open(data_path,'r',encoding='utf-8') as f:\n",
    "    dataset=json.load(f)\n",
    "    all_data=dataset['data']\n",
    "def process_func(data, index, size):  # data 传入数据，index 数据分片索引，size进程数\n",
    "    size = math.ceil(len(data) / size)\n",
    "    start = size * index\n",
    "    end = (index + 1) * size if (index + 1) * size < len(data) else len(data)\n",
    "    temp_data = data[start:end]\n",
    "    return get_new_examples(temp_data)\n",
    "processor=multiprocessing.cpu_count()\n",
    "p=Pool(processor)\n",
    "all_examples=[]\n",
    "for i in tqdm(range(processor)):\n",
    "    all_examples+=p.apply_async(process_func,args=(all_data,i,processor,)).get()\n",
    "p.close()\n",
    "p.join()\n",
    "```"
   ]
  },
  {
   "cell_type": "code",
   "execution_count": null,
   "metadata": {},
   "outputs": [],
   "source": []
  }
 ],
 "metadata": {
  "kernelspec": {
   "display_name": "Python 3",
   "language": "python",
   "name": "python3"
  },
  "language_info": {
   "codemirror_mode": {
    "name": "ipython",
    "version": 3
   },
   "file_extension": ".py",
   "mimetype": "text/x-python",
   "name": "python",
   "nbconvert_exporter": "python",
   "pygments_lexer": "ipython3",
   "version": "3.7.6"
  }
 },
 "nbformat": 4,
 "nbformat_minor": 4
}
